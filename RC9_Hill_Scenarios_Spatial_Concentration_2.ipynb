{
 "cells": [
  {
   "cell_type": "raw",
   "metadata": {},
   "source": [
    "Purpose: Script that calculates the following for INTSFU (Intersected FU) spatial visualisation\n",
    "    \n",
    "    1. Conc g/l\n",
    "\n",
    "Author: Cameron Dougall\n",
    "\n",
    "Inputs: 1. Scenario Directory =  eg, 'D:/a_sc_p2r_b_rc9/Model_runs/Burdekin Rebuild 2014'\n",
    "        2. Relevant Scenarios = eg, ['BU_RC9_BL_3_Hill_1','BU_RC9_BL_3_Hill_2']\n",
    "        3. Spatial Output = eg, 'D:/a_sc_p2r_b_rc9/Model_runs/Burdekin Rebuild 2014/Hill_Scenarios_Concentration.csv'\n",
    "        4. Burdekin_intSCFU = \"d:/a_sc_p2r_b_rc9/Configuration/BU_intSCFU.csv\"\n",
    "         \n",
    "Outputs: 1. Conc g/l\n",
    "         \n",
    "\n",
    "Brief description: \n",
    " \n",
    "For this script, the default scenario results set contains the following tables of interest \n",
    "\n",
    "1. RawResults.csv - Total_Load_in_kg by (Constituent, ModelElementType, ModelElement, FU, BudgetElement, Process)  \n",
    "2. climateTable.csv - Depth_m by (Catchment, FU, Element(Rainfall, Actual ET, Runoff Quickflow))\n",
    "3. fuAreasTable.csv - Area (m2) by (FU, Catchment)\n",
    " \n",
    "\n",
    "To calculate the values at a INTSFU scale, this script does the following\n",
    "\n",
    "1. Loads a RawResults file and filters out fine sediment hillslope erosion\n",
    "2. Loads a Fuareas table\n",
    "3. Transforms the INTSFU values into a total volume m3 [total volume (m3) = depth (m) * area (m2)]\n",
    "4. Divides load by volume to create a concentration in g/L\n",
    "5. This process is recorded as a function, which in turn looped through each scenario, outputs to a dictionary\n",
    "6. Loads in a intsFu table, removes superfluous columns and set Catchment FU cols as index\n",
    "7. Each scenario is recovered from the dictionary, and together and exported to a csv\n",
    "\n",
    "Quality control:\n",
    " \n",
    "I have independently recreated and tested the calculations in Access, however I suggest you independently check the calculations yourself\n",
    "\n",
    "Useful Improvements for more skilled coders\n",
    "\n",
    "1. Create a loop to better join the output, see bottom of script as this has to be manually added\n"
   ]
  },
  {
   "cell_type": "code",
   "execution_count": 18,
   "metadata": {
    "collapsed": false
   },
   "outputs": [
    {
     "name": "stdout",
     "output_type": "stream",
     "text": [
      "Populating the interactive namespace from numpy and matplotlib\n"
     ]
    }
   ],
   "source": [
    "# Some steps required until these Python modules are properly installed...\n",
    "#\n",
    "import sys\n",
    "import shutil\n",
    "import glob\n",
    "%pylab inline\n",
    "import pandas as pd\n",
    "import os\n",
    "#\n",
    "sys.path.append('../../../Modules')\n",
    "sys.path.append('../../../../veneer-py')\n",
    "# Get the Source scripting components (veneer) and GBR specific stuff\n",
    "#\n",
    "import veneer\n",
    "import gbr"
   ]
  },
  {
   "cell_type": "code",
   "execution_count": 19,
   "metadata": {
    "collapsed": false
   },
   "outputs": [],
   "source": [
    "### Declare variables of interest\n",
    "#\n",
    "Scenario_Directory = 'D:/a_sc_p2r_b_rc9/Model_runs/Burdekin Rebuild 2014'\n",
    "Relevant_Scenarios = ['BU_RC9_BL_3_Hill_1','BU_RC9_BL_3_Hill_2','BU_RC9_BL_3_Hill_3','BU_RC9_BL_3_Hill_4']\n",
    "Spatial_Output = 'D:/a_sc_p2r_b_rc9/Model_runs/Burdekin Rebuild 2014/Hill_Scenarios_Concentration.csv'\n",
    "\n",
    "Burdekin_intSCFU = \"d:/a_sc_p2r_b_rc9/Configuration/BU_intSCFU.csv\"\n",
    "\n",
    "# Warning, You will have to manually add the retrivial and joining of the scenarios, till someone writes a loop,\n",
    "# See bottom cells for a better explanaton\n"
   ]
  },
  {
   "cell_type": "code",
   "execution_count": 20,
   "metadata": {
    "collapsed": false
   },
   "outputs": [
    {
     "data": {
      "text/html": [
       "<div>\n",
       "<table border=\"1\" class=\"dataframe\">\n",
       "  <thead>\n",
       "    <tr style=\"text-align: right;\">\n",
       "      <th></th>\n",
       "      <th></th>\n",
       "      <th>Constituent</th>\n",
       "      <th>ModelElementType</th>\n",
       "      <th>Process</th>\n",
       "      <th>Load_t</th>\n",
       "    </tr>\n",
       "    <tr>\n",
       "      <th>Catchment</th>\n",
       "      <th>FU</th>\n",
       "      <th></th>\n",
       "      <th></th>\n",
       "      <th></th>\n",
       "      <th></th>\n",
       "    </tr>\n",
       "  </thead>\n",
       "  <tbody>\n",
       "    <tr>\n",
       "      <th>SC #1608</th>\n",
       "      <th>Grazing Forested</th>\n",
       "      <td>Sediment - Fine</td>\n",
       "      <td>Catchment</td>\n",
       "      <td>Supply</td>\n",
       "      <td>9894.917536</td>\n",
       "    </tr>\n",
       "  </tbody>\n",
       "</table>\n",
       "</div>"
      ],
      "text/plain": [
       "                                Constituent ModelElementType Process  \\\n",
       "Catchment FU                                                           \n",
       "SC #1608  Grazing Forested  Sediment - Fine        Catchment  Supply   \n",
       "\n",
       "                                 Load_t  \n",
       "Catchment FU                             \n",
       "SC #1608  Grazing Forested  9894.917536  "
      ]
     },
     "execution_count": 20,
     "metadata": {},
     "output_type": "execute_result"
    }
   ],
   "source": [
    "# Get an example scenario results set\n",
    "#\n",
    "gbr.init(Scenario_Directory)\n",
    "results = gbr.Results('BU_RC9_BL_3_Hill_1')\n",
    "Raw_Results = results.get('RawResults')\n",
    "Raw_Results = Raw_Results.reset_index()\n",
    "#\n",
    "# Filter out zero values\n",
    "#\n",
    "Raw_Results = Raw_Results[Raw_Results>0].dropna()\n",
    "#\n",
    "# Filter fine sediment hillslope surface soil load \n",
    "# \n",
    "Hillslope_surface_soil = Raw_Results[Raw_Results.Constituent=='Sediment - Fine']\n",
    "Hillslope_surface_soil = Hillslope_surface_soil[Hillslope_surface_soil.ModelElementType=='Catchment']\n",
    "Hillslope_surface_soil = Hillslope_surface_soil[Hillslope_surface_soil.BudgetElement=='Hillslope surface soil']\n",
    "#\n",
    "# Calculate fine sediment hillslope surface soil load Load (t)\n",
    "#\n",
    "Hillslope_surface_soil.reset_index(inplace=True)\n",
    "Hillslope_surface_soil['Load_t'] = (Hillslope_surface_soil['Total_Load_in_Kg'])/1000\n",
    "Hillslope_surface_soil = Hillslope_surface_soil.set_index(['ModelElement','FU'])\n",
    "#\n",
    "# Remove superfluous columns\n",
    "#\n",
    "Hillslope_surface_soil = Hillslope_surface_soil[['Constituent','ModelElementType','Process','Load_t']]\n",
    "#\n",
    "# Rename and Set index by Catchment FU columns\n",
    "#\n",
    "Hillslope_surface_soil.reset_index(inplace=True)\n",
    "Hillslope_surface_soil = Hillslope_surface_soil.rename(columns={'ModelElement': 'Catchment'})\n",
    "Hillslope_surface_soil = Hillslope_surface_soil.set_index(['Catchment','FU'])\n",
    "Hillslope_surface_soil [0:1]"
   ]
  },
  {
   "cell_type": "code",
   "execution_count": 21,
   "metadata": {
    "collapsed": false
   },
   "outputs": [
    {
     "data": {
      "text/html": [
       "<div>\n",
       "<table border=\"1\" class=\"dataframe\">\n",
       "  <thead>\n",
       "    <tr style=\"text-align: right;\">\n",
       "      <th></th>\n",
       "      <th></th>\n",
       "      <th>Area</th>\n",
       "    </tr>\n",
       "    <tr>\n",
       "      <th>Catchment</th>\n",
       "      <th>FU</th>\n",
       "      <th></th>\n",
       "    </tr>\n",
       "  </thead>\n",
       "  <tbody>\n",
       "    <tr>\n",
       "      <th>SC #1608</th>\n",
       "      <th>Water</th>\n",
       "      <td>4.386668e+06</td>\n",
       "    </tr>\n",
       "  </tbody>\n",
       "</table>\n",
       "</div>"
      ],
      "text/plain": [
       "                         Area\n",
       "Catchment FU                 \n",
       "SC #1608  Water  4.386668e+06"
      ]
     },
     "execution_count": 21,
     "metadata": {},
     "output_type": "execute_result"
    }
   ],
   "source": [
    "# Get the 'fuAreasTable' for area and volume calculations\n",
    "Area = results.get('fuAreasTable')\n",
    "Area = Area.reset_index()\n",
    "# Remove zero values from 'fuAreasTable', in order to remove redundant scenario place holder FU\n",
    "Area = Area[Area>0].dropna()\n",
    "# Calc area in ha\n",
    "# Set index as Catchment and FU \n",
    "Area = Area.set_index(['Catchment','FU'])\n",
    "Area [0:1]"
   ]
  },
  {
   "cell_type": "code",
   "execution_count": 22,
   "metadata": {
    "collapsed": false
   },
   "outputs": [
    {
     "data": {
      "text/html": [
       "<div>\n",
       "<table border=\"1\" class=\"dataframe\">\n",
       "  <thead>\n",
       "    <tr style=\"text-align: right;\">\n",
       "      <th></th>\n",
       "      <th>Element</th>\n",
       "      <th>Actual ET</th>\n",
       "      <th>Baseflow</th>\n",
       "      <th>Rainfall</th>\n",
       "      <th>Runoff (QuickFlow)</th>\n",
       "      <th>Total_Runoff</th>\n",
       "    </tr>\n",
       "    <tr>\n",
       "      <th>Catchment</th>\n",
       "      <th>FU</th>\n",
       "      <th></th>\n",
       "      <th></th>\n",
       "      <th></th>\n",
       "      <th></th>\n",
       "      <th></th>\n",
       "    </tr>\n",
       "  </thead>\n",
       "  <tbody>\n",
       "    <tr>\n",
       "      <th>SC #10</th>\n",
       "      <th>Conservation</th>\n",
       "      <td>7.808681e+08</td>\n",
       "      <td>5.545803e+07</td>\n",
       "      <td>1.143753e+09</td>\n",
       "      <td>3.041031e+08</td>\n",
       "      <td>3.595611e+08</td>\n",
       "    </tr>\n",
       "  </tbody>\n",
       "</table>\n",
       "</div>"
      ],
      "text/plain": [
       "Element                    Actual ET      Baseflow      Rainfall  \\\n",
       "Catchment FU                                                       \n",
       "SC #10    Conservation  7.808681e+08  5.545803e+07  1.143753e+09   \n",
       "\n",
       "Element                 Runoff (QuickFlow)  Total_Runoff  \n",
       "Catchment FU                                              \n",
       "SC #10    Conservation        3.041031e+08  3.595611e+08  "
      ]
     },
     "execution_count": 22,
     "metadata": {},
     "output_type": "execute_result"
    }
   ],
   "source": [
    "# Get the climateTable as we are chasing hydro results\n",
    "#\n",
    "Climate = results.get('climateTable')\n",
    "Climate = Climate.reset_index()\n",
    "# Remove zero values from climateTable, in order to remove redundant scenario place holder FU\n",
    "#\n",
    "Climate = Climate[Climate>0].dropna()\n",
    "Climate [0:1]\n",
    "# Merge climate and area table together to allow a calculation of total volume \n",
    "#\n",
    "Area = Area.reset_index()\n",
    "Climate_Area = pd.merge(Climate,Area, on=['Catchment','FU'])\n",
    "Climate_Area [0:1]\n",
    "# Calculate a 'Total_Volume_m3' column - Total_Volume_m3 = Depth (m) * Area (m2) \n",
    "#\n",
    "Climate_Area['Total_Volume_m3'] = Climate_Area['Depth_m'] * Climate_Area['Area']\n",
    "Climate_Volume = Climate_Area\n",
    "# Pivot Catchment and FU as index\n",
    "#\n",
    "Climate_Volume = pd.pivot_table(Climate_Volume, index = ['Catchment','FU'], columns = 'Element', values = 'Total_Volume_m3', aggfunc=np.sum)\n",
    "Climate_Volume.reset_index()\n",
    "Climate_Volume [0:3]\n",
    "# Calculate Total Runoff column - Baseflow + Quickflow\n",
    "#\n",
    "Climate_Volume['Total_Runoff'] = Climate_Volume['Baseflow'] + Climate_Volume['Runoff (QuickFlow)']\n",
    "Climate_Volume = Climate_Volume.reset_index()\n",
    "Climate_Volume = Climate_Volume.set_index(['Catchment','FU'])\n",
    "Climate_Volume [0:1]"
   ]
  },
  {
   "cell_type": "code",
   "execution_count": 23,
   "metadata": {
    "collapsed": false
   },
   "outputs": [
    {
     "data": {
      "text/html": [
       "<div>\n",
       "<table border=\"1\" class=\"dataframe\">\n",
       "  <thead>\n",
       "    <tr style=\"text-align: right;\">\n",
       "      <th></th>\n",
       "      <th></th>\n",
       "      <th>Constituent</th>\n",
       "      <th>ModelElementType</th>\n",
       "      <th>Process</th>\n",
       "      <th>Load_t</th>\n",
       "      <th>Actual ET</th>\n",
       "      <th>Baseflow</th>\n",
       "      <th>Rainfall</th>\n",
       "      <th>Runoff (QuickFlow)</th>\n",
       "      <th>Total_Runoff</th>\n",
       "    </tr>\n",
       "    <tr>\n",
       "      <th>Catchment</th>\n",
       "      <th>FU</th>\n",
       "      <th></th>\n",
       "      <th></th>\n",
       "      <th></th>\n",
       "      <th></th>\n",
       "      <th></th>\n",
       "      <th></th>\n",
       "      <th></th>\n",
       "      <th></th>\n",
       "      <th></th>\n",
       "    </tr>\n",
       "  </thead>\n",
       "  <tbody>\n",
       "    <tr>\n",
       "      <th>SC #1608</th>\n",
       "      <th>Grazing Forested</th>\n",
       "      <td>Sediment - Fine</td>\n",
       "      <td>Catchment</td>\n",
       "      <td>Supply</td>\n",
       "      <td>9894.917536</td>\n",
       "      <td>2.585894e+09</td>\n",
       "      <td>3.545974e+08</td>\n",
       "      <td>3.661731e+09</td>\n",
       "      <td>6.730334e+08</td>\n",
       "      <td>1.027631e+09</td>\n",
       "    </tr>\n",
       "  </tbody>\n",
       "</table>\n",
       "</div>"
      ],
      "text/plain": [
       "                                Constituent ModelElementType Process  \\\n",
       "Catchment FU                                                           \n",
       "SC #1608  Grazing Forested  Sediment - Fine        Catchment  Supply   \n",
       "\n",
       "                                 Load_t     Actual ET      Baseflow  \\\n",
       "Catchment FU                                                          \n",
       "SC #1608  Grazing Forested  9894.917536  2.585894e+09  3.545974e+08   \n",
       "\n",
       "                                Rainfall  Runoff (QuickFlow)  Total_Runoff  \n",
       "Catchment FU                                                                \n",
       "SC #1608  Grazing Forested  3.661731e+09        6.730334e+08  1.027631e+09  "
      ]
     },
     "execution_count": 23,
     "metadata": {},
     "output_type": "execute_result"
    }
   ],
   "source": [
    "# Calculate Concentration\n",
    "#\n",
    "# Merge with load to facilitate Concentration Calculation\n",
    "Load_and_Volume = Hillslope_surface_soil.join(Climate_Volume)\n",
    "Load_and_Volume [0:1]"
   ]
  },
  {
   "cell_type": "code",
   "execution_count": 24,
   "metadata": {
    "collapsed": false
   },
   "outputs": [
    {
     "data": {
      "text/html": [
       "<div>\n",
       "<table border=\"1\" class=\"dataframe\">\n",
       "  <thead>\n",
       "    <tr style=\"text-align: right;\">\n",
       "      <th></th>\n",
       "      <th></th>\n",
       "      <th>FS_G_L</th>\n",
       "    </tr>\n",
       "    <tr>\n",
       "      <th>Catchment</th>\n",
       "      <th>FU</th>\n",
       "      <th></th>\n",
       "    </tr>\n",
       "  </thead>\n",
       "  <tbody>\n",
       "    <tr>\n",
       "      <th>SC #1608</th>\n",
       "      <th>Grazing Forested</th>\n",
       "      <td>0.009629</td>\n",
       "    </tr>\n",
       "  </tbody>\n",
       "</table>\n",
       "</div>"
      ],
      "text/plain": [
       "                              FS_G_L\n",
       "Catchment FU                        \n",
       "SC #1608  Grazing Forested  0.009629"
      ]
     },
     "execution_count": 24,
     "metadata": {},
     "output_type": "execute_result"
    }
   ],
   "source": [
    "# Calculate fine sediment - hillslope surface soil load (g/L)\n",
    "#\n",
    "Load_and_Volume[\"FS_G_L\"] = (Load_and_Volume.Load_t*1000000)/(Load_and_Volume.Total_Runoff*1000)\n",
    "Load_and_Volume [0:1]\n",
    "#  Remove superfluous columns and set Catchment FU cols as index \n",
    "#\n",
    "Conc = Load_and_Volume.drop(['Constituent','ModelElementType','Process','Load_t','Actual ET','Baseflow','Rainfall','Runoff (QuickFlow)','Total_Runoff'], axis=1)\n",
    "Conc [0:1]"
   ]
  },
  {
   "cell_type": "code",
   "execution_count": 25,
   "metadata": {
    "collapsed": true
   },
   "outputs": [],
   "source": [
    "# Translating it to a reusable function\n",
    "# \n",
    "def ScenResults(results):\n",
    "    Raw_Results = results.get('RawResults')\n",
    "    Raw_Results = Raw_Results.reset_index()\n",
    "    #\n",
    "    # Filter out zero values\n",
    "    #\n",
    "    Raw_Results = Raw_Results[Raw_Results>0].dropna()\n",
    "    #\n",
    "    # Filter fine sediment hillslope surface soil load \n",
    "    # \n",
    "    Hillslope_surface_soil = Raw_Results[Raw_Results.Constituent=='Sediment - Fine']\n",
    "    Hillslope_surface_soil = Hillslope_surface_soil[Hillslope_surface_soil.ModelElementType=='Catchment']\n",
    "    Hillslope_surface_soil = Hillslope_surface_soil[Hillslope_surface_soil.BudgetElement=='Hillslope surface soil']\n",
    "    #\n",
    "    # Calculate fine sediment hillslope surface soil load Load (t)\n",
    "    #\n",
    "    Hillslope_surface_soil.reset_index(inplace=True)\n",
    "    Hillslope_surface_soil['Load_t'] = (Hillslope_surface_soil['Total_Load_in_Kg'])/1000\n",
    "    Hillslope_surface_soil = Hillslope_surface_soil.set_index(['ModelElement','FU'])\n",
    "    #\n",
    "    # Remove superfluous columns\n",
    "    #\n",
    "    Hillslope_surface_soil = Hillslope_surface_soil[['Constituent','ModelElementType','Process','Load_t']]\n",
    "    #\n",
    "    # Rename and Set index by Catchment FU columns\n",
    "    #\n",
    "    Hillslope_surface_soil.reset_index(inplace=True)\n",
    "    Hillslope_surface_soil = Hillslope_surface_soil.rename(columns={'ModelElement': 'Catchment'})\n",
    "    Hillslope_surface_soil = Hillslope_surface_soil.set_index(['Catchment','FU'])\n",
    "    Hillslope_surface_soil [0:1]\n",
    "    # Get the 'fuAreasTable' for area and volume calculations\n",
    "    Area = results.get('fuAreasTable')\n",
    "    Area = Area.reset_index()\n",
    "    # Remove zero values from 'fuAreasTable', in order to remove redundant scenario place holder FU\n",
    "    Area = Area[Area>0].dropna()\n",
    "    # Set index as Catchment and FU \n",
    "    Area = Area.set_index(['Catchment','FU'])\n",
    "    Area [0:1]\n",
    "    # Get the climateTable as we are chasing hydro results\n",
    "    #\n",
    "    Climate = results.get('climateTable')\n",
    "    Climate = Climate.reset_index()\n",
    "    # Remove zero values from climateTable, in order to remove redundant scenario place holder FU\n",
    "    #\n",
    "    Climate = Climate[Climate>0].dropna()\n",
    "    Climate [0:1]\n",
    "    # Merge climate and area table together to allow a calculation of total volume \n",
    "    #\n",
    "    Area = Area.reset_index()\n",
    "    Climate_Area = pd.merge(Climate,Area, on=['Catchment','FU'])\n",
    "    Climate_Area [0:1]\n",
    "    # Calculate a 'Total_Volume_m3' column - Total_Volume_m3 = Depth (m) * Area (m2) \n",
    "    #\n",
    "    Climate_Area['Total_Volume_m3'] = Climate_Area['Depth_m'] * Climate_Area['Area']\n",
    "    Climate_Volume = Climate_Area\n",
    "    # Pivot Catchment and FU as index\n",
    "    #\n",
    "    Climate_Volume = pd.pivot_table(Climate_Volume, index = ['Catchment','FU'], columns = 'Element', values = 'Total_Volume_m3', aggfunc=np.sum)\n",
    "    Climate_Volume.reset_index()\n",
    "    Climate_Volume [0:3]\n",
    "    # Calculate Total Runoff column - Baseflow + Quickflow\n",
    "    #\n",
    "    Climate_Volume['Total_Runoff'] = Climate_Volume['Baseflow'] + Climate_Volume['Runoff (QuickFlow)']\n",
    "    Climate_Volume = Climate_Volume.reset_index()\n",
    "    Climate_Volume = Climate_Volume.set_index(['Catchment','FU'])\n",
    "    Climate_Volume [0:1]\n",
    "    # Calculate Concentration\n",
    "    #\n",
    "    # Merge with load to facilitate Concentration Calculation\n",
    "    Load_and_Volume = Hillslope_surface_soil.join(Climate_Volume)\n",
    "    # Calculate fine sediment - hillslope surface soil load (g/L)\n",
    "    #\n",
    "    Load_and_Volume[\"FS_G_L\"] = (Load_and_Volume.Load_t*1000000)/(Load_and_Volume.Total_Runoff*1000)\n",
    "    Load_and_Volume [0:1]\n",
    "    #  Remove superfluous columns and set Catchment FU cols as index \n",
    "    #\n",
    "    Conc = Load_and_Volume.drop(['Constituent','ModelElementType','Process','Load_t','Actual ET','Baseflow','Rainfall','Runoff (QuickFlow)','Total_Runoff'], axis=1)\n",
    "    Conc [0:1]\n",
    "    return Conc"
   ]
  },
  {
   "cell_type": "code",
   "execution_count": 26,
   "metadata": {
    "collapsed": false
   },
   "outputs": [
    {
     "data": {
      "text/html": [
       "<div>\n",
       "<table border=\"1\" class=\"dataframe\">\n",
       "  <thead>\n",
       "    <tr style=\"text-align: right;\">\n",
       "      <th></th>\n",
       "      <th></th>\n",
       "      <th>FS_G_L</th>\n",
       "    </tr>\n",
       "    <tr>\n",
       "      <th>Catchment</th>\n",
       "      <th>FU</th>\n",
       "      <th></th>\n",
       "    </tr>\n",
       "  </thead>\n",
       "  <tbody>\n",
       "    <tr>\n",
       "      <th>SC #1608</th>\n",
       "      <th>Grazing Forested</th>\n",
       "      <td>0.009629</td>\n",
       "    </tr>\n",
       "  </tbody>\n",
       "</table>\n",
       "</div>"
      ],
      "text/plain": [
       "                              FS_G_L\n",
       "Catchment FU                        \n",
       "SC #1608  Grazing Forested  0.009629"
      ]
     },
     "execution_count": 26,
     "metadata": {},
     "output_type": "execute_result"
    }
   ],
   "source": [
    "# Ok - Need to work out how to loop the following\n",
    "results = gbr.Results('BU_RC9_BL_3_Hill_1')\n",
    "MRY_1 = ScenResults(results)\n",
    "MRY_1 [0:1]"
   ]
  },
  {
   "cell_type": "code",
   "execution_count": 27,
   "metadata": {
    "collapsed": false
   },
   "outputs": [],
   "source": [
    "# Looping through the Relevant Scenarios, calculating conc using the function outlined above\n",
    "Hillslope_Sceanrios_FS_G_L = dict()\n",
    "for Scen in Relevant_Scenarios:\n",
    "    gbr.init(Scenario_Directory)\n",
    "    gbr.available()\n",
    "    results = gbr.Results(Scen)\n",
    "    Hillslope_Sceanrios_FS_G_L[Scen] = ScenResults(results)"
   ]
  },
  {
   "cell_type": "code",
   "execution_count": 28,
   "metadata": {
    "collapsed": false
   },
   "outputs": [
    {
     "data": {
      "text/html": [
       "<div>\n",
       "<table border=\"1\" class=\"dataframe\">\n",
       "  <thead>\n",
       "    <tr style=\"text-align: right;\">\n",
       "      <th></th>\n",
       "      <th></th>\n",
       "      <th>FS_G_L_1</th>\n",
       "    </tr>\n",
       "    <tr>\n",
       "      <th>Catchment</th>\n",
       "      <th>FU</th>\n",
       "      <th></th>\n",
       "    </tr>\n",
       "  </thead>\n",
       "  <tbody>\n",
       "    <tr>\n",
       "      <th>SC #1608</th>\n",
       "      <th>Grazing Forested</th>\n",
       "      <td>0.009629</td>\n",
       "    </tr>\n",
       "  </tbody>\n",
       "</table>\n",
       "</div>"
      ],
      "text/plain": [
       "                            FS_G_L_1\n",
       "Catchment FU                        \n",
       "SC #1608  Grazing Forested  0.009629"
      ]
     },
     "execution_count": 28,
     "metadata": {},
     "output_type": "execute_result"
    }
   ],
   "source": [
    "Scen1 = Hillslope_Sceanrios_FS_G_L['BU_RC9_BL_3_Hill_1']\n",
    "Scen1.rename(columns={'FS_G_L':'FS_G_L_1'},inplace=True)\n",
    "Scen1 [0:1]"
   ]
  },
  {
   "cell_type": "code",
   "execution_count": 29,
   "metadata": {
    "collapsed": false
   },
   "outputs": [
    {
     "data": {
      "text/html": [
       "<div>\n",
       "<table border=\"1\" class=\"dataframe\">\n",
       "  <thead>\n",
       "    <tr style=\"text-align: right;\">\n",
       "      <th></th>\n",
       "      <th></th>\n",
       "      <th>FS_G_L_2</th>\n",
       "    </tr>\n",
       "    <tr>\n",
       "      <th>Catchment</th>\n",
       "      <th>FU</th>\n",
       "      <th></th>\n",
       "    </tr>\n",
       "  </thead>\n",
       "  <tbody>\n",
       "    <tr>\n",
       "      <th>SC #1608</th>\n",
       "      <th>Grazing Forested</th>\n",
       "      <td>0.006427</td>\n",
       "    </tr>\n",
       "  </tbody>\n",
       "</table>\n",
       "</div>"
      ],
      "text/plain": [
       "                            FS_G_L_2\n",
       "Catchment FU                        \n",
       "SC #1608  Grazing Forested  0.006427"
      ]
     },
     "execution_count": 29,
     "metadata": {},
     "output_type": "execute_result"
    }
   ],
   "source": [
    "Scen2 = Hillslope_Sceanrios_FS_G_L['BU_RC9_BL_3_Hill_2']\n",
    "Scen2.rename(columns={'FS_G_L':'FS_G_L_2'},inplace=True)\n",
    "Scen2 [0:1]"
   ]
  },
  {
   "cell_type": "code",
   "execution_count": 30,
   "metadata": {
    "collapsed": false
   },
   "outputs": [
    {
     "data": {
      "text/html": [
       "<div>\n",
       "<table border=\"1\" class=\"dataframe\">\n",
       "  <thead>\n",
       "    <tr style=\"text-align: right;\">\n",
       "      <th></th>\n",
       "      <th></th>\n",
       "      <th>FS_G_L_3</th>\n",
       "    </tr>\n",
       "    <tr>\n",
       "      <th>Catchment</th>\n",
       "      <th>FU</th>\n",
       "      <th></th>\n",
       "    </tr>\n",
       "  </thead>\n",
       "  <tbody>\n",
       "    <tr>\n",
       "      <th>SC #1608</th>\n",
       "      <th>Grazing Forested</th>\n",
       "      <td>0.002613</td>\n",
       "    </tr>\n",
       "  </tbody>\n",
       "</table>\n",
       "</div>"
      ],
      "text/plain": [
       "                            FS_G_L_3\n",
       "Catchment FU                        \n",
       "SC #1608  Grazing Forested  0.002613"
      ]
     },
     "execution_count": 30,
     "metadata": {},
     "output_type": "execute_result"
    }
   ],
   "source": [
    "Scen3 = Hillslope_Sceanrios_FS_G_L['BU_RC9_BL_3_Hill_3']\n",
    "Scen3.rename(columns={'FS_G_L':'FS_G_L_3'},inplace=True)\n",
    "Scen3 [0:1]"
   ]
  },
  {
   "cell_type": "code",
   "execution_count": 31,
   "metadata": {
    "collapsed": false
   },
   "outputs": [
    {
     "data": {
      "text/html": [
       "<div>\n",
       "<table border=\"1\" class=\"dataframe\">\n",
       "  <thead>\n",
       "    <tr style=\"text-align: right;\">\n",
       "      <th></th>\n",
       "      <th></th>\n",
       "      <th>FS_G_L_1</th>\n",
       "      <th>FS_G_L_2</th>\n",
       "      <th>FS_G_L_3</th>\n",
       "    </tr>\n",
       "    <tr>\n",
       "      <th>Catchment</th>\n",
       "      <th>FU</th>\n",
       "      <th></th>\n",
       "      <th></th>\n",
       "      <th></th>\n",
       "    </tr>\n",
       "  </thead>\n",
       "  <tbody>\n",
       "    <tr>\n",
       "      <th>SC #1608</th>\n",
       "      <th>Grazing Forested</th>\n",
       "      <td>0.009629</td>\n",
       "      <td>0.006427</td>\n",
       "      <td>0.002613</td>\n",
       "    </tr>\n",
       "  </tbody>\n",
       "</table>\n",
       "</div>"
      ],
      "text/plain": [
       "                            FS_G_L_1  FS_G_L_2  FS_G_L_3\n",
       "Catchment FU                                            \n",
       "SC #1608  Grazing Forested  0.009629  0.006427  0.002613"
      ]
     },
     "execution_count": 31,
     "metadata": {},
     "output_type": "execute_result"
    }
   ],
   "source": [
    "All_Scen = pd.concat([Scen1, Scen2, Scen3], axis=1, join='inner')\n",
    "All_Scen [0:1]"
   ]
  },
  {
   "cell_type": "code",
   "execution_count": 32,
   "metadata": {
    "collapsed": false
   },
   "outputs": [
    {
     "data": {
      "text/html": [
       "<div>\n",
       "<table border=\"1\" class=\"dataframe\">\n",
       "  <thead>\n",
       "    <tr style=\"text-align: right;\">\n",
       "      <th></th>\n",
       "      <th></th>\n",
       "      <th>IntSCFU_S</th>\n",
       "    </tr>\n",
       "    <tr>\n",
       "      <th>Catchment</th>\n",
       "      <th>FU</th>\n",
       "      <th></th>\n",
       "    </tr>\n",
       "  </thead>\n",
       "  <tbody>\n",
       "    <tr>\n",
       "      <th>SC #494</th>\n",
       "      <th>Grazing Forested</th>\n",
       "      <td>0</td>\n",
       "    </tr>\n",
       "  </tbody>\n",
       "</table>\n",
       "</div>"
      ],
      "text/plain": [
       "                            IntSCFU_S\n",
       "Catchment FU                         \n",
       "SC #494   Grazing Forested          0"
      ]
     },
     "execution_count": 32,
     "metadata": {},
     "output_type": "execute_result"
    }
   ],
   "source": [
    "# Read in intsFu table, remove superfluous columns and set Catchment FU cols as index \n",
    "#\n",
    "BU_intSCFU = pd.read_csv(Burdekin_intSCFU, error_bad_lines=False)\n",
    "BU_intSCFU.rename(columns={'IntFUs':'FU','IntSCs':'Catchment'},inplace=True)\n",
    "BU_intSCFU = BU_intSCFU.drop(['IntSCFU', 'FID'], axis=1)\n",
    "BU_intSCFU.set_index(['Catchment','FU'],inplace=True)\n",
    "BU_intSCFU [0:1]"
   ]
  },
  {
   "cell_type": "code",
   "execution_count": 33,
   "metadata": {
    "collapsed": false
   },
   "outputs": [
    {
     "data": {
      "text/html": [
       "<div>\n",
       "<table border=\"1\" class=\"dataframe\">\n",
       "  <thead>\n",
       "    <tr style=\"text-align: right;\">\n",
       "      <th></th>\n",
       "      <th></th>\n",
       "      <th>IntSCFU_S</th>\n",
       "      <th>FS_G_L_1</th>\n",
       "      <th>FS_G_L_2</th>\n",
       "      <th>FS_G_L_3</th>\n",
       "    </tr>\n",
       "    <tr>\n",
       "      <th>Catchment</th>\n",
       "      <th>FU</th>\n",
       "      <th></th>\n",
       "      <th></th>\n",
       "      <th></th>\n",
       "      <th></th>\n",
       "    </tr>\n",
       "  </thead>\n",
       "  <tbody>\n",
       "    <tr>\n",
       "      <th>SC #494</th>\n",
       "      <th>Grazing Forested</th>\n",
       "      <td>0</td>\n",
       "      <td>0.084077</td>\n",
       "      <td>0.058495</td>\n",
       "      <td>0.050255</td>\n",
       "    </tr>\n",
       "  </tbody>\n",
       "</table>\n",
       "</div>"
      ],
      "text/plain": [
       "                            IntSCFU_S  FS_G_L_1  FS_G_L_2  FS_G_L_3\n",
       "Catchment FU                                                       \n",
       "SC #494   Grazing Forested          0  0.084077  0.058495  0.050255"
      ]
     },
     "execution_count": 33,
     "metadata": {},
     "output_type": "execute_result"
    }
   ],
   "source": [
    "## Join with Scenario\n",
    "#\n",
    "Scenario_Table = BU_intSCFU.join(All_Scen)\n",
    "Scenario_Table [0:1]"
   ]
  },
  {
   "cell_type": "code",
   "execution_count": 34,
   "metadata": {
    "collapsed": false
   },
   "outputs": [],
   "source": [
    "# Export To CSV\n",
    "#\n",
    "Scenario_Table.to_csv(Spatial_Output)"
   ]
  },
  {
   "cell_type": "code",
   "execution_count": null,
   "metadata": {
    "collapsed": true
   },
   "outputs": [],
   "source": []
  }
 ],
 "metadata": {
  "kernelspec": {
   "display_name": "Python 3",
   "language": "python",
   "name": "python3"
  },
  "language_info": {
   "codemirror_mode": {
    "name": "ipython",
    "version": 3
   },
   "file_extension": ".py",
   "mimetype": "text/x-python",
   "name": "python",
   "nbconvert_exporter": "python",
   "pygments_lexer": "ipython3",
   "version": "3.6.0"
  }
 },
 "nbformat": 4,
 "nbformat_minor": 0
}
