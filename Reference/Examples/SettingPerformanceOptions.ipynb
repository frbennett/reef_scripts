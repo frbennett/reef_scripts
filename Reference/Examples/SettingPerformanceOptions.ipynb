{
 "cells": [
  {
   "cell_type": "markdown",
   "metadata": {},
   "source": [
    "# How to set model runtime options from Python\n",
    "\n",
    "(All the things that make the simulations go fast!)\n",
    "\n",
    "This notebook assumes Source is loaded and Veneer is running within Source (ie the Web Server Monitoring window is open and showing that it has successfully started, no errors).\n",
    "\n",
    "We'll rely on the modified Veneer client in the dsed-py package..."
   ]
  },
  {
   "cell_type": "code",
   "execution_count": 8,
   "metadata": {
    "collapsed": true
   },
   "outputs": [],
   "source": [
    "import dsed"
   ]
  },
  {
   "cell_type": "code",
   "execution_count": 9,
   "metadata": {
    "collapsed": true
   },
   "outputs": [],
   "source": [
    "v = dsed.Veneer(port=9876)"
   ]
  },
  {
   "cell_type": "markdown",
   "metadata": {},
   "source": [
    "There are two groups of performances options:\n",
    "\n",
    "* Options provided by Source itself - namely the Process Catchments in Parallel option, and\n",
    "* Options specific to Dynamic Sednet within Source - Run Networks in Parallel, Pre Run Catchments and Parallel Flow Phase.\n",
    "\n",
    "There are separate commands for configuring each of these."
   ]
  },
  {
   "cell_type": "code",
   "execution_count": 10,
   "metadata": {
    "collapsed": true
   },
   "outputs": [],
   "source": [
    "# Set the ProcessCatchmentsInParallel option (Provided by Source)\n",
    "v.model.source_scenario_options(\"PerformanceConfiguration\",\"ProcessCatchmentsInParallel\",True)"
   ]
  },
  {
   "cell_type": "code",
   "execution_count": 11,
   "metadata": {
    "collapsed": true
   },
   "outputs": [],
   "source": [
    "# Set the Dynamic Sednet specific options\n",
    "v.configure_options({\n",
    "        'RunNetworksInParallel':True,\n",
    "        'PreRunCatchments':True,\n",
    "        'ParallelFlowPhase':True\n",
    "    })"
   ]
  },
  {
   "cell_type": "markdown",
   "metadata": {},
   "source": [
    "**Notes:**\n",
    "\n",
    "For the most part its safe to use all of these speed up options - they don't change the results.\n",
    "\n",
    "Run Networks In Parallel is particularly useful for catchments that have many outlet nodes with a broadly similar number of nodes/links/catchments upstream of each.\n",
    "\n",
    "**IMPORTANT** `PreRunCatchments` prevents the recording of Functional Unit level time series. If you require Functional Unit level time series, set `PreRunCatchments` to `False`. "
   ]
  },
  {
   "cell_type": "code",
   "execution_count": null,
   "metadata": {
    "collapsed": true
   },
   "outputs": [],
   "source": []
  },
  {
   "cell_type": "code",
   "execution_count": null,
   "metadata": {
    "collapsed": true
   },
   "outputs": [],
   "source": []
  }
 ],
 "metadata": {
  "kernelspec": {
   "display_name": "Python 3",
   "language": "python",
   "name": "python3"
  },
  "language_info": {
   "codemirror_mode": {
    "name": "ipython",
    "version": 3
   },
   "file_extension": ".py",
   "mimetype": "text/x-python",
   "name": "python",
   "nbconvert_exporter": "python",
   "pygments_lexer": "ipython3",
   "version": "3.4.4"
  }
 },
 "nbformat": 4,
 "nbformat_minor": 0
}
