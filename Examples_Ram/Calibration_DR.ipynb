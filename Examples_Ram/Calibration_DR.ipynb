{
 "cells": [
  {
   "cell_type": "markdown",
   "metadata": {},
   "source": [
    "# Session 8 - Source model calibration using PEST and Veneer\n",
    "\n",
    "PEST is a highly capable system for model calibration, and for sensitivity and uncertainty analysis. PEST is independent of any particular modelling software and modellers have connected Source to PEST in a number of ways.\n",
    "\n",
    "This tutorial looks at specific support in veneer-py for calibration Source models with PEST. Notably, you can describe the PEST job in the notebook and veneer-py will generate the required PEST configuration files.\n",
    "\n",
    "At the time of writing, this functionality supports basic calibration of model parameters to timeseries observations.\n",
    "\n",
    "## Get PEST\n",
    "\n",
    "PEST can be downloaded from [http://www.pesthomepage.org/](http://www.pesthomepage.org/). You want the standard PC PEST for Windows - *not BEOPEST*. PEST is delivered as a zip file - unzip to a directory on your system (ideally a directory without spaces or special characters in the path - something like `C:\\PEST` is good)\n",
    "\n",
    "This tutorial will gloss over a lot of PEST specifics in order to focus on the connection to Source and Veneer. The PEST manual is very comprehensive and it is available from the PEST homepage and included with the software.\n",
    "\n",
    "\n",
    "## Overview\n",
    "\n",
    "- How will it work?\n",
    "- Describing the PEST ‘job'\n",
    "  - Veneer/Source end-point(s)\n",
    "  - Getting the model ‘ready’ for optimisation\n",
    "  - Describing the calibration parameters\n",
    "  - Describing the objective and any observed data\n",
    "  - What veneer-py is taking care of\n",
    "- Running PEST, feedback\n",
    "- Limitations\n",
    "\n",
    "## Which Model?\n",
    "\n",
    "**Note:** This session uses `ExampleProject/CalibrationExample.rsproj`. You are welcome to work with your own model instead, however you will need to change the notebook text at certain points to reflect the names of nodes, links and functions in your model file.\n"
   ]
  },
  {
   "cell_type": "markdown",
   "metadata": {},
   "source": [
    "## How will it work?\n",
    "\n",
    "PEST requires a series of configuration file that describe the parameter estimation problem, including:\n",
    "\n",
    "* What program to run and what command line arguments to use\n",
    "* A description of one or more text files that PEST can modify in order to create a unique run of the model\n",
    "* Description of one or more results text files that PEST can read to interpret the results of the model run\n",
    "* Optional files that control parallel processing by running multiple copies of the model in parallel.\n",
    "\n",
    "veneer-py has functionality for describing the calibration problem in Python, and then subsequently generating the files expected by PEST. This includes generating a Python script, which becomes the program that PEST invokes. This Python program calls to a running copy of Veneer to execute the Source model and retrieve results.\n",
    "\n",
    "When running PEST in parallel, PEST controls a number of 'slave' processes, each of which is responsible for running one copy of the simulation at a time:\n",
    "\n",
    "![Running PEST on a Source model from Python](Images/Tutorials/Veneer_PEST.png)\n",
    "\n",
    "In this way, you can run a PEST calibration for a Source model that is running in the main Source windows application. You can start multiple copies of Source in order to support parallel calibrations. Alternatively, you can use the Veneer Command Line tool."
   ]
  },
  {
   "cell_type": "markdown",
   "metadata": {},
   "source": [
    "### Setting up the servers\n",
    "\n",
    "As in Tutorial 7, we'll use the command line and set up a number of copies of the server using the `start()` function"
   ]
  },
  {
   "cell_type": "code",
   "execution_count": 1,
   "metadata": {
    "collapsed": true
   },
   "outputs": [],
   "source": [
    "from veneer.manage import start, create_command_line, kill_all_now\n",
    "import veneer"
   ]
  },
  {
   "cell_type": "code",
   "execution_count": 2,
   "metadata": {
    "collapsed": true
   },
   "outputs": [],
   "source": [
    "### modelled sites of interest\n",
    "modelledSites = ['_gauge_124003A_AndromacheRvJochheims',\n",
    "                  '_gauge_124001B_OConnellRvStaffordsCrossing',\n",
    "                  '_Outlet Node12',\n",
    "                  '_extraction_CattleCkGargett_125004A',\n",
    "                  '_gauge_125005A_BlacksCkWhitefords',\n",
    "                  '_gauge_125013A_PioneerRvDumbletonPumpStation',\n",
    "                  '_gauge_126001A_SandyCkHomebush'\n",
    "                 ]\n",
    "\n",
    "#### corresponding sites names of the gauge names  - to make both measuremets and model locations consistent\n",
    "measurementSites = ['AndromacheRvJochheims',\n",
    "                  'OConnellRvStaffordsCrossing',\n",
    "                  'OConnellRvCaravanPark',\n",
    "                  'CattleCkGargett',\n",
    "                  'BlacksCkWhitefords',\n",
    "                  'PioneerRvDumbletonPumpStation',\n",
    "                  'SandyCkHomebush'                             \n",
    "                 ]\n"
   ]
  },
  {
   "cell_type": "code",
   "execution_count": 3,
   "metadata": {
    "collapsed": false
   },
   "outputs": [
    {
     "data": {
      "text/plain": [
       "'C:\\\\tempveneer\\\\veneer_cmd\\\\FlowMatters.Source.VeneerCmd.exe'"
      ]
     },
     "execution_count": 3,
     "metadata": {},
     "output_type": "execute_result"
    }
   ],
   "source": [
    "veneer_install = 'H:/dataMW/Veneer4.1.1'\n",
    "source_version = '4.1.1'\n",
    "cmd_directory = 'C:\\\\tempveneer\\\\veneer_cmd'\n",
    "path = create_command_line(veneer_install,source_version,dest=cmd_directory)\n",
    "path"
   ]
  },
  {
   "cell_type": "code",
   "execution_count": null,
   "metadata": {
    "collapsed": false
   },
   "outputs": [],
   "source": []
  },
  {
   "cell_type": "code",
   "execution_count": 4,
   "metadata": {
    "collapsed": true
   },
   "outputs": [],
   "source": [
    "catchment_project='C:\\\\modelMW\\\\models\\\\RC9\\\\MW_BASE_RC9_6.rsproj'\n",
    "num_copies=4    # Important - set this to be a number ~ the number of CPU cores in your system!\n",
    "first_port=9950"
   ]
  },
  {
   "cell_type": "code",
   "execution_count": 5,
   "metadata": {
    "collapsed": false,
    "scrolled": false
   },
   "outputs": [
    {
     "name": "stdout",
     "output_type": "stream",
     "text": [
      "Starting C:\\tempveneer\\veneer_cmd\\FlowMatters.Source.VeneerCmd.exe -p 9950 -s  \"C:\\modelMW\\models\\RC9\\MW_BASE_RC9_6.rsproj\"\n",
      "Starting C:\\tempveneer\\veneer_cmd\\FlowMatters.Source.VeneerCmd.exe -p 9951 -s  \"C:\\modelMW\\models\\RC9\\MW_BASE_RC9_6.rsproj\"\n",
      "Starting C:\\tempveneer\\veneer_cmd\\FlowMatters.Source.VeneerCmd.exe -p 9952 -s  \"C:\\modelMW\\models\\RC9\\MW_BASE_RC9_6.rsproj\"\n",
      "Starting C:\\tempveneer\\veneer_cmd\\FlowMatters.Source.VeneerCmd.exe -p 9953 -s  \"C:\\modelMW\\models\\RC9\\MW_BASE_RC9_6.rsproj\"\n",
      "[3] Loading plugins\n",
      "\n",
      "[2] Loading plugins\n",
      "\n",
      "[1] Loading plugins\n",
      "\n",
      "[0] Loading plugins\n",
      "\n",
      "[2] Loaded C:\\Program Files\\eWater\\Source 4.1.1.4513\\Plugins\\latest\\Dynamic_SedNet.dll\n",
      "\n",
      "[2] Loaded C:\\Program Files\\eWater\\Source 4.1.1.4513\\Plugins\\latest\\GBR_DynSed_Extension.dll\n",
      "\n",
      "[2] Loaded C:\\Program Files\\eWater\\Source 4.1.1.4513\\Plugins\\latest\\DERMTools.dll\n",
      "\n",
      "[2] Loaded H:\\dataMW\\Veneer4.1.1\\FlowMatters.Source.Veneer.dll\n",
      "\n",
      "[2] Loaded C:\\Program Files\\eWater\\Source 4.1.1.4513\\Plugins\\latest\\MonthlyEmcDwcModel.dll\n",
      "\n",
      "[2] Plugins loaded (5/5)\n",
      "\n",
      "[3] Loaded C:\\Program Files\\eWater\\Source 4.1.1.4513\\Plugins\\latest\\Dynamic_SedNet.dll\n",
      "\n",
      "[3] Loaded C:\\Program Files\\eWater\\Source 4.1.1.4513\\Plugins\\latest\\GBR_DynSed_Extension.dll\n",
      "\n",
      "[3] Loaded C:\\Program Files\\eWater\\Source 4.1.1.4513\\Plugins\\latest\\DERMTools.dll\n",
      "\n",
      "[3] Loaded H:\\dataMW\\Veneer4.1.1\\FlowMatters.Source.Veneer.dll\n",
      "\n",
      "[3] Loaded C:\\Program Files\\eWater\\Source 4.1.1.4513\\Plugins\\latest\\MonthlyEmcDwcModel.dll\n",
      "\n",
      "[3] Plugins loaded (5/5)\n",
      "\n",
      "[1] Loaded C:\\Program Files\\eWater\\Source 4.1.1.4513\\Plugins\\latest\\Dynamic_SedNet.dll\n",
      "\n",
      "[1] Loaded C:\\Program Files\\eWater\\Source 4.1.1.4513\\Plugins\\latest\\GBR_DynSed_Extension.dll\n",
      "\n",
      "[1] Loaded C:\\Program Files\\eWater\\Source 4.1.1.4513\\Plugins\\latest\\DERMTools.dll\n",
      "\n",
      "[1] Loaded H:\\dataMW\\Veneer4.1.1\\FlowMatters.Source.Veneer.dll\n",
      "\n",
      "[1] Loaded C:\\Program Files\\eWater\\Source 4.1.1.4513\\Plugins\\latest\\MonthlyEmcDwcModel.dll\n",
      "\n",
      "[1] Plugins loaded (5/5)\n",
      "\n",
      "[0] Loaded C:\\Program Files\\eWater\\Source 4.1.1.4513\\Plugins\\latest\\Dynamic_SedNet.dll\n",
      "\n",
      "[0] Loaded C:\\Program Files\\eWater\\Source 4.1.1.4513\\Plugins\\latest\\GBR_DynSed_Extension.dll\n",
      "\n",
      "[0] Loaded C:\\Program Files\\eWater\\Source 4.1.1.4513\\Plugins\\latest\\DERMTools.dll\n",
      "\n",
      "[0] Loaded H:\\dataMW\\Veneer4.1.1\\FlowMatters.Source.Veneer.dll\n",
      "\n",
      "[0] Loaded C:\\Program Files\\eWater\\Source 4.1.1.4513\\Plugins\\latest\\MonthlyEmcDwcModel.dll\n",
      "\n",
      "[0] Plugins loaded (5/5)\n",
      "\n",
      "[1] Opening project file: C:\\modelMW\\models\\RC9\\MW_BASE_RC9_6.rsproj\n",
      "\n",
      "[2] Opening project file: C:\\modelMW\\models\\RC9\\MW_BASE_RC9_6.rsproj\n",
      "\n",
      "[3] Opening project file: C:\\modelMW\\models\\RC9\\MW_BASE_RC9_6.rsproj\n",
      "\n",
      "[0] Opening project file: C:\\modelMW\\models\\RC9\\MW_BASE_RC9_6.rsproj\n",
      "\n",
      "ERROR[0] log4net:ERROR Failed to find configuration section 'log4net' in the application's .config file. Check your .config file for the <log4net> and <configSections> elements. The configuration section should look like: <section name=\"log4net\" type=\"log4net.Config.Log4NetConfigurationSectionHandler,log4net\" />\n",
      "\n",
      "ERROR[3] log4net:ERROR Failed to find configuration section 'log4net' in the application's .config file. Check your .config file for the <log4net> and <configSections> elements. The configuration section should look like: <section name=\"log4net\" type=\"log4net.Config.Log4NetConfigurationSectionHandler,log4net\" />\n",
      "\n",
      "ERROR[1] log4net:ERROR Failed to find configuration section 'log4net' in the application's .config file. Check your .config file for the <log4net> and <configSections> elements. The configuration section should look like: <section name=\"log4net\" type=\"log4net.Config.Log4NetConfigurationSectionHandler,log4net\" />\n",
      "\n",
      "ERROR[2] log4net:ERROR Failed to find configuration section 'log4net' in the application's .config file. Check your .config file for the <log4net> and <configSections> elements. The configuration section should look like: <section name=\"log4net\" type=\"log4net.Config.Log4NetConfigurationSectionHandler,log4net\" />\n",
      "\n",
      "[0] Loading project\n",
      "\n",
      "[3] Loading project\n",
      "\n",
      "[1] Loading project\n",
      "\n",
      "[2] Loading project\n",
      "\n",
      "[0] Project Loaded\n",
      "\n",
      "[0] MW_DS_2015\n",
      "\n",
      "[0] MW_DS_2015\n",
      "\n",
      "[0] [10:15:55 AM] Veneer, by Flow Matters: http://www.flowmatters.com.au\n",
      "\n",
      "[0] [10:15:55 AM] Started Source RESTful Service on port:9950\n",
      "\n",
      "Server 0 on port 9950 is ready\n",
      "[0] Server started. Ctrl-C to exit, or POST /shutdown command\n",
      "\n",
      "[1] Project Loaded\n",
      "\n",
      "[1] MW_DS_2015\n",
      "\n",
      "[1] MW_DS_2015\n",
      "\n",
      "[1] [10:16:01 AM] Veneer, by Flow Matters: http://www.flowmatters.com.au\n",
      "\n",
      "[1] [10:16:01 AM] Started Source RESTful Service on port:9951\n",
      "\n",
      "Server 1 on port 9951 is ready\n",
      "[1] Server started. Ctrl-C to exit, or POST /shutdown command\n",
      "\n",
      "[2] Project Loaded\n",
      "\n",
      "[2] MW_DS_2015\n",
      "\n",
      "[2] MW_DS_2015\n",
      "\n",
      "[2] [10:16:02 AM] Veneer, by Flow Matters: http://www.flowmatters.com.au\n",
      "\n",
      "[2] [10:16:02 AM] Started Source RESTful Service on port:9952\n",
      "\n",
      "Server 2 on port 9952 is ready\n",
      "[2] Server started. Ctrl-C to exit, or POST /shutdown command\n",
      "\n",
      "[3] Project Loaded\n",
      "\n",
      "[3] MW_DS_2015\n",
      "\n",
      "[3] MW_DS_2015\n",
      "\n",
      "[3] [10:16:03 AM] Veneer, by Flow Matters: http://www.flowmatters.com.au\n",
      "\n",
      "[3] [10:16:03 AM] Started Source RESTful Service on port:9953\n",
      "\n",
      "Server 3 on port 9953 is ready\n",
      "[3] Server started. Ctrl-C to exit, or POST /shutdown command\n",
      "\n"
     ]
    }
   ],
   "source": [
    "processes,ports = start(catchment_project,\n",
    "                        n_instances=num_copies,\n",
    "                        ports=first_port,\n",
    "                        debug=True,\n",
    "                        veneer_exe=path,\n",
    "                        remote=False)"
   ]
  },
  {
   "cell_type": "markdown",
   "metadata": {
    "collapsed": true
   },
   "source": [
    "Also as before, we need a copy of the Veneer client for each copy of the server:"
   ]
  },
  {
   "cell_type": "code",
   "execution_count": 7,
   "metadata": {
    "collapsed": false
   },
   "outputs": [],
   "source": [
    "vs = [veneer.Veneer(port=p) for p in ports]"
   ]
  },
  {
   "cell_type": "markdown",
   "metadata": {},
   "source": [
    "### The catchment\n",
    "\n",
    "We haven't used this project in the earlier tutorials. We can query any of the servers for the network (just as we would if Veneer were running within the Source application)"
   ]
  },
  {
   "cell_type": "code",
   "execution_count": 8,
   "metadata": {
    "collapsed": false
   },
   "outputs": [
    {
     "data": {
      "text/plain": [
       "<matplotlib.axes._subplots.AxesSubplot at 0xb3af0f0>"
      ]
     },
     "execution_count": 8,
     "metadata": {},
     "output_type": "execute_result"
    },
    {
     "data": {
      "image/png": "[encoded data removed]",
      "text/plain": [
       "<matplotlib.figure.Figure at 0xb3966d8>"
      ]
     },
     "metadata": {},
     "output_type": "display_data"
    }
   ],
   "source": [
    "%matplotlib inline\n",
    "v = vs[0]\n",
    "v.network().as_dataframe().plot()"
   ]
  },
  {
   "cell_type": "markdown",
   "metadata": {},
   "source": [
    "## Describing the PEST 'Job'\n",
    "\n",
    "When configuring PEST to work with a particular model, you 'teach' PEST how to communicate with the model by describing the format of one or more text input files expected by the model and one or more text output files produced by the model. PEST will then generate updated input files for each simulation and read the updated output files that result from the simulation.\n",
    "\n",
    "veneer-py has some basic functionality for setting up PEST runs that avoids the need to directly edit the PEST configuration files.\n",
    "\n",
    "With veneer-py, you can describe a PEST job in Python, including describing the Source model parameters that you want to calibrate and the outputs that you want to calibrate against.\n",
    "\n",
    "veneer-py will then write out the following PEST configuration files and invoke PEST:\n",
    "\n",
    "* **PTF:** A PEST Template File, which describes how to run the model, including setting relevant model parameters and ensuring that the required model outputs are produced. PEST will substitute model parameters into this file, based on the configuration in the PCF. In the case of veneer-py, the PTF is a template of a Python script, which uses veneer-py to connect to a Source/Veneer server, sets parameters, runs the model and then compares results using defined statistics.\n",
    "* **PIF:** A PEST Instruction File, which tells PEST where to find the observations that it needs for evaluating a simulation. In the case of veneer-py, these outputs are produced by the logic in the PTF.\n",
    "* **PCF:** A PEST Control File, which desribes the parameters to be optimised and the observations to optimise to, as well as how to run the model.\n",
    "* **PRF:** (OPTIONAL), used when performing a parallel calibration with more than one Veneer/Source server. Describes where (on the filesystem) to run the model from.\n",
    "\n",
    "To establish all these files and run a PEST job, you can use functionality in veneer-py to describe a PEST 'Case'.\n",
    "\n",
    "The 'Case' will ultimately know everything about the calibration\n",
    "\n",
    "* what parameters you are calibrating and how they are constrained,\n",
    "* what you are calibrating to,\n",
    "* how many Source servers you have at your disposal\n",
    "* any options related to PEST, such as which optimisation routine to use"
   ]
  },
  {
   "cell_type": "code",
   "execution_count": 9,
   "metadata": {
    "collapsed": true
   },
   "outputs": [],
   "source": [
    "from veneer.pest import Case"
   ]
  },
  {
   "cell_type": "markdown",
   "metadata": {},
   "source": [
    "At very least, we need to give a Case a `name` - which is the basis for all the filenames that will be written out.\n",
    "\n",
    "You can also specify:\n",
    "\n",
    "* an optimiser (the default is `pest`, but the PEST software also comes several others)\n",
    "* a list of Veneer/Source servers, described as a list of ports\n",
    "* a random number seed in order to either make the optimisation deterministic or allow random variation\n"
   ]
  },
  {
   "cell_type": "code",
   "execution_count": 10,
   "metadata": {
    "collapsed": false
   },
   "outputs": [],
   "source": [
    "calibration = Case('mw_dr',optimiser='cmaes_p',model_servers=ports)"
   ]
  },
  {
   "cell_type": "markdown",
   "metadata": {},
   "source": [
    "PEST has many options - most of which we leave at default. One option that we currently need is to put PEST into single precision mode. This is because PEST, in double precision mode, uses a syntax for floating point literals that is not valid Python:"
   ]
  },
  {
   "cell_type": "code",
   "execution_count": 11,
   "metadata": {
    "collapsed": true
   },
   "outputs": [],
   "source": [
    "calibration.options['PRECIS']='single' "
   ]
  },
  {
   "cell_type": "markdown",
   "metadata": {},
   "source": [
    "### Configuring the calibration parameters\n",
    "\n",
    "PEST needs to be told about the calibration parameters\n",
    "\n",
    "This is a two step process:\n",
    "* Specify how to apply the parameter (using a statement as you would in Veneer. eg `model.catchment.runoff.set_param_values('baseflowCoefficient',0.5,fus=list(fu_types))` but with the actual value (`0.5`) changed to the PEST parameter name, with markers (eg `@v_bfCoeff@`). This information forms part of a dynamically generated Python script that PEST will modify and run for each simulation\n",
    "* Tell PEST about the parameter, including its range.\n",
    "  * This forms part of the PEST control file\n",
    "  * In addition to the range, we also specify the initial value.\n",
    "  * We set the initial value to be halfway between the min and max\n",
    "\n",
    "We're performing a rainfall runoff calibration, with the four parameter GR4J rainfall runoff used in the model\n",
    "\n",
    "We're going to perform a lumped calibration - ie one parameter set everywhere - but we could, alternatively, calibrate distinct parameters by functional unit type, or in different parts of the catchment."
   ]
  },
  {
   "cell_type": "code",
   "execution_count": 12,
   "metadata": {
    "collapsed": false
   },
   "outputs": [
    {
     "data": {
      "text/plain": [
       "['GBR_DynSed_Extension.Models.GBR_CropSed_Wrap_Model']"
      ]
     },
     "execution_count": 12,
     "metadata": {},
     "output_type": "execute_result"
    }
   ],
   "source": [
    "v.model.find_model_type('GBR_CropSed_Wrap')"
   ]
  },
  {
   "cell_type": "code",
   "execution_count": 13,
   "metadata": {
    "collapsed": false
   },
   "outputs": [
    {
     "data": {
      "text/plain": [
       "['Dynamic_SedNet.Models.SedNet_Sediment_Generation']"
      ]
     },
     "execution_count": 13,
     "metadata": {},
     "output_type": "execute_result"
    }
   ],
   "source": [
    "v.model.find_model_type('SedNet_Sediment_Generation')"
   ]
  },
  {
   "cell_type": "code",
   "execution_count": 14,
   "metadata": {
    "collapsed": false
   },
   "outputs": [
    {
     "data": {
      "text/plain": [
       "['Average_Gully_Activity_Factor',\n",
       " 'ErosionModel',\n",
       " 'GULLYmodel',\n",
       " 'Gully_Cross_Section_Area',\n",
       " 'Gully_Density',\n",
       " 'Gully_End_Year',\n",
       " 'Gully_Management_Practice_Factor',\n",
       " 'Gully_Percent_Fine',\n",
       " 'Gully_SDR_Coarse',\n",
       " 'Gully_SDR_Fine',\n",
       " 'Gully_Soil_Bulk_Density',\n",
       " 'Gully_Year_Density_Raster',\n",
       " 'Gully_Year_Disturb',\n",
       " 'HillSlopeFinePerc',\n",
       " 'HillSlopeLoadPath',\n",
       " 'HillslopeCoarseDWC',\n",
       " 'HillslopeCoarseSDR',\n",
       " 'HillslopeFineDWC',\n",
       " 'HillslopeFineSDR',\n",
       " 'Load_Conversion_Factor',\n",
       " 'Total_Gully_Volume',\n",
       " 'percentSub']"
      ]
     },
     "execution_count": 14,
     "metadata": {},
     "output_type": "execute_result"
    }
   ],
   "source": [
    "params = v.model.find_parameters('GBR_DynSed_Extension.Models.GBR_CropSed_Wrap_Model')\n",
    "params"
   ]
  },
  {
   "cell_type": "code",
   "execution_count": 15,
   "metadata": {
    "collapsed": false
   },
   "outputs": [
    {
     "data": {
      "text/plain": [
       "['A1',\n",
       " 'A2',\n",
       " 'A3',\n",
       " 'Alpha',\n",
       " 'Average_Gully_Activity_Factor',\n",
       " 'Beta',\n",
       " 'DWC',\n",
       " 'Eta',\n",
       " 'GULLYmodel',\n",
       " 'Gully_Cross_Section_Area',\n",
       " 'Gully_Density',\n",
       " 'Gully_End_Year',\n",
       " 'Gully_Management_Practice_Factor',\n",
       " 'Gully_Percent_Fine',\n",
       " 'Gully_SDR_Coarse',\n",
       " 'Gully_SDR_Fine',\n",
       " 'Gully_Soil_Bulk_Density',\n",
       " 'Gully_Year_Density_Raster',\n",
       " 'Gully_Year_Disturb',\n",
       " 'Max_Conc',\n",
       " 'P',\n",
       " 'RainThreshold',\n",
       " 'S',\n",
       " 'Total_Gully_Volume',\n",
       " 'USLE_HSDR_Coarse',\n",
       " 'USLE_HSDR_Fine',\n",
       " 'USLEmodel',\n",
       " 'avFines',\n",
       " 'avK',\n",
       " 'avLS',\n",
       " 'useAvModel']"
      ]
     },
     "execution_count": 15,
     "metadata": {},
     "output_type": "execute_result"
    }
   ],
   "source": [
    "v.model.find_parameters('Dynamic_SedNet.Models.SedNet_Sediment_Generation')"
   ]
  },
  {
   "cell_type": "markdown",
   "metadata": {},
   "source": [
    "We only want to calibrate `x1`-`x4` - (`C` and `k` are specific to the eWater version of GR4J - they provide a baseflow filter)"
   ]
  },
  {
   "cell_type": "code",
   "execution_count": 16,
   "metadata": {
    "collapsed": false
   },
   "outputs": [
    {
     "data": {
      "text/plain": [
       "['HillslopeFineSDR', 'USLE_HSDR_Fine']"
      ]
     },
     "execution_count": 16,
     "metadata": {},
     "output_type": "execute_result"
    }
   ],
   "source": [
    "params = ['HillslopeFineSDR','USLE_HSDR_Fine']\n",
    "params"
   ]
  },
  {
   "cell_type": "markdown",
   "metadata": {},
   "source": [
    "We need to assign ranges to each of these. The model implementation in Source has metadata about suitable ranges - but at this stage, there isn't an easy way to interrogate that information from veneer-py. You can check in the Source user interface (`Edit|Rainfall Runoff Models`) to see the ranges.\n",
    "\n",
    "Having done that, we'll construct a Python dictionary of parameter ranges\n",
    "\n",
    "**Note:** These are quite narrow ranges for GR4J. This is done to keep the optimisation short in the context of the tutorial (and because the 'observed' data is actually synthetic data generated from Source)"
   ]
  },
  {
   "cell_type": "code",
   "execution_count": 17,
   "metadata": {
    "collapsed": true
   },
   "outputs": [],
   "source": [
    "fus={\n",
    "    'HillslopeFineSDR':'Sugarcane'\n",
    "}"
   ]
  },
  {
   "cell_type": "code",
   "execution_count": 18,
   "metadata": {
    "collapsed": false
   },
   "outputs": [
    {
     "data": {
      "text/plain": [
       "{'HillslopeFineSDR': [0.0, 30.0], 'USLE_HSDR_Fine': [0.0, 30.0]}"
      ]
     },
     "execution_count": 18,
     "metadata": {},
     "output_type": "execute_result"
    }
   ],
   "source": [
    "ranges = {\n",
    "    'HillslopeFineSDR':[0.0,30.0],\n",
    "    'USLE_HSDR_Fine':[0.0,30.0]\n",
    "}\n",
    "ranges"
   ]
  },
  {
   "cell_type": "markdown",
   "metadata": {},
   "source": [
    "Now, we can loop over each parameter and 'teach' PEST about it - ie tell PEST how to modify the parameter and tell PEST what range we want to calibrate over:"
   ]
  },
  {
   "cell_type": "code",
   "execution_count": 19,
   "metadata": {
    "collapsed": false
   },
   "outputs": [
    {
     "name": "stdout",
     "output_type": "stream",
     "text": [
      "Configuring HillslopeFineSDR\n",
      "Limiting HillslopeFineSDR to Sugarcane\n",
      "Configuring USLE_HSDR_Fine\n"
     ]
    }
   ],
   "source": [
    "for param in params:\n",
    "    print('Configuring %s'%param)\n",
    "    pname = '$'+param+'$'\n",
    "\n",
    "    # 1. Tell PEST how to set the parameter\n",
    "    if param in fus:\n",
    "        print('Limiting %s to %s'%(param,fus[param]))\n",
    "        calibration.parameters.model.catchment.generation.set_param_values(param,pname,fus=fus[param])\n",
    "    else:\n",
    "        calibration.parameters.model.catchment.generation.set_param_values(param,pname)\n",
    "\n",
    "    # 2. Details of the PEST parameter. name, starting value, min, max\n",
    "    param_range = ranges[param]\n",
    "    # Decide what to use for the initial value... half way between min and max!\n",
    "    initial = 0.5*(param_range[0]+param_range[1])\n",
    "    \n",
    "    calibration.parameters.describe(pname,initial,param_range[0],param_range[1])"
   ]
  },
  {
   "cell_type": "markdown",
   "metadata": {},
   "source": [
    "**Note:** When we tell PEST how to set the parameter in the model, we use a Python statement that looks similar to statements from earlier sessions:\n",
    "```python\n",
    "calibration.parameters.model.catchment.runoff.set_param_values(param,pest_pname)\n",
    "# is similar to\n",
    "v.model.catchment.runoff.set_param_values(param,value)\n",
    "```\n",
    "The instructions to PEST will in fact translate to instructions to a Veneer client (`v`). So everything after `.parameter.` should be something you can call on a Veneer client. The other main difference is that, instead of passing in an actual value at this point, you pass `pest_pname`, which will be something like `$x1$` and will get translated to an actual value at runtime.\n"
   ]
  },
  {
   "cell_type": "markdown",
   "metadata": {},
   "source": [
    "The previous code has gone some way towards configuring the PEST job. We can get a preview of what has been achieved by asking to see the configuration as it stands.\n",
    "\n",
    "First, the state of the PTF (PEST Template File). You can see that it looks very much like a Python script, except where it has references to things like `$x1$` and the like"
   ]
  },
  {
   "cell_type": "code",
   "execution_count": 20,
   "metadata": {
    "collapsed": false
   },
   "outputs": [
    {
     "name": "stdout",
     "output_type": "stream",
     "text": [
      "ptf $\n",
      "LOG_FILE='detailed_log.csv'\n",
      "import os\n",
      "import math\n",
      "from veneer.pest_runtime import *\n",
      "from veneer import Veneer\n",
      "from veneer.stats import * \n",
      "import pandas as pd\n",
      "from veneer import general\n",
      "general.PRINT_URLS=False\n",
      "veneer_port=find_port()\n",
      "v = Veneer(port=veneer_port)\n",
      "detailed_log = True\n",
      "run_details=[]\n",
      "v.model.catchment.generation.set_param_values('HillslopeFineSDR',$HillslopeFineSDR$,fus='Sugarcane')\n",
      "v.model.catchment.generation.set_param_values('USLE_HSDR_Fine',$USLE_HSDR_Fine$)\n",
      "# Run Model\n",
      "v.drop_all_runs()\n",
      "v.run_model(**{})\n",
      "\n",
      "observed_ts={}\n",
      "pest_observations=[]\n",
      "\n",
      "# Get results\n",
      "run_results = v.retrieve_run()\n",
      "\n",
      "# Compute stats\n",
      "\n",
      "\n",
      "\n",
      "# Write summary results\n",
      "print(pest_observations)\n",
      "write_outputs(pest_observations,'_mw_dr_output.txt')\n",
      "write_outputs(pest_observations,'__outputs_to_keep.txt')\n",
      "\n",
      "run_details.append((\"HillslopeFineSDR\",$HillslopeFineSDR$))\n",
      "run_details.append((\"USLE_HSDR_Fine\",$USLE_HSDR_Fine$))\n",
      "run_details += pest_observations\n",
      "\n",
      "if not os.path.exists(LOG_FILE):\n",
      "\tf = open(LOG_FILE,'w')\n",
      "\tf.write(','.join([n for n,_ in run_details])+'\\n')\n",
      "else:\n",
      "\tf = open(LOG_FILE,'a')\n",
      "\n",
      "f.write(','.join([str(v) for _,v in run_details])+'\\n')\n",
      "\n"
     ]
    }
   ],
   "source": [
    "print(calibration.ptf_text())"
   ]
  },
  {
   "cell_type": "markdown",
   "metadata": {},
   "source": [
    "There are still gaps in the PTF - eg the `# Compute Stats` section - that will come as we describe the outputs and observations.\n",
    "\n",
    "The PCF (PEST Control File) is also partly complete:"
   ]
  },
  {
   "cell_type": "code",
   "execution_count": 21,
   "metadata": {
    "collapsed": false
   },
   "outputs": [
    {
     "name": "stdout",
     "output_type": "stream",
     "text": [
      "pcf\n",
      "* control data\n",
      "restart estimation\n",
      "2 0 1 0 1  \n",
      "1 1 single point    \n",
      "10.0 2.0 0.3 0.03 8   \n",
      "10.0 10.0 0.001   \n",
      "0.1     \n",
      "50 0.005 4 4 0.005 4   \n",
      "1 1 1       \n",
      "* singular value decomposition\n",
      "1\n",
      "2 5e-07\n",
      "0\n",
      "* parameter groups\n",
      "default_pg relative 0.001 0.0001 switch 1.5 parabolic   \n",
      "* parameter data\n",
      "HillslopeFineSDR none factor 15.0 0.0 30.0 default_pg 1.0 0.0 1\n",
      "USLE_HSDR_Fine none factor 15.0 0.0 30.0 default_pg 1.0 0.0 1 \n",
      "* observation groups\n",
      "default_og  \n",
      "* observation data\n",
      "\n",
      "* model command line\n",
      "python _run_mw_dr.py\n",
      "* model input/output\n",
      "_run_mw_dr.tpl _run_mw_dr.py\n",
      "_mw_dr_output.ins _mw_dr_output.txt\n",
      "\n"
     ]
    }
   ],
   "source": [
    "print(calibration.pcf_text())"
   ]
  },
  {
   "cell_type": "markdown",
   "metadata": {},
   "source": [
    "**Note:** There are a lot of options in the PCF - and we are using defaults. They are very well described in the PEST Manual and can be specified using `calibration.options`"
   ]
  },
  {
   "cell_type": "code",
   "execution_count": 22,
   "metadata": {
    "collapsed": false
   },
   "outputs": [
    {
     "data": {
      "text/plain": [
       "OrderedDict([('NPAR', None),\n",
       "             ('NOBS', None),\n",
       "             ('NPARGP', 1),\n",
       "             ('NPRIOR', 0),\n",
       "             ('NOBSGP', 1),\n",
       "             ('MAXCOMPDIM', ''),\n",
       "             ('DERZEROLIM', ''),\n",
       "             ('NTPLFLE', None),\n",
       "             ('NINSFLE', None),\n",
       "             ('PRECIS', 'single'),\n",
       "             ('DPOINT', 'point'),\n",
       "             ('NUMCOM', ''),\n",
       "             ('JACFILE', ''),\n",
       "             ('MESSFILE', ''),\n",
       "             ('OBSREREF', ''),\n",
       "             ('RLAMBDA1', 10.0),\n",
       "             ('RLAMFAC', 2.0),\n",
       "             ('PHIRATSUF', 0.3),\n",
       "             ('PHIREDLAM', 0.03),\n",
       "             ('NUMLAM', 8),\n",
       "             ('JACUPDATE', ''),\n",
       "             ('LAMFORGIVE', ''),\n",
       "             ('DERFORGIVE', ''),\n",
       "             ('RELPARMAX', 10.0),\n",
       "             ('FACPARMAX', 10.0),\n",
       "             ('FACORIG', 0.001),\n",
       "             ('IBOUNDSTICK', ''),\n",
       "             ('UPVECBEND', ''),\n",
       "             ('ABSPARMAX', ''),\n",
       "             ('PHIREDSWH', 0.1),\n",
       "             ('NOPTSWITCH', ''),\n",
       "             ('SPLITSWH', ''),\n",
       "             ('DOAUI', ''),\n",
       "             ('DOSENREUSE', ''),\n",
       "             ('BOUNDSCALE', ''),\n",
       "             ('NOPTMAX', 50),\n",
       "             ('PHIREDSTP', 0.005),\n",
       "             ('NPHISTP', 4),\n",
       "             ('NPHINORED', 4),\n",
       "             ('RELPARSTP', 0.005),\n",
       "             ('NRELPAR', 4),\n",
       "             ('PHISTOPTHRESH', ''),\n",
       "             ('LASTRUN', ''),\n",
       "             ('PHIABANDON', ''),\n",
       "             ('ICOV', 1),\n",
       "             ('ICOR', 1),\n",
       "             ('IEIG', 1),\n",
       "             ('IRES', ''),\n",
       "             ('JCOSAVE', ''),\n",
       "             ('VERBOSEREC', ''),\n",
       "             ('JCOSAVEITN', ''),\n",
       "             ('REISAVEITN', ''),\n",
       "             ('PARSAVEITN', ''),\n",
       "             ('PARSAVERUN', ''),\n",
       "             ('SVDMODE', 1),\n",
       "             ('MAXSING', None),\n",
       "             ('EIGTHRESH', 5e-07),\n",
       "             ('EIGWRITE', 0),\n",
       "             ('SIM_OPTIONS', {})])"
      ]
     },
     "execution_count": 22,
     "metadata": {},
     "output_type": "execute_result"
    }
   ],
   "source": [
    "calibration.options"
   ]
  },
  {
   "cell_type": "markdown",
   "metadata": {},
   "source": [
    "### Configuring the outputs and observations\n",
    "\n",
    "PEST needs to know what its calibrating to. In our case, that means a time series of observed data, and a corresponding modelled time series. We also need the objective function and the time period for the calibration.\n",
    "\n",
    "PEST has a tool for processing time series data (TSPROC) but we don't use it here. Rather, we compute the objective values in Python and just pass single numbers back to PEST.\n",
    "\n",
    "We'll start by loading the observed flow time series data into this notebook and exploring the data a bit...\n",
    "\n",
    "**Note**: Loading the data at this point serves two purposes:\n",
    "1. We become more familiar with the data and can identify things like the time period we want to calibrate over, and\n",
    "2. We work out the exact `pandas` command needed to load the data. We need to give this command to PEST later on to call as part of the simulations..."
   ]
  },
  {
   "cell_type": "code",
   "execution_count": 23,
   "metadata": {
    "collapsed": false
   },
   "outputs": [
    {
     "data": {
      "text/html": [
       "<div>\n",
       "<table border=\"1\" class=\"dataframe\">\n",
       "  <thead>\n",
       "    <tr style=\"text-align: right;\">\n",
       "      <th></th>\n",
       "      <th>AndromacheRvJochheims</th>\n",
       "      <th>BlacksCkWhitefords</th>\n",
       "      <th>CattleCkGargett</th>\n",
       "      <th>OConnellRvCaravanPark</th>\n",
       "      <th>OConnellRvStaffordsCrossing</th>\n",
       "      <th>PioneerRvDumbletonPumpStation</th>\n",
       "      <th>SandyCkHomebush</th>\n",
       "    </tr>\n",
       "  </thead>\n",
       "  <tbody>\n",
       "    <tr>\n",
       "      <th>2006-2007</th>\n",
       "      <td>NaN</td>\n",
       "      <td>NaN</td>\n",
       "      <td>147301</td>\n",
       "      <td>NaN</td>\n",
       "      <td>24781</td>\n",
       "      <td>126954</td>\n",
       "      <td>NaN</td>\n",
       "    </tr>\n",
       "    <tr>\n",
       "      <th>2007-2008</th>\n",
       "      <td>43857</td>\n",
       "      <td>82777.590425</td>\n",
       "      <td>27359</td>\n",
       "      <td>141778</td>\n",
       "      <td>53727</td>\n",
       "      <td>252492</td>\n",
       "      <td>NaN</td>\n",
       "    </tr>\n",
       "    <tr>\n",
       "      <th>2008-2009</th>\n",
       "      <td>28941</td>\n",
       "      <td>79466.000000</td>\n",
       "      <td>229608</td>\n",
       "      <td>156229</td>\n",
       "      <td>33674</td>\n",
       "      <td>155739</td>\n",
       "      <td>NaN</td>\n",
       "    </tr>\n",
       "    <tr>\n",
       "      <th>2009-2010</th>\n",
       "      <td>NaN</td>\n",
       "      <td>NaN</td>\n",
       "      <td>NaN</td>\n",
       "      <td>NaN</td>\n",
       "      <td>NaN</td>\n",
       "      <td>373818</td>\n",
       "      <td>37814</td>\n",
       "    </tr>\n",
       "    <tr>\n",
       "      <th>2010-2011</th>\n",
       "      <td>NaN</td>\n",
       "      <td>NaN</td>\n",
       "      <td>NaN</td>\n",
       "      <td>NaN</td>\n",
       "      <td>NaN</td>\n",
       "      <td>819023</td>\n",
       "      <td>63116</td>\n",
       "    </tr>\n",
       "    <tr>\n",
       "      <th>2011-2012</th>\n",
       "      <td>NaN</td>\n",
       "      <td>NaN</td>\n",
       "      <td>NaN</td>\n",
       "      <td>NaN</td>\n",
       "      <td>NaN</td>\n",
       "      <td>210830</td>\n",
       "      <td>31359</td>\n",
       "    </tr>\n",
       "    <tr>\n",
       "      <th>2012-2013</th>\n",
       "      <td>NaN</td>\n",
       "      <td>NaN</td>\n",
       "      <td>NaN</td>\n",
       "      <td>NaN</td>\n",
       "      <td>NaN</td>\n",
       "      <td>131796</td>\n",
       "      <td>11333</td>\n",
       "    </tr>\n",
       "    <tr>\n",
       "      <th>2013-2014</th>\n",
       "      <td>NaN</td>\n",
       "      <td>NaN</td>\n",
       "      <td>NaN</td>\n",
       "      <td>8532</td>\n",
       "      <td>NaN</td>\n",
       "      <td>35372</td>\n",
       "      <td>15060</td>\n",
       "    </tr>\n",
       "  </tbody>\n",
       "</table>\n",
       "</div>"
      ],
      "text/plain": [
       "           AndromacheRvJochheims  BlacksCkWhitefords  CattleCkGargett  \\\n",
       "2006-2007                    NaN                 NaN           147301   \n",
       "2007-2008                  43857        82777.590425            27359   \n",
       "2008-2009                  28941        79466.000000           229608   \n",
       "2009-2010                    NaN                 NaN              NaN   \n",
       "2010-2011                    NaN                 NaN              NaN   \n",
       "2011-2012                    NaN                 NaN              NaN   \n",
       "2012-2013                    NaN                 NaN              NaN   \n",
       "2013-2014                    NaN                 NaN              NaN   \n",
       "\n",
       "           OConnellRvCaravanPark  OConnellRvStaffordsCrossing  \\\n",
       "2006-2007                    NaN                        24781   \n",
       "2007-2008                 141778                        53727   \n",
       "2008-2009                 156229                        33674   \n",
       "2009-2010                    NaN                          NaN   \n",
       "2010-2011                    NaN                          NaN   \n",
       "2011-2012                    NaN                          NaN   \n",
       "2012-2013                    NaN                          NaN   \n",
       "2013-2014                   8532                          NaN   \n",
       "\n",
       "           PioneerRvDumbletonPumpStation  SandyCkHomebush  \n",
       "2006-2007                         126954              NaN  \n",
       "2007-2008                         252492              NaN  \n",
       "2008-2009                         155739              NaN  \n",
       "2009-2010                         373818            37814  \n",
       "2010-2011                         819023            63116  \n",
       "2011-2012                         210830            31359  \n",
       "2012-2013                         131796            11333  \n",
       "2013-2014                          35372            15060  "
      ]
     },
     "execution_count": 23,
     "metadata": {},
     "output_type": "execute_result"
    }
   ],
   "source": [
    "import pandas as pd\n",
    "obs = pd.read_csv('obs_sed.csv',index_col=0)\n",
    "obs # Show every fifty days"
   ]
  },
  {
   "cell_type": "code",
   "execution_count": null,
   "metadata": {
    "collapsed": false
   },
   "outputs": [],
   "source": []
  },
  {
   "cell_type": "markdown",
   "metadata": {},
   "source": [
    "**Note:** If your observed data had gaps during your simulation period, this would be a good point to establish the overlapping period in order to inform the simulation/calibration dates.\n",
    "\n",
    "In our case, the data aligns with the simulation, so the simulation dates we want are just the start and end of the time series:"
   ]
  },
  {
   "cell_type": "markdown",
   "metadata": {},
   "source": [
    "Now we can tell PEST about the observations and the comparison we want.\n",
    "\n",
    "We need to tell PEST how to load the observed data - and the pandas command we used to do a test load will help:\n",
    "\n",
    "```python\n",
    "pd.read_csv('SyntheticObservedFlow.csv',parse_dates=True,dayfirst=True,index_col=0)\n",
    "# will become\n",
    "calibration.observations.data.read_csv('SyntheticObservedFlow.csv',parse_dates=True,dayfirst=True,index_col=0)\n",
    "```\n"
   ]
  },
  {
   "cell_type": "code",
   "execution_count": 24,
   "metadata": {
    "collapsed": true
   },
   "outputs": [],
   "source": [
    "calibration.observations.data.read_csv('obs_sed.csv',index_col=0)"
   ]
  },
  {
   "cell_type": "markdown",
   "metadata": {},
   "source": [
    "And we can set up the comparisons"
   ]
  },
  {
   "cell_type": "code",
   "execution_count": 25,
   "metadata": {
    "collapsed": true
   },
   "outputs": [],
   "source": [
    "from veneer import stats\n",
    "for mod,meas in zip(modelledSites,measurementSites):\n",
    "    comparison={'NetworkElement':mod,'RecordingVariable':'Constituents@Sediment - Fine@Downstream Flow Mass'}\n",
    "    calibration.observations.compare(meas,comparison,stat=stats.PBIAS)\n"
   ]
  },
  {
   "cell_type": "markdown",
   "metadata": {},
   "source": [
    "veneer-py configures the observation based on the column name in the observed flow file (so that you can have multiple comparisons from different columns and files)"
   ]
  },
  {
   "cell_type": "code",
   "execution_count": 26,
   "metadata": {
    "collapsed": false
   },
   "outputs": [],
   "source": [
    "new_instructions = []\n",
    "for i,line in enumerate(calibration.observations.instructions):\n",
    "    if i%6:\n",
    "        new_instructions.append(line)\n",
    "        continue\n",
    "    new_instructions.append(line+'.by_wateryear(7).sum()')\n",
    "calibration.observations.instructions = new_instructions"
   ]
  },
  {
   "cell_type": "code",
   "execution_count": null,
   "metadata": {
    "collapsed": true
   },
   "outputs": [],
   "source": []
  },
  {
   "cell_type": "markdown",
   "metadata": {},
   "source": [
    "We also need to reference a stats function. You can write your own (but you'll need to store it in a `.py` file) or you can access one from `veneer.stats`"
   ]
  },
  {
   "cell_type": "markdown",
   "metadata": {},
   "source": [
    "We need to do one more thing: We need to make sure that each of our _n_ servers is configured to record the output we require.\n",
    "\n",
    "We'll need to loop over each of our veneer clients and configure recording. We have `comparison` which describes what we want to record. We can disable all other outputs"
   ]
  },
  {
   "cell_type": "code",
   "execution_count": 27,
   "metadata": {
    "collapsed": false,
    "scrolled": false
   },
   "outputs": [
    {
     "name": "stdout",
     "output_type": "stream",
     "text": [
      "Configuring recording for server on port 9950\n",
      "Configuring recording for server on port 9950\n",
      "Configuring recording for server on port 9950\n",
      "Configuring recording for server on port 9950\n",
      "Configuring recording for server on port 9950\n",
      "Configuring recording for server on port 9950\n",
      "Configuring recording for server on port 9950\n",
      "Configuring recording for server on port 9951\n",
      "Configuring recording for server on port 9951\n",
      "Configuring recording for server on port 9951\n",
      "Configuring recording for server on port 9951\n",
      "Configuring recording for server on port 9951\n",
      "Configuring recording for server on port 9951\n",
      "Configuring recording for server on port 9951\n",
      "Configuring recording for server on port 9952\n",
      "Configuring recording for server on port 9952\n",
      "Configuring recording for server on port 9952\n",
      "Configuring recording for server on port 9952\n",
      "Configuring recording for server on port 9952\n",
      "Configuring recording for server on port 9952\n",
      "Configuring recording for server on port 9952\n",
      "Configuring recording for server on port 9953\n",
      "Configuring recording for server on port 9953\n",
      "Configuring recording for server on port 9953\n",
      "Configuring recording for server on port 9953\n",
      "Configuring recording for server on port 9953\n",
      "Configuring recording for server on port 9953\n",
      "Configuring recording for server on port 9953\n"
     ]
    }
   ],
   "source": [
    "for v in vs:\n",
    "    v.configure_recording(disable=[{}])\n",
    "    for mod in modelledSites:\n",
    "        comparison={'NetworkElement':mod,'RecordingVariable':'Constituents@Sediment - Fine@Downstream Flow Mass'}\n",
    "        veneer.log('Configuring recording for server on port %d'%v.port)\n",
    "        v.configure_recording(enable=[comparison])"
   ]
  },
  {
   "cell_type": "markdown",
   "metadata": {},
   "source": [
    "If we look at the content of the PEST config files now, we'll see more details filled in:"
   ]
  },
  {
   "cell_type": "code",
   "execution_count": 28,
   "metadata": {
    "collapsed": false
   },
   "outputs": [
    {
     "name": "stdout",
     "output_type": "stream",
     "text": [
      "ptf $\n",
      "LOG_FILE='detailed_log.csv'\n",
      "import os\n",
      "import math\n",
      "from veneer.pest_runtime import *\n",
      "from veneer import Veneer\n",
      "from veneer.stats import * \n",
      "import pandas as pd\n",
      "from veneer import general\n",
      "general.PRINT_URLS=False\n",
      "veneer_port=find_port()\n",
      "v = Veneer(port=veneer_port)\n",
      "detailed_log = True\n",
      "run_details=[]\n",
      "v.model.catchment.generation.set_param_values('HillslopeFineSDR',$HillslopeFineSDR$,fus='Sugarcane')\n",
      "v.model.catchment.generation.set_param_values('USLE_HSDR_Fine',$USLE_HSDR_Fine$)\n",
      "# Run Model\n",
      "v.drop_all_runs()\n",
      "v.run_model(**{})\n",
      "\n",
      "observed_ts={}\n",
      "pest_observations=[]\n",
      "\n",
      "# Get results\n",
      "run_results = v.retrieve_run()\n",
      "\n",
      "# Compute stats\n",
      "observed_ts.update(pd.read_csv('obs_sed.csv',index_col=0).dropna(how='all').to_dict('series'))\n",
      "mod_ts = v.retrieve_multiple_time_series(run_data=run_results,criteria={'NetworkElement': '_gauge_124003A_AndromacheRvJochheims', 'RecordingVariable': 'Constituents@Sediment - Fine@Downstream Flow Mass'},timestep=\"daily\").by_wateryear(7).sum()\n",
      "print(mod_ts.columns)\n",
      "assert(len(mod_ts.columns==0))\n",
      "mod_ts = mod_ts[mod_ts.columns[0]]\n",
      "obs_ts = observed_ts[\"AndromacheRvJochheims\"].dropna()\n",
      "print(len(obs_ts),obs_ts.index.dtype,mod_ts.index.dtype)\n",
      "pest_observations.append((\"AndromacheRvJochheims\",PBIAS(obs_ts,mod_ts))).by_wateryear(7).sum()\n",
      "mod_ts = v.retrieve_multiple_time_series(run_data=run_results,criteria={'NetworkElement': '_gauge_124001B_OConnellRvStaffordsCrossing', 'RecordingVariable': 'Constituents@Sediment - Fine@Downstream Flow Mass'},timestep=\"daily\")\n",
      "print(mod_ts.columns)\n",
      "assert(len(mod_ts.columns==0))\n",
      "mod_ts = mod_ts[mod_ts.columns[0]]\n",
      "obs_ts = observed_ts[\"OConnellRvStaffordsCrossing\"].dropna()\n",
      "print(len(obs_ts),obs_ts.index.dtype,mod_ts.index.dtype).by_wateryear(7).sum()\n",
      "pest_observations.append((\"OConnellRvStaffordsCrossing\",PBIAS(obs_ts,mod_ts)))\n",
      "mod_ts = v.retrieve_multiple_time_series(run_data=run_results,criteria={'NetworkElement': '_Outlet Node12', 'RecordingVariable': 'Constituents@Sediment - Fine@Downstream Flow Mass'},timestep=\"daily\")\n",
      "print(mod_ts.columns)\n",
      "assert(len(mod_ts.columns==0))\n",
      "mod_ts = mod_ts[mod_ts.columns[0]]\n",
      "obs_ts = observed_ts[\"OConnellRvCaravanPark\"].dropna().by_wateryear(7).sum()\n",
      "print(len(obs_ts),obs_ts.index.dtype,mod_ts.index.dtype)\n",
      "pest_observations.append((\"OConnellRvCaravanPark\",PBIAS(obs_ts,mod_ts)))\n",
      "mod_ts = v.retrieve_multiple_time_series(run_data=run_results,criteria={'NetworkElement': '_extraction_CattleCkGargett_125004A', 'RecordingVariable': 'Constituents@Sediment - Fine@Downstream Flow Mass'},timestep=\"daily\")\n",
      "print(mod_ts.columns)\n",
      "assert(len(mod_ts.columns==0))\n",
      "mod_ts = mod_ts[mod_ts.columns[0]].by_wateryear(7).sum()\n",
      "obs_ts = observed_ts[\"CattleCkGargett\"].dropna()\n",
      "print(len(obs_ts),obs_ts.index.dtype,mod_ts.index.dtype)\n",
      "pest_observations.append((\"CattleCkGargett\",PBIAS(obs_ts,mod_ts)))\n",
      "mod_ts = v.retrieve_multiple_time_series(run_data=run_results,criteria={'NetworkElement': '_gauge_125005A_BlacksCkWhitefords', 'RecordingVariable': 'Constituents@Sediment - Fine@Downstream Flow Mass'},timestep=\"daily\")\n",
      "print(mod_ts.columns)\n",
      "assert(len(mod_ts.columns==0)).by_wateryear(7).sum()\n",
      "mod_ts = mod_ts[mod_ts.columns[0]]\n",
      "obs_ts = observed_ts[\"BlacksCkWhitefords\"].dropna()\n",
      "print(len(obs_ts),obs_ts.index.dtype,mod_ts.index.dtype)\n",
      "pest_observations.append((\"BlacksCkWhitefords\",PBIAS(obs_ts,mod_ts)))\n",
      "mod_ts = v.retrieve_multiple_time_series(run_data=run_results,criteria={'NetworkElement': '_gauge_125013A_PioneerRvDumbletonPumpStation', 'RecordingVariable': 'Constituents@Sediment - Fine@Downstream Flow Mass'},timestep=\"daily\")\n",
      "print(mod_ts.columns).by_wateryear(7).sum()\n",
      "assert(len(mod_ts.columns==0))\n",
      "mod_ts = mod_ts[mod_ts.columns[0]]\n",
      "obs_ts = observed_ts[\"PioneerRvDumbletonPumpStation\"].dropna()\n",
      "print(len(obs_ts),obs_ts.index.dtype,mod_ts.index.dtype)\n",
      "pest_observations.append((\"PioneerRvDumbletonPumpStation\",PBIAS(obs_ts,mod_ts)))\n",
      "mod_ts = v.retrieve_multiple_time_series(run_data=run_results,criteria={'NetworkElement': '_gauge_126001A_SandyCkHomebush', 'RecordingVariable': 'Constituents@Sediment - Fine@Downstream Flow Mass'},timestep=\"daily\").by_wateryear(7).sum()\n",
      "print(mod_ts.columns)\n",
      "assert(len(mod_ts.columns==0))\n",
      "mod_ts = mod_ts[mod_ts.columns[0]]\n",
      "obs_ts = observed_ts[\"SandyCkHomebush\"].dropna()\n",
      "print(len(obs_ts),obs_ts.index.dtype,mod_ts.index.dtype)\n",
      "pest_observations.append((\"SandyCkHomebush\",PBIAS(obs_ts,mod_ts))).by_wateryear(7).sum()\n",
      "\n",
      "# Write summary results\n",
      "print(pest_observations)\n",
      "write_outputs(pest_observations,'_mw_dr_output.txt')\n",
      "write_outputs(pest_observations,'__outputs_to_keep.txt')\n",
      "\n",
      "run_details.append((\"HillslopeFineSDR\",$HillslopeFineSDR$))\n",
      "run_details.append((\"USLE_HSDR_Fine\",$USLE_HSDR_Fine$))\n",
      "run_details += pest_observations\n",
      "\n",
      "if not os.path.exists(LOG_FILE):\n",
      "\tf = open(LOG_FILE,'w')\n",
      "\tf.write(','.join([n for n,_ in run_details])+'\\n')\n",
      "else:\n",
      "\tf = open(LOG_FILE,'a')\n",
      "\n",
      "f.write(','.join([str(v) for _,v in run_details])+'\\n')\n",
      "\n"
     ]
    }
   ],
   "source": [
    "print(calibration.ptf_text())"
   ]
  },
  {
   "cell_type": "code",
   "execution_count": 29,
   "metadata": {
    "collapsed": false
   },
   "outputs": [
    {
     "name": "stdout",
     "output_type": "stream",
     "text": [
      "pif $\n",
      "$AndromacheRvJochheims$ !AndromacheRvJochheims!\n",
      "$OConnellRvStaffordsCrossing$ !OConnellRvStaffordsCrossing!\n",
      "$OConnellRvCaravanPark$ !OConnellRvCaravanPark!\n",
      "$CattleCkGargett$ !CattleCkGargett!\n",
      "$BlacksCkWhitefords$ !BlacksCkWhitefords!\n",
      "$PioneerRvDumbletonPumpStation$ !PioneerRvDumbletonPumpStation!\n",
      "$SandyCkHomebush$ !SandyCkHomebush!\n"
     ]
    }
   ],
   "source": [
    "print(calibration.pif_text())"
   ]
  },
  {
   "cell_type": "code",
   "execution_count": 30,
   "metadata": {
    "collapsed": false
   },
   "outputs": [
    {
     "name": "stdout",
     "output_type": "stream",
     "text": [
      "pcf\n",
      "* control data\n",
      "restart estimation\n",
      "2 7 1 0 1  \n",
      "1 1 single point    \n",
      "10.0 2.0 0.3 0.03 8   \n",
      "10.0 10.0 0.001   \n",
      "0.1     \n",
      "50 0.005 4 4 0.005 4   \n",
      "1 1 1       \n",
      "* singular value decomposition\n",
      "1\n",
      "2 5e-07\n",
      "0\n",
      "* parameter groups\n",
      "default_pg relative 0.001 0.0001 switch 1.5 parabolic   \n",
      "* parameter data\n",
      "HillslopeFineSDR none factor 15.0 0.0 30.0 default_pg 1.0 0.0 1\n",
      "USLE_HSDR_Fine none factor 15.0 0.0 30.0 default_pg 1.0 0.0 1 \n",
      "* observation groups\n",
      "default_og  \n",
      "* observation data\n",
      "AndromacheRvJochheims 0 1.0 default_og\n",
      "OConnellRvStaffordsCrossing 0 1.0 default_og\n",
      "OConnellRvCaravanPark 0 1.0 default_og\n",
      "CattleCkGargett 0 1.0 default_og\n",
      "BlacksCkWhitefords 0 1.0 default_og\n",
      "PioneerRvDumbletonPumpStation 0 1.0 default_og\n",
      "SandyCkHomebush 0 1.0 default_og\n",
      "* model command line\n",
      "python _run_mw_dr.py\n",
      "* model input/output\n",
      "_run_mw_dr.tpl _run_mw_dr.py\n",
      "_mw_dr_output.ins _mw_dr_output.txt\n",
      "\n"
     ]
    }
   ],
   "source": [
    "print(calibration.pcf_text())"
   ]
  },
  {
   "cell_type": "code",
   "execution_count": 31,
   "metadata": {
    "collapsed": false
   },
   "outputs": [
    {
     "name": "stdout",
     "output_type": "stream",
     "text": [
      "prf\n",
      "4 0 0.5 1 0 run_slow_fac=1.5\n",
      "Slave_9950 .\\Slave_9950\\\n",
      "Slave_9951 .\\Slave_9951\\\n",
      "Slave_9952 .\\Slave_9952\\\n",
      "Slave_9953 .\\Slave_9953\\\n",
      "1.0 1.0 1.0 1.0\n",
      "\n"
     ]
    }
   ],
   "source": [
    "print(calibration.prf_text())"
   ]
  },
  {
   "cell_type": "code",
   "execution_count": 32,
   "metadata": {
    "collapsed": false
   },
   "outputs": [
    {
     "data": {
      "text/plain": [
       "'mod_ts = v.retrieve_multiple_time_series(run_data=run_results,criteria={\\'NetworkElement\\': \\'_gauge_124003A_AndromacheRvJochheims\\', \\'RecordingVariable\\': \\'Constituents@Sediment - Fine@Downstream Flow Mass\\'},timestep=\"daily\").by_wateryear(7).sum()'"
      ]
     },
     "execution_count": 32,
     "metadata": {},
     "output_type": "execute_result"
    }
   ],
   "source": [
    "calibration.observations.instructions[0]"
   ]
  },
  {
   "cell_type": "markdown",
   "metadata": {},
   "source": [
    "## Running PEST\n",
    "\n",
    "We can now invoke the PEST run.\n",
    "\n",
    "When you call `calibration.run()`, PEST will start, and, in this case, it will start parallel PEST mode with _n_ workers. However all output of PEST will be in files, and in the command prompt window from which you started the Jupyter notebook. You will need to look in these places for progress of the calibration.\n",
    "\n",
    "When PEST finishes, you'll get the calibrated parameters back as well as details of the PEST run. The PEST manual covers the outputs of a PEST run in much detail"
   ]
  },
  {
   "cell_type": "markdown",
   "metadata": {},
   "source": [
    "**Note:** PEST needs to be in your Windows path. If its not, the `run()` command won't work. You can temporarily add PEST to your path from within the notebook:\n",
    "\n"
   ]
  },
  {
   "cell_type": "code",
   "execution_count": 40,
   "metadata": {
    "collapsed": true
   },
   "outputs": [],
   "source": [
    "pest_path='C:\\\\PEST'\n",
    "import os\n",
    "os.environ['PATH'] = os.environ['PATH']+';'+pest_path"
   ]
  },
  {
   "cell_type": "code",
   "execution_count": 43,
   "metadata": {
    "collapsed": false
   },
   "outputs": [
    {
     "data": {
      "text/plain": [
       "'6\\n3\\ns\\n1111\\nn\\nn\\n0.001\\n40\\n0.001\\n40\\n0.01\\n10\\n50000\\ny\\n'"
      ]
     },
     "execution_count": 43,
     "metadata": {},
     "output_type": "execute_result"
    }
   ],
   "source": [
    "calibration.stdio_params()"
   ]
  },
  {
   "cell_type": "code",
   "execution_count": null,
   "metadata": {
    "collapsed": true
   },
   "outputs": [],
   "source": []
  },
  {
   "cell_type": "code",
   "execution_count": null,
   "metadata": {
    "collapsed": true
   },
   "outputs": [],
   "source": []
  },
  {
   "cell_type": "code",
   "execution_count": 42,
   "metadata": {
    "collapsed": false
   },
   "outputs": [
    {
     "ename": "NameError",
     "evalue": "name 'results' is not defined",
     "output_type": "error",
     "traceback": [
      "\u001b[1;31m---------------------------------------------------------------------------\u001b[0m",
      "\u001b[1;31mNameError\u001b[0m                                 Traceback (most recent call last)",
      "\u001b[1;32m<ipython-input-42-8780c3eee0aa>\u001b[0m in \u001b[0;36m<module>\u001b[1;34m()\u001b[0m\n\u001b[0;32m      1\u001b[0m \u001b[1;31m#results = calibration.get_results()\u001b[0m\u001b[1;33m\u001b[0m\u001b[1;33m\u001b[0m\u001b[0m\n\u001b[1;32m----> 2\u001b[1;33m \u001b[0mresults\u001b[0m\u001b[1;33m[\u001b[0m\u001b[1;34m'parameters'\u001b[0m\u001b[1;33m]\u001b[0m\u001b[1;33m\u001b[0m\u001b[0m\n\u001b[0m",
      "\u001b[1;31mNameError\u001b[0m: name 'results' is not defined"
     ]
    }
   ],
   "source": [
    "#results = calibration.get_results()\n",
    "results['parameters']"
   ]
  },
  {
   "cell_type": "code",
   "execution_count": 37,
   "metadata": {
    "collapsed": false
   },
   "outputs": [],
   "source": [
    "kill_all_now(processes)"
   ]
  },
  {
   "cell_type": "markdown",
   "metadata": {},
   "source": [
    "## While you're waiting...\n",
    "\n",
    "Now would be a good time to start sketching out an exercise of your own to tackle with veneer-py!"
   ]
  },
  {
   "cell_type": "code",
   "execution_count": null,
   "metadata": {
    "collapsed": true
   },
   "outputs": [],
   "source": []
  },
  {
   "cell_type": "code",
   "execution_count": null,
   "metadata": {
    "collapsed": false
   },
   "outputs": [],
   "source": []
  },
  {
   "cell_type": "code",
   "execution_count": null,
   "metadata": {
    "collapsed": true
   },
   "outputs": [],
   "source": []
  },
  {
   "cell_type": "code",
   "execution_count": null,
   "metadata": {
    "collapsed": false
   },
   "outputs": [],
   "source": []
  },
  {
   "cell_type": "code",
   "execution_count": null,
   "metadata": {
    "collapsed": false
   },
   "outputs": [],
   "source": []
  },
  {
   "cell_type": "code",
   "execution_count": null,
   "metadata": {
    "collapsed": true
   },
   "outputs": [],
   "source": []
  }
 ],
 "metadata": {
  "anaconda-cloud": {},
  "kernelspec": {
   "display_name": "Python [default]",
   "language": "python",
   "name": "python3"
  },
  "language_info": {
   "codemirror_mode": {
    "name": "ipython",
    "version": 3
   },
   "file_extension": ".py",
   "mimetype": "text/x-python",
   "name": "python",
   "nbconvert_exporter": "python",
   "pygments_lexer": "ipython3",
   "version": "3.5.2"
  }
 },
 "nbformat": 4,
 "nbformat_minor": 0
}
