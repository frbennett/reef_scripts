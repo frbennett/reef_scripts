{
 "cells": [
  {
   "cell_type": "code",
   "execution_count": 1,
   "metadata": {},
   "outputs": [],
   "source": [
    "import glob\n",
    "import os\n",
    "import shutil\n",
    "import pandas as pd\n",
    "\n",
    "\n",
    "#searchpath = \"R:/ReefSugar_RC7/MW/AdjustedTSforDS/\"\n",
    "searchpath = r'\\\\athenasmb\\pdreef\\RC10_RC2019\\GBRF_Scenarios\\CFactor\\Burdekin\\DtoCTimeSeries'\n",
    "outpath = r'P:\\projects\\eReefs\\GBRF_SpeedScenarios\\BurdekinGrz\\DtoCTimeSeries'\n",
    "regionInfoFile = r'P:\\projects\\eReefs\\GBRF_SpeedScenarios\\BurdekinGrz\\BU_ReportingRegions_Details.csv'\n",
    "\n",
    "#searchString = \"Erosion_TPerHa\"\n",
    "\n",
    "knownDirs = ['Cfact', 'KLSC', 'KLSC_Fines']\n",
    "#knownDirs = ['KLSC_Fines']\n",
    "\n"
   ]
  },
  {
   "cell_type": "code",
   "execution_count": 2,
   "metadata": {},
   "outputs": [],
   "source": [
    "regionInfoDF = pd.read_csv(regionInfoFile)\n",
    "\n",
    "#Not enough control\n",
    "#regionInfoDict = regionInfoDF.to_dict()\n",
    "regionInfoDict = {}\n",
    "\n",
    "for index, row in regionInfoDF.iterrows():\n",
    "    \n",
    "    regionInfoDict[row['Catchmt']] = row['AUSGMCAS']\n",
    "\n",
    "\n",
    "#regionInfoDict"
   ]
  },
  {
   "cell_type": "code",
   "execution_count": 3,
   "metadata": {},
   "outputs": [
    {
     "name": "stdout",
     "output_type": "stream",
     "text": [
      "All done\n"
     ]
    }
   ],
   "source": [
    "for dataDir in knownDirs:\n",
    "    \n",
    "    sourcePath = os.path.join(searchpath, dataDir, '*.csv')\n",
    "    for fullFileName in glob.glob(sourcePath):\n",
    "        \n",
    "        allDestName = os.path.join(outpath, 'All', dataDir)\n",
    "        #print(fullFileName)\n",
    "        localName = os.path.basename(fullFileName)\n",
    "        #print(localName)\n",
    "        catchName = localName[:localName.find('$')]\n",
    "        #print(catchName)\n",
    "        \n",
    "        if catchName in regionInfoDict:\n",
    "            \n",
    "            specificDestName = os.path.join(outpath, regionInfoDict[catchName], dataDir)\n",
    "            \n",
    "            shutil.copy(fullFileName, allDestName)\n",
    "            shutil.copy(fullFileName, specificDestName)\n",
    "\n",
    "print(\"All done\")\n",
    "\n"
   ]
  },
  {
   "cell_type": "code",
   "execution_count": null,
   "metadata": {},
   "outputs": [],
   "source": []
  }
 ],
 "metadata": {
  "kernelspec": {
   "display_name": "Python 3",
   "language": "python",
   "name": "python3"
  },
  "language_info": {
   "codemirror_mode": {
    "name": "ipython",
    "version": 3
   },
   "file_extension": ".py",
   "mimetype": "text/x-python",
   "name": "python",
   "nbconvert_exporter": "python",
   "pygments_lexer": "ipython3",
   "version": "3.7.3"
  }
 },
 "nbformat": 4,
 "nbformat_minor": 2
}
