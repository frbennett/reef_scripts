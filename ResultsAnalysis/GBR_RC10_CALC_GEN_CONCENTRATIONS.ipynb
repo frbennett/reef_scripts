{
 "cells": [
  {
   "cell_type": "code",
   "execution_count": 13,
   "metadata": {},
   "outputs": [],
   "source": [
    "##Robs summariser of RC8 regoinal Contributor tables\n",
    "import pandas as pd\n",
    "import numpy as np\n",
    "import os\n",
    "\n",
    "#mainPath = 'P:\\projects\\RC9_ResultsSets\\RegContribTables'\n",
    "mainPath = r'\\\\athenasmb\\pdreef\\RC10_RC2019\\RC10_RC2019_ResultsSets_PointOfTruth'\n",
    "outPath = r'P:\\projects\\RC10_ResultsSets'\n",
    "summariesOutFolder = 'GenerationConcentrations'\n",
    "baseFolderEnd = 'BASE_RC10'\n",
    "regContributorFileName = 'RegContributorDataGrid.csv'\n",
    "outputCSVEnd = 'GenerationConcentrations.csv'\n",
    "baselineScenarioName = 'Baseline'\n",
    "reportCardString = 'RC2019'\n",
    "\n",
    "pathToContstitsToGrpFile = r'\\\\athenasmb\\pdreef\\RC10_RC2019\\RC10_RC2019_ResultsSets_PointOfTruth\\constituentsToGroups.csv'\n",
    "\n",
    "\n",
    "#altRegLinker = 'Catchmt'\n",
    "standardRegName = 'RepReg'\n",
    "#altRegColName = 'AUSGMCAS'\n",
    "origLinker = 'ModelElement'\n",
    "\n",
    "origLoadToStream = 'LoadToStream (kg)'\n",
    "origLoadToExport = 'LoadToRegExport (kg)'\n",
    "\n",
    "#regionIDs = ['MW']\n",
    "regionIDs = ['BM','BU','CY','FI','MW','WT']\n",
    "Constituents = ['Sediment - Fine', 'N_DIN']\n",
    "#FUs = ['Sugarcane', 'Grazing Open', 'Grazing Forested', 'Bananas']\n",
    "\n",
    "scenarioToFolderDict = {baselineScenarioName:baseFolderEnd}\n"
   ]
  },
  {
   "cell_type": "code",
   "execution_count": 14,
   "metadata": {},
   "outputs": [],
   "source": [
    "if not os.path.exists(outPath):\n",
    "    os.makedirs(outPath)\n",
    "    print(\"Made dir: \" + outPath)"
   ]
  },
  {
   "cell_type": "code",
   "execution_count": 15,
   "metadata": {},
   "outputs": [],
   "source": [
    "if not os.path.exists(outPath + '\\\\' + summariesOutFolder):\n",
    "    os.makedirs(outPath + '\\\\' + summariesOutFolder)\n",
    "    print(\"Made dir: \" + outPath + '\\\\' + summariesOutFolder)"
   ]
  },
  {
   "cell_type": "code",
   "execution_count": 16,
   "metadata": {},
   "outputs": [],
   "source": [
    "def getPathInfo(regionIDString, scenarioString):\n",
    "    fileIn = mainPath + '\\\\' + regionIDString + '\\\\Model_Outputs\\\\' + regionIDString + '_' + scenarioToFolderDict[scenarioString] + '\\\\' + regContributorFileName\n",
    "    fileOut = outPath + '\\\\' + summariesOutFolder + '\\\\' + regionIDString + '_' + reportCardString + '_' + scenarioString + '_' + outputCSVEnd\n",
    "    return fileIn, fileOut\n"
   ]
  },
  {
   "cell_type": "code",
   "execution_count": 17,
   "metadata": {},
   "outputs": [],
   "source": [
    "def produceSummaryFromRegContrib(regionIDString, scenarioName):\n",
    "    \n",
    "    theFileIn, theFileOut = getPathInfo(regionIDString, scenarioName)\n",
    "    \n",
    "    print(\"Processing \" + theFileIn + \" Scenario: \" + scenarioName)\n",
    "    \n",
    "    rawcontrib = pd.read_csv(theFileIn)\n",
    "    \n",
    "    #Flow\n",
    "    flowDF = rawcontrib.loc[rawcontrib['Constituent'].isin(['Flow'])]\n",
    "    flowTotals = pd.DataFrame(flowDF.groupby(['ModelElement','Constituent']).agg({origLoadToStream:'sum'})).reset_index()\n",
    "    flowTotals.rename(columns={'ModelElement':'Catchment',origLoadToStream:'FlowKG'}, inplace=True)\n",
    "    #where 1 is the axis number (0 for rows and 1 for columns.)\n",
    "    flowTotals = flowTotals.drop('Constituent', 1)\n",
    "    \n",
    "    #ConstitFiltering\n",
    "    filteredConstit = rawcontrib.loc[rawcontrib['Constituent'].isin(Constituents)]\n",
    "    constitTotals = pd.DataFrame(filteredConstit.groupby(['ModelElement','Constituent']).agg({origLoadToStream:'sum'})).reset_index()\n",
    "    constitTotals.rename(columns={'ModelElement':'Catchment',origLoadToStream:'ConstitKG'}, inplace=True)\n",
    "    #filtered2 = filtered.loc[filtered['FU'].isin(FUs)]\n",
    "    \n",
    "    merged = pd.merge(flowTotals, constitTotals, how='left', left_on=['Catchment'], right_on = ['Catchment'])\n",
    "    merged['GenMGperL'] = (merged['ConstitKG']*1000000)/merged['FlowKG']\n",
    "    merged.to_csv(theFileOut, index=False)\n",
    "    \n",
    "    print(\"Saved \" + theFileOut)\n",
    "    \n",
    "    return\n",
    "\n",
    "    "
   ]
  },
  {
   "cell_type": "code",
   "execution_count": 18,
   "metadata": {
    "scrolled": false
   },
   "outputs": [
    {
     "name": "stdout",
     "output_type": "stream",
     "text": [
      "Doing: BM Baseline\n",
      "Processing \\\\athenasmb\\pdreef\\RC10_RC2019\\RC10_RC2019_ResultsSets_PointOfTruth\\BM\\Model_Outputs\\BM_BASE_RC10\\RegContributorDataGrid.csv Scenario: Baseline\n"
     ]
    },
    {
     "name": "stderr",
     "output_type": "stream",
     "text": [
      "C:\\ProgramData\\Anaconda3\\lib\\site-packages\\ipykernel_launcher.py:14: FutureWarning: In a future version of pandas all arguments of DataFrame.drop except for the argument 'labels' will be keyword-only\n",
      "  \n"
     ]
    },
    {
     "name": "stdout",
     "output_type": "stream",
     "text": [
      "Saved P:\\projects\\RC10_ResultsSets\\GenerationConcentrations\\BM_RC2019_Baseline_GenerationConcentrations.csv\n",
      "Doing: BU Baseline\n",
      "Processing \\\\athenasmb\\pdreef\\RC10_RC2019\\RC10_RC2019_ResultsSets_PointOfTruth\\BU\\Model_Outputs\\BU_BASE_RC10\\RegContributorDataGrid.csv Scenario: Baseline\n",
      "Saved P:\\projects\\RC10_ResultsSets\\GenerationConcentrations\\BU_RC2019_Baseline_GenerationConcentrations.csv\n",
      "Doing: CY Baseline\n",
      "Processing \\\\athenasmb\\pdreef\\RC10_RC2019\\RC10_RC2019_ResultsSets_PointOfTruth\\CY\\Model_Outputs\\CY_BASE_RC10\\RegContributorDataGrid.csv Scenario: Baseline\n",
      "Saved P:\\projects\\RC10_ResultsSets\\GenerationConcentrations\\CY_RC2019_Baseline_GenerationConcentrations.csv\n",
      "Doing: FI Baseline\n",
      "Processing \\\\athenasmb\\pdreef\\RC10_RC2019\\RC10_RC2019_ResultsSets_PointOfTruth\\FI\\Model_Outputs\\FI_BASE_RC10\\RegContributorDataGrid.csv Scenario: Baseline\n",
      "Saved P:\\projects\\RC10_ResultsSets\\GenerationConcentrations\\FI_RC2019_Baseline_GenerationConcentrations.csv\n",
      "Doing: MW Baseline\n",
      "Processing \\\\athenasmb\\pdreef\\RC10_RC2019\\RC10_RC2019_ResultsSets_PointOfTruth\\MW\\Model_Outputs\\MW_BASE_RC10\\RegContributorDataGrid.csv Scenario: Baseline\n",
      "Saved P:\\projects\\RC10_ResultsSets\\GenerationConcentrations\\MW_RC2019_Baseline_GenerationConcentrations.csv\n",
      "Doing: WT Baseline\n",
      "Processing \\\\athenasmb\\pdreef\\RC10_RC2019\\RC10_RC2019_ResultsSets_PointOfTruth\\WT\\Model_Outputs\\WT_BASE_RC10\\RegContributorDataGrid.csv Scenario: Baseline\n",
      "Saved P:\\projects\\RC10_ResultsSets\\GenerationConcentrations\\WT_RC2019_Baseline_GenerationConcentrations.csv\n",
      "Finished first summary\n"
     ]
    }
   ],
   "source": [
    "#List out the processes\n",
    "\n",
    "for theReg in regionIDs:\n",
    "    \n",
    "    for scenario in scenarioToFolderDict.keys():\n",
    "        \n",
    "        print(\"Doing: \" + theReg + \" \" + scenario)\n",
    "        produceSummaryFromRegContrib(theReg, scenario)\n",
    "\n",
    "\n",
    "\n",
    "print(\"Finished first summary\")"
   ]
  },
  {
   "cell_type": "code",
   "execution_count": null,
   "metadata": {},
   "outputs": [],
   "source": []
  }
 ],
 "metadata": {
  "anaconda-cloud": {},
  "kernelspec": {
   "display_name": "Python 3 (ipykernel)",
   "language": "python",
   "name": "python3"
  },
  "language_info": {
   "codemirror_mode": {
    "name": "ipython",
    "version": 3
   },
   "file_extension": ".py",
   "mimetype": "text/x-python",
   "name": "python",
   "nbconvert_exporter": "python",
   "pygments_lexer": "ipython3",
   "version": "3.7.3"
  }
 },
 "nbformat": 4,
 "nbformat_minor": 1
}
