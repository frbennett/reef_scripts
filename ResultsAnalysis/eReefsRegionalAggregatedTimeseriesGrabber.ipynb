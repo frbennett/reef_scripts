{
 "cells": [
  {
   "cell_type": "code",
   "execution_count": 1,
   "id": "9a2f27e0",
   "metadata": {},
   "outputs": [
    {
     "name": "stderr",
     "output_type": "stream",
     "text": [
      "C:\\ProgramData\\Anaconda3\\lib\\site-packages\\numpy\\_distributor_init.py:32: UserWarning: loaded more than 1 DLL from .libs:\n",
      "C:\\ProgramData\\Anaconda3\\lib\\site-packages\\numpy\\.libs\\libopenblas.TXA6YQSD3GCQQC22GEQ54J2UDCXDXHWN.gfortran-win_amd64.dll\n",
      "C:\\ProgramData\\Anaconda3\\lib\\site-packages\\numpy\\.libs\\libopenblas.WCDJNK7YVMPZQ2ME2ZZHJJRJ3JIKNDB7.gfortran-win_amd64.dll\n",
      "  stacklevel=1)\n"
     ]
    }
   ],
   "source": [
    "import pandas as pd\n",
    "import numpy as np\n",
    "import shutil\n",
    "import os\n",
    "import datetime\n",
    "import glob\n",
    "\n",
    "regID = 'RegID'\n",
    "\n",
    "#Standard eReefs baseline/pre-dev\n",
    "simMapperCSV = r'P:\\projects\\eReefsOperational\\CSIRO_Locs\\CSIRO_eReefsStandard_ResultsMapper_Nov2021.csv'\n",
    "#Names from sim mapper, use RegID from above\n",
    "basinFolderName = 'BasinFolder'\n",
    "newSimFolderName = 'SIMCODE'\n",
    "#Switch these for TS Dependent or EMCMonthly\n",
    "#existSimFolderName = 'TSDependentSubDir'\n",
    "existSimFolderName = 'EMCMonthly2021SubDir'\n",
    "\n",
    "parentResultsDir = r'P:\\projects\\RC10_ResultsSets\\Models\\results'\n",
    "addRegIdDIR = False\n",
    "outPath = r'P:\\projects\\RC10_ResultsSets\\CSIROAggregatedRegions\\EmpiricalEMCNov2021'\n",
    "\n",
    "\n",
    "regionIDs = {'BM':'Burnett Mary Rebuild 2014','BU':'Burdekin Rebuild 2014','FI':'FI RC2019',\n",
    "              'MW':'MW_RC10', 'WT':'WT_RC10', 'CY':'CY Rebuild 2015'}\n"
   ]
  },
  {
   "cell_type": "code",
   "execution_count": 2,
   "id": "4359e6a5",
   "metadata": {},
   "outputs": [],
   "source": [
    "if not os.path.exists(outPath):\n",
    "    os.makedirs(outPath)\n",
    "    print(\"Made dir: \" + outPath)"
   ]
  },
  {
   "cell_type": "code",
   "execution_count": 3,
   "id": "8280eda7",
   "metadata": {},
   "outputs": [],
   "source": [
    "simDetailsDF = pd.read_csv(simMapperCSV)"
   ]
  },
  {
   "cell_type": "code",
   "execution_count": 4,
   "id": "4b70ac82",
   "metadata": {},
   "outputs": [],
   "source": [
    "def getResultsPathInfo(regionIDString, scenarioString):\n",
    "    tsPath = ''\n",
    "    if addRegIdDIR:\n",
    "        tsPath = parentResultsDir + '\\\\' + regionIDString + '\\\\' + regionIDs[regionIDString] + '\\\\' + scenarioString + '\\\\Regional_TimeSeries\\\\Aggregated'\n",
    "    else:\n",
    "        tsPath = parentResultsDir + '\\\\' + regionIDs[regionIDString] + '\\\\' + scenarioString + '\\\\Regional_TimeSeries\\\\Aggregated'\n",
    "    return tsPath"
   ]
  },
  {
   "cell_type": "code",
   "execution_count": 5,
   "id": "62172e60",
   "metadata": {},
   "outputs": [],
   "source": [
    "def doThisSim(thisRegID, thisBasinFolderName, thisNewSimFolderName, thisExistSimFolderName):\n",
    "    ##fvggg\n",
    "    \n",
    "    #Going to need to set up folders\n",
    "    #basinOutputStr = outPath + '\\\\' + thisBasinFolderName\n",
    "    simOutputStr = os.path.join(outPath, thisNewSimFolderName)\n",
    "    if not os.path.exists(simOutputStr):\n",
    "        os.makedirs(simOutputStr)\n",
    "        print(\"Made dir: \" + simOutputStr)\n",
    "    \n",
    "    #Now data\n",
    "    mainPath = getResultsPathInfo(thisRegID, thisExistSimFolderName)\n",
    "    \n",
    "    #copy\n",
    "    for name in glob.glob(mainPath + '/*.csv'):\n",
    "        shutil.copy(name, simOutputStr)\n",
    "    \n",
    "    "
   ]
  },
  {
   "cell_type": "code",
   "execution_count": 6,
   "id": "aaad6a04",
   "metadata": {},
   "outputs": [
    {
     "name": "stdout",
     "output_type": "stream",
     "text": [
      "Doing this simulation: BUBASE at 2021-12-03 14:27:46.825477\n",
      "Made dir: P:\\projects\\RC10_ResultsSets\\CSIROAggregatedRegions\\EmpiricalEMCNov2021\\BUBASE\n",
      "Doing this simulation: BUPREDEV at 2021-12-03 14:27:47.638150\n",
      "Made dir: P:\\projects\\RC10_ResultsSets\\CSIROAggregatedRegions\\EmpiricalEMCNov2021\\BUPREDEV\n",
      "Doing this simulation: FIBASE at 2021-12-03 14:27:48.527776\n",
      "Made dir: P:\\projects\\RC10_ResultsSets\\CSIROAggregatedRegions\\EmpiricalEMCNov2021\\FIBASE\n",
      "Doing this simulation: FIPREDEV at 2021-12-03 14:27:49.405664\n",
      "Made dir: P:\\projects\\RC10_ResultsSets\\CSIROAggregatedRegions\\EmpiricalEMCNov2021\\FIPREDEV\n",
      "Doing this simulation: WTBASE at 2021-12-03 14:27:50.291173\n",
      "Made dir: P:\\projects\\RC10_ResultsSets\\CSIROAggregatedRegions\\EmpiricalEMCNov2021\\WTBASE\n",
      "Doing this simulation: WTPREDEV at 2021-12-03 14:27:51.623121\n",
      "Made dir: P:\\projects\\RC10_ResultsSets\\CSIROAggregatedRegions\\EmpiricalEMCNov2021\\WTPREDEV\n",
      "Doing this simulation: BMBASE at 2021-12-03 14:27:52.822254\n",
      "Made dir: P:\\projects\\RC10_ResultsSets\\CSIROAggregatedRegions\\EmpiricalEMCNov2021\\BMBASE\n",
      "Doing this simulation: BMPREDEV at 2021-12-03 14:27:54.284548\n",
      "Made dir: P:\\projects\\RC10_ResultsSets\\CSIROAggregatedRegions\\EmpiricalEMCNov2021\\BMPREDEV\n",
      "Doing this simulation: MWBASE at 2021-12-03 14:27:55.139064\n",
      "Made dir: P:\\projects\\RC10_ResultsSets\\CSIROAggregatedRegions\\EmpiricalEMCNov2021\\MWBASE\n",
      "Doing this simulation: MWPREDEV at 2021-12-03 14:27:55.855795\n",
      "Made dir: P:\\projects\\RC10_ResultsSets\\CSIROAggregatedRegions\\EmpiricalEMCNov2021\\MWPREDEV\n",
      "Doing this simulation: CYBASE at 2021-12-03 14:27:56.456583\n",
      "Made dir: P:\\projects\\RC10_ResultsSets\\CSIROAggregatedRegions\\EmpiricalEMCNov2021\\CYBASE\n",
      "Doing this simulation: CYPREDEV at 2021-12-03 14:27:57.624739\n",
      "Made dir: P:\\projects\\RC10_ResultsSets\\CSIROAggregatedRegions\\EmpiricalEMCNov2021\\CYPREDEV\n",
      "All finished at 2021-12-03 14:27:58.730995\n"
     ]
    }
   ],
   "source": [
    "#This is where we will loop through sims\n",
    "for index, row in simDetailsDF.iterrows():\n",
    "    if row[regID] in regionIDs.keys():\n",
    "        print(\"Doing this simulation: \" + row[newSimFolderName] + \" at \" + str(datetime.datetime.now()))\n",
    "        doThisSim(row[regID], row[basinFolderName], row[newSimFolderName], row[existSimFolderName])\n",
    "\n",
    "print(\"All finished at \" + str(datetime.datetime.now()))"
   ]
  },
  {
   "cell_type": "code",
   "execution_count": null,
   "id": "e50af1c2",
   "metadata": {},
   "outputs": [],
   "source": []
  }
 ],
 "metadata": {
  "kernelspec": {
   "display_name": "Python 3 (ipykernel)",
   "language": "python",
   "name": "python3"
  },
  "language_info": {
   "codemirror_mode": {
    "name": "ipython",
    "version": 3
   },
   "file_extension": ".py",
   "mimetype": "text/x-python",
   "name": "python",
   "nbconvert_exporter": "python",
   "pygments_lexer": "ipython3",
   "version": "3.7.3"
  }
 },
 "nbformat": 4,
 "nbformat_minor": 5
}
