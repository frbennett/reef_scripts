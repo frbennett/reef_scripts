{
 "cells": [
  {
   "cell_type": "code",
   "execution_count": 1,
   "metadata": {},
   "outputs": [],
   "source": [
    "##Robs summariser of RC8 regoinal Contributor tables\n",
    "import pandas as pd\n",
    "import numpy as np\n",
    "import os\n",
    "\n",
    "#mainPath = 'P:\\projects\\RC9_ResultsSets\\RegContribTables'\n",
    "mainPath = r'\\\\athenasmb\\pdreef\\RC11_RC2020\\RC11_RC2020_ResultsSets_PointOfTruth\\SummariesWithProcessAusGov'\n",
    "outPath = r'P:\\projects\\RC11_ResultsSets'\n",
    "summariesOutFolder = 'WilkinsonSedimentBudgets'\n",
    "baseFolderEnd = 'BASE_RC11'\n",
    "regContributorFileName = 'RegToOutlet.csv'\n",
    "outputCSVEnd = 'SedimentBudgets.csv'\n",
    "baselineScenarioName = 'Baseline'\n",
    "reportCardString = 'RC2020'\n",
    "\n",
    "#pathToContstitsToGrpFile = r'\\\\athenasmb\\pdreef\\RC10_RC2019\\RC10_RC2019_ResultsSets_PointOfTruth\\constituentsToGroups.csv'\n",
    "\n",
    "\n",
    "##altRegLinker = 'Catchmt'\n",
    "#standardRegName = 'RepReg'\n",
    "##altRegColName = 'AUSGMCAS'\n",
    "#origLinker = 'ModelElement'\n",
    "\n",
    "#origLoadToStream = 'LoadToStream (kg)'\n",
    "#origLoadToExport = 'LoadToRegExport (kg)'\n",
    "annLoadToStream = \"AnnLoadToStreamKG\"\n",
    "annLoadToExport = \"AnnLoadToExportKG\"\n",
    "\n",
    "#regionIDs = ['MW']\n",
    "regionIDs = ['BM','BU','CY','FI','MW','WT']\n",
    "Constituents = ['Sediment - Fine']\n",
    "Processes = ['Gully', 'Hillslope surface soil', 'Streambank']\n",
    "#FUs = ['Sugarcane', 'Grazing Open', 'Grazing Forested', 'Bananas']\n",
    "\n",
    "scenarioToFolderDict = {baselineScenarioName:baseFolderEnd}\n"
   ]
  },
  {
   "cell_type": "code",
   "execution_count": 2,
   "metadata": {},
   "outputs": [],
   "source": [
    "if not os.path.exists(outPath):\n",
    "    os.makedirs(outPath)\n",
    "    print(\"Made dir: \" + outPath)"
   ]
  },
  {
   "cell_type": "code",
   "execution_count": 3,
   "metadata": {},
   "outputs": [
    {
     "name": "stdout",
     "output_type": "stream",
     "text": [
      "Made dir: P:\\projects\\RC11_ResultsSets\\WilkinsonSedimentBudgets\n"
     ]
    }
   ],
   "source": [
    "if not os.path.exists(outPath + '\\\\' + summariesOutFolder):\n",
    "    os.makedirs(outPath + '\\\\' + summariesOutFolder)\n",
    "    print(\"Made dir: \" + outPath + '\\\\' + summariesOutFolder)"
   ]
  },
  {
   "cell_type": "code",
   "execution_count": 4,
   "metadata": {},
   "outputs": [],
   "source": [
    "def getPathInfo(regionIDString, scenarioString):\n",
    "    fileIn = mainPath + '\\\\' + regionIDString + '_' + reportCardString + '_' + baselineScenarioName + '_' + regContributorFileName\n",
    "    fileOut = outPath + '\\\\' + summariesOutFolder + '\\\\' + regionIDString + '_' + reportCardString + '_' + scenarioString + '_' + outputCSVEnd\n",
    "    return fileIn, fileOut\n"
   ]
  },
  {
   "cell_type": "code",
   "execution_count": 5,
   "metadata": {},
   "outputs": [],
   "source": [
    "def produceSummaryFromRegContrib(regionIDString, scenarioName):\n",
    "    \n",
    "    theFileIn, theFileOut = getPathInfo(regionIDString, scenarioName)\n",
    "    \n",
    "    print(\"Processing \" + theFileIn + \" Scenario: \" + scenarioName)\n",
    "    \n",
    "    rawcontrib = pd.read_csv(theFileIn)\n",
    "    \n",
    "    filteredConstit = rawcontrib.loc[rawcontrib['Constituent'].isin(Constituents)]\n",
    "    processFiltered = filteredConstit.loc[filteredConstit['Process'].isin(Processes)]\n",
    "    \n",
    "    procForArea = Processes[0]#Probably Gully\n",
    "    areaFiltered = processFiltered.loc[processFiltered['Process'] == procForArea]\n",
    "    areaTotals = pd.DataFrame(areaFiltered.groupby(['Rep_Region']).agg({'AreaHA':'sum'})).reset_index()\n",
    "    \n",
    "    regNonProcessRSDR = pd.DataFrame(processFiltered.groupby(['Rep_Region']).agg({annLoadToStream:'sum', annLoadToExport:'sum'})).reset_index()\n",
    "    regNonProcessRSDR['RegRSDR'] = regNonProcessRSDR[annLoadToExport] / regNonProcessRSDR[annLoadToStream]\n",
    "    #where 1 is the axis number (0 for rows and 1 for columns.)\n",
    "    regNonProcessRSDR = regNonProcessRSDR.drop(annLoadToStream, 1)\n",
    "    regNonProcessRSDR.rename(columns={annLoadToExport:'RegTotalAnnLoadToExportKG'}, inplace=True)\n",
    "    #regNonProcessRSDR = regNonProcessRSDR.drop(annLoadToExport, 1)  \n",
    "    \n",
    "    regProcessTotals = pd.DataFrame(processFiltered.groupby(['Rep_Region','Process']).agg({annLoadToStream:'sum'})).reset_index()\n",
    "    regProcessTotals = pd.merge(regProcessTotals, regNonProcessRSDR, how='left', left_on=['Rep_Region'], right_on = ['Rep_Region'])\n",
    "    regProcessTotals['AdjAnnLoadToExportKG'] = regProcessTotals[annLoadToStream] * regProcessTotals['RegRSDR']\n",
    "    regProcessTotals['PercExport'] = regProcessTotals['AdjAnnLoadToExportKG'] / regProcessTotals['RegTotalAnnLoadToExportKG'] * 100\n",
    "    regProcessTotals = pd.merge(regProcessTotals, areaTotals, how='left', left_on=['Rep_Region'], right_on = ['Rep_Region'])\n",
    "    \n",
    "\n",
    "    regProcessTotals.to_csv(theFileOut, index=False)\n",
    "    \n",
    "    print(\"Saved \" + theFileOut)\n",
    "    \n",
    "    return\n",
    "\n",
    "    "
   ]
  },
  {
   "cell_type": "code",
   "execution_count": 6,
   "metadata": {
    "scrolled": false
   },
   "outputs": [
    {
     "name": "stdout",
     "output_type": "stream",
     "text": [
      "Doing: BM Baseline\n",
      "Processing \\\\athenasmb\\pdreef\\RC11_RC2020\\RC11_RC2020_ResultsSets_PointOfTruth\\SummariesWithProcessAusGov\\BM_RC2020_Baseline_RegToOutlet.csv Scenario: Baseline\n",
      "Saved P:\\projects\\RC11_ResultsSets\\WilkinsonSedimentBudgets\\BM_RC2020_Baseline_SedimentBudgets.csv\n",
      "Doing: BU Baseline\n",
      "Processing \\\\athenasmb\\pdreef\\RC11_RC2020\\RC11_RC2020_ResultsSets_PointOfTruth\\SummariesWithProcessAusGov\\BU_RC2020_Baseline_RegToOutlet.csv Scenario: Baseline\n"
     ]
    },
    {
     "name": "stderr",
     "output_type": "stream",
     "text": [
      "C:\\ProgramData\\Anaconda3\\lib\\site-packages\\ipykernel_launcher.py:19: FutureWarning: In a future version of pandas all arguments of DataFrame.drop except for the argument 'labels' will be keyword-only\n"
     ]
    },
    {
     "name": "stdout",
     "output_type": "stream",
     "text": [
      "Saved P:\\projects\\RC11_ResultsSets\\WilkinsonSedimentBudgets\\BU_RC2020_Baseline_SedimentBudgets.csv\n",
      "Doing: CY Baseline\n",
      "Processing \\\\athenasmb\\pdreef\\RC11_RC2020\\RC11_RC2020_ResultsSets_PointOfTruth\\SummariesWithProcessAusGov\\CY_RC2020_Baseline_RegToOutlet.csv Scenario: Baseline\n",
      "Saved P:\\projects\\RC11_ResultsSets\\WilkinsonSedimentBudgets\\CY_RC2020_Baseline_SedimentBudgets.csv\n",
      "Doing: FI Baseline\n",
      "Processing \\\\athenasmb\\pdreef\\RC11_RC2020\\RC11_RC2020_ResultsSets_PointOfTruth\\SummariesWithProcessAusGov\\FI_RC2020_Baseline_RegToOutlet.csv Scenario: Baseline\n",
      "Saved P:\\projects\\RC11_ResultsSets\\WilkinsonSedimentBudgets\\FI_RC2020_Baseline_SedimentBudgets.csv\n",
      "Doing: MW Baseline\n",
      "Processing \\\\athenasmb\\pdreef\\RC11_RC2020\\RC11_RC2020_ResultsSets_PointOfTruth\\SummariesWithProcessAusGov\\MW_RC2020_Baseline_RegToOutlet.csv Scenario: Baseline\n",
      "Saved P:\\projects\\RC11_ResultsSets\\WilkinsonSedimentBudgets\\MW_RC2020_Baseline_SedimentBudgets.csv\n",
      "Doing: WT Baseline\n",
      "Processing \\\\athenasmb\\pdreef\\RC11_RC2020\\RC11_RC2020_ResultsSets_PointOfTruth\\SummariesWithProcessAusGov\\WT_RC2020_Baseline_RegToOutlet.csv Scenario: Baseline\n",
      "Saved P:\\projects\\RC11_ResultsSets\\WilkinsonSedimentBudgets\\WT_RC2020_Baseline_SedimentBudgets.csv\n",
      "Finished first summary\n"
     ]
    }
   ],
   "source": [
    "#List out the processes\n",
    "\n",
    "for theReg in regionIDs:\n",
    "    \n",
    "    for scenario in scenarioToFolderDict.keys():\n",
    "        \n",
    "        print(\"Doing: \" + theReg + \" \" + scenario)\n",
    "        produceSummaryFromRegContrib(theReg, scenario)\n",
    "\n",
    "\n",
    "\n",
    "print(\"Finished first summary\")"
   ]
  },
  {
   "cell_type": "code",
   "execution_count": null,
   "metadata": {},
   "outputs": [],
   "source": []
  }
 ],
 "metadata": {
  "anaconda-cloud": {},
  "kernelspec": {
   "display_name": "Python 3 (ipykernel)",
   "language": "python",
   "name": "python3"
  },
  "language_info": {
   "codemirror_mode": {
    "name": "ipython",
    "version": 3
   },
   "file_extension": ".py",
   "mimetype": "text/x-python",
   "name": "python",
   "nbconvert_exporter": "python",
   "pygments_lexer": "ipython3",
   "version": "3.7.3"
  }
 },
 "nbformat": 4,
 "nbformat_minor": 1
}
