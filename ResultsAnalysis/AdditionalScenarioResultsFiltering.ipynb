{
 "cells": [
  {
   "cell_type": "code",
   "execution_count": 7,
   "metadata": {},
   "outputs": [],
   "source": [
    "# Filter CSV By Contents\n",
    "import pandas as pd\n",
    "#import pandasql as psql\n",
    "import glob\n",
    "import os\n",
    "\n",
    "\n",
    "reqCols = ['Date', 'Flow m3_per_s', 'Sediment - Fine kg', 'Sediment - Coarse kg', 'N_Particulate kg', 'N_DIN kg', 'N_DON kg', 'P_Particulate kg', 'P_DOP kg', 'P_FRP kg']\n",
    "\n",
    "\n",
    "filteredString = 'ConstitFiltered'\n",
    "\n",
    "fileEnd = '_Aggregated_Outflow.csv'\n",
    "\n",
    "\"\"\"\n",
    "baseDir = r'\\\\athenasmb\\pdreef\\Source_Modelling\\ereefs\\eReefs_EMCMonthly_ScenarioResults'\n",
    "dirPreStr = 'RC9_'\n",
    "dirPostStr = '_EMCMonthly_RegionalAggregatedTS'\n",
    "dirOutPostStr = '_EMCMonthly_RegionalAggregatedTS'\n",
    "baseScenStr = 'ScenarioBaseline'\n",
    "d2cScenStr = 'Scenario_DtoC'\n",
    "allbScenStr = 'Scenario_AllB'\n",
    "allaScenStr = 'Scenario_AllA'#\"\"\"\n",
    "\n",
    "#\"\"\"\n",
    "baseDir = r'\\\\athenasmb\\pdreef\\RC9_RC2017\\AdditionalScenarios\\Results\\ExtendedSpan_1986_2018'\n",
    "dirPreStr = ''\n",
    "dirPostStr = '_AggregatedRegionalTimeseries'\n",
    "dirOutPostStr = '_RegionalAggregatedTS'\n",
    "d2cScenStr = 'D2C'\n",
    "allbScenStr = 'AllB'\n",
    "allaScenStr = 'AllA'\n",
    "#\"\"\"\n",
    "\n",
    "baseOutDir = os.path.join(baseDir, filteredString)\n",
    "\n",
    "#scenarios = [baseScenStr, d2cScenStr, allbScenStr, allaScenStr]\n",
    "scenarios = [d2cScenStr, allbScenStr, allaScenStr]\n",
    "\n",
    "regionRivers = {#'BM':['Baffle', 'Burnett', 'Burrum', 'Kolan', 'Mary'],\n",
    "                'BU':['Black', 'Burdekin', 'Don', 'Haughton', 'Ross']#,\n",
    "                #'CY':['Endeavour River', 'Jacky Jacky Creek', 'Jeannie River', 'Lockhart River', 'Normanby River', 'Olive Pascoe', 'Stewart River'],\n",
    "                #'FI':['Boyne', 'Calliope', 'Fitzroy', 'Shoalwater', 'Styx', 'Water Park'],\n",
    "                #'MW':['OConnel', 'Pioneer', 'PlaneC', 'Prossie'],\n",
    "                #'WT':['Barron', 'Daintree', 'Herbert', 'Johnstone', 'Mossman', 'Mulgrave-Russell', 'Murray', 'Tully']\n",
    "               }\n"
   ]
  },
  {
   "cell_type": "code",
   "execution_count": 8,
   "metadata": {},
   "outputs": [],
   "source": [
    "def doFiltering(inputFile, outputFile, theCols):\n",
    "    \n",
    "    \n",
    "    df = pd.read_csv(inputFile)\n",
    "    \n",
    "    df.to_csv(outputFile, index=False, columns=theCols)\n",
    "\n",
    "    print(\"Done \" + inputFile)"
   ]
  },
  {
   "cell_type": "code",
   "execution_count": 9,
   "metadata": {
    "scrolled": false
   },
   "outputs": [
    {
     "name": "stdout",
     "output_type": "stream",
     "text": [
      "Made dir: \\\\athenasmb\\pdreef\\RC9_RC2017\\AdditionalScenarios\\Results\\ExtendedSpan_1986_2018\\ConstitFiltered\\D2C_RegionalAggregatedTS\\BU\n",
      "Done \\\\athenasmb\\pdreef\\RC9_RC2017\\AdditionalScenarios\\Results\\ExtendedSpan_1986_2018\\D2C_AggregatedRegionalTimeseries\\BU\\Black_Aggregated_Outflow.csv\n",
      "Done \\\\athenasmb\\pdreef\\RC9_RC2017\\AdditionalScenarios\\Results\\ExtendedSpan_1986_2018\\D2C_AggregatedRegionalTimeseries\\BU\\Burdekin_Aggregated_Outflow.csv\n",
      "Done \\\\athenasmb\\pdreef\\RC9_RC2017\\AdditionalScenarios\\Results\\ExtendedSpan_1986_2018\\D2C_AggregatedRegionalTimeseries\\BU\\Don_Aggregated_Outflow.csv\n",
      "Done \\\\athenasmb\\pdreef\\RC9_RC2017\\AdditionalScenarios\\Results\\ExtendedSpan_1986_2018\\D2C_AggregatedRegionalTimeseries\\BU\\Haughton_Aggregated_Outflow.csv\n",
      "Done \\\\athenasmb\\pdreef\\RC9_RC2017\\AdditionalScenarios\\Results\\ExtendedSpan_1986_2018\\D2C_AggregatedRegionalTimeseries\\BU\\Ross_Aggregated_Outflow.csv\n",
      "Made dir: \\\\athenasmb\\pdreef\\RC9_RC2017\\AdditionalScenarios\\Results\\ExtendedSpan_1986_2018\\ConstitFiltered\\AllB_RegionalAggregatedTS\\BU\n",
      "Done \\\\athenasmb\\pdreef\\RC9_RC2017\\AdditionalScenarios\\Results\\ExtendedSpan_1986_2018\\AllB_AggregatedRegionalTimeseries\\BU\\Black_Aggregated_Outflow.csv\n",
      "Done \\\\athenasmb\\pdreef\\RC9_RC2017\\AdditionalScenarios\\Results\\ExtendedSpan_1986_2018\\AllB_AggregatedRegionalTimeseries\\BU\\Burdekin_Aggregated_Outflow.csv\n",
      "Done \\\\athenasmb\\pdreef\\RC9_RC2017\\AdditionalScenarios\\Results\\ExtendedSpan_1986_2018\\AllB_AggregatedRegionalTimeseries\\BU\\Don_Aggregated_Outflow.csv\n",
      "Done \\\\athenasmb\\pdreef\\RC9_RC2017\\AdditionalScenarios\\Results\\ExtendedSpan_1986_2018\\AllB_AggregatedRegionalTimeseries\\BU\\Haughton_Aggregated_Outflow.csv\n",
      "Done \\\\athenasmb\\pdreef\\RC9_RC2017\\AdditionalScenarios\\Results\\ExtendedSpan_1986_2018\\AllB_AggregatedRegionalTimeseries\\BU\\Ross_Aggregated_Outflow.csv\n",
      "Made dir: \\\\athenasmb\\pdreef\\RC9_RC2017\\AdditionalScenarios\\Results\\ExtendedSpan_1986_2018\\ConstitFiltered\\AllA_RegionalAggregatedTS\\BU\n",
      "Done \\\\athenasmb\\pdreef\\RC9_RC2017\\AdditionalScenarios\\Results\\ExtendedSpan_1986_2018\\AllA_AggregatedRegionalTimeseries\\BU\\Black_Aggregated_Outflow.csv\n",
      "Done \\\\athenasmb\\pdreef\\RC9_RC2017\\AdditionalScenarios\\Results\\ExtendedSpan_1986_2018\\AllA_AggregatedRegionalTimeseries\\BU\\Burdekin_Aggregated_Outflow.csv\n",
      "Done \\\\athenasmb\\pdreef\\RC9_RC2017\\AdditionalScenarios\\Results\\ExtendedSpan_1986_2018\\AllA_AggregatedRegionalTimeseries\\BU\\Don_Aggregated_Outflow.csv\n",
      "Done \\\\athenasmb\\pdreef\\RC9_RC2017\\AdditionalScenarios\\Results\\ExtendedSpan_1986_2018\\AllA_AggregatedRegionalTimeseries\\BU\\Haughton_Aggregated_Outflow.csv\n",
      "Done \\\\athenasmb\\pdreef\\RC9_RC2017\\AdditionalScenarios\\Results\\ExtendedSpan_1986_2018\\AllA_AggregatedRegionalTimeseries\\BU\\Ross_Aggregated_Outflow.csv\n",
      "All Done\n"
     ]
    }
   ],
   "source": [
    "#Base output dir\n",
    "if not os.path.exists(baseOutDir):\n",
    "    os.makedirs(baseOutDir)\n",
    "    print(\"Made dir: \" + baseOutDir)\n",
    "\n",
    "for scen in scenarios:\n",
    "    \n",
    "    scenDirInName = dirPreStr + scen + dirPostStr\n",
    "    scenDirOutName = dirPreStr + scen + dirOutPostStr\n",
    "    scenInPath = os.path.join(baseDir, scenDirInName)\n",
    "    scenOutPath = os.path.join(baseOutDir, scenDirOutName)\n",
    "    \n",
    "    if not os.path.exists(scenOutPath):\n",
    "        os.makedirs(scenOutPath)\n",
    "        print(\"Made dir: \" + scenOutPath)\n",
    "    \n",
    "    for regKey, rivers in regionRivers.items():\n",
    "        \n",
    "        scenRegOutPath = os.path.join(scenOutPath, regKey)\n",
    "        scenRegInPath = os.path.join(scenInPath, regKey)\n",
    "        \n",
    "        #print('The out path for reg is: ' + )\n",
    "        if not os.path.exists(scenRegOutPath):\n",
    "            \n",
    "            os.makedirs(scenRegOutPath)\n",
    "            print(\"Made dir: \" + scenRegOutPath)\n",
    "        \n",
    "        #Do the filtering\n",
    "        for thisRiv in rivers:\n",
    "            \n",
    "            fileName = thisRiv + fileEnd\n",
    "            #print(\"Reg: \" + regKey)\n",
    "            #print(\"River: \" + thisRiv)\n",
    "            doFiltering(os.path.join(scenRegInPath, fileName), os.path.join(scenRegOutPath, fileName), reqCols)\n",
    "        \n",
    "    \n",
    "print(\"All Done\")"
   ]
  },
  {
   "cell_type": "code",
   "execution_count": null,
   "metadata": {},
   "outputs": [],
   "source": [
    "#Now... begin....\n",
    "\n",
    "\n",
    "\n"
   ]
  }
 ],
 "metadata": {
  "kernelspec": {
   "display_name": "Python 3",
   "language": "python",
   "name": "python3"
  },
  "language_info": {
   "codemirror_mode": {
    "name": "ipython",
    "version": 3
   },
   "file_extension": ".py",
   "mimetype": "text/x-python",
   "name": "python",
   "nbconvert_exporter": "python",
   "pygments_lexer": "ipython3",
   "version": "3.7.1"
  }
 },
 "nbformat": 4,
 "nbformat_minor": 2
}
