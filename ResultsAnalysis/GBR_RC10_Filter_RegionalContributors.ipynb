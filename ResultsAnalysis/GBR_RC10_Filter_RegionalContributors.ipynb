{
 "cells": [
  {
   "cell_type": "code",
   "execution_count": 1,
   "metadata": {},
   "outputs": [],
   "source": [
    "##Robs filtering of RC10 Regional Contributor tables\n",
    "import pandas as pd\n",
    "import numpy as np\n",
    "import os\n",
    "\n",
    "#mainPath = 'P:\\projects\\RC9_ResultsSets\\RegContribTables'\n",
    "mainPath = r'\\\\athenasmb\\pdreef\\RC10_RC2019\\RC10_RC2019_ResultsSets_PointOfTruth'\n",
    "outPath = r'P:\\projects\\RC10_ResultsSets\\Urban_and_STP'\n",
    "#summariesOutFolder = 'SummariesWithProcessAusGov'\n",
    "baseFolderEnd = 'BASE_RC10'\n",
    "#changeFolderEnd = 'CHANGE_RC10'\n",
    "#predevFolderEnd = 'PREDEV_RC10'\n",
    "regContributorFileName = 'RegContributorDataGrid.csv'\n",
    "##outputCSVEnd = 'RegToOutlet_Alt.csv'\n",
    "#outputCSVEnd = 'RegToOutlet.csv'\n",
    "baselineScenarioName = 'Baseline'\n",
    "#changeScenarioName = 'Change'\n",
    "#predevScenarioName = 'PreDev'\n",
    "reportCardString = 'RC2019'\n",
    "\n",
    "filterColName1 = 'Constituent'\n",
    "reqVals1 = ['Sediment - Fine', 'N_DIN']\n",
    "\n",
    "filterColName2 = 'FU'\n",
    "reqVals2 = ['Urban', 'Stream']\n",
    "\n",
    "filterColName3 = 'Process'\n",
    "reqVals3 = ['Diffuse Dissolved', 'Point Source']\n",
    "\n",
    "pathToContstitsToGrpFile = r'\\\\athenasmb\\pdreef\\RC10_RC2019\\RC10_RC2019_ResultsSets_PointOfTruth\\constituentsToGroups.csv'\n",
    "\n",
    "##Must be utilised in regContributors that do NOT include nesting structures\n",
    "#alternativeRegionsCSV = {'FI':r'\\\\athenasmb\\pdreef\\RC10_RC2019\\RC10_RC2019_ResultsSets_PointOfTruth\\FI_ReportingRegions_Details.csv',\n",
    "#                        'BU':r'\\\\athenasmb\\pdreef\\RC10_RC2019\\RC10_RC2019_ResultsSets_PointOfTruth\\BU_ReportingRegions_Details.csv'}\n",
    "\n",
    "#altRegLinker = 'Catchmt'\n",
    "standardRegName = 'RepReg'\n",
    "#altRegColName = 'AUSGMCAS'\n",
    "origLinker = 'ModelElement'\n",
    "\n",
    "annLoadToStream = 'AnnLoadToStreamKG'\n",
    "annLoadToExport = 'AnnLoadToExportKG'\n",
    "\n",
    "regionIDs = ['BU', 'BM', 'CY', 'FI', 'MW', 'WT']\n",
    "#regionIDs = ['BU','FI']\n",
    "#regionIDs = ['MW']\n",
    "\n",
    "#scenarioToFolderDict = {baselineScenarioName:baseFolderEnd, changeScenarioName:changeFolderEnd, predevScenarioName:predevFolderEnd}\n",
    "scenarioToFolderDict = {baselineScenarioName:baseFolderEnd}\n"
   ]
  },
  {
   "cell_type": "code",
   "execution_count": 2,
   "metadata": {},
   "outputs": [
    {
     "name": "stdout",
     "output_type": "stream",
     "text": [
      "Made dir: P:\\projects\\RC10_ResultsSets\\Urban_and_STP\n"
     ]
    }
   ],
   "source": [
    "if not os.path.exists(outPath):\n",
    "    os.makedirs(outPath)\n",
    "    print(\"Made dir: \" + outPath)"
   ]
  },
  {
   "cell_type": "code",
   "execution_count": 3,
   "metadata": {},
   "outputs": [],
   "source": [
    "def getPathInfo(regionIDString, scenarioString):\n",
    "    fileIn = mainPath + '\\\\' + regionIDString + '\\\\Model_Outputs\\\\' + regionIDString + '_' + scenarioToFolderDict[scenarioString] + '\\\\' + regContributorFileName\n",
    "    fileOut = outPath + '\\\\' + regionIDString + '_' + reportCardString + '_' + scenarioString + '_' + regContributorFileName\n",
    "    return fileIn, fileOut"
   ]
  },
  {
   "cell_type": "code",
   "execution_count": 8,
   "metadata": {},
   "outputs": [],
   "source": [
    "def doTheFiltering(regionIDString, scenarioName):\n",
    "    \n",
    "    theFileIn, theFileOut = getPathInfo(regionIDString, scenarioName)\n",
    "    \n",
    "    print(\"Processing \" + theFileIn + \" Scenario: \" + scenarioName)\n",
    "    \n",
    "    rawcontrib = pd.read_csv(theFileIn)\n",
    "    \n",
    "    filtered1 = rawcontrib.loc[rawcontrib[filterColName1].isin(reqVals1)]\n",
    "    filtered2 = filtered1.loc[filtered1[filterColName2].isin(reqVals2)]\n",
    "    filtered3 = filtered2.loc[filtered2[filterColName3].isin(reqVals3)]\n",
    "    \n",
    "    filtered3.to_csv(theFileOut, index=False)\n",
    "    \n",
    "    return\n",
    "    "
   ]
  },
  {
   "cell_type": "code",
   "execution_count": 9,
   "metadata": {
    "scrolled": false
   },
   "outputs": [
    {
     "name": "stdout",
     "output_type": "stream",
     "text": [
      "Doing: BU Baseline\n",
      "Processing \\\\athenasmb\\pdreef\\RC10_RC2019\\RC10_RC2019_ResultsSets_PointOfTruth\\BU\\Model_Outputs\\BU_BASE_RC10\\RegContributorDataGrid.csv Scenario: Baseline\n",
      "Doing: BM Baseline\n",
      "Processing \\\\athenasmb\\pdreef\\RC10_RC2019\\RC10_RC2019_ResultsSets_PointOfTruth\\BM\\Model_Outputs\\BM_BASE_RC10\\RegContributorDataGrid.csv Scenario: Baseline\n",
      "Doing: CY Baseline\n",
      "Processing \\\\athenasmb\\pdreef\\RC10_RC2019\\RC10_RC2019_ResultsSets_PointOfTruth\\CY\\Model_Outputs\\CY_BASE_RC10\\RegContributorDataGrid.csv Scenario: Baseline\n",
      "Doing: FI Baseline\n",
      "Processing \\\\athenasmb\\pdreef\\RC10_RC2019\\RC10_RC2019_ResultsSets_PointOfTruth\\FI\\Model_Outputs\\FI_BASE_RC10\\RegContributorDataGrid.csv Scenario: Baseline\n",
      "Doing: MW Baseline\n",
      "Processing \\\\athenasmb\\pdreef\\RC10_RC2019\\RC10_RC2019_ResultsSets_PointOfTruth\\MW\\Model_Outputs\\MW_BASE_RC10\\RegContributorDataGrid.csv Scenario: Baseline\n",
      "Doing: WT Baseline\n",
      "Processing \\\\athenasmb\\pdreef\\RC10_RC2019\\RC10_RC2019_ResultsSets_PointOfTruth\\WT\\Model_Outputs\\WT_BASE_RC10\\RegContributorDataGrid.csv Scenario: Baseline\n",
      "Finished filtering\n"
     ]
    }
   ],
   "source": [
    "#List out the processes\n",
    "\n",
    "for theReg in regionIDs:\n",
    "    \n",
    "    for scenario in scenarioToFolderDict.keys():\n",
    "        \n",
    "        print(\"Doing: \" + theReg + \" \" + scenario)\n",
    "        doTheFiltering(theReg, scenario)\n",
    "\n",
    "\n",
    "print(\"Finished filtering\")"
   ]
  },
  {
   "cell_type": "code",
   "execution_count": null,
   "metadata": {},
   "outputs": [],
   "source": []
  }
 ],
 "metadata": {
  "anaconda-cloud": {},
  "kernelspec": {
   "display_name": "Python 3",
   "language": "python",
   "name": "python3"
  },
  "language_info": {
   "codemirror_mode": {
    "name": "ipython",
    "version": 3
   },
   "file_extension": ".py",
   "mimetype": "text/x-python",
   "name": "python",
   "nbconvert_exporter": "python",
   "pygments_lexer": "ipython3",
   "version": "3.7.3"
  }
 },
 "nbformat": 4,
 "nbformat_minor": 1
}
