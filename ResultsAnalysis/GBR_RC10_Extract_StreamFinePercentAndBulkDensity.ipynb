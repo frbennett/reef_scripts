{
 "cells": [
  {
   "cell_type": "code",
   "execution_count": 1,
   "metadata": {},
   "outputs": [],
   "source": [
    "##Robs summariser of RC9 Additional Scenario Regional Contributor tables\n",
    "import pandas as pd\n",
    "import numpy as np\n",
    "#import libarchive\n",
    "#import tempfile\n",
    "import os\n",
    "#from functools import reduce\n",
    "import datetime\n",
    "\n",
    "#mainPath = 'P:\\projects\\RC9_ResultsSets\\Tester'\n",
    "mainPath = r'\\\\athenasmb\\pdreef\\RC10_RC2019\\RC10_RC2019_ResultsSets_PointOfTruth'\n",
    "\n",
    "#outPath = 'P:\\projects\\RC9_ResultsSets\\RegContribTables'\n",
    "outPath = 'P:\\projects\\RC10_ResultsSets\\StreamFinePercentAndBulkDensity'\n",
    "#summariesOutFolder = 'Summaries'\n",
    "\n",
    "\n",
    "regContributorFileName = 'ParameterTable.csv'\n",
    "\n",
    "#theTempDir = tempfile.gettempdir()\n",
    "#theCurrentDir = os.getcwd()\n",
    "\n",
    "#print(\"Current dir is: \" + theCurrentDir)\n",
    "\n",
    "#pathToContstitsToGrpFile = r'\\\\athenasmb\\pdreef\\RC9_RC2017\\RC9_ResultsSets_PointOfTruth\\constituentsToGroups.csv'\n",
    "\n",
    "regList = ['BM','BU', 'CY', 'FI','MW','WT']\n",
    "#regList = ['BM','MW','WT']\n",
    "#regList = ['BU']\n",
    "\n",
    "\n",
    "filterColName = 'CONSTITUENT'\n",
    "constitsList = ['Sediment - Fine']\n",
    "\n",
    "#fuColName = 'ELEMENT'\n",
    "#fuList = ['Grazing Forested', 'Grazing Open']\n",
    "\n",
    "modelColName = 'MODEL'\n",
    "modelNames = ['In Stream Fine Sediment Model - SedNet']\n",
    "\n",
    "paramColName = 'PARAMETER'\n",
    "paramNames = ['Soil Percent Fine Sediment', 'Sediment Bulk Density']\n",
    "\n",
    "#scenarioToFolderDict = {baselineScenarioName:baseFolderEnd, changeScenarioName:changeFolderEnd, predevScenarioName:predevFolderEnd}\n"
   ]
  },
  {
   "cell_type": "code",
   "execution_count": 2,
   "metadata": {},
   "outputs": [
    {
     "name": "stdout",
     "output_type": "stream",
     "text": [
      "Made dir: P:\\projects\\RC10_ResultsSets\\StreamFinePercentAndBulkDensity\n"
     ]
    }
   ],
   "source": [
    "if not os.path.exists(outPath):\n",
    "    os.makedirs(outPath)\n",
    "    print(\"Made dir: \" + outPath)"
   ]
  },
  {
   "cell_type": "code",
   "execution_count": 3,
   "metadata": {},
   "outputs": [],
   "source": [
    "def getPathInfo(regionIDString):\n",
    "    fileIn = mainPath + '\\\\' + regionIDString + '\\\\Model_Outputs\\\\' + regionIDString + '_BASE_RC10\\\\' + regContributorFileName\n",
    "    #return fileIn, fileOut\n",
    "    return fileIn\n"
   ]
  },
  {
   "cell_type": "code",
   "execution_count": 4,
   "metadata": {},
   "outputs": [],
   "source": [
    "def processParameterFiltering(regionIDString):\n",
    "    \n",
    "    #theFileIn, theFileOut = getPathInfo(regionIDString)\n",
    "    theFileIn = getPathInfo(regionIDString)\n",
    "    \n",
    "    print(\"Processing \" + theFileIn)\n",
    "    \n",
    "    #This was for reading out of zip fiels\n",
    "    #with libarchive.file_reader(theFileIn) as e:\n",
    "    #    for entry in e:\n",
    "    #        if(regContributorFileName in entry.pathname):\n",
    "    #            print(entry)\n",
    "    #            with open(theTempDir + \"\\\\\" + regContributorFileName, 'wb') as f:\n",
    "    #                for block in entry.get_blocks():\n",
    "    #                    f.write(block)\n",
    "    #                break\n",
    "    \n",
    "    rawPT = pd.read_csv(theFileIn)\n",
    "    \n",
    "    filtered1 = rawPT.loc[rawPT[filterColName].isin(constitsList)]\n",
    "    filtered2 = filtered1.loc[filtered1[modelColName].isin(modelNames)]\n",
    "    filtered3 = filtered2.loc[filtered1[paramColName].isin(paramNames)]\n",
    "    \n",
    "    theFileOut = outPath + '\\\\' + regionIDString + '_StreamFinePercentAndBulkDensity.csv'\n",
    "    print(\"Processing \" + theFileOut)\n",
    "    filtered3.to_csv(theFileOut, index=False)\n",
    "    \n",
    "    return\n",
    "\n",
    "    "
   ]
  },
  {
   "cell_type": "code",
   "execution_count": 5,
   "metadata": {
    "scrolled": false
   },
   "outputs": [
    {
     "name": "stdout",
     "output_type": "stream",
     "text": [
      "Processing \\\\athenasmb\\pdreef\\RC10_RC2019\\RC10_RC2019_ResultsSets_PointOfTruth\\BM\\Model_Outputs\\BM_BASE_RC10\\ParameterTable.csv\n",
      "Processing P:\\projects\\RC10_ResultsSets\\StreamFinePercentAndBulkDensity\\BM_StreamFinePercentAndBulkDensity.csv\n",
      "Processing \\\\athenasmb\\pdreef\\RC10_RC2019\\RC10_RC2019_ResultsSets_PointOfTruth\\BU\\Model_Outputs\\BU_BASE_RC10\\ParameterTable.csv\n",
      "Processing P:\\projects\\RC10_ResultsSets\\StreamFinePercentAndBulkDensity\\BU_StreamFinePercentAndBulkDensity.csv\n",
      "Processing \\\\athenasmb\\pdreef\\RC10_RC2019\\RC10_RC2019_ResultsSets_PointOfTruth\\CY\\Model_Outputs\\CY_BASE_RC10\\ParameterTable.csv\n",
      "Processing P:\\projects\\RC10_ResultsSets\\StreamFinePercentAndBulkDensity\\CY_StreamFinePercentAndBulkDensity.csv\n",
      "Processing \\\\athenasmb\\pdreef\\RC10_RC2019\\RC10_RC2019_ResultsSets_PointOfTruth\\FI\\Model_Outputs\\FI_BASE_RC10\\ParameterTable.csv\n",
      "Processing P:\\projects\\RC10_ResultsSets\\StreamFinePercentAndBulkDensity\\FI_StreamFinePercentAndBulkDensity.csv\n",
      "Processing \\\\athenasmb\\pdreef\\RC10_RC2019\\RC10_RC2019_ResultsSets_PointOfTruth\\MW\\Model_Outputs\\MW_BASE_RC10\\ParameterTable.csv\n",
      "Processing P:\\projects\\RC10_ResultsSets\\StreamFinePercentAndBulkDensity\\MW_StreamFinePercentAndBulkDensity.csv\n",
      "Processing \\\\athenasmb\\pdreef\\RC10_RC2019\\RC10_RC2019_ResultsSets_PointOfTruth\\WT\\Model_Outputs\\WT_BASE_RC10\\ParameterTable.csv\n",
      "Processing P:\\projects\\RC10_ResultsSets\\StreamFinePercentAndBulkDensity\\WT_StreamFinePercentAndBulkDensity.csv\n",
      "Finished first summary 2021-06-17 13:46:38.900521\n"
     ]
    }
   ],
   "source": [
    "#List out the processes\n",
    "\n",
    "for regID in regList:\n",
    "    processParameterFiltering(regID)\n",
    "\n",
    "print(\"Finished first summary \" + str(datetime.datetime.now()))"
   ]
  },
  {
   "cell_type": "code",
   "execution_count": null,
   "metadata": {},
   "outputs": [],
   "source": []
  }
 ],
 "metadata": {
  "anaconda-cloud": {},
  "kernelspec": {
   "display_name": "Python 3",
   "language": "python",
   "name": "python3"
  },
  "language_info": {
   "codemirror_mode": {
    "name": "ipython",
    "version": 3
   },
   "file_extension": ".py",
   "mimetype": "text/x-python",
   "name": "python",
   "nbconvert_exporter": "python",
   "pygments_lexer": "ipython3",
   "version": "3.7.3"
  }
 },
 "nbformat": 4,
 "nbformat_minor": 1
}
