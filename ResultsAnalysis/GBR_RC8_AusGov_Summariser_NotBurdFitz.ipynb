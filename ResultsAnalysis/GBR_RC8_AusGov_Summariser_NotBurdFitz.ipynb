{
 "cells": [
  {
   "cell_type": "code",
   "execution_count": 1,
   "metadata": {
    "collapsed": true
   },
   "outputs": [],
   "source": [
    "##Robs summariser of RC8 regoinal Contributor tables\n",
    "import pandas as pd\n",
    "import numpy as np\n",
    "\n"
   ]
  },
  {
   "cell_type": "code",
   "execution_count": 10,
   "metadata": {
    "collapsed": true
   },
   "outputs": [],
   "source": [
    "def produceSummaryFromRegContrib(regContribFile, scenarioName, outputFile):\n",
    "    \n",
    "    print(\"Processing \" + regContribFile + \" Scenario: \" + scenarioName)\n",
    "    \n",
    "    rawcontrib = pd.read_csv(regContribFile)\n",
    "    \n",
    "    rawcontrib['SCENARIO'] = scenarioName\n",
    "    rawcontrib['AnnLoadToStreamKG'] = rawcontrib['LoadToStream (kg)'].div(rawcontrib['Num_Days']).mul(365.25)\n",
    "    rawcontrib['AnnLoadToExportKG'] = rawcontrib['LoadToRegExport (kg)'].div(rawcontrib['Num_Days']).mul(365.25)\n",
    "    rawcontrib['AreaHA'] = rawcontrib['AreaM2'].div(10000)\n",
    "    \n",
    "    ### Can keep reporting region in the area table, as this is our Non-Nested notebook\n",
    "    catchFuArea = pd.DataFrame(rawcontrib.groupby(['Rep_Region','ModelElement','FU']).agg({'AreaHA':'first'})).reset_index()\n",
    "    regFuArea = pd.DataFrame(catchFuArea.groupby(['Rep_Region','FU']).agg({'AreaHA':'sum'})).reset_index()\n",
    "    \n",
    "    #regLuseSummary = pd.DataFrame(rawcontrib[rawcontrib['Constituent'].isin(selectedConstituents)].groupby(['Rep_Region','Constituent','FU','Process']).agg({'AnnLoadToStreamKG':'sum','AnnLoadToExportKG':'sum'})).reset_index()\n",
    "    regLuseSummary = pd.DataFrame(rawcontrib.groupby(['SCENARIO','Rep_Region','Constituent','FU','Process']).agg({'AnnLoadToStreamKG':'sum','AnnLoadToExportKG':'sum'})).reset_index()\n",
    "    \n",
    "    ### Join/merge with Regional Areas\n",
    "    regLuseSumPlusArea = pd.merge(regLuseSummary, regFuArea, how='left', left_on=['Rep_Region','FU'], right_on = ['Rep_Region','FU'])\n",
    "    \n",
    "    regLuseSumPlusArea.to_csv(outputFile, index=False)\n",
    "    \n",
    "    print(\"Saved \" + outputFile)\n",
    "    \n",
    "    return\n",
    "\n",
    "    "
   ]
  },
  {
   "cell_type": "code",
   "execution_count": 12,
   "metadata": {
    "collapsed": false
   },
   "outputs": [
    {
     "name": "stdout",
     "output_type": "stream",
     "text": [
      "Processing P:\\projects\\RC8_ResultsSets\\BM\\Regional_Contributor\\BM_RC2016_Baseline_RegContributorDataGrid.csv Scenario: Baseline\n",
      "Saved P:\\projects\\RC8_ResultsSets\\AusGov_Luse_Summaries\\BM_RC2016_Baseline_AUSGOV_RegSummary.csv\n",
      "Processing P:\\projects\\RC8_ResultsSets\\BM\\Regional_Contributor\\BM_RC2016_Change_RegContributorDataGrid.csv Scenario: Change\n",
      "Saved P:\\projects\\RC8_ResultsSets\\AusGov_Luse_Summaries\\BM_RC2016_Change_AUSGOV_RegSummary.csv\n",
      "Processing P:\\projects\\RC8_ResultsSets\\BM\\Regional_Contributor\\BM_RC2016_PreDev_RegContributorDataGrid.csv Scenario: PreDev\n",
      "Saved P:\\projects\\RC8_ResultsSets\\AusGov_Luse_Summaries\\BM_RC2016_PreDev_AUSGOV_RegSummary.csv\n",
      "Processing P:\\projects\\RC8_ResultsSets\\CY\\Regional_Contributor\\CY_RC2016_Baseline_RegContributorDataGrid.csv Scenario: Baseline\n",
      "Saved P:\\projects\\RC8_ResultsSets\\AusGov_Luse_Summaries\\CY_RC2016_Baseline_AUSGOV_RegSummary.csv\n",
      "Processing P:\\projects\\RC8_ResultsSets\\CY\\Regional_Contributor\\RegContributorDataGrid_CHANGE_CY.csv Scenario: Change\n",
      "Saved P:\\projects\\RC8_ResultsSets\\AusGov_Luse_Summaries\\CY_RC2016_Change_AUSGOV_RegSummary.csv\n",
      "Processing P:\\projects\\RC8_ResultsSets\\CY\\Regional_Contributor\\RegContributorDataGrid_PD_CY.csv Scenario: PreDev\n",
      "Saved P:\\projects\\RC8_ResultsSets\\AusGov_Luse_Summaries\\CY_RC2016_PreDev_AUSGOV_RegSummary.csv\n",
      "Processing P:\\projects\\RC8_ResultsSets\\MW\\Regional_Contributor\\MW_RC2016_Baseline_RegContributorDataGrid.csv Scenario: Baseline\n",
      "Saved P:\\projects\\RC8_ResultsSets\\AusGov_Luse_Summaries\\MW_RC2016_Baseline_AUSGOV_RegSummary.csv\n",
      "Processing P:\\projects\\RC8_ResultsSets\\MW\\Regional_Contributor\\RegContributorDataGrid_MW_CHANGE_RC8.csv Scenario: Change\n",
      "Saved P:\\projects\\RC8_ResultsSets\\AusGov_Luse_Summaries\\MW_RC2016_Change_AUSGOV_RegSummary.csv\n",
      "Processing P:\\projects\\RC8_ResultsSets\\MW\\Regional_Contributor\\RegContributorDataGrid_MW_PREDEV_RC8.csv Scenario: PreDev\n",
      "Saved P:\\projects\\RC8_ResultsSets\\AusGov_Luse_Summaries\\MW_RC2016_PreDev_AUSGOV_RegSummary.csv\n",
      "Processing P:\\projects\\RC8_ResultsSets\\WT\\Regional_Contributor\\WT_RC2016_Baseline_RegContributorDataGrid.csv Scenario: Baseline\n",
      "Saved P:\\projects\\RC8_ResultsSets\\AusGov_Luse_Summaries\\WT_RC2016_Baseline_AUSGOV_RegSummary.csv\n",
      "Processing P:\\projects\\RC8_ResultsSets\\WT\\Regional_Contributor\\RegContributorDataGrid_WT_CHANGE_RC2016.csv Scenario: Change\n",
      "Saved P:\\projects\\RC8_ResultsSets\\AusGov_Luse_Summaries\\WT_RC2016_Change_AUSGOV_RegSummary.csv\n",
      "Processing P:\\projects\\RC8_ResultsSets\\WT\\Regional_Contributor\\RegContributorDataGrid_WT_PD_RC2016.csv Scenario: PreDev\n",
      "Saved P:\\projects\\RC8_ResultsSets\\AusGov_Luse_Summaries\\CY_RC2016_PreDev_AUSGOV_RegSummary.csv\n"
     ]
    }
   ],
   "source": [
    "#List out the processes\n",
    "\n",
    "#Burnett Mary\n",
    "produceSummaryFromRegContrib('P:\\projects\\RC8_ResultsSets\\BM\\Regional_Contributor\\BM_RC2016_Baseline_RegContributorDataGrid.csv','Baseline','P:\\projects\\RC8_ResultsSets\\AusGov_Luse_Summaries\\BM_RC2016_Baseline_AUSGOV_RegSummary.csv')\n",
    "produceSummaryFromRegContrib('P:\\projects\\RC8_ResultsSets\\BM\\Regional_Contributor\\BM_RC2016_Change_RegContributorDataGrid.csv','Change','P:\\projects\\RC8_ResultsSets\\AusGov_Luse_Summaries\\BM_RC2016_Change_AUSGOV_RegSummary.csv')\n",
    "produceSummaryFromRegContrib('P:\\projects\\RC8_ResultsSets\\BM\\Regional_Contributor\\BM_RC2016_PreDev_RegContributorDataGrid.csv','PreDev','P:\\projects\\RC8_ResultsSets\\AusGov_Luse_Summaries\\BM_RC2016_PreDev_AUSGOV_RegSummary.csv')\n",
    "\n",
    "#Cape York\n",
    "produceSummaryFromRegContrib('P:\\projects\\RC8_ResultsSets\\CY\\Regional_Contributor\\CY_RC2016_Baseline_RegContributorDataGrid.csv','Baseline','P:\\projects\\RC8_ResultsSets\\AusGov_Luse_Summaries\\CY_RC2016_Baseline_AUSGOV_RegSummary.csv')\n",
    "produceSummaryFromRegContrib('P:\\projects\\RC8_ResultsSets\\CY\\Regional_Contributor\\RegContributorDataGrid_CHANGE_CY.csv','Change','P:\\projects\\RC8_ResultsSets\\AusGov_Luse_Summaries\\CY_RC2016_Change_AUSGOV_RegSummary.csv')\n",
    "produceSummaryFromRegContrib('P:\\projects\\RC8_ResultsSets\\CY\\Regional_Contributor\\RegContributorDataGrid_PD_CY.csv','PreDev','P:\\projects\\RC8_ResultsSets\\AusGov_Luse_Summaries\\CY_RC2016_PreDev_AUSGOV_RegSummary.csv')\n",
    "\n",
    "#Mackay\n",
    "produceSummaryFromRegContrib('P:\\projects\\RC8_ResultsSets\\MW\\Regional_Contributor\\MW_RC2016_Baseline_RegContributorDataGrid.csv','Baseline','P:\\projects\\RC8_ResultsSets\\AusGov_Luse_Summaries\\MW_RC2016_Baseline_AUSGOV_RegSummary.csv')\n",
    "produceSummaryFromRegContrib('P:\\projects\\RC8_ResultsSets\\MW\\Regional_Contributor\\RegContributorDataGrid_MW_CHANGE_RC8.csv','Change','P:\\projects\\RC8_ResultsSets\\AusGov_Luse_Summaries\\MW_RC2016_Change_AUSGOV_RegSummary.csv')\n",
    "produceSummaryFromRegContrib('P:\\projects\\RC8_ResultsSets\\MW\\Regional_Contributor\\RegContributorDataGrid_MW_PREDEV_RC8.csv','PreDev','P:\\projects\\RC8_ResultsSets\\AusGov_Luse_Summaries\\MW_RC2016_PreDev_AUSGOV_RegSummary.csv')\n",
    "\n",
    "#Wet Tropics\n",
    "produceSummaryFromRegContrib('P:\\projects\\RC8_ResultsSets\\WT\\Regional_Contributor\\WT_RC2016_Baseline_RegContributorDataGrid.csv','Baseline','P:\\projects\\RC8_ResultsSets\\AusGov_Luse_Summaries\\WT_RC2016_Baseline_AUSGOV_RegSummary.csv')\n",
    "produceSummaryFromRegContrib('P:\\projects\\RC8_ResultsSets\\WT\\Regional_Contributor\\RegContributorDataGrid_WT_CHANGE_RC2016.csv','Change','P:\\projects\\RC8_ResultsSets\\AusGov_Luse_Summaries\\WT_RC2016_Change_AUSGOV_RegSummary.csv')\n",
    "produceSummaryFromRegContrib('P:\\projects\\RC8_ResultsSets\\WT\\Regional_Contributor\\RegContributorDataGrid_WT_PD_RC2016.csv','PreDev','P:\\projects\\RC8_ResultsSets\\AusGov_Luse_Summaries\\CY_RC2016_PreDev_AUSGOV_RegSummary.csv')\n",
    "\n"
   ]
  },
  {
   "cell_type": "code",
   "execution_count": null,
   "metadata": {
    "collapsed": true
   },
   "outputs": [],
   "source": []
  }
 ],
 "metadata": {
  "anaconda-cloud": {},
  "kernelspec": {
   "display_name": "Python [default]",
   "language": "python",
   "name": "python3"
  },
  "language_info": {
   "codemirror_mode": {
    "name": "ipython",
    "version": 3
   },
   "file_extension": ".py",
   "mimetype": "text/x-python",
   "name": "python",
   "nbconvert_exporter": "python",
   "pygments_lexer": "ipython3",
   "version": "3.5.2"
  }
 },
 "nbformat": 4,
 "nbformat_minor": 1
}
