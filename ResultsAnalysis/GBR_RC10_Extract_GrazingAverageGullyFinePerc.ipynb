{
 "cells": [
  {
   "cell_type": "code",
   "execution_count": 1,
   "metadata": {},
   "outputs": [],
   "source": [
    "##Robs summariser of RC9 Additional Scenario Regional Contributor tables\n",
    "import pandas as pd\n",
    "import numpy as np\n",
    "#import libarchive\n",
    "#import tempfile\n",
    "import os\n",
    "#from functools import reduce\n",
    "import datetime\n",
    "\n",
    "#mainPath = 'P:\\projects\\RC9_ResultsSets\\Tester'\n",
    "mainPath = r'\\\\athenasmb\\pdreef\\RC10_RC2019\\RC10_RC2019_ResultsSets_PointOfTruth'\n",
    "\n",
    "#outPath = 'P:\\projects\\RC9_ResultsSets\\RegContribTables'\n",
    "outPath = 'P:\\projects\\RC10_ResultsSets\\GrzGullyAvFinePercent'\n",
    "#summariesOutFolder = 'Summaries'\n",
    "\n",
    "\n",
    "parameterFileName = 'ParameterTable.csv'\n",
    "areaFileName = 'fuAreasTable.csv'\n",
    "\n",
    "#theTempDir = tempfile.gettempdir()\n",
    "#theCurrentDir = os.getcwd()\n",
    "\n",
    "#print(\"Current dir is: \" + theCurrentDir)\n",
    "\n",
    "#pathToContstitsToGrpFile = r'\\\\athenasmb\\pdreef\\RC9_RC2017\\RC9_ResultsSets_PointOfTruth\\constituentsToGroups.csv'\n",
    "\n",
    "regList = ['BM','BU', 'CY', 'FI','MW','WT']\n",
    "#regList = ['BM','MW','WT']\n",
    "#regList = ['BU']\n",
    "\n",
    "\n",
    "filterColName = 'CONSTITUENT'\n",
    "constitsList = ['Sediment - Fine']\n",
    "\n",
    "fuColName = 'ELEMENT'\n",
    "fuList = ['Grazing Forested', 'Grazing Open']\n",
    "\n",
    "#modelColName = 'MODEL'\n",
    "#modelNames = ['In Stream Fine Sediment Model - SedNet']\n",
    "\n",
    "paramColName = 'PARAMETER'\n",
    "paramNames = ['Gully Clay + Silt Percentage']\n",
    "\n",
    "#scenarioToFolderDict = {baselineScenarioName:baseFolderEnd, changeScenarioName:changeFolderEnd, predevScenarioName:predevFolderEnd}\n"
   ]
  },
  {
   "cell_type": "code",
   "execution_count": 2,
   "metadata": {},
   "outputs": [],
   "source": [
    "if not os.path.exists(outPath):\n",
    "    os.makedirs(outPath)\n",
    "    print(\"Made dir: \" + outPath)"
   ]
  },
  {
   "cell_type": "code",
   "execution_count": 3,
   "metadata": {},
   "outputs": [],
   "source": [
    "def getPathInfo(regionIDString, fileName):\n",
    "    fileIn = mainPath + '\\\\' + regionIDString + '\\\\Model_Outputs\\\\' + regionIDString + '_BASE_RC10\\\\' + fileName\n",
    "    #return fileIn, fileOut\n",
    "    return fileIn\n"
   ]
  },
  {
   "cell_type": "code",
   "execution_count": 4,
   "metadata": {},
   "outputs": [],
   "source": [
    "def processParameterFiltering(regionIDString):\n",
    "    \n",
    "    #theFileIn, theFileOut = getPathInfo(regionIDString)\n",
    "    theFileIn = getPathInfo(regionIDString, parameterFileName)\n",
    "    theAreasFile = getPathInfo(regionIDString, areaFileName)\n",
    "    \n",
    "    print(\"Processing \" + theFileIn)\n",
    "    \n",
    "    #This was for reading out of zip fiels\n",
    "    #with libarchive.file_reader(theFileIn) as e:\n",
    "    #    for entry in e:\n",
    "    #        if(regContributorFileName in entry.pathname):\n",
    "    #            print(entry)\n",
    "    #            with open(theTempDir + \"\\\\\" + regContributorFileName, 'wb') as f:\n",
    "    #                for block in entry.get_blocks():\n",
    "    #                    f.write(block)\n",
    "    #                break\n",
    "    \n",
    "    rawPT = pd.read_csv(theFileIn)\n",
    "    \n",
    "    filtered1 = rawPT.loc[rawPT[filterColName].isin(constitsList)]\n",
    "    filtered2 = filtered1.loc[filtered1[fuColName].isin(fuList)]\n",
    "    filtered3 = filtered2.loc[filtered1[paramColName].isin(paramNames)]\n",
    "    #The parameter value will be an 'object' at the moment\n",
    "    filtered3['VALUE'] = pd.to_numeric(filtered3['VALUE'], downcast=\"float\")\n",
    "    \n",
    "    rawAreas = pd.read_csv(theAreasFile)\n",
    "    filteredAreas = rawAreas.loc[rawAreas['FU'].isin(fuList)]\n",
    "    filteredAreas = filteredAreas.rename(columns={'Area':'FUArea'})\n",
    "    catchAreas = filteredAreas.groupby(['Catchment']).agg({'FUArea':'sum'}).reset_index()\n",
    "    catchAreas = catchAreas.rename(columns={'FUArea':'CATCHArea'})\n",
    "    mergedAreas = pd.merge(filteredAreas,catchAreas, how='inner', left_on=['Catchment'], right_on = ['Catchment'])\n",
    "    \n",
    "    mergedAreas['FUProp'] = mergedAreas['FUArea'] / mergedAreas['CATCHArea']\n",
    "    mergedAreas['FUProp'].fillna(0.0, inplace=True)\n",
    "    \n",
    "    joinedParams = pd.merge(filtered3, mergedAreas, how='inner', left_on=['CATCHMENT','ELEMENT'], right_on = ['Catchment','FU'])\n",
    "    \n",
    "    #print(joinedParams.dtypes)\n",
    "    joinedParams['WeightedVal'] = joinedParams['FUProp'] * joinedParams['VALUE']\n",
    "    \n",
    "    finalSum = joinedParams.groupby(['Catchment']).agg({'WeightedVal':'sum'}).reset_index()\n",
    "    \n",
    "    theFileOut = outPath + '\\\\' + regionIDString + '_GrzAverageGullyFinePercent.csv'\n",
    "    print(\"Processing \" + theFileOut)\n",
    "    finalSum.to_csv(theFileOut, index=False)\n",
    "    \n",
    "    return\n",
    "\n",
    "    "
   ]
  },
  {
   "cell_type": "code",
   "execution_count": 5,
   "metadata": {
    "scrolled": false
   },
   "outputs": [
    {
     "name": "stdout",
     "output_type": "stream",
     "text": [
      "Processing \\\\athenasmb\\pdreef\\RC10_RC2019\\RC10_RC2019_ResultsSets_PointOfTruth\\BM\\Model_Outputs\\BM_BASE_RC10\\ParameterTable.csv\n"
     ]
    },
    {
     "name": "stderr",
     "output_type": "stream",
     "text": [
      "C:\\ProgramData\\Anaconda3\\lib\\site-packages\\ipykernel_launcher.py:25: SettingWithCopyWarning: \n",
      "A value is trying to be set on a copy of a slice from a DataFrame.\n",
      "Try using .loc[row_indexer,col_indexer] = value instead\n",
      "\n",
      "See the caveats in the documentation: http://pandas.pydata.org/pandas-docs/stable/indexing.html#indexing-view-versus-copy\n"
     ]
    },
    {
     "name": "stdout",
     "output_type": "stream",
     "text": [
      "Processing P:\\projects\\RC10_ResultsSets\\GrzGullyAvFinePercent\\BM_GrzAverageGullyFinePercent.csv\n",
      "Processing \\\\athenasmb\\pdreef\\RC10_RC2019\\RC10_RC2019_ResultsSets_PointOfTruth\\BU\\Model_Outputs\\BU_BASE_RC10\\ParameterTable.csv\n",
      "Processing P:\\projects\\RC10_ResultsSets\\GrzGullyAvFinePercent\\BU_GrzAverageGullyFinePercent.csv\n",
      "Processing \\\\athenasmb\\pdreef\\RC10_RC2019\\RC10_RC2019_ResultsSets_PointOfTruth\\CY\\Model_Outputs\\CY_BASE_RC10\\ParameterTable.csv\n",
      "Processing P:\\projects\\RC10_ResultsSets\\GrzGullyAvFinePercent\\CY_GrzAverageGullyFinePercent.csv\n",
      "Processing \\\\athenasmb\\pdreef\\RC10_RC2019\\RC10_RC2019_ResultsSets_PointOfTruth\\FI\\Model_Outputs\\FI_BASE_RC10\\ParameterTable.csv\n",
      "Processing P:\\projects\\RC10_ResultsSets\\GrzGullyAvFinePercent\\FI_GrzAverageGullyFinePercent.csv\n",
      "Processing \\\\athenasmb\\pdreef\\RC10_RC2019\\RC10_RC2019_ResultsSets_PointOfTruth\\MW\\Model_Outputs\\MW_BASE_RC10\\ParameterTable.csv\n",
      "Processing P:\\projects\\RC10_ResultsSets\\GrzGullyAvFinePercent\\MW_GrzAverageGullyFinePercent.csv\n",
      "Processing \\\\athenasmb\\pdreef\\RC10_RC2019\\RC10_RC2019_ResultsSets_PointOfTruth\\WT\\Model_Outputs\\WT_BASE_RC10\\ParameterTable.csv\n",
      "Processing P:\\projects\\RC10_ResultsSets\\GrzGullyAvFinePercent\\WT_GrzAverageGullyFinePercent.csv\n",
      "Finished first summary 2021-06-07 10:37:03.503135\n"
     ]
    }
   ],
   "source": [
    "#List out the processes\n",
    "\n",
    "for regID in regList:\n",
    "    processParameterFiltering(regID)\n",
    "\n",
    "print(\"Finished first summary \" + str(datetime.datetime.now()))"
   ]
  },
  {
   "cell_type": "code",
   "execution_count": null,
   "metadata": {},
   "outputs": [],
   "source": []
  },
  {
   "cell_type": "code",
   "execution_count": null,
   "metadata": {},
   "outputs": [],
   "source": []
  }
 ],
 "metadata": {
  "anaconda-cloud": {},
  "kernelspec": {
   "display_name": "Python 3",
   "language": "python",
   "name": "python3"
  },
  "language_info": {
   "codemirror_mode": {
    "name": "ipython",
    "version": 3
   },
   "file_extension": ".py",
   "mimetype": "text/x-python",
   "name": "python",
   "nbconvert_exporter": "python",
   "pygments_lexer": "ipython3",
   "version": "3.7.3"
  }
 },
 "nbformat": 4,
 "nbformat_minor": 1
}
