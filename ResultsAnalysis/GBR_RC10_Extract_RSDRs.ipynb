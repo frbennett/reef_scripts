{
 "cells": [
  {
   "cell_type": "code",
   "execution_count": 16,
   "metadata": {},
   "outputs": [
    {
     "data": {
      "text/plain": [
       "\"\\nregExtDict = {\\n                'BM':'7z',\\n               'BU':'zip',\\n               'CY':'7z',\\n               'FI':'7z',\\n               'MW':'7z',\\n               'WT':'7z'\\n              }\\n\""
      ]
     },
     "execution_count": 16,
     "metadata": {},
     "output_type": "execute_result"
    }
   ],
   "source": [
    "##Robs summariser of RC9 Additional Scenario Regional Contributor tables\n",
    "import pandas as pd\n",
    "import numpy as np\n",
    "#import libarchive\n",
    "#import tempfile\n",
    "import os\n",
    "#from functools import reduce\n",
    "import datetime\n",
    "\n",
    "#mainPath = 'P:\\projects\\RC9_ResultsSets\\Tester'\n",
    "mainPath = r'\\\\athenasmb\\pdreef\\RC10_RC2019\\RC10_RC2019_ResultsSets_PointOfTruth'\n",
    "#mainPath = r'\\\\athenasmb\\pdreef\\RC9_RC2017\\RC9_ResultsSets_PointOfTruth'\n",
    "#outPath = 'P:\\projects\\RC9_ResultsSets\\RegContribTables'\n",
    "outPath = 'P:\\projects\\RC10_ResultsSets\\RSDRs'\n",
    "#summariesOutFolder = 'Summaries'\n",
    "\n",
    "\n",
    "regContributorFileName = 'RegContributorDataGrid.csv'\n",
    "\n",
    "#theTempDir = tempfile.gettempdir()\n",
    "#theCurrentDir = os.getcwd()\n",
    "\n",
    "#print(\"Current dir is: \" + theCurrentDir)\n",
    "\n",
    "#pathToContstitsToGrpFile = r'\\\\athenasmb\\pdreef\\RC9_RC2017\\RC9_ResultsSets_PointOfTruth\\constituentsToGroups.csv'\n",
    "\n",
    "regList = ['BM','BU','CY','FI','MW','WT']\n",
    "filterColName = 'Constituent'\n",
    "constitsList = ['Sediment - Fine','N_DIN']\n",
    "\"\"\"\n",
    "regExtDict = {\n",
    "                'BM':'7z',\n",
    "               'BU':'zip',\n",
    "               'CY':'7z',\n",
    "               'FI':'7z',\n",
    "               'MW':'7z',\n",
    "               'WT':'7z'\n",
    "              }\n",
    "\"\"\"\n",
    "#scenarioToFolderDict = {baselineScenarioName:baseFolderEnd, changeScenarioName:changeFolderEnd, predevScenarioName:predevFolderEnd}\n"
   ]
  },
  {
   "cell_type": "code",
   "execution_count": 17,
   "metadata": {},
   "outputs": [],
   "source": [
    "if not os.path.exists(outPath):\n",
    "    os.makedirs(outPath)\n",
    "    print(\"Made dir: \" + outPath)"
   ]
  },
  {
   "cell_type": "code",
   "execution_count": 18,
   "metadata": {},
   "outputs": [],
   "source": [
    "def getPathInfo(regionIDString):\n",
    "    fileIn = mainPath + '\\\\' + regionIDString + '\\\\Model_Outputs\\\\' + regionIDString + '_BASE_RC10\\\\' + regContributorFileName\n",
    "    #return fileIn, fileOut\n",
    "    return fileIn\n"
   ]
  },
  {
   "cell_type": "code",
   "execution_count": 19,
   "metadata": {},
   "outputs": [],
   "source": [
    "def produceSummaryFromRegContrib(regionIDString):\n",
    "    \n",
    "    #theFileIn, theFileOut = getPathInfo(regionIDString)\n",
    "    theFileIn = getPathInfo(regionIDString)\n",
    "    \n",
    "    print(\"Processing \" + theFileIn)\n",
    "    \n",
    "    #This was for reading out of zip fiels\n",
    "    #with libarchive.file_reader(theFileIn) as e:\n",
    "    #    for entry in e:\n",
    "    #        if(regContributorFileName in entry.pathname):\n",
    "    #            print(entry)\n",
    "    #            with open(theTempDir + \"\\\\\" + regContributorFileName, 'wb') as f:\n",
    "    #                for block in entry.get_blocks():\n",
    "    #                    f.write(block)\n",
    "    #                break\n",
    "    \n",
    "    rawcontrib = pd.read_csv(theFileIn)\n",
    "    \n",
    "    #Add broad Region ID\n",
    "    rawcontrib['NRMREG'] = regionIDString\n",
    "    #rawcontrib['SCENARIO'] = scenarioName\n",
    "    #rawcontrib[annLoadToStream] = rawcontrib['LoadToStream (kg)'].div(rawcontrib['Num_Days']).mul(365.25)\n",
    "    #rawcontrib[annLoadToExport] = rawcontrib['LoadToRegExport (kg)'].div(rawcontrib['Num_Days']).mul(365.25)\n",
    "    #rawcontrib['AreaHA'] = rawcontrib['AreaM2'].div(10000)\n",
    "    \n",
    "    #filtered = rawcontrib.loc[df[filterColName].isin(constitsList)]\n",
    "    \n",
    "    for thisConst in constitsList:\n",
    "        \n",
    "        tempList = [thisConst]\n",
    "        filtered = rawcontrib.loc[rawcontrib[filterColName].isin(tempList)]\n",
    "        \n",
    "        lumpedRSDR = pd.DataFrame(filtered.groupby(['NRMREG','Rep_Region','ModelElement','Constituent']).agg({'RSDR':'first'})).reset_index()\n",
    "        lumpedRSDR = lumpedRSDR.rename(columns={'ModelElement':'SubCatch'})\n",
    "        \n",
    "        theFileOut = outPath + '\\\\' + regionIDString + '_RSDR_' + thisConst + '.csv'\n",
    "        print(\"Processing \" + theFileOut)\n",
    "        lumpedRSDR.to_csv(theFileOut, index=False)\n",
    "    \n",
    "    return\n",
    "\n",
    "    "
   ]
  },
  {
   "cell_type": "code",
   "execution_count": 20,
   "metadata": {
    "scrolled": false
   },
   "outputs": [
    {
     "name": "stdout",
     "output_type": "stream",
     "text": [
      "Processing \\\\athenasmb\\pdreef\\RC10_RC2019\\RC10_RC2019_ResultsSets_PointOfTruth\\BM\\Model_Outputs\\BM_BASE_RC10\\RegContributorDataGrid.csv\n",
      "Processing P:\\projects\\RC10_ResultsSets\\RSDRs\\BM_RSDR_Sediment - Fine.csv\n",
      "Processing P:\\projects\\RC10_ResultsSets\\RSDRs\\BM_RSDR_N_DIN.csv\n",
      "Processing \\\\athenasmb\\pdreef\\RC10_RC2019\\RC10_RC2019_ResultsSets_PointOfTruth\\BU\\Model_Outputs\\BU_BASE_RC10\\RegContributorDataGrid.csv\n",
      "Processing P:\\projects\\RC10_ResultsSets\\RSDRs\\BU_RSDR_Sediment - Fine.csv\n",
      "Processing P:\\projects\\RC10_ResultsSets\\RSDRs\\BU_RSDR_N_DIN.csv\n",
      "Processing \\\\athenasmb\\pdreef\\RC10_RC2019\\RC10_RC2019_ResultsSets_PointOfTruth\\CY\\Model_Outputs\\CY_BASE_RC10\\RegContributorDataGrid.csv\n",
      "Processing P:\\projects\\RC10_ResultsSets\\RSDRs\\CY_RSDR_Sediment - Fine.csv\n",
      "Processing P:\\projects\\RC10_ResultsSets\\RSDRs\\CY_RSDR_N_DIN.csv\n",
      "Processing \\\\athenasmb\\pdreef\\RC10_RC2019\\RC10_RC2019_ResultsSets_PointOfTruth\\FI\\Model_Outputs\\FI_BASE_RC10\\RegContributorDataGrid.csv\n",
      "Processing P:\\projects\\RC10_ResultsSets\\RSDRs\\FI_RSDR_Sediment - Fine.csv\n",
      "Processing P:\\projects\\RC10_ResultsSets\\RSDRs\\FI_RSDR_N_DIN.csv\n",
      "Processing \\\\athenasmb\\pdreef\\RC10_RC2019\\RC10_RC2019_ResultsSets_PointOfTruth\\MW\\Model_Outputs\\MW_BASE_RC10\\RegContributorDataGrid.csv\n",
      "Processing P:\\projects\\RC10_ResultsSets\\RSDRs\\MW_RSDR_Sediment - Fine.csv\n",
      "Processing P:\\projects\\RC10_ResultsSets\\RSDRs\\MW_RSDR_N_DIN.csv\n",
      "Processing \\\\athenasmb\\pdreef\\RC10_RC2019\\RC10_RC2019_ResultsSets_PointOfTruth\\WT\\Model_Outputs\\WT_BASE_RC10\\RegContributorDataGrid.csv\n",
      "Processing P:\\projects\\RC10_ResultsSets\\RSDRs\\WT_RSDR_Sediment - Fine.csv\n",
      "Processing P:\\projects\\RC10_ResultsSets\\RSDRs\\WT_RSDR_N_DIN.csv\n",
      "Finished first summary 2020-09-29 07:18:16.656874\n"
     ]
    }
   ],
   "source": [
    "#List out the processes\n",
    "\n",
    "for regID in regList:\n",
    "    produceSummaryFromRegContrib(regID)\n",
    "\n",
    "print(\"Finished first summary \" + str(datetime.datetime.now()))"
   ]
  },
  {
   "cell_type": "code",
   "execution_count": null,
   "metadata": {},
   "outputs": [],
   "source": []
  }
 ],
 "metadata": {
  "anaconda-cloud": {},
  "kernelspec": {
   "display_name": "Python 3",
   "language": "python",
   "name": "python3"
  },
  "language_info": {
   "codemirror_mode": {
    "name": "ipython",
    "version": 3
   },
   "file_extension": ".py",
   "mimetype": "text/x-python",
   "name": "python",
   "nbconvert_exporter": "python",
   "pygments_lexer": "ipython3",
   "version": "3.7.3"
  }
 },
 "nbformat": 4,
 "nbformat_minor": 1
}
