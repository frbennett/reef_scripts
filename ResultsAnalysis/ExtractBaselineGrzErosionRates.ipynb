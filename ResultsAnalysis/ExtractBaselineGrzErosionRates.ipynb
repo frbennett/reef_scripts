{
 "cells": [
  {
   "cell_type": "code",
   "execution_count": 1,
   "metadata": {},
   "outputs": [],
   "source": [
    "import pandas as pd\n",
    "import numpy as np\n",
    "import shutil\n",
    "import os\n",
    "import datetime\n",
    "\n",
    "#mainPath = 'P:\\projects\\RC9_ResultsSets\\RegContribTables'\n",
    "mainPath = r'\\\\athenasmb\\pdreef\\RC10_RC2019\\RC10_RC2019_ResultsSets_PointOfTruth'\n",
    "\n",
    "baseFolderEnd = 'BASE_RC10'\n",
    "#changeFolderEnd = 'CHANGE_RC10'\n",
    "#predevFolderEnd = 'PREDEV_RC10'\n",
    "regContributorFileName = 'RegContributorDataGrid.csv'\n",
    "#parameterTableFileName = 'ParameterTable.csv'\n",
    "outputCSVEnd = 'RegContributorDataGrid.csv'\n",
    "baselineScenarioName = 'Baseline'\n",
    "\n",
    "#regList = ['BU']\n",
    "regList = ['FI']\n",
    "\n",
    "outPath = 'P:\\projects\\RC10_ResultsSets\\GrazingHillslopeErosionRates'\n",
    "\n",
    "baseOutName = 'BASE'\n",
    "scenNameDict = {baselineScenarioName:baseOutName}\n",
    "\n",
    "reportCardString = 'RC2019'\n",
    "\n",
    "pathToContstitsToGrpFile = r'\\\\athenasmb\\pdreef\\RC10_RC2019\\RC10_RC2019_ResultsSets_PointOfTruth\\constituentsToGroups.csv'\n",
    "\n",
    "filterColName1 = 'Constituent'\n",
    "reqVals1 = ['Sediment - Fine']\n",
    "\n",
    "filterColName2 = 'FU'\n",
    "reqVals2 = ['Grazing Forested', 'Grazing Open']\n",
    "\n",
    "filterColName3 = 'Process'\n",
    "reqVals3 = ['Hillslope surface soil']\n",
    "\n"
   ]
  },
  {
   "cell_type": "code",
   "execution_count": 2,
   "metadata": {},
   "outputs": [],
   "source": [
    "if not os.path.exists(outPath):\n",
    "    os.makedirs(outPath)\n",
    "    print(\"Made dir: \" + outPath)"
   ]
  },
  {
   "cell_type": "code",
   "execution_count": 3,
   "metadata": {},
   "outputs": [],
   "source": [
    "def getPathInfo(regionIDString):\n",
    "    fileIn = mainPath + '\\\\' + regionIDString + '\\\\Model_Outputs\\\\' + regionIDString + '_BASE_RC10\\\\' + regContributorFileName\n",
    "    #return fileIn, fileOut\n",
    "    return fileIn"
   ]
  },
  {
   "cell_type": "code",
   "execution_count": 4,
   "metadata": {},
   "outputs": [],
   "source": [
    "def processReultsFiltering(regionIDString):\n",
    "    \n",
    "    #theFileIn, theFileOut = getPathInfo(regionIDString)\n",
    "    theFileIn = getPathInfo(regionIDString)\n",
    "    \n",
    "    print(\"Processing \" + theFileIn)\n",
    "    \n",
    "    #This was for reading out of zip fiels\n",
    "    #with libarchive.file_reader(theFileIn) as e:\n",
    "    #    for entry in e:\n",
    "    #        if(regContributorFileName in entry.pathname):\n",
    "    #            print(entry)\n",
    "    #            with open(theTempDir + \"\\\\\" + regContributorFileName, 'wb') as f:\n",
    "    #                for block in entry.get_blocks():\n",
    "    #                    f.write(block)\n",
    "    #                break\n",
    "    \n",
    "    rawPT = pd.read_csv(theFileIn)\n",
    "    \n",
    "    filtered1 = rawPT.loc[rawPT[filterColName1].isin(reqVals1)]\n",
    "    filtered2 = filtered1.loc[filtered1[filterColName2].isin(reqVals2)]\n",
    "    filtered3 = filtered2.loc[filtered2[filterColName3].isin(reqVals3)]\n",
    "    \n",
    "    theFileOut = outPath + '\\\\' + regionIDString + '_GrazingHillErosRates.csv'\n",
    "    print(\"Processing \" + theFileOut)\n",
    "    filtered3.to_csv(theFileOut, index=False)\n",
    "    \n",
    "    return"
   ]
  },
  {
   "cell_type": "code",
   "execution_count": 5,
   "metadata": {},
   "outputs": [
    {
     "name": "stdout",
     "output_type": "stream",
     "text": [
      "Processing \\\\athenasmb\\pdreef\\RC10_RC2019\\RC10_RC2019_ResultsSets_PointOfTruth\\FI\\Model_Outputs\\FI_BASE_RC10\\RegContributorDataGrid.csv\n",
      "Processing P:\\projects\\RC10_ResultsSets\\GrazingHillslopeErosionRates\\FI_GrazingHillErosRates.csv\n",
      "Finished first summary 2021-09-13 11:08:25.491228\n"
     ]
    }
   ],
   "source": [
    "#List out the processes\n",
    "\n",
    "for regID in regList:\n",
    "    processReultsFiltering(regID)\n",
    "\n",
    "print(\"Finished first summary \" + str(datetime.datetime.now()))"
   ]
  },
  {
   "cell_type": "code",
   "execution_count": null,
   "metadata": {},
   "outputs": [],
   "source": []
  }
 ],
 "metadata": {
  "kernelspec": {
   "display_name": "Python 3 (ipykernel)",
   "language": "python",
   "name": "python3"
  },
  "language_info": {
   "codemirror_mode": {
    "name": "ipython",
    "version": 3
   },
   "file_extension": ".py",
   "mimetype": "text/x-python",
   "name": "python",
   "nbconvert_exporter": "python",
   "pygments_lexer": "ipython3",
   "version": "3.7.3"
  }
 },
 "nbformat": 4,
 "nbformat_minor": 2
}
