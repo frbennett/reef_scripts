{
 "cells": [
  {
   "cell_type": "code",
   "execution_count": 1,
   "metadata": {
    "collapsed": true
   },
   "outputs": [],
   "source": [
    "##Robs summariser of RC8 regoinal Contributor tables\n",
    "import pandas as pd\n",
    "import numpy as np\n",
    "\n"
   ]
  },
  {
   "cell_type": "code",
   "execution_count": 4,
   "metadata": {
    "collapsed": true
   },
   "outputs": [],
   "source": [
    "def produceSummaryFromRegContrib(regContribFile, scenarioName, outputFile, altRegsFile, catchColName, regColName):\n",
    "    \n",
    "    print(\"Processing \" + regContribFile + \" Scenario: \" + scenarioName)\n",
    "    \n",
    "    rawcontrib = pd.read_csv(regContribFile)\n",
    "    altRegs = pd.read_csv(altRegsFile)\n",
    "    \n",
    "    rawcontrib['SCENARIO'] = scenarioName\n",
    "    rawcontrib['AnnLoadToStreamKG'] = rawcontrib['LoadToStream (kg)'].div(rawcontrib['Num_Days']).mul(365.25)\n",
    "    rawcontrib['AnnLoadToExportKG'] = rawcontrib['LoadToRegExport (kg)'].div(rawcontrib['Num_Days']).mul(365.25)\n",
    "    rawcontrib['AreaHA'] = rawcontrib['AreaM2'].div(10000)\n",
    "    \n",
    "    ### Can keep reporting region in the area table, as this is our Non-Nested notebook\n",
    "    #catchFuArea = pd.DataFrame(rawcontrib.groupby(['Rep_Region','ModelElement','FU']).agg({'AreaHA':'first'})).reset_index()\n",
    "    catchFuArea = pd.merge(pd.DataFrame(rawcontrib.groupby(['Rep_Region','ModelElement','FU']).agg({'AreaHA':'first'})).reset_index(), altRegs, how='left', left_on=['ModelElement'], right_on = [catchColName])\n",
    "    \n",
    "    #regFuArea = pd.DataFrame(catchFuArea.groupby(['Rep_Region','FU']).agg({'AreaHA':'sum'})).reset_index()\n",
    "    regFuArea = pd.DataFrame(catchFuArea.groupby([regColName,'FU']).agg({'AreaHA':'sum'})).reset_index()\n",
    "    \n",
    "    ### add alternative regions to raw contributor data\n",
    "    rawcontrib = pd.merge(rawcontrib, altRegs, how='left', left_on=['ModelElement'], right_on=[catchColName]).reset_index()\n",
    "    \n",
    "    #regLuseSummary = pd.DataFrame(rawcontrib[rawcontrib['Constituent'].isin(selectedConstituents)].groupby(['Rep_Region','Constituent','FU','Process']).agg({'AnnLoadToStreamKG':'sum','AnnLoadToExportKG':'sum'})).reset_index()\n",
    "    regLuseSummary = pd.DataFrame(rawcontrib.groupby(['SCENARIO',regColName,'Constituent','FU','Process']).agg({'AnnLoadToStreamKG':'sum','AnnLoadToExportKG':'sum'})).reset_index()\n",
    "    \n",
    "    ### Join/merge with Regional Areas\n",
    "    regLuseSumPlusArea = pd.merge(regLuseSummary, regFuArea, how='left', left_on=[regColName,'FU'], right_on = [regColName,'FU'])\n",
    "    \n",
    "    regLuseSumPlusArea.to_csv(outputFile, index=False)\n",
    "    \n",
    "    print(\"Saved \" + outputFile)\n",
    "    \n",
    "    return\n",
    "\n",
    "    "
   ]
  },
  {
   "cell_type": "code",
   "execution_count": 5,
   "metadata": {
    "collapsed": false
   },
   "outputs": [
    {
     "name": "stdout",
     "output_type": "stream",
     "text": [
      "Processing P:\\projects\\RC8_ResultsSets\\BU\\Regional_Contributor\\BU_RC2016_Baseline_RegContributorDataGrid.csv Scenario: Baseline\n",
      "Saved P:\\projects\\RC8_ResultsSets\\AusGov_Luse_Summaries\\BU_RC2016_Baseline_AUSGOV_RegSummary.csv\n",
      "Processing P:\\projects\\RC8_ResultsSets\\BU\\Regional_Contributor\\RC8_MC_Contribution.csv Scenario: Change\n",
      "Saved P:\\projects\\RC8_ResultsSets\\AusGov_Luse_Summaries\\BU_RC2016_Change_AUSGOV_RegSummary.csv\n",
      "Processing P:\\projects\\RC8_ResultsSets\\BU\\Regional_Contributor\\RC8_PD_Contribution.csv Scenario: PreDev\n",
      "Saved P:\\projects\\RC8_ResultsSets\\AusGov_Luse_Summaries\\BU_RC2016_PreDev_AUSGOV_RegSummary.csv\n",
      "Processing P:\\projects\\RC8_ResultsSets\\FI\\Regional_Contributor\\FI_RC2016_Baseline_RegContributorDataGrid.csv Scenario: Baseline\n",
      "Saved P:\\projects\\RC8_ResultsSets\\AusGov_Luse_Summaries\\FI_RC2016_Baseline_AUSGOV_RegSummary.csv\n",
      "Processing P:\\projects\\RC8_ResultsSets\\FI\\Regional_Contributor\\FI_RC2016_Change_9e_RegContributorDataGrid.csv Scenario: Change\n",
      "Saved P:\\projects\\RC8_ResultsSets\\AusGov_Luse_Summaries\\FI_RC2016_Change_AUSGOV_RegSummary.csv\n",
      "Processing P:\\projects\\RC8_ResultsSets\\FI\\Regional_Contributor\\FI_RC2016_Predev_8g_RegContributorDataGrid.csv Scenario: PreDev\n",
      "Saved P:\\projects\\RC8_ResultsSets\\AusGov_Luse_Summaries\\FI_RC2016_PreDev_AUSGOV_RegSummary.csv\n"
     ]
    }
   ],
   "source": [
    "#List out the processes\n",
    "\n",
    "#Burdekin\n",
    "produceSummaryFromRegContrib('P:\\projects\\RC8_ResultsSets\\BU\\Regional_Contributor\\BU_RC2016_Baseline_RegContributorDataGrid.csv','Baseline','P:\\projects\\RC8_ResultsSets\\AusGov_Luse_Summaries\\BU_RC2016_Baseline_AUSGOV_RegSummary.csv','P:\\projects\\RC7_Results\\BU_Exported ReportingRegions.csv','Catchmt','AUSGMCAS')\n",
    "produceSummaryFromRegContrib('P:\\projects\\RC8_ResultsSets\\BU\\Regional_Contributor\\RC8_MC_Contribution.csv','Change','P:\\projects\\RC8_ResultsSets\\AusGov_Luse_Summaries\\BU_RC2016_Change_AUSGOV_RegSummary.csv','P:\\projects\\RC7_Results\\BU_Exported ReportingRegions.csv','Catchmt','AUSGMCAS')\n",
    "produceSummaryFromRegContrib('P:\\projects\\RC8_ResultsSets\\BU\\Regional_Contributor\\RC8_PD_Contribution.csv','PreDev','P:\\projects\\RC8_ResultsSets\\AusGov_Luse_Summaries\\BU_RC2016_PreDev_AUSGOV_RegSummary.csv','P:\\projects\\RC7_Results\\BU_Exported ReportingRegions.csv','Catchmt','AUSGMCAS')\n",
    "\n",
    "#Fitzroy\n",
    "produceSummaryFromRegContrib('P:\\projects\\RC8_ResultsSets\\FI\\Regional_Contributor\\FI_RC2016_Baseline_RegContributorDataGrid.csv','Baseline','P:\\projects\\RC8_ResultsSets\\AusGov_Luse_Summaries\\FI_RC2016_Baseline_AUSGOV_RegSummary.csv','P:\\projects\\RC7_Results\\FI_ReportingRegions.csv','Catchmt','AUSGMCAS')\n",
    "produceSummaryFromRegContrib('P:\\projects\\RC8_ResultsSets\\FI\\Regional_Contributor\\FI_RC2016_Change_9e_RegContributorDataGrid.csv','Change','P:\\projects\\RC8_ResultsSets\\AusGov_Luse_Summaries\\FI_RC2016_Change_AUSGOV_RegSummary.csv','P:\\projects\\RC7_Results\\FI_ReportingRegions.csv','Catchmt','AUSGMCAS')\n",
    "produceSummaryFromRegContrib('P:\\projects\\RC8_ResultsSets\\FI\\Regional_Contributor\\FI_RC2016_Predev_8g_RegContributorDataGrid.csv','PreDev','P:\\projects\\RC8_ResultsSets\\AusGov_Luse_Summaries\\FI_RC2016_PreDev_AUSGOV_RegSummary.csv','P:\\projects\\RC7_Results\\FI_ReportingRegions.csv','Catchmt','AUSGMCAS')\n"
   ]
  },
  {
   "cell_type": "code",
   "execution_count": null,
   "metadata": {
    "collapsed": true
   },
   "outputs": [],
   "source": []
  }
 ],
 "metadata": {
  "anaconda-cloud": {},
  "kernelspec": {
   "display_name": "Python [default]",
   "language": "python",
   "name": "python3"
  },
  "language_info": {
   "codemirror_mode": {
    "name": "ipython",
    "version": 3
   },
   "file_extension": ".py",
   "mimetype": "text/x-python",
   "name": "python",
   "nbconvert_exporter": "python",
   "pygments_lexer": "ipython3",
   "version": "3.5.2"
  }
 },
 "nbformat": 4,
 "nbformat_minor": 1
}
