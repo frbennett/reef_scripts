{
 "cells": [
  {
   "cell_type": "code",
   "execution_count": 13,
   "metadata": {},
   "outputs": [],
   "source": [
    "##Robs summariser of RC8 regoinal Contributor tables\n",
    "import pandas as pd\n",
    "import numpy as np\n",
    "import os\n",
    "\n",
    "#mainPath = 'P:\\projects\\RC9_ResultsSets\\RegContribTables'\n",
    "mainPath = r'\\\\athenasmb\\pdreef\\RC10_RC2019\\RC10_RC2019_ResultsSets_PointOfTruth'\n",
    "outPath = r'P:\\projects\\RC10_ResultsSets'\n",
    "summariesOutFolder = 'MineralsSummaries'\n",
    "baseFolderEnd = 'BASE_RC10'\n",
    "regContributorFileName = 'RegContributorDataGrid.csv'\n",
    "outputCSVEnd = 'CatchmentToOutlet.csv'\n",
    "baselineScenarioName = 'Baseline'\n",
    "reportCardString = 'RC2019'\n",
    "\n",
    "pathToContstitsToGrpFile = r'\\\\athenasmb\\pdreef\\RC10_RC2019\\RC10_RC2019_ResultsSets_PointOfTruth\\constituentsToGroups.csv'\n",
    "\n",
    "\n",
    "#altRegLinker = 'Catchmt'\n",
    "standardRegName = 'RepReg'\n",
    "#altRegColName = 'AUSGMCAS'\n",
    "origLinker = 'ModelElement'\n",
    "\n",
    "annLoadToStream = 'AnnLoadToStreamKG'\n",
    "annLoadToExport = 'AnnLoadToExportKG'\n",
    "\n",
    "#regionIDs = ['MW']\n",
    "regionIDs = ['BM','BU','CY','FI','MW','WT']\n",
    "Constituents = ['Sediment - Fine', 'N_DIN', 'P_FRP']\n",
    "FUs = ['Sugarcane', 'Grazing Open', 'Grazing Forested', 'Bananas']\n",
    "\n",
    "scenarioToFolderDict = {baselineScenarioName:baseFolderEnd}\n"
   ]
  },
  {
   "cell_type": "code",
   "execution_count": 14,
   "metadata": {},
   "outputs": [],
   "source": [
    "if not os.path.exists(outPath):\n",
    "    os.makedirs(outPath)\n",
    "    print(\"Made dir: \" + outPath)"
   ]
  },
  {
   "cell_type": "code",
   "execution_count": 15,
   "metadata": {},
   "outputs": [],
   "source": [
    "if not os.path.exists(outPath + '\\\\' + summariesOutFolder):\n",
    "    os.makedirs(outPath + '\\\\' + summariesOutFolder)\n",
    "    print(\"Made dir: \" + outPath + '\\\\' + summariesOutFolder)"
   ]
  },
  {
   "cell_type": "code",
   "execution_count": 16,
   "metadata": {},
   "outputs": [],
   "source": [
    "def getPathInfo(regionIDString, scenarioString):\n",
    "    fileIn = mainPath + '\\\\' + regionIDString + '\\\\Model_Outputs\\\\' + regionIDString + '_' + scenarioToFolderDict[scenarioString] + '\\\\' + regContributorFileName\n",
    "    fileOut = outPath + '\\\\' + summariesOutFolder + '\\\\' + regionIDString + '_' + reportCardString + '_' + scenarioString + '_' + outputCSVEnd\n",
    "    return fileIn, fileOut\n"
   ]
  },
  {
   "cell_type": "code",
   "execution_count": 17,
   "metadata": {},
   "outputs": [],
   "source": [
    "def produceSummaryFromRegContrib(regionIDString, scenarioName):\n",
    "    \n",
    "    theFileIn, theFileOut = getPathInfo(regionIDString, scenarioName)\n",
    "    \n",
    "    print(\"Processing \" + theFileIn + \" Scenario: \" + scenarioName)\n",
    "    \n",
    "    rawcontrib = pd.read_csv(theFileIn)\n",
    "    \n",
    "    #Filtering\n",
    "    filtered = rawcontrib.loc[rawcontrib['Constituent'].isin(Constituents)]\n",
    "    filtered2 = filtered.loc[filtered['FU'].isin(FUs)]\n",
    "    \n",
    "    filtered2['SCENARIO'] = scenarioName\n",
    "    filtered2[annLoadToStream] = filtered2['LoadToStream (kg)'].div(filtered2['Num_Days']).mul(365.25)\n",
    "    filtered2[annLoadToExport] = filtered2['LoadToRegExport (kg)'].div(filtered2['Num_Days']).mul(365.25)\n",
    "    filtered2['AreaHA'] = filtered2['AreaM2'].div(10000)\n",
    "    \n",
    "#     if regionIDString in alternativeRegionsCSV:\n",
    "#         print(\"Reading alternative regionalistaion for \" + regionIDString)\n",
    "#         altDetsDF = pd.read_csv(alternativeRegionsCSV[regionIDString])\n",
    "#         combinedDF = pd.merge(rawcontrib, altDetsDF, how='left', left_on=[origLinker], right_on = [altRegLinker])\n",
    "#         #Transfer vals\n",
    "#         combinedDF['Rep_Region'] = combinedDF[altRegColName]\n",
    "#         #Drop cols\n",
    "#         #where 1 is the axis number (0 for rows and 1 for columns.)\n",
    "#         combinedDF = combinedDF.drop(altRegColName, 1)\n",
    "#         combinedDF = combinedDF.drop(standardRegName, 1)\n",
    "#         combinedDF = combinedDF.drop(altRegLinker, 1)\n",
    "#         rawcontrib = combinedDF\n",
    "    \n",
    "    #Ange wants catchment area, will need to grab it from the non-FU filtered bit...\n",
    "    catchAllFUsArea = pd.DataFrame(filtered.groupby(['Rep_Region','ModelElement','FU']).agg({'AreaM2':'first'})).reset_index()\n",
    "    catchAllFUsArea['AreaHA'] = catchAllFUsArea['AreaM2'].div(10000)\n",
    "    catchAreas = pd.DataFrame(catchAllFUsArea.groupby(['Rep_Region','ModelElement']).agg({'AreaHA':'sum'})).reset_index()\n",
    "    catchAreas['CatchAreaHA'] = catchAreas['AreaHA']\n",
    "    del catchAreas['AreaHA']\n",
    "    \n",
    "    catchFuAreas = pd.DataFrame(filtered2.groupby(['Rep_Region','ModelElement','FU']).agg({'AreaHA':'first'})).reset_index()\n",
    "    catchFuAreas['FUAreaHA'] = catchFuAreas['AreaHA']\n",
    "    del catchFuAreas['AreaHA']\n",
    "    #regFuArea = pd.DataFrame(catchFuArea.groupby(['Rep_Region','FU']).agg({'AreaHA':'sum'})).reset_index()\n",
    "    \n",
    "    #regLuseSummary = pd.DataFrame(rawcontrib[rawcontrib['Constituent'].isin(selectedConstituents)].groupby(['Rep_Region','Constituent','FU','Process']).agg({'AnnLoadToStreamKG':'sum','AnnLoadToExportKG':'sum'})).reset_index()\n",
    "    regLuseSummary = pd.DataFrame(filtered2.groupby(['SCENARIO','Rep_Region','ModelElement','Constituent','FU']).agg({annLoadToStream:'sum',annLoadToExport:'sum'})).reset_index()\n",
    "    \n",
    "    ### Join/merge with Regional Areas\n",
    "    regLuseSumPlusCatchArea = pd.merge(regLuseSummary, catchAreas, how='left', left_on=['Rep_Region','ModelElement'], right_on = ['Rep_Region','ModelElement'])\n",
    "    regLuseSumPlusFUArea = pd.merge(regLuseSumPlusCatchArea, catchFuAreas, how='left', left_on=['Rep_Region','ModelElement','FU'], right_on = ['Rep_Region','ModelElement','FU'])\n",
    "    \n",
    "    regLuseSumPlusFUArea.to_csv(theFileOut, index=False)\n",
    "    \n",
    "    print(\"Saved \" + theFileOut)\n",
    "    \n",
    "    return\n",
    "\n",
    "    "
   ]
  },
  {
   "cell_type": "code",
   "execution_count": 18,
   "metadata": {
    "scrolled": false
   },
   "outputs": [
    {
     "name": "stdout",
     "output_type": "stream",
     "text": [
      "Doing: BM Baseline\n",
      "Processing \\\\athenasmb\\pdreef\\RC10_RC2019\\RC10_RC2019_ResultsSets_PointOfTruth\\BM\\Model_Outputs\\BM_BASE_RC10\\RegContributorDataGrid.csv Scenario: Baseline\n"
     ]
    },
    {
     "name": "stderr",
     "output_type": "stream",
     "text": [
      "C:\\ProgramData\\Anaconda3\\lib\\site-packages\\ipykernel_launcher.py:13: SettingWithCopyWarning: \n",
      "A value is trying to be set on a copy of a slice from a DataFrame.\n",
      "Try using .loc[row_indexer,col_indexer] = value instead\n",
      "\n",
      "See the caveats in the documentation: http://pandas.pydata.org/pandas-docs/stable/indexing.html#indexing-view-versus-copy\n",
      "  del sys.path[0]\n",
      "C:\\ProgramData\\Anaconda3\\lib\\site-packages\\ipykernel_launcher.py:14: SettingWithCopyWarning: \n",
      "A value is trying to be set on a copy of a slice from a DataFrame.\n",
      "Try using .loc[row_indexer,col_indexer] = value instead\n",
      "\n",
      "See the caveats in the documentation: http://pandas.pydata.org/pandas-docs/stable/indexing.html#indexing-view-versus-copy\n",
      "  \n",
      "C:\\ProgramData\\Anaconda3\\lib\\site-packages\\ipykernel_launcher.py:15: SettingWithCopyWarning: \n",
      "A value is trying to be set on a copy of a slice from a DataFrame.\n",
      "Try using .loc[row_indexer,col_indexer] = value instead\n",
      "\n",
      "See the caveats in the documentation: http://pandas.pydata.org/pandas-docs/stable/indexing.html#indexing-view-versus-copy\n",
      "  from ipykernel import kernelapp as app\n",
      "C:\\ProgramData\\Anaconda3\\lib\\site-packages\\ipykernel_launcher.py:16: SettingWithCopyWarning: \n",
      "A value is trying to be set on a copy of a slice from a DataFrame.\n",
      "Try using .loc[row_indexer,col_indexer] = value instead\n",
      "\n",
      "See the caveats in the documentation: http://pandas.pydata.org/pandas-docs/stable/indexing.html#indexing-view-versus-copy\n",
      "  app.launch_new_instance()\n"
     ]
    },
    {
     "name": "stdout",
     "output_type": "stream",
     "text": [
      "Saved P:\\projects\\RC10_ResultsSets\\MineralsSummaries\\BM_RC2019_Baseline_CatchmentToOutlet.csv\n",
      "Doing: BU Baseline\n",
      "Processing \\\\athenasmb\\pdreef\\RC10_RC2019\\RC10_RC2019_ResultsSets_PointOfTruth\\BU\\Model_Outputs\\BU_BASE_RC10\\RegContributorDataGrid.csv Scenario: Baseline\n",
      "Saved P:\\projects\\RC10_ResultsSets\\MineralsSummaries\\BU_RC2019_Baseline_CatchmentToOutlet.csv\n",
      "Doing: CY Baseline\n",
      "Processing \\\\athenasmb\\pdreef\\RC10_RC2019\\RC10_RC2019_ResultsSets_PointOfTruth\\CY\\Model_Outputs\\CY_BASE_RC10\\RegContributorDataGrid.csv Scenario: Baseline\n",
      "Saved P:\\projects\\RC10_ResultsSets\\MineralsSummaries\\CY_RC2019_Baseline_CatchmentToOutlet.csv\n",
      "Doing: FI Baseline\n",
      "Processing \\\\athenasmb\\pdreef\\RC10_RC2019\\RC10_RC2019_ResultsSets_PointOfTruth\\FI\\Model_Outputs\\FI_BASE_RC10\\RegContributorDataGrid.csv Scenario: Baseline\n",
      "Saved P:\\projects\\RC10_ResultsSets\\MineralsSummaries\\FI_RC2019_Baseline_CatchmentToOutlet.csv\n",
      "Doing: MW Baseline\n",
      "Processing \\\\athenasmb\\pdreef\\RC10_RC2019\\RC10_RC2019_ResultsSets_PointOfTruth\\MW\\Model_Outputs\\MW_BASE_RC10\\RegContributorDataGrid.csv Scenario: Baseline\n",
      "Saved P:\\projects\\RC10_ResultsSets\\MineralsSummaries\\MW_RC2019_Baseline_CatchmentToOutlet.csv\n",
      "Doing: WT Baseline\n",
      "Processing \\\\athenasmb\\pdreef\\RC10_RC2019\\RC10_RC2019_ResultsSets_PointOfTruth\\WT\\Model_Outputs\\WT_BASE_RC10\\RegContributorDataGrid.csv Scenario: Baseline\n",
      "Saved P:\\projects\\RC10_ResultsSets\\MineralsSummaries\\WT_RC2019_Baseline_CatchmentToOutlet.csv\n",
      "Finished first summary\n"
     ]
    }
   ],
   "source": [
    "#List out the processes\n",
    "\n",
    "for theReg in regionIDs:\n",
    "    \n",
    "    for scenario in scenarioToFolderDict.keys():\n",
    "        \n",
    "        print(\"Doing: \" + theReg + \" \" + scenario)\n",
    "        produceSummaryFromRegContrib(theReg, scenario)\n",
    "\n",
    "\n",
    "\n",
    "print(\"Finished first summary\")"
   ]
  },
  {
   "cell_type": "code",
   "execution_count": null,
   "metadata": {},
   "outputs": [],
   "source": []
  }
 ],
 "metadata": {
  "anaconda-cloud": {},
  "kernelspec": {
   "display_name": "Python 3",
   "language": "python",
   "name": "python3"
  },
  "language_info": {
   "codemirror_mode": {
    "name": "ipython",
    "version": 3
   },
   "file_extension": ".py",
   "mimetype": "text/x-python",
   "name": "python",
   "nbconvert_exporter": "python",
   "pygments_lexer": "ipython3",
   "version": "3.7.3"
  }
 },
 "nbformat": 4,
 "nbformat_minor": 1
}
