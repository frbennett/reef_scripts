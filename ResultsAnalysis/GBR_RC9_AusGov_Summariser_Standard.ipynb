{
 "cells": [
  {
   "cell_type": "code",
   "execution_count": 1,
   "metadata": {},
   "outputs": [],
   "source": [
    "##Robs summariser of RC8 regoinal Contributor tables\n",
    "import pandas as pd\n",
    "import numpy as np\n",
    "\n"
   ]
  },
  {
   "cell_type": "code",
   "execution_count": 2,
   "metadata": {},
   "outputs": [],
   "source": [
    "def produceSummaryFromRegContrib(regContribFile, scenarioName, outputFile):\n",
    "    \n",
    "    print(\"Processing \" + regContribFile + \" Scenario: \" + scenarioName)\n",
    "    \n",
    "    rawcontrib = pd.read_csv(regContribFile)\n",
    "    \n",
    "    rawcontrib['SCENARIO'] = scenarioName\n",
    "    rawcontrib['AnnLoadToStreamKG'] = rawcontrib['LoadToStream (kg)'].div(rawcontrib['Num_Days']).mul(365.25)\n",
    "    rawcontrib['AnnLoadToExportKG'] = rawcontrib['LoadToRegExport (kg)'].div(rawcontrib['Num_Days']).mul(365.25)\n",
    "    rawcontrib['AreaHA'] = rawcontrib['AreaM2'].div(10000)\n",
    "    \n",
    "    ### Can keep reporting region in the area table, as this is our Non-Nested notebook\n",
    "    catchFuArea = pd.DataFrame(rawcontrib.groupby(['Rep_Region','ModelElement','FU']).agg({'AreaHA':'first'})).reset_index()\n",
    "    regFuArea = pd.DataFrame(catchFuArea.groupby(['Rep_Region','FU']).agg({'AreaHA':'sum'})).reset_index()\n",
    "    \n",
    "    #regLuseSummary = pd.DataFrame(rawcontrib[rawcontrib['Constituent'].isin(selectedConstituents)].groupby(['Rep_Region','Constituent','FU','Process']).agg({'AnnLoadToStreamKG':'sum','AnnLoadToExportKG':'sum'})).reset_index()\n",
    "    regLuseSummary = pd.DataFrame(rawcontrib.groupby(['SCENARIO','Rep_Region','Constituent','FU','Process']).agg({'AnnLoadToStreamKG':'sum','AnnLoadToExportKG':'sum'})).reset_index()\n",
    "    \n",
    "    ### Join/merge with Regional Areas\n",
    "    regLuseSumPlusArea = pd.merge(regLuseSummary, regFuArea, how='left', left_on=['Rep_Region','FU'], right_on = ['Rep_Region','FU'])\n",
    "    \n",
    "    regLuseSumPlusArea.to_csv(outputFile, index=False)\n",
    "    \n",
    "    print(\"Saved \" + outputFile)\n",
    "    \n",
    "    return\n",
    "\n",
    "    "
   ]
  },
  {
   "cell_type": "code",
   "execution_count": 3,
   "metadata": {},
   "outputs": [
    {
     "name": "stdout",
     "output_type": "stream",
     "text": [
      "Processing P:\\projects\\RC9_ResultsSets\\RegContribTables\\BU\\BU_BASE_RC9\\RegContributorDataGrid.csv Scenario: Baseline\n",
      "Saved P:\\projects\\RC9_ResultsSets\\RegContribTables\\Summaries\\BU_RC2017_Baseline_RegToOutlet.csv\n",
      "Processing P:\\projects\\RC9_ResultsSets\\RegContribTables\\BU\\BU_CHANGE_RC9\\RegContributorDataGrid.csv Scenario: Change\n",
      "Saved P:\\projects\\RC9_ResultsSets\\RegContribTables\\Summaries\\BU_RC2017_Change_RegToOutlet.csv\n",
      "Processing P:\\projects\\RC9_ResultsSets\\RegContribTables\\BU\\BU_PREDEV_RC9\\RegContributorDataGrid.csv Scenario: PreDev\n",
      "Saved P:\\projects\\RC9_ResultsSets\\RegContribTables\\Summaries\\BU_RC2017_PreDev_RegToOutlet.csv\n",
      "finished\n"
     ]
    }
   ],
   "source": [
    "#List out the processes\n",
    "\n",
    "#Burdekin\n",
    "produceSummaryFromRegContrib('P:\\projects\\RC9_ResultsSets\\RegContribTables\\BU\\BU_BASE_RC9\\RegContributorDataGrid.csv','Baseline','P:\\projects\\RC9_ResultsSets\\RegContribTables\\Summaries\\BU_RC2017_Baseline_RegToOutlet.csv')\n",
    "produceSummaryFromRegContrib('P:\\projects\\RC9_ResultsSets\\RegContribTables\\BU\\BU_CHANGE_RC9\\RegContributorDataGrid.csv','Change','P:\\projects\\RC9_ResultsSets\\RegContribTables\\Summaries\\BU_RC2017_Change_RegToOutlet.csv')\n",
    "produceSummaryFromRegContrib('P:\\projects\\RC9_ResultsSets\\RegContribTables\\BU\\BU_PREDEV_RC9\\RegContributorDataGrid.csv','PreDev','P:\\projects\\RC9_ResultsSets\\RegContribTables\\Summaries\\BU_RC2017_PreDev_RegToOutlet.csv')\n",
    "\n",
    "\n",
    "#Burnett Mary\n",
    "#produceSummaryFromRegContrib('P:\\projects\\RC9_ResultsSets\\RegContribTables\\BM\\BM_BASE_RC9\\RegContributorDataGrid.csv','Baseline','P:\\projects\\RC9_ResultsSets\\RegContribTables\\Summaries\\BM_RC2017_Baseline_RegToOutlet.csv')\n",
    "#produceSummaryFromRegContrib('P:\\projects\\RC9_ResultsSets\\RegContribTables\\BM\\BM_CHANGE_RC9\\RegContributorDataGrid.csv','Change','P:\\projects\\RC9_ResultsSets\\RegContribTables\\Summaries\\BM_RC2017_Change_RegToOutlet.csv')\n",
    "#produceSummaryFromRegContrib('P:\\projects\\RC9_ResultsSets\\RegContribTables\\BM\\BM_PREDEV_RC9\\RegContributorDataGrid.csv','PreDev','P:\\projects\\RC9_ResultsSets\\RegContribTables\\Summaries\\BM_RC2017_PreDev_RegToOutlet.csv')\n",
    "\n",
    "#Cape York\n",
    "#produceSummaryFromRegContrib('P:\\projects\\RC9_ResultsSets\\RegContribTables\\CY\\CY_BASE_RC9\\RegContributorDataGrid.csv','Baseline','P:\\projects\\RC9_ResultsSets\\RegContribTables\\Summaries\\CY_RC2017_Baseline_RegToOutlet.csv')\n",
    "#produceSummaryFromRegContrib('P:\\projects\\RC9_ResultsSets\\RegContribTables\\CY\\CY_CHANGE_RC9\\RegContributorDataGrid.csv','Change','P:\\projects\\RC9_ResultsSets\\RegContribTables\\Summaries\\CY_RC2017_Change_RegToOutlet.csv')\n",
    "#produceSummaryFromRegContrib('P:\\projects\\RC9_ResultsSets\\RegContribTables\\CY\\CY_PREDEV_RC9\\RegContributorDataGrid.csv','PreDev','P:\\projects\\RC9_ResultsSets\\RegContribTables\\Summaries\\CY_RC2017_PreDev_RegToOutlet.csv')\n",
    "\n",
    "#Fitzroy\n",
    "#produceSummaryFromRegContrib('P:\\projects\\RC9_ResultsSets\\RegContribTables\\FI\\FI_BASE_RC9\\RegContributorDataGrid.csv','Baseline','P:\\projects\\RC9_ResultsSets\\RegContribTables\\Summaries\\FI_RC2017_Baseline_RegToOutlet.csv')\n",
    "#produceSummaryFromRegContrib('P:\\projects\\RC9_ResultsSets\\RegContribTables\\FI\\FI_CHANGE_RC9\\RegContributorDataGrid.csv','Change','P:\\projects\\RC9_ResultsSets\\RegContribTables\\Summaries\\FI_RC2017_Change_RegToOutlet.csv')\n",
    "#produceSummaryFromRegContrib('P:\\projects\\RC9_ResultsSets\\RegContribTables\\FI\\FI_PREDEV_RC9\\RegContributorDataGrid.csv','PreDev','P:\\projects\\RC9_ResultsSets\\RegContribTables\\Summaries\\FI_RC2017_PreDev_RegToOutlet.csv')\n",
    "\n",
    "#Mackay\n",
    "#produceSummaryFromRegContrib('P:\\projects\\RC9_ResultsSets\\RegContribTables\\MW\\MW_BASE_RC9\\RegContributorDataGrid.csv','Baseline','P:\\projects\\RC9_ResultsSets\\RegContribTables\\Summaries\\MW_RC2017_Baseline_RegToOutlet.csv')\n",
    "#produceSummaryFromRegContrib('P:\\projects\\RC9_ResultsSets\\RegContribTables\\MW\\MW_CHANGE_RC9\\RegContributorDataGrid.csv','Change','P:\\projects\\RC9_ResultsSets\\RegContribTables\\Summaries\\MW_RC2017_Change_RegToOutlet.csv')\n",
    "#produceSummaryFromRegContrib('P:\\projects\\RC9_ResultsSets\\RegContribTables\\MW\\MW_PREDEV_RC9\\RegContributorDataGrid.csv','PreDev','P:\\projects\\RC9_ResultsSets\\RegContribTables\\Summaries\\MW_RC2017_PreDev_RegToOutlet.csv')\n",
    "\n",
    "#Wet Tropics\n",
    "#produceSummaryFromRegContrib('P:\\projects\\RC9_ResultsSets\\RegContribTables\\WT\\WT_BASE_RC9\\RegContributorDataGrid.csv','Baseline','P:\\projects\\RC9_ResultsSets\\RegContribTables\\Summaries\\WT_RC2017_Baseline_RegToOutlet.csv')\n",
    "#produceSummaryFromRegContrib('P:\\projects\\RC9_ResultsSets\\RegContribTables\\WT\\WT_CHANGE_RC9\\RegContributorDataGrid.csv','Change','P:\\projects\\RC9_ResultsSets\\RegContribTables\\Summaries\\WT_RC2017_Change_RegToOutlet.csv')\n",
    "#produceSummaryFromRegContrib('P:\\projects\\RC9_ResultsSets\\RegContribTables\\WT\\WT_PREDEV_RC9\\RegContributorDataGrid.csv','PreDev','P:\\projects\\RC9_ResultsSets\\RegContribTables\\Summaries\\WT_RC2017_PreDev_RegToOutlet.csv')\n",
    "\n",
    "print(\"finished\")"
   ]
  },
  {
   "cell_type": "code",
   "execution_count": null,
   "metadata": {
    "collapsed": true
   },
   "outputs": [],
   "source": []
  }
 ],
 "metadata": {
  "anaconda-cloud": {},
  "kernelspec": {
   "display_name": "Python 3",
   "language": "python",
   "name": "python3"
  },
  "language_info": {
   "codemirror_mode": {
    "name": "ipython",
    "version": 3
   },
   "file_extension": ".py",
   "mimetype": "text/x-python",
   "name": "python",
   "nbconvert_exporter": "python",
   "pygments_lexer": "ipython3",
   "version": "3.7.1"
  }
 },
 "nbformat": 4,
 "nbformat_minor": 1
}
