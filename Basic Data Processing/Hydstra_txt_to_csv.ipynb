{
 "cells": [
  {
   "cell_type": "markdown",
   "metadata": {},
   "source": [
    "## Script to move multiple Hydstra text files from bulk (Hybatch) download into one folder and convert to csvs"
   ]
  },
  {
   "cell_type": "code",
   "execution_count": 1,
   "metadata": {
    "collapsed": true
   },
   "outputs": [],
   "source": [
    "import shutil, os, glob, csv"
   ]
  },
  {
   "cell_type": "markdown",
   "metadata": {},
   "source": [
    "### Part 1: Find the scattered RAW Hydstra text files (that are located under the gauge folders) with the format specified below and move them into a single directory"
   ]
  },
  {
   "cell_type": "code",
   "execution_count": 2,
   "metadata": {
    "collapsed": true
   },
   "outputs": [],
   "source": [
    "#Specify these settings\n",
    "\n",
    "#The location where the scattered Hydstra text file outputs are (nested in their own gauge folders) and the file name format\n",
    "download_dir = 'D:\\\\Climate_extension\\\\WT\\\\Monitored_flows_for_Xike_calibration\\\\Xike_sample_files\\\\QH_FLOW\\\\*\\\\*.cs2.txt'\n",
    "#Note: This example script looks for the files with '*.cs2.txt' (downloaded using Qld Hydrology's batch file. Change location and to '*.vd9.txt' if extracting from default Hybatch download)\n",
    "\n",
    "#The location where you want all the raw Hydstra text files (with certain naming convention) to go\n",
    "dest_dir = 'D:\\\\Hydstra\\\\conversion_test\\\\Outputs' #Put the raw text files together into one folder\n",
    "\n",
    "#The name of the new folder where you want all the specified raw text files converted to raw csvs moved\n",
    "csv_folder_name = 'Raw_csvs'"
   ]
  },
  {
   "cell_type": "code",
   "execution_count": 3,
   "metadata": {
    "collapsed": false,
    "scrolled": true
   },
   "outputs": [],
   "source": [
    "#Setting the location of the raw text files and the destination directory that the text files should be moved to\n",
    "\n",
    "for file in glob.glob(download_dir):\n",
    "    #print(file)\n",
    "    shutil.copy(file, dest_dir)"
   ]
  },
  {
   "cell_type": "markdown",
   "metadata": {},
   "source": [
    "### Part 2: Convert the RAW Hydstra files into csv format and put into separate new folder"
   ]
  },
  {
   "cell_type": "code",
   "execution_count": 4,
   "metadata": {
    "collapsed": false
   },
   "outputs": [
    {
     "name": "stdout",
     "output_type": "stream",
     "text": [
      "The raw (i.e. unblended) Hydstra csv files are saved at D:\\Hydstra\\conversion_test\\Outputs\\Raw_csvs\n"
     ]
    }
   ],
   "source": [
    "txt_dir = dest_dir\n",
    "\n",
    "#Creates a new sub-folder, name specified as 'csv_folder_name' within the directory where the raw text files are located\n",
    "new_dir = os.makedirs(txt_dir+'\\\\'+csv_folder_name, exist_ok=True)\n",
    "new_dir=os.path.join(txt_dir+os.path.sep+csv_folder_name)\n",
    "\n",
    "print('The raw (i.e. unblended) Hydstra csv files are saved at', new_dir)\n",
    "\n",
    "text_files = os.path.join(txt_dir+os.path.sep+'*.cs2.txt') #Change extension to suit the files you are targetting\n",
    "\n",
    "for file in glob.glob(text_files):\n",
    "    with open(file,'r') as input_file:\n",
    "        in_txt = csv.reader(input_file, delimiter=',')\n",
    "        filename = os.path.splitext(os.path.basename(file))[0] + '.csv'\n",
    "        \n",
    "        with open(os.path.join(new_dir,filename),'w',newline='') as output_file:\n",
    "            out_csv = csv.writer(output_file)\n",
    "            out_csv.writerows(in_txt)\n"
   ]
  },
  {
   "cell_type": "code",
   "execution_count": null,
   "metadata": {
    "collapsed": false
   },
   "outputs": [],
   "source": []
  },
  {
   "cell_type": "code",
   "execution_count": null,
   "metadata": {
    "collapsed": true
   },
   "outputs": [],
   "source": []
  },
  {
   "cell_type": "code",
   "execution_count": null,
   "metadata": {
    "collapsed": false
   },
   "outputs": [],
   "source": []
  },
  {
   "cell_type": "code",
   "execution_count": null,
   "metadata": {
    "collapsed": false
   },
   "outputs": [],
   "source": [
    "\n",
    "            "
   ]
  },
  {
   "cell_type": "code",
   "execution_count": null,
   "metadata": {
    "collapsed": false
   },
   "outputs": [],
   "source": []
  }
 ],
 "metadata": {
  "kernelspec": {
   "display_name": "Python 3",
   "language": "python",
   "name": "python3"
  },
  "language_info": {
   "codemirror_mode": {
    "name": "ipython",
    "version": 3
   },
   "file_extension": ".py",
   "mimetype": "text/x-python",
   "name": "python",
   "nbconvert_exporter": "python",
   "pygments_lexer": "ipython3",
   "version": "3.5.1"
  }
 },
 "nbformat": 4,
 "nbformat_minor": 0
}
