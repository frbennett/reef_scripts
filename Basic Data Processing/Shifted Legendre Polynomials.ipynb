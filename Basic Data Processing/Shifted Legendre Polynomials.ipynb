{
 "cells": [
  {
   "cell_type": "markdown",
   "metadata": {},
   "source": [
    "## Data Transformations\n",
    "\n",
    "The following functions and routines are usefult for exanding sets of data into a Shifted Legendre Polynomial basis. The script uses xlwings and will operate on the currently open worksheet in an open excel spreadsheet.\n",
    "The shifted Legendre polynomials are normalised to satisfy the condition\n",
    "\n",
    "$$\\int _{ 0 }^{ 1 }{ { \\widetilde { P }  }_{ m }(x) } { \\widetilde { P }  }_{ n }(x)\\quad dx\\quad =\\quad { \\delta  }_{ m,n }$$\n",
    "\n",
    "\n",
    "**my_transform(get_from,put_too):**\n",
    "```  \n",
    "performs a simple affine type transform of a column of data and writes the tranformed data scaled and shifted to fit [0,1] to a new column\n",
    "\n",
    "```\n",
    "**shift_legendre(n,x):**\n",
    "```  \n",
    "returns the value of the shifted Legendre polynomial of order n at x where 1>x>0\n",
    "\n",
    "```\n",
    "**do_slp(get_from,put_too,n):**\n",
    "```  \n",
    "reads the column get_from and writes the cooresponding shifted Legendre polynomial order n values to put_too\n",
    "\n",
    "```\n"
   ]
  },
  {
   "cell_type": "code",
   "execution_count": 53,
   "metadata": {
    "collapsed": true
   },
   "outputs": [],
   "source": [
    "import scipy.special as sp\n",
    "import numpy as np\n",
    "import xlwings as xl\n",
    "import math"
   ]
  },
  {
   "cell_type": "code",
   "execution_count": 100,
   "metadata": {
    "collapsed": false
   },
   "outputs": [],
   "source": [
    "def my_transform(get_from,put_too):\n",
    "    input_column = input_column=sht.range(get_from).options(expand='down').value\n",
    "    my_min = min(input_column)\n",
    "    my_max = max(input_column)\n",
    "    myrange = my_max-my_min\n",
    "    my_output = list(map(lambda x: (x-my_min)/myrange, input_column))\n",
    "    sht.range(put_too).options(transpose=True).value=my_output"
   ]
  },
  {
   "cell_type": "code",
   "execution_count": 55,
   "metadata": {
    "collapsed": true
   },
   "outputs": [],
   "source": [
    "def shift_legendre(n,x):\n",
    "    funct = math.sqrt(2*n+1) * sp.eval_sh_legendre(n,x)\n",
    "    return funct"
   ]
  },
  {
   "cell_type": "code",
   "execution_count": 108,
   "metadata": {
    "collapsed": true
   },
   "outputs": [],
   "source": [
    "def do_slp(get_from,put_too,n):\n",
    "    input_column=sht.range(get_from).options(expand='down').value\n",
    "    slp = [shift_legendre(n, x) for x in input_column]\n",
    "    sht.range(put_too).options(transpose=True).value=slp \n",
    "    "
   ]
  },
  {
   "cell_type": "markdown",
   "metadata": {},
   "source": [
    "This procedure will read in a column of transformed data (read_in) and write out the legendre polynomial values for orders given in polynomial orders. Output columns will be sequention starting at start__out_column and start_out_row"
   ]
  },
  {
   "cell_type": "code",
   "execution_count": 137,
   "metadata": {
    "collapsed": false
   },
   "outputs": [],
   "source": [
    "polynomial_orders = [1,2,3,4,5,6]\n",
    "read_in = 'I4'\n",
    "start_out_column = 25\n",
    "start_out_row = 4\n",
    "\n",
    "out_column = start_out_column\n",
    "for p_order in polynomial_orders:\n",
    "    output = (start_out_row, start_out_column)\n",
    "    do_slp(read_in,output,p_order)\n",
    "    start_out_column += 1\n",
    "    "
   ]
  },
  {
   "cell_type": "code",
   "execution_count": null,
   "metadata": {
    "collapsed": true
   },
   "outputs": [],
   "source": []
  }
 ],
 "metadata": {
  "kernelspec": {
   "display_name": "Python 3",
   "language": "python",
   "name": "python3"
  },
  "language_info": {
   "codemirror_mode": {
    "name": "ipython",
    "version": 3
   },
   "file_extension": ".py",
   "mimetype": "text/x-python",
   "name": "python",
   "nbconvert_exporter": "python",
   "pygments_lexer": "ipython3",
   "version": "3.6.0"
  }
 },
 "nbformat": 4,
 "nbformat_minor": 2
}
