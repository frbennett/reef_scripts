{
 "cells": [
  {
   "cell_type": "code",
   "execution_count": 1,
   "metadata": {},
   "outputs": [],
   "source": [
    "##Robs Seasonal USLE stabulator\n",
    "import pandas as pd\n",
    "#import numpy as np\n",
    "#import libarchive\n",
    "#import tempfile\n",
    "import os\n",
    "##from functools import reduce\n",
    "#import datetime\n",
    "\n",
    "sepChar = '#'\n",
    "spaceChar = ' '\n",
    "dotChar = '.'\n",
    "\n",
    "commonFileNameBit = 'Annual Load For SC #'\n",
    "catchNameStart = 'SC #'\n",
    "\n",
    "#subDIRs = ['Cfact', 'KLSC', 'KLSC_Fines']\n",
    "#subDIRs = ['KLSC', 'KLSC_Fines']\n",
    "\n",
    "#topPath = r'P:\\projects\\RC9_ResultsSets\\ArchiveStuff\\BU\\USLE\\DummyInputs'\n",
    "topPath = r'P:\\projects\\RC9_ResultsSets\\ArchiveStuff\\BU\\GullyRC10\\Load'\n",
    "outputPath = r'P:\\projects\\RC9_ResultsSets\\ArchiveStuff\\BU\\GullyRC10\\Tabulations'\n",
    "\n",
    "existColStr = 'Date'\n",
    "dateColStr = 'YearStart'\n",
    "\n",
    "reqDateStrings = ['1986-01-01', '1987-01-01', '1988-01-01', '1989-01-01', '1990-01-01', '1991-01-01', '1992-01-01',\n",
    "                  '1993-01-01', '1994-01-01', '1995-01-01', '1996-01-01', '1997-01-01', '1998-01-01', '1999-01-01',\n",
    "                  '2000-01-01', '2001-01-01', '2002-01-01', '2003-01-01', '2004-01-01', '2005-01-01', '2006-01-01',\n",
    "                  '2007-01-01', '2008-01-01', '2009-01-01', '2010-01-01', '2011-01-01', '2012-01-01', '2013-01-01', '2014-01-01']\n",
    "\n",
    "\n",
    "resultsDict = {}\n"
   ]
  },
  {
   "cell_type": "code",
   "execution_count": 2,
   "metadata": {},
   "outputs": [],
   "source": [
    "if not os.path.exists(outputPath):\n",
    "    os.makedirs(outputPath)\n",
    "    print(\"Made dir: \" + outputPath)"
   ]
  },
  {
   "cell_type": "code",
   "execution_count": 3,
   "metadata": {},
   "outputs": [
    {
     "name": "stdout",
     "output_type": "stream",
     "text": [
      "Everything Collected\n"
     ]
    }
   ],
   "source": [
    "resultsDict = {}\n",
    "for fName in os.listdir(topPath):\n",
    "    \n",
    "    fullFileName = os.path.join(topPath, fName)\n",
    "    \n",
    "    nameWithoutCommon = fName.replace(commonFileNameBit, '')\n",
    "    \n",
    "    #print(\"Interesting Bit: \" + nameWithoutCommon)\n",
    "    \n",
    "    posOfSpace = nameWithoutCommon.index(spaceChar)\n",
    "    posOfDot = nameWithoutCommon.index(dotChar)\n",
    "    \n",
    "    catchNum = nameWithoutCommon[:posOfSpace]\n",
    "    catchName = catchNameStart + catchNum\n",
    "    fuName = nameWithoutCommon[posOfSpace + 1:posOfDot]   \n",
    "    \n",
    "    #print(\"Catch Name: \" + catchName)\n",
    "    #print(\"FU Name: \" + fuName)\n",
    "    \n",
    "    #read in the CSV\n",
    "    dataDF = pd.read_csv(fullFileName, error_bad_lines=False)\n",
    "    \n",
    "    #Filter dates\n",
    "    dataDF = dataDF.loc[dataDF[existColStr].isin(reqDateStrings)]\n",
    "    dataDF.columns = [dateColStr, catchName]\n",
    "    \n",
    "    testSum = dataDF[catchName].sum()\n",
    "    \n",
    "    if testSum <= 0:\n",
    "        continue\n",
    "    \n",
    "    #Will ant to check for > zero first\n",
    "    if not fuName in resultsDict:\n",
    "        #print(\"In here\")\n",
    "        resultsDict[fuName] = pd.DataFrame({dateColStr:reqDateStrings})\n",
    "\n",
    "    #print(dataDF)\n",
    "    \n",
    "    combinedDF = pd.merge(resultsDict[fuName], dataDF, how='left', left_on=[dateColStr], right_on = [dateColStr])\n",
    "    resultsDict[fuName] = combinedDF\n",
    "            \n",
    "    #Going to go without merging/joining, rely on everything being in the right order?\n",
    "         \n",
    "\n",
    "print(\"Everything Collected\")"
   ]
  },
  {
   "cell_type": "code",
   "execution_count": 4,
   "metadata": {},
   "outputs": [
    {
     "name": "stdout",
     "output_type": "stream",
     "text": [
      "Saved:P:\\projects\\RC9_ResultsSets\\ArchiveStuff\\BU\\GullyRC10\\Tabulations\\GullyAnnualLoadKG_Conservation.csv\n",
      "Saved:P:\\projects\\RC9_ResultsSets\\ArchiveStuff\\BU\\GullyRC10\\Tabulations\\GullyAnnualLoadKG_Grazing Forested.csv\n",
      "Saved:P:\\projects\\RC9_ResultsSets\\ArchiveStuff\\BU\\GullyRC10\\Tabulations\\GullyAnnualLoadKG_Grazing Open.csv\n",
      "Saved:P:\\projects\\RC9_ResultsSets\\ArchiveStuff\\BU\\GullyRC10\\Tabulations\\GullyAnnualLoadKG_Other.csv\n",
      "Saved:P:\\projects\\RC9_ResultsSets\\ArchiveStuff\\BU\\GullyRC10\\Tabulations\\GullyAnnualLoadKG_Urban.csv\n",
      "Saved:P:\\projects\\RC9_ResultsSets\\ArchiveStuff\\BU\\GullyRC10\\Tabulations\\GullyAnnualLoadKG_Water.csv\n",
      "Saved:P:\\projects\\RC9_ResultsSets\\ArchiveStuff\\BU\\GullyRC10\\Tabulations\\GullyAnnualLoadKG_Dryland Cropping.csv\n",
      "Saved:P:\\projects\\RC9_ResultsSets\\ArchiveStuff\\BU\\GullyRC10\\Tabulations\\GullyAnnualLoadKG_Horticulture.csv\n",
      "Saved:P:\\projects\\RC9_ResultsSets\\ArchiveStuff\\BU\\GullyRC10\\Tabulations\\GullyAnnualLoadKG_Forestry.csv\n",
      "Saved:P:\\projects\\RC9_ResultsSets\\ArchiveStuff\\BU\\GullyRC10\\Tabulations\\GullyAnnualLoadKG_Irrigated Cropping.csv\n",
      "Saved:P:\\projects\\RC9_ResultsSets\\ArchiveStuff\\BU\\GullyRC10\\Tabulations\\GullyAnnualLoadKG_Sugarcane.csv\n",
      "Saving Done\n"
     ]
    }
   ],
   "source": [
    "#now write the results\n",
    "\n",
    "for theFU in resultsDict:\n",
    "\n",
    "    theOutFileName = os.path.join(outputPath, \"GullyAnnualLoadKG_\" + theFU + \".csv\")\n",
    "        \n",
    "    resultsDict[theFU].to_csv(theOutFileName, index=False)\n",
    "    print(\"Saved:\" + theOutFileName)\n",
    "\n",
    "print(\"Saving Done\")"
   ]
  },
  {
   "cell_type": "code",
   "execution_count": null,
   "metadata": {},
   "outputs": [],
   "source": []
  }
 ],
 "metadata": {
  "kernelspec": {
   "display_name": "Python 3",
   "language": "python",
   "name": "python3"
  },
  "language_info": {
   "codemirror_mode": {
    "name": "ipython",
    "version": 3
   },
   "file_extension": ".py",
   "mimetype": "text/x-python",
   "name": "python",
   "nbconvert_exporter": "python",
   "pygments_lexer": "ipython3",
   "version": "3.7.3"
  }
 },
 "nbformat": 4,
 "nbformat_minor": 2
}
