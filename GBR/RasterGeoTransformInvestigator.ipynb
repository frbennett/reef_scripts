{
 "cells": [
  {
   "cell_type": "code",
   "execution_count": 1,
   "metadata": {},
   "outputs": [],
   "source": [
    "import numpy\n",
    "import netCDF4\n",
    "from osgeo import gdal, osr\n",
    "#from datetime import datetime, date\n",
    "import datetime\n",
    "import os\n",
    "\n",
    "\n",
    "\n",
    "\n"
   ]
  },
  {
   "cell_type": "code",
   "execution_count": 2,
   "metadata": {},
   "outputs": [
    {
     "name": "stdout",
     "output_type": "stream",
     "text": [
      "(1752255.0, 30.0, 0.0, -2788085.0, 0.0, -30.0)\n"
     ]
    }
   ],
   "source": [
    "inFile = r'P:\\projects\\QWMN\\ModelImprovementTWG\\Task2.3.1_PeakRunoff\\BrigalowCFactors\\cf_199206199208.tif'\n",
    "\n",
    "theDataSet = gdal.Open(inFile)\n",
    "\n",
    "GT = theDataSet.GetGeoTransform()\n",
    "\n",
    "print(GT)\n"
   ]
  },
  {
   "cell_type": "code",
   "execution_count": 3,
   "metadata": {},
   "outputs": [
    {
     "name": "stdout",
     "output_type": "stream",
     "text": [
      "<class 'osgeo.gdal.Dataset'>\n"
     ]
    }
   ],
   "source": [
    "print(type(theDataSet))"
   ]
  },
  {
   "cell_type": "code",
   "execution_count": 4,
   "metadata": {},
   "outputs": [
    {
     "name": "stdout",
     "output_type": "stream",
     "text": [
      "(1457655.0, 30.0, 0.0, -2394155.0, 0.0, -30.0)\n"
     ]
    }
   ],
   "source": [
    "inFile = r'P:\\projects\\QWMN\\ModelImprovementTWG\\Task2.3.1_PeakRunoff\\ShawnCFactor\\cf_199806_199808.tif'\n",
    "\n",
    "theDataSet = gdal.Open(inFile)\n",
    "\n",
    "GT = theDataSet.GetGeoTransform()\n",
    "\n",
    "print(GT)"
   ]
  },
  {
   "cell_type": "code",
   "execution_count": 5,
   "metadata": {},
   "outputs": [
    {
     "name": "stdout",
     "output_type": "stream",
     "text": [
      "(111.975, 0.05, 0.0, -9.975, 0.0, -0.05)\n"
     ]
    }
   ],
   "source": [
    "inFile = r'P:\\projects\\SILO\\2001.et_morton_wet.nc'\n",
    "\n",
    "theDataSet = gdal.Open(inFile)\n",
    "\n",
    "GT = theDataSet.GetGeoTransform()\n",
    "\n",
    "print(GT)\n"
   ]
  },
  {
   "cell_type": "code",
   "execution_count": 6,
   "metadata": {},
   "outputs": [
    {
     "name": "stdout",
     "output_type": "stream",
     "text": [
      "(111.975, 0.05, 0.0, -9.975, 0.0, -0.05)\n"
     ]
    }
   ],
   "source": [
    "inFile = r'P:\\projects\\SILO\\Wes\\mwet\\2011.et_morton_wet.nc'\n",
    "\n",
    "theDataSet = gdal.Open(inFile)\n",
    "\n",
    "GT = theDataSet.GetGeoTransform()\n",
    "\n",
    "print(GT)"
   ]
  },
  {
   "cell_type": "code",
   "execution_count": 14,
   "metadata": {},
   "outputs": [
    {
     "name": "stdout",
     "output_type": "stream",
     "text": [
      "(111.975, 0.05, 0.0, -9.975, 0.0, -0.05)\n",
      "None\n",
      "{'add_offset': '0', 'long_name': 'Mortons estimate of wet-environment areal evapotranspiration over land', 'NETCDF_DIM_time': '0', 'NETCDF_VARNAME': 'et_morton_wet', 'scale_factor': '0.1', 'units': 'mm', '_FillValue': '-32768'}\n"
     ]
    }
   ],
   "source": [
    "inFile = r'P:\\projects\\SILO\\Wes\\mwet\\2018.et_morton_wet.nc'\n",
    "\n",
    "theDataSet = gdal.Open(inFile)\n",
    "\n",
    "GT = theDataSet.GetGeoTransform()\n",
    "srcband = theDataSet.GetRasterBand(1)\n",
    "\n",
    "\n",
    "print(GT)\n",
    "print(srcband.GetMetadataItem('et_morton_wet_scale_factor'))\n",
    "print(srcband.GetMetadata())"
   ]
  },
  {
   "cell_type": "code",
   "execution_count": null,
   "metadata": {},
   "outputs": [],
   "source": []
  }
 ],
 "metadata": {
  "kernelspec": {
   "display_name": "Python 3",
   "language": "python",
   "name": "python3"
  },
  "language_info": {
   "codemirror_mode": {
    "name": "ipython",
    "version": 3
   },
   "file_extension": ".py",
   "mimetype": "text/x-python",
   "name": "python",
   "nbconvert_exporter": "python",
   "pygments_lexer": "ipython3",
   "version": "3.7.3"
  }
 },
 "nbformat": 4,
 "nbformat_minor": 2
}
