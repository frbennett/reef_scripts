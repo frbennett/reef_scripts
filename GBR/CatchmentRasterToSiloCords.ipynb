{
 "cells": [
  {
   "cell_type": "code",
   "execution_count": 1,
   "metadata": {},
   "outputs": [],
   "source": [
    "import numpy\n",
    "import netCDF4\n",
    "import os\n",
    "\n",
    "##Not sure if I need this now that I have got the CoordinateTransformation working... oh well\n",
    "os.environ['GDAL_DATA'] = r'C:/ProgramData/Anaconda3/Lib/site-packages/osgeo/data/gdal/'\n",
    "\n",
    "from osgeo import gdal, osr\n",
    "from pyproj import Proj, transform\n",
    "import ogr\n",
    "import pandas as pd\n",
    "import datetime\n",
    "\n",
    "catchProjEPSG = 3577#Aus Albers\n",
    "siloProjEPSG = 4326#WGS84 Geographic\n",
    "\n",
    "#catchmentRasterFile = 'C:/DDrive/Beckers/construction/Beckers DEM Raster.asc'\n",
    "#catchmentRasterFile = 'C:/DDrive/Beckers/construction/becks_subcats.asc'\n",
    "#catchmentRasterFile = 'P:/projects/SILO/Wes/MNDBSpatial/MNDB Catchments Raster.asc'\n",
    "#catchmentCategoriesFile = 'P:/projects/SILO/Wes/MNDBSpatial/MNDB Catchments Raster_categories.csv'\n",
    "#catchmentRasterFile = 'P:/projects/SILO/Wes/CBSpatial/CB Catchments Raster.asc'\n",
    "#catchmentCategoriesFile = 'P:/projects/SILO/Wes/CBSpatial/CB Catchments Raster_categories.csv'\n",
    "#catchmentRasterFile = 'P:/projects/SILO/Wes/SWNRMSpatial/SWNRM Catchments Raster.asc'\n",
    "#catchmentCategoriesFile = 'P:/projects/SILO/Wes/SWNRMSpatial/SWNRM Catchments Raster_categories.csv'\n",
    "catchmentRasterFile = 'P:/projects/MIPS/BU/AngeConstruct/Exported Catchments Raster.asc'\n",
    "catchmentCategoriesFile = 'P:/projects/MIPS/BU/AngeConstruct/Exported Catchments Raster_categories.csv'\n",
    "\n",
    "outGeoCoordsFile = 'P:/projects/MIPS/BU/AngeConstruct/BBBGeoCoords.csv'\n",
    "\n",
    "catFileRasID = 'Ras_ID'\n",
    "catFileCatName = 'Ras_Cat'\n",
    "siloDataFile = 'P:/projects/SILO/2000.daily_rain.nc'\n",
    "\n",
    "#Col names for GeoCoords CSV\n",
    "catGrpName = 'CATCHGROUP'\n",
    "latName = 'SILO_LAT'\n",
    "longName = 'SILO_LONG'\n",
    "countName = 'COUNT'\n",
    "\n"
   ]
  },
  {
   "cell_type": "code",
   "execution_count": 2,
   "metadata": {},
   "outputs": [
    {
     "name": "stdout",
     "output_type": "stream",
     "text": [
      "399\n"
     ]
    }
   ],
   "source": [
    "#Make dictionary of catchment raster values\n",
    "catchRasVals = {}\n",
    "\n",
    "catchRasDF = pd.read_csv(catchmentCategoriesFile)\n",
    "for index, row in catchRasDF.iterrows():\n",
    "    if not row[catFileRasID] in catchRasVals:\n",
    "        #print('Adfing: ' + str(row[catFileRasID]) + ' and ' + str(row[catFileCatName]))\n",
    "        catchRasVals[row[catFileRasID]] = row[catFileCatName]\n",
    "\n",
    "print(len(catchRasVals))"
   ]
  },
  {
   "cell_type": "code",
   "execution_count": 3,
   "metadata": {},
   "outputs": [
    {
     "name": "stdout",
     "output_type": "stream",
     "text": [
      "(1485315.0, 30.0, 0.0, -2105825.0, 0.0, -30.0)\n"
     ]
    }
   ],
   "source": [
    "theCatchDataSet = gdal.Open(catchmentRasterFile)\n",
    "catchGT = theCatchDataSet.GetGeoTransform()\n",
    "print(catchGT)"
   ]
  },
  {
   "cell_type": "code",
   "execution_count": 4,
   "metadata": {},
   "outputs": [
    {
     "name": "stdout",
     "output_type": "stream",
     "text": [
      "(111.975, 0.05, 0.0, -9.975, 0.0, -0.05)\n"
     ]
    }
   ],
   "source": [
    "gdalSilo = gdal.Open(siloDataFile)\n",
    "siloGT = gdalSilo.GetGeoTransform()\n",
    "print(siloGT)"
   ]
  },
  {
   "cell_type": "code",
   "execution_count": 5,
   "metadata": {},
   "outputs": [
    {
     "name": "stdout",
     "output_type": "stream",
     "text": [
      "Driver:  netCDF Network Common Data Format\n",
      "Size is  841 681\n",
      "Bands =  366\n",
      "Coordinate System is: \n",
      "GetGeoTransform() =  (111.975, 0.05, 0.0, -9.975, 0.0, -0.05)\n"
     ]
    }
   ],
   "source": [
    "print( \"Driver: \",gdalSilo.GetDriver().ShortName, gdalSilo.GetDriver().LongName)\n",
    "print( \"Size is \", gdalSilo.RasterXSize, gdalSilo.RasterYSize)\n",
    "print( \"Bands = \", gdalSilo.RasterCount)\n",
    "print( \"Coordinate System is:\", gdalSilo.GetProjectionRef ())\n",
    "print( \"GetGeoTransform() = \", gdalSilo.GetGeoTransform ())"
   ]
  },
  {
   "cell_type": "code",
   "execution_count": 11,
   "metadata": {
    "scrolled": false
   },
   "outputs": [
    {
     "name": "stdout",
     "output_type": "stream",
     "text": [
      "Starting matchy match at: 2019-11-13 14:03:22.450721\n",
      "<osgeo.osr.CoordinateTransformation; proxy of <Swig Object of type 'OSRCoordinateTransformationShadow *' at 0x000001CD8AB5BED0> >\n",
      "All Done matching at: 2019-11-13 14:07:18.044140\n"
     ]
    }
   ],
   "source": [
    "print(\"Starting matchy match at: \" + str(datetime.datetime.now()))\n",
    "##Need this to calc pixel size as well as work out order of y-axis\n",
    "netCDFData = netCDF4.Dataset(siloDataFile, 'r')\n",
    "\n",
    "#Grab the info we need to build GeoTransform object\n",
    "#Checking for order of y-axis coordinates, would be needed if writing raster form Numpy array\n",
    "\n",
    "lats = netCDFData.variables['lat']\n",
    "lons = netCDFData.variables['lon']\n",
    "times = netCDFData.variables['time']\n",
    "\n",
    "first_lat = lats[:1]\n",
    "last_lat = lats[len(lats)-1:]\n",
    "#If first_lat is LESS THAN last_lat, numpy array would be written to raster upside down...\n",
    "\n",
    "first_lon = lons[:1]\n",
    "last_lon = lons[len(lons)-1:]\n",
    "\n",
    "colCount = gdalSilo.RasterXSize\n",
    "rowCount = gdalSilo.RasterYSize\n",
    "\n",
    "pixWidth = (last_lon - first_lon) / (gdalSilo.RasterXSize - 1)\n",
    "pixHeight = (last_lat - first_lat) / (gdalSilo.RasterYSize - 1)\n",
    "\n",
    "if first_lat < last_lat:\n",
    "    #adjust for our use\n",
    "    pixHeight *= -1\n",
    "\n",
    "\n",
    "siloLeft = min(lons) - (0.5 * pixWidth)#adjusting to get cell edge, not centre\n",
    "siloTop = max(lats) - (0.5 * pixHeight)#adjusting to get cell edge, not centre\n",
    "\n",
    "netCDFData.close()\n",
    "\n",
    "#catchProjSRS = theCatchDataSet.GetProjection()\n",
    "catchProjSRS = osr.SpatialReference()\n",
    "catchProjSRS.ImportFromEPSG(catchProjEPSG)#Aus Albers\n",
    "#catchProjSRS_forPyProj = catchProjSRS.ExportToProj4()\n",
    "#print(catchProjSRS)\n",
    "#catchProjConverter = osr.SpatialReference()\n",
    "#catchProjConverter.ImportFromWkt(catchProjSRS)  # populates the spatial ref object with our WKT SRS\n",
    "#catchProj_forPyProj = catchProjConverter.ExportToProj4()  # Exports an SRS ref as a Proj4 string usable by PyProj\n",
    "\n",
    "#print(\"Here: \" + str(catchProj_forPyProj))\n",
    "\n",
    "wgsGeo = osr.SpatialReference()\n",
    "wgsGeo.ImportFromEPSG(siloProjEPSG)#WGS84 Geographic\n",
    "wgsGeo_forPyProj = wgsGeo.ExportToProj4()\n",
    "#print(wgsGeo_forPyProj)\n",
    "\n",
    "#coordTransform = osr.CoordinateTransformation(catchProjConverter, wgsGeo)\n",
    "coordTransform = osr.CoordinateTransformation(catchProjSRS, wgsGeo)\n",
    "\n",
    "#print(coordTransform)\n",
    "\n",
    "#print(siloLeft)\n",
    "#print(siloTop)\n",
    "#print(pixWidth)\n",
    "#print(pixHeight)\n",
    "\n",
    "\n",
    "#create an empty raster in memory of requisite GeoTransform & Projection\n",
    "tempDS = gdal.GetDriverByName(\"MEM\").Create('', colCount, rowCount, 1, gdal.GDT_Int32)#GTiff\n",
    "tempDS.SetGeoTransform((siloLeft, pixWidth, 0, siloTop, 0, pixHeight))\n",
    "\n",
    "siloGT = tempDS.GetGeoTransform()\n",
    "\n",
    "statsDict = {}\n",
    "\n",
    "catchBand = theCatchDataSet.GetRasterBand(1)\n",
    "catchNumpy = catchBand.ReadAsArray()\n",
    "catND = catchBand.GetNoDataValue()\n",
    "\n",
    "#RasterYSize is number of rows\n",
    "#RasterXSize is number of cols\n",
    "rowCount = theCatchDataSet.RasterYSize\n",
    "colCount = theCatchDataSet.RasterXSize\n",
    "for rowid in range(0, rowCount):#theCatchDataSet.RasterYSize\n",
    "    for colid in range(0, colCount):#theCatchDataSet.RasterXSize\n",
    "        \n",
    "        catchVal = catchNumpy[rowid, colid]\n",
    "        #print('Pixelval: ' + str(catchVal) + ' col: ' + str(rowid) + ' row: ' + str(colid))\n",
    "        \n",
    "        if catchVal == catND:\n",
    "            continue\n",
    "        \n",
    "        #Could put this into a function\n",
    "        #xp = catchGT[0] * colid + catchGT[1] * rowid + xoff\n",
    "        centX = catchGT[0] + (catchGT[1] * colid) + (catchGT[1] / 2)#Need the  + (catchGT[1] / 2) to get to centre of pixel\n",
    "        centY = catchGT[3] + (catchGT[5] * rowid) + (catchGT[5] / 2)#Need the   + (catchGT[5] / 2 to get to centre of pixel\n",
    "        \n",
    "        # create a geometry from coordinates\n",
    "        point = ogr.Geometry(ogr.wkbPoint)\n",
    "        point.AddPoint(centX, centY)\n",
    "        \n",
    "        # transform point\n",
    "        point.Transform(coordTransform)\n",
    "        \n",
    "        #this conversion to int actually seems to work for silo stuff...\n",
    "        #149.07453353146647 ultimately ends up being assigned to Silo -149.05\n",
    "        #149.08068461867092 ends up being assigned to Silo -149.10\n",
    "        geoXcell = int((point.GetX() - siloGT[0]) / siloGT[1]) #x pixel\n",
    "        geoYcell = int((point.GetY() - siloGT[3]) / siloGT[5]) #y pixel\n",
    "        \n",
    "        centSiloX = siloGT[0] + (siloGT[1] * geoXcell) + (siloGT[1] / 2)\n",
    "        centSiloY = siloGT[3] + (siloGT[5] * geoYcell) + (siloGT[5] / 2)\n",
    "        \n",
    "        #print('Pixelval: ' + str(catchVal) + ' Lat: ' + str(point.GetX()) + ' Long: ' + str(point.GetY())\n",
    "        #      + ' siloX: ' + str(geoXcell) + ' siloY: ' + str(geoYcell)\n",
    "        #      + ' siloLong: ' + str(centSiloX) + ' siloLat: ' + str(centSiloY))\n",
    "        \n",
    "        #Can't use a geometry object as a simple key in a dictionary\n",
    "        #siloPoint = ogr.Geometry(ogr.wkbPoint)\n",
    "        #siloPoint.AddPoint(centSiloX, centSiloY)\n",
    "        siloPointKey = str(round(centSiloX,2)) + ',' + str(round(centSiloY,2))\n",
    "        \n",
    "\n",
    "        if not catchVal in statsDict:\n",
    "            statsDict[catchVal] = {}\n",
    "        \n",
    "        if not siloPointKey in statsDict[catchVal]:\n",
    "            statsDict[catchVal][siloPointKey] = 0\n",
    "        \n",
    "        statsDict[catchVal][siloPointKey] += 1\n",
    "\n",
    "\n",
    "print(\"All Done matching at: \" + str(datetime.datetime.now()))\n",
    "#print(statsDict)\n",
    "\n",
    "\n"
   ]
  },
  {
   "cell_type": "code",
   "execution_count": 12,
   "metadata": {
    "scrolled": false
   },
   "outputs": [
    {
     "name": "stdout",
     "output_type": "stream",
     "text": [
      "Finished at 2019-11-13 14:07:24.317224\n"
     ]
    }
   ],
   "source": [
    "#Now convert to Geoocords CSV file\n",
    "#via dataframe\n",
    "geoCoordsDF = pd.DataFrame(columns=[catGrpName,latName,longName,countName])\n",
    "\n",
    "for catNum, coordGenerals in statsDict.items():\n",
    "    \n",
    "    catName = catchRasVals[catNum]\n",
    "    #print(catName)\n",
    "    \n",
    "    for coordPoint, coordCount in coordGenerals.items():\n",
    "        \n",
    "        pointDets = coordPoint.split(',')\n",
    "        \n",
    "        geoCoordsDF.loc[len(geoCoordsDF)]=[catName, pointDets[1], pointDets[0], str(coordCount)]\n",
    "        #geoCoordsDF.append([catName, pointDets[1], pointDets[0]], str(coordCount))\n",
    "    \n",
    "\n",
    "geoCoordsDF.to_csv(outGeoCoordsFile, index=False)\n",
    "\n",
    "print('Finished at ' + str(datetime.datetime.now()))\n",
    "    "
   ]
  },
  {
   "cell_type": "code",
   "execution_count": null,
   "metadata": {},
   "outputs": [],
   "source": []
  }
 ],
 "metadata": {
  "kernelspec": {
   "display_name": "Python 3",
   "language": "python",
   "name": "python3"
  },
  "language_info": {
   "codemirror_mode": {
    "name": "ipython",
    "version": 3
   },
   "file_extension": ".py",
   "mimetype": "text/x-python",
   "name": "python",
   "nbconvert_exporter": "python",
   "pygments_lexer": "ipython3",
   "version": "3.7.3"
  }
 },
 "nbformat": 4,
 "nbformat_minor": 2
}
