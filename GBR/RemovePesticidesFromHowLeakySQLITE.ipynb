{
 "cells": [
  {
   "cell_type": "code",
   "execution_count": 1,
   "metadata": {},
   "outputs": [],
   "source": [
    "import os\n",
    "import sqlite3\n",
    "import fnmatch\n",
    "\n",
    "\n",
    "#path = r\"P:\\projects\\Reefscape\\FitzroyGrainsRC9\\RawSimDBs\"\n",
    "path = r\"P:\\projects\\Reefscape\\FitzroyGrainsRC9\\MissingDBS\"\n",
    "extens = \".sqlite\"\n"
   ]
  },
  {
   "cell_type": "code",
   "execution_count": 2,
   "metadata": {},
   "outputs": [],
   "source": [
    "def alterDatabase(fullPath):\n",
    "    \n",
    "    print(\"Processing this database: \" + fullPath)\n",
    "    # Connect to the demo database\n",
    "    connection  = sqlite3.connect(fullPath)\n",
    "    \n",
    "    # Get a cursor object\n",
    "    cursor = connection.cursor()\n",
    "    \n",
    "    # Execute the SQL statements\n",
    "    \n",
    "    createTableStatement = \"CREATE TABLE dataNopest (SimId int,Day int,Rain double,CropEvapoTranspiration double,DeepDrainage double,Runoff double,HillSlopeErosion double,ParticPExport double,PhosExportDissolve double)\"\n",
    "    transferDataStatement = \"INSERT INTO dataNopest SELECT SimId, Day,Rain,CropEvapoTranspiration,DeepDrainage,Runoff,HillSlopeErosion,ParticPExport,PhosExportDissolve FROM data\"\n",
    "    dropTableStatement = \"DROP TABLE data\"\n",
    "    vacuumStatement = \"vacuum\"\n",
    "    \n",
    "    cursor.execute(createTableStatement)\n",
    "    #print(\"Table created\")\n",
    "    cursor.execute(transferDataStatement)\n",
    "    #print(\"Data transferred\")\n",
    "    cursor.execute(dropTableStatement)\n",
    "    #print(\"Table dropped\")\n",
    "    connection.isolation_level = None\n",
    "    cursor.execute(vacuumStatement)\n",
    "    connection.isolation_level = ''\n",
    "    #print(\"Database vacuumed\")\n",
    "\n",
    "    # Close the connection object\n",
    "    connection.close()\n"
   ]
  },
  {
   "cell_type": "code",
   "execution_count": 3,
   "metadata": {
    "scrolled": false
   },
   "outputs": [
    {
     "name": "stdout",
     "output_type": "stream",
     "text": [
      "Processing this database: P:\\projects\\Reefscape\\FitzroyGrainsRC9\\MissingDBS\\2560_14940.sqlite\n"
     ]
    },
    {
     "ename": "OperationalError",
     "evalue": "no such column: Rain",
     "output_type": "error",
     "traceback": [
      "\u001b[1;31m---------------------------------------------------------------------------\u001b[0m",
      "\u001b[1;31mOperationalError\u001b[0m                          Traceback (most recent call last)",
      "\u001b[1;32m<ipython-input-3-da17c7a94f69>\u001b[0m in \u001b[0;36m<module>\u001b[1;34m\u001b[0m\n\u001b[0;32m      2\u001b[0m \u001b[1;33m\u001b[0m\u001b[0m\n\u001b[0;32m      3\u001b[0m \u001b[1;32mfor\u001b[0m \u001b[0mfile\u001b[0m \u001b[1;32min\u001b[0m \u001b[0mfile_list\u001b[0m \u001b[1;33m:\u001b[0m\u001b[1;33m\u001b[0m\u001b[1;33m\u001b[0m\u001b[0m\n\u001b[1;32m----> 4\u001b[1;33m     \u001b[0malterDatabase\u001b[0m\u001b[1;33m(\u001b[0m\u001b[0mos\u001b[0m\u001b[1;33m.\u001b[0m\u001b[0mpath\u001b[0m\u001b[1;33m.\u001b[0m\u001b[0mjoin\u001b[0m\u001b[1;33m(\u001b[0m\u001b[0mpath\u001b[0m\u001b[1;33m,\u001b[0m \u001b[0mfile\u001b[0m\u001b[1;33m)\u001b[0m\u001b[1;33m)\u001b[0m\u001b[1;33m\u001b[0m\u001b[1;33m\u001b[0m\u001b[0m\n\u001b[0m\u001b[0;32m      5\u001b[0m \u001b[1;33m\u001b[0m\u001b[0m\n\u001b[0;32m      6\u001b[0m \u001b[0mprint\u001b[0m\u001b[1;33m(\u001b[0m\u001b[1;34m\"All done\"\u001b[0m\u001b[1;33m)\u001b[0m\u001b[1;33m\u001b[0m\u001b[1;33m\u001b[0m\u001b[0m\n",
      "\u001b[1;32m<ipython-input-2-fb3aaa4a3455>\u001b[0m in \u001b[0;36malterDatabase\u001b[1;34m(fullPath)\u001b[0m\n\u001b[0;32m     17\u001b[0m     \u001b[0mcursor\u001b[0m\u001b[1;33m.\u001b[0m\u001b[0mexecute\u001b[0m\u001b[1;33m(\u001b[0m\u001b[0mcreateTableStatement\u001b[0m\u001b[1;33m)\u001b[0m\u001b[1;33m\u001b[0m\u001b[1;33m\u001b[0m\u001b[0m\n\u001b[0;32m     18\u001b[0m     \u001b[1;31m#print(\"Table created\")\u001b[0m\u001b[1;33m\u001b[0m\u001b[1;33m\u001b[0m\u001b[1;33m\u001b[0m\u001b[0m\n\u001b[1;32m---> 19\u001b[1;33m     \u001b[0mcursor\u001b[0m\u001b[1;33m.\u001b[0m\u001b[0mexecute\u001b[0m\u001b[1;33m(\u001b[0m\u001b[0mtransferDataStatement\u001b[0m\u001b[1;33m)\u001b[0m\u001b[1;33m\u001b[0m\u001b[1;33m\u001b[0m\u001b[0m\n\u001b[0m\u001b[0;32m     20\u001b[0m     \u001b[1;31m#print(\"Data transferred\")\u001b[0m\u001b[1;33m\u001b[0m\u001b[1;33m\u001b[0m\u001b[1;33m\u001b[0m\u001b[0m\n\u001b[0;32m     21\u001b[0m     \u001b[0mcursor\u001b[0m\u001b[1;33m.\u001b[0m\u001b[0mexecute\u001b[0m\u001b[1;33m(\u001b[0m\u001b[0mdropTableStatement\u001b[0m\u001b[1;33m)\u001b[0m\u001b[1;33m\u001b[0m\u001b[1;33m\u001b[0m\u001b[0m\n",
      "\u001b[1;31mOperationalError\u001b[0m: no such column: Rain"
     ]
    }
   ],
   "source": [
    "file_list = fnmatch.filter(os.listdir(path), '*' + extens)\n",
    "\n",
    "for file in file_list :\n",
    "    alterDatabase(os.path.join(path, file))\n",
    "\n",
    "print(\"All done\")"
   ]
  },
  {
   "cell_type": "code",
   "execution_count": null,
   "metadata": {},
   "outputs": [],
   "source": []
  },
  {
   "cell_type": "code",
   "execution_count": null,
   "metadata": {},
   "outputs": [],
   "source": []
  }
 ],
 "metadata": {
  "kernelspec": {
   "display_name": "Python 3",
   "language": "python",
   "name": "python3"
  },
  "language_info": {
   "codemirror_mode": {
    "name": "ipython",
    "version": 3
   },
   "file_extension": ".py",
   "mimetype": "text/x-python",
   "name": "python",
   "nbconvert_exporter": "python",
   "pygments_lexer": "ipython3",
   "version": "3.7.3"
  }
 },
 "nbformat": 4,
 "nbformat_minor": 2
}
