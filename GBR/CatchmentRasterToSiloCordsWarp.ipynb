{
 "cells": [
  {
   "cell_type": "code",
   "execution_count": 1,
   "metadata": {},
   "outputs": [],
   "source": [
    "import numpy\n",
    "import netCDF4\n",
    "from osgeo import gdal, osr\n",
    "from pyproj import Proj, transform\n",
    "import ogr\n",
    "import os\n",
    "import pandas as pd\n",
    "import datetime\n",
    "\n",
    "#catchmentRasterFile = 'C:/DDrive/Beckers/construction/Beckers DEM Raster.asc'\n",
    "#catchmentRasterFile = 'C:/DDrive/Beckers/construction/becks_subcats.asc'\n",
    "#catchmentRasterFile = 'P:/projects/SILO/Wes/MNDBSpatial/MNDB Catchments Raster.asc'\n",
    "#catchmentCategoriesFile = 'P:/projects/SILO/Wes/MNDBSpatial/MNDB Catchments Raster_categories.csv'\n",
    "#catchmentRasterFile = 'P:/projects/SILO/Wes/CBSpatial/CB Catchments Raster.asc'\n",
    "#catchmentCategoriesFile = 'P:/projects/SILO/Wes/CBSpatial/CB Catchments Raster_categories.csv'\n",
    "catchmentRasterFile = 'P:/projects/SILO/Wes/SWNRMSpatial/SWNRM Catchments Raster.asc'\n",
    "catchmentCategoriesFile = 'P:/projects/SILO/Wes/SWNRMSpatial/SWNRM Catchments Raster_categories.csv'\n",
    "\n",
    "catchProjEPSG = 3577#Aus Albers\n",
    "siloProjEPSG = 4326#WGS84 Geographic\n",
    "\n",
    "outGeoCoordsFile = 'P:/projects/SILO/Wes/SWNRMGeoCoordsPythonWarp.csv'\n",
    "\n",
    "catFileRasID = 'Ras_ID'\n",
    "catFileCatName = 'Ras_Cat'\n",
    "siloDataFile = 'P:/projects/SILO/2000.daily_rain.nc'\n",
    "\n",
    "#Col names for GeoCoords CSV\n",
    "catGrpName = 'CATCHGROUP'\n",
    "latName = 'SILO_LAT'\n",
    "longName = 'SILO_LONG'\n",
    "countName = 'COUNT'\n",
    "\n"
   ]
  },
  {
   "cell_type": "code",
   "execution_count": 2,
   "metadata": {},
   "outputs": [
    {
     "name": "stdout",
     "output_type": "stream",
     "text": [
      "96\n"
     ]
    }
   ],
   "source": [
    "#Make dictionary of catchment raster values\n",
    "catchRasVals = {}\n",
    "\n",
    "catchRasDF = pd.read_csv(catchmentCategoriesFile)\n",
    "for index, row in catchRasDF.iterrows():\n",
    "    if not row[catFileRasID] in catchRasVals:\n",
    "        #print('Adfing: ' + str(row[catFileRasID]) + ' and ' + str(row[catFileCatName]))\n",
    "        catchRasVals[row[catFileRasID]] = row[catFileCatName]\n",
    "\n",
    "print(len(catchRasVals))"
   ]
  },
  {
   "cell_type": "code",
   "execution_count": 3,
   "metadata": {},
   "outputs": [
    {
     "name": "stdout",
     "output_type": "stream",
     "text": [
      "(957009.188100002, 30.0, 0.0, -2736867.3393, 0.0, -30.0)\n"
     ]
    }
   ],
   "source": [
    "theCatchDataSet = gdal.Open(catchmentRasterFile)\n",
    "catchGT = theCatchDataSet.GetGeoTransform()\n",
    "print(catchGT)"
   ]
  },
  {
   "cell_type": "code",
   "execution_count": 4,
   "metadata": {},
   "outputs": [
    {
     "name": "stdout",
     "output_type": "stream",
     "text": [
      "PROJCS[\"GDA_1994_Australia_Albers\",GEOGCS[\"GCS_GDA_1994\",DATUM[\"Geocentric_Datum_of_Australia_1994\",SPHEROID[\"GRS_1980\",6378137.0,298.257222101]],PRIMEM[\"Greenwich\",0.0],UNIT[\"Degree\",0.0174532925199433]],PROJECTION[\"Albers_Conic_Equal_Area\"],PARAMETER[\"False_Easting\",0.0],PARAMETER[\"False_Northing\",0.0],PARAMETER[\"longitude_of_center\",132.0],PARAMETER[\"Standard_Parallel_1\",-18.0],PARAMETER[\"Standard_Parallel_2\",-36.0],PARAMETER[\"latitude_of_center\",0.0],UNIT[\"Meter\",1.0]]\n"
     ]
    }
   ],
   "source": [
    "curProj = theCatchDataSet.GetProjection()\n",
    "print(curProj)\n",
    "\n",
    "#srs = osr.SpatialReference()\n",
    "#srs.ImportFromEPSG(catchProjEPSG)\n",
    "#theCatchDataSet.SetProjection(srs.ExportToWkt())\n"
   ]
  },
  {
   "cell_type": "code",
   "execution_count": 5,
   "metadata": {},
   "outputs": [
    {
     "name": "stdout",
     "output_type": "stream",
     "text": [
      "(141.59736990674193, 0.00029529113976210135, 0.0, -24.42253800068348, 0.0, -0.00029529113976210135)\n"
     ]
    }
   ],
   "source": [
    "siloSRS = osr.SpatialReference()\n",
    "siloSRS.ImportFromEPSG(siloProjEPSG)\n",
    "\n",
    "geoCatch = gdal.Warp('',theCatchDataSet, dstSRS=siloSRS, format='VRT', outputType=gdal.GDT_Int16)\n",
    "geoCatchGT = geoCatch.GetGeoTransform()\n",
    "print(geoCatchGT)\n"
   ]
  },
  {
   "cell_type": "code",
   "execution_count": 6,
   "metadata": {},
   "outputs": [
    {
     "name": "stdout",
     "output_type": "stream",
     "text": [
      "(0.0, 1.0, 0.0, 0.0, 0.0, 1.0)\n"
     ]
    }
   ],
   "source": [
    "gdalSilo = gdal.Open(siloDataFile)\n",
    "siloGT = gdalSilo.GetGeoTransform()\n",
    "print(siloGT)"
   ]
  },
  {
   "cell_type": "code",
   "execution_count": 7,
   "metadata": {},
   "outputs": [
    {
     "name": "stdout",
     "output_type": "stream",
     "text": [
      "Driver:  HDF5Image HDF5 Dataset\n",
      "Size is  841 681\n",
      "Bands =  366\n",
      "Coordinate System is: \n",
      "GetGeoTransform() =  (0.0, 1.0, 0.0, 0.0, 0.0, 1.0)\n"
     ]
    }
   ],
   "source": [
    "print( \"Driver: \",gdalSilo.GetDriver().ShortName, gdalSilo.GetDriver().LongName)\n",
    "print( \"Size is \", gdalSilo.RasterXSize, gdalSilo.RasterYSize)\n",
    "print( \"Bands = \", gdalSilo.RasterCount)\n",
    "print( \"Coordinate System is:\", gdalSilo.GetProjectionRef ())\n",
    "print( \"GetGeoTransform() = \", gdalSilo.GetGeoTransform ())"
   ]
  },
  {
   "cell_type": "code",
   "execution_count": 8,
   "metadata": {
    "scrolled": true
   },
   "outputs": [
    {
     "name": "stdout",
     "output_type": "stream",
     "text": [
      "Starting matchy match at: 2019-07-18 12:29:11.520932\n",
      "All Done matching at: 2019-07-18 12:53:58.327855\n"
     ]
    }
   ],
   "source": [
    "print(\"Starting matchy match at: \" + str(datetime.datetime.now()))\n",
    "##Need this to calc pixel size as well as work out order of y-axis\n",
    "netCDFData = netCDF4.Dataset(siloDataFile, 'r')\n",
    "\n",
    "#Grab the info we need to build GeoTransform object\n",
    "#Checking for order of y-axis coordinates, would be needed if writing raster form Numpy array\n",
    "\n",
    "lats = netCDFData.variables['lat']\n",
    "lons = netCDFData.variables['lon']\n",
    "times = netCDFData.variables['time']\n",
    "\n",
    "first_lat = lats[:1]\n",
    "last_lat = lats[len(lats)-1:]\n",
    "#If first_lat is LESS THAN last_lat, numpy array would be written to raster upside down...\n",
    "\n",
    "first_lon = lons[:1]\n",
    "last_lon = lons[len(lons)-1:]\n",
    "\n",
    "colCount = gdalSilo.RasterXSize\n",
    "rowCount = gdalSilo.RasterYSize\n",
    "\n",
    "pixWidth = (last_lon - first_lon) / (gdalSilo.RasterXSize - 1)\n",
    "pixHeight = (last_lat - first_lat) / (gdalSilo.RasterYSize - 1)\n",
    "\n",
    "if first_lat < last_lat:\n",
    "    #adjust for our use\n",
    "    pixHeight *= -1\n",
    "\n",
    "\n",
    "siloLeft = min(lons) - (0.5 * pixWidth)#adjusting to get cell edge, not centre\n",
    "siloTop = max(lats) - (0.5 * pixHeight)#adjusting to get cell edge, not centre\n",
    "\n",
    "netCDFData.close()\n",
    "\n",
    "#print(siloLeft)\n",
    "#print(siloTop)\n",
    "#print(pixWidth)\n",
    "#print(pixHeight)\n",
    "\n",
    "\n",
    "#create an empty raster in memory of requisite GeoTransform & Projection\n",
    "tempDS = gdal.GetDriverByName(\"MEM\").Create('', colCount, rowCount, 1, gdal.GDT_Int32)#GTiff\n",
    "tempDS.SetGeoTransform((siloLeft, pixWidth, 0, siloTop, 0, pixHeight))\n",
    "\n",
    "siloGT = tempDS.GetGeoTransform()\n",
    "\n",
    "statsDict = {}\n",
    "\n",
    "catchBand = geoCatch.GetRasterBand(1)\n",
    "catchNumpy = catchBand.ReadAsArray()\n",
    "catND = catchBand.GetNoDataValue()\n",
    "\n",
    "#RasterYSize is number of rows\n",
    "#RasterXSize is number of cols\n",
    "rowCount = geoCatch.RasterYSize\n",
    "colCount = geoCatch.RasterXSize\n",
    "for rowid in range(0, rowCount):#theCatchDataSet.RasterYSize\n",
    "    for colid in range(0, colCount):#theCatchDataSet.RasterXSize\n",
    "        \n",
    "        catchVal = catchNumpy[rowid, colid]\n",
    "        #print('Pixelval: ' + str(catchVal) + ' col: ' + str(rowid) + ' row: ' + str(colid))\n",
    "        \n",
    "        if catchVal == catND:\n",
    "            continue\n",
    "        \n",
    "        #Could put this into a function\n",
    "        #xp = catchGT[0] * colid + catchGT[1] * rowid + xoff\n",
    "        centX = geoCatchGT[0] + (geoCatchGT[1] * colid) + (geoCatchGT[1] / 2)#Need the  + (catchGT[1] / 2) to get to centre of pixel\n",
    "        centY = geoCatchGT[3] + (geoCatchGT[5] * rowid) + (geoCatchGT[5] / 2)#Need the   + (catchGT[5] / 2 to get to centre of pixel\n",
    "               \n",
    "        #this conversion to int actually seems to work for silo stuff...\n",
    "        #149.07453353146647 ultimately ends up being assigned to Silo -149.05\n",
    "        #149.08068461867092 ends up being assigned to Silo -149.10\n",
    "        geoXcell = int((centX - siloGT[0]) / siloGT[1]) #x pixel\n",
    "        geoYcell = int((centY - siloGT[3]) / siloGT[5]) #x pixel\n",
    "        \n",
    "        centSiloX = siloGT[0] + (siloGT[1] * geoXcell) + (siloGT[1] / 2)\n",
    "        centSiloY = siloGT[3] + (siloGT[5] * geoYcell) + (siloGT[5] / 2)\n",
    "        \n",
    "        #print('Pixelval: ' + str(catchVal) + ' Lat: ' + str(point.GetX()) + ' Long: ' + str(point.GetY())\n",
    "        #      + ' siloX: ' + str(geoXcell) + ' siloY: ' + str(geoYcell)\n",
    "        #      + ' siloLong: ' + str(centSiloX) + ' siloLat: ' + str(centSiloY))\n",
    "        \n",
    "        #Can't use a geometry object as a simple key in a dictionary\n",
    "        #siloPoint = ogr.Geometry(ogr.wkbPoint)\n",
    "        #siloPoint.AddPoint(centSiloX, centSiloY)\n",
    "        siloPointKey = str(round(centSiloX,2)) + ',' + str(round(centSiloY,2))\n",
    "        \n",
    "\n",
    "        if not catchVal in statsDict:\n",
    "            statsDict[catchVal] = {}\n",
    "        \n",
    "        if not siloPointKey in statsDict[catchVal]:\n",
    "            statsDict[catchVal][siloPointKey] = 0\n",
    "        \n",
    "        statsDict[catchVal][siloPointKey] += 1\n",
    "\n",
    "\n",
    "print(\"All Done matching at: \" + str(datetime.datetime.now()))\n",
    "#print(statsDict)\n",
    "\n",
    "\n"
   ]
  },
  {
   "cell_type": "code",
   "execution_count": 9,
   "metadata": {
    "scrolled": false
   },
   "outputs": [
    {
     "name": "stdout",
     "output_type": "stream",
     "text": [
      "Finished at 2019-07-18 12:54:39.038659\n"
     ]
    }
   ],
   "source": [
    "#Now convert to Geoocords CSV file\n",
    "#via dataframe\n",
    "\n",
    "geoCoordsDF = pd.DataFrame(columns=[catGrpName,latName,longName,countName])\n",
    "\n",
    "for catNum, coordGenerals in statsDict.items():\n",
    "    \n",
    "    catName = catchRasVals[catNum]\n",
    "    #print(catName)\n",
    "    \n",
    "    for coordPoint, coordCount in coordGenerals.items():\n",
    "        \n",
    "        pointDets = coordPoint.split(',')\n",
    "        \n",
    "        geoCoordsDF.loc[len(geoCoordsDF)]=[catName, pointDets[1], pointDets[0], str(coordCount)]\n",
    "        #geoCoordsDF.append([catName, pointDets[1], pointDets[0]], str(coordCount))\n",
    "    \n",
    "\n",
    "geoCoordsDF.to_csv(outGeoCoordsFile, index=False)\n",
    "\n",
    "print('Finished at ' + str(datetime.datetime.now()))\n",
    "    "
   ]
  },
  {
   "cell_type": "code",
   "execution_count": null,
   "metadata": {},
   "outputs": [],
   "source": []
  }
 ],
 "metadata": {
  "kernelspec": {
   "display_name": "Python 3",
   "language": "python",
   "name": "python3"
  },
  "language_info": {
   "codemirror_mode": {
    "name": "ipython",
    "version": 3
   },
   "file_extension": ".py",
   "mimetype": "text/x-python",
   "name": "python",
   "nbconvert_exporter": "python",
   "pygments_lexer": "ipython3",
   "version": "3.7.1"
  }
 },
 "nbformat": 4,
 "nbformat_minor": 2
}
