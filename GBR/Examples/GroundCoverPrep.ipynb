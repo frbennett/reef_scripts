{
 "cells": [
  {
   "cell_type": "code",
   "execution_count": 1,
   "metadata": {
    "collapsed": true
   },
   "outputs": [],
   "source": [
    "##Hoping to remove reliance on ArcGIS for ground cover processing\n",
    "\n",
    "# This tool will not ensure that pixels and boundaries align\n",
    "# That is the job of the user\n",
    "import pandas\n",
    "import numpy\n",
    "#import rasterio\n",
    "from osgeo import gdal, gdalconst\n",
    "from osgeo import ogr\n",
    "import matplotlib.pyplot as plt\n",
    "\n",
    "\n",
    "\n",
    "#Path to shapefile to use for clip/mask\n",
    "pathToShapefile = 'D:/FractionalCover/MackayWhit_Buffer_10km_Albers.shp'\n",
    "\n",
    "#Do one raster only for now\n",
    "rasterPathName = 'D:/FractionalCover/GroundCover/lztmre_qld_m198909198911_dixa2.tif'\n",
    "\n",
    "#Do one raster only for now\n",
    "patchPathName = 'D:/FractionalCover/Patches/lztmre_rreef_m198909198911_dj4a2.tif'\n",
    "\n",
    "#Final NoData Val: can't use 0, as that is a 'valid' cover val....\n",
    "ourNoData = 240\n"
   ]
  },
  {
   "cell_type": "code",
   "execution_count": 2,
   "metadata": {
    "collapsed": true
   },
   "outputs": [],
   "source": [
    "#define a function that will interpret a raster extent matched to the shapefil bounding box\n",
    "def shapeExtent_To_Raster_Box(shapeExtent, rasterGeoInfo):\n",
    "    \n",
    "    #Do a bunch of stuff\n",
    "    originX = rasterGeoInfo[0]\n",
    "    originY = rasterGeoInfo[3]\n",
    "    \n",
    "    pixelWidth = rasterGeoInfo[1]\n",
    "    pixelHieght = rasterGeoInfo[5]\n",
    "    \n",
    "    clipXMin = int((shapeExtent[0] - originX) / pixelWidth)\n",
    "    clipXMax = int((shapeExtent[1] - originX) / pixelWidth) + 1\n",
    "    \n",
    "    clipYMin = int((shapeExtent[3] - originY) / pixelHieght)\n",
    "    clipYMax = int((shapeExtent[2] - originY) / pixelHieght) + 1\n",
    "    \n",
    "    colCount = clipXMax - clipXMin\n",
    "    rowCount = clipYMax - clipYMin\n",
    "    \n",
    "    newLeftCoord = originX + (clipXMin * pixelWidth)\n",
    "    newTopCoord = originY + (clipYMin * pixelHieght)\n",
    "    \n",
    "    #This is not a Geotrans object, because I also want to return the row & col count\n",
    "    #and the explicit row & col numbers to be used to clip the source raster\n",
    "    newGeoInfo = (newLeftCoord, newTopCoord, pixelWidth, pixelHieght, colCount, rowCount, clipXMin, clipXMax, clipYMin, clipYMax)\n",
    "    \n",
    "    return newGeoInfo"
   ]
  },
  {
   "cell_type": "code",
   "execution_count": 3,
   "metadata": {
    "collapsed": false
   },
   "outputs": [],
   "source": [
    "#Open shapefile\n",
    "clipPolys = ogr.Open(pathToShapefile)\n",
    "lyr = clipPolys.GetLayer(0)\n",
    "ext = lyr.GetExtent()\n",
    "\n",
    "#Print feature count\n",
    "#lyr.GetFeatureCount()\n"
   ]
  },
  {
   "cell_type": "code",
   "execution_count": 4,
   "metadata": {
    "collapsed": false
   },
   "outputs": [],
   "source": [
    "#Get clip shape extent info\n",
    "#MinX = ext[0], MinY = ext[3] (Southern end)\n",
    "#ext"
   ]
  },
  {
   "cell_type": "code",
   "execution_count": 5,
   "metadata": {
    "collapsed": false
   },
   "outputs": [
    {
     "data": {
      "text/plain": [
       "(404205.0, 30.0, 0.0, -1006985.0, 0.0, -30.0)"
      ]
     },
     "execution_count": 5,
     "metadata": {},
     "output_type": "execute_result"
    }
   ],
   "source": [
    "#Open raster\n",
    "origRas = gdal.Open(rasterPathName)\n",
    "origRas_GeoTrans = origRas.GetGeoTransform()\n",
    "\n",
    "origPatchRas = gdal.Open(patchPathName)\n",
    "\n",
    "#Print Geotrans info\n",
    "origRas_GeoTrans"
   ]
  },
  {
   "cell_type": "code",
   "execution_count": 6,
   "metadata": {
    "collapsed": false
   },
   "outputs": [],
   "source": [
    "#Confirm no data value\n",
    "#origRas.GetRasterBand(1).GetNoDataValue()\n"
   ]
  },
  {
   "cell_type": "code",
   "execution_count": 7,
   "metadata": {
    "collapsed": false
   },
   "outputs": [],
   "source": [
    "#Combine Geotrans info to give us  what we need\n",
    "#tempOutputFile = \"D:/FractionalCover/clipMask.tif\"\n",
    "\n",
    "newRasterInfo = shapeExtent_To_Raster_Box(ext, origRas_GeoTrans)\n",
    "patchRasterInfo = shapeExtent_To_Raster_Box(ext, origPatchRas.GetGeoTransform())\n",
    "\n",
    "#mem_drv = ogr.GetDriverByName('Memory')\n",
    "#driver = gdal.GetDriverByName('MEM')\n",
    "\n",
    "#temp_ds = driver.Create('', newRasterInfo[4], newRasterInfo[5], 1, gdal.GDT_Byte)\n",
    "##temp_ds = gdal.GetDriverByName(\"GTiff\").Create(tempOutputFile, newRasterInfo[4], newRasterInfo[5], 1, gdal.GDT_Int32)\n",
    "#temp_ds.SetGeoTransform((newRasterInfo[0], newRasterInfo[2], 0, newRasterInfo[1], 0, newRasterInfo[3]))\n",
    "\n",
    "#Rasterize the mask shapefile\n",
    "#gdal.RasterizeLayer(temp_ds, [1], lyr, burn_values=[1])\n",
    "\n",
    "#type(temp_ds)\n"
   ]
  },
  {
   "cell_type": "code",
   "execution_count": 8,
   "metadata": {
    "collapsed": false
   },
   "outputs": [],
   "source": [
    "#maskRasArray = temp_ds.ReadAsArray()\n",
    "#%matplotlib inline\n",
    "#plt.imshow(maskRasArray)\n",
    "\n",
    "#print(newRasterInfo[6])\n",
    "#print(newRasterInfo[7])\n",
    "#print(newRasterInfo[8])\n",
    "#print(newRasterInfo[9])\n"
   ]
  },
  {
   "cell_type": "code",
   "execution_count": 9,
   "metadata": {
    "collapsed": false
   },
   "outputs": [],
   "source": [
    "#Don't need to change the dtype from unsigned 8 bit integer just yet, and that will helkp with memory\n",
    "#sourceRast = numpy.array(origRas.GetRasterBand(1).ReadAsArray(),dtype='i')\n",
    "#patchRast = numpy.array(origPatchRas.GetRasterBand(1).ReadAsArray(),dtype='i')\n",
    "\n",
    "sourceRast = origRas.GetRasterBand(1).ReadAsArray()\n",
    "patchRast = origPatchRas.GetRasterBand(1).ReadAsArray()\n",
    "\n",
    "\n",
    "#Important to set dtype to float, will be unsigned 8 bit inytgere, limited to vals of 255...\n",
    "#clip = rast[ulY:lrY, ulX:lrX]\n",
    "clipSourceRast = sourceRast[newRasterInfo[8]:newRasterInfo[9],newRasterInfo[6]:newRasterInfo[7]]\n",
    "clipPatchRast = patchRast[patchRasterInfo[8]:patchRasterInfo[9],patchRasterInfo[6]:patchRasterInfo[7]]\n",
    "\n",
    "#origNoData = origRas.GetRasterBand(1).GetNoDataValue()\n",
    "\n",
    "\n",
    "\n",
    "#Introduce mask of NoDatas\n",
    "#This will include ocean as well as gaps\n",
    "#clipSourceRast = numpy.ma.masked_values(clipSourceRast, origRas.GetRasterBand(1).GetNoDataValue())\n",
    "#clipPatchRast = numpy.ma.masked_values(clipPatchRast, origPatchRas.GetRasterBand(1).GetNoDataValue())\n",
    "clipSourceRast = numpy.ma.masked_where((clipSourceRast < 100) | (clipSourceRast > 200) | (clipSourceRast ==  origRas.GetRasterBand(1).GetNoDataValue()), clipSourceRast)\n",
    "clipPatchRast = numpy.ma.masked_where((clipPatchRast < 100) | (clipPatchRast > 200) | (clipPatchRast == origPatchRas.GetRasterBand(1).GetNoDataValue()), clipPatchRast)\n",
    "\n",
    "#Free up some memory\n",
    "sourceRast = None\n",
    "patchRast = None"
   ]
  },
  {
   "cell_type": "code",
   "execution_count": 10,
   "metadata": {
    "collapsed": false
   },
   "outputs": [],
   "source": [
    "#Takes ages, doesn't change the outcome\n",
    "#This will reveal that there are values outside of the range that ArcGIS tends to depict...\n",
    "#print('Min: ' + str(origRas.GetRasterBand(1).GetMinimum()))\n",
    "#print('Max: ' + str(origRas.GetRasterBand(1).GetMaximum()))\n"
   ]
  },
  {
   "cell_type": "code",
   "execution_count": 11,
   "metadata": {
    "collapsed": false
   },
   "outputs": [],
   "source": [
    "#patchRast.shape\n",
    "clipPatchRast = numpy.ma.masked_values(clipPatchRast, origPatchRas.GetRasterBand(1).GetNoDataValue())\n",
    "#print('Min: ' + str(clipPatchRast.min()))\n",
    "#print('Max: ' + str(clipPatchRast.max()))\n",
    "#print('Mean: ' + str(clipPatchRast.mean()))"
   ]
  },
  {
   "cell_type": "code",
   "execution_count": 12,
   "metadata": {
    "collapsed": false
   },
   "outputs": [],
   "source": [
    "insertedPatch = numpy.ma.masked_values(clipSourceRast.filled(clipPatchRast), origPatchRas.GetRasterBand(1).GetNoDataValue())"
   ]
  },
  {
   "cell_type": "code",
   "execution_count": 13,
   "metadata": {
    "collapsed": false
   },
   "outputs": [],
   "source": [
    "#type(clipSourceRast)\n",
    "#print('Min: ' + str(insertedPatch.min()))\n",
    "#print('Max: ' + str(insertedPatch.max()))\n",
    "#print('Mean: ' + str(insertedPatch.mean()))"
   ]
  },
  {
   "cell_type": "code",
   "execution_count": 14,
   "metadata": {
    "collapsed": true
   },
   "outputs": [],
   "source": [
    "#Need to change data type of array so that we can go above values of 255\n",
    "patchedMask = numpy.array(insertedPatch, dtype='f')\n",
    "patchedMask = numpy.ma.masked_values(patchedMask, origPatchRas.GetRasterBand(1).GetNoDataValue())"
   ]
  },
  {
   "cell_type": "code",
   "execution_count": 15,
   "metadata": {
    "collapsed": false
   },
   "outputs": [],
   "source": [
    "#print('Min: ' + str(patchedMask.min()))\n",
    "#print('Max: ' + str(patchedMask.max()))\n",
    "#print('Mean: ' + str(patchedMask.mean()))"
   ]
  },
  {
   "cell_type": "code",
   "execution_count": 16,
   "metadata": {
    "collapsed": true
   },
   "outputs": [],
   "source": [
    "##need to adjust values, both making the values sensible, and performing the objective->visual\n",
    "##Masking for 100 < value > 200 unfortunately picks up ocean areas????\n",
    "#patchedMask = numpy.ma.masked_where((insertedPatch < 100) | (insertedPatch > 200), insertedPatch)\n",
    "\n",
    "###Need a 'No Data Val' that is different to Zero, because that will cause dramas for zero-cover...\n",
    "#Can't use -9999!\n",
    "patchedMask = patchedMask.filled(240)\n",
    "patchedMask = numpy.ma.masked_values(patchedMask, 240)"
   ]
  },
  {
   "cell_type": "code",
   "execution_count": 17,
   "metadata": {
    "collapsed": false
   },
   "outputs": [
    {
     "name": "stdout",
     "output_type": "stream",
     "text": [
      "Min: 100.0\n",
      "Max: 200.0\n",
      "Mean: 112.23809801\n"
     ]
    }
   ],
   "source": [
    "#print('Sum: ' + str(patchedMask.sum()))\n",
    "print('Min: ' + str(patchedMask.min()))\n",
    "print('Max: ' + str(patchedMask.max()))\n",
    "print('Mean: ' + str(patchedMask.mean()))"
   ]
  },
  {
   "cell_type": "code",
   "execution_count": 18,
   "metadata": {
    "collapsed": false
   },
   "outputs": [],
   "source": [
    "#Important! Use 200.0, not '200', to ensure we retain 'float' data type\n",
    "gCov = 200.0-patchedMask\n",
    "#gCov = numpy.array(gCov, dtype='f')\n",
    "#gCov = numpy.array(200-insertedPatch, dtype='f')\n",
    "#type(gCov)\n",
    "#numpy.ma.count(gCov, 0)"
   ]
  },
  {
   "cell_type": "code",
   "execution_count": 19,
   "metadata": {
    "collapsed": false
   },
   "outputs": [
    {
     "name": "stdout",
     "output_type": "stream",
     "text": [
      "Min: 0.0\n",
      "Max: 100.0\n",
      "Mean: 87.7619487312\n"
     ]
    }
   ],
   "source": [
    "#print('Sum: ' + str(gCov.sum()))\n",
    "print('Min: ' + str(gCov.min()))\n",
    "print('Max: ' + str(gCov.max()))\n",
    "print('Mean: ' + str(gCov.mean()))"
   ]
  },
  {
   "cell_type": "code",
   "execution_count": 20,
   "metadata": {
    "collapsed": false
   },
   "outputs": [],
   "source": [
    "visPatched = 0.00925 * numpy.power(gCov, 2)\n",
    "\n",
    "#This essential to allow us insert NoDatas in final product... again....\n",
    "visPatched = visPatched.filled(ourNoData)\n",
    "visPatched = numpy.ma.masked_values(visPatched, ourNoData)"
   ]
  },
  {
   "cell_type": "code",
   "execution_count": 21,
   "metadata": {
    "collapsed": false
   },
   "outputs": [
    {
     "name": "stdout",
     "output_type": "stream",
     "text": [
      "Min: 0.0\n",
      "Max: 92.5\n",
      "Mean: 72.6535257629\n"
     ]
    }
   ],
   "source": [
    "#print('Sum: ' + str(visPatched.sum()))\n",
    "print('Min: ' + str(visPatched.min()))\n",
    "print('Max: ' + str(visPatched.max()))\n",
    "print('Mean: ' + str(visPatched.mean()))"
   ]
  },
  {
   "cell_type": "code",
   "execution_count": 25,
   "metadata": {
    "collapsed": false
   },
   "outputs": [],
   "source": [
    "#Cfactor....\n",
    "cFactor = numpy.exp(-0.799 - (0.0474 * visPatched) + (0.000449 * numpy.power(visPatched, 2)) - (0.0000052 * numpy.power(visPatched, 3)))\n",
    "cFactor = numpy.ma.masked_values(cFactor, ourNoData)"
   ]
  },
  {
   "cell_type": "code",
   "execution_count": 26,
   "metadata": {
    "collapsed": false
   },
   "outputs": [
    {
     "name": "stdout",
     "output_type": "stream",
     "text": [
      "Min: 0.00426506\n",
      "Max: 0.449778\n",
      "Mean: 0.0309281690302\n"
     ]
    }
   ],
   "source": [
    "print('Min: ' + str(cFactor.min()))\n",
    "print('Max: ' + str(cFactor.max()))\n",
    "print('Mean: ' + str(cFactor.mean()))"
   ]
  },
  {
   "cell_type": "code",
   "execution_count": 28,
   "metadata": {
    "collapsed": false
   },
   "outputs": [],
   "source": [
    "#How to get this array written out as a raster??\n",
    "outputFile = \"D:/FractionalCover/clippedTestCov.tif\"\n",
    "\n",
    "#Integer will be fine for cover bands\n",
    "#GDT_Byte is 8 bit unsigned (apparently)\n",
    "#GDT_Int16\n",
    "#GDT_Int32\n",
    "#GDT_Float32\n",
    "outDS = gdal.GetDriverByName(\"GTiff\").Create(outputFile, newRasterInfo[4], newRasterInfo[5], 1, gdal.GDT_Byte)\n",
    "outDS.SetGeoTransform((newRasterInfo[0], newRasterInfo[2], 0, newRasterInfo[1], 0, newRasterInfo[3]))\n",
    "\n",
    "\n",
    "#type(outBand)\n",
    "\n",
    "outDS.SetProjection(origRas.GetProjection())\n",
    "outBand = outDS.GetRasterBand(1)\n",
    "\n",
    "# write the data\n",
    "#outBand.WriteArray(clipSourceRast, 0, 0)\n",
    "outBand.WriteArray(visPatched)\n",
    "\n",
    "# flush data to disk, set the NoData value and calculate stats\n",
    "outBand.FlushCache()\n",
    "outBand.SetNoDataValue(ourNoData)\n",
    "\n",
    "\n",
    "outputCFactFile = \"D:/FractionalCover/clippedTestCFatc.tif\"\n",
    "outDSCFact = gdal.GetDriverByName(\"GTiff\").Create(outputCFactFile, newRasterInfo[4], newRasterInfo[5], 1, gdal.GDT_Float32)\n",
    "outDSCFact.SetGeoTransform((newRasterInfo[0], newRasterInfo[2], 0, newRasterInfo[1], 0, newRasterInfo[3]))\n",
    "\n",
    "outDSCFact.SetProjection(origRas.GetProjection())\n",
    "outBandCFact = outDSCFact.GetRasterBand(1)\n",
    "\n",
    "outBandCFact.WriteArray(cFactor)\n",
    "outBandCFact.FlushCache()\n",
    "outBandCFact.SetNoDataValue(ourNoData)\n",
    "\n",
    "# georeference the image and set the projection (ROB: don't do GeoTransform, we've already done that)\n",
    "##outDs.SetGeoTransform(inDs.GetGeoTransform())\n",
    "outDS.SetProjection(origRas.GetProjection())\n",
    "outDSCFact.SetProjection(origRas.GetProjection())\n",
    "\n",
    "#Without this 'del', the output file doesn't get populated with values???\n",
    "del outDS, outBand, outDSCFact, outBandCFact\n"
   ]
  },
  {
   "cell_type": "code",
   "execution_count": null,
   "metadata": {
    "collapsed": true
   },
   "outputs": [],
   "source": []
  }
 ],
 "metadata": {
  "anaconda-cloud": {},
  "kernelspec": {
   "display_name": "Python [default]",
   "language": "python",
   "name": "python3"
  },
  "language_info": {
   "codemirror_mode": {
    "name": "ipython",
    "version": 3
   },
   "file_extension": ".py",
   "mimetype": "text/x-python",
   "name": "python",
   "nbconvert_exporter": "python",
   "pygments_lexer": "ipython3",
   "version": "3.5.2"
  }
 },
 "nbformat": 4,
 "nbformat_minor": 1
}
