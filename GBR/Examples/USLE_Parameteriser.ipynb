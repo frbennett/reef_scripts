{
 "cells": [
  {
   "cell_type": "markdown",
   "metadata": {},
   "source": [
    "Blah de blah"
   ]
  },
  {
   "cell_type": "code",
   "execution_count": 1,
   "metadata": {
    "collapsed": false,
    "scrolled": true
   },
   "outputs": [],
   "source": [
    "# This tool will not ensure that pixels and boundaries align\n",
    "# That is the job of the user\n",
    "import pandas\n",
    "import numpy\n",
    "from osgeo import gdal, gdalconst\n",
    "from osgeo import ogr\n",
    "import tempfile\n",
    "import os\n",
    "import sys\n",
    "sys.path.append('../Modules')\n",
    "import zonal_stats_ForLayerObject\n",
    "import resample_raster\n",
    "#from rasterstats import zonal_stats\n",
    "import matplotlib.pyplot as plt\n",
    "%matplotlib inline\n",
    "\n",
    "#Path to intersected Subcatch/FUs shapefile\n",
    "pathToShapefile = \"D:/MW/spatial_RC7/ExportedCatchments-FUs Intersection.shp\"\n",
    "#pathToShapefile = \"D:/MW/spatial_RC7/mw_intscfu_clean.shp\"\n",
    "#pathToShapefile = \"D:/MW/spatial_RC7/badFUOnly.shp\"\n",
    "\n",
    "uniqueIDField = \"UNQID\"\n",
    "catchmentField = \"IntSCs\"\n",
    "FUField = \"IntFUs\"\n",
    "\n",
    "FUsToInclude = [\"Grazing Open\",\"Grazing Forested\",\"Forestry\",\"Conservation\"]\n",
    "\n",
    "#Path to template raster (probably subcatchments or DEM)\n",
    "rasterTemplateFile = \"D:/MW/spatial_RC7/CreatedSubcats.asc\"\n",
    "\n",
    "#Output intersected Subcat/FU raster\n",
    "#Will get a CSV of same name written 'mapping' each FU to a unique ID (the unique ID will be the raster values)\n",
    "rasterOutputFile = \"D:/MW/spatial_RC7/MW_USLE_IntSubCatFu.tif\"\n",
    "\n",
    "#Path to K raster\n",
    "rasterKFile = \"D:/MW/Ram_USLE/mw_k_fact.asc\"\n",
    "\n",
    "#Path to LS raster\n",
    "rasterLSFile = \"D:/MW/Ram_USLE/mw_ls_fact.asc\"\n",
    "\n",
    "#Path to Fines raster\n",
    "rasterFinesFile = \"D:/MW/Ram_USLE/mw_cs_surf.asc\"\n",
    "\n",
    "#Path to Scald raster\n",
    "rasterScaldFile = \"D:/MW/spatial_RC7/CreatedSubcats.asc\"\n",
    "\n",
    "#Directory of CFactor rasters\n",
    "cFactorDir = \"D:/MW/spatial_RC7\"\n",
    "\n",
    "#declare a couple of variables\n",
    "IntSCFUStr = \"IntSCFU\"\n",
    "MeanKLSCStr = \"Mean_KLSC\"\n",
    "MeanKLSCFinesStr = \"Mean_KLSC_Fines\"\n",
    "MeanKStr = \"Mean_K\"\n",
    "MeanFinesStr = \"Mean_Fines\"\n",
    "MeanCfactStr = \"Mean_CFact\"\n",
    "MeanLSStr = \"Mean_LS\"\n",
    "MeanScaldStr = \"Mean_Scald\"\n",
    "AreaStr = \"Area\"\n",
    "TimeStampStr = \"Time_Stamp\"\n",
    "CellCountStr = \"Cell_Count\"\n",
    "\n",
    "#Directory and filename constants for USLE parameterisation\n",
    "USLE_DIR_KLSC = \"KLSC\";\n",
    "USLE_DIR_KLSCFINE = \"KLSC_Fines\";\n",
    "USLE_DIR_KLSC_CFACT = \"Cfact\";\n",
    "USLE_FILE_KLSC = \"USLE_KLSC_Total\";\n",
    "USLE_FILE_KLSCFINES = \"USLE_KLSC_FinePerc\";\n",
    "USLE_FILE_KLS_CFACT = \"CFactor\";\n",
    "\n",
    "rasterResultsDF = pandas.DataFrame(columns=[IntSCFUStr,TimeStampStr,MeanKLSCStr,MeanKLSCFinesStr,MeanKStr,MeanCfactStr,MeanFinesStr,MeanLSStr,MeanScaldStr,AreaStr,CellCountStr])\n",
    "#rasterResultsDF"
   ]
  },
  {
   "cell_type": "code",
   "execution_count": 2,
   "metadata": {
    "collapsed": false
   },
   "outputs": [
    {
     "data": {
      "text/plain": [
       "(1677868.63051, 30.0, 0.0, -2257960.4690071, 0.0, -30.0)"
      ]
     },
     "execution_count": 2,
     "metadata": {},
     "output_type": "execute_result"
    }
   ],
   "source": [
    "#load the template raster\n",
    "templateRas = gdal.Open(rasterTemplateFile)\n",
    "template_GeoTrans = templateRas.GetGeoTransform()\n",
    "template_GeoTrans"
   ]
  },
  {
   "cell_type": "code",
   "execution_count": 3,
   "metadata": {
    "collapsed": false
   },
   "outputs": [
    {
     "data": {
      "text/plain": [
       "(1672918.63051, 30.0, 0.0, -2251120.4690071, 0.0, -30.0)"
      ]
     },
     "execution_count": 3,
     "metadata": {},
     "output_type": "execute_result"
    }
   ],
   "source": [
    "#Load K factor\n",
    "kFactRas = gdal.Open(rasterKFile)\n",
    "kfact_GeoTrans = kFactRas.GetGeoTransform()\n",
    "kfact_GeoTrans"
   ]
  },
  {
   "cell_type": "code",
   "execution_count": 4,
   "metadata": {
    "collapsed": false
   },
   "outputs": [
    {
     "name": "stdout",
     "output_type": "stream",
     "text": [
      "Kfactor raster resolution info didn't match template, attempted a resample\n"
     ]
    }
   ],
   "source": [
    "if (kfact_GeoTrans == template_GeoTrans):\n",
    "    print(\"Kfactor raster resolution info matches template, excellent\")\n",
    "else:\n",
    "    print(\"Kfactor raster resolution info didn't match template, attempted a resample\")\n",
    "    kFactRas = resample_raster.resample_raster_to_match_template(templateRas, kFactRas, os.path.join(tempfile.gettempdir(), \"resampledKFact.tif\"))\n",
    "    #kFactRas = resample_raster_to_match_template(templateRas, kFactRas, \"D:/aa/tester.tif\")\n",
    "    kfact_GeoTrans = kFactRas.GetGeoTransform()"
   ]
  },
  {
   "cell_type": "code",
   "execution_count": 5,
   "metadata": {
    "collapsed": false
   },
   "outputs": [
    {
     "name": "stdout",
     "output_type": "stream",
     "text": [
      "Kfactor raster resolution info now matches template, excellent\n"
     ]
    }
   ],
   "source": [
    "if (kfact_GeoTrans == template_GeoTrans):\n",
    "    print(\"Kfactor raster resolution info now matches template, excellent\")\n",
    "    kFactRas = None\n",
    "    kFactRas = gdal.Open(os.path.join(tempfile.gettempdir(), \"resampledKFact.tif\"))\n",
    "    kfact_GeoTrans = kFactRas.GetGeoTransform()\n",
    "else:\n",
    "    print(\"Kfactor raster resolution still not the same as the template, you shouldn't proceed\")\n",
    "#zone_ds = None\n",
    "#print(\"rows: \" + str(kFactRas.RasterYSize) + \" cols: \" + str(kFactRas.RasterXSize))"
   ]
  },
  {
   "cell_type": "code",
   "execution_count": 6,
   "metadata": {
    "collapsed": false
   },
   "outputs": [
    {
     "data": {
      "text/plain": [
       "-9999.0"
      ]
     },
     "execution_count": 6,
     "metadata": {},
     "output_type": "execute_result"
    }
   ],
   "source": [
    "#kFactRas.GetRasterBand(1).GetNoDataValue()\n",
    "templateRas.GetRasterBand(1).GetNoDataValue()\n",
    "\n",
    "# The line below would get the kfactor raster written to disk, but it may not be necessary\n",
    "#kFactRas = None\n",
    "\n",
    "#this stuf to draw up a sample of KFactor, have to chop off heaps of edges so that the range in the colorbar doesn't consider -9999\n",
    "#kFactRasArray = kFactRas.ReadAsArray()\n",
    "#array_chop = kFactRasArray[3500:-3500,1500:-1500]  # chop off the outer specified pixels\n",
    "#plt.imshow(array_chop, interpolation='nearest')\n",
    "#plt.colorbar()\n",
    "#plt.title('K Factor')\n",
    "#plt.show()"
   ]
  },
  {
   "cell_type": "code",
   "execution_count": 7,
   "metadata": {
    "collapsed": false
   },
   "outputs": [],
   "source": [
    "#Load LS factor\n",
    "lsFactRas = gdal.Open(rasterLSFile)\n",
    "lsFact_GeoTrans = lsFactRas.GetGeoTransform()\n"
   ]
  },
  {
   "cell_type": "code",
   "execution_count": 8,
   "metadata": {
    "collapsed": false
   },
   "outputs": [
    {
     "name": "stdout",
     "output_type": "stream",
     "text": [
      "LSfactor raster resolution info didn't match template, attempted a resample\n"
     ]
    }
   ],
   "source": [
    "if (lsFact_GeoTrans == template_GeoTrans):\n",
    "    print(\"LSfactor raster resolution info matches template, excellent\")\n",
    "else:\n",
    "    print(\"LSfactor raster resolution info didn't match template, attempted a resample\")\n",
    "    lsFactRas = resample_raster.resample_raster_to_match_template(templateRas, lsFactRas, os.path.join(tempfile.gettempdir(), \"resampledLSFact.tif\"))\n",
    "    lsFact_GeoTrans = lsFactRas.GetGeoTransform()"
   ]
  },
  {
   "cell_type": "code",
   "execution_count": 9,
   "metadata": {
    "collapsed": false
   },
   "outputs": [
    {
     "name": "stdout",
     "output_type": "stream",
     "text": [
      "LSfactor raster resolution info now matches template, excellent\n"
     ]
    }
   ],
   "source": [
    "if (lsFact_GeoTrans == template_GeoTrans):\n",
    "    print(\"LSfactor raster resolution info now matches template, excellent\")\n",
    "    lsFactRas = None\n",
    "    lsFactRas = gdal.Open(os.path.join(tempfile.gettempdir(), \"resampledLSFact.tif\"))\n",
    "    lsfact_GeoTrans = lsFactRas.GetGeoTransform()\n",
    "else:\n",
    "    print(\"LSfactor raster resolution still not the same as the template, you shouldn't proceed\")"
   ]
  },
  {
   "cell_type": "code",
   "execution_count": 10,
   "metadata": {
    "collapsed": true
   },
   "outputs": [],
   "source": [
    "#Load Fines raster\n",
    "FinesRas = gdal.Open(rasterFinesFile)\n",
    "fines_GeoTrans = FinesRas.GetGeoTransform()"
   ]
  },
  {
   "cell_type": "code",
   "execution_count": 11,
   "metadata": {
    "collapsed": false
   },
   "outputs": [
    {
     "name": "stdout",
     "output_type": "stream",
     "text": [
      "Fines raster resolution info didn't match template, attempted a resample\n"
     ]
    }
   ],
   "source": [
    "if (fines_GeoTrans == template_GeoTrans):\n",
    "    print(\"Fines raster resolution info matches template, excellent\")\n",
    "else:\n",
    "    print(\"Fines raster resolution info didn't match template, attempted a resample\")\n",
    "    FinesRas = resample_raster.resample_raster_to_match_template(templateRas, FinesRas, os.path.join(tempfile.gettempdir(), \"resampledFines.tif\"))\n",
    "    fines_GeoTrans = FinesRas.GetGeoTransform()"
   ]
  },
  {
   "cell_type": "code",
   "execution_count": 12,
   "metadata": {
    "collapsed": false
   },
   "outputs": [
    {
     "name": "stdout",
     "output_type": "stream",
     "text": [
      "Fines raster resolution info now matches template, excellent\n"
     ]
    }
   ],
   "source": [
    "if (fines_GeoTrans == template_GeoTrans):\n",
    "    print(\"Fines raster resolution info now matches template, excellent\")\n",
    "    FinesRas = None\n",
    "    FinesRas = gdal.Open(os.path.join(tempfile.gettempdir(), \"resampledFines.tif\"))\n",
    "    fines_GeoTrans = FinesRas.GetGeoTransform()\n",
    "else:\n",
    "    print(\"Fines raster resolution info still not the same as the template, you shouldn't proceed\")"
   ]
  },
  {
   "cell_type": "code",
   "execution_count": 13,
   "metadata": {
    "collapsed": false
   },
   "outputs": [
    {
     "data": {
      "text/plain": [
       "1286"
      ]
     },
     "execution_count": 13,
     "metadata": {},
     "output_type": "execute_result"
    }
   ],
   "source": [
    "#Open shapefile\n",
    "basePolys = ogr.Open(pathToShapefile)\n",
    "type(basePolys)\n",
    "nlay = basePolys.GetLayerCount()\n",
    "lyr = basePolys.GetLayer(0)\n",
    "ext = lyr.GetExtent()\n",
    "#nlay\n",
    "#ext\n",
    "lyr.GetFeatureCount()\n",
    "#plt.imshow(lyr)"
   ]
  },
  {
   "cell_type": "code",
   "execution_count": 14,
   "metadata": {
    "collapsed": false
   },
   "outputs": [],
   "source": [
    "featCount = 0\n",
    "for feat in lyr:\n",
    "    ##print(\"Doing something\")\n",
    "    #print(feat.GetFieldAsString(catchmentField) + \" and FU \" + feat.GetFieldAsString(FUField))\n",
    "    featCount += 1\n",
    "    if (featCount == 20):\n",
    "        break"
   ]
  },
  {
   "cell_type": "code",
   "execution_count": 15,
   "metadata": {
    "collapsed": false,
    "scrolled": true
   },
   "outputs": [
    {
     "data": {
      "text/plain": [
       "\"'Grazing Open','Grazing Forested','Forestry','Conservation'\""
      ]
     },
     "execution_count": 15,
     "metadata": {},
     "output_type": "execute_result"
    }
   ],
   "source": [
    "#FUsToInclude = [\"Grazing Open\",\"Grazing Forested\",\"Forestry\"]\n",
    "\n",
    "FUsAsSQL = \"\"\n",
    "count = 0\n",
    "for thisFU in FUsToInclude:\n",
    "    if(count == 0):\n",
    "        FUsAsSQL = \"'\" + thisFU + \"'\"\n",
    "    else:\n",
    "        FUsAsSQL += \",'\" + thisFU + \"'\"\n",
    "    count += 1\n",
    "\n",
    "FUsAsSQL"
   ]
  },
  {
   "cell_type": "code",
   "execution_count": 16,
   "metadata": {
    "collapsed": false
   },
   "outputs": [
    {
     "data": {
      "text/plain": [
       "644"
      ]
     },
     "execution_count": 16,
     "metadata": {},
     "output_type": "execute_result"
    }
   ],
   "source": [
    "lyr.SetAttributeFilter( FUField + \" IN (\" + FUsAsSQL + \")\")\n",
    "lyr.GetFeatureCount()"
   ]
  },
  {
   "cell_type": "code",
   "execution_count": 17,
   "metadata": {
    "collapsed": false
   },
   "outputs": [],
   "source": [
    "csvFile = rasterOutputFile.replace(\".tif\",\".csv\")\n",
    "fumapper = pandas.DataFrame(columns=[uniqueIDField, catchmentField, FUField])\n",
    "#featCount = 0\n",
    "for feat in lyr:\n",
    "    #print(feat.GetFieldAsString(catchmentField) + \" and FU \" + feat.GetFieldAsString(FUField))\n",
    "    #fumapper.append([feat.GetFieldAsString(uniqueIDField),feat.GetFieldAsString(catchmentField),feat.GetFieldAsString(FUField)])\n",
    "    newList = [feat.GetFieldAsString(uniqueIDField),feat.GetFieldAsString(catchmentField),feat.GetFieldAsString(FUField)]\n",
    "    fumapper.loc[len(fumapper)] = newList\n",
    "    #featCount += 1\n",
    "    #if (featCount == 20):\n",
    "    #    break\n",
    "\n",
    "#lyr.GetFeatureCount()\n",
    "#fumapper.to_csv(csvFile, index=False)\n",
    "#fumapper"
   ]
  },
  {
   "cell_type": "code",
   "execution_count": 18,
   "metadata": {
    "collapsed": false
   },
   "outputs": [],
   "source": [
    "##help(templateRas)\n",
    "#geo_transform = templateRas.GetGeoTransform()\n",
    "#x_min = geo_transform[0]\n",
    "#y_max = geo_transform[3]\n",
    "#x_max = x_min + geo_transform[1] * templateRas.RasterXSize\n",
    "#y_min = y_max + geo_transform[5] * templateRas.RasterYSize\n",
    "#x_count = templateRas.RasterXSize\n",
    "#y_count = templateRas.RasterYSize\n",
    "#pixel_width = geo_transform[1]\n",
    "\n",
    "#y_min"
   ]
  },
  {
   "cell_type": "code",
   "execution_count": 19,
   "metadata": {
    "collapsed": false
   },
   "outputs": [],
   "source": [
    "#zone_ds = gdal.GetDriverByName(\"GTiff\").Create(rasterOutputFile, x_count, y_count, 1, gdal.GDT_Int32)\n",
    "##Doing MEM did not yield the expected unique vals\n",
    "##zone_ds = gdal.GetDriverByName(\"MEM\").Create(\"\", x_count, y_count, 1, gdal.GDT_Byte)\n",
    "#zone_ds.SetGeoTransform((x_min, pixel_width, 0, y_min, 0, pixel_width))\n",
    "#band = zone_ds.GetRasterBand(1)\n",
    "#NoData_value = -9999\n",
    "#band.SetNoDataValue(NoData_value)\n",
    "#band.FlushCache()\n",
    "#gdal.RasterizeLayer(zone_ds, [1], lyr, options=[\"ATTRIBUTE=\" + uniqueIDField])"
   ]
  },
  {
   "cell_type": "code",
   "execution_count": 20,
   "metadata": {
    "collapsed": false
   },
   "outputs": [],
   "source": [
    "##This bit essential to get the raster file written - but could we use it before writing out (and then having to read back in?)\n",
    "##Hopefully not needed if MEM type\n",
    "##zone_ds = None\n",
    "#type(zone_ds)"
   ]
  },
  {
   "cell_type": "code",
   "execution_count": 21,
   "metadata": {
    "collapsed": false
   },
   "outputs": [],
   "source": [
    "#zone_ds.GetGeoTransform()"
   ]
  },
  {
   "cell_type": "code",
   "execution_count": 22,
   "metadata": {
    "collapsed": false
   },
   "outputs": [],
   "source": [
    "#zonesRasterArray = zone_ds.ReadAsArray()\n",
    "#uniq = numpy.unique(zonesRasterArray)\n",
    "##print(uniq)\n"
   ]
  },
  {
   "cell_type": "code",
   "execution_count": 23,
   "metadata": {
    "collapsed": false,
    "scrolled": true
   },
   "outputs": [],
   "source": [
    "#type(lyr)\n",
    "#stats = zonal_stats(lyr, kFactRas)"
   ]
  },
  {
   "cell_type": "code",
   "execution_count": 24,
   "metadata": {
    "collapsed": false,
    "scrolled": false
   },
   "outputs": [
    {
     "name": "stdout",
     "output_type": "stream",
     "text": [
      "Doing zonal stats on 644 features\n"
     ]
    },
    {
     "name": "stderr",
     "output_type": "stream",
     "text": [
      "../Modules\\zonal_stats_ForLayerObject.py:149: UserWarning: Warning: converting a masked element to nan.\n",
      "  'min': float(masked.min()),\n",
      "../Modules\\zonal_stats_ForLayerObject.py:150: UserWarning: Warning: converting a masked element to nan.\n",
      "  'mean': float(masked.mean()),\n",
      "../Modules\\zonal_stats_ForLayerObject.py:151: UserWarning: Warning: converting a masked element to nan.\n",
      "  'max': float(masked.max()),\n",
      "../Modules\\zonal_stats_ForLayerObject.py:152: UserWarning: Warning: converting a masked element to nan.\n",
      "  'std': float(masked.std()),\n",
      "../Modules\\zonal_stats_ForLayerObject.py:153: UserWarning: Warning: converting a masked element to nan.\n",
      "  'sum': float(masked.sum()),\n"
     ]
    },
    {
     "name": "stdout",
     "output_type": "stream",
     "text": [
      "Length of stats: 644\n"
     ]
    }
   ],
   "source": [
    "#K factor zonal stats\n",
    "Kfact_stats = zonal_stats_ForLayerObject.zonal_stats(lyr, uniqueIDField, kFactRas, -9999)\n",
    "# Will get 'converting a masked element to nan' error for tiny polygons"
   ]
  },
  {
   "cell_type": "code",
   "execution_count": 25,
   "metadata": {
    "collapsed": false
   },
   "outputs": [
    {
     "name": "stdout",
     "output_type": "stream",
     "text": [
      "Doing zonal stats on 644 features\n"
     ]
    },
    {
     "name": "stderr",
     "output_type": "stream",
     "text": [
      "../Modules\\zonal_stats_ForLayerObject.py:149: UserWarning: Warning: converting a masked element to nan.\n",
      "  'min': float(masked.min()),\n",
      "../Modules\\zonal_stats_ForLayerObject.py:150: UserWarning: Warning: converting a masked element to nan.\n",
      "  'mean': float(masked.mean()),\n",
      "../Modules\\zonal_stats_ForLayerObject.py:151: UserWarning: Warning: converting a masked element to nan.\n",
      "  'max': float(masked.max()),\n",
      "../Modules\\zonal_stats_ForLayerObject.py:152: UserWarning: Warning: converting a masked element to nan.\n",
      "  'std': float(masked.std()),\n",
      "../Modules\\zonal_stats_ForLayerObject.py:153: UserWarning: Warning: converting a masked element to nan.\n",
      "  'sum': float(masked.sum()),\n"
     ]
    },
    {
     "name": "stdout",
     "output_type": "stream",
     "text": [
      "Length of stats: 644\n"
     ]
    }
   ],
   "source": [
    "#Load LS factor zonal stats\n",
    "LSfact_stats = zonal_stats_ForLayerObject.zonal_stats(lyr, uniqueIDField, lsFactRas, -9999)"
   ]
  },
  {
   "cell_type": "code",
   "execution_count": 26,
   "metadata": {
    "collapsed": false
   },
   "outputs": [
    {
     "name": "stdout",
     "output_type": "stream",
     "text": [
      "Doing zonal stats on 644 features\n"
     ]
    },
    {
     "name": "stderr",
     "output_type": "stream",
     "text": [
      "../Modules\\zonal_stats_ForLayerObject.py:149: UserWarning: Warning: converting a masked element to nan.\n",
      "  'min': float(masked.min()),\n",
      "../Modules\\zonal_stats_ForLayerObject.py:150: UserWarning: Warning: converting a masked element to nan.\n",
      "  'mean': float(masked.mean()),\n",
      "../Modules\\zonal_stats_ForLayerObject.py:151: UserWarning: Warning: converting a masked element to nan.\n",
      "  'max': float(masked.max()),\n",
      "../Modules\\zonal_stats_ForLayerObject.py:152: UserWarning: Warning: converting a masked element to nan.\n",
      "  'std': float(masked.std()),\n",
      "../Modules\\zonal_stats_ForLayerObject.py:153: UserWarning: Warning: converting a masked element to nan.\n",
      "  'sum': float(masked.sum()),\n"
     ]
    },
    {
     "name": "stdout",
     "output_type": "stream",
     "text": [
      "Length of stats: 644\n"
     ]
    }
   ],
   "source": [
    "#Fines raster zonal stats\n",
    "Fines_stats = zonal_stats_ForLayerObject.zonal_stats(lyr, uniqueIDField, FinesRas, -9999)\n"
   ]
  },
  {
   "cell_type": "code",
   "execution_count": 28,
   "metadata": {
    "collapsed": false
   },
   "outputs": [
    {
     "name": "stdout",
     "output_type": "stream",
     "text": [
      "1199 KFactor Mean: 0.04923342310234939 Count: 88491\n",
      "1199 LS Mean: 1.197374471889364 Count: 87458\n",
      "1199 Fines Mean: 42.397780565255225 Count: 88491\n"
     ]
    }
   ],
   "source": [
    "kFactRas = None\n",
    "lsFactRas = None\n",
    "FinesRas = None\n",
    "\n",
    "index = 0\n",
    "while index < len(Kfact_stats):\n",
    "    if(Kfact_stats[index][uniqueIDField] == 1199):\n",
    "        print(str(Kfact_stats[index][uniqueIDField]) + \" KFactor Mean: \" + str(Kfact_stats[index]['mean']) + \" Count: \" + str(Kfact_stats[index]['count']))\n",
    "        print(str(LSfact_stats[index][uniqueIDField]) + \" LS Mean: \" + str(LSfact_stats[index]['mean']) + \" Count: \" + str(LSfact_stats[index]['count']))\n",
    "        print(str(Fines_stats[index][uniqueIDField]) + \" Fines Mean: \" + str(Fines_stats[index]['mean']) + \" Count: \" + str(Fines_stats[index]['count']))\n",
    "        break\n",
    "    \n",
    "    index += 1"
   ]
  },
  {
   "cell_type": "code",
   "execution_count": null,
   "metadata": {
    "collapsed": true
   },
   "outputs": [],
   "source": [
    "def analyseThisCFactorRaster(theCFactorRas):\n",
    "    # do pixel by pixel analysis\n",
    "    # zones raster of intersected FUs will exist, and KLSFines raster will be co-located with this\n",
    "    # send back a dictionary that also includes the valid/invalid cFactor numbers for each FU\n",
    "    # should be able to access rasters etc without passing them into this function\n",
    "    # same for the dictionary of results, it could already exist\n",
    "    \n",
    "    \n",
    "    return"
   ]
  }
 ],
 "metadata": {
  "anaconda-cloud": {},
  "kernelspec": {
   "display_name": "Python [default]",
   "language": "python",
   "name": "python3"
  },
  "language_info": {
   "codemirror_mode": {
    "name": "ipython",
    "version": 3
   },
   "file_extension": ".py",
   "mimetype": "text/x-python",
   "name": "python",
   "nbconvert_exporter": "python",
   "pygments_lexer": "ipython3",
   "version": "3.5.2"
  }
 },
 "nbformat": 4,
 "nbformat_minor": 0
}
