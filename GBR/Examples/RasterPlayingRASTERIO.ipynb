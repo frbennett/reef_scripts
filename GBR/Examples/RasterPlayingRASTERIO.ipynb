{
 "cells": [
  {
   "cell_type": "code",
   "execution_count": 1,
   "metadata": {
    "collapsed": false
   },
   "outputs": [],
   "source": [
    "import geopandas\n",
    "import pandas as pd\n",
    "#from osgeo import gdal\n",
    "import rasterio\n",
    "from numpy import linspace\n",
    "from numpy import meshgrid\n",
    "import numpy as np\n",
    "import matplotlib.pyplot as plt\n",
    "import pyproj\n",
    "\n",
    "#%matplotlib inline"
   ]
  },
  {
   "cell_type": "code",
   "execution_count": 2,
   "metadata": {
    "collapsed": false
   },
   "outputs": [],
   "source": [
    "rasterFile = 'D:/MW/spatial_RC7/CreatedSubcats.asc'\n",
    "\n",
    "# Open the file:\n",
    "catchRas = rasterio.open(rasterFile)"
   ]
  },
  {
   "cell_type": "code",
   "execution_count": 3,
   "metadata": {
    "collapsed": false
   },
   "outputs": [
    {
     "data": {
      "text/plain": [
       "rasterio.io.DatasetReader"
      ]
     },
     "execution_count": 3,
     "metadata": {},
     "output_type": "execute_result"
    }
   ],
   "source": [
    "# Check type of the variable 'raster'\n",
    "type(catchRas)"
   ]
  },
  {
   "cell_type": "code",
   "execution_count": 4,
   "metadata": {
    "collapsed": false
   },
   "outputs": [
    {
     "data": {
      "text/plain": [
       "{'count': 1,\n",
       " 'crs': None,\n",
       " 'driver': 'AAIGrid',\n",
       " 'dtype': 'int32',\n",
       " 'height': 8417,\n",
       " 'nodata': -9999.0,\n",
       " 'transform': Affine(30.0, 0.0, 1677868.63051,\n",
       "       0.0, -30.0, -2257960.4690071),\n",
       " 'width': 3823}"
      ]
     },
     "execution_count": 4,
     "metadata": {},
     "output_type": "execute_result"
    }
   ],
   "source": [
    "catchRas.meta"
   ]
  },
  {
   "cell_type": "code",
   "execution_count": 5,
   "metadata": {
    "collapsed": false
   },
   "outputs": [
    {
     "name": "stdout",
     "output_type": "stream",
     "text": [
      "None\n",
      "pyproj.Proj('+units=m +init=epsg:3577', preserve_units=True)\n"
     ]
    }
   ],
   "source": [
    "#catchRas.transform\n",
    "print(catchRas.crs)\n",
    "AusAlb=pyproj.Proj('+init=EPSG:3577')   # Australian Albers\n",
    "wgs84=pyproj.Proj(\"+init=EPSG:4326\")\n",
    "print(AusAlb)\n",
    "#catchRas.crs={'init':AusAlbCRS}\n",
    "#print(catchRas.crs)"
   ]
  },
  {
   "cell_type": "code",
   "execution_count": 21,
   "metadata": {
    "collapsed": false
   },
   "outputs": [
    {
     "name": "stdout",
     "output_type": "stream",
     "text": [
      "(1707883.63051, -2287975.4690071)\n",
      "(148.48260300718601, -20.301585494800758)\n"
     ]
    }
   ],
   "source": [
    "#help(catchRas)\n",
    "#rasterio\n",
    "#Get geographic coordinates of pixel at x, y\n",
    "\n",
    "\n",
    "testcoords = catchRas.xy(1000,1000)\n",
    "print(testcoords)\n",
    "\n",
    "geocoords = pyproj.transform(AusAlb, wgs84, testcoords[0], testcoords[1])\n",
    "print(geocoords)\n",
    "#catchRasArray = catchRas.ReadAsArray()\n",
    "\n",
    "\n"
   ]
  },
  {
   "cell_type": "code",
   "execution_count": 7,
   "metadata": {
    "collapsed": false
   },
   "outputs": [
    {
     "data": {
      "text/plain": [
       "-9999.0"
      ]
     },
     "execution_count": 7,
     "metadata": {},
     "output_type": "execute_result"
    }
   ],
   "source": [
    "\n",
    "#help(catchRas)\n",
    "catchRas.nodata\n"
   ]
  },
  {
   "cell_type": "code",
   "execution_count": 11,
   "metadata": {
    "collapsed": false
   },
   "outputs": [
    {
     "name": "stdout",
     "output_type": "stream",
     "text": [
      "(30.0, 30.0)\n",
      "BoundingBox(left=1677868.63051, bottom=-2510470.4690071, right=1792558.63051, top=-2257960.4690071)\n"
     ]
    }
   ],
   "source": [
    "#cell sizes\n",
    "print(catchRas.res)\n",
    "\n",
    "#bounds\n",
    "print(catchRas.bounds)\n",
    "\n",
    "#vals = list(catchRas.sample(([testcoords[0], testcoords[1]])))\n",
    "#vals = catchRas.sample(testcoords)\n",
    "#vals\n",
    "#vals[0]\n",
    "#list(vals)\n",
    "#print(list(vals))\n",
    "\n",
    "#for val in vals:\n",
    "#    print(val)\n",
    "\n",
    "#msk = catchRas.read_masks()\n",
    "\n",
    "#fails\n",
    "#plt.imshow(msk)"
   ]
  },
  {
   "cell_type": "code",
   "execution_count": 18,
   "metadata": {
    "collapsed": false
   },
   "outputs": [
    {
     "name": "stdout",
     "output_type": "stream",
     "text": [
      "[[[-9999 -9999 -9999 ..., -9999 -9999 -9999]\n",
      "  [-9999 -9999 -9999 ..., -9999 -9999 -9999]\n",
      "  [-9999 -9999 -9999 ..., -9999 -9999 -9999]\n",
      "  ..., \n",
      "  [-9999 -9999 -9999 ..., -9999 -9999 -9999]\n",
      "  [-9999 -9999 -9999 ..., -9999 -9999 -9999]\n",
      "  [-9999 -9999 -9999 ..., -9999 -9999 -9999]]]\n"
     ]
    }
   ],
   "source": [
    "catchRasArray = catchRas.read()\n",
    "print(catchRasArray)\n",
    "#type(catchRasArray)# yields numpy.ndarray"
   ]
  },
  {
   "cell_type": "code",
   "execution_count": 27,
   "metadata": {
    "collapsed": false
   },
   "outputs": [
    {
     "data": {
      "text/plain": [
       "8417"
      ]
     },
     "execution_count": 27,
     "metadata": {},
     "output_type": "execute_result"
    }
   ],
   "source": [
    "catchRas.RasterYSize"
   ]
  },
  {
   "cell_type": "code",
   "execution_count": 28,
   "metadata": {
    "collapsed": false
   },
   "outputs": [
    {
     "data": {
      "text/plain": [
       "1"
      ]
     },
     "execution_count": 28,
     "metadata": {},
     "output_type": "execute_result"
    }
   ],
   "source": [
    "# Number of bands\n",
    "catchRas.RasterCount\n"
   ]
  },
  {
   "cell_type": "code",
   "execution_count": 8,
   "metadata": {
    "collapsed": false
   },
   "outputs": [
    {
     "data": {
      "text/plain": [
       "{}"
      ]
     },
     "execution_count": 8,
     "metadata": {},
     "output_type": "execute_result"
    }
   ],
   "source": [
    "\n",
    "# Metadata for the raster dataset\n",
    "catchRas.GetMetadata()"
   ]
  },
  {
   "cell_type": "code",
   "execution_count": null,
   "metadata": {
    "collapsed": true
   },
   "outputs": [],
   "source": []
  }
 ],
 "metadata": {
  "anaconda-cloud": {},
  "kernelspec": {
   "display_name": "Python [default]",
   "language": "python",
   "name": "python3"
  },
  "language_info": {
   "codemirror_mode": {
    "name": "ipython",
    "version": 3
   },
   "file_extension": ".py",
   "mimetype": "text/x-python",
   "name": "python",
   "nbconvert_exporter": "python",
   "pygments_lexer": "ipython3",
   "version": "3.5.2"
  }
 },
 "nbformat": 4,
 "nbformat_minor": 1
}
