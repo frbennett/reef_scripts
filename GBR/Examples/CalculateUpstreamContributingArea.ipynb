{
 "cells": [
  {
   "cell_type": "code",
   "execution_count": 1,
   "metadata": {
    "collapsed": false
   },
   "outputs": [],
   "source": [
    "#from veneer.manage import create_command_line\n",
    "\n",
    "#import veneer-py\n",
    "\n",
    "from veneer.manage import start, create_command_line, kill_all_now\n",
    "import veneer\n",
    "import geopandas\n",
    "import pandas as pd"
   ]
  },
  {
   "cell_type": "code",
   "execution_count": 2,
   "metadata": {
    "collapsed": false
   },
   "outputs": [
    {
     "data": {
      "text/plain": [
       "'C:\\\\tempveneer\\\\veneer_cmd\\\\FlowMatters.Source.VeneerCmd.exe'"
      ]
     },
     "execution_count": 2,
     "metadata": {},
     "output_type": "execute_result"
    }
   ],
   "source": [
    "veneer_install = 'C:/PythonScriptingForGBR/VeneerPlugin/v411'\n",
    "source_version = '4.1.1'\n",
    "cmd_directory = 'C:\\\\tempveneer\\\\veneer_cmd'\n",
    "path = create_command_line(veneer_install,source_version,dest=cmd_directory)\n",
    "path"
   ]
  },
  {
   "cell_type": "code",
   "execution_count": 5,
   "metadata": {
    "collapsed": true
   },
   "outputs": [],
   "source": [
    "catchment_project='C:\\\\Beckers\\\\Beckers_GBR_411_Seasonal.rsproj'\n",
    "num_copies=1    # Important - set this to be a number ~ the number of CPU cores in your system!\n",
    "first_port=9950"
   ]
  },
  {
   "cell_type": "code",
   "execution_count": 6,
   "metadata": {
    "collapsed": false
   },
   "outputs": [
    {
     "name": "stdout",
     "output_type": "stream",
     "text": [
      "Starting C:\\tempveneer\\veneer_cmd\\FlowMatters.Source.VeneerCmd.exe -p 9950 -s  \"C:\\Beckers\\Beckers_GBR_411_Seasonal.rsproj\"\n",
      "[0] Loading plugins\n",
      "\n",
      "[0] Loaded C:\\Program Files\\eWater\\Source 4.1.1.4513\\Plugins\\DERMTools.dll\n",
      "\n",
      "[0] Loaded C:\\Program Files\\eWater\\Source 4.1.1.4513\\Plugins\\Dynamic_SedNet.dll\n",
      "\n",
      "[0] Loaded C:\\Program Files\\eWater\\Source 4.1.1.4513\\Plugins\\GBR_DynSed_Extension.dll\n",
      "\n",
      "[0] Plugins loaded (3/3)\n",
      "\n",
      "[0] Opening project file: C:\\Beckers\\Beckers_GBR_411_Seasonal.rsproj\n",
      "\n",
      "ERROR[0] log4net:ERROR Failed to find configuration section 'log4net' in the application's .config file. Check your .config file for the <log4net> and <configSections> elements. The configuration section should look like: <section name=\"log4net\" type=\"log4net.Config.Log4NetConfigurationSectionHandler,log4net\" />\n",
      "\n",
      "[0] Loading project\n",
      "\n",
      "[0] Project Loaded\n",
      "\n",
      "[0] New Project\n",
      "\n",
      "[0] Scenario 1\n",
      "\n",
      "[0] [2:27:40 PM] Veneer, by Flow Matters: http://www.flowmatters.com.au\n",
      "\n",
      "[0] [2:27:40 PM] Started Source RESTful Service on port:9950\n",
      "\n",
      "Server 0 on port 9950 is ready\n",
      "[0] Server started. Ctrl-C to exit, or POST /shutdown command\n",
      "\n"
     ]
    }
   ],
   "source": [
    "processes,ports = start(catchment_project,\n",
    "                        n_instances=num_copies,\n",
    "                        ports=first_port,\n",
    "                        debug=True,\n",
    "                        veneer_exe=path,\n",
    "                        remote=False)"
   ]
  },
  {
   "cell_type": "code",
   "execution_count": 7,
   "metadata": {
    "collapsed": true
   },
   "outputs": [],
   "source": [
    "vs = [veneer.Veneer(port=p) for p in ports]"
   ]
  },
  {
   "cell_type": "code",
   "execution_count": 8,
   "metadata": {
    "collapsed": true
   },
   "outputs": [],
   "source": [
    "#kill_all_now(processes)"
   ]
  },
  {
   "cell_type": "code",
   "execution_count": 9,
   "metadata": {
    "collapsed": false
   },
   "outputs": [],
   "source": [
    "%matplotlib inline\n",
    "v = vs[0]\n",
    "#v.network().as_dataframe().plot()"
   ]
  },
  {
   "cell_type": "code",
   "execution_count": 10,
   "metadata": {
    "collapsed": false
   },
   "outputs": [
    {
     "name": "stdout",
     "output_type": "stream",
     "text": [
      "1/01/2000 12:00:00 AM\n",
      "31/12/2006 12:00:00 AM\n"
     ]
    }
   ],
   "source": [
    "sDate = v.model.get('scenario.CurrentConfiguration.StartDate')\n",
    "print(sDate)\n",
    "\n",
    "eDate = v.model.get('scenario.CurrentConfiguration.EndDate')\n",
    "print(eDate)\n",
    "\n",
    "#v.run_model()"
   ]
  },
  {
   "cell_type": "code",
   "execution_count": 11,
   "metadata": {
    "collapsed": false,
    "scrolled": true
   },
   "outputs": [
    {
     "data": {
      "text/plain": [
       "[{'type': 'Feature', 'properties': {'name': 'Outlet Node1', 'icon': '/resources/ConfluenceNodeModel', 'feature_type': 'node'}, 'id': '/network/nodes/1', 'geometry': {'type': 'Point', 'coordinates': [388581.15296203, -2647562.2490278]}}]"
      ]
     },
     "execution_count": 11,
     "metadata": {},
     "output_type": "execute_result"
    }
   ],
   "source": [
    "the_network = v.network()\n",
    "outlets = the_network.outlet_nodes()\n",
    "outlets"
   ]
  },
  {
   "cell_type": "code",
   "execution_count": 12,
   "metadata": {
    "collapsed": true
   },
   "outputs": [],
   "source": [
    "def processLinks(theNetwork, allLinkAreas, currentLink, knownDownStreamLinksToUpdate):\n",
    "    \n",
    "    theLinkName = currentLink['properties']['name']\n",
    "    theLinkID = currentLink['id']\n",
    "    \n",
    "    # I think this will actually return a catchment record, not just an ID\n",
    "    theCat = theNetwork['features'].find_by_link(theLinkID)[0]\n",
    "    \n",
    "    #print(theCat)\n",
    "    \n",
    "    thisCatName = theCat['properties']['name']\n",
    "    thisCatArea = theCat['properties']['areaInSquareMeters']\n",
    "    \n",
    "    #print(\"Processing \" + thisCatName + \" with area of \" + str(thisCatArea))\n",
    "    \n",
    "    allLinkAreas[theLinkName] += thisCatArea\n",
    "    \n",
    "    newDSLinksToUpdate = []\n",
    "    for eachDSLink in knownDownStreamLinksToUpdate:\n",
    "        lName = str(eachDSLink)\n",
    "        #print(\"DS Link \" + lName + \" with area of \")\n",
    "        allLinkAreas[lName] += thisCatArea\n",
    "        newDSLinksToUpdate.append(lName)\n",
    "    \n",
    "    # now add the link we've just processed\n",
    "    newDSLinksToUpdate.append(theLinkName)\n",
    "    \n",
    "    #print(\"Link info: \" + str(currentLink))\n",
    "    \n",
    "    fNodeID = currentLink['properties']['from_node']\n",
    "    \n",
    "    #print(\"Node info: \" + fNodeID)\n",
    "    \n",
    "    fNode = the_network['features'].find_by_id(fNodeID)\n",
    "    #print(fNode)\n",
    "    \n",
    "    fNodeName = fNode[0]['properties']['name']\n",
    "    #print(fNodeName)\n",
    "    \n",
    "    ## recurse\n",
    "    #print(the_network.upstream_links(fNode[0]))\n",
    "    for upLink in the_network.upstream_links(fNode[0]):\n",
    "        #tNodeID = upLink['properties']['to_node']\n",
    "        #tNode = the_network['features'].find_by_id(tNodeID)\n",
    "        #print(\"Now processing: \" + upLink['properties']['name'] + \" upstream of \" + tNode[0]['properties']['name'] + \" with initial Region: \" + currentReg)\n",
    "        processLinks(theNetwork, allLinkAreas, upLink, newDSLinksToUpdate)\n",
    "\n",
    "    return"
   ]
  },
  {
   "cell_type": "code",
   "execution_count": 13,
   "metadata": {
    "collapsed": false
   },
   "outputs": [],
   "source": [
    "noRegStr = 'NoReg'\n",
    "gaugeList = ['Outlet Node1']\n",
    "#gaugeList = ['120205A','120206A','120207A','120209A','120212A','120213A','120214A','120219A']\n",
    "\n",
    "# will assign regions to links, pair with subcatchs late\n",
    "all_links = the_network['features'].find_by_feature_type('link')\n",
    "linkAreas = {}\n",
    "\n",
    "## Populate the dictionary of relationships first\n",
    "for link in all_links:\n",
    "    linkAreas[link['properties']['name']] = 0\n",
    "\n",
    "## now process the network\n",
    "for outNode in outlets:\n",
    "    curReg = noRegStr\n",
    "    \n",
    "    #print(outNode.keys())\n",
    "    #print(outNode['properties'].keys())\n",
    "    #print(outNode['properties']['name'])\n",
    "    \n",
    "    thisNodeName = outNode['properties']['name']\n",
    "    \n",
    "    #this will be an empty list, built up for each link as we get to it\n",
    "    downStreamLinksToUpdate = []\n",
    "    \n",
    "    ## now we begin processing\n",
    "    for upLink in the_network.upstream_links(outNode):\n",
    "        processLinks(the_network, linkAreas, upLink, downStreamLinksToUpdate)\n",
    "    "
   ]
  },
  {
   "cell_type": "code",
   "execution_count": 14,
   "metadata": {
    "collapsed": false,
    "scrolled": true
   },
   "outputs": [
    {
     "data": {
      "text/html": [
       "<div>\n",
       "<table border=\"1\" class=\"dataframe\">\n",
       "  <thead>\n",
       "    <tr style=\"text-align: right;\">\n",
       "      <th></th>\n",
       "      <th>LinkName</th>\n",
       "      <th>AreaM2</th>\n",
       "    </tr>\n",
       "  </thead>\n",
       "  <tbody>\n",
       "    <tr>\n",
       "      <th>0</th>\n",
       "      <td>link for catchment SC #3</td>\n",
       "      <td>14516406250</td>\n",
       "    </tr>\n",
       "    <tr>\n",
       "      <th>1</th>\n",
       "      <td>link for catchment SC #2</td>\n",
       "      <td>27716406250</td>\n",
       "    </tr>\n",
       "    <tr>\n",
       "      <th>2</th>\n",
       "      <td>link for catchment SC #4</td>\n",
       "      <td>5306250000</td>\n",
       "    </tr>\n",
       "    <tr>\n",
       "      <th>3</th>\n",
       "      <td>link for catchment SC #1</td>\n",
       "      <td>38858984375</td>\n",
       "    </tr>\n",
       "    <tr>\n",
       "      <th>4</th>\n",
       "      <td>link for catchment SC #5</td>\n",
       "      <td>8604687500</td>\n",
       "    </tr>\n",
       "    <tr>\n",
       "      <th>5</th>\n",
       "      <td>Link #1</td>\n",
       "      <td>0</td>\n",
       "    </tr>\n",
       "  </tbody>\n",
       "</table>\n",
       "</div>"
      ],
      "text/plain": [
       "                   LinkName       AreaM2\n",
       "0  link for catchment SC #3  14516406250\n",
       "1  link for catchment SC #2  27716406250\n",
       "2  link for catchment SC #4   5306250000\n",
       "3  link for catchment SC #1  38858984375\n",
       "4  link for catchment SC #5   8604687500\n",
       "5                   Link #1            0"
      ]
     },
     "execution_count": 14,
     "metadata": {},
     "output_type": "execute_result"
    }
   ],
   "source": [
    "linkAreas_df = pd.DataFrame(list(linkAreas.items()), columns=['LinkName','AreaM2'])\n",
    "linkAreas_df\n",
    "#help(v.network)\n",
    "#help(run_results2)"
   ]
  },
  {
   "cell_type": "code",
   "execution_count": 15,
   "metadata": {
    "collapsed": false
   },
   "outputs": [
    {
     "data": {
      "text/html": [
       "<div>\n",
       "<table border=\"1\" class=\"dataframe\">\n",
       "  <thead>\n",
       "    <tr style=\"text-align: right;\">\n",
       "      <th></th>\n",
       "      <th>areaInSquareMeters</th>\n",
       "      <th>feature_type</th>\n",
       "      <th>from_node_x</th>\n",
       "      <th>geometry</th>\n",
       "      <th>icon_x</th>\n",
       "      <th>link_x</th>\n",
       "      <th>SubCat</th>\n",
       "      <th>to_node_x</th>\n",
       "      <th>id_x</th>\n",
       "      <th>linkarea</th>\n",
       "      <th>link_feat_type</th>\n",
       "      <th>from_node_y</th>\n",
       "      <th>link_geom</th>\n",
       "      <th>icon_y</th>\n",
       "      <th>link_y</th>\n",
       "      <th>link_name</th>\n",
       "      <th>to_node_y</th>\n",
       "      <th>id_y</th>\n",
       "      <th>LinkName</th>\n",
       "      <th>AreaM2</th>\n",
       "    </tr>\n",
       "  </thead>\n",
       "  <tbody>\n",
       "    <tr>\n",
       "      <th>0</th>\n",
       "      <td>1.451641e+10</td>\n",
       "      <td>catchment</td>\n",
       "      <td>NaN</td>\n",
       "      <td>(POLYGON ((300143.65296203 -2787874.7490278, 3...</td>\n",
       "      <td>NaN</td>\n",
       "      <td>/network/link/2</td>\n",
       "      <td>SC #3</td>\n",
       "      <td>NaN</td>\n",
       "      <td>/network/catchments/17</td>\n",
       "      <td>NaN</td>\n",
       "      <td>link</td>\n",
       "      <td>/network/nodes/9</td>\n",
       "      <td>LINESTRING (344831.15296203 -2831312.2490278, ...</td>\n",
       "      <td>NaN</td>\n",
       "      <td>NaN</td>\n",
       "      <td>link for catchment SC #3</td>\n",
       "      <td>/network/nodes/6</td>\n",
       "      <td>/network/link/2</td>\n",
       "      <td>link for catchment SC #3</td>\n",
       "      <td>14516406250</td>\n",
       "    </tr>\n",
       "    <tr>\n",
       "      <th>1</th>\n",
       "      <td>7.893750e+09</td>\n",
       "      <td>catchment</td>\n",
       "      <td>NaN</td>\n",
       "      <td>(POLYGON ((386393.65296203 -2690374.7490278, 3...</td>\n",
       "      <td>NaN</td>\n",
       "      <td>/network/link/1</td>\n",
       "      <td>SC #2</td>\n",
       "      <td>NaN</td>\n",
       "      <td>/network/catchments/26</td>\n",
       "      <td>NaN</td>\n",
       "      <td>link</td>\n",
       "      <td>/network/nodes/6</td>\n",
       "      <td>LINESTRING (387331.15296203 -2811312.2490278, ...</td>\n",
       "      <td>NaN</td>\n",
       "      <td>NaN</td>\n",
       "      <td>link for catchment SC #2</td>\n",
       "      <td>/network/nodes/3</td>\n",
       "      <td>/network/link/1</td>\n",
       "      <td>link for catchment SC #2</td>\n",
       "      <td>27716406250</td>\n",
       "    </tr>\n",
       "    <tr>\n",
       "      <th>2</th>\n",
       "      <td>8.604688e+09</td>\n",
       "      <td>catchment</td>\n",
       "      <td>NaN</td>\n",
       "      <td>(POLYGON ((309518.65296203 -2607874.7490278, 3...</td>\n",
       "      <td>NaN</td>\n",
       "      <td>/network/link/4</td>\n",
       "      <td>SC #5</td>\n",
       "      <td>NaN</td>\n",
       "      <td>/network/catchments/35</td>\n",
       "      <td>NaN</td>\n",
       "      <td>link</td>\n",
       "      <td>/network/nodes/11</td>\n",
       "      <td>LINESTRING (376081.15296203 -2690687.2490278, ...</td>\n",
       "      <td>NaN</td>\n",
       "      <td>NaN</td>\n",
       "      <td>link for catchment SC #5</td>\n",
       "      <td>/network/nodes/3</td>\n",
       "      <td>/network/link/4</td>\n",
       "      <td>link for catchment SC #5</td>\n",
       "      <td>8604687500</td>\n",
       "    </tr>\n",
       "    <tr>\n",
       "      <th>3</th>\n",
       "      <td>5.306250e+09</td>\n",
       "      <td>catchment</td>\n",
       "      <td>NaN</td>\n",
       "      <td>(POLYGON ((350143.65296203 -2735374.7490278, 3...</td>\n",
       "      <td>NaN</td>\n",
       "      <td>/network/link/3</td>\n",
       "      <td>SC #4</td>\n",
       "      <td>NaN</td>\n",
       "      <td>/network/catchments/44</td>\n",
       "      <td>NaN</td>\n",
       "      <td>link</td>\n",
       "      <td>/network/nodes/10</td>\n",
       "      <td>LINESTRING (379206.15296203 -2803187.2490278, ...</td>\n",
       "      <td>NaN</td>\n",
       "      <td>NaN</td>\n",
       "      <td>link for catchment SC #4</td>\n",
       "      <td>/network/nodes/6</td>\n",
       "      <td>/network/link/3</td>\n",
       "      <td>link for catchment SC #4</td>\n",
       "      <td>5306250000</td>\n",
       "    </tr>\n",
       "    <tr>\n",
       "      <th>4</th>\n",
       "      <td>2.537891e+09</td>\n",
       "      <td>catchment</td>\n",
       "      <td>NaN</td>\n",
       "      <td>(POLYGON ((390768.65296203 -2645374.7490278, 3...</td>\n",
       "      <td>NaN</td>\n",
       "      <td>/network/link/0</td>\n",
       "      <td>SC #1</td>\n",
       "      <td>NaN</td>\n",
       "      <td>/network/catchments/53</td>\n",
       "      <td>NaN</td>\n",
       "      <td>link</td>\n",
       "      <td>/network/nodes/3</td>\n",
       "      <td>LINESTRING (384831.15296203 -2690687.2490278, ...</td>\n",
       "      <td>NaN</td>\n",
       "      <td>NaN</td>\n",
       "      <td>link for catchment SC #1</td>\n",
       "      <td>/network/nodes/1</td>\n",
       "      <td>/network/link/0</td>\n",
       "      <td>link for catchment SC #1</td>\n",
       "      <td>38858984375</td>\n",
       "    </tr>\n",
       "  </tbody>\n",
       "</table>\n",
       "</div>"
      ],
      "text/plain": [
       "   areaInSquareMeters feature_type from_node_x  \\\n",
       "0        1.451641e+10    catchment         NaN   \n",
       "1        7.893750e+09    catchment         NaN   \n",
       "2        8.604688e+09    catchment         NaN   \n",
       "3        5.306250e+09    catchment         NaN   \n",
       "4        2.537891e+09    catchment         NaN   \n",
       "\n",
       "                                            geometry icon_x           link_x  \\\n",
       "0  (POLYGON ((300143.65296203 -2787874.7490278, 3...    NaN  /network/link/2   \n",
       "1  (POLYGON ((386393.65296203 -2690374.7490278, 3...    NaN  /network/link/1   \n",
       "2  (POLYGON ((309518.65296203 -2607874.7490278, 3...    NaN  /network/link/4   \n",
       "3  (POLYGON ((350143.65296203 -2735374.7490278, 3...    NaN  /network/link/3   \n",
       "4  (POLYGON ((390768.65296203 -2645374.7490278, 3...    NaN  /network/link/0   \n",
       "\n",
       "  SubCat to_node_x                    id_x  linkarea link_feat_type  \\\n",
       "0  SC #3       NaN  /network/catchments/17       NaN           link   \n",
       "1  SC #2       NaN  /network/catchments/26       NaN           link   \n",
       "2  SC #5       NaN  /network/catchments/35       NaN           link   \n",
       "3  SC #4       NaN  /network/catchments/44       NaN           link   \n",
       "4  SC #1       NaN  /network/catchments/53       NaN           link   \n",
       "\n",
       "         from_node_y                                          link_geom  \\\n",
       "0   /network/nodes/9  LINESTRING (344831.15296203 -2831312.2490278, ...   \n",
       "1   /network/nodes/6  LINESTRING (387331.15296203 -2811312.2490278, ...   \n",
       "2  /network/nodes/11  LINESTRING (376081.15296203 -2690687.2490278, ...   \n",
       "3  /network/nodes/10  LINESTRING (379206.15296203 -2803187.2490278, ...   \n",
       "4   /network/nodes/3  LINESTRING (384831.15296203 -2690687.2490278, ...   \n",
       "\n",
       "  icon_y link_y                 link_name         to_node_y             id_y  \\\n",
       "0    NaN    NaN  link for catchment SC #3  /network/nodes/6  /network/link/2   \n",
       "1    NaN    NaN  link for catchment SC #2  /network/nodes/3  /network/link/1   \n",
       "2    NaN    NaN  link for catchment SC #5  /network/nodes/3  /network/link/4   \n",
       "3    NaN    NaN  link for catchment SC #4  /network/nodes/6  /network/link/3   \n",
       "4    NaN    NaN  link for catchment SC #1  /network/nodes/1  /network/link/0   \n",
       "\n",
       "                   LinkName       AreaM2  \n",
       "0  link for catchment SC #3  14516406250  \n",
       "1  link for catchment SC #2  27716406250  \n",
       "2  link for catchment SC #5   8604687500  \n",
       "3  link for catchment SC #4   5306250000  \n",
       "4  link for catchment SC #1  38858984375  "
      ]
     },
     "execution_count": 15,
     "metadata": {},
     "output_type": "execute_result"
    }
   ],
   "source": [
    "network_df = v.network().as_dataframe()\n",
    "catchdf = network_df[network_df.feature_type=='catchment']\n",
    "linkdf = network_df[network_df.feature_type=='link']\n",
    "\n",
    "catchlinkdf = pd.merge(catchdf, linkdf, how='inner', left_on=['link'], right_on=['id'])\n",
    "catchlinkdf = catchlinkdf.rename(columns={'areaInSquareMeters_y':'linkarea', 'areaInSquareMeters_x':'areaInSquareMeters', 'feature_type_y':'link_feat_type', 'feature_type_x':'feature_type', 'geometry_y':'link_geom', 'geometry_x':'geometry', 'name_y': 'link_name'})\n",
    "\n",
    "catchlinkdfregdf = pd.merge(catchlinkdf, linkAreas_df, how='inner', left_on=['link_name'], right_on=['LinkName'])\n",
    "catchlinkdfregdf = catchlinkdfregdf.rename(columns={'name_x':'SubCat'})\n",
    "catchlinkdfregdf.head(8)"
   ]
  },
  {
   "cell_type": "code",
   "execution_count": 16,
   "metadata": {
    "collapsed": false
   },
   "outputs": [],
   "source": [
    "catchlinkdfregdf.to_csv('C:/Beckers/BecksContribAreas.csv', columns=['SubCat', 'LinkName', 'AreaM2'], index=False)"
   ]
  },
  {
   "cell_type": "code",
   "execution_count": null,
   "metadata": {
    "collapsed": true
   },
   "outputs": [],
   "source": []
  },
  {
   "cell_type": "code",
   "execution_count": 17,
   "metadata": {
    "collapsed": true
   },
   "outputs": [],
   "source": [
    "kill_all_now(processes)"
   ]
  },
  {
   "cell_type": "code",
   "execution_count": null,
   "metadata": {
    "collapsed": true
   },
   "outputs": [],
   "source": []
  }
 ],
 "metadata": {
  "anaconda-cloud": {},
  "kernelspec": {
   "display_name": "Python [default]",
   "language": "python",
   "name": "python3"
  },
  "language_info": {
   "codemirror_mode": {
    "name": "ipython",
    "version": 3
   },
   "file_extension": ".py",
   "mimetype": "text/x-python",
   "name": "python",
   "nbconvert_exporter": "python",
   "pygments_lexer": "ipython3",
   "version": "3.5.2"
  }
 },
 "nbformat": 4,
 "nbformat_minor": 1
}
