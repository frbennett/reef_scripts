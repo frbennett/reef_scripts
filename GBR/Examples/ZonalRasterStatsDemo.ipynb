{
 "cells": [
  {
   "cell_type": "code",
   "execution_count": 1,
   "metadata": {
    "collapsed": false,
    "scrolled": true
   },
   "outputs": [],
   "source": [
    "# This tool will not ensure that pixels and boundaries align\n",
    "# That is the job of the user\n",
    "import pandas\n",
    "import numpy\n",
    "from osgeo import gdal, gdalconst\n",
    "from osgeo import ogr\n",
    "import tempfile\n",
    "import os\n",
    "import sys\n",
    "sys.path.append('../Modules')\n",
    "import zonal_stats_RasterInput\n",
    "import resample_raster\n",
    "#from rasterstats import zonal_stats\n",
    "import matplotlib.pyplot as plt\n",
    "%matplotlib inline\n",
    "\n",
    "#Path to intersected Subcatch/FUs shapefile\n",
    "pathToShapefile = \"D:/MW/spatial_RC7/ExportedCatchments-FUs Intersection.shp\"\n",
    "#pathToShapefile = \"D:/MW/spatial_RC7/mw_intscfu_clean.shp\"\n",
    "#pathToShapefile = \"D:/MW/spatial_RC7/badFUOnly.shp\"\n",
    "\n",
    "uniqueIDField = \"UNQID\"\n",
    "catchmentField = \"IntSCs\"\n",
    "FUField = \"IntFUs\"\n",
    "\n",
    "FUsToInclude = [\"Grazing Open\",\"Grazing Forested\",\"Forestry\",\"Conservation\"]\n",
    "\n",
    "#Path to template raster (probably subcatchments or DEM)\n",
    "rasterTemplateFile = \"D:/MW/spatial_RC7/CreatedSubcats.asc\"\n",
    "\n",
    "#Output intersected Subcat/FU raster\n",
    "#Will get a CSV of same name written 'mapping' each FU to a unique ID (the unique ID will be the raster values)\n",
    "rasterOutputFile = \"D:/MW/spatial_RC7/MW_USLE_IntSubCatFu.tif\"\n",
    "\n",
    "#Path to K raster\n",
    "rasterKFile = \"D:/MW/Ram_USLE/mw_k_fact.asc\"\n",
    "\n",
    "#Path to LS raster\n",
    "rasterLSFile = \"D:/MW/Ram_USLE/mw_ls_fact.asc\"\n",
    "\n",
    "#Path to Fines raster\n",
    "rasterFinesFile = \"D:/MW/Ram_USLE/mw_cs_surf.asc\"\n",
    "\n",
    "#Path to Scald raster\n",
    "rasterScaldFile = \"D:/MW/spatial_RC7/CreatedSubcats.asc\"\n",
    "\n",
    "#Directory of CFactor rasters\n",
    "cFactorDir = \"D:/MW/spatial_RC7\"\n",
    "\n",
    "#declare a couple of variables\n",
    "IntSCFUStr = \"IntSCFU\"\n",
    "MeanKLSCStr = \"Mean_KLSC\"\n",
    "MeanKLSCFinesStr = \"Mean_KLSC_Fines\"\n",
    "MeanKStr = \"Mean_K\"\n",
    "MeanFinesStr = \"Mean_Fines\"\n",
    "MeanCfactStr = \"Mean_CFact\"\n",
    "MeanLSStr = \"Mean_LS\"\n",
    "MeanScaldStr = \"Mean_Scald\"\n",
    "AreaStr = \"Area\"\n",
    "TimeStampStr = \"Time_Stamp\"\n",
    "CellCountStr = \"Cell_Count\"\n",
    "\n",
    "#Directory and filename constants for USLE parameterisation\n",
    "USLE_DIR_KLSC = \"KLSC\";\n",
    "USLE_DIR_KLSCFINE = \"KLSC_Fines\";\n",
    "USLE_DIR_KLSC_CFACT = \"Cfact\";\n",
    "USLE_FILE_KLSC = \"USLE_KLSC_Total\";\n",
    "USLE_FILE_KLSCFINES = \"USLE_KLSC_FinePerc\";\n",
    "USLE_FILE_KLS_CFACT = \"CFactor\";\n",
    "\n",
    "rasterResultsDF = pandas.DataFrame(columns=[IntSCFUStr,TimeStampStr,MeanKLSCStr,MeanKLSCFinesStr,MeanKStr,MeanCfactStr,MeanFinesStr,MeanLSStr,MeanScaldStr,AreaStr,CellCountStr])\n",
    "#rasterResultsDF"
   ]
  },
  {
   "cell_type": "code",
   "execution_count": 2,
   "metadata": {
    "collapsed": false
   },
   "outputs": [
    {
     "data": {
      "text/plain": [
       "(1677868.63051, 30.0, 0.0, -2257960.4690071, 0.0, -30.0)"
      ]
     },
     "execution_count": 2,
     "metadata": {},
     "output_type": "execute_result"
    }
   ],
   "source": [
    "#load the template raster\n",
    "templateRas = gdal.Open(rasterTemplateFile)\n",
    "template_GeoTrans = templateRas.GetGeoTransform()\n",
    "template_GeoTrans"
   ]
  },
  {
   "cell_type": "code",
   "execution_count": 3,
   "metadata": {
    "collapsed": false
   },
   "outputs": [
    {
     "data": {
      "text/plain": [
       "(1672918.63051, 30.0, 0.0, -2251120.4690071, 0.0, -30.0)"
      ]
     },
     "execution_count": 3,
     "metadata": {},
     "output_type": "execute_result"
    }
   ],
   "source": [
    "#Load K factor\n",
    "kFactRas = gdal.Open(rasterKFile)\n",
    "kfact_GeoTrans = kFactRas.GetGeoTransform()\n",
    "kfact_GeoTrans"
   ]
  },
  {
   "cell_type": "code",
   "execution_count": 4,
   "metadata": {
    "collapsed": false
   },
   "outputs": [
    {
     "data": {
      "text/plain": [
       "-9999.0"
      ]
     },
     "execution_count": 4,
     "metadata": {},
     "output_type": "execute_result"
    }
   ],
   "source": [
    "kFactRas.GetRasterBand(1).GetNoDataValue()"
   ]
  },
  {
   "cell_type": "code",
   "execution_count": 5,
   "metadata": {
    "collapsed": false
   },
   "outputs": [
    {
     "name": "stdout",
     "output_type": "stream",
     "text": [
      "Kfactor raster resolution info didn't match template, attempted a resample\n"
     ]
    }
   ],
   "source": [
    "if (kfact_GeoTrans == template_GeoTrans):\n",
    "    print(\"Kfactor raster resolution info matches template, excellent\")\n",
    "else:\n",
    "    print(\"Kfactor raster resolution info didn't match template, attempted a resample\")\n",
    "    kFactRas = resample_raster.resample_raster_to_match_template(templateRas, kFactRas, os.path.join(tempfile.gettempdir(), \"resampledKFact.tif\"))\n",
    "    #kFactRas = resample_raster_to_match_template(templateRas, kFactRas, \"D:/aa/tester.tif\")\n",
    "    kfact_GeoTrans = kFactRas.GetGeoTransform()"
   ]
  },
  {
   "cell_type": "code",
   "execution_count": 6,
   "metadata": {
    "collapsed": false
   },
   "outputs": [
    {
     "name": "stdout",
     "output_type": "stream",
     "text": [
      "Kfactor raster resolution info now matches template, excellent\n"
     ]
    }
   ],
   "source": [
    "if (kfact_GeoTrans == template_GeoTrans):\n",
    "    print(\"Kfactor raster resolution info now matches template, excellent\")\n",
    "    kFactRas = None\n",
    "    kFactRas = gdal.Open(os.path.join(tempfile.gettempdir(), \"resampledKFact.tif\"))\n",
    "    kfact_GeoTrans = kFactRas.GetGeoTransform()\n",
    "else:\n",
    "    print(\"Kfactor raster resolution still not the same as the template, you shouldn't proceed\")\n",
    "#zone_ds = None\n",
    "#print(\"rows: \" + str(kFactRas.RasterYSize) + \" cols: \" + str(kFactRas.RasterXSize))"
   ]
  },
  {
   "cell_type": "code",
   "execution_count": 7,
   "metadata": {
    "collapsed": false
   },
   "outputs": [
    {
     "data": {
      "text/plain": [
       "(1677868.63051, 30.0, 0.0, -2257960.4690071, 0.0, -30.0)"
      ]
     },
     "execution_count": 7,
     "metadata": {},
     "output_type": "execute_result"
    }
   ],
   "source": [
    "#kFactRas.GetRasterBand(1).GetNoDataValue()\n",
    "#templateRas.GetRasterBand(1).GetNoDataValue()\n",
    "\n",
    "# The line below would get the kfactor raster written to disk, but it may not be necessary\n",
    "#kFactRas = None\n",
    "\n",
    "#this stuf to draw up a sample of KFactor, have to chop off heaps of edges so that the range in the colorbar doesn't consider -9999\n",
    "#kFactRasArray = kFactRas.ReadAsArray()\n",
    "#array_chop = kFactRasArray[3500:-3500,1500:-1500]  # chop off the outer specified pixels\n",
    "#plt.imshow(array_chop, interpolation='nearest')\n",
    "#plt.colorbar()\n",
    "#plt.title('K Factor')\n",
    "#plt.show()\n",
    "\n",
    "kfact_GeoTrans"
   ]
  },
  {
   "cell_type": "code",
   "execution_count": 8,
   "metadata": {
    "collapsed": false
   },
   "outputs": [
    {
     "data": {
      "text/plain": [
       "3823"
      ]
     },
     "execution_count": 8,
     "metadata": {},
     "output_type": "execute_result"
    }
   ],
   "source": [
    "#kFactRas.GetRasterBand(1).GetNoDataValue()\n",
    "kFactRas.RasterXSize"
   ]
  },
  {
   "cell_type": "code",
   "execution_count": 9,
   "metadata": {
    "collapsed": false
   },
   "outputs": [
    {
     "data": {
      "text/plain": [
       "8417"
      ]
     },
     "execution_count": 9,
     "metadata": {},
     "output_type": "execute_result"
    }
   ],
   "source": [
    "kFactRas.RasterYSize"
   ]
  },
  {
   "cell_type": "code",
   "execution_count": 10,
   "metadata": {
    "collapsed": false
   },
   "outputs": [
    {
     "data": {
      "text/plain": [
       "1286"
      ]
     },
     "execution_count": 10,
     "metadata": {},
     "output_type": "execute_result"
    }
   ],
   "source": [
    "#Open shapefile\n",
    "basePolys = ogr.Open(pathToShapefile)\n",
    "type(basePolys)\n",
    "nlay = basePolys.GetLayerCount()\n",
    "lyr = basePolys.GetLayer(0)\n",
    "ext = lyr.GetExtent()\n",
    "#nlay\n",
    "#ext\n",
    "lyr.GetFeatureCount()\n",
    "#plt.imshow(lyr)"
   ]
  },
  {
   "cell_type": "code",
   "execution_count": 11,
   "metadata": {
    "collapsed": false
   },
   "outputs": [],
   "source": [
    "featCount = 0\n",
    "for feat in lyr:\n",
    "    ##print(\"Doing something\")\n",
    "    #print(feat.GetFieldAsString(catchmentField) + \" and FU \" + feat.GetFieldAsString(FUField))\n",
    "    featCount += 1\n",
    "    if (featCount == 20):\n",
    "        break"
   ]
  },
  {
   "cell_type": "code",
   "execution_count": 12,
   "metadata": {
    "collapsed": false,
    "scrolled": true
   },
   "outputs": [
    {
     "data": {
      "text/plain": [
       "\"'Grazing Open','Grazing Forested','Forestry','Conservation'\""
      ]
     },
     "execution_count": 12,
     "metadata": {},
     "output_type": "execute_result"
    }
   ],
   "source": [
    "#FUsToInclude = [\"Grazing Open\",\"Grazing Forested\",\"Forestry\"]\n",
    "\n",
    "FUsAsSQL = \"\"\n",
    "count = 0\n",
    "for thisFU in FUsToInclude:\n",
    "    if(count == 0):\n",
    "        FUsAsSQL = \"'\" + thisFU + \"'\"\n",
    "    else:\n",
    "        FUsAsSQL += \",'\" + thisFU + \"'\"\n",
    "    count += 1\n",
    "\n",
    "FUsAsSQL"
   ]
  },
  {
   "cell_type": "code",
   "execution_count": 13,
   "metadata": {
    "collapsed": false
   },
   "outputs": [
    {
     "data": {
      "text/plain": [
       "644"
      ]
     },
     "execution_count": 13,
     "metadata": {},
     "output_type": "execute_result"
    }
   ],
   "source": [
    "lyr.SetAttributeFilter( FUField + \" IN (\" + FUsAsSQL + \")\")\n",
    "lyr.GetFeatureCount()"
   ]
  },
  {
   "cell_type": "code",
   "execution_count": 14,
   "metadata": {
    "collapsed": false
   },
   "outputs": [],
   "source": [
    "##help(templateRas)\n",
    "geo_transform = templateRas.GetGeoTransform()\n",
    "x_min = geo_transform[0]\n",
    "y_max = geo_transform[3]\n",
    "x_max = x_min + geo_transform[1] * templateRas.RasterXSize\n",
    "y_min = y_max + geo_transform[5] * templateRas.RasterYSize\n",
    "x_count = templateRas.RasterXSize\n",
    "y_count = templateRas.RasterYSize\n",
    "pixel_width = geo_transform[1]\n",
    "pixel_height = geo_transform[5]\n",
    "#y_min"
   ]
  },
  {
   "cell_type": "code",
   "execution_count": 15,
   "metadata": {
    "collapsed": false
   },
   "outputs": [
    {
     "data": {
      "text/plain": [
       "0"
      ]
     },
     "execution_count": 15,
     "metadata": {},
     "output_type": "execute_result"
    }
   ],
   "source": [
    "zone_ds = gdal.GetDriverByName(\"GTiff\").Create(rasterOutputFile, x_count, y_count, 1, gdal.GDT_Int32)\n",
    "##Doing MEM did not yield the expected unique vals\n",
    "##zone_ds = gdal.GetDriverByName(\"MEM\").Create(\"\", x_count, y_count, 1, gdal.GDT_Byte)\n",
    "# This was shifting the resulting raster northwards in our Albers stuff\n",
    "#zone_ds.SetGeoTransform((x_min, pixel_width, 0, y_min, 0, pixel_width))\n",
    "zone_ds.SetGeoTransform((x_min, pixel_width, 0, y_max, 0, pixel_height))\n",
    "band = zone_ds.GetRasterBand(1)\n",
    "NoData_value = -9999\n",
    "band.SetNoDataValue(NoData_value)\n",
    "band.FlushCache()\n",
    "gdal.RasterizeLayer(zone_ds, [1], lyr, options=[\"ATTRIBUTE=\" + uniqueIDField])"
   ]
  },
  {
   "cell_type": "code",
   "execution_count": 16,
   "metadata": {
    "collapsed": false
   },
   "outputs": [
    {
     "data": {
      "text/plain": [
       "3823"
      ]
     },
     "execution_count": 16,
     "metadata": {},
     "output_type": "execute_result"
    }
   ],
   "source": [
    "zone_ds.RasterXSize"
   ]
  },
  {
   "cell_type": "code",
   "execution_count": 17,
   "metadata": {
    "collapsed": false
   },
   "outputs": [
    {
     "data": {
      "text/plain": [
       "8417"
      ]
     },
     "execution_count": 17,
     "metadata": {},
     "output_type": "execute_result"
    }
   ],
   "source": [
    "zone_ds.RasterYSize"
   ]
  },
  {
   "cell_type": "code",
   "execution_count": 18,
   "metadata": {
    "collapsed": false
   },
   "outputs": [
    {
     "data": {
      "text/plain": [
       "osgeo.gdal.Dataset"
      ]
     },
     "execution_count": 18,
     "metadata": {},
     "output_type": "execute_result"
    }
   ],
   "source": [
    "##This bit essential to get the raster file written - but could we use it before writing out (and then having to read back in?)\n",
    "##Hopefully not needed if MEM type\n",
    "##zone_ds = None\n",
    "type(zone_ds)"
   ]
  },
  {
   "cell_type": "code",
   "execution_count": 19,
   "metadata": {
    "collapsed": false
   },
   "outputs": [
    {
     "data": {
      "text/plain": [
       "(1677868.63051, 30.0, 0.0, -2257960.4690071, 0.0, -30.0)"
      ]
     },
     "execution_count": 19,
     "metadata": {},
     "output_type": "execute_result"
    }
   ],
   "source": [
    "zone_ds.GetGeoTransform()"
   ]
  },
  {
   "cell_type": "code",
   "execution_count": 20,
   "metadata": {
    "collapsed": false
   },
   "outputs": [],
   "source": [
    "#zonesRasterArray = zone_ds.ReadAsArray()\n",
    "#uniq = numpy.unique(zonesRasterArray)\n",
    "##print(uniq)\n"
   ]
  },
  {
   "cell_type": "code",
   "execution_count": 21,
   "metadata": {
    "collapsed": false,
    "scrolled": true
   },
   "outputs": [],
   "source": [
    "#type(lyr)\n",
    "#stats = zonal_stats(lyr, kFactRas)"
   ]
  },
  {
   "cell_type": "code",
   "execution_count": 22,
   "metadata": {
    "collapsed": false,
    "scrolled": false
   },
   "outputs": [
    {
     "name": "stdout",
     "output_type": "stream",
     "text": [
      "DataRaster NoDataValue: -9999.0\n",
      "ZoneRaster NoDataValue: -9999.0\n",
      "Doing zonal stats on 644 unique zones\n",
      "Ignoring value: -9999\n",
      "Result for feat ZID: 0 Mean: 0.0495116523872 Count: 19682 Min: 0.0256 Max: 0.1045 Sum: 974.488\n",
      "Result for feat ZID: 1 Mean: 0.0515408248334 Count: 37759 Min: 0.0256 Max: 0.0956 Sum: 1946.13\n",
      "Result for feat ZID: 2 Mean: 0.0552034508395 Count: 51070 Min: 0.0335 Max: 0.1045 Sum: 2819.24\n"
     ]
    },
    {
     "ename": "KeyboardInterrupt",
     "evalue": "",
     "output_type": "error",
     "traceback": [
      "\u001b[0;31m---------------------------------------------------------------------------\u001b[0m",
      "\u001b[0;31mKeyboardInterrupt\u001b[0m                         Traceback (most recent call last)",
      "\u001b[0;32m<ipython-input-22-c99eb54a6cee>\u001b[0m in \u001b[0;36m<module>\u001b[0;34m()\u001b[0m\n\u001b[1;32m      1\u001b[0m \u001b[1;31m#K factor zonal stats\u001b[0m\u001b[1;33m\u001b[0m\u001b[1;33m\u001b[0m\u001b[0m\n\u001b[0;32m----> 2\u001b[0;31m \u001b[0mKfact_stats\u001b[0m \u001b[1;33m=\u001b[0m \u001b[0mzonal_stats_RasterInput\u001b[0m\u001b[1;33m.\u001b[0m\u001b[0mzonal_stats\u001b[0m\u001b[1;33m(\u001b[0m\u001b[0mzone_ds\u001b[0m\u001b[1;33m,\u001b[0m \u001b[0mkFactRas\u001b[0m\u001b[1;33m)\u001b[0m\u001b[1;33m\u001b[0m\u001b[0m\n\u001b[0m\u001b[1;32m      3\u001b[0m \u001b[1;31m# Will get 'converting a masked element to nan' error for tiny polygons\u001b[0m\u001b[1;33m\u001b[0m\u001b[1;33m\u001b[0m\u001b[0m\n",
      "\u001b[0;32mD:\\PythonScriptingForGBR\\reef_scripts\\GBR\\Modules\\zonal_stats_RasterInput.py\u001b[0m in \u001b[0;36mzonal_stats\u001b[0;34m(zone_dataset, data_raster)\u001b[0m\n\u001b[1;32m    154\u001b[0m         \u001b[0mstats\u001b[0m\u001b[1;33m.\u001b[0m\u001b[0mappend\u001b[0m\u001b[1;33m(\u001b[0m\u001b[0mfeature_stats\u001b[0m\u001b[1;33m)\u001b[0m\u001b[1;33m\u001b[0m\u001b[0m\n\u001b[1;32m    155\u001b[0m \u001b[1;33m\u001b[0m\u001b[0m\n\u001b[0;32m--> 156\u001b[0;31m         \u001b[0mprint\u001b[0m\u001b[1;33m(\u001b[0m\u001b[1;34m\"Result for feat ZID: \"\u001b[0m \u001b[1;33m+\u001b[0m \u001b[0mstr\u001b[0m\u001b[1;33m(\u001b[0m\u001b[0mzid\u001b[0m\u001b[1;33m)\u001b[0m \u001b[1;33m+\u001b[0m \u001b[1;34m\" Mean: \"\u001b[0m \u001b[1;33m+\u001b[0m \u001b[0mstr\u001b[0m\u001b[1;33m(\u001b[0m\u001b[0mmasked\u001b[0m\u001b[1;33m.\u001b[0m\u001b[0mmean\u001b[0m\u001b[1;33m(\u001b[0m\u001b[1;33m)\u001b[0m\u001b[1;33m)\u001b[0m \u001b[1;33m+\u001b[0m \u001b[1;34m\" Count: \"\u001b[0m \u001b[1;33m+\u001b[0m \u001b[0mstr\u001b[0m\u001b[1;33m(\u001b[0m\u001b[0mmasked\u001b[0m\u001b[1;33m.\u001b[0m\u001b[0mcount\u001b[0m\u001b[1;33m(\u001b[0m\u001b[1;33m)\u001b[0m\u001b[1;33m)\u001b[0m \u001b[1;33m+\u001b[0m \u001b[1;34m\" Min: \"\u001b[0m \u001b[1;33m+\u001b[0m \u001b[0mstr\u001b[0m\u001b[1;33m(\u001b[0m\u001b[0mmasked\u001b[0m\u001b[1;33m.\u001b[0m\u001b[0mmin\u001b[0m\u001b[1;33m(\u001b[0m\u001b[1;33m)\u001b[0m\u001b[1;33m)\u001b[0m \u001b[1;33m+\u001b[0m \u001b[1;34m\" Max: \"\u001b[0m \u001b[1;33m+\u001b[0m \u001b[0mstr\u001b[0m\u001b[1;33m(\u001b[0m\u001b[0mmasked\u001b[0m\u001b[1;33m.\u001b[0m\u001b[0mmax\u001b[0m\u001b[1;33m(\u001b[0m\u001b[1;33m)\u001b[0m\u001b[1;33m)\u001b[0m \u001b[1;33m+\u001b[0m \u001b[1;34m\" Sum: \"\u001b[0m \u001b[1;33m+\u001b[0m \u001b[0mstr\u001b[0m\u001b[1;33m(\u001b[0m\u001b[0mmasked\u001b[0m\u001b[1;33m.\u001b[0m\u001b[0msum\u001b[0m\u001b[1;33m(\u001b[0m\u001b[1;33m)\u001b[0m\u001b[1;33m)\u001b[0m\u001b[1;33m)\u001b[0m\u001b[1;33m\u001b[0m\u001b[0m\n\u001b[0m\u001b[1;32m    157\u001b[0m \u001b[1;33m\u001b[0m\u001b[0m\n\u001b[1;32m    158\u001b[0m         \u001b[0mzonesMasked\u001b[0m \u001b[1;33m=\u001b[0m \u001b[1;32mNone\u001b[0m\u001b[1;33m\u001b[0m\u001b[0m\n",
      "\u001b[0;32mC:\\Program Files\\Anaconda3\\lib\\site-packages\\numpy\\ma\\core.py\u001b[0m in \u001b[0;36mmax\u001b[0;34m(self, axis, out, fill_value, keepdims)\u001b[0m\n\u001b[1;32m   5712\u001b[0m         \u001b[1;31m# No explicit output\u001b[0m\u001b[1;33m\u001b[0m\u001b[1;33m\u001b[0m\u001b[0m\n\u001b[1;32m   5713\u001b[0m         \u001b[1;32mif\u001b[0m \u001b[0mout\u001b[0m \u001b[1;32mis\u001b[0m \u001b[1;32mNone\u001b[0m\u001b[1;33m:\u001b[0m\u001b[1;33m\u001b[0m\u001b[0m\n\u001b[0;32m-> 5714\u001b[0;31m             result = self.filled(fill_value).max(\n\u001b[0m\u001b[1;32m   5715\u001b[0m                 axis=axis, out=out, **kwargs).view(type(self))\n\u001b[1;32m   5716\u001b[0m             \u001b[1;32mif\u001b[0m \u001b[0mresult\u001b[0m\u001b[1;33m.\u001b[0m\u001b[0mndim\u001b[0m\u001b[1;33m:\u001b[0m\u001b[1;33m\u001b[0m\u001b[0m\n",
      "\u001b[0;32mC:\\Program Files\\Anaconda3\\lib\\site-packages\\numpy\\ma\\core.py\u001b[0m in \u001b[0;36mfilled\u001b[0;34m(self, fill_value)\u001b[0m\n\u001b[1;32m   3774\u001b[0m             \u001b[1;32mreturn\u001b[0m \u001b[0mself\u001b[0m\u001b[1;33m.\u001b[0m\u001b[0m_data\u001b[0m\u001b[1;33m\u001b[0m\u001b[0m\n\u001b[1;32m   3775\u001b[0m         \u001b[1;32melse\u001b[0m\u001b[1;33m:\u001b[0m\u001b[1;33m\u001b[0m\u001b[0m\n\u001b[0;32m-> 3776\u001b[0;31m             \u001b[0mresult\u001b[0m \u001b[1;33m=\u001b[0m \u001b[0mself\u001b[0m\u001b[1;33m.\u001b[0m\u001b[0m_data\u001b[0m\u001b[1;33m.\u001b[0m\u001b[0mcopy\u001b[0m\u001b[1;33m(\u001b[0m\u001b[1;34m'K'\u001b[0m\u001b[1;33m)\u001b[0m\u001b[1;33m\u001b[0m\u001b[0m\n\u001b[0m\u001b[1;32m   3777\u001b[0m             \u001b[1;32mtry\u001b[0m\u001b[1;33m:\u001b[0m\u001b[1;33m\u001b[0m\u001b[0m\n\u001b[1;32m   3778\u001b[0m                 \u001b[0mnp\u001b[0m\u001b[1;33m.\u001b[0m\u001b[0mcopyto\u001b[0m\u001b[1;33m(\u001b[0m\u001b[0mresult\u001b[0m\u001b[1;33m,\u001b[0m \u001b[0mfill_value\u001b[0m\u001b[1;33m,\u001b[0m \u001b[0mwhere\u001b[0m\u001b[1;33m=\u001b[0m\u001b[0mm\u001b[0m\u001b[1;33m)\u001b[0m\u001b[1;33m\u001b[0m\u001b[0m\n",
      "\u001b[0;31mKeyboardInterrupt\u001b[0m: "
     ]
    }
   ],
   "source": [
    "#K factor zonal stats\n",
    "Kfact_stats = zonal_stats_RasterInput.zonal_stats(zone_ds, kFactRas)\n",
    "# Will get 'converting a masked element to nan' error for tiny polygons"
   ]
  },
  {
   "cell_type": "code",
   "execution_count": 23,
   "metadata": {
    "collapsed": false
   },
   "outputs": [
    {
     "ename": "NameError",
     "evalue": "name 'Kfact_stats' is not defined",
     "output_type": "error",
     "traceback": [
      "\u001b[0;31m---------------------------------------------------------------------------\u001b[0m",
      "\u001b[0;31mNameError\u001b[0m                                 Traceback (most recent call last)",
      "\u001b[0;32m<ipython-input-23-8ee97603fa12>\u001b[0m in \u001b[0;36m<module>\u001b[0;34m()\u001b[0m\n\u001b[1;32m      4\u001b[0m \u001b[1;33m\u001b[0m\u001b[0m\n\u001b[1;32m      5\u001b[0m \u001b[0mindex\u001b[0m \u001b[1;33m=\u001b[0m \u001b[1;36m0\u001b[0m\u001b[1;33m\u001b[0m\u001b[0m\n\u001b[0;32m----> 6\u001b[0;31m \u001b[1;32mwhile\u001b[0m \u001b[0mindex\u001b[0m \u001b[1;33m<\u001b[0m \u001b[0mlen\u001b[0m\u001b[1;33m(\u001b[0m\u001b[0mKfact_stats\u001b[0m\u001b[1;33m)\u001b[0m\u001b[1;33m:\u001b[0m\u001b[1;33m\u001b[0m\u001b[0m\n\u001b[0m\u001b[1;32m      7\u001b[0m     \u001b[1;32mif\u001b[0m\u001b[1;33m(\u001b[0m\u001b[0mKfact_stats\u001b[0m\u001b[1;33m[\u001b[0m\u001b[0mindex\u001b[0m\u001b[1;33m]\u001b[0m\u001b[1;33m[\u001b[0m\u001b[0muniqueIDField\u001b[0m\u001b[1;33m]\u001b[0m \u001b[1;33m<\u001b[0m \u001b[1;36m25\u001b[0m\u001b[1;33m)\u001b[0m\u001b[1;33m:\u001b[0m\u001b[1;33m\u001b[0m\u001b[0m\n\u001b[1;32m      8\u001b[0m         \u001b[0mprint\u001b[0m\u001b[1;33m(\u001b[0m\u001b[0mstr\u001b[0m\u001b[1;33m(\u001b[0m\u001b[0mKfact_stats\u001b[0m\u001b[1;33m[\u001b[0m\u001b[0mindex\u001b[0m\u001b[1;33m]\u001b[0m\u001b[1;33m[\u001b[0m\u001b[0muniqueIDField\u001b[0m\u001b[1;33m]\u001b[0m\u001b[1;33m)\u001b[0m \u001b[1;33m+\u001b[0m \u001b[1;34m\" KFactor Mean: \"\u001b[0m \u001b[1;33m+\u001b[0m \u001b[0mstr\u001b[0m\u001b[1;33m(\u001b[0m\u001b[0mKfact_stats\u001b[0m\u001b[1;33m[\u001b[0m\u001b[0mindex\u001b[0m\u001b[1;33m]\u001b[0m\u001b[1;33m[\u001b[0m\u001b[1;34m'mean'\u001b[0m\u001b[1;33m]\u001b[0m\u001b[1;33m)\u001b[0m \u001b[1;33m+\u001b[0m \u001b[1;34m\" Count: \"\u001b[0m \u001b[1;33m+\u001b[0m \u001b[0mstr\u001b[0m\u001b[1;33m(\u001b[0m\u001b[0mKfact_stats\u001b[0m\u001b[1;33m[\u001b[0m\u001b[0mindex\u001b[0m\u001b[1;33m]\u001b[0m\u001b[1;33m[\u001b[0m\u001b[1;34m'count'\u001b[0m\u001b[1;33m]\u001b[0m\u001b[1;33m)\u001b[0m\u001b[1;33m)\u001b[0m\u001b[1;33m\u001b[0m\u001b[0m\n",
      "\u001b[0;31mNameError\u001b[0m: name 'Kfact_stats' is not defined"
     ]
    }
   ],
   "source": [
    "kFactRas = None\n",
    "#lsFactRas = None\n",
    "#FinesRas = None\n",
    "\n",
    "index = 0\n",
    "while index < len(Kfact_stats):\n",
    "    if(Kfact_stats[index][uniqueIDField] < 25):\n",
    "        print(str(Kfact_stats[index][uniqueIDField]) + \" KFactor Mean: \" + str(Kfact_stats[index]['mean']) + \" Count: \" + str(Kfact_stats[index]['count']))\n",
    "        #print(str(LSfact_stats[index][uniqueIDField]) + \" LS Mean: \" + str(LSfact_stats[index]['mean']) + \" Count: \" + str(LSfact_stats[index]['count']))\n",
    "        #print(str(Fines_stats[index][uniqueIDField]) + \" Fines Mean: \" + str(Fines_stats[index]['mean']) + \" Count: \" + str(Fines_stats[index]['count']))\n",
    "        break\n",
    "    \n",
    "    index += 1"
   ]
  }
 ],
 "metadata": {
  "anaconda-cloud": {},
  "kernelspec": {
   "display_name": "Python [default]",
   "language": "python",
   "name": "python3"
  }
 },
 "nbformat": 4,
 "nbformat_minor": 0
}
