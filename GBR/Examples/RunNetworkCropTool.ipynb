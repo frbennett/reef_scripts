{
 "cells": [
  {
   "cell_type": "code",
   "execution_count": 1,
   "metadata": {
    "collapsed": false
   },
   "outputs": [],
   "source": [
    "# Some steps required until these Python modules are properly installed...\n",
    "import sys\n",
    "sys.path.append('../Modules')\n",
    "sys.path.append('../../../../veneer-py')\n",
    "# Get the Source scripting components (veneer) and GBR specific stuff\n",
    "import gbr"
   ]
  },
  {
   "cell_type": "code",
   "execution_count": 2,
   "metadata": {
    "collapsed": true
   },
   "outputs": [],
   "source": [
    "# Point the system at a particular output directory...\n",
    "gbr.init('P:/projects/RC7_Results/MW_Stuff/veneer_outputs/')"
   ]
  },
  {
   "cell_type": "code",
   "execution_count": 3,
   "metadata": {
    "collapsed": true
   },
   "outputs": [],
   "source": [
    "# Initialise the Veneer (Source scripting tool)\n",
    "v = gbr.veneer()"
   ]
  },
  {
   "cell_type": "code",
   "execution_count": 4,
   "metadata": {
    "collapsed": false
   },
   "outputs": [
    {
     "data": {
      "text/plain": [
       "['link for catchment SC #1',\n",
       " 'link for catchment SC #2',\n",
       " 'link for catchment SC #3',\n",
       " 'link for catchment SC #4',\n",
       " 'link for catchment SC #5',\n",
       " 'link for catchment SC #6',\n",
       " 'link for catchment SC #7',\n",
       " 'link for catchment SC #8',\n",
       " 'link for catchment SC #9',\n",
       " 'link for catchment SC #10',\n",
       " 'link for catchment SC #11',\n",
       " 'link for catchment SC #12',\n",
       " 'link for catchment SC #13',\n",
       " 'link for catchment SC #14',\n",
       " 'link for catchment SC #15',\n",
       " 'link for catchment SC #16',\n",
       " 'link for catchment SC #17',\n",
       " 'link for catchment SC #18',\n",
       " 'link for catchment SC #19',\n",
       " 'link for catchment SC #20',\n",
       " 'link for catchment SC #21',\n",
       " 'link for catchment SC #22',\n",
       " 'link for catchment SC #23',\n",
       " 'link for catchment SC #24',\n",
       " 'link for catchment SC #25',\n",
       " 'link for catchment SC #26',\n",
       " 'link for catchment SC #27',\n",
       " 'link for catchment SC #28',\n",
       " 'link for catchment SC #29',\n",
       " 'link for catchment SC #30',\n",
       " 'link for catchment SC #31',\n",
       " 'link for catchment SC #32',\n",
       " 'link for catchment SC #33',\n",
       " 'link for catchment SC #34',\n",
       " 'link for catchment SC #35',\n",
       " 'link for catchment SC #36',\n",
       " 'link for catchment SC #37',\n",
       " 'link for catchment SC #38',\n",
       " 'link for catchment SC #39',\n",
       " 'link for catchment SC #40',\n",
       " 'link for catchment SC #41',\n",
       " 'link for catchment SC #42',\n",
       " 'link for catchment SC #43',\n",
       " 'link for catchment SC #44',\n",
       " 'link for catchment SC #45',\n",
       " 'link for catchment SC #46',\n",
       " 'link for catchment SC #47',\n",
       " 'link for catchment SC #48',\n",
       " 'link for catchment SC #49',\n",
       " 'link for catchment SC #50',\n",
       " 'link for catchment SC #51',\n",
       " 'link for catchment SC #52',\n",
       " 'link for catchment SC #53',\n",
       " 'link for catchment SC #54',\n",
       " 'link for catchment SC #55',\n",
       " 'link for catchment SC #56',\n",
       " 'link for catchment SC #57',\n",
       " 'link for catchment SC #58',\n",
       " 'link for catchment SC #59',\n",
       " 'link for catchment SC #60',\n",
       " 'link for catchment SC #61',\n",
       " 'link for catchment SC #62',\n",
       " 'link for catchment SC #63',\n",
       " 'link for catchment SC #64',\n",
       " 'link for catchment SC #65',\n",
       " 'link for catchment SC #66',\n",
       " 'link for catchment SC #67',\n",
       " 'link for catchment SC #68',\n",
       " 'link for catchment SC #69',\n",
       " 'link for catchment SC #70',\n",
       " 'link for catchment SC #71',\n",
       " 'link for catchment SC #72',\n",
       " 'link for catchment SC #73',\n",
       " 'link for catchment SC #74',\n",
       " 'link for catchment SC #75',\n",
       " 'link for catchment SC #76',\n",
       " 'link for catchment SC #77',\n",
       " 'link for catchment SC #78',\n",
       " 'link for catchment SC #79',\n",
       " 'link for catchment SC #80',\n",
       " 'link for catchment SC #81',\n",
       " 'link for catchment SC #82',\n",
       " 'link for catchment SC #83',\n",
       " 'link for catchment SC #84',\n",
       " 'link for catchment SC #85',\n",
       " 'link for catchment SC #86',\n",
       " 'link for catchment SC #87',\n",
       " 'link for catchment SC #88',\n",
       " 'link for catchment SC #89',\n",
       " 'link for catchment SC #90',\n",
       " 'link for catchment SC #91',\n",
       " 'link for catchment SC #92',\n",
       " 'link for catchment SC #93',\n",
       " 'link for catchment SC #94',\n",
       " 'link for catchment SC #95',\n",
       " 'link for catchment SC #96',\n",
       " 'link for catchment SC #97',\n",
       " 'link for catchment SC #98',\n",
       " 'link for catchment SC #99',\n",
       " 'link for catchment SC #100',\n",
       " 'link for catchment SC #101',\n",
       " 'link for catchment SC #102',\n",
       " 'link for catchment SC #103',\n",
       " 'link for catchment SC #104',\n",
       " 'link for catchment SC #105',\n",
       " 'link for catchment SC #106',\n",
       " 'link for catchment SC #107',\n",
       " 'link for catchment SC #108',\n",
       " 'link for catchment SC #109',\n",
       " 'link for catchment SC #110',\n",
       " 'link for catchment SC #111',\n",
       " 'downstream_MultiFarm_gauge1260092',\n",
       " 'link for catchment SC #113',\n",
       " 'link for catchment SC #114',\n",
       " 'link for catchment SC #115',\n",
       " 'link for catchment SC #116',\n",
       " 'link for catchment SC #117',\n",
       " 'link for catchment SC #118',\n",
       " 'link for catchment SC #119',\n",
       " 'link for catchment SC #120',\n",
       " 'link for catchment SC #121',\n",
       " 'link for catchment SC #122',\n",
       " 'link for catchment SC #123',\n",
       " 'link for catchment SC #124',\n",
       " 'link for catchment SC #125',\n",
       " 'link for catchment SC #126',\n",
       " 'link for catchment SC #127',\n",
       " 'link for catchment SC #128',\n",
       " 'link for catchment SC #129',\n",
       " 'link for catchment SC #130',\n",
       " 'link for catchment SC #131',\n",
       " 'link for catchment SC #132',\n",
       " 'link for catchment SC #133',\n",
       " 'link for catchment SC #134',\n",
       " 'link for catchment SC #135',\n",
       " 'link for catchment SC #136',\n",
       " 'link for catchment SC #137',\n",
       " 'link for catchment SC #138',\n",
       " 'link for catchment SC #139',\n",
       " 'link for catchment SC #140',\n",
       " 'link for catchment SC #141',\n",
       " 'link for catchment SC #142',\n",
       " 'link for catchment SC #143',\n",
       " 'link for catchment SC #144',\n",
       " 'link for catchment SC #145',\n",
       " 'link for catchment SC #146',\n",
       " 'link for catchment SC #147',\n",
       " 'link for catchment SC #148',\n",
       " 'link for catchment SC #149',\n",
       " 'link for catchment SC #150',\n",
       " 'link for catchment SC #151',\n",
       " 'link for catchment SC #152',\n",
       " 'link for catchment SC #153',\n",
       " 'link for catchment SC #154',\n",
       " 'link for catchment SC #155',\n",
       " 'link for catchment SC #156',\n",
       " 'link for catchment SC #157',\n",
       " 'link for catchment SC #158',\n",
       " 'link for catchment SC #159',\n",
       " 'link for catchment SC #160',\n",
       " 'link for catchment SC #161',\n",
       " 'link for catchment SC #162',\n",
       " 'link for catchment SC #163',\n",
       " 'link for catchment SC #164',\n",
       " 'link for catchment SC #165',\n",
       " 'link for catchment SC #90165',\n",
       " 'link for catchment SC #90166',\n",
       " 'link for catchment SC #90167',\n",
       " 'link for catchment SC #90168',\n",
       " 'link for catchment SC #90169',\n",
       " 'link for catchment SC #90170',\n",
       " 'link for catchment SC #90171',\n",
       " 'link for catchment SC #90172',\n",
       " 'link for catchment SC #90173',\n",
       " 'link for catchment SC #90174',\n",
       " 'link for catchment SC #90175',\n",
       " 'link for catchment SC #90176',\n",
       " 'link for catchment SC #90177',\n",
       " 'link for catchment SC #90178',\n",
       " 'link for catchment SC #90179',\n",
       " 'link for catchment SC #90180',\n",
       " 'link for catchment SC #90181',\n",
       " 'link for catchment SC #90198',\n",
       " 'link for catchment SC #90199',\n",
       " 'link for catchment SC #90182',\n",
       " 'link for catchment SC #90183',\n",
       " 'link for catchment SC #90184',\n",
       " 'link for catchment SC #90185',\n",
       " 'link for catchment SC #90186',\n",
       " 'link for catchment SC #90187',\n",
       " 'link for catchment SC #90188',\n",
       " 'link for catchment SC #90200',\n",
       " 'link for catchment SC #90189',\n",
       " 'link for catchment SC #90190',\n",
       " 'link for catchment SC #90201',\n",
       " 'link for catchment SC #90191',\n",
       " 'link for catchment SC #90192',\n",
       " 'link for catchment SC #90193',\n",
       " 'link for catchment SC #90202',\n",
       " 'link for catchment SC #90194',\n",
       " 'link for catchment SC #90195',\n",
       " 'link for catchment SC #90196',\n",
       " 'link for catchment SC #90197',\n",
       " 'Link #1',\n",
       " 'Link #2',\n",
       " 'Link #3',\n",
       " 'Link #4',\n",
       " 'Link #5',\n",
       " 'Link #6',\n",
       " 'Link #7',\n",
       " 'Link #8',\n",
       " 'Link #9',\n",
       " 'Link #10',\n",
       " 'Link #11']"
      ]
     },
     "execution_count": 4,
     "metadata": {},
     "output_type": "execute_result"
    }
   ],
   "source": [
    "v.model.get('scenario.Network.Links.*Name')"
   ]
  },
  {
   "cell_type": "code",
   "execution_count": null,
   "metadata": {
    "collapsed": true
   },
   "outputs": [],
   "source": []
  },
  {
   "cell_type": "code",
   "execution_count": 9,
   "metadata": {
    "collapsed": true
   },
   "outputs": [],
   "source": [
    "script=\"\"\"\n",
    "from Dynamic_SedNet.Tools.Utilities import TrimNetworkOfLinks_Form\n",
    "form = TrimNetworkOfLinks_Form()\n",
    "form.Scenario = scenario\n",
    "#link = scenario.Network.LinkWithName('%s')\n",
    "form.clipLinkCmbo.Text = '%s'\n",
    "#form.ExtractUpstreamOf(link)\n",
    "form.clipBtn_Click(null, null)\n",
    "\"\"\""
   ]
  },
  {
   "cell_type": "code",
   "execution_count": 10,
   "metadata": {
    "collapsed": false
   },
   "outputs": [
    {
     "ename": "TypeError",
     "evalue": "not enough arguments for format string",
     "output_type": "error",
     "traceback": [
      "\u001b[0;31m---------------------------------------------------------------------------\u001b[0m",
      "\u001b[0;31mTypeError\u001b[0m                                 Traceback (most recent call last)",
      "\u001b[0;32m<ipython-input-10-9c00459b472c>\u001b[0m in \u001b[0;36m<module>\u001b[0;34m()\u001b[0m\n\u001b[0;32m----> 1\u001b[0;31m \u001b[0mv\u001b[0m\u001b[1;33m.\u001b[0m\u001b[0mmodel\u001b[0m\u001b[1;33m.\u001b[0m\u001b[0mrunScript\u001b[0m\u001b[1;33m(\u001b[0m\u001b[0mscript\u001b[0m\u001b[1;33m%\u001b[0m\u001b[1;34m'link for catchment SC #102'\u001b[0m\u001b[1;33m)\u001b[0m\u001b[1;33m\u001b[0m\u001b[0m\n\u001b[0m",
      "\u001b[0;31mTypeError\u001b[0m: not enough arguments for format string"
     ]
    }
   ],
   "source": [
    "v.model.runScript(script%'link for catchment SC #102')"
   ]
  },
  {
   "cell_type": "code",
   "execution_count": null,
   "metadata": {
    "collapsed": true
   },
   "outputs": [],
   "source": []
  },
  {
   "cell_type": "code",
   "execution_count": null,
   "metadata": {
    "collapsed": true
   },
   "outputs": [],
   "source": []
  }
 ],
 "metadata": {
  "anaconda-cloud": {},
  "kernelspec": {
   "display_name": "Python [default]",
   "language": "python",
   "name": "python3"
  },
  "language_info": {
   "codemirror_mode": {
    "name": "ipython",
    "version": 3
   },
   "file_extension": ".py",
   "mimetype": "text/x-python",
   "name": "python",
   "nbconvert_exporter": "python",
   "pygments_lexer": "ipython3",
   "version": "3.5.2"
  }
 },
 "nbformat": 4,
 "nbformat_minor": 0
}
