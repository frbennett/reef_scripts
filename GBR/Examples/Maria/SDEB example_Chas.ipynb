{
 "cells": [
  {
   "cell_type": "markdown",
   "metadata": {},
   "source": [
    "## Calculation of the SDEB (Square-root Daily Exceedance and Bias) objective function"
   ]
  },
  {
   "cell_type": "code",
   "execution_count": 35,
   "metadata": {
    "collapsed": true
   },
   "outputs": [],
   "source": [
    "# This objective function combines multiple terms to try to simultaneously achieve good fits in\n",
    "#    - overall bias\n",
    "#    - daily flows\n",
    "#    - daily exceedance statistics\n",
    "\n",
    "# It is particularly well-suited for Rainfall-Runoff model calibration. \n",
    "# One of the nice things about it is that it doesn't have any free parameters."
   ]
  },
  {
   "cell_type": "code",
   "execution_count": 36,
   "metadata": {
    "collapsed": true
   },
   "outputs": [],
   "source": [
    "# Generate some dummy data for this example\n",
    "import math\n",
    "import numpy as np\n",
    "import random\n",
    "observed_flow = []\n",
    "modelled_flow = []\n",
    "npoints = 1000\n",
    "for i in range(npoints):    \n",
    "    #add some random observed value\n",
    "    observed_flow.append(100 * random.random())\n",
    "    #but every now and then replace it with NAN so our data has some missing values\n",
    "    if (random.random() < 0.05):        \n",
    "        observed_flow[i] = float('nan')\n",
    "    #add some random modelled value\n",
    "    modelled_flow.append(100 * random.random())"
   ]
  },
  {
   "cell_type": "code",
   "execution_count": 37,
   "metadata": {
    "collapsed": false
   },
   "outputs": [
    {
     "name": "stdout",
     "output_type": "stream",
     "text": [
      "1000\n",
      "1000\n"
     ]
    }
   ],
   "source": [
    "print(len(modelled_flow))\n",
    "print(len(observed_flow))"
   ]
  },
  {
   "cell_type": "code",
   "execution_count": 38,
   "metadata": {
    "collapsed": false
   },
   "outputs": [
    {
     "data": {
      "text/plain": [
       "944"
      ]
     },
     "execution_count": 38,
     "metadata": {},
     "output_type": "execute_result"
    }
   ],
   "source": [
    "#the first thing to do is filter out all the missing data from both datasets\n",
    "observed_nomissing = []\n",
    "modelled_nomissing = []\n",
    "npoints_nomissing = 0\n",
    "for i in range(npoints):\n",
    "    if (not math.isnan(observed_flow[i])):\n",
    "        observed_nomissing.append(observed_flow[i])\n",
    "        modelled_nomissing.append(modelled_flow[i])\n",
    "        npoints_nomissing = npoints_nomissing + 1\n",
    "        \n",
    "npoints_nomissing"
   ]
  },
  {
   "cell_type": "code",
   "execution_count": 39,
   "metadata": {
    "collapsed": false
   },
   "outputs": [
    {
     "data": {
      "text/plain": [
       "1.052727095671755"
      ]
     },
     "execution_count": 39,
     "metadata": {},
     "output_type": "execute_result"
    }
   ],
   "source": [
    "#now calculate the bias term\n",
    "total_obs = 0\n",
    "total_mod = 0\n",
    "for i in range(npoints_nomissing):\n",
    "    total_obs += observed_nomissing[i]\n",
    "    total_mod += modelled_nomissing[i]\n",
    "        \n",
    "bias_term = 1 + abs((total_mod - total_obs)/total_obs)\n",
    "bias_term"
   ]
  },
  {
   "cell_type": "code",
   "execution_count": 40,
   "metadata": {
    "collapsed": false
   },
   "outputs": [
    {
     "data": {
      "text/plain": [
       "10853.748540582075"
      ]
     },
     "execution_count": 40,
     "metadata": {},
     "output_type": "execute_result"
    }
   ],
   "source": [
    "#now calculate the daily term\n",
    "daily_term = 0\n",
    "for i in range(npoints_nomissing):\n",
    "    temp = math.sqrt(observed_nomissing[i]) - math.sqrt(modelled_nomissing[i])\n",
    "    daily_term = daily_term + temp * temp\n",
    "    \n",
    "daily_term"
   ]
  },
  {
   "cell_type": "code",
   "execution_count": 47,
   "metadata": {
    "collapsed": false
   },
   "outputs": [
    {
     "data": {
      "text/plain": [
       "63.46312316981347"
      ]
     },
     "execution_count": 47,
     "metadata": {},
     "output_type": "execute_result"
    }
   ],
   "source": [
    "#now sort the data and calculate the exceedance term\n",
    "#the form is similar to teh daily term\n",
    "sorted_observed_nomissing = observed_nomissing[:]\n",
    "sorted_modelled_nomissing = modelled_nomissing[:]\n",
    "sorted_observed_nomissing.sort()\n",
    "sorted_modelled_nomissing.sort()\n",
    "exceedance_term = 0\n",
    "for i in range(npoints_nomissing):\n",
    "    temp = math.sqrt(sorted_observed_nomissing[i]) - math.sqrt(sorted_modelled_nomissing[i])\n",
    "    exceedance_term = exceedance_term + temp * temp\n",
    "    \n",
    "exceedance_term"
   ]
  },
  {
   "cell_type": "code",
   "execution_count": 49,
   "metadata": {
    "collapsed": false
   },
   "outputs": [
    {
     "data": {
      "text/plain": [
       "1202.7319322309866"
      ]
     },
     "execution_count": 49,
     "metadata": {},
     "output_type": "execute_result"
    }
   ],
   "source": [
    "#and finally combine the terms in this special way to get the overall objective function value\n",
    "#That value is what you want to minimize by optimization.\n",
    "#This is what Rob calls the superobjective function.\n",
    "SDEB = (0.1 * daily_term + 0.9 * exceedance_term) * bias_term\n",
    "SDEB"
   ]
  },
  {
   "cell_type": "code",
   "execution_count": null,
   "metadata": {
    "collapsed": true
   },
   "outputs": [],
   "source": [
    "#We did play with an additional term to try to force the baseflow fraction to a target value. \n",
    "#That the the purpose of the GAGA program. Then it is effectively modified like this:\n",
    "#SDEB = (0.1 * daily_term + 0.9 * exceedance_term) * bias_term * baseflow_term\n",
    "#but I would start without the baseflow stuff and see how you get on."
   ]
  }
 ],
 "metadata": {
  "kernelspec": {
   "display_name": "Python 3",
   "language": "python",
   "name": "python3"
  },
  "language_info": {
   "codemirror_mode": {
    "name": "ipython",
    "version": 3
   },
   "file_extension": ".py",
   "mimetype": "text/x-python",
   "name": "python",
   "nbconvert_exporter": "python",
   "pygments_lexer": "ipython3",
   "version": "3.5.1"
  }
 },
 "nbformat": 4,
 "nbformat_minor": 2
}
