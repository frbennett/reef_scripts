{
 "cells": [
  {
   "cell_type": "markdown",
   "metadata": {},
   "source": [
    "Blah de blah"
   ]
  },
  {
   "cell_type": "code",
   "execution_count": 65,
   "metadata": {
    "scrolled": true
   },
   "outputs": [],
   "source": [
    "# This tool will not ensure that pixels and boundaries align\n",
    "# That is the job of the user\n",
    "# Must be operating as dev account\n",
    "import pandas\n",
    "import numpy\n",
    "from osgeo import gdal, gdalconst\n",
    "from osgeo import ogr\n",
    "import gc\n",
    "import tempfile\n",
    "import datetime\n",
    "import dateutil\n",
    "import time\n",
    "import os\n",
    "import sys\n",
    "import ipyparallel as ipp\n",
    "#from joblib import Parallel, delayed\n",
    "#import multiprocessing\n",
    "sys.path.append('..\\\\Modules')\n",
    "#import usle_cfactor_analysis\n",
    "#import zonal_stats_ForLayerObject\n",
    "import resample_raster\n",
    "#from rasterstats import zonal_stats\n",
    "#import matplotlib.pyplot as plt\n",
    "#%matplotlib inline\n",
    "\n",
    "#Path to intersected Subcatch/FUs shapefile\n",
    "pathToShapefile = r\"P:\\projects\\ReefProgrammeData1920\\Grazing\\BU\\BU_IntSCFU2019_GrzChgOnly.shp\"\n",
    "#pathToShapefile = r\"P:\\projects\\ReefProgrammeData1920\\Grazing\\BU\\TestData\\BU_IntSCFU2019_SC1386.shp\"\n",
    "\n",
    "#parentCSVOutputDir = r\"P:\\projects\\ReefProgrammeData1920\\Grazing\\BU\\TestData\\Python\\ChangeFiles1386\"\n",
    "#parentCSVOutputDir = r\"P:\\projects\\ReefProgrammeData1920\\Grazing\\BU\\TestData\\Python\\ChangeFiles\"\n",
    "parentCSVOutputDir = r\"P:\\projects\\ReefProgrammeData1920\\Grazing\\BU\\TestData\\Python\\BaselineFiles\"\n",
    "\n",
    "uniqueIDField = \"IntSCFU\"\n",
    "catchmentField = \"IntSCs\"\n",
    "FUField = \"IntFUs\"\n",
    "\n",
    "FUsToInclude = [\"Grazing Open\",\"Grazing Forested\"]\n",
    "\n",
    "#Path to template raster (probably subcatchments or DEM)\n",
    "rasterTemplateFile = r\"P:\\projects\\Reefscape\\SRTM_H_1SEC_30M_REGIONAL\\BU\\final_network_creation\\bucatch30m.asc\"\n",
    "#rasterTemplateFile = r\"P:\\projects\\ReefProgrammeData1920\\Grazing\\BU\\TestData\\busc1386.tif\"\n",
    "\n",
    "#Output intersected Subcat/FU raster\n",
    "#Will get a CSV of same name written 'mapping' each FU to a unique ID (the unique ID will be the raster values)\n",
    "#rasterOutputFile = r\"P:\\projects\\ReefProgrammeData1920\\Grazing\\BU\\TestData\\Python\\BU_USLE_IntSubCatFu.tif\"\n",
    "rasterOutputFile = os.path.join(tempfile.gettempdir(), \"BU_USLE_IntSubCatFu.tif\")\n",
    "\n",
    "#Path to K raster\n",
    "rasterKFile = r\"P:\\projects\\ReefProgrammeData1920\\Grazing\\BU\\TestData\\ksr.asc\"\n",
    "#rasterKFile = r\"P:\\projects\\ReefProgrammeData1920\\Grazing\\BU\\TestData\\ksr1386.tif\"\n",
    "\n",
    "##Path to LS raster\n",
    "#rasterLSFile =r\"C:\\DDrive\\MW\\v450projs\\Ram\\mw_ls_fact.tif\"\n",
    "\n",
    "#Path to Fines raster\n",
    "rasterFinesFile = r\"P:\\projects\\ReefProgrammeData1920\\Grazing\\BU\\TestData\\cssurf.asc\"\n",
    "#rasterFinesFile = r\"P:\\projects\\ReefProgrammeData1920\\Grazing\\BU\\TestData\\cssurf1386.tif\"\n",
    "\n",
    "#Path to Scald raster\n",
    "#rasterScaldFile = r\"C:\\DDrive\\MW\\v450projs\\Ram\\Exported Catchments Raster.asc\"\n",
    "\n",
    "#Path to Cfactor directory\n",
    "cFactorDIR = r\"P:\\projects\\ReefProgrammeData1920\\Grazing\\BU\\TestData\\CFactor\"\n",
    "#cFactorDIR = r\"P:\\projects\\ReefProgrammeData1920\\Grazing\\BU\\TestData\\OneCFactor\"\n",
    "\n",
    "#Path to C-factor Change Mask shapefile\n",
    "performChange = False\n",
    "pathToChangeMask = r\"P:\\projects\\ReefProgrammeData1920\\Grazing\\BU\\BU_RC11_Cfact_change_mask1920.shp\"\n",
    "#pathToChangeMask = r\"P:\\projects\\ReefProgrammeData1920\\Grazing\\BU\\TestData\\BU_RC11_ChgMask_SC1386.shp\"\n",
    "#pathToChangeRasterOutputs = r\"P:\\projects\\ReefProgrammeData1920\\Grazing\\BU\\TestData\\Python\"\n",
    "ParamA = \"NonLinearA\"\n",
    "ParamB = \"NonLinearB\"\n",
    "\n",
    "#Cfactor extension\n",
    "cFactExt = \"tif\"\n",
    "\n",
    "#cFactor Date naming pattern\n",
    "cFactPattern = \"xxxyyyymm\"\n",
    "\n",
    "monthToSeasonOffsets = {1:-1, 2:-2, 3:0, 4:-1, 5:-2, 6:0, 7:-1, 8:-2, 9:0, 10:-1, 11:-2, 12:0}\n",
    "\n",
    "#More Cfact settings\n",
    "defaultCfact = 0.05\n",
    "reqdValidProp = 0.20\n",
    "\n",
    "#declare a couple of variables\n",
    "IntSCFUStr = \"IntSCFU\"\n",
    "MeanKLSCStr = \"Mean_KLSC\"\n",
    "MeanKLSCFinesStr = \"Mean_KLSC_Fines\"\n",
    "MeanKStr = \"Mean_K\"\n",
    "MeanFinesStr = \"Mean_Fines\"\n",
    "MeanCfactStr = \"Mean_CFact\"\n",
    "MeanLSStr = \"Mean_LS\"\n",
    "MeanScaldStr = \"Mean_Scald\"\n",
    "AreaStr = \"Area\"\n",
    "TimeStampStr = \"Time_Stamp\"\n",
    "CellCountStr = \"Cell_Count\"\n",
    "\n",
    "#Directory and filename constants for USLE parameterisation\n",
    "USLE_DIR_KLSC = \"KLSC\";\n",
    "USLE_DIR_KLSCFINE = \"KLSC_Fines\";\n",
    "USLE_DIR_KLSC_CFACT = \"Cfact\";\n",
    "USLE_FILE_KLSC = \"USLE_KLSC_Total\";\n",
    "USLE_FILE_KLSCFINES = \"USLE_KLSC_FinePerc\";\n",
    "USLE_FILE_KLS_CFACT = \"CFactor\";\n",
    "\n",
    "rasterResultsDF = pandas.DataFrame(columns=[IntSCFUStr,TimeStampStr,MeanKLSCStr,MeanKLSCFinesStr,MeanKStr,MeanCfactStr,MeanFinesStr,MeanLSStr,MeanScaldStr,AreaStr,CellCountStr])\n",
    "#rasterResultsDF\n",
    "\n",
    "csvDirs = ['CFact','KLSC','KLSC_Fines']"
   ]
  },
  {
   "cell_type": "code",
   "execution_count": 66,
   "metadata": {},
   "outputs": [
    {
     "name": "stdout",
     "output_type": "stream",
     "text": [
      "Made dir: P:\\projects\\ReefProgrammeData1920\\Grazing\\BU\\TestData\\Python\\BaselineFiles\n",
      "Made dir: P:\\projects\\ReefProgrammeData1920\\Grazing\\BU\\TestData\\Python\\BaselineFiles\\CFact\n",
      "Made dir: P:\\projects\\ReefProgrammeData1920\\Grazing\\BU\\TestData\\Python\\BaselineFiles\\KLSC\n",
      "Made dir: P:\\projects\\ReefProgrammeData1920\\Grazing\\BU\\TestData\\Python\\BaselineFiles\\KLSC_Fines\n"
     ]
    }
   ],
   "source": [
    "if not os.path.exists(parentCSVOutputDir):\n",
    "    os.makedirs(parentCSVOutputDir)\n",
    "    print(\"Made dir: \" + parentCSVOutputDir)\n",
    "\n",
    "for directory in csvDirs:\n",
    "    if not os.path.exists(parentCSVOutputDir + '\\\\' + directory):\n",
    "        os.makedirs(parentCSVOutputDir + '\\\\' + directory)\n",
    "        print(\"Made dir: \" + parentCSVOutputDir + '\\\\' + directory)"
   ]
  },
  {
   "cell_type": "code",
   "execution_count": 67,
   "metadata": {},
   "outputs": [
    {
     "data": {
      "text/plain": [
       "{0: 16724, 1: 16284, 2: 7676, 3: 18896, 4: 5480}"
      ]
     },
     "execution_count": 67,
     "metadata": {},
     "output_type": "execute_result"
    }
   ],
   "source": [
    "### as dev.ellisrj, start ipcluster in Anaconda prompt:\n",
    "###> ipcluster start -n 6\n",
    "\n",
    "rc = ipp.Client()\n",
    "ar = rc[:].apply_async(os.getpid)\n",
    "pid_map = ar.get_dict()\n",
    "pid_map"
   ]
  },
  {
   "cell_type": "code",
   "execution_count": 68,
   "metadata": {},
   "outputs": [
    {
     "data": {
      "text/plain": [
       "'PROJCS[\"unnamed\",PROJECTION[\"Albers_Conic_Equal_Area\"],PARAMETER[\"standard_parallel_1\",-18],PARAMETER[\"standard_parallel_2\",-36],PARAMETER[\"latitude_of_center\",0],PARAMETER[\"longitude_of_center\",132],PARAMETER[\"false_easting\",0],PARAMETER[\"false_northing\",0],UNIT[\"METERS\",1]]'"
      ]
     },
     "execution_count": 68,
     "metadata": {},
     "output_type": "execute_result"
    }
   ],
   "source": [
    "#load the template raster\n",
    "templateRas = gdal.Open(rasterTemplateFile)\n",
    "template_GeoTrans = templateRas.GetGeoTransform()\n",
    "template_GeoTrans\n",
    "template_Projection = templateRas.GetProjection()\n",
    "template_Projection"
   ]
  },
  {
   "cell_type": "code",
   "execution_count": 69,
   "metadata": {},
   "outputs": [
    {
     "data": {
      "text/plain": [
       "(1275658.63051, 30.0, 0.0, -2008360.4690071, 0.0, -30.0)"
      ]
     },
     "execution_count": 69,
     "metadata": {},
     "output_type": "execute_result"
    }
   ],
   "source": [
    "#Load K factor\n",
    "kFactRas = gdal.Open(rasterKFile)\n",
    "kfact_GeoTrans = kFactRas.GetGeoTransform()\n",
    "kfact_GeoTrans"
   ]
  },
  {
   "cell_type": "code",
   "execution_count": 70,
   "metadata": {},
   "outputs": [
    {
     "name": "stdout",
     "output_type": "stream",
     "text": [
      "Kfactor raster resolution info didn't match template, attempted a resample\n"
     ]
    }
   ],
   "source": [
    "if (kfact_GeoTrans == template_GeoTrans):\n",
    "    print(\"Kfactor raster resolution info matches template, excellent\")\n",
    "else:\n",
    "    print(\"Kfactor raster resolution info didn't match template, attempted a resample\")\n",
    "    kFactRas = resample_raster.resample_raster_to_match_template(templateRas, kFactRas, os.path.join(tempfile.gettempdir(), \"resampledKFact.tif\"))\n",
    "    #kFactRas = resample_raster_to_match_template(templateRas, kFactRas, \"D:/aa/tester.tif\")\n",
    "    kfact_GeoTrans = kFactRas.GetGeoTransform()"
   ]
  },
  {
   "cell_type": "code",
   "execution_count": 71,
   "metadata": {},
   "outputs": [
    {
     "name": "stdout",
     "output_type": "stream",
     "text": [
      "Kfactor raster resolution info now matches template, excellent\n"
     ]
    }
   ],
   "source": [
    "if (kfact_GeoTrans == template_GeoTrans):\n",
    "    print(\"Kfactor raster resolution info now matches template, excellent\")\n",
    "    #kFactRas = None\n",
    "    #kFactRas = gdal.Open(os.path.join(tempfile.gettempdir(), \"resampledKFact.tif\"))\n",
    "    #kfact_GeoTrans = kFactRas.GetGeoTransform()\n",
    "else:\n",
    "    print(\"Kfactor raster resolution still not the same as the template, you shouldn't proceed\")\n",
    "#zone_ds = None\n",
    "#print(\"rows: \" + str(kFactRas.RasterYSize) + \" cols: \" + str(kFactRas.RasterXSize))"
   ]
  },
  {
   "cell_type": "code",
   "execution_count": 72,
   "metadata": {},
   "outputs": [
    {
     "data": {
      "text/plain": [
       "-9999.0"
      ]
     },
     "execution_count": 72,
     "metadata": {},
     "output_type": "execute_result"
    }
   ],
   "source": [
    "#kFactRas.GetRasterBand(1).GetNoDataValue()\n",
    "templateRas.GetRasterBand(1).GetNoDataValue()\n",
    "\n",
    "# The line below would get the kfactor raster written to disk, but it may not be necessary\n",
    "#kFactRas = None\n",
    "\n",
    "#this stuf to draw up a sample of KFactor, have to chop off heaps of edges so that the range in the colorbar doesn't consider -9999\n",
    "#kFactRasArray = kFactRas.ReadAsArray()\n",
    "#array_chop = kFactRasArray[3500:-3500,1500:-1500]  # chop off the outer specified pixels\n",
    "#plt.imshow(array_chop, interpolation='nearest')\n",
    "#plt.colorbar()\n",
    "#plt.title('K Factor')\n",
    "#plt.show()"
   ]
  },
  {
   "cell_type": "code",
   "execution_count": 73,
   "metadata": {},
   "outputs": [],
   "source": [
    "##Load LS factor\n",
    "#lsFactRas = gdal.Open(rasterLSFile)\n",
    "#lsFact_GeoTrans = lsFactRas.GetGeoTransform()\n"
   ]
  },
  {
   "cell_type": "code",
   "execution_count": 74,
   "metadata": {},
   "outputs": [],
   "source": [
    "#if (lsFact_GeoTrans == template_GeoTrans):\n",
    "#    print(\"LSfactor raster resolution info matches template, excellent\")\n",
    "#else:\n",
    "#    print(\"LSfactor raster resolution info didn't match template, attempted a resample\")\n",
    "#    lsFactRas = resample_raster.resample_raster_to_match_template(templateRas, lsFactRas, os.path.join(tempfile.gettempdir(), \"resampledLSFact.tif\"))\n",
    "#    lsFact_GeoTrans = lsFactRas.GetGeoTransform()"
   ]
  },
  {
   "cell_type": "code",
   "execution_count": 75,
   "metadata": {},
   "outputs": [],
   "source": [
    "#if (lsFact_GeoTrans == template_GeoTrans):\n",
    "#    print(\"LSfactor raster resolution info now matches template, excellent\")\n",
    "#    #lsFactRas = None\n",
    "#    #lsFactRas = gdal.Open(os.path.join(tempfile.gettempdir(), \"resampledLSFact.tif\"))\n",
    "#    #lsfact_GeoTrans = lsFactRas.GetGeoTransform()\n",
    "#else:\n",
    "#    print(\"LSfactor raster resolution still not the same as the template, you shouldn't proceed\")"
   ]
  },
  {
   "cell_type": "code",
   "execution_count": 76,
   "metadata": {},
   "outputs": [
    {
     "data": {
      "text/plain": [
       "(1275658.63051, 30.0, 0.0, -2008360.4690071, 0.0, -30.0)"
      ]
     },
     "execution_count": 76,
     "metadata": {},
     "output_type": "execute_result"
    }
   ],
   "source": [
    "#Load Fines raster\n",
    "FinesRas = gdal.Open(rasterFinesFile)\n",
    "fines_GeoTrans = FinesRas.GetGeoTransform()\n",
    "fines_GeoTrans"
   ]
  },
  {
   "cell_type": "code",
   "execution_count": 77,
   "metadata": {},
   "outputs": [
    {
     "name": "stdout",
     "output_type": "stream",
     "text": [
      "Fines raster resolution info didn't match template, attempted a resample\n"
     ]
    }
   ],
   "source": [
    "if (fines_GeoTrans == template_GeoTrans):\n",
    "    print(\"Fines raster resolution info matches template, excellent\")\n",
    "else:\n",
    "    print(\"Fines raster resolution info didn't match template, attempted a resample\")\n",
    "    FinesRas = resample_raster.resample_raster_to_match_template(templateRas, FinesRas, os.path.join(tempfile.gettempdir(), \"resampledFines.tif\"))\n",
    "    fines_GeoTrans = FinesRas.GetGeoTransform()"
   ]
  },
  {
   "cell_type": "code",
   "execution_count": 78,
   "metadata": {},
   "outputs": [
    {
     "name": "stdout",
     "output_type": "stream",
     "text": [
      "Fines raster resolution info now matches template, excellent\n"
     ]
    }
   ],
   "source": [
    "if (fines_GeoTrans == template_GeoTrans):\n",
    "    print(\"Fines raster resolution info now matches template, excellent\")\n",
    "    #FinesRas = None\n",
    "    #FinesRas = gdal.Open(os.path.join(tempfile.gettempdir(), \"resampledFines.tif\"))\n",
    "    #fines_GeoTrans = FinesRas.GetGeoTransform()\n",
    "else:\n",
    "    print(\"Fines raster resolution info still not the same as the template, you shouldn't proceed\")"
   ]
  },
  {
   "cell_type": "code",
   "execution_count": 79,
   "metadata": {},
   "outputs": [
    {
     "data": {
      "text/plain": [
       "266"
      ]
     },
     "execution_count": 79,
     "metadata": {},
     "output_type": "execute_result"
    }
   ],
   "source": [
    "#Open Int SCFU shapefile\n",
    "basePolys = ogr.Open(pathToShapefile)\n",
    "type(basePolys)\n",
    "nlay = basePolys.GetLayerCount()\n",
    "lyr = basePolys.GetLayer(0)\n",
    "ext = lyr.GetExtent()\n",
    "#nlay\n",
    "#ext\n",
    "lyr.GetFeatureCount()\n",
    "#plt.imshow(lyr)"
   ]
  },
  {
   "cell_type": "code",
   "execution_count": 80,
   "metadata": {},
   "outputs": [],
   "source": [
    "featCount = 0\n",
    "for feat in lyr:\n",
    "    ##print(\"Doing something\")\n",
    "    #print(feat.GetFieldAsString(catchmentField) + \" and FU \" + feat.GetFieldAsString(FUField))\n",
    "    featCount += 1\n",
    "    if (featCount == 20):\n",
    "        break"
   ]
  },
  {
   "cell_type": "code",
   "execution_count": 81,
   "metadata": {
    "scrolled": true
   },
   "outputs": [
    {
     "data": {
      "text/plain": [
       "\"'Grazing Open','Grazing Forested'\""
      ]
     },
     "execution_count": 81,
     "metadata": {},
     "output_type": "execute_result"
    }
   ],
   "source": [
    "#FUsToInclude = [\"Grazing Open\",\"Grazing Forested\",\"Forestry\"]\n",
    "\n",
    "FUsAsSQL = \"\"\n",
    "count = 0\n",
    "for thisFU in FUsToInclude:\n",
    "    if(count == 0):\n",
    "        FUsAsSQL = \"'\" + thisFU + \"'\"\n",
    "    else:\n",
    "        FUsAsSQL += \",'\" + thisFU + \"'\"\n",
    "    count += 1\n",
    "\n",
    "FUsAsSQL"
   ]
  },
  {
   "cell_type": "code",
   "execution_count": 82,
   "metadata": {},
   "outputs": [
    {
     "data": {
      "text/plain": [
       "266"
      ]
     },
     "execution_count": 82,
     "metadata": {},
     "output_type": "execute_result"
    }
   ],
   "source": [
    "lyr.SetAttributeFilter( FUField + \" IN (\" + FUsAsSQL + \")\")\n",
    "lyr.GetFeatureCount()"
   ]
  },
  {
   "cell_type": "code",
   "execution_count": 83,
   "metadata": {},
   "outputs": [],
   "source": [
    "csvFile = rasterOutputFile.replace(\".tif\",\".csv\")\n",
    "fumapper = pandas.DataFrame(columns=[uniqueIDField, catchmentField, FUField])\n",
    "#featCount = 0\n",
    "for feat in lyr:\n",
    "    #print(feat.GetFieldAsString(catchmentField) + \" and FU \" + feat.GetFieldAsString(FUField))\n",
    "    #fumapper.append([feat.GetFieldAsString(uniqueIDField),feat.GetFieldAsString(catchmentField),feat.GetFieldAsString(FUField)])\n",
    "    newList = [feat.GetFieldAsString(uniqueIDField),feat.GetFieldAsString(catchmentField),feat.GetFieldAsString(FUField)]\n",
    "    fumapper.loc[len(fumapper)] = newList\n",
    "    #featCount += 1\n",
    "    #if (featCount == 20):\n",
    "    #    break\n",
    "\n",
    "#lyr.GetFeatureCount()\n",
    "#fumapper.to_csv(csvFile, index=False)\n",
    "#fumapper"
   ]
  },
  {
   "cell_type": "code",
   "execution_count": 84,
   "metadata": {},
   "outputs": [],
   "source": [
    "##help(templateRas)\n",
    "geo_transform = templateRas.GetGeoTransform()\n",
    "x_min = geo_transform[0]\n",
    "y_max = geo_transform[3]\n",
    "x_max = x_min + geo_transform[1] * templateRas.RasterXSize\n",
    "y_min = y_max + geo_transform[5] * templateRas.RasterYSize\n",
    "x_count = templateRas.RasterXSize\n",
    "y_count = templateRas.RasterYSize\n",
    "pixel_width = geo_transform[1]\n",
    "pixel_height = geo_transform[5]"
   ]
  },
  {
   "cell_type": "code",
   "execution_count": 85,
   "metadata": {},
   "outputs": [],
   "source": [
    "####Original\n",
    "zone_ds = gdal.GetDriverByName(\"GTiff\").Create(rasterOutputFile, x_count, y_count, 1, gdal.GDT_Int32)\n",
    "##Doing MEM did not yield the expected unique vals\n",
    "##zone_ds = gdal.GetDriverByName(\"MEM\").Create(\"\", x_count, y_count, 1, gdal.GDT_Byte)\n",
    "# This was shifting the resulting raster northwards in our Albers stuff\n",
    "#zone_ds.SetGeoTransform((x_min, pixel_width, 0, y_min, 0, pixel_width))\n",
    "zone_ds.SetGeoTransform((x_min, pixel_width, 0, y_max, 0, pixel_height))\n",
    "\n",
    "##Do not set to Aust Albers... missing PROJ4 details means that this rasterization fails\n",
    "#zone_ds.SetProjection(template_Projection)\n",
    "band = zone_ds.GetRasterBand(1)\n",
    "NoData_value = -9999\n",
    "band.SetNoDataValue(NoData_value)\n",
    "band.FlushCache()\n",
    "gdal.RasterizeLayer(zone_ds, [1], lyr, options=[\"ATTRIBUTE=\" + uniqueIDField])\n",
    "zonesRasterArray = zone_ds.ReadAsArray()\n",
    "#zoneMask = numpy.ma.masked_where(zonesRasterArray == NoData_value, zonesRasterArray)"
   ]
  },
  {
   "cell_type": "code",
   "execution_count": 86,
   "metadata": {},
   "outputs": [],
   "source": [
    "# NoData_value = -9999\n",
    "# zone_ds = gdal.GetDriverByName(\"GTiff\").Create(rasterOutputFile, x_count, y_count, 1, gdal.GDT_Int32)\n",
    "# #zone_ds = gdal.GetDriverByName(\"MEM\").Create(\"\", x_count, y_count, 1, gdal.GDT_Int32)\n",
    "# gdal.RasterizeLayer(zone_ds, [1], lyr, options=[\"ATTRIBUTE=\" + uniqueIDField])\n",
    "# ##Doing MEM did not yield the expected unique vals\n",
    "# ##zone_ds = gdal.GetDriverByName(\"MEM\").Create(\"\", x_count, y_count, 1, gdal.GDT_Byte)\n",
    "# # This was shifting the resulting raster northwards in our Albers stuff\n",
    "# #zone_ds.SetGeoTransform((x_min, pixel_width, 0, y_min, 0, pixel_width))\n",
    "# zone_ds.SetGeoTransform((x_min, pixel_width, 0, y_max, 0, pixel_height))\n",
    "# #band = zone_ds.GetRasterBand(1)\n",
    "# zonesRasterArray = zone_ds.ReadAsArray()\n",
    "# ##band.WriteArray(zonesFilled)\n",
    "# #band.FlushCache()\n",
    "# ##NoData_value = -9999\n",
    "# #band.SetNoDataValue(NoData_value)\n",
    "\n",
    "# zone_ds.GetRasterBand(1).FlushCache()\n",
    "# zone_ds.GetRasterBand(1).SetNoDataValue(NoData_value)\n",
    "\n",
    "# #zone_ds = None\n"
   ]
  },
  {
   "cell_type": "code",
   "execution_count": 87,
   "metadata": {},
   "outputs": [],
   "source": [
    "#zone_ds.GetGeoTransform()"
   ]
  },
  {
   "cell_type": "code",
   "execution_count": 88,
   "metadata": {},
   "outputs": [],
   "source": [
    "#NoData_value = -9999\n",
    "#zonesRasterArray = zone_ds.ReadAsArray()\n",
    "##zonesFilled = zonesRasterArray.filled(NoData_value)\n",
    "##zoneMask = numpy.ma.masked_values(zonesFilled, NoData_value)\n",
    "#zoneMask = numpy.ma.masked_where(zonesRasterArray == NoData_value, zonesRasterArray)\n",
    "#zonesFilled = zoneMask.filled(NoData_value)\n",
    "###uniq = numpy.unique(zonesRasterArray)\n",
    "####print(uniq)\n",
    "\n",
    "#band.WriteArray(zonesFilled)\n",
    "#band.FlushCache()\n",
    "##NoData_value = -9999\n",
    "#band.SetNoDataValue(NoData_value)\n"
   ]
  },
  {
   "cell_type": "code",
   "execution_count": 89,
   "metadata": {},
   "outputs": [],
   "source": [
    "###Change Mask\n",
    "\n",
    "paramAmask = None\n",
    "paramBmask = None\n",
    "\n",
    "if performChange:\n",
    "    print(\"Making Change Rasters\")\n",
    "    changePolys = ogr.Open(pathToChangeMask)\n",
    "    type(basePolys)\n",
    "    changenlay = changePolys.GetLayerCount()\n",
    "    changelyr = changePolys.GetLayer(0)\n",
    "    changeext = changelyr.GetExtent()\n",
    "    #changenlay\n",
    "    #changeext\n",
    "    changelyr.GetFeatureCount()\n",
    "    \n",
    "    changegeo_transform = templateRas.GetGeoTransform()\n",
    "    changex_min = changegeo_transform[0]\n",
    "    changey_max = changegeo_transform[3]\n",
    "    changex_max = changex_min + changegeo_transform[1] * templateRas.RasterXSize\n",
    "    changey_min = changey_max + changegeo_transform[5] * templateRas.RasterYSize\n",
    "    changex_count = templateRas.RasterXSize\n",
    "    changey_count = templateRas.RasterYSize\n",
    "    changepixel_width = changegeo_transform[1]\n",
    "    changepixel_height = changegeo_transform[5]\n",
    "    \n",
    "    NoData_value = -9999\n",
    "    \n",
    "    change_A_ds = gdal.GetDriverByName(\"GTiff\").Create(os.path.join(tempfile.gettempdir(), ParamA + \".tif\"),\n",
    "                                                       changex_count, changey_count, 1, gdal.GDT_Float32)\n",
    "    #change_A_ds = gdal.GetDriverByName(\"GTiff\").Create(\"MEM\", changex_count, changey_count, 1, gdal.GDT_Float32)\n",
    "    change_A_ds.SetGeoTransform((changex_min, changepixel_width, 0, changey_max, 0, changepixel_height))\n",
    "    #change_A_ds.SetProjection(template_Projection)\n",
    "    #change_A_band = change_A_ds.GetRasterBand(1)    \n",
    "    #change_A_band.SetNoDataValue(NoData_value)\n",
    "    change_A_ds.GetRasterBand(1).SetNoDataValue(NoData_value)\n",
    "    #change_A_band.FlushCache()\n",
    "    change_A_ds.GetRasterBand(1).FlushCache()\n",
    "    gdal.RasterizeLayer(change_A_ds, [1], changelyr, options=[\"ATTRIBUTE=\" + ParamA])\n",
    "    \n",
    "    change_B_ds = gdal.GetDriverByName(\"GTiff\").Create(os.path.join(tempfile.gettempdir(), ParamB + \".tif\"),\n",
    "                                                       changex_count, changey_count, 1, gdal.GDT_Float32)\n",
    "    #change_B_ds = gdal.GetDriverByName(\"GTiff\").Create(\"MEM\", changex_count, changey_count, 1, gdal.GDT_Float32)\n",
    "    change_B_ds.SetGeoTransform((changex_min, changepixel_width, 0, changey_max, 0, changepixel_height))\n",
    "    #change_B_ds.SetProjection(template_Projection)\n",
    "    #change_B_band = change_B_ds.GetRasterBand(1)    \n",
    "    #change_B_band.SetNoDataValue(NoData_value)\n",
    "    change_B_ds.GetRasterBand(1).SetNoDataValue(NoData_value)\n",
    "    #change_B_band.FlushCache()\n",
    "    change_B_ds.GetRasterBand(1).FlushCache()\n",
    "    gdal.RasterizeLayer(change_B_ds, [1], changelyr, options=[\"ATTRIBUTE=\" + ParamB])\n",
    "    \n",
    "    print(\"Made Change Rasters, converting to Numpy arrays\")\n",
    "    paramAnumpy = change_A_ds.ReadAsArray()\n",
    "    paramBnumpy = change_B_ds.ReadAsArray()\n",
    "    \n",
    "    paramAmask = numpy.ma.masked_where(paramAnumpy == NoData_value, paramAnumpy)\n",
    "    paramBmask = numpy.ma.masked_where(paramBnumpy == NoData_value, paramBnumpy)\n",
    "    \n",
    "    change_A_ds = None\n",
    "    change_B_ds = None\n",
    "    \n",
    "    paramAnumpy = None\n",
    "    paramBnumpy = None\n",
    "    \n",
    "    print(\"Masked change Numpy arrays ready to go\")"
   ]
  },
  {
   "cell_type": "code",
   "execution_count": 90,
   "metadata": {},
   "outputs": [],
   "source": [
    "#now need to combine K, LS & Fines\n",
    "\n",
    "kFactNumpy = kFactRas.GetRasterBand(1).ReadAsArray()\n",
    "#lsFactNumpy = lsFactRas.GetRasterBand(1).ReadAsArray()\n",
    "FinesNumpy = FinesRas.GetRasterBand(1).ReadAsArray()\n",
    "\n",
    "kFactMasked = numpy.ma.masked_where(kFactNumpy == kFactRas.GetRasterBand(1).GetNoDataValue(), kFactNumpy)\n",
    "#lsFactMasked = numpy.ma.masked_where(lsFactNumpy == lsFactRas.GetRasterBand(1).GetNoDataValue(), lsFactNumpy)\n",
    "FinesMasked = numpy.ma.masked_where(FinesNumpy == FinesRas.GetRasterBand(1).GetNoDataValue(), FinesNumpy)\n",
    "\n",
    "\n",
    "\n",
    "kFactRas = None\n",
    "#lsFactRas = None\n",
    "FinesRas = None\n",
    "\n",
    "\n"
   ]
  },
  {
   "cell_type": "code",
   "execution_count": 91,
   "metadata": {},
   "outputs": [
    {
     "name": "stdout",
     "output_type": "stream",
     "text": [
      "2.18205e-06\n"
     ]
    }
   ],
   "source": [
    "#what will this do for nodata?\n",
    "# it will give -9999 ^ 3. Need to mask!\n",
    "#KLSFinesNumpy = kFactMasked * lsFactMasked * (FinesMasked / 100)\n",
    "#KLSNumpy = kFactMasked * lsFactMasked\n",
    "KLSFinesNumpy = kFactMasked * (FinesMasked / 100)\n",
    "KLSNumpy = kFactMasked\n",
    "print(KLSFinesNumpy.min())\n",
    "#print(KLSFinesNumpy.max())\n"
   ]
  },
  {
   "cell_type": "code",
   "execution_count": 92,
   "metadata": {},
   "outputs": [
    {
     "data": {
      "text/plain": [
       "(1270978.63051, 30.0, 0.0, -2004160.4690071, 0.0, -30.0)"
      ]
     },
     "execution_count": 92,
     "metadata": {},
     "output_type": "execute_result"
    }
   ],
   "source": [
    "fines_GeoTrans"
   ]
  },
  {
   "cell_type": "code",
   "execution_count": 93,
   "metadata": {},
   "outputs": [
    {
     "data": {
      "text/plain": [
       "1271743.63051"
      ]
     },
     "execution_count": 93,
     "metadata": {},
     "output_type": "execute_result"
    }
   ],
   "source": [
    "XCoordMid = fines_GeoTrans[0] + (25 * fines_GeoTrans[1]) + (fines_GeoTrans[1] / 2)\n",
    "XCoordMid "
   ]
  },
  {
   "cell_type": "code",
   "execution_count": 94,
   "metadata": {},
   "outputs": [
    {
     "data": {
      "text/plain": [
       "-2004925.4690071"
      ]
     },
     "execution_count": 94,
     "metadata": {},
     "output_type": "execute_result"
    }
   ],
   "source": [
    "YCoordMid = fines_GeoTrans[3] + (25 * fines_GeoTrans[5]) + (fines_GeoTrans[5] / 2)\n",
    "YCoordMid"
   ]
  },
  {
   "cell_type": "code",
   "execution_count": 95,
   "metadata": {},
   "outputs": [
    {
     "data": {
      "text/plain": [
       "13588.0"
      ]
     },
     "execution_count": 95,
     "metadata": {},
     "output_type": "execute_result"
    }
   ],
   "source": [
    "theRowForX = (1678633.63051 - fines_GeoTrans[0] - (fines_GeoTrans[1] / 2)) / fines_GeoTrans[1]\n",
    "theRowForX"
   ]
  },
  {
   "cell_type": "code",
   "execution_count": 96,
   "metadata": {},
   "outputs": [
    {
     "data": {
      "text/plain": [
       "8485.0"
      ]
     },
     "execution_count": 96,
     "metadata": {},
     "output_type": "execute_result"
    }
   ],
   "source": [
    "theColForY = (-2258725.4690071 - fines_GeoTrans[3] - (fines_GeoTrans[5] / 2)) / fines_GeoTrans[5]\n",
    "theColForY"
   ]
  },
  {
   "cell_type": "code",
   "execution_count": 97,
   "metadata": {},
   "outputs": [],
   "source": [
    "def centreCoordsForPixel(gt, row, col):\n",
    "    \n",
    "    XCoordMid = gt[0] + (col * gt[1]) + (gt[1] / 2)\n",
    "    YCoordMid = gt[3] + (row * gt[5]) + (gt[5] / 2)\n",
    "    \n",
    "    return (XCoordMid, YCoordMid)"
   ]
  },
  {
   "cell_type": "code",
   "execution_count": 98,
   "metadata": {},
   "outputs": [],
   "source": [
    "def pixelForCentreCoords(gt, xCoord, yCoord):\n",
    "    \n",
    "    yCol = int((xCoord - gt[0] - (gt[1] / 2)) / gt[1])\n",
    "    xRow = int((yCoord - gt[3] - (gt[5] / 2)) / gt[5])\n",
    "    \n",
    "    return(xRow, yCol)"
   ]
  },
  {
   "cell_type": "code",
   "execution_count": 99,
   "metadata": {},
   "outputs": [
    {
     "data": {
      "text/plain": [
       "(8485, 13588)"
      ]
     },
     "execution_count": 99,
     "metadata": {},
     "output_type": "execute_result"
    }
   ],
   "source": [
    "tester = pixelForCentreCoords(fines_GeoTrans, 1678633.63051, -2258725.4690071)\n",
    "tester"
   ]
  },
  {
   "cell_type": "code",
   "execution_count": 100,
   "metadata": {},
   "outputs": [
    {
     "data": {
      "text/plain": [
       "-2005165.4690071"
      ]
     },
     "execution_count": 100,
     "metadata": {},
     "output_type": "execute_result"
    }
   ],
   "source": [
    "test2 = centreCoordsForPixel(fines_GeoTrans, 33, 66)\n",
    "test2[1]"
   ]
  },
  {
   "cell_type": "code",
   "execution_count": 101,
   "metadata": {},
   "outputs": [
    {
     "data": {
      "text/plain": [
       "(1270978.63051, 30.0, 0.0, -2004160.4690071, 0.0, -30.0)"
      ]
     },
     "execution_count": 101,
     "metadata": {},
     "output_type": "execute_result"
    }
   ],
   "source": [
    "zone_ds.GetGeoTransform()\n"
   ]
  },
  {
   "cell_type": "code",
   "execution_count": 102,
   "metadata": {},
   "outputs": [],
   "source": [
    "\n",
    "def getDateFromFileName(theFileName, pattern):\n",
    "    \n",
    "    allowedChars = [\"x\", \"y\", \"m\", \"d\"]\n",
    "    \n",
    "    for cha in pattern:\n",
    "        if cha not in allowedChars:\n",
    "            print(\"You can't use '\" + cha + \"' ya dill\")\n",
    "            return\n",
    "    \n",
    "    \n",
    "    if \"yyyy\" not in pattern:\n",
    "        print(\"You've got to at least have 'yyyy' in your pattern\")\n",
    "        return\n",
    "    \n",
    "    Day = 1\n",
    "    Month = 1\n",
    "    Year = int(theFileName[pattern.index(\"yyyy\"): pattern.index(\"yyyy\") + 4])\n",
    "    \n",
    "    if \"mm\" in pattern:\n",
    "        Month = int(theFileName[pattern.index(\"mm\"): pattern.index(\"mm\") + 2])\n",
    "    \n",
    "   \n",
    "    if \"dd\" in pattern:\n",
    "        Day = int(theFileName[pattern.index(\"dd\"): pattern.index(\"dd\") + 2])\n",
    "        \n",
    "\n",
    "    boogity = datetime.date(Year, Month, Day)\n",
    "    \n",
    "    return boogity"
   ]
  },
  {
   "cell_type": "code",
   "execution_count": 103,
   "metadata": {},
   "outputs": [],
   "source": [
    "# list out Cfactor files\n",
    "#cFactorDIR = \"D:\\MW\\Ram_USLE\\skip\"\n",
    "#cFactorDIR = r\"P:\\projects\\ReefProgrammeData1920\\Grazing\\BU\\TestData\\CFactor\"\n",
    "\n",
    "cRastersInfo = {}\n",
    "cRastersAlone = []\n",
    "for file in os.listdir(cFactorDIR):\n",
    "    if file.endswith(\".\" + cFactExt):\n",
    "        #print(os.path.join(cFactorDIR, file) + \" and \" + str(getDateFromFileName(file, \"xxxyyyymm\")))\n",
    "        #cRastersInfo.append(getDateFromFileName(file, \"xxxyyyymm\"), os.path.join(cFactorDIR, file))\n",
    "        cRastersInfo[getDateFromFileName(file, cFactPattern)] =  os.path.join(cFactorDIR, file)\n",
    "        cRastersAlone.append(os.path.join(cFactorDIR, file))\n",
    "\n",
    "#cRastersInfo = sorted(cRastersInfo, reverse=True)\n",
    "cRastersInfoKeysSorted = sorted(cRastersInfo)\n",
    "#print(cRastersInfoKeysSorted)"
   ]
  },
  {
   "cell_type": "code",
   "execution_count": 104,
   "metadata": {},
   "outputs": [],
   "source": [
    "#checkdate = cRastersInfoKeysSorted[0]\n",
    "\n",
    "#print(cRastersInfo.get(checkdate))\n",
    "\n",
    "#print(str(zonesRasterArray[100,100]))\n",
    "#print(str(KLSNumpy[100,100]))\n",
    "#print(str(zonesRasterArray[1000,1000]))\n",
    "#print(str(NoData_value))\n",
    "\n",
    "#Need to re-fill the masked KLS arrays so that we can detect 'nodata' cells\n",
    "#mostly where our coastal mask is missing a slope cell or two\n",
    "KLSNumpyFilled = numpy.ma.filled(KLSNumpy, NoData_value)\n",
    "KLSFinesNumpyFilled = numpy.ma.filled(KLSFinesNumpy, NoData_value)\n",
    "\n",
    "paramAFilled = None\n",
    "paramBFilled = None\n",
    "\n",
    "if performChange:\n",
    "    paramAFilled = numpy.ma.filled(paramAmask, NoData_value)\n",
    "    paramBFilled = numpy.ma.filled(paramBmask, NoData_value)"
   ]
  },
  {
   "cell_type": "code",
   "execution_count": 105,
   "metadata": {},
   "outputs": [],
   "source": [
    "#uniqA = numpy.unique(paramAmask)\n",
    "#print(uniqA)"
   ]
  },
  {
   "cell_type": "code",
   "execution_count": 106,
   "metadata": {},
   "outputs": [],
   "source": [
    "zoneIDStr = \"zoneID\"\n",
    "zoneCountStr = \"zoneCount\"\n",
    "validKLSCSum = \"validKLSCSum\"\n",
    "allKLSCSum = \"allKLSCSum\"\n",
    "validKLSCFinesSum = \"validKLSCFinesSum\"\n",
    "allKLSCFinesSum = \"allKLSCFinesSum\"\n",
    "validDataCountStr = \"dataCount\"\n",
    "\n",
    "validCFactSum = \"validCFactSum\"\n",
    "allCFactSum = \"allCFactSum\"\n",
    "\n",
    "KLSCValStr = \"KLSC\"\n",
    "KLSCFinesValStr = \"KLSCFines\"\n",
    "CFactValStr = \"CFact\"\n",
    "\n",
    "def analyseThisCFactorRaster(theCFactorRas, datePattern, theZonesRasterArray, zonesGT, \n",
    "                             ZonesRowCount, ZonesColCount, ZoneND, theDefaultC, theReqValidProp, \n",
    "                             theKLSNumpy, theKLSFinesNumpy, paramANumpy, paramBNumpy, localPerformChange):\n",
    "    # do pixel by pixel analysis\n",
    "    # zones raster of intersected FUs will exist, and KLSFines raster will be co-located with this\n",
    "    # send back a dictionary that also includes the valid/invalid cFactor numbers for each FU\n",
    "    # should be able to access rasters etc without passing them into this function\n",
    "    # same for the dictionary of results, it could already exist\n",
    "    \n",
    "    # Will need to watch the Y min/max interpretation for our Aus Albers stuff\n",
    "    zoneIDStr = \"zoneID\"\n",
    "    zoneCountStr = \"zoneCount\"\n",
    "    validKLSCSum = \"validKLSCSum\"\n",
    "    allKLSCSum = \"allKLSCSum\"\n",
    "    validKLSCFinesSum = \"validKLSCFinesSum\"\n",
    "    validCFactSum = \"validCFactSum\"\n",
    "    allKLSCFinesSum = \"allKLSCFinesSum\"\n",
    "    allCFactSum = \"allCFactSum\"\n",
    "    validDataCountStr = \"dataCount\"\n",
    "    KLSCValStr = \"KLSC\"\n",
    "    KLSCFinesValStr = \"KLSCFines\"\n",
    "    CFactValStr = \"CFact\"\n",
    "    \n",
    "    theRepDate = getDateFromFileName(os.path.basename(theCFactorRas), datePattern)\n",
    "    #print(\"TheDate: \" + str(theRepDate))\n",
    "    #print(\"Do Change: \" + str(localPerformChange))\n",
    "    \n",
    "        \n",
    "    cFactRas = gdal.Open(theCFactorRas)\n",
    "    cFact_GeoTrans = cFactRas.GetGeoTransform()\n",
    "    #print(cFact_GeoTrans)\n",
    "    cFactND = cFactRas.GetRasterBand(1).GetNoDataValue()\n",
    "    cFactNumpy = cFactRas.ReadAsArray()\n",
    "    \n",
    "    #print(\"CFactND: \" + str(cFactND))\n",
    "    \n",
    "    cFactRows = cFactRas.RasterYSize\n",
    "    cFactCols = cFactRas.RasterXSize\n",
    "    \n",
    "    #zGT = theZones.GetGeoTransform()\n",
    "    zGT = zonesGT\n",
    "    \n",
    "    #theZonesRasterArray = theZones.ReadAsArray()\n",
    "    \n",
    "\n",
    "    statsDict = {}\n",
    "    statsDictToReturn = {}\n",
    "    uniq = numpy.unique(theZonesRasterArray)\n",
    "    for num in uniq:\n",
    "        #using masked, so this check for NoData should be redundant\n",
    "        #print(\"trying this UID: \" + str(num))\n",
    "        if num == ZoneND:\n",
    "            continue\n",
    "        \n",
    "        statsDict[num] = {zoneCountStr: int(0), validKLSCSum: float(0), validKLSCFinesSum: float(0), validCFactSum: float(0),\n",
    "                          allKLSCSum: float(0), allKLSCFinesSum: float(0), allCFactSum: float(0), validDataCountStr: int(0)}\n",
    "\n",
    "    rowid = 0\n",
    "    while rowid < ZonesRowCount:\n",
    "    #while rowid < theZones.RasterYSize:\n",
    "        #reset colid\n",
    "        colid = 0\n",
    "        #if rowid % 500 == 0:\n",
    "        #    print(\"Starting row: \" + str(rowid))\n",
    "        \n",
    "        while colid < ZonesColCount:\n",
    "        #while colid < theZones.RasterXSize:\n",
    "            zoneVal = theZonesRasterArray[rowid, colid]\n",
    "            \n",
    "            if zoneVal == ZoneND:\n",
    "                colid+=1\n",
    "                continue\n",
    "            \n",
    "            #we have explicitly ensured that KLSFines matches our pixels\n",
    "            #although we will have filled the mask with NoData vals\n",
    "            #so just need to get the requisite cFactor row/col\n",
    "            \n",
    "            KLS = theKLSNumpy[rowid, colid]\n",
    "            if KLS == ZoneND:\n",
    "                colid+=1\n",
    "                continue\n",
    "            \n",
    "            KLSFines = theKLSFinesNumpy[rowid, colid]\n",
    "            if KLSFines == ZoneND:\n",
    "                colid+=1\n",
    "                continue\n",
    "            \n",
    "            \n",
    "            zoneCoords = centreCoordsForPixel(zGT, rowid, colid)\n",
    "            #print(\"Zone Coords: \" + str(zoneCoords))\n",
    "            cFactPix = pixelForCentreCoords(cFact_GeoTrans, zoneCoords[0], zoneCoords[1])\n",
    "            #print(\"cFactPix: \" + str(cFactPix))\n",
    "            \n",
    "            #if cFactPix[0] >= cFactRows:\n",
    "            #    print(\"Exceeded row count at \" + str(cFactPix[0]) + \" for coords: \" + str(zoneCoords)\n",
    "            #          + \" where zone pixels were: \" + str(rowid) + \", \" + str(colid))\n",
    "            #    SystemExit(0)\n",
    "            \n",
    "            #if cFactPix[1] >= cFactCols:\n",
    "            #    print(\"Exceeded col count \" + str(cFactPix[1]) + \" for coords: \" + str(zoneCoords)\n",
    "            #          + \" where zone pixels were: \" + str(rowid) + \", \" + str(colid))\n",
    "            #    SystemExit(0)\n",
    "            \n",
    "            theC = theDefaultC\n",
    "            \n",
    "            isValid = False\n",
    "            cRasVal = cFactNumpy[cFactPix[0], cFactPix[1]]\n",
    "            if not cRasVal == cFactND:\n",
    "                theC = cRasVal\n",
    "                isValid = True\n",
    "            \n",
    "            #Check for change mask....\n",
    "            if localPerformChange:\n",
    "                parA = paramANumpy[rowid, colid]\n",
    "                parB = paramBNumpy[rowid, colid]\n",
    "                \n",
    "                #print(\"Par A: \" + str(parA))\n",
    "                #print(\"Par B: \" + str(parB))\n",
    "                \n",
    "                if not parA == ZoneND:\n",
    "                    potNewC = parA * (theC ** parB)\n",
    "                    \n",
    "                    if potNewC < theC and potNewC > 0:\n",
    "                        theC = potNewC\n",
    "            \n",
    "            KLSC = KLS * theC\n",
    "            KLSCFines = KLSFines * theC\n",
    "            \n",
    "            #if(KLSC < 0):\n",
    "            #    print(\"Badness at \"  + str(rowid) + \", \" + str(colid) + \" where KLS was: \" \n",
    "            #          + str(theKLSNumpy[rowid, colid]) + \" and C was: \" + str(theC))\n",
    "            #    SystemExit(0)\n",
    "            \n",
    "            statsDict[zoneVal][zoneCountStr] += 1\n",
    "            statsDict[zoneVal][allKLSCSum] += KLSC\n",
    "            statsDict[zoneVal][allKLSCFinesSum] += KLSCFines\n",
    "            statsDict[zoneVal][allCFactSum] += theC\n",
    "            \n",
    "            if(isValid):\n",
    "                statsDict[zoneVal][validKLSCSum] += KLSC\n",
    "                statsDict[zoneVal][validKLSCFinesSum] += KLSCFines\n",
    "                statsDict[zoneVal][validDataCountStr] += 1\n",
    "                statsDict[zoneVal][validCFactSum] += theC\n",
    "            \n",
    "            \n",
    "            \n",
    "            colid += 1\n",
    "        \n",
    "        \n",
    "        rowid += 1\n",
    "        \n",
    "        \n",
    "    #now work out which stats to use\n",
    "    #look to see if we'll use the default Cfactor derived values in lieu of valid entries\n",
    "    for uid in statsDict.keys():\n",
    "        \n",
    "        #if uid == 34:\n",
    "        #    print(statsDict[uid])\n",
    "        \n",
    "        zoneCount = statsDict[uid][zoneCountStr]\n",
    "        if zoneCount == 0:\n",
    "            #nothing to report, add zeros\n",
    "            statsDictToReturn[uid] = {KLSCValStr: -9999, KLSCFinesValStr: -9999, CFactValStr: -9999}\n",
    "            continue\n",
    "        \n",
    "        valProp = 0\n",
    "        valCount = statsDict[uid][validDataCountStr]\n",
    "        if(valCount > 0):\n",
    "            valProp = valCount / zoneCount\n",
    "         \n",
    "        if valProp >= theReqValidProp:\n",
    "            # use valid only stats\n",
    "            statsDictToReturn[uid] = {KLSCValStr: float(statsDict[uid][validKLSCSum] / valCount),\n",
    "                                      KLSCFinesValStr: float(statsDict[uid][validKLSCFinesSum] / valCount),\n",
    "                                      CFactValStr: float(statsDict[uid][validCFactSum] / valCount)}\n",
    "        else:\n",
    "            # Use stats that include the default where necessary\n",
    "            statsDictToReturn[uid] = {KLSCValStr: float(statsDict[uid][allKLSCSum] / zoneCount),\n",
    "                                      KLSCFinesValStr: float(statsDict[uid][allKLSCFinesSum] / zoneCount),\n",
    "                                      CFactValStr: float(statsDict[uid][allCFactSum] / zoneCount)}\n",
    "        \n",
    "    \n",
    "    statsWithDate = {}\n",
    "    statsWithDate[theRepDate] = statsDictToReturn\n",
    "    \n",
    "    theCFatcorRas = None\n",
    "    theZonesRasterArray = None\n",
    "    zonesGT = None\n",
    "    ZonesRowCount =  None\n",
    "    ZonesColCount = None\n",
    "    ZoneND = None\n",
    "    theDefaultC = None\n",
    "    theReqValidProp = None\n",
    "    theKLSNumpy = None\n",
    "    theKLSFinesNumpy = None\n",
    "    \n",
    "    gc.collect()\n",
    "    \n",
    "    return statsWithDate"
   ]
  },
  {
   "cell_type": "code",
   "execution_count": 107,
   "metadata": {
    "scrolled": true
   },
   "outputs": [],
   "source": [
    "#start_time = time.time()\n",
    "\n",
    "\n",
    "##tester = analyseThisCFactorRaster(r\"D:\\\\MW\\\\Ram_USLE\\\\skip\\\\justone\\\\cf_198712_198802.tif\", \n",
    "##                                  zonesRasterArray, zone_ds.GetGeoTransform(), \n",
    "##                                           zone_ds.RasterYSize, zone_ds.RasterXSize, NoData_value, defaultCfact, \n",
    "##                                           reqdValidProp, KLSNumpyFilled, KLSFinesNumpyFilled)\n",
    "\n",
    "#tester = analyseThisCFactorRaster(r\"C:\\DDrive\\MW\\v450projs\\Ram\\c-factors\\cf_201809_201811.tif\", \n",
    "#                                  cFactPattern, zonesRasterArray, zone_ds.GetGeoTransform(), \n",
    "#                                           zone_ds.RasterYSize, zone_ds.RasterXSize, NoData_value, defaultCfact, \n",
    "#                                           reqdValidProp, KLSNumpyFilled, KLSFinesNumpyFilled)\n",
    "\n",
    "#elapsed_time = time.time() - start_time\n",
    "#print(\"Finished One: \" + str(len(tester)) + \" taking this many seconds: \" + str(elapsed_time))"
   ]
  },
  {
   "cell_type": "code",
   "execution_count": 108,
   "metadata": {},
   "outputs": [],
   "source": [
    "#print(tester)"
   ]
  },
  {
   "cell_type": "code",
   "execution_count": 109,
   "metadata": {
    "scrolled": true
   },
   "outputs": [
    {
     "name": "stdout",
     "output_type": "stream",
     "text": [
      "doing execute\n",
      "doing push\n",
      "starting pushing dict\n",
      "finished pushing dict\n",
      "Got this many rasters processed: 129 taking this many seconds: 10039.44669508934\n"
     ]
    }
   ],
   "source": [
    "#%load usle_cfactor_analysis\n",
    "\n",
    "start_time = time.time()\n",
    "\n",
    "usleStats = {}\n",
    "\n",
    "mydict=dict(theZonesRasterArray=zonesRasterArray, datePattern=cFactPattern, zonesGT=zone_ds.GetGeoTransform(), ZonesRowCount=zone_ds.RasterYSize, \n",
    "            ZonesColCount=zone_ds.RasterXSize, ZoneND=NoData_value, \n",
    "            theDefaultC=defaultCfact, theReqValidProp=reqdValidProp, \n",
    "            theKLSNumpy=KLSNumpyFilled, theKLSFinesNumpy=KLSFinesNumpyFilled,\n",
    "            paramANumpy=paramAFilled, paramBNumpy=paramBFilled, localPerformChange=performChange)\n",
    "\n",
    "\n",
    "#print(mydict)\n",
    "\n",
    "#num_cores = multiprocessing.cpu_count()\n",
    "#print(str(num_cores) + \" cores available\")\n",
    "\n",
    "#xxx = lambda cRas:usle_cfactor_analysis.analyseThisCFactorRaster(cRas,\n",
    "#                                                    zonesRasterArray, zone_ds.RasterYSize, \n",
    "#                                                    zone_ds.RasterXSize, NoData_value, \n",
    "#                                                    defaultCfact, reqdValidProp)\n",
    "\n",
    "#xxx = lambda cRas:analyseThisCFactorRaster(cRas, zonesRasterArray, zone_ds.GetGeoTransform(), \n",
    "#                                           zone_ds.RasterYSize, zone_ds.RasterXSize, \n",
    "#                                           NoData_value, defaultCfact, reqdValidProp)\n",
    "\n",
    "xxx = lambda theCFactorRas:analyseThisCFactorRaster(theCFactorRas, datePattern, theZonesRasterArray, zonesGT, \n",
    "                                           ZonesRowCount, ZonesColCount, ZoneND, theDefaultC, \n",
    "                                           theReqValidProp, theKLSNumpy, theKLSFinesNumpy,\n",
    "                                            paramANumpy, paramBNumpy, localPerformChange)\n",
    "\n",
    "\n",
    "#xxx = lambda rasDate:usle_cfactor_analysis.analyseThisCFactorRaster(cRastersInfo.get(rasDate),\n",
    "#                                                    zonesRasterArray, zone_ds.RasterYSize, \n",
    "#                                                    zone_ds.RasterXSize, NoData_value, \n",
    "#                                                    defaultCfact, reqdValidProp)\n",
    "\n",
    "print(\"doing execute\")\n",
    "#rc[:].execute('import D:/PythonScriptingForGBR/reef_scripts/GBR/Examples/Modules/usle_cfactor_analysis')\n",
    "rc[:].execute(\"import numpy\")\n",
    "rc[:].execute(\"import gc\")\n",
    "rc[:].execute(\"import os\")\n",
    "rc[:].execute(\"import datetime\")\n",
    "rc[:].execute(\"from osgeo import gdal, gdalconst\")\n",
    "rc[:].execute(\"from osgeo import ogr\")\n",
    "\n",
    "print(\"doing push\")\n",
    "rc[:].push({\"analyseThisCFactorRaster\":analyseThisCFactorRaster})\n",
    "rc[:].push({\"centreCoordsForPixel\":centreCoordsForPixel})\n",
    "rc[:].push({\"pixelForCentreCoords\":pixelForCentreCoords})\n",
    "rc[:].push({\"getDateFromFileName\":getDateFromFileName})\n",
    "print(\"starting pushing dict\")\n",
    "rc[:].push(mydict)\n",
    "print(\"finished pushing dict\")\n",
    "results = rc[:].map_sync(xxx, cRastersAlone)\n",
    "#results = rc[:].map_sync(xxx, cRastersInfoKeysSorted)\n",
    "\n",
    "#results = rc[:].map_sync(lambda rasDate: usle_cfactor_analysis.analyseThisCFactorRaster(cRastersInfo.get(rasDate),\n",
    "#                                                    zonesRasterArray, zone_ds.RasterYSize, \n",
    "#                                                    zone_ds.RasterXSize, NoData_value, \n",
    "#                                                    defaultCfact, reqdValidProp), \n",
    "#                         cRastersInfoKeysSorted)\n",
    "\n",
    "\n",
    "\n",
    "\n",
    "#results = Parallel(n_jobs=num_cores)(delayed(analyseThisCFactorRaster)(cRastersInfo.get(rasDate), zonesRasterArray, zone_ds.RasterYSize, zone_ds.RasterXSize, NoData_value, defaultCfact, reqdValidProp) \n",
    "#                                     for rasDate in cRastersInfoKeysSorted)\n",
    "\n",
    "\n",
    "\n",
    "#for rasDate in cRastersInfoKeysSorted:\n",
    "    #Process the cFator raster\n",
    "    # processedStats will have the date as primary key and then each Unique FU ID and some relevant stats\n",
    "#    start_time = time.time()\n",
    "#    print(\"starting work on \" + str(cRastersInfo.get(rasDate)))\n",
    "    \n",
    "#    processedStats = analyseThisCFactorRaster(cRastersInfo.get(rasDate))\n",
    "    \n",
    "#    elapsed_time = time.time() - start_time\n",
    "    \n",
    "#    print(\"finished work on \" + str(cRastersInfo.get(rasDate)) + \" taking \" + str(elapsed_time) + \" seconds\")\n",
    "#    print(\"this big \" + str(len(processedStats)))\n",
    "    \n",
    "    \n",
    "#    #Add results to the stats\n",
    "#    usleStats[rasDate] = processedStats\n",
    "    \n",
    "elapsed_time = time.time() - start_time\n",
    "\n",
    "print(\"Got this many rasters processed: \" + str(len(results)) + \" taking this many seconds: \" + str(elapsed_time))"
   ]
  },
  {
   "cell_type": "code",
   "execution_count": 110,
   "metadata": {
    "scrolled": true
   },
   "outputs": [
    {
     "name": "stdout",
     "output_type": "stream",
     "text": [
      "129\n"
     ]
    }
   ],
   "source": [
    "#type(results[0])\n",
    "#results[0].keys()\n",
    "convertedDict = {}\n",
    "availDates = []\n",
    "allConvertedToDict = {}\n",
    "for gg in results:\n",
    "    #print(str(gg.keys()) + \" and \" + str(len(gg.keys())))\n",
    "    #Know that we only have one key, but need to loop anyway\n",
    "    for dateKey in gg.keys():\n",
    "        convertedDict[dateKey] = gg.values()\n",
    "        availDates.append(dateKey)\n",
    "        allConvertedToDict[dateKey] = {}\n",
    "        \n",
    "        for dataPairs in gg.values():\n",
    "            for fuKeys in dataPairs.keys():\n",
    "                #print(fuKeys)\n",
    "                allConvertedToDict[dateKey][fuKeys] = dataPairs[fuKeys]\n",
    "            #print(dataPairs.values())\n",
    "    #convertedDict[gg.keys()[0]] = gg.values()\n",
    "\n",
    "\n",
    "print(len(convertedDict))\n",
    "sortedAvailDates = sorted(availDates)\n",
    "#convertedDict\n",
    "#print(convertedDict[dateKey])"
   ]
  },
  {
   "cell_type": "code",
   "execution_count": 111,
   "metadata": {},
   "outputs": [],
   "source": [
    "#convertedDict[datetime.date(1988, 3, 1)]\n",
    "#convertedDict.keys()"
   ]
  },
  {
   "cell_type": "code",
   "execution_count": 112,
   "metadata": {},
   "outputs": [],
   "source": [
    "#print(allConvertedToDict)"
   ]
  },
  {
   "cell_type": "code",
   "execution_count": 113,
   "metadata": {},
   "outputs": [],
   "source": [
    "# now need FU-based KLSC & KLSCFines averages for tempral gap filling\n",
    "avgs = {}\n",
    "unZones = numpy.unique(zonesRasterArray)\n",
    "klscSumStr = \"KLSCSum\"\n",
    "klscfinesSumStr = \"KLSCFinesSum\"\n",
    "cfactSumStr = \"CFactSum\"\n",
    "klscCountStr = \"KLSCCount\"\n",
    "klscfinesCountStr = \"KLSCFinesCount\"\n",
    "cfactCountStr = \"CFactCount\"\n",
    "\n",
    "KLSCGlobalSum = 0\n",
    "KLSCGlobalCount = 0\n",
    "KLSCFinesGlobalSum = 0\n",
    "KLSCFinesGlobalCount = 0\n",
    "CFactGlobalSum = 0\n",
    "CFactGlobalCount = 0\n",
    "\n",
    "\n",
    "for zn in unZones:\n",
    "    avgs[zn] = {klscSumStr: float(0), klscCountStr: int(0), \n",
    "                klscfinesSumStr: float(0), klscfinesCountStr: int(0), \n",
    "                cfactSumStr: float(0), cfactCountStr: int(0)}\n",
    "\n",
    "# now populate\n",
    "for dt in convertedDict.keys():\n",
    "    #print(type(convertedDict[dt]))\n",
    "    #print(convertedDict[dt])\n",
    "    for fuDict in convertedDict[dt]:\n",
    "        #print(type(fuDict))\n",
    "        for fuid in fuDict.keys():\n",
    "            #print(fuDict[fuid])\n",
    "\n",
    "            if not fuDict[fuid][KLSCValStr] == -9999:\n",
    "                avgs[fuid][klscSumStr] += fuDict[fuid][KLSCValStr]\n",
    "                avgs[fuid][klscCountStr] += 1\n",
    "                KLSCGlobalSum += fuDict[fuid][KLSCValStr]\n",
    "                KLSCGlobalCount += 1\n",
    "            if not fuDict[fuid][KLSCFinesValStr] == -9999:\n",
    "                avgs[fuid][klscfinesSumStr] += fuDict[fuid][KLSCFinesValStr]\n",
    "                avgs[fuid][klscfinesCountStr] += 1\n",
    "                KLSCFinesGlobalSum += fuDict[fuid][KLSCFinesValStr]\n",
    "                KLSCFinesGlobalCount += 1\n",
    "            if not fuDict[fuid][CFactValStr] == -9999:\n",
    "                avgs[fuid][cfactSumStr] += fuDict[fuid][CFactValStr]\n",
    "                avgs[fuid][cfactCountStr] += 1\n",
    "                CFactGlobalSum += fuDict[fuid][CFactValStr]\n",
    "                CFactGlobalCount += 1\n",
    "\n",
    "#print(avgs[3])\n",
    "#print(avgs[36])\n",
    "#print(avgs[1397])\n",
    "KLSCGlobalAvg = 0\n",
    "KLSCFinesGlobalAvg = 0\n",
    "CFactGlobalAvg = 0\n",
    "\n",
    "if KLSCGlobalCount > 0:\n",
    "    KLSCGlobalAvg = KLSCGlobalSum / KLSCGlobalCount\n",
    "\n",
    "if KLSCFinesGlobalCount > 0:\n",
    "    KLSCFinesGlobalAvg = KLSCFinesGlobalSum / KLSCFinesGlobalCount\n",
    "\n",
    "if CFactGlobalCount > 0:\n",
    "    CFactGlobalAvg = CFactGlobalSum / CFactGlobalCount"
   ]
  },
  {
   "cell_type": "code",
   "execution_count": 114,
   "metadata": {},
   "outputs": [],
   "source": [
    "#print(len(avgs))\n",
    "#print(avgs[3])\n",
    "#print(avgs[36])\n",
    "#print(avgs[1397])"
   ]
  },
  {
   "cell_type": "code",
   "execution_count": 115,
   "metadata": {},
   "outputs": [
    {
     "name": "stdout",
     "output_type": "stream",
     "text": [
      "1986-06-01\n",
      "2018-06-01\n"
     ]
    }
   ],
   "source": [
    "# would now need to determine the required timespan for output timeseries\n",
    "# grabbing relevant values form either real or temporal average as needed\n",
    "\n",
    "reqdStart = datetime.date(1986, 1, 1)\n",
    "reqdLast = datetime.date(2018, 12, 31)\n",
    "\n",
    "earliestAvail = sortedAvailDates[0]\n",
    "latestAvail = sortedAvailDates[len(sortedAvailDates) - 1]\n",
    "\n",
    "print(earliestAvail)\n",
    "print(latestAvail)"
   ]
  },
  {
   "cell_type": "code",
   "execution_count": 116,
   "metadata": {},
   "outputs": [
    {
     "name": "stdout",
     "output_type": "stream",
     "text": [
      "Defs need padding at start\n"
     ]
    }
   ],
   "source": [
    "if reqdStart < earliestAvail:\n",
    "    print(\"Defs need padding at start\")\n",
    "else:\n",
    "    print(\"No start padding required\")"
   ]
  },
  {
   "cell_type": "code",
   "execution_count": 117,
   "metadata": {},
   "outputs": [
    {
     "name": "stdout",
     "output_type": "stream",
     "text": [
      "Defs need padding at end\n"
     ]
    }
   ],
   "source": [
    "if reqdLast > latestAvail:\n",
    "    print(\"Defs need padding at end\")\n",
    "else:\n",
    "    print(\"No end padding required\")"
   ]
  },
  {
   "cell_type": "code",
   "execution_count": 118,
   "metadata": {},
   "outputs": [
    {
     "name": "stdout",
     "output_type": "stream",
     "text": [
      "1986-02-01\n",
      "2019-01-31\n",
      "2018\n",
      "12\n",
      "31\n",
      "1986-01-01\n",
      "2018-12-31\n"
     ]
    }
   ],
   "source": [
    "###I think I would then create a full list of required dates (varying with daily, monthly, seasonal, annual etc)\n",
    "###And then create a CSV writing loop based on indivudal FUs, where once processing a FU we begin stepping through\n",
    "### the full dates, looking for existence in convertedDict (taken from 'results')... although it has DATE as first key...\n",
    "###hmmm\n",
    "\n",
    "\n",
    "from dateutil.relativedelta import relativedelta\n",
    "import calendar\n",
    "\n",
    "bollocks = reqdStart + relativedelta(months=1)\n",
    "\n",
    "print(bollocks)\n",
    "\n",
    "bollocks2 = reqdLast + relativedelta(months=1)\n",
    "\n",
    "print(bollocks2)\n",
    "\n",
    "print(reqdLast.year)\n",
    "print(reqdLast.month)\n",
    "print(reqdLast.day)\n",
    "\n",
    "### Ok, manipulate start & end dates to 1st of month\n",
    "actualStartDate = datetime.date(reqdStart.year, reqdStart.month, 1)\n",
    "actualEndDate = datetime.date(reqdLast.year, reqdLast.month, calendar.monthrange(reqdLast.year, reqdLast.month)[1])\n",
    "print(actualStartDate)\n",
    "print(actualEndDate)\n",
    "\n",
    "theDates = []\n",
    "\n",
    "assessDate = actualStartDate\n",
    "\n",
    "while assessDate < actualEndDate:\n",
    "    theDates.append(assessDate)\n",
    "    assessDate = assessDate + relativedelta(months=1)\n",
    "\n",
    "\n",
    "#print(theDates)"
   ]
  },
  {
   "cell_type": "code",
   "execution_count": 119,
   "metadata": {},
   "outputs": [],
   "source": [
    "###Now try to get at the values... use FU = 1 to start....\n",
    "\n",
    "#print(fumapper)\n",
    "#\"'\" + str(theFUID) + \"'\"\n",
    "\n",
    "#theFUID = 1\n",
    "#theRow = fumapper.loc[fumapper[uniqueIDField] == str(theFUID)]\n",
    "#print(theRow)\n",
    "#theFuFileNameBit = str(theRow[catchmentField].values[0]) + \"$\" + str(theRow[FUField].values[0])\n",
    "\n",
    "#print(theFuFileNameBit)"
   ]
  },
  {
   "cell_type": "code",
   "execution_count": 120,
   "metadata": {},
   "outputs": [],
   "source": [
    "#listDateKeys = list(convertedDict.keys())\n",
    "##print(listTest)\n",
    "#print(listTest[3])"
   ]
  },
  {
   "cell_type": "code",
   "execution_count": 121,
   "metadata": {},
   "outputs": [
    {
     "name": "stdout",
     "output_type": "stream",
     "text": [
      "Done\n"
     ]
    }
   ],
   "source": [
    "lastRealDate = theDates[-1]\n",
    "#print(lastRealDate)\n",
    "#print(unZones)\n",
    "for zn in unZones:\n",
    "    \n",
    "    if zn < 0:\n",
    "        continue\n",
    "    \n",
    "    theFUID = zn\n",
    "    #print(str(theFUID))\n",
    "    theRow = fumapper.loc[fumapper[uniqueIDField] == str(theFUID)]\n",
    "    #print(theRow)\n",
    "    theFuFileNameBit = str(theRow[catchmentField].values[0]) + \"$\" + str(theRow[FUField].values[0])\n",
    "    \n",
    "    klscName = os.path.join(parentCSVOutputDir, 'KLSC', theFuFileNameBit + '$USLE_KLSC_Total.csv')\n",
    "    klscFinesName = os.path.join(parentCSVOutputDir, 'KLSC_Fines', theFuFileNameBit + '$USLE_KLSC_FinePerc.csv')\n",
    "    CfactName = os.path.join(parentCSVOutputDir, 'Cfact', theFuFileNameBit + '$CFactor.csv')\n",
    "\n",
    "    klscFile = open(klscName,'w')\n",
    "    klscFinesFile = open(klscFinesName,'w')\n",
    "    CfactFile = open(CfactName,'w')\n",
    "\n",
    "    klscFile.write('Date,KLSC_Total' + '\\n')\n",
    "    klscFinesFile.write('Date,KLSC_Fines' + '\\n')\n",
    "    CfactFile.write('Date,C-Factor' + '\\n')\n",
    "\n",
    "    \n",
    "    \n",
    "    for thisDate in theDates:\n",
    "        theSep = '\\n'\n",
    "        ##Convert to seaonal date of relevance\n",
    "        seasonalDate = thisDate + relativedelta(months=monthToSeasonOffsets[thisDate.month])\n",
    "        if seasonalDate in allConvertedToDict.keys():\n",
    "            #print(\"In Here\")\n",
    "            #klscFile.write(str(thisDate) + theSep)\n",
    "            #print(allConvertedToDict[seasonalDate])\n",
    "            if theFUID in allConvertedToDict[seasonalDate]:\n",
    "                klscFile.write(str(thisDate) + ',' + str(allConvertedToDict[seasonalDate][theFUID][KLSCValStr]) + theSep)\n",
    "                klscFinesFile.write(str(thisDate) + ',' + str(allConvertedToDict[seasonalDate][theFUID][KLSCFinesValStr]) + theSep)\n",
    "                CfactFile.write(str(thisDate) + ',' + str(allConvertedToDict[seasonalDate][theFUID][CFactValStr]) + theSep)\n",
    "            else:\n",
    "                #Add in average\n",
    "                if theFUID in avgs:\n",
    "                    klscFile.write(str(thisDate) + ',' + str((avgs[theFUID][klscSumStr]/avgs[theFUID][klscCountStr])) + theSep)\n",
    "                    klscFinesFile.write(str(thisDate) + ',' + str((avgs[theFUID][klscfinesSumStr]/avgs[theFUID][klscfinesCountStr])) + theSep)\n",
    "                    CfactFile.write(str(thisDate) + ',' + str((avgs[theFUID][cfactSumStr]/avgs[theFUID][cfactCountStr])) + theSep)\n",
    "                else:\n",
    "                    #Global avg???\n",
    "                    klscFile.write(str(thisDate) + ',' + str(KLSCGlobalAvg) + theSep)\n",
    "                    klscFinesFile.write(str(thisDate) + ',' + str(KLSCFinesGlobalAvg) + theSep)\n",
    "                    CfactFile.write(str(thisDate) + ',' + str(CFactGlobalAvg) + theSep)\n",
    "        else:\n",
    "            #Add in average\n",
    "            if theFUID in avgs:\n",
    "                klscFile.write(str(thisDate) + ',' + str((avgs[theFUID][klscSumStr]/avgs[theFUID][klscCountStr])) + theSep)\n",
    "                klscFinesFile.write(str(thisDate) + ',' + str((avgs[theFUID][klscfinesSumStr]/avgs[theFUID][klscfinesCountStr])) + theSep)\n",
    "                CfactFile.write(str(thisDate) + ',' + str((avgs[theFUID][cfactSumStr]/avgs[theFUID][cfactCountStr])) + theSep)\n",
    "            else:\n",
    "                #Global avg???\n",
    "                klscFile.write(str(thisDate) + ',' + str(KLSCGlobalAvg) + theSep)\n",
    "                klscFinesFile.write(str(thisDate) + ',' + str(KLSCFinesGlobalAvg) + theSep)\n",
    "                CfactFile.write(str(thisDate) + ',' + str(CFactGlobalAvg) + theSep)\n",
    "\n",
    "    klscFile.close()\n",
    "    klscFinesFile.close()\n",
    "    CfactFile.close()\n",
    "\n",
    "print(\"Done\")"
   ]
  },
  {
   "cell_type": "code",
   "execution_count": null,
   "metadata": {},
   "outputs": [],
   "source": []
  },
  {
   "cell_type": "code",
   "execution_count": null,
   "metadata": {},
   "outputs": [],
   "source": []
  }
 ],
 "metadata": {
  "anaconda-cloud": {},
  "kernelspec": {
   "display_name": "Python 3",
   "language": "python",
   "name": "python3"
  },
  "language_info": {
   "codemirror_mode": {
    "name": "ipython",
    "version": 3
   },
   "file_extension": ".py",
   "mimetype": "text/x-python",
   "name": "python",
   "nbconvert_exporter": "python",
   "pygments_lexer": "ipython3",
   "version": "3.7.3"
  }
 },
 "nbformat": 4,
 "nbformat_minor": 1
}
