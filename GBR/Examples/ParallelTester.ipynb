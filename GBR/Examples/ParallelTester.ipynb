{
 "cells": [
  {
   "cell_type": "code",
   "execution_count": 1,
   "metadata": {
    "collapsed": true
   },
   "outputs": [],
   "source": [
    "# This tool will not ensure that pixels and boundaries align\n",
    "# just seeing what parallel stuff can be acheived\n",
    "import pandas\n",
    "import numpy\n",
    "from osgeo import gdal, gdalconst\n",
    "from osgeo import ogr\n",
    "import tempfile\n",
    "import datetime\n",
    "import time\n",
    "import os\n",
    "import sys\n",
    "import ipyparallel as ipp\n",
    "#from joblib import Parallel, delayed\n",
    "#import multiprocessing"
   ]
  },
  {
   "cell_type": "code",
   "execution_count": 2,
   "metadata": {
    "collapsed": true
   },
   "outputs": [],
   "source": [
    "rc = ipp.Client()\n",
    "ar = rc[:].apply_async(os.getpid)\n",
    "pid_map = ar.get_dict()"
   ]
  },
  {
   "cell_type": "code",
   "execution_count": 3,
   "metadata": {
    "collapsed": false,
    "scrolled": true
   },
   "outputs": [
    {
     "data": {
      "text/plain": [
       "{0: 10256,\n",
       " 1: 9680,\n",
       " 2: 4956,\n",
       " 3: 11948,\n",
       " 4: 9908,\n",
       " 5: 10644,\n",
       " 6: 9972,\n",
       " 7: 12244,\n",
       " 8: 3300,\n",
       " 9: 10996,\n",
       " 10: 10684,\n",
       " 11: 2564}"
      ]
     },
     "execution_count": 3,
     "metadata": {},
     "output_type": "execute_result"
    }
   ],
   "source": [
    "pid_map"
   ]
  },
  {
   "cell_type": "code",
   "execution_count": 5,
   "metadata": {
    "collapsed": false
   },
   "outputs": [
    {
     "name": "stdout",
     "output_type": "stream",
     "text": [
      "[stdout:0] hosts: SDD00301\n",
      "[stdout:1] hosts: SDD00301\n",
      "[stdout:2] hosts: SDD00301\n",
      "[stdout:3] hosts: SDD00301\n",
      "[stdout:4] hosts: SDD00301\n",
      "[stdout:5] hosts: SDD00301\n",
      "[stdout:6] hosts: SDD00301\n",
      "[stdout:7] hosts: SDD00301\n",
      "[stdout:8] hosts: SDD00301\n",
      "[stdout:9] hosts: SDD00301\n",
      "[stdout:10] hosts: SDD00301\n",
      "[stdout:11] hosts: SDD00301\n",
      "squares: [0, 1, 4, 9, 16, 25, 36, 49, 64, 81, 100, 121, 144, 169, 196, 225, 256, 289, 324, 361, 400, 441, 484, 529, 576, 625, 676, 729, 784, 841, 900, 961]\n"
     ]
    }
   ],
   "source": [
    "# The %px magic executes a single Python command on\n",
    "# the engines specified by the targets attribute of\n",
    "# the DirectView instance.\n",
    "#\n",
    "# http://ipython.org/ipython-doc/stable/parallel/magics.html#px\n",
    "%px import socket\n",
    "%px print(\"hosts:\", socket.gethostname())\n",
    "\n",
    "# calculate square numbers in parallel. Print result.\n",
    "squares = rc[:].map_sync(lambda x: x**2, range(32))\n",
    "print(\"squares:\", squares)"
   ]
  },
  {
   "cell_type": "code",
   "execution_count": null,
   "metadata": {
    "collapsed": true
   },
   "outputs": [],
   "source": []
  }
 ],
 "metadata": {
  "anaconda-cloud": {},
  "kernelspec": {
   "display_name": "Python [default]",
   "language": "python",
   "name": "python3"
  },
  "language_info": {
   "codemirror_mode": {
    "name": "ipython",
    "version": 3
   },
   "file_extension": ".py",
   "mimetype": "text/x-python",
   "name": "python",
   "nbconvert_exporter": "python",
   "pygments_lexer": "ipython3",
   "version": "3.5.2"
  }
 },
 "nbformat": 4,
 "nbformat_minor": 1
}
