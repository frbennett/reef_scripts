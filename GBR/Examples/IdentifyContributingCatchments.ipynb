{
 "cells": [
  {
   "cell_type": "code",
   "execution_count": 1,
   "metadata": {
    "collapsed": false
   },
   "outputs": [],
   "source": [
    "#from veneer.manage import create_command_line\n",
    "\n",
    "#import veneer-py\n",
    "\n",
    "from veneer.manage import start, create_command_line, kill_all_now\n",
    "import veneer\n",
    "import geopandas"
   ]
  },
  {
   "cell_type": "code",
   "execution_count": 2,
   "metadata": {
    "collapsed": false
   },
   "outputs": [
    {
     "data": {
      "text/plain": [
       "'C:\\\\tempveneer\\\\veneer_cmd\\\\FlowMatters.Source.VeneerCmd.exe'"
      ]
     },
     "execution_count": 2,
     "metadata": {},
     "output_type": "execute_result"
    }
   ],
   "source": [
    "veneer_install = 'D:/PythonScriptingForGBR/VeneerPlugin/v411'\n",
    "source_version = '4.1.1'\n",
    "cmd_directory = 'C:\\\\tempveneer\\\\veneer_cmd'\n",
    "path = create_command_line(veneer_install,source_version,dest=cmd_directory)\n",
    "path"
   ]
  },
  {
   "cell_type": "code",
   "execution_count": 3,
   "metadata": {
    "collapsed": true
   },
   "outputs": [],
   "source": [
    "catchment_project='D:\\\\Xike\\\\bu\\\\bu_reefhydro_bo_411_noMP.rsproj'\n",
    "num_copies=1    # Important - set this to be a number ~ the number of CPU cores in your system!\n",
    "first_port=9950"
   ]
  },
  {
   "cell_type": "code",
   "execution_count": 4,
   "metadata": {
    "collapsed": false
   },
   "outputs": [
    {
     "name": "stdout",
     "output_type": "stream",
     "text": [
      "Starting C:\\tempveneer\\veneer_cmd\\FlowMatters.Source.VeneerCmd.exe -p 9950 -s  \"D:\\Xike\\bu\\bu_reefhydro_bo_411_noMP.rsproj\"\n",
      "[0] Loading plugins\n",
      "\n",
      "[0] Loaded C:\\Program Files\\eWater\\Source 4.1.1.4513\\Plugins\\DERMTools.dll\n",
      "\n",
      "[0] Loaded C:\\Program Files\\eWater\\Source 4.1.1.4513\\Plugins\\PestFileProductionTools.dll\n",
      "\n",
      "[0] Loaded C:\\Program Files\\eWater\\Source 4.1.1.4513\\Plugins\\RebuildInternalSubcatchmentRaster.dll\n",
      "\n",
      "[0] Loaded C:\\Program Files\\eWater\\Source 4.1.1.4513\\Plugins\\ReefHydroCalModels.dll\n",
      "\n",
      "[0] Loaded C:\\Program Files\\eWater\\Source 4.1.1.4513\\Plugins\\SneakyLinkModelEditor.dll\n",
      "\n",
      "[0] Plugins loaded (5/5)\n",
      "\n",
      "[0] Opening project file: D:\\Xike\\bu\\bu_reefhydro_bo_411_noMP.rsproj\n",
      "\n",
      "ERROR[0] log4net:ERROR Failed to find configuration section 'log4net' in the application's .config file. Check your .config file for the <log4net> and <configSections> elements. The configuration section should look like: <section name=\"log4net\" type=\"log4net.Config.Log4NetConfigurationSectionHandler,log4net\" />\n",
      "\n",
      "[0] Loading project\n",
      "\n",
      "[0] Project Loaded\n",
      "\n",
      "[0] Burdekin Rebuild 2014\n",
      "\n",
      "[0] Scenario 1\n",
      "\n",
      "[0] [9:59:44 AM] Veneer, by Flow Matters: http://www.flowmatters.com.au\n",
      "\n",
      "[0] [9:59:44 AM] Started Source RESTful Service on port:9950\n",
      "\n",
      "Server 0 on port 9950 is ready\n",
      "[0] Server started. Ctrl-C to exit, or POST /shutdown command\n",
      "\n"
     ]
    }
   ],
   "source": [
    "processes,ports = start(catchment_project,\n",
    "                        n_instances=num_copies,\n",
    "                        ports=first_port,\n",
    "                        debug=True,\n",
    "                        veneer_exe=path,\n",
    "                        remote=False)"
   ]
  },
  {
   "cell_type": "code",
   "execution_count": 5,
   "metadata": {
    "collapsed": true
   },
   "outputs": [],
   "source": [
    "vs = [veneer.Veneer(port=p) for p in ports]"
   ]
  },
  {
   "cell_type": "code",
   "execution_count": 6,
   "metadata": {
    "collapsed": true
   },
   "outputs": [],
   "source": [
    "#kill_all_now(processes)"
   ]
  },
  {
   "cell_type": "code",
   "execution_count": 7,
   "metadata": {
    "collapsed": false
   },
   "outputs": [],
   "source": [
    "#%matplotlib inline\n",
    "v = vs[0]\n",
    "#v.network().as_dataframe().plot()"
   ]
  },
  {
   "cell_type": "code",
   "execution_count": 8,
   "metadata": {
    "collapsed": false
   },
   "outputs": [
    {
     "name": "stdout",
     "output_type": "stream",
     "text": [
      "1/01/2000 12:00:00 AM\n",
      "31/03/2000 11:00:00 PM\n"
     ]
    }
   ],
   "source": [
    "sDate = v.model.get('scenario.CurrentConfiguration.StartDate')\n",
    "print(sDate)\n",
    "\n",
    "eDate = v.model.get('scenario.CurrentConfiguration.EndDate')\n",
    "print(eDate)\n",
    "\n",
    "#v.run_model()"
   ]
  },
  {
   "cell_type": "code",
   "execution_count": 31,
   "metadata": {
    "collapsed": false,
    "scrolled": true
   },
   "outputs": [
    {
     "data": {
      "text/plain": [
       "[{'geometry': {'coordinates': [1589773.63051, -2283475.4690071], 'type': 'Point'}, 'id': '/network/nodes/258', 'type': 'Feature', 'properties': {'feature_type': 'node', 'name': 'Node on catchment SC #113', 'icon': '/resources/ConfluenceNodeModel', 'schematic_location': [0, 0]}}]"
      ]
     },
     "execution_count": 31,
     "metadata": {},
     "output_type": "execute_result"
    }
   ],
   "source": [
    "the_network = v.network()\n",
    "outlets = the_network.outlet_nodes()\n",
    "outlets"
   ]
  },
  {
   "cell_type": "code",
   "execution_count": 106,
   "metadata": {
    "collapsed": true
   },
   "outputs": [],
   "source": [
    "def processLinks(the_network, gaugeList, linkregs, currentLink, currentReg):\n",
    "    \n",
    "    theLinkName = currentLink['properties']['name']\n",
    "    \n",
    "    ## check if this link is a reporting point\n",
    "    if theLinkName in gaugeList:\n",
    "        currentReg = theLinkName\n",
    "        print(\"Found this (link) network element: \" + theLinkName)\n",
    "    \n",
    "    ## update the dictionary\n",
    "    linkregs[theLinkName] = currentReg\n",
    "    \n",
    "    #print(\"Link info: \" + str(currentLink))\n",
    "    \n",
    "    fNodeID = currentLink['properties']['from_node']\n",
    "    \n",
    "    #print(\"Node info: \" + fNodeID)\n",
    "    \n",
    "    fNode = the_network['features'].find_by_id(fNodeID)\n",
    "    #print(fNode)\n",
    "    \n",
    "    fNodeName = fNode[0]['properties']['name']\n",
    "    #print(fNodeName)\n",
    "    \n",
    "    ## check if this link is a reporting point\n",
    "    if fNodeName in gaugeList:\n",
    "        currentReg = fNodeName\n",
    "        print(\"Found this (node) network element: \" + fNodeName)\n",
    "    \n",
    "    ## recurse\n",
    "    #print(the_network.upstream_links(fNode[0]))\n",
    "    for upLink in the_network.upstream_links(fNode[0]):\n",
    "        #print(\"Now processing: \" + upLink['properties']['name'])\n",
    "        processLinks(the_network, gaugeList, linkregs, upLink, currentReg)\n",
    "\n",
    "    return"
   ]
  },
  {
   "cell_type": "code",
   "execution_count": 107,
   "metadata": {
    "collapsed": false
   },
   "outputs": [
    {
     "name": "stdout",
     "output_type": "stream",
     "text": [
      "Found this (node) network element: 120219A\n",
      "Found this (node) network element: 120206A\n",
      "Found this (link) network element: link for catchment SC #139\n"
     ]
    }
   ],
   "source": [
    "noRegStr = 'NoReg'\n",
    "gaugeList = ['120219A','120206A','link for catchment SC #139']\n",
    "\n",
    "# will assign regions to links, pair with subcatchs late\n",
    "all_links = the_network['features'].find_by_feature_type('link')\n",
    "linkregs = {}\n",
    "\n",
    "## Populate the dictionary of relationships first\n",
    "for link in all_links:\n",
    "    linkregs[link['properties']['name']] = noRegStr\n",
    "\n",
    "## now process the network\n",
    "for outNode in outlets:\n",
    "    curReg = noRegStr\n",
    "    \n",
    "    #print(outNode.keys())\n",
    "    #print(outNode['properties'].keys())\n",
    "    #print(outNode['properties']['name'])\n",
    "    \n",
    "    thisNodeName = outNode['properties']['name']\n",
    "    \n",
    "    if thisNodeName in gaugeList:\n",
    "        print(\"Found this network element: \" + thisNodeName)\n",
    "        ##Set the curReg\n",
    "        curReg = thisNodeName\n",
    "    #else:\n",
    "    #    print (thisNodeName + \" was not in the list\")\n",
    "    \n",
    "    \n",
    "    ## now we begin processing\n",
    "    for upLink in the_network.upstream_links(outNode):\n",
    "        processLinks(the_network, gaugeList, linkregs, upLink, curReg)\n",
    "    "
   ]
  },
  {
   "cell_type": "code",
   "execution_count": 111,
   "metadata": {
    "collapsed": false
   },
   "outputs": [
    {
     "data": {
      "text/plain": [
       "{'120213A': 'link for catchment SC #139',\n",
       " 'Link #8': 'NoReg',\n",
       " 'Link #9': 'NoReg',\n",
       " 'link for catchment SC #114': 'NoReg',\n",
       " 'link for catchment SC #115': 'NoReg',\n",
       " 'link for catchment SC #116': 'NoReg',\n",
       " 'link for catchment SC #117': 'NoReg',\n",
       " 'link for catchment SC #118': 'NoReg',\n",
       " 'link for catchment SC #119': 'NoReg',\n",
       " 'link for catchment SC #120': 'NoReg',\n",
       " 'link for catchment SC #121': 'NoReg',\n",
       " 'link for catchment SC #122': 'NoReg',\n",
       " 'link for catchment SC #123': 'NoReg',\n",
       " 'link for catchment SC #124': 'NoReg',\n",
       " 'link for catchment SC #125': 'NoReg',\n",
       " 'link for catchment SC #126': '120219A',\n",
       " 'link for catchment SC #127': '120219A',\n",
       " 'link for catchment SC #128': '120219A',\n",
       " 'link for catchment SC #129': '120206A',\n",
       " 'link for catchment SC #130': '120206A',\n",
       " 'link for catchment SC #131': '120206A',\n",
       " 'link for catchment SC #132': '120206A',\n",
       " 'link for catchment SC #133': '120206A',\n",
       " 'link for catchment SC #134': '120206A',\n",
       " 'link for catchment SC #135': '120206A',\n",
       " 'link for catchment SC #136': '120206A',\n",
       " 'link for catchment SC #137': '120219A',\n",
       " 'link for catchment SC #138': '120219A',\n",
       " 'link for catchment SC #139': 'link for catchment SC #139',\n",
       " 'link for catchment SC #140': 'link for catchment SC #139',\n",
       " 'link for catchment SC #141': 'link for catchment SC #139',\n",
       " 'link for catchment SC #142': 'link for catchment SC #139',\n",
       " 'link for catchment SC #143': 'link for catchment SC #139',\n",
       " 'link for catchment SC #144': 'link for catchment SC #139',\n",
       " 'link for catchment SC #145': 'link for catchment SC #139',\n",
       " 'link for catchment SC #146': 'link for catchment SC #139',\n",
       " 'link for catchment SC #147': 'link for catchment SC #139',\n",
       " 'link for catchment SC #148': 'link for catchment SC #139',\n",
       " 'link for catchment SC #149': 'link for catchment SC #139',\n",
       " 'link for catchment SC #150': 'link for catchment SC #139',\n",
       " 'link for catchment SC #151': 'link for catchment SC #139',\n",
       " 'link for catchment SC #152': 'link for catchment SC #139',\n",
       " 'link for catchment SC #153': 'link for catchment SC #139',\n",
       " 'link for catchment SC #154': 'link for catchment SC #139',\n",
       " 'link for catchment SC #155': 'link for catchment SC #139',\n",
       " 'link for catchment SC #156': 'link for catchment SC #139',\n",
       " 'link for catchment SC #158': 'link for catchment SC #139',\n",
       " 'link for catchment SC #159': 'link for catchment SC #139',\n",
       " 'link for catchment SC #160': 'link for catchment SC #139',\n",
       " 'link for catchment SC #161': 'link for catchment SC #139',\n",
       " 'link for catchment SC #162': 'link for catchment SC #139',\n",
       " 'link for catchment SC #163': 'link for catchment SC #139',\n",
       " 'link for catchment SC #164': 'link for catchment SC #139',\n",
       " 'link for catchment SC #165': 'link for catchment SC #139',\n",
       " 'link for catchment SC #166': 'link for catchment SC #139',\n",
       " 'link for catchment SC #167': 'link for catchment SC #139',\n",
       " 'link for catchment SC #1672': '120206A',\n",
       " 'link for catchment SC #1675': 'link for catchment SC #139',\n",
       " 'link for catchment SC #168': 'link for catchment SC #139',\n",
       " 'link for catchment SC #169': 'link for catchment SC #139',\n",
       " 'link for catchment SC #170': 'link for catchment SC #139',\n",
       " 'link for catchment SC #171': 'link for catchment SC #139',\n",
       " 'link for catchment SC #172': 'link for catchment SC #139',\n",
       " 'link for catchment SC #173': 'link for catchment SC #139',\n",
       " 'link for catchment SC #174': 'link for catchment SC #139',\n",
       " 'link for catchment SC #175': 'link for catchment SC #139',\n",
       " 'link for catchment SC #176': 'link for catchment SC #139',\n",
       " 'link for catchment SC #177': 'link for catchment SC #139',\n",
       " 'link for catchment SC #178': 'link for catchment SC #139',\n",
       " 'link for catchment SC #179': 'link for catchment SC #139',\n",
       " 'link for catchment SC #180': 'link for catchment SC #139',\n",
       " 'link for catchment SC #181': 'link for catchment SC #139',\n",
       " 'link for catchment SC #182': 'link for catchment SC #139',\n",
       " 'link for catchment SC #183': 'link for catchment SC #139',\n",
       " 'link for catchment SC #184': 'link for catchment SC #139',\n",
       " 'link for catchment SC #185': 'link for catchment SC #139',\n",
       " 'link for catchment SC #186': 'link for catchment SC #139',\n",
       " 'link for catchment SC #187': 'link for catchment SC #139',\n",
       " 'link for catchment SC #188': 'link for catchment SC #139',\n",
       " 'link for catchment SC #189': 'link for catchment SC #139',\n",
       " 'link for catchment SC #190': 'link for catchment SC #139',\n",
       " 'link for catchment SC #191': 'link for catchment SC #139',\n",
       " 'link for catchment SC #192': 'link for catchment SC #139',\n",
       " 'link for catchment SC #193': 'link for catchment SC #139',\n",
       " 'link for catchment SC #194': 'link for catchment SC #139',\n",
       " 'link for catchment SC #195': 'link for catchment SC #139',\n",
       " 'link for catchment SC #196': 'link for catchment SC #139',\n",
       " 'link for catchment SC #197': 'link for catchment SC #139',\n",
       " 'link for catchment SC #198': 'link for catchment SC #139',\n",
       " 'link for catchment SC #199': 'link for catchment SC #139',\n",
       " 'link for catchment SC #200': 'link for catchment SC #139',\n",
       " 'link for catchment SC #201': 'link for catchment SC #139',\n",
       " 'link for catchment SC #202': 'link for catchment SC #139',\n",
       " 'link for catchment SC #203': 'link for catchment SC #139',\n",
       " 'link for catchment SC #204': 'link for catchment SC #139',\n",
       " 'link for catchment SC #205': 'link for catchment SC #139',\n",
       " 'link for catchment SC #206': 'link for catchment SC #139',\n",
       " 'link for catchment SC #207': 'link for catchment SC #139',\n",
       " 'link for catchment SC #208': 'link for catchment SC #139',\n",
       " 'link for catchment SC #209': 'link for catchment SC #139',\n",
       " 'link for catchment SC #210': 'link for catchment SC #139',\n",
       " 'link for catchment SC #211': 'link for catchment SC #139',\n",
       " 'link for catchment SC #212': 'link for catchment SC #139',\n",
       " 'link for catchment SC #213': 'link for catchment SC #139',\n",
       " 'link for catchment SC #214': 'link for catchment SC #139',\n",
       " 'link for catchment SC #215': 'link for catchment SC #139',\n",
       " 'link for catchment SC #216': 'link for catchment SC #139',\n",
       " 'link for catchment SC #217': 'link for catchment SC #139',\n",
       " 'link for catchment SC #218': 'link for catchment SC #139',\n",
       " 'link for catchment SC #219': 'link for catchment SC #139',\n",
       " 'link for catchment SC #220': '120219A',\n",
       " 'link for catchment SC #221': '120219A',\n",
       " 'link for catchment SC #222': '120219A',\n",
       " 'link for catchment SC #223': '120219A',\n",
       " 'link for catchment SC #224': '120219A',\n",
       " 'link for catchment SC #225': '120219A',\n",
       " 'link for catchment SC #226': '120219A',\n",
       " 'link for catchment SC #227': '120219A',\n",
       " 'link for catchment SC #228': 'NoReg'}"
      ]
     },
     "execution_count": 111,
     "metadata": {},
     "output_type": "execute_result"
    }
   ],
   "source": [
    "linkregs\n",
    "\n",
    "#help(v.network)\n",
    "#help(run_results2)"
   ]
  },
  {
   "cell_type": "code",
   "execution_count": 23,
   "metadata": {
    "collapsed": true
   },
   "outputs": [],
   "source": [
    "kill_all_now(processes)"
   ]
  },
  {
   "cell_type": "code",
   "execution_count": null,
   "metadata": {
    "collapsed": true
   },
   "outputs": [],
   "source": []
  }
 ],
 "metadata": {
  "anaconda-cloud": {},
  "kernelspec": {
   "display_name": "Python [default]",
   "language": "python",
   "name": "python3"
  },
  "language_info": {
   "codemirror_mode": {
    "name": "ipython",
    "version": 3
   },
   "file_extension": ".py",
   "mimetype": "text/x-python",
   "name": "python",
   "nbconvert_exporter": "python",
   "pygments_lexer": "ipython3",
   "version": "3.5.2"
  }
 },
 "nbformat": 4,
 "nbformat_minor": 1
}
