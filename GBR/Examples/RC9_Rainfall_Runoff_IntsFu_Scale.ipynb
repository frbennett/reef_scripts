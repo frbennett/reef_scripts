{
 "cells": [
  {
   "cell_type": "raw",
   "metadata": {},
   "source": [
    "# Purpose: Script that reshapes source model climate table results and calculates the following for IntsFu (Intersected Fu) visualisation in GIS\n",
    "    \n",
    "    1. Rainfall (mm)\n",
    "    2. Actual ET (mm)\n",
    "    3. Total Runoff (mm)\n",
    "    4. Runoff (QuickFlow) (mm)\n",
    "    5. Baseflow (mm)\n",
    "    6. Runoff as (%) of Rainfall\n",
    "    7. Baseflow as (%) of Total Flow\n",
    "    8. Quickflow as (%) of Total Flow\n",
    " \n",
    "Author: Cameron\n",
    "\n",
    "Inputs:  1. Scenario of interest\n",
    "         \n",
    "Outputs: 1. Table of the above joined to IntsFu table\n",
    " \n",
    "Brief description: \n",
    " \n",
    "The default scenario results set contains a bunch of tables including a 'climateTable'. The ‘climateTable’ contains both rain, ET and runoff values at a IntsFu Scale (depth in m - summed for the model run period)\n",
    "\n",
    " \n",
    "To calculate and reshape the results at an IntsFu, this script does the following\n",
    " \n",
    " 1. Gets an example scenario results set\n",
    " 2. Loads the climateTable as we are chasing hydro results\n",
    " 3. Pivots the table \n",
    " 4. Converts the results to Average annual and (M) to (mm)\n",
    " 5. Calculates Total Runoff, Runoff as % of Rainfall, Baseflow as % of Total Runoff, QuickFlow as % of Total Runoff\n",
    " 6. Loads the intsFu table, removes superfluous columns and sets Catchment FU cols as index\n",
    " 7. Joins with regional IntsFU\n",
    " 8. Exports to CSV\n",
    "\n",
    "Quality control:\n",
    " \n",
    "Independently check the calculations yourself.\n",
    "\n",
    "Likely useful improvements:\n",
    "\n",
    "........?\n"
   ]
  },
  {
   "cell_type": "code",
   "execution_count": 20,
   "metadata": {
    "collapsed": false
   },
   "outputs": [
    {
     "name": "stdout",
     "output_type": "stream",
     "text": [
      "Populating the interactive namespace from numpy and matplotlib\n"
     ]
    }
   ],
   "source": [
    "# Some steps required until these Python modules are properly installed...\n",
    "#\n",
    "import sys\n",
    "import shutil\n",
    "import glob\n",
    "%pylab inline\n",
    "import pandas as pd\n",
    "import os\n",
    "#\n",
    "sys.path.append('../../../Modules')\n",
    "sys.path.append('../../../../veneer-py')\n",
    "# Get the Source scripting components (veneer) and GBR specific stuff\n",
    "#\n",
    "import veneer\n",
    "import gbr"
   ]
  },
  {
   "cell_type": "code",
   "execution_count": 21,
   "metadata": {
    "collapsed": false
   },
   "outputs": [],
   "source": [
    "### Declare variables of interest\n",
    "#\n",
    "Scenario_Directory = 'D:/a_sc_p2r_b_rc9/Model_runs/Burdekin Rebuild 2014'\n",
    "Relevant_Scenarios = ['BU_RC9_BL_3_Hill_1']\n",
    "Model_run_years = 31\n",
    "Spatial_Output = 'D:/a_sc_p2r_b_rc9/Model_runs/Burdekin Rebuild 2014/RC9_Rainfall_Runoff.csv'\n",
    "\n",
    "Region_intSCFU = \"d:/a_sc_p2r_b_rc9/Configuration/BU_intSCFU.csv\""
   ]
  },
  {
   "cell_type": "code",
   "execution_count": 22,
   "metadata": {
    "collapsed": false
   },
   "outputs": [],
   "source": [
    "# Get an example scenario results set\n",
    "#\n",
    "gbr.init(Scenario_Directory)\n",
    "results = gbr.Results('BU_RC9_BL_3_Hill_1')"
   ]
  },
  {
   "cell_type": "code",
   "execution_count": 23,
   "metadata": {
    "collapsed": false
   },
   "outputs": [
    {
     "data": {
      "text/html": [
       "<div>\n",
       "<table border=\"1\" class=\"dataframe\">\n",
       "  <thead>\n",
       "    <tr style=\"text-align: right;\">\n",
       "      <th></th>\n",
       "      <th>Catchment</th>\n",
       "      <th>FU</th>\n",
       "      <th>Element</th>\n",
       "      <th>Depth_m</th>\n",
       "    </tr>\n",
       "  </thead>\n",
       "  <tbody>\n",
       "    <tr>\n",
       "      <th>0</th>\n",
       "      <td>SC #1608</td>\n",
       "      <td>Water</td>\n",
       "      <td>Rainfall</td>\n",
       "      <td>23.149846</td>\n",
       "    </tr>\n",
       "  </tbody>\n",
       "</table>\n",
       "</div>"
      ],
      "text/plain": [
       "  Catchment     FU   Element    Depth_m\n",
       "0  SC #1608  Water  Rainfall  23.149846"
      ]
     },
     "execution_count": 23,
     "metadata": {},
     "output_type": "execute_result"
    }
   ],
   "source": [
    "# Get the climateTable as we are chasing hydro results\n",
    "#\n",
    "Hydro = results.get('climateTable')\n",
    "Hydro = Hydro.reset_index()\n",
    "# Remove zero values from climateTable, in order to remove redundant scenario place holder FU\n",
    "#\n",
    "Hydro = Hydro[Hydro>0].dropna()\n",
    "Hydro [0:1]"
   ]
  },
  {
   "cell_type": "code",
   "execution_count": 24,
   "metadata": {
    "collapsed": false
   },
   "outputs": [
    {
     "data": {
      "text/html": [
       "<div>\n",
       "<table border=\"1\" class=\"dataframe\">\n",
       "  <thead>\n",
       "    <tr style=\"text-align: right;\">\n",
       "      <th></th>\n",
       "      <th>Element</th>\n",
       "      <th>Actual ET</th>\n",
       "      <th>Baseflow</th>\n",
       "      <th>Rainfall</th>\n",
       "      <th>Runoff (QuickFlow)</th>\n",
       "    </tr>\n",
       "    <tr>\n",
       "      <th>Catchment</th>\n",
       "      <th>FU</th>\n",
       "      <th></th>\n",
       "      <th></th>\n",
       "      <th></th>\n",
       "      <th></th>\n",
       "    </tr>\n",
       "  </thead>\n",
       "  <tbody>\n",
       "    <tr>\n",
       "      <th>SC #10</th>\n",
       "      <th>Conservation</th>\n",
       "      <td>24.394108</td>\n",
       "      <td>1.732494</td>\n",
       "      <td>35.730551</td>\n",
       "      <td>9.500099</td>\n",
       "    </tr>\n",
       "  </tbody>\n",
       "</table>\n",
       "</div>"
      ],
      "text/plain": [
       "Element                 Actual ET  Baseflow   Rainfall  Runoff (QuickFlow)\n",
       "Catchment FU                                                              \n",
       "SC #10    Conservation  24.394108  1.732494  35.730551            9.500099"
      ]
     },
     "execution_count": 24,
     "metadata": {},
     "output_type": "execute_result"
    }
   ],
   "source": [
    "# Pivots the raw hydro results as column\n",
    "Hydro = Hydro.pivot_table(index = ['Catchment', 'FU'], columns = 'Element', values = 'Depth_m')\n",
    "Hydro [0:1]"
   ]
  },
  {
   "cell_type": "code",
   "execution_count": 25,
   "metadata": {
    "collapsed": true
   },
   "outputs": [],
   "source": [
    "# Average Annual / div by number of model run years\n",
    "Hydro = Hydro/Model_run_years\n",
    "# Conversion from (M) to (mm)\n",
    "Hydro = Hydro*1000"
   ]
  },
  {
   "cell_type": "code",
   "execution_count": 26,
   "metadata": {
    "collapsed": false
   },
   "outputs": [
    {
     "data": {
      "text/html": [
       "<div>\n",
       "<table border=\"1\" class=\"dataframe\">\n",
       "  <thead>\n",
       "    <tr style=\"text-align: right;\">\n",
       "      <th></th>\n",
       "      <th>Element</th>\n",
       "      <th>Actual ET</th>\n",
       "      <th>Baseflow</th>\n",
       "      <th>Rainfall</th>\n",
       "      <th>Runoff (QuickFlow)</th>\n",
       "      <th>Total_Runoff</th>\n",
       "      <th>Runoff_as_P_of_Rainfall</th>\n",
       "      <th>Baseflow_as_P_of_T_Runoff</th>\n",
       "      <th>Quickflow_as_P_of_T_Runoff</th>\n",
       "    </tr>\n",
       "    <tr>\n",
       "      <th>Catchment</th>\n",
       "      <th>FU</th>\n",
       "      <th></th>\n",
       "      <th></th>\n",
       "      <th></th>\n",
       "      <th></th>\n",
       "      <th></th>\n",
       "      <th></th>\n",
       "      <th></th>\n",
       "      <th></th>\n",
       "    </tr>\n",
       "  </thead>\n",
       "  <tbody>\n",
       "    <tr>\n",
       "      <th>SC #10</th>\n",
       "      <th>Conservation</th>\n",
       "      <td>786.906709</td>\n",
       "      <td>55.886899</td>\n",
       "      <td>1152.598408</td>\n",
       "      <td>306.45479</td>\n",
       "      <td>362.341689</td>\n",
       "      <td>31.436942</td>\n",
       "      <td>15.423811</td>\n",
       "      <td>84.576189</td>\n",
       "    </tr>\n",
       "  </tbody>\n",
       "</table>\n",
       "</div>"
      ],
      "text/plain": [
       "Element                  Actual ET   Baseflow     Rainfall  \\\n",
       "Catchment FU                                                 \n",
       "SC #10    Conservation  786.906709  55.886899  1152.598408   \n",
       "\n",
       "Element                 Runoff (QuickFlow)  Total_Runoff  \\\n",
       "Catchment FU                                               \n",
       "SC #10    Conservation           306.45479    362.341689   \n",
       "\n",
       "Element                 Runoff_as_P_of_Rainfall  Baseflow_as_P_of_T_Runoff  \\\n",
       "Catchment FU                                                                 \n",
       "SC #10    Conservation                31.436942                  15.423811   \n",
       "\n",
       "Element                 Quickflow_as_P_of_T_Runoff  \n",
       "Catchment FU                                        \n",
       "SC #10    Conservation                   84.576189  "
      ]
     },
     "execution_count": 26,
     "metadata": {},
     "output_type": "execute_result"
    }
   ],
   "source": [
    "# Calculates Total Runoff, Runoff as % of Rainfall, Baseflow as % of Total Runoff, QuickFlow as % of Total Runoff\n",
    "Hydro['Total_Runoff'] = Hydro['Baseflow'] + Hydro['Runoff (QuickFlow)'] \n",
    "Hydro['Runoff_as_P_of_Rainfall'] = Hydro['Total_Runoff'] / Hydro['Rainfall'] *100\n",
    "Hydro['Baseflow_as_P_of_T_Runoff'] = Hydro['Baseflow'] / Hydro['Total_Runoff'] *100\n",
    "Hydro['Quickflow_as_P_of_T_Runoff'] = Hydro['Runoff (QuickFlow)'] / Hydro['Total_Runoff'] *100\n",
    "Hydro [0:1]"
   ]
  },
  {
   "cell_type": "code",
   "execution_count": 27,
   "metadata": {
    "collapsed": false
   },
   "outputs": [
    {
     "data": {
      "text/html": [
       "<div>\n",
       "<table border=\"1\" class=\"dataframe\">\n",
       "  <thead>\n",
       "    <tr style=\"text-align: right;\">\n",
       "      <th></th>\n",
       "      <th></th>\n",
       "      <th>IntSCFU_S</th>\n",
       "    </tr>\n",
       "    <tr>\n",
       "      <th>Catchment</th>\n",
       "      <th>FU</th>\n",
       "      <th></th>\n",
       "    </tr>\n",
       "  </thead>\n",
       "  <tbody>\n",
       "    <tr>\n",
       "      <th>SC #494</th>\n",
       "      <th>Grazing Forested</th>\n",
       "      <td>0</td>\n",
       "    </tr>\n",
       "  </tbody>\n",
       "</table>\n",
       "</div>"
      ],
      "text/plain": [
       "                            IntSCFU_S\n",
       "Catchment FU                         \n",
       "SC #494   Grazing Forested          0"
      ]
     },
     "execution_count": 27,
     "metadata": {},
     "output_type": "execute_result"
    }
   ],
   "source": [
    "# Read in intsFu table, remove superfluous columns and set Catchment FU cols as index \n",
    "#\n",
    "Region_intSCFU = pd.read_csv(Region_intSCFU, error_bad_lines=False)\n",
    "Region_intSCFU.rename(columns={'IntFUs':'FU','IntSCs':'Catchment'},inplace=True)\n",
    "Region_intSCFU = Region_intSCFU.drop(['IntSCFU', 'FID'], axis=1)\n",
    "Region_intSCFU.set_index(['Catchment','FU'],inplace=True)\n",
    "Region_intSCFU [0:1]"
   ]
  },
  {
   "cell_type": "code",
   "execution_count": 28,
   "metadata": {
    "collapsed": false
   },
   "outputs": [
    {
     "data": {
      "text/html": [
       "<div>\n",
       "<table border=\"1\" class=\"dataframe\">\n",
       "  <thead>\n",
       "    <tr style=\"text-align: right;\">\n",
       "      <th></th>\n",
       "      <th></th>\n",
       "      <th>IntSCFU_S</th>\n",
       "      <th>Actual ET</th>\n",
       "      <th>Baseflow</th>\n",
       "      <th>Rainfall</th>\n",
       "      <th>Runoff (QuickFlow)</th>\n",
       "      <th>Total_Runoff</th>\n",
       "      <th>Runoff_as_P_of_Rainfall</th>\n",
       "      <th>Baseflow_as_P_of_T_Runoff</th>\n",
       "      <th>Quickflow_as_P_of_T_Runoff</th>\n",
       "    </tr>\n",
       "    <tr>\n",
       "      <th>Catchment</th>\n",
       "      <th>FU</th>\n",
       "      <th></th>\n",
       "      <th></th>\n",
       "      <th></th>\n",
       "      <th></th>\n",
       "      <th></th>\n",
       "      <th></th>\n",
       "      <th></th>\n",
       "      <th></th>\n",
       "      <th></th>\n",
       "    </tr>\n",
       "  </thead>\n",
       "  <tbody>\n",
       "    <tr>\n",
       "      <th>SC #494</th>\n",
       "      <th>Grazing Forested</th>\n",
       "      <td>0</td>\n",
       "      <td>577.167556</td>\n",
       "      <td>28.799791</td>\n",
       "      <td>741.750811</td>\n",
       "      <td>107.32309</td>\n",
       "      <td>136.12288</td>\n",
       "      <td>18.351565</td>\n",
       "      <td>21.1572</td>\n",
       "      <td>78.8428</td>\n",
       "    </tr>\n",
       "  </tbody>\n",
       "</table>\n",
       "</div>"
      ],
      "text/plain": [
       "                            IntSCFU_S   Actual ET   Baseflow    Rainfall  \\\n",
       "Catchment FU                                                               \n",
       "SC #494   Grazing Forested          0  577.167556  28.799791  741.750811   \n",
       "\n",
       "                            Runoff (QuickFlow)  Total_Runoff  \\\n",
       "Catchment FU                                                   \n",
       "SC #494   Grazing Forested           107.32309     136.12288   \n",
       "\n",
       "                            Runoff_as_P_of_Rainfall  \\\n",
       "Catchment FU                                          \n",
       "SC #494   Grazing Forested                18.351565   \n",
       "\n",
       "                            Baseflow_as_P_of_T_Runoff  \\\n",
       "Catchment FU                                            \n",
       "SC #494   Grazing Forested                    21.1572   \n",
       "\n",
       "                            Quickflow_as_P_of_T_Runoff  \n",
       "Catchment FU                                            \n",
       "SC #494   Grazing Forested                     78.8428  "
      ]
     },
     "execution_count": 28,
     "metadata": {},
     "output_type": "execute_result"
    }
   ],
   "source": [
    "## Joins with regional INTSFU\n",
    "#\n",
    "Climate_Table = Region_intSCFU.join(Hydro)\n",
    "Climate_Table [0:1]"
   ]
  },
  {
   "cell_type": "code",
   "execution_count": 29,
   "metadata": {
    "collapsed": false
   },
   "outputs": [],
   "source": [
    "# Exports To CSV\n",
    "#\n",
    "Climate_Table.to_csv(Spatial_Output)"
   ]
  },
  {
   "cell_type": "code",
   "execution_count": null,
   "metadata": {
    "collapsed": true
   },
   "outputs": [],
   "source": []
  }
 ],
 "metadata": {
  "kernelspec": {
   "display_name": "Python 3",
   "language": "python",
   "name": "python3"
  },
  "language_info": {
   "codemirror_mode": {
    "name": "ipython",
    "version": 3
   },
   "file_extension": ".py",
   "mimetype": "text/x-python",
   "name": "python",
   "nbconvert_exporter": "python",
   "pygments_lexer": "ipython3",
   "version": "3.6.0"
  }
 },
 "nbformat": 4,
 "nbformat_minor": 0
}
