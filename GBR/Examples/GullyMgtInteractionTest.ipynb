{
 "cells": [
  {
   "cell_type": "code",
   "execution_count": 1,
   "metadata": {
    "collapsed": true
   },
   "outputs": [],
   "source": [
    "import veneer\n",
    "import os\n",
    "import pandas as pd\n",
    "import numpy as np\n",
    "import sys\n",
    "\n",
    "v = veneer.Veneer()\n",
    "veneer.general.PRINT_SCRIPTS=False"
   ]
  },
  {
   "cell_type": "code",
   "execution_count": 2,
   "metadata": {
    "collapsed": false
   },
   "outputs": [
    {
     "name": "stdout",
     "output_type": "stream",
     "text": [
      "P_Particulate\n",
      "Ametryn\n",
      "Atrazine\n",
      "Tebuthiuron\n",
      "Sediment - Fine\n",
      "Sediment - Coarse\n",
      "N_Particulate\n",
      "N_DIN\n",
      "N_DON\n",
      "P_DOP\n",
      "P_FRP\n"
     ]
    }
   ],
   "source": [
    "constitList = v.model.get('scenario.SystemConfiguration.ConstituentsNames()')\n",
    "for cons in constitList:\n",
    "    print(cons['Value'])"
   ]
  },
  {
   "cell_type": "code",
   "execution_count": 3,
   "metadata": {
    "collapsed": false
   },
   "outputs": [
    {
     "name": "stdout",
     "output_type": "stream",
     "text": [
      "Cropping\n",
      "Grazing\n",
      "Grazing Closed\n",
      "Other\n",
      "Water\n"
     ]
    }
   ],
   "source": [
    "fuDefList = v.model.get('scenario.SystemFunctionalUnitConfiguration.fuDefinitions')\n",
    "fuDefList\n",
    "for fuDef in fuDefList:\n",
    "    print(fuDef['Value'])"
   ]
  },
  {
   "cell_type": "code",
   "execution_count": 4,
   "metadata": {
    "collapsed": false
   },
   "outputs": [
    {
     "name": "stdout",
     "output_type": "stream",
     "text": [
      "SC #3\n",
      "SC #2\n",
      "SC #5\n",
      "SC #4\n",
      "SC #1\n"
     ]
    }
   ],
   "source": [
    "catchs = v.model.get('scenario.Network.GetCatchments()')\n",
    "catchs\n",
    "for f in catchs:\n",
    "    print(f['Value'])"
   ]
  },
  {
   "cell_type": "code",
   "execution_count": 5,
   "metadata": {
    "collapsed": false
   },
   "outputs": [
    {
     "data": {
      "text/plain": [
       "[0, 1]"
      ]
     },
     "execution_count": 5,
     "metadata": {},
     "output_type": "execute_result"
    }
   ],
   "source": [
    "#Check the current mgt factor vals for 2 subcats\n",
    "#Being specific about FU & Constituent\n",
    "c = v.model.catchment.generation.get_param_values('Gully_Management_Practice_Factor',fus=['Grazing'], catchments = ['SC #3', 'SC #4'], constituents = ['Sediment - Fine'])\n",
    "c"
   ]
  },
  {
   "cell_type": "code",
   "execution_count": 6,
   "metadata": {
    "collapsed": false
   },
   "outputs": [
    {
     "data": {
      "text/plain": [
       "True"
      ]
     },
     "execution_count": 6,
     "metadata": {},
     "output_type": "execute_result"
    }
   ],
   "source": [
    "#Set one of them, and then check again\n",
    "v.model.catchment.generation.set_param_values('Gully_Management_Practice_Factor', [0.5], fromList=True, fus=['Grazing'], catchments = ['SC #3'], constituents = ['Sediment - Fine'])\n",
    "\n"
   ]
  },
  {
   "cell_type": "code",
   "execution_count": 7,
   "metadata": {
    "collapsed": false
   },
   "outputs": [
    {
     "data": {
      "text/plain": [
       "[0.5, 1]"
      ]
     },
     "execution_count": 7,
     "metadata": {},
     "output_type": "execute_result"
    }
   ],
   "source": [
    "c = v.model.catchment.generation.get_param_values('Gully_Management_Practice_Factor',fus=['Grazing'], catchments = ['SC #3', 'SC #4'], constituents = ['Sediment - Fine'])\n",
    "c"
   ]
  },
  {
   "cell_type": "code",
   "execution_count": 8,
   "metadata": {
    "collapsed": false
   },
   "outputs": [
    {
     "data": {
      "text/html": [
       "<div>\n",
       "<table border=\"1\" class=\"dataframe\">\n",
       "  <thead>\n",
       "    <tr style=\"text-align: right;\">\n",
       "      <th></th>\n",
       "      <th>MgtFactor</th>\n",
       "    </tr>\n",
       "    <tr>\n",
       "      <th>Date</th>\n",
       "      <th></th>\n",
       "    </tr>\n",
       "  </thead>\n",
       "  <tbody>\n",
       "    <tr>\n",
       "      <th>2000-01-01</th>\n",
       "      <td>0.9</td>\n",
       "    </tr>\n",
       "    <tr>\n",
       "      <th>2001-01-01</th>\n",
       "      <td>0.8</td>\n",
       "    </tr>\n",
       "    <tr>\n",
       "      <th>2002-01-01</th>\n",
       "      <td>0.7</td>\n",
       "    </tr>\n",
       "    <tr>\n",
       "      <th>2003-01-01</th>\n",
       "      <td>0.6</td>\n",
       "    </tr>\n",
       "    <tr>\n",
       "      <th>2004-01-01</th>\n",
       "      <td>0.5</td>\n",
       "    </tr>\n",
       "    <tr>\n",
       "      <th>2005-01-01</th>\n",
       "      <td>0.4</td>\n",
       "    </tr>\n",
       "    <tr>\n",
       "      <th>2006-01-01</th>\n",
       "      <td>0.3</td>\n",
       "    </tr>\n",
       "  </tbody>\n",
       "</table>\n",
       "</div>"
      ],
      "text/plain": [
       "            MgtFactor\n",
       "Date                 \n",
       "2000-01-01        0.9\n",
       "2001-01-01        0.8\n",
       "2002-01-01        0.7\n",
       "2003-01-01        0.6\n",
       "2004-01-01        0.5\n",
       "2005-01-01        0.4\n",
       "2006-01-01        0.3"
      ]
     },
     "execution_count": 8,
     "metadata": {},
     "output_type": "execute_result"
    }
   ],
   "source": [
    "##Now try a timeseries version\n",
    "pathToCSV = r'C:\\Beckers\\dummyMgtFactor.csv'\n",
    "#tsData = pd.read_csv(pathToCSV)#,index_col=0, header=0\n",
    "tsData = pd.read_csv(pathToCSV, index_col=0, header=0)\n",
    "\n",
    "tsData"
   ]
  },
  {
   "cell_type": "code",
   "execution_count": 9,
   "metadata": {
    "collapsed": false
   },
   "outputs": [
    {
     "data": {
      "text/plain": [
       "(200, None)"
      ]
     },
     "execution_count": 9,
     "metadata": {},
     "output_type": "execute_result"
    }
   ],
   "source": [
    "#Need to create data source first\n",
    "NEW_DATA_SOURCE = 'TempDataSource'\n",
    "v.create_data_source(NEW_DATA_SOURCE, tsData, units='none')#,units='mm/day'"
   ]
  },
  {
   "cell_type": "code",
   "execution_count": 10,
   "metadata": {
    "collapsed": false
   },
   "outputs": [
    {
     "data": {
      "text/plain": [
       "True"
      ]
     },
     "execution_count": 10,
     "metadata": {},
     "output_type": "execute_result"
    }
   ],
   "source": [
    "#try assignment\n",
    "#v.model.catchment.generation.assign_time_series('Gully_Management_Practice_Factor', tsData, NEW_DATA_SOURCE, fus=['Grazing'], catchments = ['SC #3'], constituents = ['Sediment - Fine'])\n",
    "#v.model.catchment.generation.assign_time_series('Annual_Gully_Load', tsData, NEW_DATA_SOURCE, fus=['Grazing'], catchments = ['SC #3'], constituents = ['Sediment - Fine'])\n",
    "v.model.catchment.generation.assign_time_series('Gully_Management_Practice_Factor', tsData, NEW_DATA_SOURCE, fus=['Grazing'], catchments = ['SC #3'], constituents = ['Sediment - Fine'])\n",
    "#v.model.catchment.runoff.assign_time_series('rainfall', tsData, NEW_DATA_SOURCE, fus=['Grazing'], catchments = ['SC #3'])\n",
    "#v.model.catchment.generation.assign_time_series('Annual_Gully_Load', tsData, NEW_DATA_SOURCE, mod)\n"
   ]
  },
  {
   "cell_type": "code",
   "execution_count": null,
   "metadata": {
    "collapsed": true
   },
   "outputs": [],
   "source": []
  }
 ],
 "metadata": {
  "anaconda-cloud": {},
  "kernelspec": {
   "display_name": "Python [default]",
   "language": "python",
   "name": "python3"
  },
  "language_info": {
   "codemirror_mode": {
    "name": "ipython",
    "version": 3
   },
   "file_extension": ".py",
   "mimetype": "text/x-python",
   "name": "python",
   "nbconvert_exporter": "python",
   "pygments_lexer": "ipython3",
   "version": "3.5.2"
  }
 },
 "nbformat": 4,
 "nbformat_minor": 1
}
