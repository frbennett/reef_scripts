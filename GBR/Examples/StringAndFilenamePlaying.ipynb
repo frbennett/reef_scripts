{
 "cells": [
  {
   "cell_type": "code",
   "execution_count": 67,
   "metadata": {
    "collapsed": false
   },
   "outputs": [],
   "source": [
    "import pandas\n",
    "import numpy\n",
    "import glob\n",
    "import os\n",
    "import datetime\n",
    "import calendar\n",
    "\n",
    "#path =r'\\\\nrm02002\\EXCHANGE\\Fractional Ground Cover\\Ground Cover'\n",
    "#filenames = glob.glob(path + \"/*.tif\")\n",
    "\n",
    "fractionalCoverDir = r'\\\\nrm02002\\EXCHANGE\\Fractional Ground Cover\\Ground Cover'\n",
    "patchDir = r'\\\\nrm02002\\EXCHANGE\\Fractional Ground Cover\\Ground Cover Patch'\n",
    "\n",
    "requiredStartDate = datetime.date(1990,1,1)\n",
    "requiredEndDate = datetime.date(1992,12,1)\n",
    "\n",
    "extensions = ('*.tif', '*.tiff') # the tuple of file types\n",
    "\n",
    "availCoverRasters = []\n",
    "availPatchRasters = []\n",
    "\n",
    "for theExt in extensions:\n",
    "    ###\n",
    "    availCoverRasters.extend(glob.glob(fractionalCoverDir + \"/\" + theExt))\n",
    "    availPatchRasters.extend(glob.glob(patchDir + \"/\" + theExt))\n",
    "\n"
   ]
  },
  {
   "cell_type": "code",
   "execution_count": 68,
   "metadata": {
    "collapsed": false
   },
   "outputs": [
    {
     "name": "stdout",
     "output_type": "stream",
     "text": [
      "124\n",
      "123\n"
     ]
    }
   ],
   "source": [
    "#help(filenames)\n",
    "print(len(availCoverRasters))\n",
    "print(len(availPatchRasters))"
   ]
  },
  {
   "cell_type": "code",
   "execution_count": 69,
   "metadata": {
    "collapsed": false
   },
   "outputs": [
    {
     "name": "stdout",
     "output_type": "stream",
     "text": [
      "\\\\nrm02002\\EXCHANGE\\Fractional Ground Cover\\Ground Cover\\lztmre_qld_m198803198805_dixa2.tif\n",
      "lztmre_qld_m198803198805_dixa2.tif\n"
     ]
    }
   ],
   "source": [
    "print(availCoverRasters[5])\n",
    "print(os.path.basename(availCoverRasters[5]))"
   ]
  },
  {
   "cell_type": "code",
   "execution_count": 74,
   "metadata": {
    "collapsed": false
   },
   "outputs": [],
   "source": [
    "def getDateBitFromFileName(fName):\n",
    "    \n",
    "    beginningIdx = fName.index('_m') + 2\n",
    "    endingIdx = beginningIdx + 12\n",
    "    #print(\"Found at: \" + str(beginningIdx))\n",
    "    #print(\"Found at: \" + fName[beginningIdx:endingIdx])\n",
    "    \n",
    "    searchBit = fName[beginningIdx:endingIdx]\n",
    "    \n",
    "    theStartDate = datetime.date(int(fName[beginningIdx:beginningIdx+4]),int(fName[beginningIdx+4:beginningIdx+6]),1)\n",
    "    \n",
    "    endYear = fName[beginningIdx+6:beginningIdx+10]\n",
    "    endMonth = fName[beginningIdx+10:beginningIdx+12]\n",
    "    \n",
    "    maxDay = calendar.monthrange(int(endYear), int(endMonth))[1]\n",
    "    \n",
    "    theEndDate = datetime.date(int(endYear),int(endMonth),maxDay)\n",
    "    \n",
    "    #if (theStartDate >= requiredStartDate) and (theStartDate <= requiredEndDate):\n",
    "    if (((theStartDate >= requiredStartDate) and (theStartDate <= requiredEndDate)) or ((theEndDate >= requiredStartDate) and (theEndDate <= requiredEndDate))):\n",
    "        print(fName + \" fits the profile... \" + str(theStartDate) + \" to \" + str(theEndDate) + \" The NBit: \" + searchBit)\n",
    "        \n",
    "        patchFileName = None\n",
    "        for patchFile in availPatchRasters:\n",
    "            if(os.path.basename(patchFile).find(searchBit) != -1):\n",
    "                patchFileName = patchFile\n",
    "                #print(\"Matchy matchy with: \" + patchFile)\n",
    "                break\n",
    "        \n",
    "        print(\"Matchy matchy with: \" + patchFileName)"
   ]
  },
  {
   "cell_type": "code",
   "execution_count": 75,
   "metadata": {
    "collapsed": false
   },
   "outputs": [
    {
     "name": "stdout",
     "output_type": "stream",
     "text": [
      "lztmre_qld_m198912199002_dixa2.tif fits the profile... 1989-12-01 to 1990-02-28 The NBit: 198912199002\n",
      "Matchy matchy with: \\\\nrm02002\\EXCHANGE\\Fractional Ground Cover\\Ground Cover Patch\\lztmre_rreef_m198912199002_dj4a2.tif\n",
      "lztmre_qld_m199003199005_dixa2.tif fits the profile... 1990-03-01 to 1990-05-31 The NBit: 199003199005\n",
      "Matchy matchy with: \\\\nrm02002\\EXCHANGE\\Fractional Ground Cover\\Ground Cover Patch\\lztmre_rreef_m199003199005_dj4a2.tif\n",
      "lztmre_qld_m199006199008_dixa2.tif fits the profile... 1990-06-01 to 1990-08-31 The NBit: 199006199008\n",
      "Matchy matchy with: \\\\nrm02002\\EXCHANGE\\Fractional Ground Cover\\Ground Cover Patch\\lztmre_rreef_m199006199008_dj4a2.tif\n",
      "lztmre_qld_m199009199011_dixa2.tif fits the profile... 1990-09-01 to 1990-11-30 The NBit: 199009199011\n",
      "Matchy matchy with: \\\\nrm02002\\EXCHANGE\\Fractional Ground Cover\\Ground Cover Patch\\lztmre_rreef_m199009199011_dj4a2.tif\n",
      "lztmre_qld_m199012199102_dixa2.tif fits the profile... 1990-12-01 to 1991-02-28 The NBit: 199012199102\n",
      "Matchy matchy with: \\\\nrm02002\\EXCHANGE\\Fractional Ground Cover\\Ground Cover Patch\\lztmre_rreef_m199012199102_dj4a2.tif\n",
      "lztmre_qld_m199103199105_dixa2.tif fits the profile... 1991-03-01 to 1991-05-31 The NBit: 199103199105\n",
      "Matchy matchy with: \\\\nrm02002\\EXCHANGE\\Fractional Ground Cover\\Ground Cover Patch\\lztmre_rreef_m199103199105_dj4a2.tif\n",
      "lztmre_qld_m199106199108_dixa2.tif fits the profile... 1991-06-01 to 1991-08-31 The NBit: 199106199108\n",
      "Matchy matchy with: \\\\nrm02002\\EXCHANGE\\Fractional Ground Cover\\Ground Cover Patch\\lztmre_rreef_m199106199108_dj4a2.tif\n",
      "lztmre_qld_m199109199111_dixa2.tif fits the profile... 1991-09-01 to 1991-11-30 The NBit: 199109199111\n",
      "Matchy matchy with: \\\\nrm02002\\EXCHANGE\\Fractional Ground Cover\\Ground Cover Patch\\lztmre_rreef_m199109199111_dj4a2.tif\n",
      "lztmre_qld_m199112199202_dixa2.tif fits the profile... 1991-12-01 to 1992-02-29 The NBit: 199112199202\n",
      "Matchy matchy with: \\\\nrm02002\\EXCHANGE\\Fractional Ground Cover\\Ground Cover Patch\\lztmre_rreef_m199112199202_dj4a2.tif\n",
      "lztmre_qld_m199203199205_dixa2.tif fits the profile... 1992-03-01 to 1992-05-31 The NBit: 199203199205\n",
      "Matchy matchy with: \\\\nrm02002\\EXCHANGE\\Fractional Ground Cover\\Ground Cover Patch\\lztmre_rreef_m199203199205_dj4a2.tif\n",
      "lztmre_qld_m199206199208_dixa2.tif fits the profile... 1992-06-01 to 1992-08-31 The NBit: 199206199208\n",
      "Matchy matchy with: \\\\nrm02002\\EXCHANGE\\Fractional Ground Cover\\Ground Cover Patch\\lztmre_rreef_m199206199208_dj4a2.tif\n",
      "lztmre_qld_m199209199211_dixa2.tif fits the profile... 1992-09-01 to 1992-11-30 The NBit: 199209199211\n",
      "Matchy matchy with: \\\\nrm02002\\EXCHANGE\\Fractional Ground Cover\\Ground Cover Patch\\lztmre_rreef_m199209199211_dj4a2.tif\n",
      "lztmre_qld_m199212199302_dixa2.tif fits the profile... 1992-12-01 to 1993-02-28 The NBit: 199212199302\n",
      "Matchy matchy with: \\\\nrm02002\\EXCHANGE\\Fractional Ground Cover\\Ground Cover Patch\\lztmre_rreef_m199212199302_dj4a2.tif\n"
     ]
    }
   ],
   "source": [
    "\n",
    "for theFile in availCoverRasters:\n",
    "    getDateBitFromFileName(os.path.basename(theFile))\n",
    "\n"
   ]
  },
  {
   "cell_type": "code",
   "execution_count": null,
   "metadata": {
    "collapsed": true
   },
   "outputs": [],
   "source": []
  }
 ],
 "metadata": {
  "anaconda-cloud": {},
  "kernelspec": {
   "display_name": "Python [default]",
   "language": "python",
   "name": "python3"
  },
  "language_info": {
   "codemirror_mode": {
    "name": "ipython",
    "version": 3
   },
   "file_extension": ".py",
   "mimetype": "text/x-python",
   "name": "python",
   "nbconvert_exporter": "python",
   "pygments_lexer": "ipython3",
   "version": "3.5.2"
  }
 },
 "nbformat": 4,
 "nbformat_minor": 1
}
