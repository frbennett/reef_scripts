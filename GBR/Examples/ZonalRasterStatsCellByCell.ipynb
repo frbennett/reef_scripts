{
 "cells": [
  {
   "cell_type": "code",
   "execution_count": 1,
   "metadata": {
    "collapsed": false,
    "scrolled": true
   },
   "outputs": [],
   "source": [
    "# This tool will not ensure that pixels and boundaries align\n",
    "# That is the job of the user\n",
    "import pandas\n",
    "import numpy\n",
    "from osgeo import gdal, gdalconst\n",
    "from osgeo import ogr\n",
    "import tempfile\n",
    "import os\n",
    "import sys\n",
    "import time\n",
    "sys.path.append('../Modules')\n",
    "#import zonal_stats_RasterInput\n",
    "import resample_raster\n",
    "#from rasterstats import zonal_stats\n",
    "import matplotlib.pyplot as plt\n",
    "%matplotlib inline\n",
    "\n",
    "#Path to intersected Subcatch/FUs shapefile\n",
    "pathToShapefile = \"D:/MW/spatial_RC7/ExportedCatchments-FUs Intersection.shp\"\n",
    "#pathToShapefile = \"D:/MW/spatial_RC7/mw_intscfu_clean.shp\"\n",
    "#pathToShapefile = \"D:/MW/spatial_RC7/badFUOnly.shp\"\n",
    "\n",
    "uniqueIDField = \"UNQID\"\n",
    "catchmentField = \"IntSCs\"\n",
    "FUField = \"IntFUs\"\n",
    "\n",
    "FUsToInclude = [\"Grazing Open\",\"Grazing Forested\",\"Forestry\",\"Conservation\"]\n",
    "\n",
    "#Path to template raster (probably subcatchments or DEM)\n",
    "rasterTemplateFile = \"D:/MW/spatial_RC7/CreatedSubcats.asc\"\n",
    "\n",
    "#Output intersected Subcat/FU raster\n",
    "#Will get a CSV of same name written 'mapping' each FU to a unique ID (the unique ID will be the raster values)\n",
    "rasterOutputFile = \"D:/MW/spatial_RC7/MW_USLE_IntSubCatFu.tif\"\n",
    "\n",
    "#Path to K raster\n",
    "rasterKFile = \"D:/MW/Ram_USLE/mw_k_fact.asc\"\n",
    "\n",
    "#Path to LS raster\n",
    "rasterLSFile = \"D:/MW/Ram_USLE/mw_ls_fact.asc\"\n",
    "\n",
    "#Path to Fines raster\n",
    "rasterFinesFile = \"D:/MW/Ram_USLE/mw_cs_surf.asc\"\n",
    "\n",
    "#Path to Scald raster\n",
    "rasterScaldFile = \"D:/MW/spatial_RC7/CreatedSubcats.asc\"\n",
    "\n",
    "#Directory of CFactor rasters\n",
    "cFactorDir = \"D:/MW/spatial_RC7\"\n",
    "\n",
    "#declare a couple of variables\n",
    "IntSCFUStr = \"IntSCFU\"\n",
    "MeanKLSCStr = \"Mean_KLSC\"\n",
    "MeanKLSCFinesStr = \"Mean_KLSC_Fines\"\n",
    "MeanKStr = \"Mean_K\"\n",
    "MeanFinesStr = \"Mean_Fines\"\n",
    "MeanCfactStr = \"Mean_CFact\"\n",
    "MeanLSStr = \"Mean_LS\"\n",
    "MeanScaldStr = \"Mean_Scald\"\n",
    "AreaStr = \"Area\"\n",
    "TimeStampStr = \"Time_Stamp\"\n",
    "CellCountStr = \"Cell_Count\"\n",
    "\n",
    "#Directory and filename constants for USLE parameterisation\n",
    "USLE_DIR_KLSC = \"KLSC\";\n",
    "USLE_DIR_KLSCFINE = \"KLSC_Fines\";\n",
    "USLE_DIR_KLSC_CFACT = \"Cfact\";\n",
    "USLE_FILE_KLSC = \"USLE_KLSC_Total\";\n",
    "USLE_FILE_KLSCFINES = \"USLE_KLSC_FinePerc\";\n",
    "USLE_FILE_KLS_CFACT = \"CFactor\";\n",
    "\n",
    "rasterResultsDF = pandas.DataFrame(columns=[IntSCFUStr,TimeStampStr,MeanKLSCStr,MeanKLSCFinesStr,MeanKStr,MeanCfactStr,MeanFinesStr,MeanLSStr,MeanScaldStr,AreaStr,CellCountStr])\n",
    "#rasterResultsDF"
   ]
  },
  {
   "cell_type": "code",
   "execution_count": 2,
   "metadata": {
    "collapsed": false
   },
   "outputs": [
    {
     "data": {
      "text/plain": [
       "(1677868.63051, 30.0, 0.0, -2257960.4690071, 0.0, -30.0)"
      ]
     },
     "execution_count": 2,
     "metadata": {},
     "output_type": "execute_result"
    }
   ],
   "source": [
    "#load the template raster\n",
    "templateRas = gdal.Open(rasterTemplateFile)\n",
    "template_GeoTrans = templateRas.GetGeoTransform()\n",
    "template_GeoTrans"
   ]
  },
  {
   "cell_type": "code",
   "execution_count": 3,
   "metadata": {
    "collapsed": false
   },
   "outputs": [
    {
     "data": {
      "text/plain": [
       "(1672918.63051, 30.0, 0.0, -2251120.4690071, 0.0, -30.0)"
      ]
     },
     "execution_count": 3,
     "metadata": {},
     "output_type": "execute_result"
    }
   ],
   "source": [
    "#Load K factor\n",
    "kFactRas = gdal.Open(rasterKFile)\n",
    "kfact_GeoTrans = kFactRas.GetGeoTransform()\n",
    "kfact_GeoTrans"
   ]
  },
  {
   "cell_type": "code",
   "execution_count": 4,
   "metadata": {
    "collapsed": false
   },
   "outputs": [
    {
     "data": {
      "text/plain": [
       "-9999.0"
      ]
     },
     "execution_count": 4,
     "metadata": {},
     "output_type": "execute_result"
    }
   ],
   "source": [
    "kFactRas.GetRasterBand(1).GetNoDataValue()"
   ]
  },
  {
   "cell_type": "code",
   "execution_count": 5,
   "metadata": {
    "collapsed": false
   },
   "outputs": [
    {
     "name": "stdout",
     "output_type": "stream",
     "text": [
      "Kfactor raster resolution info didn't match template, attempted a resample\n"
     ]
    }
   ],
   "source": [
    "if (kfact_GeoTrans == template_GeoTrans):\n",
    "    print(\"Kfactor raster resolution info matches template, excellent\")\n",
    "else:\n",
    "    print(\"Kfactor raster resolution info didn't match template, attempted a resample\")\n",
    "    kFactRas = resample_raster.resample_raster_to_match_template(templateRas, kFactRas, os.path.join(tempfile.gettempdir(), \"resampledKFact.tif\"))\n",
    "    #kFactRas = resample_raster_to_match_template(templateRas, kFactRas, \"D:/aa/tester.tif\")\n",
    "    kfact_GeoTrans = kFactRas.GetGeoTransform()"
   ]
  },
  {
   "cell_type": "code",
   "execution_count": 6,
   "metadata": {
    "collapsed": false
   },
   "outputs": [
    {
     "name": "stdout",
     "output_type": "stream",
     "text": [
      "Kfactor raster resolution info now matches template, excellent\n"
     ]
    }
   ],
   "source": [
    "if (kfact_GeoTrans == template_GeoTrans):\n",
    "    print(\"Kfactor raster resolution info now matches template, excellent\")\n",
    "    kFactRas = None\n",
    "    kFactRas = gdal.Open(os.path.join(tempfile.gettempdir(), \"resampledKFact.tif\"))\n",
    "    kfact_GeoTrans = kFactRas.GetGeoTransform()\n",
    "else:\n",
    "    print(\"Kfactor raster resolution still not the same as the template, you shouldn't proceed\")\n",
    "#zone_ds = None\n",
    "#print(\"rows: \" + str(kFactRas.RasterYSize) + \" cols: \" + str(kFactRas.RasterXSize))"
   ]
  },
  {
   "cell_type": "code",
   "execution_count": 7,
   "metadata": {
    "collapsed": false
   },
   "outputs": [
    {
     "data": {
      "text/plain": [
       "(1677868.63051, 30.0, 0.0, -2257960.4690071, 0.0, -30.0)"
      ]
     },
     "execution_count": 7,
     "metadata": {},
     "output_type": "execute_result"
    }
   ],
   "source": [
    "#kFactRas.GetRasterBand(1).GetNoDataValue()\n",
    "#templateRas.GetRasterBand(1).GetNoDataValue()\n",
    "\n",
    "# The line below would get the kfactor raster written to disk, but it may not be necessary\n",
    "#kFactRas = None\n",
    "\n",
    "#this stuf to draw up a sample of KFactor, have to chop off heaps of edges so that the range in the colorbar doesn't consider -9999\n",
    "#kFactRasArray = kFactRas.ReadAsArray()\n",
    "#array_chop = kFactRasArray[3500:-3500,1500:-1500]  # chop off the outer specified pixels\n",
    "#plt.imshow(array_chop, interpolation='nearest')\n",
    "#plt.colorbar()\n",
    "#plt.title('K Factor')\n",
    "#plt.show()\n",
    "\n",
    "kfact_GeoTrans"
   ]
  },
  {
   "cell_type": "code",
   "execution_count": 8,
   "metadata": {
    "collapsed": false
   },
   "outputs": [
    {
     "data": {
      "text/plain": [
       "3823"
      ]
     },
     "execution_count": 8,
     "metadata": {},
     "output_type": "execute_result"
    }
   ],
   "source": [
    "#kFactRas.GetRasterBand(1).GetNoDataValue()\n",
    "kFactRas.RasterXSize"
   ]
  },
  {
   "cell_type": "code",
   "execution_count": 9,
   "metadata": {
    "collapsed": false
   },
   "outputs": [
    {
     "data": {
      "text/plain": [
       "8417"
      ]
     },
     "execution_count": 9,
     "metadata": {},
     "output_type": "execute_result"
    }
   ],
   "source": [
    "kFactRas.RasterYSize"
   ]
  },
  {
   "cell_type": "code",
   "execution_count": 10,
   "metadata": {
    "collapsed": false
   },
   "outputs": [
    {
     "data": {
      "text/plain": [
       "1286"
      ]
     },
     "execution_count": 10,
     "metadata": {},
     "output_type": "execute_result"
    }
   ],
   "source": [
    "#Open shapefile\n",
    "basePolys = ogr.Open(pathToShapefile)\n",
    "type(basePolys)\n",
    "nlay = basePolys.GetLayerCount()\n",
    "lyr = basePolys.GetLayer(0)\n",
    "ext = lyr.GetExtent()\n",
    "#nlay\n",
    "#ext\n",
    "lyr.GetFeatureCount()\n",
    "#plt.imshow(lyr)"
   ]
  },
  {
   "cell_type": "code",
   "execution_count": 11,
   "metadata": {
    "collapsed": false
   },
   "outputs": [],
   "source": [
    "featCount = 0\n",
    "for feat in lyr:\n",
    "    ##print(\"Doing something\")\n",
    "    #print(feat.GetFieldAsString(catchmentField) + \" and FU \" + feat.GetFieldAsString(FUField))\n",
    "    featCount += 1\n",
    "    if (featCount == 20):\n",
    "        break"
   ]
  },
  {
   "cell_type": "code",
   "execution_count": 12,
   "metadata": {
    "collapsed": false,
    "scrolled": true
   },
   "outputs": [
    {
     "data": {
      "text/plain": [
       "\"'Grazing Open','Grazing Forested','Forestry','Conservation'\""
      ]
     },
     "execution_count": 12,
     "metadata": {},
     "output_type": "execute_result"
    }
   ],
   "source": [
    "#FUsToInclude = [\"Grazing Open\",\"Grazing Forested\",\"Forestry\"]\n",
    "\n",
    "FUsAsSQL = \"\"\n",
    "count = 0\n",
    "for thisFU in FUsToInclude:\n",
    "    if(count == 0):\n",
    "        FUsAsSQL = \"'\" + thisFU + \"'\"\n",
    "    else:\n",
    "        FUsAsSQL += \",'\" + thisFU + \"'\"\n",
    "    count += 1\n",
    "\n",
    "FUsAsSQL"
   ]
  },
  {
   "cell_type": "code",
   "execution_count": 13,
   "metadata": {
    "collapsed": false
   },
   "outputs": [
    {
     "data": {
      "text/plain": [
       "644"
      ]
     },
     "execution_count": 13,
     "metadata": {},
     "output_type": "execute_result"
    }
   ],
   "source": [
    "lyr.SetAttributeFilter( FUField + \" IN (\" + FUsAsSQL + \")\")\n",
    "lyr.GetFeatureCount()"
   ]
  },
  {
   "cell_type": "code",
   "execution_count": 14,
   "metadata": {
    "collapsed": false
   },
   "outputs": [],
   "source": [
    "##help(templateRas)\n",
    "geo_transform = templateRas.GetGeoTransform()\n",
    "x_min = geo_transform[0]\n",
    "y_max = geo_transform[3]\n",
    "x_max = x_min + geo_transform[1] * templateRas.RasterXSize\n",
    "y_min = y_max + geo_transform[5] * templateRas.RasterYSize\n",
    "x_count = templateRas.RasterXSize\n",
    "y_count = templateRas.RasterYSize\n",
    "pixel_width = geo_transform[1]\n",
    "pixel_height = geo_transform[5]\n",
    "#y_min"
   ]
  },
  {
   "cell_type": "code",
   "execution_count": 15,
   "metadata": {
    "collapsed": false
   },
   "outputs": [
    {
     "data": {
      "text/plain": [
       "0"
      ]
     },
     "execution_count": 15,
     "metadata": {},
     "output_type": "execute_result"
    }
   ],
   "source": [
    "zone_ds = gdal.GetDriverByName(\"GTiff\").Create(rasterOutputFile, x_count, y_count, 1, gdal.GDT_Int32)\n",
    "##Doing MEM did not yield the expected unique vals\n",
    "##zone_ds = gdal.GetDriverByName(\"MEM\").Create(\"\", x_count, y_count, 1, gdal.GDT_Byte)\n",
    "# This was shifting the resulting raster northwards in our Albers stuff\n",
    "#zone_ds.SetGeoTransform((x_min, pixel_width, 0, y_min, 0, pixel_width))\n",
    "zone_ds.SetGeoTransform((x_min, pixel_width, 0, y_max, 0, pixel_height))\n",
    "band = zone_ds.GetRasterBand(1)\n",
    "NoData_value = -9999\n",
    "band.SetNoDataValue(NoData_value)\n",
    "band.FlushCache()\n",
    "gdal.RasterizeLayer(zone_ds, [1], lyr, options=[\"ATTRIBUTE=\" + uniqueIDField])"
   ]
  },
  {
   "cell_type": "code",
   "execution_count": 16,
   "metadata": {
    "collapsed": false
   },
   "outputs": [
    {
     "data": {
      "text/plain": [
       "3823"
      ]
     },
     "execution_count": 16,
     "metadata": {},
     "output_type": "execute_result"
    }
   ],
   "source": [
    "zone_ds.RasterXSize"
   ]
  },
  {
   "cell_type": "code",
   "execution_count": 17,
   "metadata": {
    "collapsed": false
   },
   "outputs": [
    {
     "data": {
      "text/plain": [
       "8417"
      ]
     },
     "execution_count": 17,
     "metadata": {},
     "output_type": "execute_result"
    }
   ],
   "source": [
    "zone_ds.RasterYSize"
   ]
  },
  {
   "cell_type": "code",
   "execution_count": 18,
   "metadata": {
    "collapsed": false
   },
   "outputs": [
    {
     "data": {
      "text/plain": [
       "osgeo.gdal.Dataset"
      ]
     },
     "execution_count": 18,
     "metadata": {},
     "output_type": "execute_result"
    }
   ],
   "source": [
    "##This bit essential to get the raster file written - but could we use it before writing out (and then having to read back in?)\n",
    "##Hopefully not needed if MEM type\n",
    "##zone_ds = None\n",
    "type(zone_ds)"
   ]
  },
  {
   "cell_type": "code",
   "execution_count": 19,
   "metadata": {
    "collapsed": false
   },
   "outputs": [
    {
     "data": {
      "text/plain": [
       "(1677868.63051, 30.0, 0.0, -2257960.4690071, 0.0, -30.0)"
      ]
     },
     "execution_count": 19,
     "metadata": {},
     "output_type": "execute_result"
    }
   ],
   "source": [
    "zone_ds.GetGeoTransform()"
   ]
  },
  {
   "cell_type": "code",
   "execution_count": 28,
   "metadata": {
    "collapsed": false
   },
   "outputs": [
    {
     "name": "stdout",
     "output_type": "stream",
     "text": [
      "Starting row: 0\n",
      "Starting row: 500\n",
      "Starting row: 1000\n",
      "Starting row: 1500\n",
      "Starting row: 2000\n",
      "Starting row: 2500\n",
      "Starting row: 3000\n",
      "Starting row: 3500\n",
      "Starting row: 4000\n",
      "Starting row: 4500\n",
      "Starting row: 5000\n",
      "Starting row: 5500\n",
      "Starting row: 6000\n",
      "Starting row: 6500\n",
      "Starting row: 7000\n",
      "Starting row: 7500\n",
      "Starting row: 8000\n",
      "Finished with this many unique zones on board: 642 Taking this long: 209.9999074935913\n"
     ]
    }
   ],
   "source": [
    "#zonesRasterArray = zone_ds.ReadAsArray()\n",
    "#uniq = numpy.unique(zonesRasterArray)\n",
    "##print(uniq)\n",
    "\n",
    "\n",
    "\n",
    "# So slow... would masking improve???\n",
    "start_time = time.time()\n",
    "\n",
    "zone_band = zone_ds.GetRasterBand(1)\n",
    "zoneND = zone_band.GetNoDataValue()\n",
    "zoneNumpy = zone_band.ReadAsArray()\n",
    "\n",
    "#zone_masked = numpy.ma.masked_where(numpy.not_equal(zoneNumpy, zoneND), zoneNumpy)\n",
    "\n",
    "data_band = kFactRas.GetRasterBand(1)\n",
    "dataND = data_band.GetNoDataValue()\n",
    "dataNumpy = data_band.ReadAsArray()\n",
    "\n",
    "zoneIDStr = \"zoneID\"\n",
    "zoneCountStr = \"zoneCount\"\n",
    "dataSumStr = \"dataSum\"\n",
    "dataCountStr = \"dataCount\"\n",
    "invalidCountStr = \"invalidCount\"\n",
    "\n",
    "#Dictionary of results\n",
    "#Using a pre-built dictionary, so not having to check for existance of a zoneID in a list, sped up MW\n",
    "# from 346 seconds to 210 seconds\n",
    "statsDict = {}\n",
    "uniq = numpy.unique(zoneNumpy)\n",
    "for num in uniq:\n",
    "    if num == zoneND:\n",
    "        continue\n",
    "    \n",
    "    statsDict[num] = {zoneCountStr: int(0), dataSumStr: float(0), dataCountStr: int(0), invalidCountStr: int(0)}\n",
    "\n",
    "\n",
    "#This to keep a track of the zones we've already added, to speed things up (hopefully)\n",
    "#addedZones = []\n",
    "#statsArray = []\n",
    "\n",
    "rowid = 0\n",
    "while rowid < zone_ds.RasterYSize:\n",
    "#while rowid < 4025:\n",
    "    \n",
    "    colid = 0\n",
    "    if rowid % 500 == 0:\n",
    "        print(\"Starting row: \" + str(rowid))\n",
    "    #print(\"Starting row: \" + str(rowid))\n",
    "    #while colid < 1575:\n",
    "    while colid < zone_ds.RasterXSize:\n",
    "        \n",
    "        zoneVal = zoneNumpy[rowid, colid]\n",
    "        #print(\"Just got this zone: \" + str(zoneVal))\n",
    "        \n",
    "        #print(\"Starting col: \" + str(colid))\n",
    "        \n",
    "        if zoneVal == zoneND:\n",
    "            colid += 1\n",
    "            continue\n",
    "        \n",
    "        #index = 0\n",
    "        #gotAMatch = False\n",
    "        \n",
    "        #if zoneVal not in addedZones:\n",
    "        #    addedZones.append(zoneVal)\n",
    "        #    thisZonesData = {zoneIDStr:zoneVal, zoneCountStr: int(0), dataSumStr: float(0), dataCountStr: int(0), invalidCountStr: int(0)}\n",
    "        #    statsArray.append(thisZonesData)\n",
    "            \n",
    "\n",
    "        #now we'll have an index for the correct zone\n",
    "        #need the pixel value from the data raster\n",
    "        #won't do geotransformations in this example\n",
    "        \n",
    "        dataVal = dataNumpy[rowid, colid]\n",
    "        \n",
    "        #theIdx = addedZones.index(zoneVal)\n",
    "        \n",
    "        #statsArray[theIdx][zoneCountStr] += 1\n",
    "        statsDict[zoneVal][zoneCountStr] += 1\n",
    "        \n",
    "        if dataVal == dataND:\n",
    "            #Invalid cell\n",
    "            statsDict[zoneVal][invalidCountStr] += 1\n",
    "        else:\n",
    "            #Valid cell\n",
    "            statsDict[zoneVal][dataSumStr] += dataVal\n",
    "            statsDict[zoneVal][dataCountStr] += 1\n",
    "            \n",
    "        colid += 1\n",
    "\n",
    "    rowid += 1\n",
    "\n",
    "elapsed_time = time.time() - start_time\n",
    "    \n",
    "print(\"Finished with this many unique zones on board: \" + str(len(statsDict)) + \" Taking this long: \" + str(elapsed_time))\n"
   ]
  },
  {
   "cell_type": "code",
   "execution_count": 29,
   "metadata": {
    "collapsed": false,
    "scrolled": true
   },
   "outputs": [
    {
     "data": {
      "text/plain": [
       "{'dataCount': 19682,\n",
       " 'dataSum': 974.48800110816956,\n",
       " 'invalidCount': 0,\n",
       " 'zoneCount': 19682}"
      ]
     },
     "execution_count": 29,
     "metadata": {},
     "output_type": "execute_result"
    }
   ],
   "source": [
    "#type(lyr)\n",
    "#stats = zonal_stats(lyr, kFactRas)\n",
    "statsDict[0]"
   ]
  },
  {
   "cell_type": "code",
   "execution_count": 30,
   "metadata": {
    "collapsed": false,
    "scrolled": false
   },
   "outputs": [
    {
     "name": "stdout",
     "output_type": "stream",
     "text": [
      "Finished with this many unique zones on board: 642 Taking this long: 165.76627707481384\n"
     ]
    }
   ],
   "source": [
    "#Flat iterating???\n",
    "# This got MW down to 166 seconds\n",
    "\n",
    "start_time = time.time()\n",
    "\n",
    "statsDict2 = {}\n",
    "#uniq = numpy.unique(zoneNumpy)\n",
    "for num in uniq:\n",
    "    if num == zoneND:\n",
    "        continue\n",
    "    \n",
    "    statsDict2[num] = {zoneCountStr: int(0), dataSumStr: float(0), dataCountStr: int(0), invalidCountStr: int(0)}\n",
    "\n",
    "\n",
    "flatIdx = 0\n",
    "for zoneVal in zoneNumpy.flat:\n",
    "    \n",
    "    if zoneVal == zoneND:\n",
    "        flatIdx += 1\n",
    "        continue\n",
    "    \n",
    "    dataVal = dataNumpy.flat[flatIdx]\n",
    "    \n",
    "    if dataVal == dataND:\n",
    "        #Invalid cell\n",
    "        statsDict2[zoneVal][invalidCountStr] += 1\n",
    "    else:\n",
    "        #Valid cell\n",
    "        statsDict2[zoneVal][dataSumStr] += dataVal\n",
    "        statsDict2[zoneVal][dataCountStr] += 1\n",
    "    \n",
    "    flatIdx += 1\n",
    "\n",
    "\n",
    "elapsed_time = time.time() - start_time\n",
    "    \n",
    "print(\"Finished with this many unique zones on board: \" + str(len(statsDict2)) + \" Taking this long: \" + str(elapsed_time))\n"
   ]
  },
  {
   "cell_type": "code",
   "execution_count": 31,
   "metadata": {
    "collapsed": false
   },
   "outputs": [
    {
     "data": {
      "text/plain": [
       "{'dataCount': 19682,\n",
       " 'dataSum': 974.48800110816956,\n",
       " 'invalidCount': 0,\n",
       " 'zoneCount': 0}"
      ]
     },
     "execution_count": 31,
     "metadata": {},
     "output_type": "execute_result"
    }
   ],
   "source": [
    "statsDict2[0]"
   ]
  }
 ],
 "metadata": {
  "anaconda-cloud": {},
  "kernelspec": {
   "display_name": "Python [default]",
   "language": "python",
   "name": "python3"
  },
  "language_info": {
   "codemirror_mode": {
    "name": "ipython",
    "version": 3
   },
   "file_extension": ".py",
   "mimetype": "text/x-python",
   "name": "python",
   "nbconvert_exporter": "python",
   "pygments_lexer": "ipython3",
   "version": "3.5.2"
  }
 },
 "nbformat": 4,
 "nbformat_minor": 0
}
