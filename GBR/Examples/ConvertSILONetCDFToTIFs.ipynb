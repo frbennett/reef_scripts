{
 "cells": [
  {
   "cell_type": "code",
   "execution_count": 19,
   "metadata": {},
   "outputs": [],
   "source": [
    "import numpy\n",
    "import netCDF4\n",
    "from osgeo import gdal, osr\n",
    "#from datetime import datetime, date\n",
    "import datetime\n",
    "import os\n",
    "\n",
    "#https://s3-ap-southeast-2.amazonaws.com/silo-open-data/Recommended/annual/daily_rain/2021.daily_rain.nc\n",
    "#https://s3-ap-southeast-2.amazonaws.com/silo-open-data/annual/et_morton_wet/2021.et_morton_wet.nc\n",
    "\n",
    "#siloDIR = 'P:/projects/SILO/Wes/mwet/'\n",
    "#siloDIR = r'C:\\DDrive\\Maria\\Lachie_netCDF'\n",
    "#siloDIR = r'E:\\ClimateExtensions\\Rob_2020_Aug2021'\n",
    "#siloDIR = r'E:\\ClimateExtensions\\Rob_Nov2021'\n",
    "#siloDIR = r'E:\\ClimateExtensions\\Rob_Jan2022'\n",
    "#siloDIR = r'E:\\ClimateExtensions\\Cam'\n",
    "siloDIR = r'E:\\ClimateExtensions\\Rob_June_2022'\n",
    "#baseOutputDIR = 'C:/DDrive/SILO/tifs/mwet'\n",
    "#baseOutputDIR = 'C:/DDrive/SILO/tifs/mwetTest'\n",
    "#baseOutputDIR = 'C:\\DDrive\\Maria\\TIFs'\n",
    "\n",
    "#baseOutputDIR = r'C:\\DDrive\\Maria\\Lachie_netCDF\\TIFS'\n",
    "#baseOutputDIR = r'E:\\ClimateExtensions\\Rob_2020_Aug2021\\TIFs'\n",
    "#baseOutputDIR = r'E:\\ClimateExtensions\\Rob_Nov2021\\TIFs'\n",
    "#baseOutputDIR = r'E:\\ClimateExtensions\\Rob_Nov2021\\Tester'\n",
    "#baseOutputDIR = r'E:\\ClimateExtensions\\Rob_Jan2022\\TIFs'\n",
    "#baseOutputDIR = r'E:\\ClimateExtensions\\Cam\\TIFs'\n",
    "baseOutputDIR = r'E:\\ClimateExtensions\\Rob_June_2022\\TIFs'\n",
    "\n",
    "#baseOutputDIR = 'P:/projects/SILO/mwet44_posHeight'\n",
    "#baseOutputDIR = 'P:/projects/SILO/Wes/tifs/mwet'\n",
    "#baseOutputDIR = 'P:/projects/SILO/mwet10_negHeightRevArray'\n",
    "dataVarName = 'et_morton_wet'\n",
    "fileNameEndBit = '_mwet.tif'\n",
    "#dataVarName = 'daily_rain'\n",
    "#fileNameEndBit = '_rain.tif'\n",
    "\n",
    "#dataVars = {'daily_rain':'_rain.tif','et_morton_wet':'_mwet.tif'}\n",
    "\n",
    "# startYear = 1980\n",
    "# endYear = 1981\n",
    "\n",
    "#startYear = 2021\n",
    "#endYear = 2022\n",
    "\n",
    "#startYear = 1900\n",
    "#endYear = 1902\n",
    "\n",
    "startYear = 2022\n",
    "endYear = 2022\n"
   ]
  },
  {
   "cell_type": "code",
   "execution_count": 20,
   "metadata": {},
   "outputs": [
    {
     "name": "stdout",
     "output_type": "stream",
     "text": [
      "3.4.0\n"
     ]
    }
   ],
   "source": [
    "print(gdal.__version__)"
   ]
  },
  {
   "cell_type": "code",
   "execution_count": 21,
   "metadata": {},
   "outputs": [
    {
     "name": "stdout",
     "output_type": "stream",
     "text": [
      "1.18.5\n"
     ]
    }
   ],
   "source": [
    "print(numpy.__version__)"
   ]
  },
  {
   "cell_type": "code",
   "execution_count": 22,
   "metadata": {},
   "outputs": [],
   "source": [
    "if not os.path.exists(baseOutputDIR):\n",
    "    os.makedirs(baseOutputDIR)\n",
    "    print(\"Made dir: \" + baseOutputDIR)\n"
   ]
  },
  {
   "cell_type": "code",
   "execution_count": 23,
   "metadata": {},
   "outputs": [
    {
     "name": "stdout",
     "output_type": "stream",
     "text": [
      "Made dir: E:\\ClimateExtensions\\Rob_June_2022\\TIFs\\et_morton_wet\n"
     ]
    }
   ],
   "source": [
    "if not os.path.exists(baseOutputDIR + '\\\\' + dataVarName):\n",
    "    os.makedirs(baseOutputDIR + '\\\\' + dataVarName)\n",
    "    print(\"Made dir: \" + baseOutputDIR + '\\\\' + dataVarName)"
   ]
  },
  {
   "cell_type": "code",
   "execution_count": 24,
   "metadata": {},
   "outputs": [],
   "source": [
    "# for thisVar in dataVars:\n",
    "#     if not os.path.exists(baseOutputDIR + '\\\\' + thisVar):\n",
    "#         os.makedirs(baseOutputDIR + '\\\\' + thisVar)\n",
    "#         print(\"Made dir: \" + baseOutputDIR + '\\\\' + thisVar)"
   ]
  },
  {
   "cell_type": "code",
   "execution_count": 25,
   "metadata": {},
   "outputs": [
    {
     "name": "stdout",
     "output_type": "stream",
     "text": [
      "Current year: 2022\n",
      "Processing: E:\\ClimateExtensions\\Rob_June_2022\\2022.et_morton_wet.nc\n",
      "theSiloGT Original is: \n",
      "(111.975, 0.05, 0.0, -9.975, 0.0, -0.05)\n",
      "0.0\n",
      "All Done\n"
     ]
    }
   ],
   "source": [
    "\"\"\"\n",
    "startYear = 2018\n",
    "endYear = 2019\n",
    "\n",
    "siloDIR = 'P:/projects/SILO/Wes/mwet/'\n",
    "#baseOutputDIR = 'C:/DDrive/SILO/tifs/mwet'\n",
    "baseOutputDIR = 'C:/DDrive/SILO/tifs/mwetTest'\n",
    "dataVarName = 'et_morton_wet'\n",
    "fileNameEndBit = '_mwet.tif'\n",
    "\"\"\"\n",
    "\n",
    "gdalVers = gdal.__version__\n",
    "\n",
    "#there are things in here that aren't needed for newer GDAL 3.0.2\n",
    "#You'll need to conda uninstall gdal\n",
    "#then: conda install -c conda-forge gdal\n",
    "#That last bit chucks in all the osgeo stuff...\n",
    "\n",
    "\n",
    "# Loop over years\n",
    "#for year in range(1961, 1990):\n",
    "# range uses start and STOP values, so last value isn't processed\n",
    "#for year in range(2000, 2002):\n",
    "for year in range(startYear, endYear + 1):\n",
    "    print('Current year: ' + str(year))\n",
    "    \n",
    "    #create necessary dir for this year\n",
    "    thisYearDir = baseOutputDIR + '/' + dataVarName + '/' + str(year)\n",
    "    if not os.path.exists(thisYearDir):\n",
    "        os.makedirs(thisYearDir)\n",
    "    \n",
    "    theFile = siloDIR + '\\{:d}.'.format(year) + dataVarName + '.nc'\n",
    "    #with netCDF4.Dataset('{:d}.monthly_rain.nc'.format(year), 'r') as dataset:\n",
    "    print('Processing: ' + theFile)\n",
    "    #with netCDF4.Dataset(siloDIR + '{:d}.'.format(year) + dataVarName + '.nc', 'r') as theDataSet:\n",
    "    \n",
    "    theDataSet = gdal.Open(theFile)\n",
    "    \n",
    "    #Recent GDAL Upgrade means that the GT object is getting read OK\n",
    "    #Perhaps don't need the netCDF pixel version stuff below...\n",
    "    theSiloGT = theDataSet.GetGeoTransform()\n",
    "    print(\"theSiloGT Original is: \")\n",
    "    print(theSiloGT)\n",
    "    \n",
    "    if gdalVers == '2.3.3':\n",
    "        \n",
    "        print(\"Beginning GDAL 2.3.3 variant\")\n",
    "        #print( \"Driver: \",theDataSet.GetDriver().ShortName, theDataSet.GetDriver().LongName)\n",
    "        #print( \"Size is \", theDataSet.RasterXSize, theDataSet.RasterYSize)\n",
    "        #print( \"Bands = \", theDataSet.RasterCount)\n",
    "        #print( \"Coordinate System is:\", theDataSet.GetProjectionRef ())\n",
    "        #print( \"GetGeoTransform() = \", theDataSet.GetGeoTransform ())\n",
    "            \n",
    "        #Need some vals for creating output extent etc\n",
    "        #The GeoTransform object is:\n",
    "        \n",
    "        #GeoTransform[0] /* top left x */\n",
    "        #GeoTransform[1] /* w-e pixel resolution */\n",
    "        #GeoTransform[2] /* 0 */\n",
    "        #GeoTransform[3] /* top left y */\n",
    "        #GeoTransform[4] /* 0 */\n",
    "        #GeoTransform[5] /* n-s pixel resolution (negative value) */\n",
    "        \n",
    "        #zone_ds.SetGeoTransform((x_min, pixel_width, 0, y_max, 0, pixel_height))\n",
    "        #y_max is the SOUTHERN value! For us, that's MIN! Oh well...\n",
    "        \n",
    "        netCDFData = netCDF4.Dataset(theFile, 'r')\n",
    "        #print(netCDFData)\n",
    "        lats = netCDFData.variables['lat']\n",
    "        lons = netCDFData.variables['lon']\n",
    "        times = netCDFData.variables['time']\n",
    "        \n",
    "        #These need to be adjusted so that we get pixel edges shifted, leaving\n",
    "        #our SILO coords mid-pixel\n",
    "        pixWidth = 0.05\n",
    "        \n",
    "        #Source Gdal loading looks at this pixHeight value to work out the lower left coordinate\n",
    "        #Either way, Source will interpret inGeoTransform[3] as being our North coordinate,\n",
    "        #calculating the yllCorner to be a MORE NEGATIVE value.\n",
    "        \n",
    "        #xllCorner = inGeoTransform[0];\n",
    "        #yllCorner = (inGeoTransform[5] > 0)?inGeoTransform[3] - ( inGeoTransform[5] * inDataset.RasterYSize ):\n",
    "        #                                   inGeoTransform[3] + ( inGeoTransform[5] * inDataset.RasterYSize );\n",
    "        \n",
    "        pixHeight = pixWidth * -1\n",
    "        #pixHeight = pixWidth\n",
    "        \n",
    "        #x_min = lons[:1] - (0.5 * pixWidth)\n",
    "        x_min = min(lons) - (0.5 * pixWidth)\n",
    "        \n",
    "        #This gives first value, which in SILO is the smallest or 'most negative' or 'most southerly'\n",
    "        #y_min = lats[:1] - (0.5 * pixHeight)\n",
    "        \n",
    "        #This gives last value, which in SILO is the largest or 'most positive' or 'most northerly'\n",
    "        #y_min = lats[len(lats)-1:] - (0.5 * pixHeight)\n",
    "        \n",
    "        #-10\n",
    "        y_min = max(lats) - (0.5 * pixHeight)\n",
    "        \n",
    "        #-44\n",
    "        #yes, use lower left if supplying positive pixel height\n",
    "        #y_min = min(lats) - (0.5 * pixHeight)\n",
    "        \n",
    "        \n",
    "        netCDFData.close()\n",
    "        theSiloGT = [x_min, pixWidth, 0, y_min, 0, pixHeight]\n",
    "        print(\"theSiloGT is now:\")\n",
    "        print(theSiloGT)\n",
    "        \n",
    "        print(\"Finished GDAL 2.3.3 variant\")\n",
    "\n",
    "    \n",
    "    dStart = datetime.date(int(year), 1, 1)\n",
    "    \n",
    "    srs = osr.SpatialReference()\n",
    "    srs.ImportFromEPSG(4326)#WGS84\n",
    "\n",
    "    theDataSet.SetProjection(srs.ExportToWkt())\n",
    "    \n",
    "    #theDataSet.RasterCount is the number of days we have\n",
    "    #remembering that 'range' give a STOP value that isn't included\n",
    "    #however, depsite 'band' starting at zero, band IDs will start at 1!\n",
    "    for band in range( theDataSet.RasterCount ):\n",
    "           \n",
    "        dateAdd = band\n",
    "        dateNow = dStart + datetime.timedelta(days=dateAdd)\n",
    "        \n",
    "        dateForFileName = str(dateNow.year) + str(dateNow.month).zfill(2) + str(dateNow.day).zfill(2)\n",
    "        \n",
    "        band += 1\n",
    "        #print(\"[ GETTING BAND ]: \", band)\n",
    "        srcband = theDataSet.GetRasterBand(band)\n",
    "        \n",
    "        if srcband is None:\n",
    "            continue\n",
    "        \n",
    "        scaleFactor = 1.0\n",
    "        \n",
    "        bitToAdd = ''\n",
    "        if gdalVers == '2.3.3':\n",
    "            bitToAdd = dataVarName + '_'\n",
    "        \n",
    "        sf = srcband.GetMetadataItem(bitToAdd + 'scale_factor')\n",
    "        nd = srcband.GetMetadataItem(bitToAdd + '_FillValue')\n",
    "        off = srcband.GetMetadataItem(bitToAdd + 'add_offset')\n",
    "        \n",
    "#         #This is GDAL 2.3.3, but it would also need the inversion of y band (below)\n",
    "#         sf = srcband.GetMetadataItem(dataVarName + '_scale_factor')\n",
    "#         nd = srcband.GetMetadataItem(dataVarName + '__FillValue')\n",
    "#         off = srcband.GetMetadataItem(dataVarName + '_add_offset')\n",
    "        \n",
    "#         sf = srcband.GetMetadataItem('scale_factor')\n",
    "#         nd = srcband.GetMetadataItem('_FillValue')\n",
    "#         off = srcband.GetMetadataItem('add_offset')\n",
    "        \n",
    "        #print(sf)\n",
    "        \n",
    "        scaleFactor = float(sf)\n",
    "        rawNoData = float(nd)\n",
    "        offset = float(off)\n",
    "        if band == 1:\n",
    "            print(offset)\n",
    "            \n",
    "        rasterOutputFile = thisYearDir + '/' + dateForFileName + fileNameEndBit\n",
    "        outRaster = gdal.GetDriverByName(\"GTiff\").Create(rasterOutputFile, theDataSet.RasterXSize, theDataSet.RasterYSize, 1, gdal.GDT_Float32)\n",
    "        #outRaster.SetGeoTransform((x_min, pixWidth, 0, y_min, 0, pixHeight))\n",
    "        outRaster.SetGeoTransform(theSiloGT)\n",
    "        outBand = outRaster.GetRasterBand(1)\n",
    "        bandArray = srcband.ReadAsArray()\n",
    "        \n",
    "        #Why does gdal_grid turn image upside-down?\n",
    "        #revert the array lines\n",
    "        #A few things to note:\n",
    "        #\n",
    "        #The point used in the geotransform should be upper-left\n",
    "        #The resolution in y-direction should be negative\n",
    "        #In the projection (at least the ones I use) positive y-direction is up\n",
    "        #In numpy arrays positive y-direction is down\n",
    "        #When using gdal's WriteArray it uses the upper left corner\n",
    "        #\n",
    "        #Hope this helps other people's confusion.\n",
    "        \n",
    "        #Change in GDAL version means that WriteArray no longer needs an inversion of Y axis\n",
    "        #GDAL 2.3.3 needs this bandArray = bandArray[::-1,:]\n",
    "        if gdalVers == '2.3.3':\n",
    "            bandArray = bandArray[::-1,:]\n",
    "        \n",
    "        outBand.WriteArray((bandArray * scaleFactor) + offset)\n",
    "        outBand.SetNoDataValue((rawNoData * scaleFactor) + offset)\n",
    "        outRaster.SetProjection(srs.ExportToWkt())\n",
    "        outBand.FlushCache()\n",
    "    \n",
    "    \n",
    "\n",
    "print(\"All Done\")"
   ]
  },
  {
   "cell_type": "code",
   "execution_count": 9,
   "metadata": {},
   "outputs": [],
   "source": [
    "#bollocks = gdal.Open(r'E:\\ClimateExtensions\\Rob_June2022\\2022.daily_rain.nc')"
   ]
  },
  {
   "cell_type": "code",
   "execution_count": 10,
   "metadata": {},
   "outputs": [
    {
     "name": "stdout",
     "output_type": "stream",
     "text": [
      "None\n"
     ]
    }
   ],
   "source": [
    "#print(bollocks)"
   ]
  },
  {
   "cell_type": "code",
   "execution_count": 11,
   "metadata": {},
   "outputs": [
    {
     "ename": "FileNotFoundError",
     "evalue": "[Errno 2] No such file or directory: b'E:\\\\ClimateExtensions\\\\Rob_June2022\\\\2022.daily_rain.nc'",
     "output_type": "error",
     "traceback": [
      "\u001b[1;31m---------------------------------------------------------------------------\u001b[0m",
      "\u001b[1;31mFileNotFoundError\u001b[0m                         Traceback (most recent call last)",
      "\u001b[1;32m<ipython-input-11-710d9acf8e54>\u001b[0m in \u001b[0;36m<module>\u001b[1;34m\u001b[0m\n\u001b[1;32m----> 1\u001b[1;33m \u001b[0mnetCDFData2\u001b[0m \u001b[1;33m=\u001b[0m \u001b[0mnetCDF4\u001b[0m\u001b[1;33m.\u001b[0m\u001b[0mDataset\u001b[0m\u001b[1;33m(\u001b[0m\u001b[1;34mr'E:\\ClimateExtensions\\Rob_June2022\\2022.daily_rain.nc'\u001b[0m\u001b[1;33m,\u001b[0m \u001b[1;34m'r'\u001b[0m\u001b[1;33m)\u001b[0m\u001b[1;33m\u001b[0m\u001b[1;33m\u001b[0m\u001b[0m\n\u001b[0m",
      "\u001b[1;32msrc\\netCDF4\\_netCDF4.pyx\u001b[0m in \u001b[0;36mnetCDF4._netCDF4.Dataset.__init__\u001b[1;34m()\u001b[0m\n",
      "\u001b[1;32msrc\\netCDF4\\_netCDF4.pyx\u001b[0m in \u001b[0;36mnetCDF4._netCDF4._ensure_nc_success\u001b[1;34m()\u001b[0m\n",
      "\u001b[1;31mFileNotFoundError\u001b[0m: [Errno 2] No such file or directory: b'E:\\\\ClimateExtensions\\\\Rob_June2022\\\\2022.daily_rain.nc'"
     ]
    }
   ],
   "source": [
    "#netCDFData2 = netCDF4.Dataset(r'E:\\ClimateExtensions\\Rob_June2022\\2022.daily_rain.nc', 'r')"
   ]
  },
  {
   "cell_type": "code",
   "execution_count": null,
   "metadata": {},
   "outputs": [],
   "source": []
  }
 ],
 "metadata": {
  "kernelspec": {
   "display_name": "Python 3",
   "language": "python",
   "name": "python3"
  },
  "language_info": {
   "codemirror_mode": {
    "name": "ipython",
    "version": 3
   },
   "file_extension": ".py",
   "mimetype": "text/x-python",
   "name": "python",
   "nbconvert_exporter": "python",
   "pygments_lexer": "ipython3",
   "version": "3.8.3"
  }
 },
 "nbformat": 4,
 "nbformat_minor": 2
}
