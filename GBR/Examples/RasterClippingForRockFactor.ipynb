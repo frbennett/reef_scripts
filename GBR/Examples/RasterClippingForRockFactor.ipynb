{
 "cells": [
  {
   "cell_type": "code",
   "execution_count": 1,
   "metadata": {
    "collapsed": true
   },
   "outputs": [],
   "source": [
    "##Hoping to remove reliance on ArcGIS for ground cover processing\n",
    "\n",
    "# This tool will not ensure that pixels and boundaries align\n",
    "# That is the job of the user\n",
    "import pandas\n",
    "import numpy\n",
    "from osgeo import gdal, gdalconst\n",
    "from osgeo import ogr\n",
    "import glob\n",
    "import os\n",
    "#import datetime\n",
    "#import calendar\n",
    "##import matplotlib.pyplot as plt\n",
    "\n",
    "#Path to shapefile to use for clip/mask\n",
    "pathsToShapefile = ['P:/projects/Reefscape/SRTM_H_1SEC_30M_REGIONAL/CY/cy_footprint_buffer5km.shp','P:/projects/Reefscape/SRTM_H_1SEC_30M_REGIONAL/WT/wt_footprint_buffer5km.shp'\n",
    "                    ,'P:/projects/Reefscape/SRTM_H_1SEC_30M_REGIONAL/BU/bu_footprint_buffer5km.shp','P:/projects/Reefscape/SRTM_H_1SEC_30M_REGIONAL/MW/mw_footprint_buff5k.shp'\n",
    "                    ,'P:/projects/Reefscape/SRTM_H_1SEC_30M_REGIONAL/FI/fi_footprint_buffer5km.shp','P:/projects/Reefscape/SRTM_H_1SEC_30M_REGIONAL/BM/bm_footprint_buff5k.shp']\n",
    "\n",
    "#pathsToShapefile = ['P:/projects/Reefscape/SRTM_H_1SEC_30M_REGIONAL/MW/mw_footprint_buff5k.shp']\n",
    "\n",
    "#specify individually later\n",
    "#pathsToRasters = ['D:/RockFactor/raster/gbr_rockfact/hdr.adf']\n",
    "\n",
    "outputDir = r'D:/RockFactor/raster/regional'\n",
    "\n",
    "#Final NoData Val: can't use 0, as that is a 'valid' cover val....\n",
    "ourNoData = -1\n"
   ]
  },
  {
   "cell_type": "code",
   "execution_count": 2,
   "metadata": {
    "collapsed": true
   },
   "outputs": [],
   "source": [
    "#define a function that will interpret a raster extent matched to the shapefil bounding box\n",
    "def shapeExtent_To_Raster_Box(shapeExtent, rasterGeoInfo):\n",
    "    \n",
    "    #Do a bunch of stuff\n",
    "    originX = rasterGeoInfo[0]\n",
    "    originY = rasterGeoInfo[3]\n",
    "    \n",
    "    pixelWidth = rasterGeoInfo[1]\n",
    "    pixelHieght = rasterGeoInfo[5]\n",
    "    \n",
    "    clipXMin = int((shapeExtent[0] - originX) / pixelWidth)\n",
    "    clipXMax = int((shapeExtent[1] - originX) / pixelWidth) + 1\n",
    "    \n",
    "    clipYMin = int((shapeExtent[3] - originY) / pixelHieght)\n",
    "    clipYMax = int((shapeExtent[2] - originY) / pixelHieght) + 1\n",
    "    \n",
    "    colCount = clipXMax - clipXMin\n",
    "    rowCount = clipYMax - clipYMin\n",
    "    \n",
    "    newLeftCoord = originX + (clipXMin * pixelWidth)\n",
    "    newTopCoord = originY + (clipYMin * pixelHieght)\n",
    "    \n",
    "    #This is not a Geotrans object, because I also want to return the row & col count\n",
    "    #and the explicit row & col numbers to be used to clip the source raster\n",
    "    newGeoInfo = (newLeftCoord, newTopCoord, pixelWidth, pixelHieght, colCount, rowCount, clipXMin, clipXMax, clipYMin, clipYMax)\n",
    "    \n",
    "    return newGeoInfo"
   ]
  },
  {
   "cell_type": "code",
   "execution_count": 3,
   "metadata": {
    "collapsed": false
   },
   "outputs": [],
   "source": [
    "def processRasterFile(fullFileName, whatIsIt, shapeFiles):\n",
    "    \n",
    "    print(\"Opening raster: \" + os.path.basename(fullFileName) + \" which represents: \" + whatIsIt)\n",
    "    baseRaster = gdal.Open(fullFileName)\n",
    "    baseGeoInfo = baseRaster.GetGeoTransform()\n",
    "    \n",
    "    sourceRast = baseRaster.GetRasterBand(1).ReadAsArray()\n",
    "    \n",
    "    print(\"Base GeoInfo: \" + str(baseGeoInfo))\n",
    "    \n",
    "    \n",
    "    for thisShapefile in shapeFiles:\n",
    "        \n",
    "        fName = os.path.basename(thisShapefile)\n",
    "        clipPolys = ogr.Open(thisShapefile)\n",
    "        lyr = clipPolys.GetLayer(0)\n",
    "        clipExt = lyr.GetExtent()\n",
    "        \n",
    "        regCode = fName[0:2]\n",
    "        \n",
    "        print(\"Extent of \" + regCode + \" is : \" + str(clipExt))\n",
    "        \n",
    "        newRasterInfo = shapeExtent_To_Raster_Box(clipExt, baseGeoInfo)\n",
    "        \n",
    "        #clip = rast[ulY:lrY, ulX:lrX]\n",
    "        clipSourceRast = sourceRast[newRasterInfo[8]:newRasterInfo[9],newRasterInfo[6]:newRasterInfo[7]]\n",
    "        \n",
    "        #re-mask\n",
    "        clipSourceRast = numpy.ma.masked_values(clipSourceRast, baseRaster.GetRasterBand(1).GetNoDataValue())\n",
    "        \n",
    "        #Multiply to allow storage as useful integers\n",
    "        #clipSourceRast = clipSourceRast * 10000\n",
    "        clipSourceRast = clipSourceRast * 1\n",
    "        \n",
    "        #Change mask value\n",
    "        clipSourceRast = clipSourceRast.filled(ourNoData)\n",
    "        \n",
    "        #Remask\n",
    "        clipSourceRast = numpy.ma.masked_values(clipSourceRast, ourNoData)\n",
    "        \n",
    "        #Convert to Int, # i4 = 32-bit signed integer\n",
    "        #clipSourceRast = numpy.array(clipSourceRast, dtype='i4')\n",
    "        clipSourceRast = numpy.array(clipSourceRast, dtype='f')\n",
    "        \n",
    "        #Remask\n",
    "        #clipSourceRast = numpy.ma.masked_values(clipSourceRast, baseRaster.GetRasterBand(1).GetNoDataValue())\n",
    "        \n",
    "        outputFile = os.path.join(outputDir, regCode + \"_\" + whatIsIt + \".tif\")\n",
    "        print(\"Saving: \" + outputFile)\n",
    "        \n",
    "        #GDT_Byte\n",
    "        #outDS = gdal.GetDriverByName(\"GTiff\").Create(outputFile, newRasterInfo[4], newRasterInfo[5], 1, gdal.GDT_Int32)\n",
    "        outDS = gdal.GetDriverByName(\"GTiff\").Create(outputFile, newRasterInfo[4], newRasterInfo[5], 1, gdal.GDT_Float32)\n",
    "        #outDS = gdal.GetDriverByName(\"AAIGrid\").Create(outputFile, newRasterInfo[4], newRasterInfo[5], 1, gdal.GDT_Int16)\n",
    "        outDS.SetGeoTransform((newRasterInfo[0], newRasterInfo[2], 0, newRasterInfo[1], 0, newRasterInfo[3]))\n",
    "        \n",
    "        outBand = outDS.GetRasterBand(1)\n",
    "        outBand.WriteArray(clipSourceRast)\n",
    "        \n",
    "        # flush data to disk, set the NoData value and calculate stats\n",
    "        outBand.FlushCache()\n",
    "        outBand.SetNoDataValue(ourNoData)\n",
    "        outDS.SetProjection(baseRaster.GetProjection())\n",
    "        \n",
    "        #Clear memory\n",
    "        clipSourceRast = None\n",
    "        outDS = None\n",
    "        outBand = None\n",
    "        \n",
    "    \n",
    "    sourceRast = None\n",
    "    baseRaster = None\n",
    "\n"
   ]
  },
  {
   "cell_type": "code",
   "execution_count": 4,
   "metadata": {
    "collapsed": false
   },
   "outputs": [
    {
     "name": "stdout",
     "output_type": "stream",
     "text": [
      "Opening raster: hdr.adf which represents: rockfact\n",
      "Base GeoInfo: (1152688.63051, 30.0, 0.0, -1169500.4690071, 0.0, -30.0)\n",
      "Extent of cy is : (1152698.6305100098, 1451508.6305100136, -1796520.469007101, -1169510.469007101)\n",
      "Saving: D:/RockFactor/raster/regional\\cy_rockfact.tif\n",
      "Extent of wt is : (1347188.630510006, 1514148.6305100098, -2116290.469007099, -1756310.469007099)\n",
      "Saving: D:/RockFactor/raster/regional\\wt_rockfact.tif\n",
      "Extent of bu is : (1270658.630510006, 1719798.630510006, -2728800.469007097, -2003360.469007101)\n",
      "Saving: D:/RockFactor/raster/regional\\bu_rockfact.tif\n",
      "Extent of mw is : (1672868.6305100098, 1797558.6305100098, -2515470.469007101, -2252960.469007097)\n",
      "Saving: D:/RockFactor/raster/regional\\mw_rockfact.tif\n",
      "Extent of fi is : (1453658.630510006, 1953138.6305100098, -2991630.469007101, -2390180.469007099)\n",
      "Saving: D:/RockFactor/raster/regional\\fi_rockfact.tif\n",
      "Extent of bm is : (1797998.630509999, 2077338.6305099984, -3080010.4690071, -2725940.4690071)\n",
      "Saving: D:/RockFactor/raster/regional\\bm_rockfact.tif\n",
      "All done\n"
     ]
    }
   ],
   "source": [
    "#for theRaster in pathsToRasters:\n",
    "#    processRasterFile(theRaster, \"lfact\", pathsToShapefile)\n",
    "\n",
    "\n",
    "processRasterFile('D:/RockFactor/raster/gbr_rockfact/hdr.adf', \"rockfact\", pathsToShapefile)\n",
    "\n",
    "print(\"All done\")\n"
   ]
  },
  {
   "cell_type": "code",
   "execution_count": null,
   "metadata": {
    "collapsed": true
   },
   "outputs": [],
   "source": []
  }
 ],
 "metadata": {
  "anaconda-cloud": {},
  "kernelspec": {
   "display_name": "Python [default]",
   "language": "python",
   "name": "python3"
  },
  "language_info": {
   "codemirror_mode": {
    "name": "ipython",
    "version": 3
   },
   "file_extension": ".py",
   "mimetype": "text/x-python",
   "name": "python",
   "nbconvert_exporter": "python",
   "pygments_lexer": "ipython3",
   "version": "3.5.2"
  }
 },
 "nbformat": 4,
 "nbformat_minor": 1
}
