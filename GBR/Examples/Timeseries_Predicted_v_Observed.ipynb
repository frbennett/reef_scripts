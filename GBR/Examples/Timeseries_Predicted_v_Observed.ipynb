{
 "cells": [
  {
   "cell_type": "markdown",
   "metadata": {},
   "source": [
    "# Comparing observed and predicted time series across different time periods\n",
    "\n",
    "(eg During events, water years, etc)\n",
    "\n",
    "Demonstrating:\n",
    "* how to configure the gbr module to find your observed data and your timeclass file\n",
    "* access observed and predicted time series at sites\n",
    "* run statistics over full records\n",
    "* filter by different time periods using .of_timeclass, .of_month, .of_year,\n",
    "* group by (eg sum) by time periouds using .by_timeclass, .by_month, .by_year, .by_wateryear"
   ]
  },
  {
   "cell_type": "code",
   "execution_count": 1,
   "metadata": {
    "collapsed": false
   },
   "outputs": [
    {
     "name": "stdout",
     "output_type": "stream",
     "text": [
      "Populating the interactive namespace from numpy and matplotlib\n"
     ]
    }
   ],
   "source": [
    "# Some steps required until these Python modules are properly installed...\n",
    "import sys\n",
    "sys.path.append('../Modules')\n",
    "sys.path.append('../../../../veneer-py')\n",
    "# Get the Source scripting components (veneer) and GBR specific stuff\n",
    "import veneer\n",
    "import gbr\n",
    "%pylab inline\n",
    "import pandas as pd"
   ]
  },
  {
   "cell_type": "code",
   "execution_count": 2,
   "metadata": {
    "collapsed": false,
    "scrolled": true
   },
   "outputs": [
    {
     "data": {
      "text/plain": [
       "['Baseline_3818_OrigParams',\n",
       " 'FROM_ROB',\n",
       " 'FROM_ROB.zip',\n",
       " 'TEST_REARRANGE_PARALLEL',\n",
       " 'TEST_REPORTING_SHORT_RUN',\n",
       " 'TEST_REPORTING_SPEED',\n",
       " 'TIMING_WITHOUT_PARAC_WITHOUT_PARAN_WITHOUT_PRERUN_WITHOUT_PARAF',\n",
       " 'TIMING_WITHOUT_PARAC_WITHOUT_PARAN_WITH_PRERUN_WITHOUT_PARAF',\n",
       " 'TIMING_WITHOUT_PARAC_WITH_PARAN_WITHOUT_PRERUN_WITHOUT_PARAF',\n",
       " 'TIMING_WITHOUT_PARAC_WITH_PARAN_WITH_PRERUN_WITHOUT_PARAF',\n",
       " 'TIMING_WITH_PARAC_WITHOUT_PARAN_WITHOUT_PRERUN_WITHOUT_PARAF',\n",
       " 'TIMING_WITH_PARAC_WITHOUT_PARAN_WITHOUT_PRERUN_WITH_PARAF',\n",
       " 'TIMING_WITH_PARAC_WITHOUT_PARAN_WITH_PRERUN_WITHOUT_PARAF',\n",
       " 'TIMING_WITH_PARAC_WITHOUT_PARAN_WITH_PRERUN_WITH_PARAF',\n",
       " 'TIMING_WITH_PARAC_WITH_PARAN_WITHOUT_PRERUN',\n",
       " 'TIMING_WITH_PARAC_WITH_PARAN_WITHOUT_PRERUN_WITHOUT_PARAF',\n",
       " 'TIMING_WITH_PARAC_WITH_PARAN_WITHOUT_PRERUN_WITH_PARAF',\n",
       " 'TIMING_WITH_PARAC_WITH_PARAN_WITH_PRERUN',\n",
       " 'TIMING_WITH_PARAC_WITH_PARAN_WITH_PRERUN_WITHOUT_PARAF',\n",
       " 'TIMING_WITH_PARAC_WITH_PARAN_WITH_PRERUN_WITH_PARAF']"
      ]
     },
     "execution_count": 2,
     "metadata": {},
     "output_type": "execute_result"
    }
   ],
   "source": [
    "#gbr.init('E:/Beckers/Output/Scenario 1/')\n",
    "#gbr.init('F:/aa_Source_Temp/RC2015/Model Outputs/Fitzroy RC2015/')\n",
    "gbr.init('D:/Fitzroy/Results/Fitzroy Rebuild 2014',obs_directory='D:/Fitzroy/Obs/',timeperiods='D:/Fitzroy/Timeseries_class.csv')\n",
    "gbr.available()"
   ]
  },
  {
   "cell_type": "code",
   "execution_count": 3,
   "metadata": {
    "collapsed": true
   },
   "outputs": [],
   "source": [
    "results = gbr.Results('Baseline_3818_OrigParams')"
   ]
  },
  {
   "cell_type": "code",
   "execution_count": 4,
   "metadata": {
    "collapsed": true
   },
   "outputs": [],
   "source": [
    "site = 'GS133004A'"
   ]
  },
  {
   "cell_type": "code",
   "execution_count": 5,
   "metadata": {
    "collapsed": false
   },
   "outputs": [
    {
     "data": {
      "text/html": [
       "<div>\n",
       "<table border=\"1\" class=\"dataframe\">\n",
       "  <thead>\n",
       "    <tr style=\"text-align: right;\">\n",
       "      <th></th>\n",
       "      <th>Sediment - Fine</th>\n",
       "      <th>N_DIN</th>\n",
       "      <th>N_Particulate</th>\n",
       "      <th>P_Particulate</th>\n",
       "    </tr>\n",
       "    <tr>\n",
       "      <th>Date</th>\n",
       "      <th></th>\n",
       "      <th></th>\n",
       "      <th></th>\n",
       "      <th></th>\n",
       "    </tr>\n",
       "  </thead>\n",
       "  <tbody>\n",
       "    <tr>\n",
       "      <th>1986-07-01</th>\n",
       "      <td>0.000000</td>\n",
       "      <td>0.000000</td>\n",
       "      <td>0.000000</td>\n",
       "      <td>0.000000</td>\n",
       "    </tr>\n",
       "    <tr>\n",
       "      <th>1987-01-17</th>\n",
       "      <td>32047.525305</td>\n",
       "      <td>0.551800</td>\n",
       "      <td>95.241962</td>\n",
       "      <td>55.618475</td>\n",
       "    </tr>\n",
       "    <tr>\n",
       "      <th>1987-08-05</th>\n",
       "      <td>12351.770368</td>\n",
       "      <td>0.446077</td>\n",
       "      <td>36.649022</td>\n",
       "      <td>21.403714</td>\n",
       "    </tr>\n",
       "    <tr>\n",
       "      <th>1988-02-21</th>\n",
       "      <td>7577.508027</td>\n",
       "      <td>0.136408</td>\n",
       "      <td>25.405205</td>\n",
       "      <td>14.830365</td>\n",
       "    </tr>\n",
       "    <tr>\n",
       "      <th>1988-09-08</th>\n",
       "      <td>215.782206</td>\n",
       "      <td>2.751019</td>\n",
       "      <td>0.592720</td>\n",
       "      <td>0.346717</td>\n",
       "    </tr>\n",
       "    <tr>\n",
       "      <th>1989-03-27</th>\n",
       "      <td>6861.232070</td>\n",
       "      <td>0.941369</td>\n",
       "      <td>24.636546</td>\n",
       "      <td>13.919076</td>\n",
       "    </tr>\n",
       "    <tr>\n",
       "      <th>1989-10-13</th>\n",
       "      <td>33930.299883</td>\n",
       "      <td>1.763803</td>\n",
       "      <td>139.051003</td>\n",
       "      <td>80.460582</td>\n",
       "    </tr>\n",
       "    <tr>\n",
       "      <th>1990-05-01</th>\n",
       "      <td>1370.796463</td>\n",
       "      <td>21.960100</td>\n",
       "      <td>1.293301</td>\n",
       "      <td>0.839486</td>\n",
       "    </tr>\n",
       "  </tbody>\n",
       "</table>\n",
       "</div>"
      ],
      "text/plain": [
       "            Sediment - Fine      N_DIN  N_Particulate  P_Particulate\n",
       "Date                                                                \n",
       "1986-07-01         0.000000   0.000000       0.000000       0.000000\n",
       "1987-01-17     32047.525305   0.551800      95.241962      55.618475\n",
       "1987-08-05     12351.770368   0.446077      36.649022      21.403714\n",
       "1988-02-21      7577.508027   0.136408      25.405205      14.830365\n",
       "1988-09-08       215.782206   2.751019       0.592720       0.346717\n",
       "1989-03-27      6861.232070   0.941369      24.636546      13.919076\n",
       "1989-10-13     33930.299883   1.763803     139.051003      80.460582\n",
       "1990-05-01      1370.796463  21.960100       1.293301       0.839486"
      ]
     },
     "execution_count": 5,
     "metadata": {},
     "output_type": "execute_result"
    }
   ],
   "source": [
    "# Load the observed data for the site.\n",
    "# In this case, we're using the obs_directory provided earlier and looking for the first CSV file with the site in the name\n",
    "obs = results.load_observed_ts(site) # can also specify location here with ,location='D:/Fitzroy/Obs/')\n",
    "obs[0::200]"
   ]
  },
  {
   "cell_type": "code",
   "execution_count": null,
   "metadata": {
    "collapsed": true
   },
   "outputs": [],
   "source": []
  },
  {
   "cell_type": "code",
   "execution_count": 6,
   "metadata": {
    "collapsed": false
   },
   "outputs": [
    {
     "data": {
      "text/html": [
       "<div>\n",
       "<table border=\"1\" class=\"dataframe\">\n",
       "  <thead>\n",
       "    <tr style=\"text-align: right;\">\n",
       "      <th></th>\n",
       "      <th>Sediment - Fine</th>\n",
       "      <th>N_DIN</th>\n",
       "      <th>N_Particulate</th>\n",
       "      <th>P_Particulate</th>\n",
       "    </tr>\n",
       "    <tr>\n",
       "      <th>Date</th>\n",
       "      <th></th>\n",
       "      <th></th>\n",
       "      <th></th>\n",
       "      <th></th>\n",
       "    </tr>\n",
       "  </thead>\n",
       "  <tbody>\n",
       "    <tr>\n",
       "      <th>1986-07-01</th>\n",
       "      <td>0.000000</td>\n",
       "      <td>0.000000</td>\n",
       "      <td>0.000000</td>\n",
       "      <td>0.000000</td>\n",
       "    </tr>\n",
       "    <tr>\n",
       "      <th>1987-01-17</th>\n",
       "      <td>87073.570796</td>\n",
       "      <td>0.456618</td>\n",
       "      <td>363.371149</td>\n",
       "      <td>228.297011</td>\n",
       "    </tr>\n",
       "    <tr>\n",
       "      <th>1987-08-05</th>\n",
       "      <td>7629.736392</td>\n",
       "      <td>0.071936</td>\n",
       "      <td>27.548501</td>\n",
       "      <td>16.298770</td>\n",
       "    </tr>\n",
       "    <tr>\n",
       "      <th>1988-02-21</th>\n",
       "      <td>123968.767866</td>\n",
       "      <td>0.253576</td>\n",
       "      <td>539.587424</td>\n",
       "      <td>352.568166</td>\n",
       "    </tr>\n",
       "    <tr>\n",
       "      <th>1988-09-08</th>\n",
       "      <td>6686.227017</td>\n",
       "      <td>11.727760</td>\n",
       "      <td>33.640093</td>\n",
       "      <td>25.401210</td>\n",
       "    </tr>\n",
       "    <tr>\n",
       "      <th>1989-03-27</th>\n",
       "      <td>237081.214630</td>\n",
       "      <td>3.316091</td>\n",
       "      <td>1232.156098</td>\n",
       "      <td>882.820182</td>\n",
       "    </tr>\n",
       "    <tr>\n",
       "      <th>1989-10-13</th>\n",
       "      <td>296666.656582</td>\n",
       "      <td>3.587358</td>\n",
       "      <td>1056.402901</td>\n",
       "      <td>595.881215</td>\n",
       "    </tr>\n",
       "    <tr>\n",
       "      <th>1990-05-01</th>\n",
       "      <td>12577.430492</td>\n",
       "      <td>114.748207</td>\n",
       "      <td>8.367803</td>\n",
       "      <td>5.344544</td>\n",
       "    </tr>\n",
       "  </tbody>\n",
       "</table>\n",
       "</div>"
      ],
      "text/plain": [
       "            Sediment - Fine       N_DIN  N_Particulate  P_Particulate\n",
       "Date                                                                 \n",
       "1986-07-01         0.000000    0.000000       0.000000       0.000000\n",
       "1987-01-17     87073.570796    0.456618     363.371149     228.297011\n",
       "1987-08-05      7629.736392    0.071936      27.548501      16.298770\n",
       "1988-02-21    123968.767866    0.253576     539.587424     352.568166\n",
       "1988-09-08      6686.227017   11.727760      33.640093      25.401210\n",
       "1989-03-27    237081.214630    3.316091    1232.156098     882.820182\n",
       "1989-10-13    296666.656582    3.587358    1056.402901     595.881215\n",
       "1990-05-01     12577.430492  114.748207       8.367803       5.344544"
      ]
     },
     "execution_count": 6,
     "metadata": {},
     "output_type": "execute_result"
    }
   ],
   "source": [
    "# Load the modelled time series for the same site\n",
    "# The constituents are all stored in different files, so this loads the constituents that are present in the observed time series\n",
    "# (ie obs.columns)\n",
    "pred = results.get_node_ts(site,obs.columns)\n",
    "pred[0::200]"
   ]
  },
  {
   "cell_type": "markdown",
   "metadata": {},
   "source": [
    "## Stats over the whole time period"
   ]
  },
  {
   "cell_type": "code",
   "execution_count": 7,
   "metadata": {
    "collapsed": false
   },
   "outputs": [
    {
     "data": {
      "text/plain": [
       "Sediment - Fine   -16.621590\n",
       "N_DIN             -49.789654\n",
       "N_Particulate     -31.689644\n",
       "P_Particulate     -40.473407\n",
       "dtype: float64"
      ]
     },
     "execution_count": 7,
     "metadata": {},
     "output_type": "execute_result"
    }
   ],
   "source": [
    "gbr.stats.nse(obs, pred)"
   ]
  },
  {
   "cell_type": "code",
   "execution_count": 8,
   "metadata": {
    "collapsed": false
   },
   "outputs": [
    {
     "data": {
      "text/plain": [
       "-31.689644124435006"
      ]
     },
     "execution_count": 8,
     "metadata": {},
     "output_type": "execute_result"
    }
   ],
   "source": [
    "gbr.stats.nse(obs.N_Particulate, pred.N_Particulate)"
   ]
  },
  {
   "cell_type": "markdown",
   "metadata": {},
   "source": [
    "## Looking at particular time periods / timeclass"
   ]
  },
  {
   "cell_type": "code",
   "execution_count": 9,
   "metadata": {
    "collapsed": false
   },
   "outputs": [
    {
     "data": {
      "text/html": [
       "<div>\n",
       "<table border=\"1\" class=\"dataframe\">\n",
       "  <thead>\n",
       "    <tr style=\"text-align: right;\">\n",
       "      <th></th>\n",
       "      <th>Water_year</th>\n",
       "      <th>cat</th>\n",
       "    </tr>\n",
       "    <tr>\n",
       "      <th>date</th>\n",
       "      <th></th>\n",
       "      <th></th>\n",
       "    </tr>\n",
       "  </thead>\n",
       "  <tbody>\n",
       "    <tr>\n",
       "      <th>1900-12-31</th>\n",
       "      <td>1900/1901</td>\n",
       "      <td>NaN</td>\n",
       "    </tr>\n",
       "    <tr>\n",
       "      <th>1905-02-08</th>\n",
       "      <td>1904/1905</td>\n",
       "      <td>NaN</td>\n",
       "    </tr>\n",
       "    <tr>\n",
       "      <th>1909-03-19</th>\n",
       "      <td>1908/1909</td>\n",
       "      <td>NaN</td>\n",
       "    </tr>\n",
       "    <tr>\n",
       "      <th>1913-04-27</th>\n",
       "      <td>1912/1913</td>\n",
       "      <td>NaN</td>\n",
       "    </tr>\n",
       "    <tr>\n",
       "      <th>1917-06-05</th>\n",
       "      <td>1916/1917</td>\n",
       "      <td>NaN</td>\n",
       "    </tr>\n",
       "    <tr>\n",
       "      <th>1921-07-14</th>\n",
       "      <td>1921/1922</td>\n",
       "      <td>NaN</td>\n",
       "    </tr>\n",
       "    <tr>\n",
       "      <th>1925-08-22</th>\n",
       "      <td>1925/1926</td>\n",
       "      <td>NaN</td>\n",
       "    </tr>\n",
       "    <tr>\n",
       "      <th>1929-09-30</th>\n",
       "      <td>1929/1930</td>\n",
       "      <td>NaN</td>\n",
       "    </tr>\n",
       "    <tr>\n",
       "      <th>1933-11-08</th>\n",
       "      <td>1933/1934</td>\n",
       "      <td>NaN</td>\n",
       "    </tr>\n",
       "    <tr>\n",
       "      <th>1937-12-17</th>\n",
       "      <td>1937/1938</td>\n",
       "      <td>NaN</td>\n",
       "    </tr>\n",
       "    <tr>\n",
       "      <th>1942-01-25</th>\n",
       "      <td>1941/1942</td>\n",
       "      <td>NaN</td>\n",
       "    </tr>\n",
       "    <tr>\n",
       "      <th>1946-03-05</th>\n",
       "      <td>1945/1946</td>\n",
       "      <td>NaN</td>\n",
       "    </tr>\n",
       "    <tr>\n",
       "      <th>1950-04-13</th>\n",
       "      <td>1949/1950</td>\n",
       "      <td>NaN</td>\n",
       "    </tr>\n",
       "    <tr>\n",
       "      <th>1954-05-22</th>\n",
       "      <td>1953/1954</td>\n",
       "      <td>NaN</td>\n",
       "    </tr>\n",
       "    <tr>\n",
       "      <th>1958-06-30</th>\n",
       "      <td>1957/1958</td>\n",
       "      <td>NaN</td>\n",
       "    </tr>\n",
       "    <tr>\n",
       "      <th>1962-08-08</th>\n",
       "      <td>1962/1963</td>\n",
       "      <td>NaN</td>\n",
       "    </tr>\n",
       "    <tr>\n",
       "      <th>1966-09-16</th>\n",
       "      <td>1966/1967</td>\n",
       "      <td>NaN</td>\n",
       "    </tr>\n",
       "    <tr>\n",
       "      <th>1970-10-25</th>\n",
       "      <td>1970/1971</td>\n",
       "      <td>NaN</td>\n",
       "    </tr>\n",
       "    <tr>\n",
       "      <th>1974-12-03</th>\n",
       "      <td>1974/1975</td>\n",
       "      <td>NaN</td>\n",
       "    </tr>\n",
       "    <tr>\n",
       "      <th>1979-01-11</th>\n",
       "      <td>1978/1979</td>\n",
       "      <td>NaN</td>\n",
       "    </tr>\n",
       "    <tr>\n",
       "      <th>1983-02-19</th>\n",
       "      <td>1982/1983</td>\n",
       "      <td>NaN</td>\n",
       "    </tr>\n",
       "    <tr>\n",
       "      <th>1987-03-30</th>\n",
       "      <td>1986/1987</td>\n",
       "      <td>b1</td>\n",
       "    </tr>\n",
       "    <tr>\n",
       "      <th>1991-05-08</th>\n",
       "      <td>1990/1991</td>\n",
       "      <td>b5</td>\n",
       "    </tr>\n",
       "    <tr>\n",
       "      <th>1995-06-16</th>\n",
       "      <td>1994/1995</td>\n",
       "      <td>b6</td>\n",
       "    </tr>\n",
       "    <tr>\n",
       "      <th>1999-07-25</th>\n",
       "      <td>1999/2000</td>\n",
       "      <td>b10</td>\n",
       "    </tr>\n",
       "    <tr>\n",
       "      <th>2003-09-02</th>\n",
       "      <td>2003/2004</td>\n",
       "      <td>b14</td>\n",
       "    </tr>\n",
       "    <tr>\n",
       "      <th>2007-10-11</th>\n",
       "      <td>2007/2008</td>\n",
       "      <td>b18</td>\n",
       "    </tr>\n",
       "    <tr>\n",
       "      <th>2011-11-19</th>\n",
       "      <td>2011/2012</td>\n",
       "      <td>b22</td>\n",
       "    </tr>\n",
       "  </tbody>\n",
       "</table>\n",
       "</div>"
      ],
      "text/plain": [
       "           Water_year  cat\n",
       "date                      \n",
       "1900-12-31  1900/1901  NaN\n",
       "1905-02-08  1904/1905  NaN\n",
       "1909-03-19  1908/1909  NaN\n",
       "1913-04-27  1912/1913  NaN\n",
       "1917-06-05  1916/1917  NaN\n",
       "1921-07-14  1921/1922  NaN\n",
       "1925-08-22  1925/1926  NaN\n",
       "1929-09-30  1929/1930  NaN\n",
       "1933-11-08  1933/1934  NaN\n",
       "1937-12-17  1937/1938  NaN\n",
       "1942-01-25  1941/1942  NaN\n",
       "1946-03-05  1945/1946  NaN\n",
       "1950-04-13  1949/1950  NaN\n",
       "1954-05-22  1953/1954  NaN\n",
       "1958-06-30  1957/1958  NaN\n",
       "1962-08-08  1962/1963  NaN\n",
       "1966-09-16  1966/1967  NaN\n",
       "1970-10-25  1970/1971  NaN\n",
       "1974-12-03  1974/1975  NaN\n",
       "1979-01-11  1978/1979  NaN\n",
       "1983-02-19  1982/1983  NaN\n",
       "1987-03-30  1986/1987   b1\n",
       "1991-05-08  1990/1991   b5\n",
       "1995-06-16  1994/1995   b6\n",
       "1999-07-25  1999/2000  b10\n",
       "2003-09-02  2003/2004  b14\n",
       "2007-10-11  2007/2008  b18\n",
       "2011-11-19  2011/2012  b22"
      ]
     },
     "execution_count": 9,
     "metadata": {},
     "output_type": "execute_result"
    }
   ],
   "source": [
    "# We can load the timeclass file and look at it...\n",
    "time_periods = results.time_periods()\n",
    "time_periods[0::1500]"
   ]
  },
  {
   "cell_type": "code",
   "execution_count": 10,
   "metadata": {
    "collapsed": true
   },
   "outputs": [],
   "source": [
    "# !!!! BUT hopedfully you won't need to deal with that directly...\n",
    "# we now have some helpers, like 'give me all the timesteps for timeclass \"b2\"'"
   ]
  },
  {
   "cell_type": "code",
   "execution_count": 11,
   "metadata": {
    "collapsed": false
   },
   "outputs": [
    {
     "data": {
      "text/plain": [
       "Sediment - Fine   -15.324899\n",
       "N_DIN              -6.637214\n",
       "N_Particulate     -37.595497\n",
       "P_Particulate     -47.830868\n",
       "dtype: float64"
      ]
     },
     "execution_count": 11,
     "metadata": {},
     "output_type": "execute_result"
    }
   ],
   "source": [
    "# Stats in one particular baseflow period\n",
    "gbr.stats.nse(obs.of_timeclass('b2'),pred.of_timeclass('b2'))\n"
   ]
  },
  {
   "cell_type": "code",
   "execution_count": null,
   "metadata": {
    "collapsed": true
   },
   "outputs": [],
   "source": []
  },
  {
   "cell_type": "code",
   "execution_count": 12,
   "metadata": {
    "collapsed": false
   },
   "outputs": [
    {
     "data": {
      "text/html": [
       "<div>\n",
       "<table border=\"1\" class=\"dataframe\">\n",
       "  <thead>\n",
       "    <tr style=\"text-align: right;\">\n",
       "      <th></th>\n",
       "      <th>Sediment - Fine</th>\n",
       "      <th>N_DIN</th>\n",
       "      <th>N_Particulate</th>\n",
       "      <th>P_Particulate</th>\n",
       "    </tr>\n",
       "    <tr>\n",
       "      <th>Date</th>\n",
       "      <th></th>\n",
       "      <th></th>\n",
       "      <th></th>\n",
       "      <th></th>\n",
       "    </tr>\n",
       "  </thead>\n",
       "  <tbody>\n",
       "    <tr>\n",
       "      <th>1986-07-01</th>\n",
       "      <td>0.000000</td>\n",
       "      <td>0.000000</td>\n",
       "      <td>0.000000</td>\n",
       "      <td>0.000000</td>\n",
       "    </tr>\n",
       "    <tr>\n",
       "      <th>1987-01-17</th>\n",
       "      <td>32047.525305</td>\n",
       "      <td>0.551800</td>\n",
       "      <td>95.241962</td>\n",
       "      <td>55.618475</td>\n",
       "    </tr>\n",
       "    <tr>\n",
       "      <th>1987-08-05</th>\n",
       "      <td>12351.770368</td>\n",
       "      <td>0.446077</td>\n",
       "      <td>36.649022</td>\n",
       "      <td>21.403714</td>\n",
       "    </tr>\n",
       "    <tr>\n",
       "      <th>1988-02-21</th>\n",
       "      <td>7577.508027</td>\n",
       "      <td>0.136408</td>\n",
       "      <td>25.405205</td>\n",
       "      <td>14.830365</td>\n",
       "    </tr>\n",
       "    <tr>\n",
       "      <th>1988-09-19</th>\n",
       "      <td>26.203588</td>\n",
       "      <td>1.336680</td>\n",
       "      <td>0.027557</td>\n",
       "      <td>0.017787</td>\n",
       "    </tr>\n",
       "    <tr>\n",
       "      <th>1989-04-27</th>\n",
       "      <td>143786.729652</td>\n",
       "      <td>86.008401</td>\n",
       "      <td>455.431723</td>\n",
       "      <td>262.839900</td>\n",
       "    </tr>\n",
       "    <tr>\n",
       "      <th>1989-11-13</th>\n",
       "      <td>20149.025159</td>\n",
       "      <td>0.933700</td>\n",
       "      <td>77.861667</td>\n",
       "      <td>44.391768</td>\n",
       "    </tr>\n",
       "  </tbody>\n",
       "</table>\n",
       "</div>"
      ],
      "text/plain": [
       "            Sediment - Fine      N_DIN  N_Particulate  P_Particulate\n",
       "Date                                                                \n",
       "1986-07-01         0.000000   0.000000       0.000000       0.000000\n",
       "1987-01-17     32047.525305   0.551800      95.241962      55.618475\n",
       "1987-08-05     12351.770368   0.446077      36.649022      21.403714\n",
       "1988-02-21      7577.508027   0.136408      25.405205      14.830365\n",
       "1988-09-19        26.203588   1.336680       0.027557       0.017787\n",
       "1989-04-27    143786.729652  86.008401     455.431723     262.839900\n",
       "1989-11-13     20149.025159   0.933700      77.861667      44.391768"
      ]
     },
     "execution_count": 12,
     "metadata": {},
     "output_type": "execute_result"
    }
   ],
   "source": [
    "# Matching ALL baseflow periods -- everywhere where timeclass starts with 'b'\n",
    "def isBaseflow(timeclass):\n",
    "    return timeclass.startswith('b')\n",
    "\n",
    "observed_baseflow_days = obs.of_timeclass(isBaseflow)\n",
    "observed_baseflow_days[::200] # <-- Show me every 200th time step so I know what I'm looking at"
   ]
  },
  {
   "cell_type": "code",
   "execution_count": 13,
   "metadata": {
    "collapsed": false
   },
   "outputs": [
    {
     "data": {
      "text/html": [
       "<div>\n",
       "<table border=\"1\" class=\"dataframe\">\n",
       "  <thead>\n",
       "    <tr style=\"text-align: right;\">\n",
       "      <th></th>\n",
       "      <th>Sediment - Fine</th>\n",
       "      <th>N_DIN</th>\n",
       "      <th>N_Particulate</th>\n",
       "      <th>P_Particulate</th>\n",
       "    </tr>\n",
       "    <tr>\n",
       "      <th>Date</th>\n",
       "      <th></th>\n",
       "      <th></th>\n",
       "      <th></th>\n",
       "      <th></th>\n",
       "    </tr>\n",
       "  </thead>\n",
       "  <tbody>\n",
       "    <tr>\n",
       "      <th>1986-07-01</th>\n",
       "      <td>0.000000</td>\n",
       "      <td>0.000000</td>\n",
       "      <td>0.000000</td>\n",
       "      <td>0.000000</td>\n",
       "    </tr>\n",
       "    <tr>\n",
       "      <th>1987-01-17</th>\n",
       "      <td>87073.570796</td>\n",
       "      <td>0.456618</td>\n",
       "      <td>363.371149</td>\n",
       "      <td>228.297011</td>\n",
       "    </tr>\n",
       "    <tr>\n",
       "      <th>1987-08-05</th>\n",
       "      <td>7629.736392</td>\n",
       "      <td>0.071936</td>\n",
       "      <td>27.548501</td>\n",
       "      <td>16.298770</td>\n",
       "    </tr>\n",
       "    <tr>\n",
       "      <th>1988-02-21</th>\n",
       "      <td>123968.767866</td>\n",
       "      <td>0.253576</td>\n",
       "      <td>539.587424</td>\n",
       "      <td>352.568166</td>\n",
       "    </tr>\n",
       "    <tr>\n",
       "      <th>1988-09-19</th>\n",
       "      <td>590.299385</td>\n",
       "      <td>7.492880</td>\n",
       "      <td>1.874073</td>\n",
       "      <td>1.442180</td>\n",
       "    </tr>\n",
       "    <tr>\n",
       "      <th>1989-04-27</th>\n",
       "      <td>1574610.225258</td>\n",
       "      <td>2871.317029</td>\n",
       "      <td>4333.786920</td>\n",
       "      <td>3058.345970</td>\n",
       "    </tr>\n",
       "    <tr>\n",
       "      <th>1989-11-13</th>\n",
       "      <td>195742.732467</td>\n",
       "      <td>3.023593</td>\n",
       "      <td>850.997713</td>\n",
       "      <td>516.160671</td>\n",
       "    </tr>\n",
       "  </tbody>\n",
       "</table>\n",
       "</div>"
      ],
      "text/plain": [
       "            Sediment - Fine        N_DIN  N_Particulate  P_Particulate\n",
       "Date                                                                  \n",
       "1986-07-01         0.000000     0.000000       0.000000       0.000000\n",
       "1987-01-17     87073.570796     0.456618     363.371149     228.297011\n",
       "1987-08-05      7629.736392     0.071936      27.548501      16.298770\n",
       "1988-02-21    123968.767866     0.253576     539.587424     352.568166\n",
       "1988-09-19       590.299385     7.492880       1.874073       1.442180\n",
       "1989-04-27   1574610.225258  2871.317029    4333.786920    3058.345970\n",
       "1989-11-13    195742.732467     3.023593     850.997713     516.160671"
      ]
     },
     "execution_count": 13,
     "metadata": {},
     "output_type": "execute_result"
    }
   ],
   "source": [
    "predicted_baseflow_days = pred.of_timeclass(isBaseflow)\n",
    "predicted_baseflow_days[::200]"
   ]
  },
  {
   "cell_type": "code",
   "execution_count": 14,
   "metadata": {
    "collapsed": false
   },
   "outputs": [
    {
     "data": {
      "text/plain": [
       "Sediment - Fine   -14.218309\n",
       "N_DIN             -62.132665\n",
       "N_Particulate     -27.684544\n",
       "P_Particulate     -35.431385\n",
       "dtype: float64"
      ]
     },
     "execution_count": 14,
     "metadata": {},
     "output_type": "execute_result"
    }
   ],
   "source": [
    "gbr.stats.nse(observed_baseflow_days,predicted_baseflow_days)"
   ]
  },
  {
   "cell_type": "code",
   "execution_count": 15,
   "metadata": {
    "collapsed": false
   },
   "outputs": [
    {
     "data": {
      "text/plain": [
       "<matplotlib.collections.PathCollection at 0x92b9b38>"
      ]
     },
     "execution_count": 15,
     "metadata": {},
     "output_type": "execute_result"
    },
    {
     "data": {
      "image/png": "[encoded data removed]",
      "text/plain": [
       "<matplotlib.figure.Figure at 0x921d780>"
      ]
     },
     "metadata": {},
     "output_type": "display_data"
    }
   ],
   "source": [
    "scatter(observed_baseflow_days['Sediment - Fine'],predicted_baseflow_days['Sediment - Fine'])"
   ]
  },
  {
   "cell_type": "code",
   "execution_count": 16,
   "metadata": {
    "collapsed": false
   },
   "outputs": [
    {
     "data": {
      "text/html": [
       "<div>\n",
       "<table border=\"1\" class=\"dataframe\">\n",
       "  <thead>\n",
       "    <tr style=\"text-align: right;\">\n",
       "      <th></th>\n",
       "      <th>Sediment - Fine</th>\n",
       "      <th>N_DIN</th>\n",
       "      <th>N_Particulate</th>\n",
       "      <th>P_Particulate</th>\n",
       "    </tr>\n",
       "    <tr>\n",
       "      <th>cat</th>\n",
       "      <th></th>\n",
       "      <th></th>\n",
       "      <th></th>\n",
       "      <th></th>\n",
       "    </tr>\n",
       "  </thead>\n",
       "  <tbody>\n",
       "    <tr>\n",
       "      <th>b1</th>\n",
       "      <td>22958346.480942</td>\n",
       "      <td>553.200780</td>\n",
       "      <td>70781.651711</td>\n",
       "      <td>40966.984083</td>\n",
       "    </tr>\n",
       "    <tr>\n",
       "      <th>b2</th>\n",
       "      <td>14572680.536808</td>\n",
       "      <td>3104.873395</td>\n",
       "      <td>49668.624500</td>\n",
       "      <td>28693.718928</td>\n",
       "    </tr>\n",
       "    <tr>\n",
       "      <th>b3</th>\n",
       "      <td>9516914.130718</td>\n",
       "      <td>1847.328776</td>\n",
       "      <td>33903.329056</td>\n",
       "      <td>19422.249695</td>\n",
       "    </tr>\n",
       "  </tbody>\n",
       "</table>\n",
       "</div>"
      ],
      "text/plain": [
       "     Sediment - Fine        N_DIN  N_Particulate  P_Particulate\n",
       "cat                                                            \n",
       "b1   22958346.480942   553.200780   70781.651711   40966.984083\n",
       "b2   14572680.536808  3104.873395   49668.624500   28693.718928\n",
       "b3    9516914.130718  1847.328776   33903.329056   19422.249695"
      ]
     },
     "execution_count": 16,
     "metadata": {},
     "output_type": "execute_result"
    }
   ],
   "source": [
    "# Now lets aggregate to each baseflow period and test...\n",
    "observed_baseflows = observed_baseflow_days.by_timeclass().sum()\n",
    "predicted_baseflows = predicted_baseflow_days.by_timeclass().sum()\n",
    "observed_baseflows"
   ]
  },
  {
   "cell_type": "code",
   "execution_count": 17,
   "metadata": {
    "collapsed": false
   },
   "outputs": [
    {
     "data": {
      "text/plain": [
       "Sediment - Fine    -77.504557\n",
       "N_DIN             -321.355037\n",
       "N_Particulate     -240.570174\n",
       "P_Particulate     -304.807010\n",
       "dtype: float64"
      ]
     },
     "execution_count": 17,
     "metadata": {},
     "output_type": "execute_result"
    }
   ],
   "source": [
    "gbr.stats.nse(observed_baseflows,predicted_baseflows)"
   ]
  },
  {
   "cell_type": "code",
   "execution_count": 18,
   "metadata": {
    "collapsed": false
   },
   "outputs": [
    {
     "data": {
      "text/plain": [
       "<matplotlib.collections.PathCollection at 0x9bd98d0>"
      ]
     },
     "execution_count": 18,
     "metadata": {},
     "output_type": "execute_result"
    },
    {
     "data": {
      "image/png": "[encoded data removed]",
      "text/plain": [
       "<matplotlib.figure.Figure at 0x92d8d30>"
      ]
     },
     "metadata": {},
     "output_type": "display_data"
    }
   ],
   "source": [
    "scatter(observed_baseflows['Sediment - Fine'],predicted_baseflows['Sediment - Fine'])"
   ]
  },
  {
   "cell_type": "markdown",
   "metadata": {},
   "source": [
    "## Exploring timeclass further\n",
    "\n",
    "Looking at Events this time"
   ]
  },
  {
   "cell_type": "code",
   "execution_count": 19,
   "metadata": {
    "collapsed": false,
    "scrolled": true
   },
   "outputs": [
    {
     "data": {
      "text/html": [
       "<div>\n",
       "<table border=\"1\" class=\"dataframe\">\n",
       "  <thead>\n",
       "    <tr style=\"text-align: right;\">\n",
       "      <th></th>\n",
       "      <th>Sediment - Fine</th>\n",
       "      <th>N_DIN</th>\n",
       "      <th>N_Particulate</th>\n",
       "      <th>P_Particulate</th>\n",
       "    </tr>\n",
       "    <tr>\n",
       "      <th>Date</th>\n",
       "      <th></th>\n",
       "      <th></th>\n",
       "      <th></th>\n",
       "      <th></th>\n",
       "    </tr>\n",
       "  </thead>\n",
       "  <tbody>\n",
       "    <tr>\n",
       "      <th>1988-02-28</th>\n",
       "      <td>2524.371415</td>\n",
       "      <td>0.045442</td>\n",
       "      <td>8.463319</td>\n",
       "      <td>4.940493</td>\n",
       "    </tr>\n",
       "    <tr>\n",
       "      <th>1989-04-12</th>\n",
       "      <td>4703.944660</td>\n",
       "      <td>3.329097</td>\n",
       "      <td>15.883190</td>\n",
       "      <td>9.035125</td>\n",
       "    </tr>\n",
       "    <tr>\n",
       "      <th>1990-03-31</th>\n",
       "      <td>79198.408613</td>\n",
       "      <td>22.118280</td>\n",
       "      <td>248.559074</td>\n",
       "      <td>141.169466</td>\n",
       "    </tr>\n",
       "    <tr>\n",
       "      <th>1990-04-20</th>\n",
       "      <td>75693.854412</td>\n",
       "      <td>103.545053</td>\n",
       "      <td>257.394163</td>\n",
       "      <td>153.079104</td>\n",
       "    </tr>\n",
       "    <tr>\n",
       "      <th>1990-05-10</th>\n",
       "      <td>515.550438</td>\n",
       "      <td>12.197736</td>\n",
       "      <td>0.349238</td>\n",
       "      <td>0.244029</td>\n",
       "    </tr>\n",
       "    <tr>\n",
       "      <th>1990-05-30</th>\n",
       "      <td>10130.387874</td>\n",
       "      <td>33.020246</td>\n",
       "      <td>27.063912</td>\n",
       "      <td>16.064421</td>\n",
       "    </tr>\n",
       "    <tr>\n",
       "      <th>1990-06-19</th>\n",
       "      <td>216.882525</td>\n",
       "      <td>6.664400</td>\n",
       "      <td>0.146221</td>\n",
       "      <td>0.102283</td>\n",
       "    </tr>\n",
       "  </tbody>\n",
       "</table>\n",
       "</div>"
      ],
      "text/plain": [
       "            Sediment - Fine       N_DIN  N_Particulate  P_Particulate\n",
       "Date                                                                 \n",
       "1988-02-28      2524.371415    0.045442       8.463319       4.940493\n",
       "1989-04-12      4703.944660    3.329097      15.883190       9.035125\n",
       "1990-03-31     79198.408613   22.118280     248.559074     141.169466\n",
       "1990-04-20     75693.854412  103.545053     257.394163     153.079104\n",
       "1990-05-10       515.550438   12.197736       0.349238       0.244029\n",
       "1990-05-30     10130.387874   33.020246      27.063912      16.064421\n",
       "1990-06-19       216.882525    6.664400       0.146221       0.102283"
      ]
     },
     "execution_count": 19,
     "metadata": {},
     "output_type": "execute_result"
    }
   ],
   "source": [
    "observed_event_days = obs.of_timeclass(gbr.timeclass.is_event)\n",
    "observed_event_days[::20] # <-- show me every 20 time steps of event data"
   ]
  },
  {
   "cell_type": "code",
   "execution_count": 20,
   "metadata": {
    "collapsed": false
   },
   "outputs": [
    {
     "data": {
      "text/html": [
       "<div>\n",
       "<table border=\"1\" class=\"dataframe\">\n",
       "  <thead>\n",
       "    <tr style=\"text-align: right;\">\n",
       "      <th></th>\n",
       "      <th>Sediment - Fine</th>\n",
       "      <th>N_DIN</th>\n",
       "      <th>N_Particulate</th>\n",
       "      <th>P_Particulate</th>\n",
       "    </tr>\n",
       "    <tr>\n",
       "      <th>Date</th>\n",
       "      <th></th>\n",
       "      <th></th>\n",
       "      <th></th>\n",
       "      <th></th>\n",
       "    </tr>\n",
       "  </thead>\n",
       "  <tbody>\n",
       "    <tr>\n",
       "      <th>1988-02-28</th>\n",
       "      <td>139578.941129</td>\n",
       "      <td>0.466248</td>\n",
       "      <td>642.888398</td>\n",
       "      <td>433.703899</td>\n",
       "    </tr>\n",
       "    <tr>\n",
       "      <th>1989-04-12</th>\n",
       "      <td>21338.791335</td>\n",
       "      <td>125.836047</td>\n",
       "      <td>21.104696</td>\n",
       "      <td>13.206519</td>\n",
       "    </tr>\n",
       "    <tr>\n",
       "      <th>1990-03-31</th>\n",
       "      <td>1017828.331594</td>\n",
       "      <td>47.118688</td>\n",
       "      <td>4706.190847</td>\n",
       "      <td>2960.188290</td>\n",
       "    </tr>\n",
       "    <tr>\n",
       "      <th>1990-04-20</th>\n",
       "      <td>1016849.601398</td>\n",
       "      <td>1051.345719</td>\n",
       "      <td>4135.531115</td>\n",
       "      <td>2776.746934</td>\n",
       "    </tr>\n",
       "    <tr>\n",
       "      <th>1990-05-10</th>\n",
       "      <td>5398.692106</td>\n",
       "      <td>72.311488</td>\n",
       "      <td>2.658643</td>\n",
       "      <td>1.564165</td>\n",
       "    </tr>\n",
       "    <tr>\n",
       "      <th>1990-05-30</th>\n",
       "      <td>215715.047616</td>\n",
       "      <td>639.874971</td>\n",
       "      <td>564.974237</td>\n",
       "      <td>394.587704</td>\n",
       "    </tr>\n",
       "    <tr>\n",
       "      <th>1990-06-19</th>\n",
       "      <td>5812.289809</td>\n",
       "      <td>68.522710</td>\n",
       "      <td>4.233594</td>\n",
       "      <td>2.766951</td>\n",
       "    </tr>\n",
       "  </tbody>\n",
       "</table>\n",
       "</div>"
      ],
      "text/plain": [
       "            Sediment - Fine        N_DIN  N_Particulate  P_Particulate\n",
       "Date                                                                  \n",
       "1988-02-28    139578.941129     0.466248     642.888398     433.703899\n",
       "1989-04-12     21338.791335   125.836047      21.104696      13.206519\n",
       "1990-03-31   1017828.331594    47.118688    4706.190847    2960.188290\n",
       "1990-04-20   1016849.601398  1051.345719    4135.531115    2776.746934\n",
       "1990-05-10      5398.692106    72.311488       2.658643       1.564165\n",
       "1990-05-30    215715.047616   639.874971     564.974237     394.587704\n",
       "1990-06-19      5812.289809    68.522710       4.233594       2.766951"
      ]
     },
     "execution_count": 20,
     "metadata": {},
     "output_type": "execute_result"
    }
   ],
   "source": [
    "predicted_event_days = pred.of_timeclass(gbr.timeclass.is_event)\n",
    "predicted_event_days[::20]"
   ]
  },
  {
   "cell_type": "code",
   "execution_count": 21,
   "metadata": {
    "collapsed": false
   },
   "outputs": [
    {
     "data": {
      "text/html": [
       "<div>\n",
       "<table border=\"1\" class=\"dataframe\">\n",
       "  <thead>\n",
       "    <tr style=\"text-align: right;\">\n",
       "      <th></th>\n",
       "      <th>Sediment - Fine</th>\n",
       "      <th>N_DIN</th>\n",
       "      <th>N_Particulate</th>\n",
       "      <th>P_Particulate</th>\n",
       "    </tr>\n",
       "    <tr>\n",
       "      <th>cat</th>\n",
       "      <th></th>\n",
       "      <th></th>\n",
       "      <th></th>\n",
       "      <th></th>\n",
       "    </tr>\n",
       "  </thead>\n",
       "  <tbody>\n",
       "    <tr>\n",
       "      <th>87_88_1</th>\n",
       "      <td>345135.107952</td>\n",
       "      <td>10.839712</td>\n",
       "      <td>1754.022329</td>\n",
       "      <td>1052.652815</td>\n",
       "    </tr>\n",
       "    <tr>\n",
       "      <th>88_89_1</th>\n",
       "      <td>1206829.267902</td>\n",
       "      <td>189.874441</td>\n",
       "      <td>4149.685353</td>\n",
       "      <td>2358.008523</td>\n",
       "    </tr>\n",
       "    <tr>\n",
       "      <th>89_90_1</th>\n",
       "      <td>4757991.964106</td>\n",
       "      <td>3691.661234</td>\n",
       "      <td>14177.211658</td>\n",
       "      <td>8094.372060</td>\n",
       "    </tr>\n",
       "    <tr>\n",
       "      <th>89_90_2</th>\n",
       "      <td>1219623.331969</td>\n",
       "      <td>992.737112</td>\n",
       "      <td>3504.059234</td>\n",
       "      <td>1989.330921</td>\n",
       "    </tr>\n",
       "    <tr>\n",
       "      <th>89_90_3</th>\n",
       "      <td>9011.912029</td>\n",
       "      <td>216.409099</td>\n",
       "      <td>6.860851</td>\n",
       "      <td>4.677038</td>\n",
       "    </tr>\n",
       "  </tbody>\n",
       "</table>\n",
       "</div>"
      ],
      "text/plain": [
       "         Sediment - Fine        N_DIN  N_Particulate  P_Particulate\n",
       "cat                                                                \n",
       "87_88_1    345135.107952    10.839712    1754.022329    1052.652815\n",
       "88_89_1   1206829.267902   189.874441    4149.685353    2358.008523\n",
       "89_90_1   4757991.964106  3691.661234   14177.211658    8094.372060\n",
       "89_90_2   1219623.331969   992.737112    3504.059234    1989.330921\n",
       "89_90_3      9011.912029   216.409099       6.860851       4.677038"
      ]
     },
     "execution_count": 21,
     "metadata": {},
     "output_type": "execute_result"
    }
   ],
   "source": [
    "observed_event_totals = observed_event_days.by_timeclass().sum()\n",
    "predicted_event_totals = predicted_event_days.by_timeclass().sum()\n",
    "observed_event_totals"
   ]
  },
  {
   "cell_type": "code",
   "execution_count": 22,
   "metadata": {
    "collapsed": false
   },
   "outputs": [
    {
     "data": {
      "text/plain": [
       "Sediment - Fine    -51.324970\n",
       "N_DIN              -54.846211\n",
       "N_Particulate     -104.191481\n",
       "P_Particulate     -131.495867\n",
       "dtype: float64"
      ]
     },
     "execution_count": 22,
     "metadata": {},
     "output_type": "execute_result"
    }
   ],
   "source": [
    "gbr.stats.nse(observed_event_totals,predicted_event_totals)"
   ]
  },
  {
   "cell_type": "markdown",
   "metadata": {},
   "source": [
    "## Water Years\n"
   ]
  },
  {
   "cell_type": "code",
   "execution_count": 23,
   "metadata": {
    "collapsed": false
   },
   "outputs": [
    {
     "data": {
      "text/html": [
       "<div>\n",
       "<table border=\"1\" class=\"dataframe\">\n",
       "  <thead>\n",
       "    <tr style=\"text-align: right;\">\n",
       "      <th></th>\n",
       "      <th>Sediment - Fine</th>\n",
       "      <th>N_DIN</th>\n",
       "      <th>N_Particulate</th>\n",
       "      <th>P_Particulate</th>\n",
       "    </tr>\n",
       "    <tr>\n",
       "      <th>Water_year</th>\n",
       "      <th></th>\n",
       "      <th></th>\n",
       "      <th></th>\n",
       "      <th></th>\n",
       "    </tr>\n",
       "  </thead>\n",
       "  <tbody>\n",
       "    <tr>\n",
       "      <th>1986/1987</th>\n",
       "      <td>12005704.068051</td>\n",
       "      <td>395.156900</td>\n",
       "      <td>35647.632550</td>\n",
       "      <td>20818.135596</td>\n",
       "    </tr>\n",
       "    <tr>\n",
       "      <th>1987/1988</th>\n",
       "      <td>12879694.418576</td>\n",
       "      <td>229.186880</td>\n",
       "      <td>44339.147435</td>\n",
       "      <td>25609.260239</td>\n",
       "    </tr>\n",
       "    <tr>\n",
       "      <th>1988/1989</th>\n",
       "      <td>18293268.486003</td>\n",
       "      <td>4794.889040</td>\n",
       "      <td>60115.683117</td>\n",
       "      <td>34500.789679</td>\n",
       "    </tr>\n",
       "    <tr>\n",
       "      <th>1989/1990</th>\n",
       "      <td>11407865.759797</td>\n",
       "      <td>5187.691727</td>\n",
       "      <td>37842.981591</td>\n",
       "      <td>21653.808548</td>\n",
       "    </tr>\n",
       "  </tbody>\n",
       "</table>\n",
       "</div>"
      ],
      "text/plain": [
       "            Sediment - Fine        N_DIN  N_Particulate  P_Particulate\n",
       "Water_year                                                            \n",
       "1986/1987   12005704.068051   395.156900   35647.632550   20818.135596\n",
       "1987/1988   12879694.418576   229.186880   44339.147435   25609.260239\n",
       "1988/1989   18293268.486003  4794.889040   60115.683117   34500.789679\n",
       "1989/1990   11407865.759797  5187.691727   37842.981591   21653.808548"
      ]
     },
     "execution_count": 23,
     "metadata": {},
     "output_type": "execute_result"
    }
   ],
   "source": [
    "observed_water_year_totals = obs.by_wateryear().sum()\n",
    "observed_water_year_totals"
   ]
  },
  {
   "cell_type": "code",
   "execution_count": 24,
   "metadata": {
    "collapsed": false
   },
   "outputs": [
    {
     "data": {
      "text/html": [
       "<div>\n",
       "<table border=\"1\" class=\"dataframe\">\n",
       "  <thead>\n",
       "    <tr style=\"text-align: right;\">\n",
       "      <th></th>\n",
       "      <th>Sediment - Fine</th>\n",
       "      <th>N_DIN</th>\n",
       "      <th>N_Particulate</th>\n",
       "      <th>P_Particulate</th>\n",
       "    </tr>\n",
       "    <tr>\n",
       "      <th>Water_year</th>\n",
       "      <th></th>\n",
       "      <th></th>\n",
       "      <th></th>\n",
       "      <th></th>\n",
       "    </tr>\n",
       "  </thead>\n",
       "  <tbody>\n",
       "    <tr>\n",
       "      <th>1986/1987</th>\n",
       "      <td>2.253355e+07</td>\n",
       "      <td>268.587647</td>\n",
       "      <td>92004.756624</td>\n",
       "      <td>57632.469046</td>\n",
       "    </tr>\n",
       "    <tr>\n",
       "      <th>1987/1988</th>\n",
       "      <td>2.461016e+07</td>\n",
       "      <td>117.887661</td>\n",
       "      <td>129489.045515</td>\n",
       "      <td>81794.781371</td>\n",
       "    </tr>\n",
       "    <tr>\n",
       "      <th>1988/1989</th>\n",
       "      <td>1.169111e+08</td>\n",
       "      <td>58019.064434</td>\n",
       "      <td>493041.497927</td>\n",
       "      <td>320586.210736</td>\n",
       "    </tr>\n",
       "    <tr>\n",
       "      <th>1989/1990</th>\n",
       "      <td>6.276667e+07</td>\n",
       "      <td>33250.222601</td>\n",
       "      <td>261490.363277</td>\n",
       "      <td>164216.742388</td>\n",
       "    </tr>\n",
       "  </tbody>\n",
       "</table>\n",
       "</div>"
      ],
      "text/plain": [
       "            Sediment - Fine         N_DIN  N_Particulate  P_Particulate\n",
       "Water_year                                                             \n",
       "1986/1987      2.253355e+07    268.587647   92004.756624   57632.469046\n",
       "1987/1988      2.461016e+07    117.887661  129489.045515   81794.781371\n",
       "1988/1989      1.169111e+08  58019.064434  493041.497927  320586.210736\n",
       "1989/1990      6.276667e+07  33250.222601  261490.363277  164216.742388"
      ]
     },
     "execution_count": 24,
     "metadata": {},
     "output_type": "execute_result"
    }
   ],
   "source": [
    "predicted_water_year_totals = pred.by_wateryear().sum()\n",
    "predicted_water_year_totals"
   ]
  },
  {
   "cell_type": "code",
   "execution_count": 25,
   "metadata": {
    "collapsed": false
   },
   "outputs": [
    {
     "data": {
      "text/plain": [
       "Sediment - Fine   -421.017818\n",
       "N_DIN             -163.672976\n",
       "N_Particulate     -675.213797\n",
       "P_Particulate     -905.732436\n",
       "dtype: float64"
      ]
     },
     "execution_count": 25,
     "metadata": {},
     "output_type": "execute_result"
    }
   ],
   "source": [
    "gbr.stats.nse(observed_water_year_totals,predicted_water_year_totals)\n"
   ]
  },
  {
   "cell_type": "markdown",
   "metadata": {},
   "source": [
    "## Months"
   ]
  },
  {
   "cell_type": "code",
   "execution_count": 26,
   "metadata": {
    "collapsed": false
   },
   "outputs": [
    {
     "data": {
      "text/html": [
       "<div>\n",
       "<table border=\"1\" class=\"dataframe\">\n",
       "  <thead>\n",
       "    <tr style=\"text-align: right;\">\n",
       "      <th></th>\n",
       "      <th>Sediment - Fine</th>\n",
       "      <th>N_DIN</th>\n",
       "      <th>N_Particulate</th>\n",
       "      <th>P_Particulate</th>\n",
       "    </tr>\n",
       "  </thead>\n",
       "  <tbody>\n",
       "    <tr>\n",
       "      <th>1987</th>\n",
       "      <td>4208502.646686</td>\n",
       "      <td>118.997505</td>\n",
       "      <td>12496.030765</td>\n",
       "      <td>7297.647481</td>\n",
       "    </tr>\n",
       "    <tr>\n",
       "      <th>1988</th>\n",
       "      <td>1021060.636625</td>\n",
       "      <td>14.406276</td>\n",
       "      <td>3385.176891</td>\n",
       "      <td>1962.603703</td>\n",
       "    </tr>\n",
       "    <tr>\n",
       "      <th>1989</th>\n",
       "      <td>466354.091371</td>\n",
       "      <td>171.808978</td>\n",
       "      <td>1598.409251</td>\n",
       "      <td>934.328721</td>\n",
       "    </tr>\n",
       "    <tr>\n",
       "      <th>1990</th>\n",
       "      <td>516191.399143</td>\n",
       "      <td>14.642426</td>\n",
       "      <td>1780.717104</td>\n",
       "      <td>1024.806748</td>\n",
       "    </tr>\n",
       "  </tbody>\n",
       "</table>\n",
       "</div>"
      ],
      "text/plain": [
       "      Sediment - Fine       N_DIN  N_Particulate  P_Particulate\n",
       "1987   4208502.646686  118.997505   12496.030765    7297.647481\n",
       "1988   1021060.636625   14.406276    3385.176891    1962.603703\n",
       "1989    466354.091371  171.808978    1598.409251     934.328721\n",
       "1990    516191.399143   14.642426    1780.717104    1024.806748"
      ]
     },
     "execution_count": 26,
     "metadata": {},
     "output_type": "execute_result"
    }
   ],
   "source": [
    "observed_january = obs.of_month(1).by_year().sum()\n",
    "observed_january"
   ]
  },
  {
   "cell_type": "code",
   "execution_count": 27,
   "metadata": {
    "collapsed": false
   },
   "outputs": [
    {
     "data": {
      "text/html": [
       "<div>\n",
       "<table border=\"1\" class=\"dataframe\">\n",
       "  <thead>\n",
       "    <tr style=\"text-align: right;\">\n",
       "      <th></th>\n",
       "      <th>Sediment - Fine</th>\n",
       "      <th>N_DIN</th>\n",
       "      <th>N_Particulate</th>\n",
       "      <th>P_Particulate</th>\n",
       "    </tr>\n",
       "  </thead>\n",
       "  <tbody>\n",
       "    <tr>\n",
       "      <th>1986</th>\n",
       "      <td>6250007.785691</td>\n",
       "      <td>185.108638</td>\n",
       "      <td>18561.869751</td>\n",
       "      <td>10839.942028</td>\n",
       "    </tr>\n",
       "    <tr>\n",
       "      <th>1987</th>\n",
       "      <td>14217440.720750</td>\n",
       "      <td>327.621161</td>\n",
       "      <td>43911.790716</td>\n",
       "      <td>25292.751111</td>\n",
       "    </tr>\n",
       "    <tr>\n",
       "      <th>1988</th>\n",
       "      <td>14032543.006895</td>\n",
       "      <td>2856.230738</td>\n",
       "      <td>48441.730698</td>\n",
       "      <td>28142.288442</td>\n",
       "    </tr>\n",
       "    <tr>\n",
       "      <th>1989</th>\n",
       "      <td>13398150.939799</td>\n",
       "      <td>2302.611593</td>\n",
       "      <td>46851.151140</td>\n",
       "      <td>26774.629273</td>\n",
       "    </tr>\n",
       "    <tr>\n",
       "      <th>1990</th>\n",
       "      <td>6688390.279291</td>\n",
       "      <td>4935.352419</td>\n",
       "      <td>20178.902387</td>\n",
       "      <td>11532.383207</td>\n",
       "    </tr>\n",
       "  </tbody>\n",
       "</table>\n",
       "</div>"
      ],
      "text/plain": [
       "      Sediment - Fine        N_DIN  N_Particulate  P_Particulate\n",
       "1986   6250007.785691   185.108638   18561.869751   10839.942028\n",
       "1987  14217440.720750   327.621161   43911.790716   25292.751111\n",
       "1988  14032543.006895  2856.230738   48441.730698   28142.288442\n",
       "1989  13398150.939799  2302.611593   46851.151140   26774.629273\n",
       "1990   6688390.279291  4935.352419   20178.902387   11532.383207"
      ]
     },
     "execution_count": 27,
     "metadata": {},
     "output_type": "execute_result"
    }
   ],
   "source": [
    "observed_annual = obs.by_year().sum()\n",
    "observed_annual"
   ]
  },
  {
   "cell_type": "code",
   "execution_count": null,
   "metadata": {
    "collapsed": false
   },
   "outputs": [],
   "source": []
  },
  {
   "cell_type": "code",
   "execution_count": 35,
   "metadata": {
    "collapsed": true
   },
   "outputs": [],
   "source": [
    "# Work for a single constituent, multi sites\n",
    "def get_observed_multi(results,constituent,sites):\n",
    "    # Load the constituent of interest for all sites, bundle into a dataframe with each site as a column\n",
    "    df = pd.DataFrame({s:results.load_observed_ts(s)[constituent] for s in sites})\n",
    "    \n",
    "    # Give the dataframe helpful methods related to the timeclass data (eg of_timeclass, by_wateryear, etc)\n",
    "    results._apply_time_series_helpers(df)\n",
    "    return df\n",
    "\n",
    "def get_modelled_multi(results,constituent,sites):\n",
    "    df = pd.DataFrame({s:results.get_node_ts(s,[constituent])[constituent] for s in sites})\n",
    "    results._apply_time_series_helpers(df)\n",
    "    return df"
   ]
  },
  {
   "cell_type": "code",
   "execution_count": 36,
   "metadata": {
    "collapsed": false
   },
   "outputs": [
    {
     "data": {
      "text/plain": [
       "GS133004A   -16.62159\n",
       "dtype: float64"
      ]
     },
     "execution_count": 36,
     "metadata": {},
     "output_type": "execute_result"
    }
   ],
   "source": [
    "constituent = 'Sediment - Fine'\n",
    "sites = ['GS133004A']\n",
    "obs = get_observed_multi(results,constituent,sites)\n",
    "pred = get_modelled_multi(results,constituent,sites)\n",
    "\n",
    "gbr.stats.nse(obs,pred)"
   ]
  },
  {
   "cell_type": "code",
   "execution_count": 38,
   "metadata": {
    "collapsed": false
   },
   "outputs": [
    {
     "data": {
      "text/plain": [
       "GS133004A   -77.504557\n",
       "dtype: float64"
      ]
     },
     "execution_count": 38,
     "metadata": {},
     "output_type": "execute_result"
    }
   ],
   "source": [
    "obs_baseflow = obs.of_timeclass(gbr.timeclass.is_baseflow).by_timeclass().sum()\n",
    "pred_baseflow = pred.of_timeclass(gbr.timeclass.is_baseflow).by_timeclass().sum()\n",
    "\n",
    "gbr.stats.nse(obs_baseflow,pred_baseflow)\n"
   ]
  },
  {
   "cell_type": "code",
   "execution_count": null,
   "metadata": {
    "collapsed": false
   },
   "outputs": [],
   "source": []
  }
 ],
 "metadata": {
  "kernelspec": {
   "display_name": "Python 3",
   "language": "python",
   "name": "python3"
  },
  "language_info": {
   "codemirror_mode": {
    "name": "ipython",
    "version": 3
   },
   "file_extension": ".py",
   "mimetype": "text/x-python",
   "name": "python",
   "nbconvert_exporter": "python",
   "pygments_lexer": "ipython3",
   "version": "3.4.4"
  }
 },
 "nbformat": 4,
 "nbformat_minor": 0
}
