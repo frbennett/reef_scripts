{
 "cells": [
  {
   "cell_type": "code",
   "execution_count": 1,
   "metadata": {
    "collapsed": true
   },
   "outputs": [],
   "source": [
    "#from veneer.manage import create_command_line\n",
    "\n",
    "#import veneer-py\n",
    "\n",
    "from veneer.manage import start, create_command_line, kill_all_now\n",
    "import veneer\n",
    "#import geopandas\n",
    "import pandas as pd"
   ]
  },
  {
   "cell_type": "code",
   "execution_count": 2,
   "metadata": {
    "collapsed": false
   },
   "outputs": [
    {
     "data": {
      "text/plain": [
       "'C:\\\\tempveneer\\\\veneer_cmd\\\\FlowMatters.Source.VeneerCmd.exe'"
      ]
     },
     "execution_count": 2,
     "metadata": {},
     "output_type": "execute_result"
    }
   ],
   "source": [
    "veneer_install = 'D:/PythonScriptingForGBR/VeneerPlugin/v411'\n",
    "source_version = '4.1.1'\n",
    "cmd_directory = 'C:\\\\tempveneer\\\\veneer_cmd'\n",
    "path = create_command_line(veneer_install,source_version,dest=cmd_directory)\n",
    "path"
   ]
  },
  {
   "cell_type": "code",
   "execution_count": 3,
   "metadata": {
    "collapsed": true
   },
   "outputs": [],
   "source": [
    "catchment_project='D:\\\\Xike\\\\wt\\\\wt_ReefHydro_all_v411_SC442.rsproj'\n",
    "num_copies=1    # Important - set this to be a number ~ the number of CPU cores in your system!\n",
    "first_port=9950"
   ]
  },
  {
   "cell_type": "code",
   "execution_count": 4,
   "metadata": {
    "collapsed": false
   },
   "outputs": [
    {
     "name": "stdout",
     "output_type": "stream",
     "text": [
      "Starting C:\\tempveneer\\veneer_cmd\\FlowMatters.Source.VeneerCmd.exe -p 9950 -s  \"D:\\Xike\\wt\\wt_ReefHydro_all_v411_SC442.rsproj\"\n",
      "[0] Loading plugins\n",
      "\n",
      "[0] Loaded C:\\Program Files\\eWater\\Source 4.1.1.4513\\Plugins\\DERMTools.dll\n",
      "\n",
      "[0] Loaded C:\\Program Files\\eWater\\Source 4.1.1.4513\\Plugins\\PestFileProductionTools.dll\n",
      "\n",
      "[0] Loaded C:\\Program Files\\eWater\\Source 4.1.1.4513\\Plugins\\RebuildInternalSubcatchmentRaster.dll\n",
      "\n",
      "[0] Loaded C:\\Program Files\\eWater\\Source 4.1.1.4513\\Plugins\\SneakyLinkModelEditor.dll\n",
      "\n",
      "[0] Loaded C:\\Program Files\\eWater\\Source 4.1.1.4513\\Plugins\\ReefHydroCalModels.dll\n",
      "\n",
      "[0] Plugins loaded (5/5)\n",
      "\n",
      "[0] Opening project file: D:\\Xike\\wt\\wt_ReefHydro_all_v411_SC442.rsproj\n",
      "\n",
      "ERROR[0] log4net:ERROR Failed to find configuration section 'log4net' in the application's .config file. Check your .config file for the <log4net> and <configSections> elements. The configuration section should look like: <section name=\"log4net\" type=\"log4net.Config.Log4NetConfigurationSectionHandler,log4net\" />\n",
      "\n",
      "[0] Loading project\n",
      "\n",
      "[0] Project Loaded\n",
      "\n",
      "[0] Wet Tropics Rebuild 2014\n",
      "\n",
      "[0] Scenario 1\n",
      "\n",
      "[0] [10:35:01 AM] Veneer, by Flow Matters: http://www.flowmatters.com.au\n",
      "\n",
      "[0] [10:35:01 AM] Started Source RESTful Service on port:9950\n",
      "\n",
      "Server 0 on port 9950 is ready\n",
      "[0] Server started. Ctrl-C to exit, or POST /shutdown command\n",
      "\n"
     ]
    }
   ],
   "source": [
    "processes,ports = start(catchment_project,\n",
    "                        n_instances=num_copies,\n",
    "                        ports=first_port,\n",
    "                        debug=True,\n",
    "                        veneer_exe=path,\n",
    "                        remote=False)"
   ]
  },
  {
   "cell_type": "code",
   "execution_count": 24,
   "metadata": {
    "collapsed": false
   },
   "outputs": [],
   "source": [
    "#%matplotlib inline\n",
    "vs = [veneer.Veneer(port=p) for p in ports]\n",
    "v = vs[0]\n",
    "the_network = v.network()\n",
    "\n",
    "\n",
    "allCatchs = the_network['features'].find_by_feature_type('catchment')\n",
    "#print(len(allCatchs))\n",
    "\n",
    "#This dictionary object will hopefully hold everything we need\n",
    "cols = ['SubCat', 'AreaM2', 'Link', 'LinkUpNode', 'LinkDownNode']\n",
    "networkDetails = pd.DataFrame(columns=cols)#index=len(allCatchs),\n",
    "\n",
    "intCount = 0\n",
    "for thisCat in allCatchs:\n",
    "    \n",
    "    catName = thisCat['properties']['name']\n",
    "    catArea = thisCat['properties']['areaInSquareMeters']\n",
    "    \n",
    "    linkID = thisCat['properties']['link']\n",
    "    thisLink = the_network['features'].find_by_id(linkID)\n",
    "    linkName = thisLink[0]['properties']['name']\n",
    "    \n",
    "    fNodeID = thisLink[0]['properties']['from_node']\n",
    "    tNodeID = thisLink[0]['properties']['to_node']\n",
    "    \n",
    "    fNode = the_network['features'].find_by_id(fNodeID)\n",
    "    tNode = the_network['features'].find_by_id(tNodeID)\n",
    "    \n",
    "    fNodeName = fNode[0]['properties']['name']\n",
    "    tNodeName = tNode[0]['properties']['name']\n",
    "    \n",
    "    networkDetails.loc[intCount] = [catName, catArea, linkName, fNodeName, tNodeName]\n",
    "    #newRow = [catName, catArea, linkName, fNodeName, tNodeName]\n",
    "    #networkDetails.append([catName, catArea, linkName, fNodeName, tNodeName])\n",
    "    \n",
    "    intCount += 1\n",
    "\n",
    "\n",
    "\n"
   ]
  },
  {
   "cell_type": "code",
   "execution_count": 25,
   "metadata": {
    "collapsed": false
   },
   "outputs": [
    {
     "data": {
      "text/html": [
       "<div>\n",
       "<table border=\"1\" class=\"dataframe\">\n",
       "  <thead>\n",
       "    <tr style=\"text-align: right;\">\n",
       "      <th></th>\n",
       "      <th>SubCat</th>\n",
       "      <th>AreaM2</th>\n",
       "      <th>Link</th>\n",
       "      <th>LinkUpNode</th>\n",
       "      <th>LinkDownNode</th>\n",
       "    </tr>\n",
       "  </thead>\n",
       "  <tbody>\n",
       "    <tr>\n",
       "      <th>0</th>\n",
       "      <td>SC #155</td>\n",
       "      <td>70969500.0</td>\n",
       "      <td>link for catchment SC #155</td>\n",
       "      <td>Node on catchment SC #155</td>\n",
       "      <td>LI02</td>\n",
       "    </tr>\n",
       "    <tr>\n",
       "      <th>1</th>\n",
       "      <td>SC #156</td>\n",
       "      <td>80861400.0</td>\n",
       "      <td>link for catchment SC #156</td>\n",
       "      <td>Node on catchment SC #156</td>\n",
       "      <td>Node on catchment SC #155</td>\n",
       "    </tr>\n",
       "    <tr>\n",
       "      <th>2</th>\n",
       "      <td>SC #157</td>\n",
       "      <td>71006400.0</td>\n",
       "      <td>link for catchment SC #157</td>\n",
       "      <td>112102A</td>\n",
       "      <td>Node on catchment SC #155</td>\n",
       "    </tr>\n",
       "    <tr>\n",
       "      <th>3</th>\n",
       "      <td>SC #487</td>\n",
       "      <td>51161400.0</td>\n",
       "      <td>link for catchment SC #487</td>\n",
       "      <td>Node on catchment SC #487</td>\n",
       "      <td>LI01</td>\n",
       "    </tr>\n",
       "    <tr>\n",
       "      <th>4</th>\n",
       "      <td>SC #442</td>\n",
       "      <td>26785800.0</td>\n",
       "      <td>link for catchment SC #442</td>\n",
       "      <td>LI01</td>\n",
       "      <td>112102A</td>\n",
       "    </tr>\n",
       "  </tbody>\n",
       "</table>\n",
       "</div>"
      ],
      "text/plain": [
       "    SubCat      AreaM2                        Link                 LinkUpNode  \\\n",
       "0  SC #155  70969500.0  link for catchment SC #155  Node on catchment SC #155   \n",
       "1  SC #156  80861400.0  link for catchment SC #156  Node on catchment SC #156   \n",
       "2  SC #157  71006400.0  link for catchment SC #157                    112102A   \n",
       "3  SC #487  51161400.0  link for catchment SC #487  Node on catchment SC #487   \n",
       "4  SC #442  26785800.0  link for catchment SC #442                       LI01   \n",
       "\n",
       "                LinkDownNode  \n",
       "0                       LI02  \n",
       "1  Node on catchment SC #155  \n",
       "2  Node on catchment SC #155  \n",
       "3                       LI01  \n",
       "4                    112102A  "
      ]
     },
     "execution_count": 25,
     "metadata": {},
     "output_type": "execute_result"
    }
   ],
   "source": [
    "networkDetails"
   ]
  },
  {
   "cell_type": "code",
   "execution_count": 26,
   "metadata": {
    "collapsed": true
   },
   "outputs": [],
   "source": [
    "networkDetails.to_csv('D:/aa/WTNetwork.csv', index=False)"
   ]
  },
  {
   "cell_type": "code",
   "execution_count": 27,
   "metadata": {
    "collapsed": true
   },
   "outputs": [],
   "source": [
    "kill_all_now(processes)"
   ]
  },
  {
   "cell_type": "code",
   "execution_count": null,
   "metadata": {
    "collapsed": true
   },
   "outputs": [],
   "source": []
  }
 ],
 "metadata": {
  "anaconda-cloud": {},
  "kernelspec": {
   "display_name": "Python [default]",
   "language": "python",
   "name": "python3"
  },
  "language_info": {
   "codemirror_mode": {
    "name": "ipython",
    "version": 3
   },
   "file_extension": ".py",
   "mimetype": "text/x-python",
   "name": "python",
   "nbconvert_exporter": "python",
   "pygments_lexer": "ipython3",
   "version": "3.5.2"
  }
 },
 "nbformat": 4,
 "nbformat_minor": 1
}
