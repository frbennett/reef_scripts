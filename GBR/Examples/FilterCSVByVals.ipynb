{
 "cells": [
  {
   "cell_type": "code",
   "execution_count": 1,
   "metadata": {
    "collapsed": true
   },
   "outputs": [],
   "source": [
    "# Filter CSV By Contents\n",
    "import pandas as pd\n",
    "#import pandasql as psql\n",
    "import glob\n",
    "import os\n",
    "\n",
    "\n",
    "inputFile = 'P:/projects/RC8_ResultsSets/BM/Regional_Contributor/BM_RC2016_Baseline_RegContributorDataGrid_annualised.csv'\n",
    "filterColName = 'Constituent'\n",
    "reqVals = ['Sediment - Fine', 'N_DIN', 'Ametryn', 'Atrazine', 'Diuron', 'Hexazinone', 'Tebuthiuron']\n",
    "outputFile = 'P:/projects/RC8_ResultsSets/BM/Regional_Contributor/BM_RC2016_Baseline_RegContributorDataGrid_annualised_FilteredWeber.csv'\n",
    "\n"
   ]
  },
  {
   "cell_type": "code",
   "execution_count": 3,
   "metadata": {
    "collapsed": false
   },
   "outputs": [
    {
     "name": "stdout",
     "output_type": "stream",
     "text": [
      "Done\n"
     ]
    }
   ],
   "source": [
    "df = pd.read_csv(inputFile)\n",
    "\n",
    "filtered = df.loc[df[filterColName].isin(reqVals)]\n",
    "\n",
    "filtered.to_csv(outputFile, index=False)\n",
    "\n",
    "print(\"Done\")\n"
   ]
  },
  {
   "cell_type": "code",
   "execution_count": 4,
   "metadata": {
    "collapsed": false
   },
   "outputs": [
    {
     "name": "stdout",
     "output_type": "stream",
     "text": [
      "Done\n"
     ]
    }
   ],
   "source": [
    "inputFile = 'P:/projects/RC8_ResultsSets/BU/Regional_Contributor/BU_RC2016_Baseline_RegContributorDataGrid_annualised.csv'\n",
    "outputFile = 'P:/projects/RC8_ResultsSets/BU/Regional_Contributor/BU_RC2016_Baseline_RegContributorDataGrid_annualised_FilteredWeber.csv'\n",
    "\n",
    "df = pd.read_csv(inputFile)\n",
    "\n",
    "filtered = df.loc[df[filterColName].isin(reqVals)]\n",
    "\n",
    "filtered.to_csv(outputFile, index=False)\n",
    "\n",
    "print(\"Done\")\n"
   ]
  },
  {
   "cell_type": "code",
   "execution_count": 5,
   "metadata": {
    "collapsed": false
   },
   "outputs": [
    {
     "name": "stdout",
     "output_type": "stream",
     "text": [
      "Done\n"
     ]
    }
   ],
   "source": [
    "inputFile = 'P:/projects/RC8_ResultsSets/CY/Regional_Contributor/RegContributorDataGrid_BL_CY_annualised.csv'\n",
    "outputFile = 'P:/projects/RC8_ResultsSets/CY/Regional_Contributor/CY_RC2016_Baseline_RegContributorDataGrid_annualised_FilteredWeber.csv'\n",
    "\n",
    "df = pd.read_csv(inputFile)\n",
    "\n",
    "filtered = df.loc[df[filterColName].isin(reqVals)]\n",
    "\n",
    "filtered.to_csv(outputFile, index=False)\n",
    "\n",
    "print(\"Done\")\n"
   ]
  },
  {
   "cell_type": "code",
   "execution_count": 6,
   "metadata": {
    "collapsed": false
   },
   "outputs": [
    {
     "name": "stdout",
     "output_type": "stream",
     "text": [
      "Done\n"
     ]
    }
   ],
   "source": [
    "inputFile = 'P:/projects/RC8_ResultsSets/FI/Regional_Contributor/FI_RC2016_Baseline_Annualised_RegContributorDataGrid.csv'\n",
    "outputFile = 'P:/projects/RC8_ResultsSets/FI/Regional_Contributor/FI_RC2016_Baseline_RegContributorDataGrid_annualised_FilteredWeber.csv'\n",
    "\n",
    "df = pd.read_csv(inputFile)\n",
    "\n",
    "filtered = df.loc[df[filterColName].isin(reqVals)]\n",
    "\n",
    "filtered.to_csv(outputFile, index=False)\n",
    "\n",
    "print(\"Done\")"
   ]
  },
  {
   "cell_type": "code",
   "execution_count": 7,
   "metadata": {
    "collapsed": false
   },
   "outputs": [
    {
     "name": "stdout",
     "output_type": "stream",
     "text": [
      "Done\n"
     ]
    }
   ],
   "source": [
    "inputFile = 'P:/projects/RC8_ResultsSets/MW/Regional_Contributor/RegContributorDataGrid_MW_BASE_RC8_annualised.csv'\n",
    "outputFile = 'P:/projects/RC8_ResultsSets/MW/Regional_Contributor/MW_RC2016_Baseline_RegContributorDataGrid_annualised_FilteredWeber.csv'\n",
    "\n",
    "df = pd.read_csv(inputFile)\n",
    "\n",
    "filtered = df.loc[df[filterColName].isin(reqVals)]\n",
    "\n",
    "filtered.to_csv(outputFile, index=False)\n",
    "\n",
    "print(\"Done\")"
   ]
  },
  {
   "cell_type": "code",
   "execution_count": 8,
   "metadata": {
    "collapsed": false
   },
   "outputs": [
    {
     "name": "stdout",
     "output_type": "stream",
     "text": [
      "Done\n"
     ]
    }
   ],
   "source": [
    "inputFile = 'P:/projects/RC8_ResultsSets/WT/Regional_Contributor/RegContributorDataGrid_WT_BL_RC2016_ANNUALISED.csv'\n",
    "outputFile = 'P:/projects/RC8_ResultsSets/WT/Regional_Contributor/WT_RC2016_Baseline_RegContributorDataGrid_annualised_FilteredWeber.csv'\n",
    "\n",
    "df = pd.read_csv(inputFile)\n",
    "\n",
    "filtered = df.loc[df[filterColName].isin(reqVals)]\n",
    "\n",
    "filtered.to_csv(outputFile, index=False)\n",
    "\n",
    "print(\"Done\")"
   ]
  },
  {
   "cell_type": "code",
   "execution_count": null,
   "metadata": {
    "collapsed": true
   },
   "outputs": [],
   "source": []
  }
 ],
 "metadata": {
  "kernelspec": {
   "display_name": "Python [default]",
   "language": "python",
   "name": "python3"
  },
  "language_info": {
   "codemirror_mode": {
    "name": "ipython",
    "version": 3
   },
   "file_extension": ".py",
   "mimetype": "text/x-python",
   "name": "python",
   "nbconvert_exporter": "python",
   "pygments_lexer": "ipython3",
   "version": "3.5.2"
  }
 },
 "nbformat": 4,
 "nbformat_minor": 1
}
