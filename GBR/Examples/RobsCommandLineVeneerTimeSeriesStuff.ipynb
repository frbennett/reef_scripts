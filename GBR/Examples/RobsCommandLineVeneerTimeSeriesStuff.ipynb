{
 "cells": [
  {
   "cell_type": "code",
   "execution_count": 1,
   "metadata": {
    "collapsed": false
   },
   "outputs": [],
   "source": [
    "#from veneer.manage import create_command_line\n",
    "\n",
    "#import veneer-py\n",
    "\n",
    "from veneer.manage import start, create_command_line, kill_all_now\n",
    "import veneer\n",
    "import geopandas"
   ]
  },
  {
   "cell_type": "code",
   "execution_count": 2,
   "metadata": {
    "collapsed": false
   },
   "outputs": [
    {
     "data": {
      "text/plain": [
       "'C:\\\\tempveneer\\\\veneer_cmd\\\\FlowMatters.Source.VeneerCmd.exe'"
      ]
     },
     "execution_count": 2,
     "metadata": {},
     "output_type": "execute_result"
    }
   ],
   "source": [
    "veneer_install = 'D:/PythonScriptingForGBR/VeneerPlugin/v411'\n",
    "source_version = '4.1.1'\n",
    "cmd_directory = 'C:\\\\tempveneer\\\\veneer_cmd'\n",
    "path = create_command_line(veneer_install,source_version,dest=cmd_directory)\n",
    "path"
   ]
  },
  {
   "cell_type": "code",
   "execution_count": 3,
   "metadata": {
    "collapsed": true
   },
   "outputs": [],
   "source": [
    "catchment_project='D:\\\\Beckers\\\\Beckers_GBR_411_Seasonal.rsproj'\n",
    "num_copies=1    # Important - set this to be a number ~ the number of CPU cores in your system!\n",
    "first_port=9950"
   ]
  },
  {
   "cell_type": "code",
   "execution_count": 4,
   "metadata": {
    "collapsed": false
   },
   "outputs": [
    {
     "name": "stdout",
     "output_type": "stream",
     "text": [
      "Starting C:\\tempveneer\\veneer_cmd\\FlowMatters.Source.VeneerCmd.exe -p 9950 -s  \"D:\\Beckers\\Beckers_GBR_411_Seasonal.rsproj\"\n",
      "[0] Loading plugins\n",
      "\n",
      "[0] Loaded C:\\Program Files\\eWater\\Source 4.1.1.4513\\Plugins\\DERMTools.dll\n",
      "\n",
      "[0] Loaded C:\\Program Files\\eWater\\Source 4.1.1.4513\\Plugins\\Dynamic_SedNet.dll\n",
      "\n",
      "[0] Loaded C:\\Program Files\\eWater\\Source 4.1.1.4513\\Plugins\\GBR_DynSed_Extension.dll\n",
      "\n",
      "[0] Plugins loaded (3/3)\n",
      "\n",
      "[0] Opening project file: D:\\Beckers\\Beckers_GBR_411_Seasonal.rsproj\n",
      "\n",
      "ERROR[0] log4net:ERROR Failed to find configuration section 'log4net' in the application's .config file. Check your .config file for the <log4net> and <configSections> elements. The configuration section should look like: <section name=\"log4net\" type=\"log4net.Config.Log4NetConfigurationSectionHandler,log4net\" />\n",
      "\n",
      "[0] Loading project\n",
      "\n",
      "[0] Project Loaded\n",
      "\n",
      "[0] New Project\n",
      "\n",
      "[0] Scenario 1\n",
      "\n",
      "[0] [10:41:23 AM] Veneer, by Flow Matters: http://www.flowmatters.com.au\n",
      "\n",
      "[0] [10:41:23 AM] Started Source RESTful Service on port:9950\n",
      "\n",
      "Server 0 on port 9950 is ready\n",
      "[0] Server started. Ctrl-C to exit, or POST /shutdown command\n",
      "\n"
     ]
    }
   ],
   "source": [
    "processes,ports = start(catchment_project,\n",
    "                        n_instances=num_copies,\n",
    "                        ports=first_port,\n",
    "                        debug=True,\n",
    "                        veneer_exe=path,\n",
    "                        remote=False)"
   ]
  },
  {
   "cell_type": "code",
   "execution_count": 5,
   "metadata": {
    "collapsed": true
   },
   "outputs": [],
   "source": [
    "vs = [veneer.Veneer(port=p) for p in ports]"
   ]
  },
  {
   "cell_type": "code",
   "execution_count": 6,
   "metadata": {
    "collapsed": false
   },
   "outputs": [],
   "source": [
    "#%matplotlib inline\n",
    "v = vs[0]\n",
    "#v.network().as_dataframe().plot()"
   ]
  },
  {
   "cell_type": "code",
   "execution_count": 7,
   "metadata": {
    "collapsed": false
   },
   "outputs": [
    {
     "name": "stdout",
     "output_type": "stream",
     "text": [
      "1/01/2000 12:00:00 AM\n",
      "31/12/2006 12:00:00 AM\n"
     ]
    }
   ],
   "source": [
    "sDate = v.model.get('scenario.CurrentConfiguration.StartDate')\n",
    "print(sDate)\n",
    "\n",
    "eDate = v.model.get('scenario.CurrentConfiguration.EndDate')\n",
    "print(eDate)\n",
    "\n",
    "#v.run_model()"
   ]
  },
  {
   "cell_type": "code",
   "execution_count": 10,
   "metadata": {
    "collapsed": false
   },
   "outputs": [
    {
     "name": "stdout",
     "output_type": "stream",
     "text": [
      "Help on Veneer in module veneer.general object:\n",
      "\n",
      "class Veneer(builtins.object)\n",
      " |  Acts as a high level client to the Veneer web service within eWater Source.\n",
      " |  \n",
      " |  Methods defined here:\n",
      " |  \n",
      " |  __init__(self, port=9876, host='localhost', protocol='http', prefix='', live=True)\n",
      " |      Instantiate a new Veneer client.\n",
      " |      \n",
      " |      Parameters:\n",
      " |      \n",
      " |      port, host, protocol: Connection information for running Veneer service (default 9876, localhost, http)\n",
      " |      \n",
      " |      prefix: path prefix for all queries. Useful if Veneer is running behind some kind of proxy\n",
      " |      \n",
      " |      live: Connecting to a live Veneer service or a statically served copy of the results? Default: True\n",
      " |  \n",
      " |  apply_input_set(self, name)\n",
      " |      Have Source apply a given input set\n",
      " |  \n",
      " |  configure_recording(self, enable=[], disable=[])\n",
      " |      Enabled and disable time series recording in the Source model.\n",
      " |      \n",
      " |      enable: List of time series selectors to enable,\n",
      " |      \n",
      " |      disable: List of time series selectors to disable\n",
      " |      \n",
      " |      Note: Each time series selector is a python dictionary object with up to three keys:\n",
      " |        * NetworkElement\n",
      " |        * RecordingElement\n",
      " |        * RecordingVariable\n",
      " |      \n",
      " |      These are used to match time series available from the Source model. A given selector may match\n",
      " |      multiple time series. For example, a selector of {'RecordingVariable':'Downstream Flow Volume'}\n",
      " |      will match Downstream Flow Volume from all nodes and links.\n",
      " |      \n",
      " |      Any empty dictionary {} will match ALL time series in the model.\n",
      " |      \n",
      " |      So, for example, you could disable ALL recording in the model with\n",
      " |      \n",
      " |      v = Veneer()\n",
      " |      v.configure_recording(disable=[{}])\n",
      " |      \n",
      " |      Note, the time series selectors in enable and disable may both match the same time series in some cases.\n",
      " |      In this case, the 'enable' will take effect.\n",
      " |  \n",
      " |  convert_dates(self, events)\n",
      " |  \n",
      " |  create_data_source(self, name, data, units='mm/day')\n",
      " |      Create a new data source (name) using a Pandas dataframe (data)\n",
      " |  \n",
      " |  data_source(self, name)\n",
      " |      Return an individual data source, by name.\n",
      " |      \n",
      " |      Note: Will include the each time series associated with the data source IN FULL\n",
      " |  \n",
      " |  data_source_item(self, source, name=None, input_set='__all__')\n",
      " |  \n",
      " |  data_sources(self)\n",
      " |      Return a SearchableList of the data sources in the Source model\n",
      " |      \n",
      " |      Note: Returns a summary (min,max,mean,etc) of individual time series - NOT the full record.\n",
      " |      \n",
      " |      You can get the time series by retrieving individual data sources (`data_source` method)\n",
      " |  \n",
      " |  drop_all_runs(self)\n",
      " |      Tell Source to drop/delete ALL current run results from memory\n",
      " |  \n",
      " |  drop_run(self, run='latest')\n",
      " |      Tell Source to drop/delete a specific set of results from memory.\n",
      " |      \n",
      " |      run: Run number to delete. Default ='latest'. Valid values are 'latest' and integers from 1\n",
      " |  \n",
      " |  functions(self)\n",
      " |      Return a SearchableList of the functions in the Source model.\n",
      " |  \n",
      " |  input_sets(self)\n",
      " |      Return a SearchableList of the input sets in the Source model\n",
      " |      \n",
      " |      Each input set will be a Python dictionary representing the different information in the input set\n",
      " |  \n",
      " |  network(self)\n",
      " |      Retrieve the network from Veneer.\n",
      " |      \n",
      " |      The result will be a Python dictionary in GeoJSON conventions.\n",
      " |      \n",
      " |      The 'features' key of the returned dictionary will be a SearchableList, suitable for querying for\n",
      " |      different properties - eg to filter out just nodes, or links, or catchments.\n",
      " |      \n",
      " |      Example: Find all the node names in the current Source model\n",
      " |      \n",
      " |      v = Veneer()\n",
      " |      network = v.network()\n",
      " |      nodes = network['features'].find_by_feature_type('node')\n",
      " |      node_names = nodes._unique_values('name')\n",
      " |  \n",
      " |  parse_veneer_date(self, txt)\n",
      " |  \n",
      " |  post_json(self, url, data=None, async=False)\n",
      " |  \n",
      " |  result_matches_criteria(self, result, criteria)\n",
      " |  \n",
      " |  retrieve_csv(self, url)\n",
      " |      Retrieve data from the Veneer service, at the given url path, in CSV format.\n",
      " |      \n",
      " |      url: Path to required resource, relative to the root of the Veneer service.\n",
      " |      \n",
      " |      NOTE: CSV responses are currently only available for time series results\n",
      " |  \n",
      " |  retrieve_json(self, url)\n",
      " |      Retrieve data from the Veneer service at the given url path.\n",
      " |      \n",
      " |      url: Path to required resource, relative to the root of the Veneer service.\n",
      " |  \n",
      " |  retrieve_multiple_time_series(self, run='latest', run_data=None, criteria={}, timestep='daily', name_fn=<function name_element_variable at 0x000000000873A950>)\n",
      " |      Retrieve multiple time series from a run according to some criteria.\n",
      " |      \n",
      " |      Return all time series in a single Pandas DataFrame with date time index.\n",
      " |      \n",
      " |      you can an index of run results via run_data. If you don't the method will first retrieve an\n",
      " |      index based on the value of the run parameter (default='latest')\n",
      " |      \n",
      " |      criteria should be regexps for the fields in a Veneer time series record:\n",
      " |        * NetworkElement\n",
      " |        * RecordingElement\n",
      " |        * RecordingVariable\n",
      " |        * TimeSeriesName\n",
      " |        * TimeSeriesUrl\n",
      " |      \n",
      " |      These criteria are used to identify which time series to retrieve.\n",
      " |      \n",
      " |      timestep should be one of 'daily' (default), 'monthly', 'annual'.\n",
      " |      *WARNING*: The monthly and annual option uses the corresponding option in the Veneer plugin, which ALWAYS SUMS values,\n",
      " |      regardless of units. So, if you retrieve a rate variable (eg m^3/s) those values will be summed and you will need to \n",
      " |      correct this manually in the returned DataFrame.\n",
      " |      \n",
      " |      All retrieved time series are returned in a single Data Frame.\n",
      " |      \n",
      " |      You can specify a function for naming the columns of the Data Frame using name_fn. This function should take\n",
      " |      the results summary (from the index) and return a string. Example functions include:\n",
      " |        * veneer.name_time_series (uses the full name of the time series, as provided by Source)\n",
      " |        * veneer.name_element_variable (DEFAULT: users the name of the network element and the name of the variable)\n",
      " |        * veneer.name_for_location (just use the name of the network element)\n",
      " |        * veneer.name_for_variable (just use the name of the variable)\n",
      " |  \n",
      " |  retrieve_run(self, run='latest')\n",
      " |      Retrieve a results summary for a particular run.\n",
      " |      \n",
      " |      This will include references to all of the time series results available for the run.\n",
      " |      \n",
      " |      run: Run to retrieve. Either 'latest' (default) or an integer run number from 1\n",
      " |  \n",
      " |  retrieve_runs(self)\n",
      " |      Retrieve the list of available runs.\n",
      " |      \n",
      " |      Individual runs can be used with retrieve_run to retrieve a summary of results\n",
      " |  \n",
      " |  run_model(self, params=None, start=None, end=None, async=False, **kwargs)\n",
      " |      Trigger a run of the Source model\n",
      " |      \n",
      " |      params: Python dictionary of parameters to pass to Source. Should match the parameters expected\n",
      " |              of the running configuration. (If you just want to set the start and end date of the simulation,\n",
      " |              use the start and end parameters\n",
      " |      \n",
      " |      start, end: The start and end date of the simulation. Should be provided as Date objects or as text in the dd/mm/yyyy format\n",
      " |      \n",
      " |      async: (default False). If True, the method will return immediately rather than waiting for the simulation to finish.\n",
      " |             Useful for triggering parallel runs. Method will return a connection object that can then be queried to know\n",
      " |             when the run has finished.\n",
      " |      \n",
      " |      kwargs: optional named parameters to be used to update the params dictionary\n",
      " |      \n",
      " |      In the default behaviour (async=False), this method will return once the Source simulation has finished, and will return\n",
      " |      the URL of the results set in the Veneer service\n",
      " |  \n",
      " |  run_server_side_script(self, script, async=False)\n",
      " |      Run an IronPython script within Source.\n",
      " |      \n",
      " |      Requires Veneer to be running with 'Allow Scripts' option.\n",
      " |      \n",
      " |      script: the full text of an IronPython script to execute from within Source.\n",
      " |      \n",
      " |      NOTE: In many cases, it is possible (and desirable) to call helper methods within Veneer.model,\n",
      " |      rather than write your own IronPython script.\n",
      " |  \n",
      " |  send(self, url, method, payload=None, headers={}, async=False)\n",
      " |  \n",
      " |  send_json(self, url, data, method, async=False)\n",
      " |  \n",
      " |  update_function(self, fn, value)\n",
      " |      Update a function within Source\n",
      " |      \n",
      " |      fn: str, name of function to update.\n",
      " |  \n",
      " |  update_input_set(self, name, input_set)\n",
      " |      Modify the input set and send to Source.\n",
      " |      \n",
      " |      name: str, name of input set\n",
      " |      input_set: A Python dictionary representing the updated input set. Should contain the same fields as the input set\n",
      " |                 returned from the input_sets method.\n",
      " |  \n",
      " |  update_json(self, url, data, async=False)\n",
      " |      Issue a PUT request to the Veneer service to update the data held at url\n",
      " |      \n",
      " |      url: Path to required resource, relative to the root of the Veneer service.\n",
      " |      \n",
      " |      data: Data to update.\n",
      " |      \n",
      " |      NOTE: This method will typically be used internally, by other Veneer methods.\n",
      " |      Usually, you will want to call one of these other methods to update something specific.\n",
      " |      For example, configure_recording to enable and disable time series recorders in the model.\n",
      " |  \n",
      " |  update_variable_piecewise(self, name, values)\n",
      " |      Update piecewise linear function for a given variable.\n",
      " |      \n",
      " |      name: str, variable name to update.\n",
      " |  \n",
      " |  update_variable_time_series(self, name, timeseries)\n",
      " |  \n",
      " |  variable(self, name)\n",
      " |      Returns details of a particular variable\n",
      " |  \n",
      " |  variable_piecewise(self, name)\n",
      " |      Returns piecewise linear function for a particular variable\n",
      " |  \n",
      " |  variable_time_series(self, name)\n",
      " |      Returns time series for a particular variable\n",
      " |  \n",
      " |  variables(self)\n",
      " |      Return a SearchableList of the function variables in the Source model\n",
      " |  \n",
      " |  ----------------------------------------------------------------------\n",
      " |  Data descriptors defined here:\n",
      " |  \n",
      " |  __dict__\n",
      " |      dictionary for instance variables (if defined)\n",
      " |  \n",
      " |  __weakref__\n",
      " |      list of weak references to the object (if defined)\n",
      "\n"
     ]
    }
   ],
   "source": [
    "help(v)\n",
    "#help(v.network)\n",
    "#help(run_results2)"
   ]
  },
  {
   "cell_type": "code",
   "execution_count": 15,
   "metadata": {
    "collapsed": false,
    "scrolled": true
   },
   "outputs": [
    {
     "data": {
      "text/plain": [
       "[{'FullName': '/rainfall for SC #1_csv', 'Items': [{'Details': [{'TimeSeries': {'Min': 0, 'NoDataValue': -9999, 'Units': 'kL', 'EndDate': '12/31/2006 00:00:00', 'Max': 169.858072956744, 'Sum': 3924.7972294905385, 'Name': 'Rain as demand', 'TimeStep': 'Daily', 'StartDate': '01/01/2000 00:00:00', 'Mean': 1.5349226552563702}, 'Name': 'Rain as demand'}], 'DetailsAsCSV': None, 'Name': 'Default Input Set', 'UnitsForNewTS': None, 'InputSets': ['Default Input Set']}], 'Name': 'rainfall for SC #1_csv', 'id': '/dataSources/rainfall for SC 1_csv', 'Path': '/'}, {'FullName': '/Climate Data', 'Items': [{'Details': [{'TimeSeries': {'Min': 0, 'NoDataValue': -9999, 'Units': 'mm', 'EndDate': '12/31/2006 00:00:00', 'Max': 66.892922878214, 'Sum': 3413.0046095473945, 'Name': 'rainfall for SC #3', 'TimeStep': 'Daily', 'StartDate': '01/01/2000 00:00:00', 'Mean': 1.334769108153068}, 'Name': 'rainfall for SC #3'}, {'TimeSeries': {'Min': 0, 'NoDataValue': -9999, 'Units': 'mm', 'EndDate': '12/31/2006 00:00:00', 'Max': 65.1261629057796, 'Sum': 3823.830200910528, 'Name': 'rainfall for SC #2', 'TimeStep': 'Daily', 'StartDate': '01/01/2000 00:00:00', 'Mean': 1.495436136453081}, 'Name': 'rainfall for SC #2'}, {'TimeSeries': {'Min': 0, 'NoDataValue': -9999, 'Units': 'mm', 'EndDate': '12/31/2006 00:00:00', 'Max': 92.0172734701314, 'Sum': 4000.4236153985803, 'Name': 'rainfall for SC #5', 'TimeStep': 'Daily', 'StartDate': '01/01/2000 00:00:00', 'Mean': 1.5644988718805555}, 'Name': 'rainfall for SC #5'}, {'TimeSeries': {'Min': 0, 'NoDataValue': -9999, 'Units': 'mm', 'EndDate': '12/31/2006 00:00:00', 'Max': 82.6212161366307, 'Sum': 3796.21634275618, 'Name': 'rainfall for SC #4', 'TimeStep': 'Daily', 'StartDate': '01/01/2000 00:00:00', 'Mean': 1.484636817659828}, 'Name': 'rainfall for SC #4'}, {'TimeSeries': {'Min': 0, 'NoDataValue': -9999, 'Units': 'mm', 'EndDate': '12/31/2006 00:00:00', 'Max': 169.858072956744, 'Sum': 3924.7972294905385, 'Name': 'rainfall for SC #1', 'TimeStep': 'Daily', 'StartDate': '01/01/2000 00:00:00', 'Mean': 1.5349226552563702}, 'Name': 'rainfall for SC #1'}, {'TimeSeries': {'Min': 0.821161401431218, 'NoDataValue': -9999, 'Units': 'mm', 'EndDate': '12/31/2006 00:00:00', 'Max': 8.75193477207748, 'Sum': 11829.175168182639, 'Name': 'pet for SC #3', 'TimeStep': 'Daily', 'StartDate': '01/01/2000 00:00:00', 'Mean': 4.626192869840688}, 'Name': 'pet for SC #3'}, {'TimeSeries': {'Min': 0.807521773554725, 'NoDataValue': -9999, 'Units': 'mm', 'EndDate': '12/31/2006 00:00:00', 'Max': 8.59180027711865, 'Sum': 11897.917052652489, 'Name': 'pet for SC #2', 'TimeStep': 'Daily', 'StartDate': '01/01/2000 00:00:00', 'Mean': 4.653076672918455}, 'Name': 'pet for SC #2'}, {'TimeSeries': {'Min': 0.816878518249191, 'NoDataValue': -9999, 'Units': 'mm', 'EndDate': '12/31/2006 00:00:00', 'Max': 8.78485109860155, 'Sum': 12264.209891955717, 'Name': 'pet for SC #5', 'TimeStep': 'Daily', 'StartDate': '01/01/2000 00:00:00', 'Mean': 4.796327685551708}, 'Name': 'pet for SC #5'}, {'TimeSeries': {'Min': 0.797393992932774, 'NoDataValue': -9999, 'Units': 'mm', 'EndDate': '12/31/2006 00:00:00', 'Max': 8.59463339222576, 'Sum': 11893.713729387528, 'Name': 'pet for SC #4', 'TimeStep': 'Daily', 'StartDate': '01/01/2000 00:00:00', 'Mean': 4.651432823381904}, 'Name': 'pet for SC #4'}, {'TimeSeries': {'Min': 0.833692473449362, 'NoDataValue': -9999, 'Units': 'mm', 'EndDate': '12/31/2006 00:00:00', 'Max': 9.0137448052949, 'Sum': 12306.692658149956, 'Name': 'pet for SC #1', 'TimeStep': 'Daily', 'StartDate': '01/01/2000 00:00:00', 'Mean': 4.812941985979647}, 'Name': 'pet for SC #1'}], 'DetailsAsCSV': None, 'Name': 'Default Input Set', 'UnitsForNewTS': None, 'InputSets': ['Default Input Set']}], 'Name': 'Climate Data', 'id': '/dataSources/Climate Data', 'Path': '/'}, {'FullName': '/USLE Data', 'Items': [{'Details': [{'TimeSeries': {'Min': 0.000397358316174743, 'NoDataValue': -9999, 'Units': 'None', 'EndDate': '02/01/2007 00:00:00', 'Max': 0.00159088799212374, 'Sum': 0.07977163489003763, 'Name': ' KLSC_Total For SC #3 Grazing Closed', 'TimeStep': 'Monthly', 'StartDate': '12/01/1998 00:00:00', 'Mean': 0.0008057740897983599}, 'Name': 'KLSC_Total For SC #3 Grazing Closed'}, {'TimeSeries': {'Min': 0.000154196664040791, 'NoDataValue': -9999, 'Units': 'None', 'EndDate': '02/01/2007 00:00:00', 'Max': 0.000596921523767451, 'Sum': 0.030649293456369225, 'Name': ' KLSC_Fines For SC #3 Grazing Closed', 'TimeStep': 'Monthly', 'StartDate': '12/01/1998 00:00:00', 'Mean': 0.00030958882279160836}, 'Name': 'KLSC_Fines For SC #3 Grazing Closed'}, {'TimeSeries': {'Min': 0.0107070060200983, 'NoDataValue': -9999, 'Units': 'None', 'EndDate': '02/01/2007 00:00:00', 'Max': 0.0321210180026043, 'Sum': 1.9231061439874448, 'Name': ' C-Factor For SC #3 Grazing Closed', 'TimeStep': 'Monthly', 'StartDate': '12/01/1998 00:00:00', 'Mean': 0.019425314585731768}, 'Name': 'C-Factor For SC #3 Grazing Closed'}, {'TimeSeries': {'Min': 0.000664896808799889, 'NoDataValue': -9999, 'Units': 'None', 'EndDate': '02/01/2007 00:00:00', 'Max': 0.00199469042038312, 'Sum': 0.11741430072884625, 'Name': ' KLSC_Total For SC #2 Grazing', 'TimeStep': 'Monthly', 'StartDate': '12/01/1998 00:00:00', 'Mean': 0.0011860030376651136}, 'Name': 'KLSC_Total For SC #2 Grazing'}, {'TimeSeries': {'Min': 0.000240764317864284, 'NoDataValue': -9999, 'Units': 'None', 'EndDate': '02/01/2007 00:00:00', 'Max': 0.000722292951402332, 'Sum': 0.04282936232475565, 'Name': ' KLSC_Fines For SC #2 Grazing', 'TimeStep': 'Monthly', 'StartDate': '12/01/1998 00:00:00', 'Mean': 0.00043261982146217825}, 'Name': 'KLSC_Fines For SC #2 Grazing'}, {'TimeSeries': {'Min': 0.00651232681883284, 'NoDataValue': -9999, 'Units': 'None', 'EndDate': '02/01/2007 00:00:00', 'Max': 0.027775359942767, 'Sum': 1.332914781391676, 'Name': ' C-Factor For SC #2 Grazing', 'TimeStep': 'Monthly', 'StartDate': '12/01/1998 00:00:00', 'Mean': 0.01346378567062299}, 'Name': 'C-Factor For SC #2 Grazing'}, {'TimeSeries': {'Min': 0.000570601205747348, 'NoDataValue': -9999, 'Units': 'None', 'EndDate': '02/01/2007 00:00:00', 'Max': 0.00171180361468103, 'Sum': 0.10414690943844795, 'Name': ' KLSC_Total For SC #2 Grazing Closed', 'TimeStep': 'Monthly', 'StartDate': '12/01/1998 00:00:00', 'Mean': 0.001051988984226747}, 'Name': 'KLSC_Total For SC #2 Grazing Closed'}, {'TimeSeries': {'Min': 0.000233447910384906, 'NoDataValue': -9999, 'Units': 'None', 'EndDate': '02/01/2007 00:00:00', 'Max': 0.00070034373017997, 'Sum': 0.04179994381344606, 'Name': ' KLSC_Fines For SC #2 Grazing Closed', 'TimeStep': 'Monthly', 'StartDate': '12/01/1998 00:00:00', 'Mean': 0.00042222165468127335}, 'Name': 'KLSC_Fines For SC #2 Grazing Closed'}, {'TimeSeries': {'Min': 0.00956716206977543, 'NoDataValue': -9999, 'Units': 'None', 'EndDate': '02/01/2007 00:00:00', 'Max': 0.0287014861669677, 'Sum': 1.762730100776919, 'Name': ' C-Factor For SC #2 Grazing Closed', 'TimeStep': 'Monthly', 'StartDate': '12/01/1998 00:00:00', 'Mean': 0.017805354553302212}, 'Name': 'C-Factor For SC #2 Grazing Closed'}, {'TimeSeries': {'Min': 0.000165807306479057, 'NoDataValue': -9999, 'Units': 'None', 'EndDate': '02/01/2007 00:00:00', 'Max': 0.00159088799212374, 'Sum': 0.04719240787480777, 'Name': ' KLSC_Total For SC #5 Grazing', 'TimeStep': 'Monthly', 'StartDate': '12/01/1998 00:00:00', 'Mean': 0.0004766909886344219}, 'Name': 'KLSC_Total For SC #5 Grazing'}, {'TimeSeries': {'Min': 6.07932234231056e-05, 'NoDataValue': -9999, 'Units': 'None', 'EndDate': '02/01/2007 00:00:00', 'Max': 0.000596921523767451, 'Sum': 0.01750742938128616, 'Name': ' KLSC_Fines For SC #5 Grazing', 'TimeStep': 'Monthly', 'StartDate': '12/01/1998 00:00:00', 'Mean': 0.00017684272102309252}, 'Name': 'KLSC_Fines For SC #5 Grazing'}, {'TimeSeries': {'Min': 0.00272278849716242, 'NoDataValue': -9999, 'Units': 'None', 'EndDate': '02/01/2007 00:00:00', 'Max': 0.027775359942767, 'Sum': 0.7997267402882272, 'Name': ' C-Factor For SC #5 Grazing', 'TimeStep': 'Monthly', 'StartDate': '12/01/1998 00:00:00', 'Mean': 0.008078047881699265}, 'Name': 'C-Factor For SC #5 Grazing'}, {'TimeSeries': {'Min': 0.000220705356286487, 'NoDataValue': -9999, 'Units': 'None', 'EndDate': '02/01/2007 00:00:00', 'Max': 0.00159088799212374, 'Sum': 0.05491656347532363, 'Name': ' KLSC_Total For SC #4 Grazing', 'TimeStep': 'Monthly', 'StartDate': '12/01/1998 00:00:00', 'Mean': 0.0005547127623770063}, 'Name': 'KLSC_Total For SC #4 Grazing'}, {'TimeSeries': {'Min': 8.51127581152412e-05, 'NoDataValue': -9999, 'Units': 'None', 'EndDate': '02/01/2007 00:00:00', 'Max': 0.000596921523767451, 'Sum': 0.020929187910658426, 'Name': ' KLSC_Fines For SC #4 Grazing', 'TimeStep': 'Monthly', 'StartDate': '12/01/1998 00:00:00', 'Mean': 0.00021140593849149924}, 'Name': 'KLSC_Fines For SC #4 Grazing'}, {'TimeSeries': {'Min': 0.00245507339850464, 'NoDataValue': -9999, 'Units': 'None', 'EndDate': '02/01/2007 00:00:00', 'Max': 0.027775359942767, 'Sum': 0.7620592258121701, 'Name': ' C-Factor For SC #4 Grazing', 'TimeStep': 'Monthly', 'StartDate': '12/01/1998 00:00:00', 'Mean': 0.007697567937496668}, 'Name': 'C-Factor For SC #4 Grazing'}, {'TimeSeries': {'Min': 0.000235090914871131, 'NoDataValue': -9999, 'Units': 'None', 'EndDate': '02/01/2007 00:00:00', 'Max': 0.00159088799212374, 'Sum': 0.056940611552610744, 'Name': ' KLSC_Total For SC #4 Grazing Closed', 'TimeStep': 'Monthly', 'StartDate': '12/01/1998 00:00:00', 'Mean': 0.0005751576924506135}, 'Name': 'KLSC_Total For SC #4 Grazing Closed'}, {'TimeSeries': {'Min': 9.54913404072156e-05, 'NoDataValue': -9999, 'Units': 'None', 'EndDate': '02/01/2007 00:00:00', 'Max': 0.000596921523767451, 'Sum': 0.022389454432532336, 'Name': ' KLSC_Fines For SC #4 Grazing Closed', 'TimeStep': 'Monthly', 'StartDate': '12/01/1998 00:00:00', 'Mean': 0.0002261561053791145}, 'Name': 'KLSC_Fines For SC #4 Grazing Closed'}, {'TimeSeries': {'Min': 0.00394483380220827, 'NoDataValue': -9999, 'Units': 'None', 'EndDate': '02/01/2007 00:00:00', 'Max': 0.027775359942767, 'Sum': 0.9716685143974072, 'Name': ' C-Factor For SC #4 Grazing Closed', 'TimeStep': 'Monthly', 'StartDate': '12/01/1998 00:00:00', 'Mean': 0.009814833478761689}, 'Name': 'C-Factor For SC #4 Grazing Closed'}, {'TimeSeries': {'Min': 0.00027420028519249, 'NoDataValue': -9999, 'Units': 'None', 'EndDate': '02/01/2007 00:00:00', 'Max': 0.00159088799212374, 'Sum': 0.06244329995662963, 'Name': ' KLSC_Total For SC #1 Grazing', 'TimeStep': 'Monthly', 'StartDate': '12/01/1998 00:00:00', 'Mean': 0.0006307404036023195}, 'Name': 'KLSC_Total For SC #1 Grazing'}, {'TimeSeries': {'Min': 9.98280356941303e-05, 'NoDataValue': -9999, 'Units': 'None', 'EndDate': '02/01/2007 00:00:00', 'Max': 0.000596921523767451, 'Sum': 0.02299962745947831, 'Name': ' KLSC_Fines For SC #1 Grazing', 'TimeStep': 'Monthly', 'StartDate': '12/01/1998 00:00:00', 'Mean': 0.0002323194692876597}, 'Name': 'KLSC_Fines For SC #1 Grazing'}, {'TimeSeries': {'Min': 0.00805918928696954, 'NoDataValue': -9999, 'Units': 'None', 'EndDate': '02/01/2007 00:00:00', 'Max': 0.027775359942767, 'Sum': 1.5505583298802004, 'Name': ' C-Factor For SC #1 Grazing', 'TimeStep': 'Monthly', 'StartDate': '12/01/1998 00:00:00', 'Mean': 0.015662205352325258}, 'Name': 'C-Factor For SC #1 Grazing'}], 'DetailsAsCSV': None, 'Name': 'Default Input Set', 'UnitsForNewTS': None, 'InputSets': ['Default Input Set']}], 'Name': 'USLE Data', 'id': '/dataSources/USLE Data', 'Path': '/'}, {'FullName': '/Gully Data', 'Items': [{'Details': [{'TimeSeries': {'Min': 46475262.732143745, 'NoDataValue': -9999, 'Units': 'None', 'EndDate': '01/01/2006 00:00:00', 'Max': 594898318.6301568, 'Sum': 1988789437.245239, 'Name': 'Annual Load For SC #3 Cropping', 'TimeStep': 'Annual', 'StartDate': '01/01/2000 00:00:00', 'Mean': 284112776.74931985}, 'Name': 'Annual Load For SC #3 Cropping'}, {'TimeSeries': {'Min': 1.0692784008857075, 'NoDataValue': -9999, 'Units': 'None', 'EndDate': '01/01/2006 00:00:00', 'Max': 13.687107623266694, 'Sum': 45.757021351601004, 'Name': 'Annual Runoff For SC #3 Cropping', 'TimeStep': 'Annual', 'StartDate': '01/01/2000 00:00:00', 'Mean': 6.536717335943001}, 'Name': 'Annual Runoff For SC #3 Cropping'}, {'TimeSeries': {'Min': 0, 'NoDataValue': -9999, 'Units': 'None', 'EndDate': '01/01/2006 00:00:00', 'Max': 154906827076.0724, 'Sum': 334165726382.3064, 'Name': 'Annual Load For SC #3 Grazing Closed', 'TimeStep': 'Annual', 'StartDate': '01/01/2000 00:00:00', 'Mean': 47737960911.75806}, 'Name': 'Annual Load For SC #3 Grazing Closed'}, {'TimeSeries': {'Min': 1.0692784008857075, 'NoDataValue': -9999, 'Units': 'None', 'EndDate': '01/01/2006 00:00:00', 'Max': 13.687107623266694, 'Sum': 45.757021351601004, 'Name': 'Annual Runoff For SC #3 Grazing Closed', 'TimeStep': 'Annual', 'StartDate': '01/01/2000 00:00:00', 'Mean': 6.536717335943001}, 'Name': 'Annual Runoff For SC #3 Grazing Closed'}, {'TimeSeries': {'Min': 47042734.72143426, 'NoDataValue': -9999, 'Units': 'None', 'EndDate': '01/01/2006 00:00:00', 'Max': 602162142.7045717, 'Sum': 2013072942.7466016, 'Name': 'Annual Load For SC #3 Other', 'TimeStep': 'Annual', 'StartDate': '01/01/2000 00:00:00', 'Mean': 287581848.96380025}, 'Name': 'Annual Load For SC #3 Other'}, {'TimeSeries': {'Min': 1.0692784008857075, 'NoDataValue': -9999, 'Units': 'None', 'EndDate': '01/01/2006 00:00:00', 'Max': 13.687107623266694, 'Sum': 45.757021351601004, 'Name': 'Annual Runoff For SC #3 Other', 'TimeStep': 'Annual', 'StartDate': '01/01/2000 00:00:00', 'Mean': 6.536717335943001}, 'Name': 'Annual Runoff For SC #3 Other'}, {'TimeSeries': {'Min': 0, 'NoDataValue': -9999, 'Units': 'None', 'EndDate': '01/01/2006 00:00:00', 'Max': 100669792.61792815, 'Sum': 217165343.90318263, 'Name': 'Annual Load For SC #3 Water', 'TimeStep': 'Annual', 'StartDate': '01/01/2000 00:00:00', 'Mean': 31023620.557597518}, 'Name': 'Annual Load For SC #3 Water'}, {'TimeSeries': {'Min': 1.0692784008857075, 'NoDataValue': -9999, 'Units': 'None', 'EndDate': '01/01/2006 00:00:00', 'Max': 13.687107623266694, 'Sum': 45.757021351601004, 'Name': 'Annual Runoff For SC #3 Water', 'TimeStep': 'Annual', 'StartDate': '01/01/2000 00:00:00', 'Mean': 6.536717335943001}, 'Name': 'Annual Runoff For SC #3 Water'}, {'TimeSeries': {'Min': 5691279.992893873, 'NoDataValue': -9999, 'Units': 'None', 'EndDate': '01/01/2006 00:00:00', 'Max': 64458524.649350494, 'Sum': 279469833.00398403, 'Name': 'Annual Load For SC #2 Cropping', 'TimeStep': 'Annual', 'StartDate': '01/01/2000 00:00:00', 'Mean': 39924261.85771201}, 'Name': 'Annual Load For SC #2 Cropping'}, {'TimeSeries': {'Min': 1.6456335116327672, 'NoDataValue': -9999, 'Units': 'None', 'EndDate': '01/01/2006 00:00:00', 'Max': 18.63818128888813, 'Sum': 80.80869738547496, 'Name': 'Annual Runoff For SC #2 Cropping', 'TimeStep': 'Annual', 'StartDate': '01/01/2000 00:00:00', 'Mean': 11.544099626496422}, 'Name': 'Annual Runoff For SC #2 Cropping'}, {'TimeSeries': {'Min': 1182606745.258951, 'NoDataValue': -9999, 'Units': 'None', 'EndDate': '01/01/2006 00:00:00', 'Max': 13394014375.490572, 'Sum': 58071806345.77286, 'Name': 'Annual Load For SC #2 Grazing', 'TimeStep': 'Annual', 'StartDate': '01/01/2000 00:00:00', 'Mean': 8295972335.110408}, 'Name': 'Annual Load For SC #2 Grazing'}, {'TimeSeries': {'Min': 1.6456335116327672, 'NoDataValue': -9999, 'Units': 'None', 'EndDate': '01/01/2006 00:00:00', 'Max': 18.63818128888813, 'Sum': 80.80869738547496, 'Name': 'Annual Runoff For SC #2 Grazing', 'TimeStep': 'Annual', 'StartDate': '01/01/2000 00:00:00', 'Mean': 11.544099626496422}, 'Name': 'Annual Runoff For SC #2 Grazing'}, {'TimeSeries': {'Min': 15192949.858441895, 'NoDataValue': -9999, 'Units': 'None', 'EndDate': '01/01/2006 00:00:00', 'Max': 172072914.03155267, 'Sum': 746048545.3321882, 'Name': 'Annual Load For SC #2 Grazing Closed', 'TimeStep': 'Annual', 'StartDate': '01/01/2000 00:00:00', 'Mean': 106578363.61888404}, 'Name': 'Annual Load For SC #2 Grazing Closed'}, {'TimeSeries': {'Min': 1.6456335116327672, 'NoDataValue': -9999, 'Units': 'None', 'EndDate': '01/01/2006 00:00:00', 'Max': 18.63818128888813, 'Sum': 80.80869738547496, 'Name': 'Annual Runoff For SC #2 Grazing Closed', 'TimeStep': 'Annual', 'StartDate': '01/01/2000 00:00:00', 'Mean': 11.544099626496422}, 'Name': 'Annual Runoff For SC #2 Grazing Closed'}, {'TimeSeries': {'Min': 26615866.088200886, 'NoDataValue': -9999, 'Units': 'None', 'EndDate': '01/01/2006 00:00:00', 'Max': 301447031.6786799, 'Sum': 1306969901.360222, 'Name': 'Annual Load For SC #2 Other', 'TimeStep': 'Annual', 'StartDate': '01/01/2000 00:00:00', 'Mean': 186709985.90860316}, 'Name': 'Annual Load For SC #2 Other'}, {'TimeSeries': {'Min': 1.6456335116327672, 'NoDataValue': -9999, 'Units': 'None', 'EndDate': '01/01/2006 00:00:00', 'Max': 18.63818128888813, 'Sum': 80.80869738547496, 'Name': 'Annual Runoff For SC #2 Other', 'TimeStep': 'Annual', 'StartDate': '01/01/2000 00:00:00', 'Mean': 11.544099626496422}, 'Name': 'Annual Runoff For SC #2 Other'}, {'TimeSeries': {'Min': 155157.11917546878, 'NoDataValue': -9999, 'Units': 'None', 'EndDate': '01/01/2006 00:00:00', 'Max': 1757284.6536072013, 'Sum': 7618977.4953066455, 'Name': 'Annual Load For SC #2 Water', 'TimeStep': 'Annual', 'StartDate': '01/01/2000 00:00:00', 'Mean': 1088425.356472378}, 'Name': 'Annual Load For SC #2 Water'}, {'TimeSeries': {'Min': 1.6456335116327672, 'NoDataValue': -9999, 'Units': 'None', 'EndDate': '01/01/2006 00:00:00', 'Max': 18.63818128888813, 'Sum': 80.80869738547496, 'Name': 'Annual Runoff For SC #2 Water', 'TimeStep': 'Annual', 'StartDate': '01/01/2000 00:00:00', 'Mean': 11.544099626496422}, 'Name': 'Annual Runoff For SC #2 Water'}, {'TimeSeries': {'Min': 44283057.11528821, 'NoDataValue': -9999, 'Units': 'None', 'EndDate': '01/01/2006 00:00:00', 'Max': 842085957.7744001, 'Sum': 2753973910.40898, 'Name': 'Annual Load For SC #5 Cropping', 'TimeStep': 'Annual', 'StartDate': '01/01/2000 00:00:00', 'Mean': 393424844.34414}, 'Name': 'Annual Load For SC #5 Cropping'}, {'TimeSeries': {'Min': 2.244079660694208, 'NoDataValue': -9999, 'Units': 'None', 'EndDate': '01/01/2006 00:00:00', 'Max': 42.67338556771259, 'Sum': 139.55985067475532, 'Name': 'Annual Runoff For SC #5 Cropping', 'TimeStep': 'Annual', 'StartDate': '01/01/2000 00:00:00', 'Mean': 19.937121524965047}, 'Name': 'Annual Runoff For SC #5 Cropping'}, {'TimeSeries': {'Min': 58108951.14405653, 'NoDataValue': -9999, 'Units': 'None', 'EndDate': '01/01/2006 00:00:00', 'Max': 1104998953.7085326, 'Sum': 3613809565.93246, 'Name': 'Annual Load For SC #5 Grazing', 'TimeStep': 'Annual', 'StartDate': '01/01/2000 00:00:00', 'Mean': 516258509.41892284}, 'Name': 'Annual Load For SC #5 Grazing'}, {'TimeSeries': {'Min': 2.244079660694208, 'NoDataValue': -9999, 'Units': 'None', 'EndDate': '01/01/2006 00:00:00', 'Max': 42.67338556771259, 'Sum': 139.55985067475532, 'Name': 'Annual Runoff For SC #5 Grazing', 'TimeStep': 'Annual', 'StartDate': '01/01/2000 00:00:00', 'Mean': 19.937121524965047}, 'Name': 'Annual Runoff For SC #5 Grazing'}, {'TimeSeries': {'Min': 3811373.0615047705, 'NoDataValue': -9999, 'Units': 'None', 'EndDate': '01/01/2006 00:00:00', 'Max': 72477013.64829098, 'Sum': 237030202.02270517, 'Name': 'Annual Load For SC #5 Other', 'TimeStep': 'Annual', 'StartDate': '01/01/2000 00:00:00', 'Mean': 33861457.43181502}, 'Name': 'Annual Load For SC #5 Other'}, {'TimeSeries': {'Min': 2.244079660694208, 'NoDataValue': -9999, 'Units': 'None', 'EndDate': '01/01/2006 00:00:00', 'Max': 42.67338556771259, 'Sum': 139.55985067475532, 'Name': 'Annual Runoff For SC #5 Other', 'TimeStep': 'Annual', 'StartDate': '01/01/2000 00:00:00', 'Mean': 19.937121524965047}, 'Name': 'Annual Runoff For SC #5 Other'}, {'TimeSeries': {'Min': 125938.26136315458, 'NoDataValue': -9999, 'Units': 'None', 'EndDate': '01/01/2006 00:00:00', 'Max': 2394840.111520267, 'Sum': 7832130.586952116, 'Name': 'Annual Load For SC #5 Water', 'TimeStep': 'Annual', 'StartDate': '01/01/2000 00:00:00', 'Mean': 1118875.7981360166}, 'Name': 'Annual Load For SC #5 Water'}, {'TimeSeries': {'Min': 2.244079660694208, 'NoDataValue': -9999, 'Units': 'None', 'EndDate': '01/01/2006 00:00:00', 'Max': 42.67338556771259, 'Sum': 139.55985067475532, 'Name': 'Annual Runoff For SC #5 Water', 'TimeStep': 'Annual', 'StartDate': '01/01/2000 00:00:00', 'Mean': 19.937121524965047}, 'Name': 'Annual Runoff For SC #5 Water'}, {'TimeSeries': {'Min': 16499676.933618693, 'NoDataValue': -9999, 'Units': 'None', 'EndDate': '01/01/2006 00:00:00', 'Max': 212620106.01591367, 'Sum': 621848137.534384, 'Name': 'Annual Load For SC #4 Cropping', 'TimeStep': 'Annual', 'StartDate': '01/01/2000 00:00:00', 'Mean': 88835448.21919772}, 'Name': 'Annual Load For SC #4 Cropping'}, {'TimeSeries': {'Min': 2.6384530199907053, 'NoDataValue': -9999, 'Units': 'None', 'EndDate': '01/01/2006 00:00:00', 'Max': 33.999948185979136, 'Sum': 99.43934678564327, 'Name': 'Annual Runoff For SC #4 Cropping', 'TimeStep': 'Annual', 'StartDate': '01/01/2000 00:00:00', 'Mean': 14.205620969377609}, 'Name': 'Annual Runoff For SC #4 Cropping'}, {'TimeSeries': {'Min': 0, 'NoDataValue': -9999, 'Units': 'None', 'EndDate': '01/01/2006 00:00:00', 'Max': 27449626195.48122, 'Sum': 60638776588.36023, 'Name': 'Annual Load For SC #4 Grazing', 'TimeStep': 'Annual', 'StartDate': '01/01/2000 00:00:00', 'Mean': 8662682369.765747}, 'Name': 'Annual Load For SC #4 Grazing'}, {'TimeSeries': {'Min': 2.6384530199907053, 'NoDataValue': -9999, 'Units': 'None', 'EndDate': '01/01/2006 00:00:00', 'Max': 33.999948185979136, 'Sum': 99.43934678564327, 'Name': 'Annual Runoff For SC #4 Grazing', 'TimeStep': 'Annual', 'StartDate': '01/01/2000 00:00:00', 'Mean': 14.205620969377609}, 'Name': 'Annual Runoff For SC #4 Grazing'}, {'TimeSeries': {'Min': 95186007.58668908, 'NoDataValue': -9999, 'Units': 'None', 'EndDate': '01/01/2006 00:00:00', 'Max': 1226597290.7067513, 'Sum': 3587418212.808267, 'Name': 'Annual Load For SC #4 Grazing Closed', 'TimeStep': 'Annual', 'StartDate': '01/01/2000 00:00:00', 'Mean': 512488316.1154667}, 'Name': 'Annual Load For SC #4 Grazing Closed'}, {'TimeSeries': {'Min': 2.6384530199907053, 'NoDataValue': -9999, 'Units': 'None', 'EndDate': '01/01/2006 00:00:00', 'Max': 33.999948185979136, 'Sum': 99.43934678564327, 'Name': 'Annual Runoff For SC #4 Grazing Closed', 'TimeStep': 'Annual', 'StartDate': '01/01/2000 00:00:00', 'Mean': 14.205620969377609}, 'Name': 'Annual Runoff For SC #4 Grazing Closed'}, {'TimeSeries': {'Min': 0, 'NoDataValue': -9999, 'Units': 'None', 'EndDate': '01/01/2006 00:00:00', 'Max': 3687228775.081812, 'Sum': 8145431210.249651, 'Name': 'Annual Load For SC #4 Other', 'TimeStep': 'Annual', 'StartDate': '01/01/2000 00:00:00', 'Mean': 1163633030.0356643}, 'Name': 'Annual Load For SC #4 Other'}, {'TimeSeries': {'Min': 2.6384530199907053, 'NoDataValue': -9999, 'Units': 'None', 'EndDate': '01/01/2006 00:00:00', 'Max': 33.999948185979136, 'Sum': 99.43934678564327, 'Name': 'Annual Runoff For SC #4 Other', 'TimeStep': 'Annual', 'StartDate': '01/01/2000 00:00:00', 'Mean': 14.205620969377609}, 'Name': 'Annual Runoff For SC #4 Other'}, {'TimeSeries': {'Min': 1098549.9839536007, 'NoDataValue': -9999, 'Units': 'None', 'EndDate': '01/01/2006 00:00:00', 'Max': 14156265.907005697, 'Sum': 41402705.29285751, 'Name': 'Annual Load For SC #4 Water', 'TimeStep': 'Annual', 'StartDate': '01/01/2000 00:00:00', 'Mean': 5914672.184693931}, 'Name': 'Annual Load For SC #4 Water'}, {'TimeSeries': {'Min': 2.6384530199907053, 'NoDataValue': -9999, 'Units': 'None', 'EndDate': '01/01/2006 00:00:00', 'Max': 33.999948185979136, 'Sum': 99.43934678564327, 'Name': 'Annual Runoff For SC #4 Water', 'TimeStep': 'Annual', 'StartDate': '01/01/2000 00:00:00', 'Mean': 14.205620969377609}, 'Name': 'Annual Runoff For SC #4 Water'}, {'TimeSeries': {'Min': 6692876.979831312, 'NoDataValue': -9999, 'Units': 'None', 'EndDate': '01/01/2006 00:00:00', 'Max': 356547027.59288883, 'Sum': 542628427.2793303, 'Name': 'Annual Load For SC #1 Cropping', 'TimeStep': 'Annual', 'StartDate': '01/01/2000 00:00:00', 'Mean': 77518346.75419004}, 'Name': 'Annual Load For SC #1 Cropping'}, {'TimeSeries': {'Min': 2.276018810677699, 'NoDataValue': -9999, 'Units': 'None', 'EndDate': '01/01/2006 00:00:00', 'Max': 121.24946329330041, 'Sum': 184.52939018869193, 'Name': 'Annual Runoff For SC #1 Cropping', 'TimeStep': 'Annual', 'StartDate': '01/01/2000 00:00:00', 'Mean': 26.36134145552742}, 'Name': 'Annual Runoff For SC #1 Cropping'}, {'TimeSeries': {'Min': 169919685.00897688, 'NoDataValue': -9999, 'Units': 'None', 'EndDate': '01/01/2006 00:00:00', 'Max': 9052065173.473034, 'Sum': 13776325445.405663, 'Name': 'Annual Load For SC #1 Grazing', 'TimeStep': 'Annual', 'StartDate': '01/01/2000 00:00:00', 'Mean': 1968046492.200809}, 'Name': 'Annual Load For SC #1 Grazing'}, {'TimeSeries': {'Min': 2.276018810677699, 'NoDataValue': -9999, 'Units': 'None', 'EndDate': '01/01/2006 00:00:00', 'Max': 121.24946329330041, 'Sum': 184.52939018869193, 'Name': 'Annual Runoff For SC #1 Grazing', 'TimeStep': 'Annual', 'StartDate': '01/01/2000 00:00:00', 'Mean': 26.36134145552742}, 'Name': 'Annual Runoff For SC #1 Grazing'}, {'TimeSeries': {'Min': 301331.46465154237, 'NoDataValue': -9999, 'Units': 'None', 'EndDate': '01/01/2006 00:00:00', 'Max': 16052713.708242478, 'Sum': 24430602.750711855, 'Name': 'Annual Load For SC #1 Other', 'TimeStep': 'Annual', 'StartDate': '01/01/2000 00:00:00', 'Mean': 3490086.1072445507}, 'Name': 'Annual Load For SC #1 Other'}, {'TimeSeries': {'Min': 2.276018810677699, 'NoDataValue': -9999, 'Units': 'None', 'EndDate': '01/01/2006 00:00:00', 'Max': 121.24946329330041, 'Sum': 184.52939018869193, 'Name': 'Annual Runoff For SC #1 Other', 'TimeStep': 'Annual', 'StartDate': '01/01/2000 00:00:00', 'Mean': 26.36134145552742}, 'Name': 'Annual Runoff For SC #1 Other'}, {'TimeSeries': {'Min': 42508.41592905003, 'NoDataValue': -9999, 'Units': 'None', 'EndDate': '01/01/2006 00:00:00', 'Max': 2264534.2791833193, 'Sum': 3446391.5818601116, 'Name': 'Annual Load For SC #1 Water', 'TimeStep': 'Annual', 'StartDate': '01/01/2000 00:00:00', 'Mean': 492341.6545514445}, 'Name': 'Annual Load For SC #1 Water'}, {'TimeSeries': {'Min': 2.276018810677699, 'NoDataValue': -9999, 'Units': 'None', 'EndDate': '01/01/2006 00:00:00', 'Max': 121.24946329330041, 'Sum': 184.52939018869193, 'Name': 'Annual Runoff For SC #1 Water', 'TimeStep': 'Annual', 'StartDate': '01/01/2000 00:00:00', 'Mean': 26.36134145552742}, 'Name': 'Annual Runoff For SC #1 Water'}], 'DetailsAsCSV': None, 'Name': 'Default Input Set', 'UnitsForNewTS': None, 'InputSets': ['Default Input Set']}], 'Name': 'Gully Data', 'id': '/dataSources/Gully Data', 'Path': '/'}]"
      ]
     },
     "execution_count": 15,
     "metadata": {},
     "output_type": "execute_result"
    }
   ],
   "source": [
    "dataGroups = v.data_sources()\n",
    "#help(dataGroups)\n",
    "dataGroups"
   ]
  },
  {
   "cell_type": "code",
   "execution_count": 18,
   "metadata": {
    "collapsed": false
   },
   "outputs": [
    {
     "data": {
      "text/plain": [
       "'/rainfall for SC #1_csv'"
      ]
     },
     "execution_count": 18,
     "metadata": {},
     "output_type": "execute_result"
    }
   ],
   "source": [
    "#grpNames = dataGroups.unique_values('FullName')\n",
    "grpNames = dataGroups[0]['FullName']\n",
    "grpNames"
   ]
  },
  {
   "cell_type": "code",
   "execution_count": 28,
   "metadata": {
    "collapsed": false,
    "scrolled": false
   },
   "outputs": [
    {
     "name": "stdout",
     "output_type": "stream",
     "text": [
      "/rainfall for SC #1_csv\n",
      "TSName: Rain as demand TimeStep: Daily\n",
      "/Climate Data\n",
      "TSName: rainfall for SC #3 TimeStep: Daily\n",
      "TSName: rainfall for SC #2 TimeStep: Daily\n",
      "TSName: rainfall for SC #5 TimeStep: Daily\n",
      "TSName: rainfall for SC #4 TimeStep: Daily\n",
      "TSName: rainfall for SC #1 TimeStep: Daily\n",
      "TSName: pet for SC #3 TimeStep: Daily\n",
      "TSName: pet for SC #2 TimeStep: Daily\n",
      "TSName: pet for SC #5 TimeStep: Daily\n",
      "TSName: pet for SC #4 TimeStep: Daily\n",
      "TSName: pet for SC #1 TimeStep: Daily\n",
      "/USLE Data\n",
      "TSName:  KLSC_Total For SC #3 Grazing Closed TimeStep: Monthly\n",
      "TSName:  KLSC_Fines For SC #3 Grazing Closed TimeStep: Monthly\n",
      "TSName:  C-Factor For SC #3 Grazing Closed TimeStep: Monthly\n",
      "TSName:  KLSC_Total For SC #2 Grazing TimeStep: Monthly\n",
      "TSName:  KLSC_Fines For SC #2 Grazing TimeStep: Monthly\n",
      "TSName:  C-Factor For SC #2 Grazing TimeStep: Monthly\n",
      "TSName:  KLSC_Total For SC #2 Grazing Closed TimeStep: Monthly\n",
      "TSName:  KLSC_Fines For SC #2 Grazing Closed TimeStep: Monthly\n",
      "TSName:  C-Factor For SC #2 Grazing Closed TimeStep: Monthly\n",
      "TSName:  KLSC_Total For SC #5 Grazing TimeStep: Monthly\n",
      "TSName:  KLSC_Fines For SC #5 Grazing TimeStep: Monthly\n",
      "TSName:  C-Factor For SC #5 Grazing TimeStep: Monthly\n",
      "TSName:  KLSC_Total For SC #4 Grazing TimeStep: Monthly\n",
      "TSName:  KLSC_Fines For SC #4 Grazing TimeStep: Monthly\n",
      "TSName:  C-Factor For SC #4 Grazing TimeStep: Monthly\n",
      "TSName:  KLSC_Total For SC #4 Grazing Closed TimeStep: Monthly\n",
      "TSName:  KLSC_Fines For SC #4 Grazing Closed TimeStep: Monthly\n",
      "TSName:  C-Factor For SC #4 Grazing Closed TimeStep: Monthly\n",
      "TSName:  KLSC_Total For SC #1 Grazing TimeStep: Monthly\n",
      "TSName:  KLSC_Fines For SC #1 Grazing TimeStep: Monthly\n",
      "TSName:  C-Factor For SC #1 Grazing TimeStep: Monthly\n",
      "/Gully Data\n",
      "TSName: Annual Load For SC #3 Cropping TimeStep: Annual\n",
      "TSName: Annual Runoff For SC #3 Cropping TimeStep: Annual\n",
      "TSName: Annual Load For SC #3 Grazing Closed TimeStep: Annual\n",
      "TSName: Annual Runoff For SC #3 Grazing Closed TimeStep: Annual\n",
      "TSName: Annual Load For SC #3 Other TimeStep: Annual\n",
      "TSName: Annual Runoff For SC #3 Other TimeStep: Annual\n",
      "TSName: Annual Load For SC #3 Water TimeStep: Annual\n",
      "TSName: Annual Runoff For SC #3 Water TimeStep: Annual\n",
      "TSName: Annual Load For SC #2 Cropping TimeStep: Annual\n",
      "TSName: Annual Runoff For SC #2 Cropping TimeStep: Annual\n",
      "TSName: Annual Load For SC #2 Grazing TimeStep: Annual\n",
      "TSName: Annual Runoff For SC #2 Grazing TimeStep: Annual\n",
      "TSName: Annual Load For SC #2 Grazing Closed TimeStep: Annual\n",
      "TSName: Annual Runoff For SC #2 Grazing Closed TimeStep: Annual\n",
      "TSName: Annual Load For SC #2 Other TimeStep: Annual\n",
      "TSName: Annual Runoff For SC #2 Other TimeStep: Annual\n",
      "TSName: Annual Load For SC #2 Water TimeStep: Annual\n",
      "TSName: Annual Runoff For SC #2 Water TimeStep: Annual\n",
      "TSName: Annual Load For SC #5 Cropping TimeStep: Annual\n",
      "TSName: Annual Runoff For SC #5 Cropping TimeStep: Annual\n",
      "TSName: Annual Load For SC #5 Grazing TimeStep: Annual\n",
      "TSName: Annual Runoff For SC #5 Grazing TimeStep: Annual\n",
      "TSName: Annual Load For SC #5 Other TimeStep: Annual\n",
      "TSName: Annual Runoff For SC #5 Other TimeStep: Annual\n",
      "TSName: Annual Load For SC #5 Water TimeStep: Annual\n",
      "TSName: Annual Runoff For SC #5 Water TimeStep: Annual\n",
      "TSName: Annual Load For SC #4 Cropping TimeStep: Annual\n",
      "TSName: Annual Runoff For SC #4 Cropping TimeStep: Annual\n",
      "TSName: Annual Load For SC #4 Grazing TimeStep: Annual\n",
      "TSName: Annual Runoff For SC #4 Grazing TimeStep: Annual\n",
      "TSName: Annual Load For SC #4 Grazing Closed TimeStep: Annual\n",
      "TSName: Annual Runoff For SC #4 Grazing Closed TimeStep: Annual\n",
      "TSName: Annual Load For SC #4 Other TimeStep: Annual\n",
      "TSName: Annual Runoff For SC #4 Other TimeStep: Annual\n",
      "TSName: Annual Load For SC #4 Water TimeStep: Annual\n",
      "TSName: Annual Runoff For SC #4 Water TimeStep: Annual\n",
      "TSName: Annual Load For SC #1 Cropping TimeStep: Annual\n",
      "TSName: Annual Runoff For SC #1 Cropping TimeStep: Annual\n",
      "TSName: Annual Load For SC #1 Grazing TimeStep: Annual\n",
      "TSName: Annual Runoff For SC #1 Grazing TimeStep: Annual\n",
      "TSName: Annual Load For SC #1 Other TimeStep: Annual\n",
      "TSName: Annual Runoff For SC #1 Other TimeStep: Annual\n",
      "TSName: Annual Load For SC #1 Water TimeStep: Annual\n",
      "TSName: Annual Runoff For SC #1 Water TimeStep: Annual\n"
     ]
    }
   ],
   "source": [
    "for i in range(len(dataGroups)):\n",
    "    print(dataGroups[i]['FullName'])\n",
    "    dgItems = dataGroups[i]['Items']\n",
    "    \n",
    "    for j in range(len(dgItems)):\n",
    "        dgItemDetails = dgItems[j]['Details']\n",
    "        \n",
    "        for k in range(len(dgItemDetails)):\n",
    "            dgTimeSeries = dgItemDetails[k]['TimeSeries']\n",
    "            print(\"TSName: \" + dgTimeSeries['Name'] + \" TimeStep: \" + dgTimeSeries['TimeStep'])\n",
    "            #for l in range(len(dgTimeSeries)):\n",
    "                #print(dgTimeSeries[l]['Name'])"
   ]
  },
  {
   "cell_type": "code",
   "execution_count": 23,
   "metadata": {
    "collapsed": true
   },
   "outputs": [],
   "source": [
    "kill_all_now(processes)"
   ]
  },
  {
   "cell_type": "code",
   "execution_count": null,
   "metadata": {
    "collapsed": true
   },
   "outputs": [],
   "source": []
  }
 ],
 "metadata": {
  "anaconda-cloud": {},
  "kernelspec": {
   "display_name": "Python [default]",
   "language": "python",
   "name": "python3"
  },
  "language_info": {
   "codemirror_mode": {
    "name": "ipython",
    "version": 3
   },
   "file_extension": ".py",
   "mimetype": "text/x-python",
   "name": "python",
   "nbconvert_exporter": "python",
   "pygments_lexer": "ipython3",
   "version": "3.5.2"
  }
 },
 "nbformat": 4,
 "nbformat_minor": 1
}
