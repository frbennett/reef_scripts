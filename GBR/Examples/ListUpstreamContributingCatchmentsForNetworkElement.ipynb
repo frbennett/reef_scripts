{
 "cells": [
  {
   "cell_type": "code",
   "execution_count": 1,
   "metadata": {},
   "outputs": [],
   "source": [
    "#This one uses an active scenario in the GUI\n",
    "\n",
    "\n",
    "from veneer.manage import start, create_command_line, kill_all_now\n",
    "import veneer\n",
    "import pandas as pd\n",
    "import gc\n",
    "import numpy as np\n",
    "#from veneer.pest_runtime import *\n",
    "\n",
    "\n",
    "veneer_port = 16000\n",
    "v = veneer.Veneer(veneer_port)\n",
    "\n",
    "#nodeOfInterestName = '120212A'\n",
    "#outputCSV = 'D:/aa/testingSubCats.csv'\n",
    "#outputCSV = r'C:\\DDrive\\WetTropics\\Johnstone\\contribCatchs.csv'"
   ]
  },
  {
   "cell_type": "code",
   "execution_count": 7,
   "metadata": {},
   "outputs": [
    {
     "name": "stdout",
     "output_type": "stream",
     "text": [
      "1/01/1970 12:00:00 AM\n",
      "20/07/2014 12:00:00 AM\n"
     ]
    }
   ],
   "source": [
    "#Check we have the right scenario\n",
    "sDate = v.model.get('scenario.CurrentConfiguration.StartDate')\n",
    "print(sDate)\n",
    "\n",
    "eDate = v.model.get('scenario.CurrentConfiguration.EndDate')\n",
    "print(eDate)\n",
    "\n",
    "#v.run_model()"
   ]
  },
  {
   "cell_type": "code",
   "execution_count": 8,
   "metadata": {
    "scrolled": true
   },
   "outputs": [],
   "source": [
    "the_network = v.network()\n",
    "#outlets = the_network.outlet_nodes()\n",
    "#outlets"
   ]
  },
  {
   "cell_type": "code",
   "execution_count": 9,
   "metadata": {},
   "outputs": [],
   "source": [
    "def processLinks(theNetwork, currentLink):\n",
    "    theLinkName = currentLink['properties']['name']\n",
    "    theLinkID = currentLink['id']\n",
    "    \n",
    "    #print(\"Now processing: \" + theLinkName)\n",
    "          \n",
    "    # I think this will actually return a catchment record, not just an ID\n",
    "    theCat = theNetwork['features'].find_by_link(theLinkID)[0]\n",
    "    \n",
    "    #print(theCat)\n",
    "    \n",
    "    thisCatName = theCat['properties']['name']\n",
    "    #print(thisCatName)\n",
    "    #thisCatArea = theCat['properties']['areaInSquareMeters']\n",
    "    \n",
    "    GlobalCatchList.append(thisCatName)\n",
    "    \n",
    "    #print(\"Processing \" + thisCatName + \" with area of \" + str(thisCatArea))\n",
    "        \n",
    "    fNodeID = currentLink['properties']['from_node']\n",
    "    \n",
    "    #print(\"Node info: \" + fNodeID)\n",
    "    \n",
    "    fNode = the_network['features'].find_by_id(fNodeID)\n",
    "    #print(fNode)\n",
    "    \n",
    "    fNodeName = fNode[0]['properties']['name']\n",
    "    #print(fNodeName)\n",
    "    \n",
    "    ## recurse\n",
    "    #print(the_network.upstream_links(fNode[0]))\n",
    "    for upLink in the_network.upstream_links(fNode[0]):\n",
    "        #tNodeID = upLink['properties']['to_node']\n",
    "        #tNode = the_network['features'].find_by_id(tNodeID)\n",
    "        #print(\"Now processing: \" + upLink['properties']['name'] + \" upstream of \" + tNode[0]['properties']['name'] + \" with initial Region: \" + currentReg)\n",
    "        processLinks(theNetwork, upLink)\n",
    "\n",
    "    return"
   ]
  },
  {
   "cell_type": "code",
   "execution_count": 10,
   "metadata": {},
   "outputs": [
    {
     "name": "stdout",
     "output_type": "stream",
     "text": [
      "Done exporting\n"
     ]
    }
   ],
   "source": [
    "GlobalCatchList = []\n",
    "\n",
    "elementOfInterestName = 'link for catchment SC #325'\n",
    "outputCSV = r'C:\\DDrive\\BurnettMary\\contribCatchs_UpperBurnett.csv'\n",
    "\n",
    "elementOfInterest = the_network['features'].find_by_name(nodeOfInterestName)\n",
    "\n",
    "if elementOfInterest['properties']['feature_type'] == 'link':\n",
    "    #Need to add the link/catchent to our collection\n",
    "    theLinkID = elementOfInterest['id']\n",
    "    theCat = the_network['features'].find_by_link(theLinkID)[0]\n",
    "    thisCatName = theCat['properties']['name']\n",
    "    GlobalCatchList.append(thisCatName)\n",
    "\n",
    "#print(\"NOF: \" + nodeOfInterest[0]['properties']['name'])\n",
    "## now we begin processing\n",
    "for upLink in the_network.upstream_links(elementOfInterest[0]):\n",
    "    #print(\"Recursing for link: \" + upLink['properties']['name'])\n",
    "    processLinks(the_network, upLink)\n",
    "\n",
    "contCatchsDF = pd.DataFrame(GlobalCatchList, columns=['SubCats'])\n",
    "#contCatchsDF\n",
    "contCatchsDF.to_csv(outputCSV, index=False)\n",
    "print(\"Done exporting\")"
   ]
  },
  {
   "cell_type": "code",
   "execution_count": 11,
   "metadata": {},
   "outputs": [
    {
     "name": "stdout",
     "output_type": "stream",
     "text": [
      "Done exporting\n"
     ]
    }
   ],
   "source": [
    "GlobalCatchList = []\n",
    "\n",
    "nodeOfInterestName = 'link for catchment SC #107'\n",
    "outputCSV = r'C:\\DDrive\\BurnettMary\\contribCatchs_BarkerBarambah.csv'\n",
    "\n",
    "nodeOfInterest = the_network['features'].find_by_name(nodeOfInterestName)\n",
    "#print(\"NOF: \" + nodeOfInterest[0]['properties']['name'])\n",
    "## now we begin processing\n",
    "for upLink in the_network.upstream_links(nodeOfInterest[0]):\n",
    "    #print(\"Recursing for link: \" + upLink['properties']['name'])\n",
    "    processLinks(the_network, upLink)\n",
    "\n",
    "contCatchsDF = pd.DataFrame(GlobalCatchList, columns=['SubCats'])\n",
    "#contCatchsDF\n",
    "contCatchsDF.to_csv(outputCSV, index=False)\n",
    "print(\"Done exporting\")"
   ]
  },
  {
   "cell_type": "code",
   "execution_count": 12,
   "metadata": {},
   "outputs": [
    {
     "name": "stdout",
     "output_type": "stream",
     "text": [
      "Done exporting\n"
     ]
    }
   ],
   "source": [
    "GlobalCatchList = []\n",
    "\n",
    "nodeOfInterestName = 'link for catchment SC #244'\n",
    "outputCSV = r'C:\\DDrive\\BurnettMary\\contribCatchs_AuburnBoyne1.csv'\n",
    "\n",
    "nodeOfInterest = the_network['features'].find_by_name(nodeOfInterestName)\n",
    "#print(\"NOF: \" + nodeOfInterest[0]['properties']['name'])\n",
    "## now we begin processing\n",
    "for upLink in the_network.upstream_links(nodeOfInterest[0]):\n",
    "    #print(\"Recursing for link: \" + upLink['properties']['name'])\n",
    "    processLinks(the_network, upLink)\n",
    "\n",
    "contCatchsDF = pd.DataFrame(GlobalCatchList, columns=['SubCats'])\n",
    "#contCatchsDF\n",
    "contCatchsDF.to_csv(outputCSV, index=False)\n",
    "print(\"Done exporting\")"
   ]
  },
  {
   "cell_type": "code",
   "execution_count": 13,
   "metadata": {},
   "outputs": [
    {
     "name": "stdout",
     "output_type": "stream",
     "text": [
      "Done exporting\n"
     ]
    }
   ],
   "source": [
    "GlobalCatchList = []\n",
    "\n",
    "nodeOfInterestName = 'link for catchment SC #178'\n",
    "outputCSV = r'C:\\DDrive\\BurnettMary\\contribCatchs_AuburnBoyne2.csv'\n",
    "\n",
    "nodeOfInterest = the_network['features'].find_by_name(nodeOfInterestName)\n",
    "#print(\"NOF: \" + nodeOfInterest[0]['properties']['name'])\n",
    "## now we begin processing\n",
    "for upLink in the_network.upstream_links(nodeOfInterest[0]):\n",
    "    #print(\"Recursing for link: \" + upLink['properties']['name'])\n",
    "    processLinks(the_network, upLink)\n",
    "\n",
    "contCatchsDF = pd.DataFrame(GlobalCatchList, columns=['SubCats'])\n",
    "#contCatchsDF\n",
    "contCatchsDF.to_csv(outputCSV, index=False)\n",
    "print(\"Done exporting\")"
   ]
  },
  {
   "cell_type": "code",
   "execution_count": null,
   "metadata": {},
   "outputs": [],
   "source": []
  },
  {
   "cell_type": "code",
   "execution_count": 10,
   "metadata": {},
   "outputs": [
    {
     "name": "stdout",
     "output_type": "stream",
     "text": [
      "Done exporting\n"
     ]
    }
   ],
   "source": [
    "GlobalCatchList = []\n",
    "\n",
    "nodeOfInterestName = '1120054'\n",
    "outputCSV = r'C:\\DDrive\\WetTropics\\Johnstone\\contribCatchs_RiverMouth.csv'\n",
    "\n",
    "nodeOfInterest = the_network['features'].find_by_name(nodeOfInterestName)\n",
    "#print(\"NOF: \" + nodeOfInterest[0]['properties']['name'])\n",
    "## now we begin processing\n",
    "for upLink in the_network.upstream_links(nodeOfInterest[0]):\n",
    "    #print(\"Recursing for link: \" + upLink['properties']['name'])\n",
    "    processLinks(the_network, upLink)\n",
    "\n",
    "contCatchsDF = pd.DataFrame(GlobalCatchList, columns=['SubCats'])\n",
    "#contCatchsDF\n",
    "contCatchsDF.to_csv(outputCSV, index=False)\n",
    "print(\"Done exporting\")"
   ]
  },
  {
   "cell_type": "code",
   "execution_count": 11,
   "metadata": {
    "scrolled": true
   },
   "outputs": [],
   "source": [
    "#contCatchsDF = pd.DataFrame(GlobalCatchList, columns=['SubCats'])\n",
    "#contCatchsDF\n"
   ]
  },
  {
   "cell_type": "code",
   "execution_count": 12,
   "metadata": {},
   "outputs": [],
   "source": [
    "#contCatchsDF.to_csv(outputCSV, index=False)"
   ]
  },
  {
   "cell_type": "code",
   "execution_count": 13,
   "metadata": {},
   "outputs": [
    {
     "name": "stdout",
     "output_type": "stream",
     "text": [
      "Done exporting\n"
     ]
    }
   ],
   "source": [
    "GlobalCatchList = []\n",
    "\n",
    "nodeOfInterestName = 'link for catchment SC #122'\n",
    "outputCSV = r'C:\\DDrive\\WetTropics\\Johnstone\\contribCatchs_SouthJohnstone.csv'\n",
    "\n",
    "nodeOfInterest = the_network['features'].find_by_name(nodeOfInterestName)\n",
    "#print(\"NOF: \" + nodeOfInterest[0]['properties']['name'])\n",
    "## now we begin processing\n",
    "for upLink in the_network.upstream_links(nodeOfInterest[0]):\n",
    "    #print(\"Recursing for link: \" + upLink['properties']['name'])\n",
    "    processLinks(the_network, upLink)\n",
    "\n",
    "contCatchsDF = pd.DataFrame(GlobalCatchList, columns=['SubCats'])\n",
    "#contCatchsDF\n",
    "contCatchsDF.to_csv(outputCSV, index=False)\n",
    "print(\"Done exporting\")"
   ]
  },
  {
   "cell_type": "code",
   "execution_count": 14,
   "metadata": {},
   "outputs": [
    {
     "name": "stdout",
     "output_type": "stream",
     "text": [
      "Done exporting\n"
     ]
    }
   ],
   "source": [
    "GlobalCatchList = []\n",
    "\n",
    "nodeOfInterestName = 'link for catchment SC #133'\n",
    "outputCSV = r'C:\\DDrive\\WetTropics\\Johnstone\\contribCatchs_NorthJohnstone.csv'\n",
    "\n",
    "nodeOfInterest = the_network['features'].find_by_name(nodeOfInterestName)\n",
    "#print(\"NOF: \" + nodeOfInterest[0]['properties']['name'])\n",
    "## now we begin processing\n",
    "for upLink in the_network.upstream_links(nodeOfInterest[0]):\n",
    "    #print(\"Recursing for link: \" + upLink['properties']['name'])\n",
    "    processLinks(the_network, upLink)\n",
    "\n",
    "contCatchsDF = pd.DataFrame(GlobalCatchList, columns=['SubCats'])\n",
    "#contCatchsDF\n",
    "contCatchsDF.to_csv(outputCSV, index=False)\n",
    "print(\"Done exporting\")"
   ]
  },
  {
   "cell_type": "code",
   "execution_count": 15,
   "metadata": {},
   "outputs": [
    {
     "ename": "NameError",
     "evalue": "name 'processes' is not defined",
     "output_type": "error",
     "traceback": [
      "\u001b[1;31m---------------------------------------------------------------------------\u001b[0m",
      "\u001b[1;31mNameError\u001b[0m                                 Traceback (most recent call last)",
      "\u001b[1;32m<ipython-input-15-7f1b5d3f8d03>\u001b[0m in \u001b[0;36m<module>\u001b[1;34m\u001b[0m\n\u001b[1;32m----> 1\u001b[1;33m \u001b[0mkill_all_now\u001b[0m\u001b[1;33m(\u001b[0m\u001b[0mprocesses\u001b[0m\u001b[1;33m)\u001b[0m\u001b[1;33m\u001b[0m\u001b[1;33m\u001b[0m\u001b[0m\n\u001b[0m",
      "\u001b[1;31mNameError\u001b[0m: name 'processes' is not defined"
     ]
    }
   ],
   "source": [
    "kill_all_now(processes)"
   ]
  },
  {
   "cell_type": "code",
   "execution_count": null,
   "metadata": {
    "collapsed": true
   },
   "outputs": [],
   "source": []
  }
 ],
 "metadata": {
  "anaconda-cloud": {},
  "kernelspec": {
   "display_name": "Python 3",
   "language": "python",
   "name": "python3"
  },
  "language_info": {
   "codemirror_mode": {
    "name": "ipython",
    "version": 3
   },
   "file_extension": ".py",
   "mimetype": "text/x-python",
   "name": "python",
   "nbconvert_exporter": "python",
   "pygments_lexer": "ipython3",
   "version": "3.8.3"
  }
 },
 "nbformat": 4,
 "nbformat_minor": 1
}
