{
 "cells": [
  {
   "cell_type": "markdown",
   "metadata": {},
   "source": [
    "# Instructions for getting set up with Python scripting for Source/GBR\n",
    "\n",
    "Broadly speaking, we want to do the following:\n",
    "\n",
    "* Install a Scientific Python distribution\n",
    "* Install some extra Python packages (particularly spatial stuff)\n",
    "* Install the Veneer plugin for Source that will allow us to drive the running application from Python\n",
    "* Install some Source and GBR specific Python modules\n",
    "\n",
    "## Steps\n",
    "\n",
    "1. Head over to https://www.continuum.io/downloads and download Anaconda Python - a Scientific Python distribution that is much easier to install than fetching stacks of separate python packages... **Make sure you download the Python 3 version - currently at Python 3.5**\n",
    "2. Install to the default location... You can keep going with steps 3-8 while the install happens...\n",
    "3. From DropBox (https://www.dropbox.com/sh/a3fe6c4j72ngm14/AABWk4JrQW-ZP9i4NiaWmvEpa?dl=0) and download the contents of the directory as a zip file. Unzip the directory somewhere easy to access.\n",
    "4. Run a Windows Command Prompt **As Administrator**. (Find Command Prompt in the start menu, right click on it and select Run As Administrator).\n",
    "5. In the administrator command prompt, navigate to the directory where you unzipped the dropbox package and run `setup_veneer.bat`. ie just type `setup_veneer.bat`\n",
    "6. Load Source and go to `Tools|Plugin Manager`. Select Browse to add a plugin and navigate to where you unzipped the zip and load `FlowMatters.Source.Veneer.dll` from the `VeneerPlugin` directory. You'll then be prompted to restart Source.\n",
    "7. After restarting, load a basic project (eg Beckers). Once loaded, in the menu, find and start `Tools|Plugins|FlowMatters.Source.Veneer|Web Server Monitory`. A window should pop up with text like the following:\n",
    "```\n",
    "[10:40:01 AM] Started Source RESTful Service on port:9876\n",
    "[10:40:01 AM] Veneer, by Flow Matters: http://www.flowmatters.com.au\n",
    "```\n",
    "8. If you get an error on step 7, the chances are Windows has blocked access to the plugin DLL for security reason. Navigate to the directory with the plugin in Windows Explorer. Sort by file type to get all the .DLL files together. Right click on each DLL file in turn, selecting Properties. Chances are, towards the bottom of the Properties window will be some text along the lines of 'Windows has blocked access to this DLL because its come from another computer'. There should be an Unblock button next to it - click it. Then click OK. You'll need to check this for all DLLs if you had any problems at step 7.\n",
    "9. Once you've got a project loaded in Source and the the Web Server Monitoring window open, tick the `Allow Scripts` box. (This allows a remote user - in this case us - to send custom code over to Source at runtime. This allows us to write detailed queries on Source and modify the running model. It's strictly speaking also a security risk, so we'll probably modify it later with a password)\n",
    "10. Back in python land, open `Anaconda Command Prompt` from the Windows start menu and navigate to the directory where you unzipped the zip file.\n",
    "11. Run `post_install.bat` which will install a bunch of spatial packages. If it works, it should finish with the text `Python Modules Seem Happy`.\n",
    "12. Now, assuming that's all worked, you can start the ipython notebook, from your current directory (ie where you just ran `post_install.bat`... Run `ipython notebook`, which will open your web browser, pointing at the notebook system.\n",
    "13. Open one of the examples - stored under GBR\\Examples. (They are mostly configured for Beckers). See if you can run them. Start by highlighting the first cell and pushing `Shift-Enter` (or using the menu `Cell|Run`)\n"
   ]
  },
  {
   "cell_type": "code",
   "execution_count": null,
   "metadata": {
    "collapsed": true
   },
   "outputs": [],
   "source": []
  },
  {
   "cell_type": "code",
   "execution_count": null,
   "metadata": {
    "collapsed": true
   },
   "outputs": [],
   "source": []
  }
 ],
 "metadata": {
  "kernelspec": {
   "display_name": "Python 3",
   "language": "python",
   "name": "python3"
  },
  "language_info": {
   "codemirror_mode": {
    "name": "ipython",
    "version": 3
   },
   "file_extension": ".py",
   "mimetype": "text/x-python",
   "name": "python",
   "nbconvert_exporter": "python",
   "pygments_lexer": "ipython3",
   "version": "3.4.4"
  }
 },
 "nbformat": 4,
 "nbformat_minor": 0
}
