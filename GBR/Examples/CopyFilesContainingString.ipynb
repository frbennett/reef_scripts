{
 "cells": [
  {
   "cell_type": "code",
   "execution_count": 1,
   "metadata": {},
   "outputs": [],
   "source": [
    "import glob\n",
    "import os\n",
    "import shutil\n",
    "#import fnmatch\n",
    "\n",
    "\n",
    "#searchpath = \"R:/ReefSugar_RC7/MW/AdjustedTSforDS/\"\n",
    "\n",
    "searchpath = r'E:\\ReefGrains_RC10\\BU\\ProvidedSims\\baseline'\n",
    "outpath = r'E:\\ReefGrains_RC10\\BU\\ProvidedSims\\baseline\\ErosionOnly'\n",
    "\n",
    "\n",
    "#outPath = \"D:/Baihua/AdjSedFiles/\"\n",
    "#searchString = \"Sediment - Fine\"\n",
    "searchString = \"Erosion_TPerHa\"\n",
    "\n",
    "searchStringList = ['SC #115', 'SC #123', 'SC #157', 'SC #16', 'SC #169', 'SC #17', 'SC #171', 'SC #175',\n",
    "                    'SC #176', 'SC #18', 'SC #25', 'SC #305', 'SC #31', 'SC #318', 'SC #320', 'SC #321',\n",
    "                    'SC #375', 'SC #376', 'SC #38', 'SC #41', 'SC #43', 'SC #451', 'SC #478', 'SC #48',\n",
    "                    'SC #489', 'SC #499', 'SC #502', 'SC #504', 'SC #505', 'SC #506', 'SC #507', 'SC #511',\n",
    "                    'SC #516', 'SC #528', 'SC #567', 'SC #584', 'SC #612', 'SC #641', 'SC #67']\n",
    "\n",
    "#extraBit = '$'\n",
    "extraBit = ' '"
   ]
  },
  {
   "cell_type": "code",
   "execution_count": 2,
   "metadata": {},
   "outputs": [
    {
     "name": "stdout",
     "output_type": "stream",
     "text": [
      "Done\n"
     ]
    }
   ],
   "source": [
    "searchpath = r'E:\\BurnettMaryRC11\\USLEFiles\\BantiChangeDataGroup'\n",
    "outpath = r'E:\\BurnettMaryRC11\\MgtChange\\FilteredUSLEFromBantiRSPROJ'\n",
    "\n",
    "\n",
    "for catchString in searchStringList:\n",
    "    theSearchString = catchString + extraBit\n",
    "    \n",
    "    for name in glob.glob(searchpath + '/*' + theSearchString + '*'):\n",
    "        shutil.copy(name, outpath)\n",
    "\n",
    "print(\"Done\")"
   ]
  },
  {
   "cell_type": "code",
   "execution_count": 2,
   "metadata": {},
   "outputs": [
    {
     "name": "stdout",
     "output_type": "stream",
     "text": [
      "Done\n"
     ]
    }
   ],
   "source": [
    "searchpath = r'E:\\BurnettMaryRC11\\MgtChange\\KLSC_out\\Cfact'\n",
    "outpath = r'E:\\BurnettMaryRC11\\MgtChange\\FilteredUSLE\\Cfact'\n",
    "\n",
    "\n",
    "for catchString in searchStringList:\n",
    "    theSearchString = catchString + extraBit\n",
    "    \n",
    "    for name in glob.glob(searchpath + '/*' + theSearchString + '*'):\n",
    "        shutil.copy(name, outpath)\n",
    "\n",
    "print(\"Done\")"
   ]
  },
  {
   "cell_type": "code",
   "execution_count": 3,
   "metadata": {},
   "outputs": [
    {
     "name": "stdout",
     "output_type": "stream",
     "text": [
      "Done\n"
     ]
    }
   ],
   "source": [
    "\n",
    "searchpath = r'E:\\BurnettMaryRC11\\MgtChange\\KLSC_out\\KLSC_Fines'\n",
    "outpath = r'E:\\BurnettMaryRC11\\MgtChange\\FilteredUSLE\\KLSC_Fines'\n",
    "\n",
    "for catchString in searchStringList:\n",
    "    theSearchString = catchString + extraBit\n",
    "    \n",
    "    for name in glob.glob(searchpath + '/*' + theSearchString + '*'):\n",
    "        shutil.copy(name, outpath)\n",
    "\n",
    "print(\"Done\")\n"
   ]
  },
  {
   "cell_type": "code",
   "execution_count": 4,
   "metadata": {},
   "outputs": [
    {
     "name": "stdout",
     "output_type": "stream",
     "text": [
      "Done\n"
     ]
    }
   ],
   "source": [
    "\n",
    "searchpath = r'E:\\BurnettMaryRC11\\MgtChange\\KLSC_out\\KLSC'\n",
    "outpath = r'E:\\BurnettMaryRC11\\MgtChange\\FilteredUSLE\\KLSC'\n",
    "\n",
    "for catchString in searchStringList:\n",
    "    theSearchString = catchString + extraBit\n",
    "    \n",
    "    for name in glob.glob(searchpath + '/*' + theSearchString + '*'):\n",
    "        shutil.copy(name, outpath)\n",
    "\n",
    "print(\"Done\")\n"
   ]
  },
  {
   "cell_type": "code",
   "execution_count": 4,
   "metadata": {},
   "outputs": [
    {
     "name": "stdout",
     "output_type": "stream",
     "text": [
      "Done\n"
     ]
    }
   ],
   "source": [
    "#file_list = fnmatch.filter(os.listdir(searchpath), '*' + searchString + '*')\n",
    "\n",
    "#for file in file_list :\n",
    "\n",
    "for name in glob.glob(searchpath + '/*' + searchString + '*'):\n",
    "    #print(name)\n",
    "    shutil.copy(name, outpath)\n",
    "\n",
    "print(\"Done\")"
   ]
  },
  {
   "cell_type": "code",
   "execution_count": 8,
   "metadata": {},
   "outputs": [
    {
     "name": "stdout",
     "output_type": "stream",
     "text": [
      "E:\\ReefGrains_RC10\\BU\\ProvidedSims\\baseline\\ErosionOnly\\SC #106$Irrigated Cropping$Erosion_TPerHa.csv\n",
      "E:\\ReefGrains_RC10\\BU\\ProvidedSims\\baseline\\ErosionOnly\\SC #11$Dryland Cropping$Erosion_TPerHa.csv\n",
      "E:\\ReefGrains_RC10\\BU\\ProvidedSims\\baseline\\ErosionOnly\\SC #11$Irrigated Cropping$Erosion_TPerHa.csv\n",
      "E:\\ReefGrains_RC10\\BU\\ProvidedSims\\baseline\\ErosionOnly\\SC #115$Irrigated Cropping$Erosion_TPerHa.csv\n",
      "E:\\ReefGrains_RC10\\BU\\ProvidedSims\\baseline\\ErosionOnly\\SC #117$Irrigated Cropping$Erosion_TPerHa.csv\n",
      "E:\\ReefGrains_RC10\\BU\\ProvidedSims\\baseline\\ErosionOnly\\SC #118$Dryland Cropping$Erosion_TPerHa.csv\n",
      "E:\\ReefGrains_RC10\\BU\\ProvidedSims\\baseline\\ErosionOnly\\SC #120$Dryland Cropping$Erosion_TPerHa.csv\n",
      "E:\\ReefGrains_RC10\\BU\\ProvidedSims\\baseline\\ErosionOnly\\SC #121$Dryland Cropping$Erosion_TPerHa.csv\n",
      "E:\\ReefGrains_RC10\\BU\\ProvidedSims\\baseline\\ErosionOnly\\SC #122$Dryland Cropping$Erosion_TPerHa.csv\n",
      "E:\\ReefGrains_RC10\\BU\\ProvidedSims\\baseline\\ErosionOnly\\SC #125$Dryland Cropping$Erosion_TPerHa.csv\n",
      "E:\\ReefGrains_RC10\\BU\\ProvidedSims\\baseline\\ErosionOnly\\SC #128$Dryland Cropping$Erosion_TPerHa.csv\n",
      "E:\\ReefGrains_RC10\\BU\\ProvidedSims\\baseline\\ErosionOnly\\SC #129$Irrigated Cropping$Erosion_TPerHa.csv\n",
      "E:\\ReefGrains_RC10\\BU\\ProvidedSims\\baseline\\ErosionOnly\\SC #135$Irrigated Cropping$Erosion_TPerHa.csv\n",
      "E:\\ReefGrains_RC10\\BU\\ProvidedSims\\baseline\\ErosionOnly\\SC #1359$Irrigated Cropping$Erosion_TPerHa.csv\n",
      "E:\\ReefGrains_RC10\\BU\\ProvidedSims\\baseline\\ErosionOnly\\SC #137$Dryland Cropping$Erosion_TPerHa.csv\n",
      "E:\\ReefGrains_RC10\\BU\\ProvidedSims\\baseline\\ErosionOnly\\SC #138$Irrigated Cropping$Erosion_TPerHa.csv\n",
      "E:\\ReefGrains_RC10\\BU\\ProvidedSims\\baseline\\ErosionOnly\\SC #139$Irrigated Cropping$Erosion_TPerHa.csv\n",
      "E:\\ReefGrains_RC10\\BU\\ProvidedSims\\baseline\\ErosionOnly\\SC #1448$Dryland Cropping$Erosion_TPerHa.csv\n",
      "E:\\ReefGrains_RC10\\BU\\ProvidedSims\\baseline\\ErosionOnly\\SC #1448$Irrigated Cropping$Erosion_TPerHa.csv\n",
      "E:\\ReefGrains_RC10\\BU\\ProvidedSims\\baseline\\ErosionOnly\\SC #1453$Dryland Cropping$Erosion_TPerHa.csv\n",
      "E:\\ReefGrains_RC10\\BU\\ProvidedSims\\baseline\\ErosionOnly\\SC #1558$Irrigated Cropping$Erosion_TPerHa.csv\n",
      "E:\\ReefGrains_RC10\\BU\\ProvidedSims\\baseline\\ErosionOnly\\SC #1561$Irrigated Cropping$Erosion_TPerHa.csv\n",
      "E:\\ReefGrains_RC10\\BU\\ProvidedSims\\baseline\\ErosionOnly\\SC #1562$Irrigated Cropping$Erosion_TPerHa.csv\n",
      "E:\\ReefGrains_RC10\\BU\\ProvidedSims\\baseline\\ErosionOnly\\SC #1564$Irrigated Cropping$Erosion_TPerHa.csv\n",
      "E:\\ReefGrains_RC10\\BU\\ProvidedSims\\baseline\\ErosionOnly\\SC #1569$Irrigated Cropping$Erosion_TPerHa.csv\n",
      "E:\\ReefGrains_RC10\\BU\\ProvidedSims\\baseline\\ErosionOnly\\SC #1610$Irrigated Cropping$Erosion_TPerHa.csv\n",
      "E:\\ReefGrains_RC10\\BU\\ProvidedSims\\baseline\\ErosionOnly\\SC #1611$Irrigated Cropping$Erosion_TPerHa.csv\n",
      "E:\\ReefGrains_RC10\\BU\\ProvidedSims\\baseline\\ErosionOnly\\SC #1643$Dryland Cropping$Erosion_TPerHa.csv\n",
      "E:\\ReefGrains_RC10\\BU\\ProvidedSims\\baseline\\ErosionOnly\\SC #1643$Irrigated Cropping$Erosion_TPerHa.csv\n",
      "E:\\ReefGrains_RC10\\BU\\ProvidedSims\\baseline\\ErosionOnly\\SC #1645$Dryland Cropping$Erosion_TPerHa.csv\n",
      "E:\\ReefGrains_RC10\\BU\\ProvidedSims\\baseline\\ErosionOnly\\SC #1654$Irrigated Cropping$Erosion_TPerHa.csv\n",
      "E:\\ReefGrains_RC10\\BU\\ProvidedSims\\baseline\\ErosionOnly\\SC #1656$Irrigated Cropping$Erosion_TPerHa.csv\n",
      "E:\\ReefGrains_RC10\\BU\\ProvidedSims\\baseline\\ErosionOnly\\SC #1659$Irrigated Cropping$Erosion_TPerHa.csv\n",
      "E:\\ReefGrains_RC10\\BU\\ProvidedSims\\baseline\\ErosionOnly\\SC #1662$Irrigated Cropping$Erosion_TPerHa.csv\n",
      "E:\\ReefGrains_RC10\\BU\\ProvidedSims\\baseline\\ErosionOnly\\SC #1665$Irrigated Cropping$Erosion_TPerHa.csv\n",
      "E:\\ReefGrains_RC10\\BU\\ProvidedSims\\baseline\\ErosionOnly\\SC #1667$Dryland Cropping$Erosion_TPerHa.csv\n",
      "E:\\ReefGrains_RC10\\BU\\ProvidedSims\\baseline\\ErosionOnly\\SC #1667$Irrigated Cropping$Erosion_TPerHa.csv\n",
      "E:\\ReefGrains_RC10\\BU\\ProvidedSims\\baseline\\ErosionOnly\\SC #1673$Irrigated Cropping$Erosion_TPerHa.csv\n",
      "E:\\ReefGrains_RC10\\BU\\ProvidedSims\\baseline\\ErosionOnly\\SC #17$Dryland Cropping$Erosion_TPerHa.csv\n",
      "E:\\ReefGrains_RC10\\BU\\ProvidedSims\\baseline\\ErosionOnly\\SC #2$Dryland Cropping$Erosion_TPerHa.csv\n",
      "E:\\ReefGrains_RC10\\BU\\ProvidedSims\\baseline\\ErosionOnly\\SC #21$Irrigated Cropping$Erosion_TPerHa.csv\n",
      "E:\\ReefGrains_RC10\\BU\\ProvidedSims\\baseline\\ErosionOnly\\SC #22$Dryland Cropping$Erosion_TPerHa.csv\n",
      "E:\\ReefGrains_RC10\\BU\\ProvidedSims\\baseline\\ErosionOnly\\SC #22$Irrigated Cropping$Erosion_TPerHa.csv\n",
      "E:\\ReefGrains_RC10\\BU\\ProvidedSims\\baseline\\ErosionOnly\\SC #226$Irrigated Cropping$Erosion_TPerHa.csv\n",
      "E:\\ReefGrains_RC10\\BU\\ProvidedSims\\baseline\\ErosionOnly\\SC #227$Irrigated Cropping$Erosion_TPerHa.csv\n",
      "E:\\ReefGrains_RC10\\BU\\ProvidedSims\\baseline\\ErosionOnly\\SC #23$Dryland Cropping$Erosion_TPerHa.csv\n",
      "E:\\ReefGrains_RC10\\BU\\ProvidedSims\\baseline\\ErosionOnly\\SC #23$Irrigated Cropping$Erosion_TPerHa.csv\n",
      "E:\\ReefGrains_RC10\\BU\\ProvidedSims\\baseline\\ErosionOnly\\SC #257$Irrigated Cropping$Erosion_TPerHa.csv\n",
      "E:\\ReefGrains_RC10\\BU\\ProvidedSims\\baseline\\ErosionOnly\\SC #258$Irrigated Cropping$Erosion_TPerHa.csv\n",
      "E:\\ReefGrains_RC10\\BU\\ProvidedSims\\baseline\\ErosionOnly\\SC #266$Dryland Cropping$Erosion_TPerHa.csv\n",
      "E:\\ReefGrains_RC10\\BU\\ProvidedSims\\baseline\\ErosionOnly\\SC #267$Irrigated Cropping$Erosion_TPerHa.csv\n",
      "E:\\ReefGrains_RC10\\BU\\ProvidedSims\\baseline\\ErosionOnly\\SC #27$Irrigated Cropping$Erosion_TPerHa.csv\n",
      "E:\\ReefGrains_RC10\\BU\\ProvidedSims\\baseline\\ErosionOnly\\SC #273$Irrigated Cropping$Erosion_TPerHa.csv\n",
      "E:\\ReefGrains_RC10\\BU\\ProvidedSims\\baseline\\ErosionOnly\\SC #283$Irrigated Cropping$Erosion_TPerHa.csv\n",
      "E:\\ReefGrains_RC10\\BU\\ProvidedSims\\baseline\\ErosionOnly\\SC #284$Irrigated Cropping$Erosion_TPerHa.csv\n",
      "E:\\ReefGrains_RC10\\BU\\ProvidedSims\\baseline\\ErosionOnly\\SC #288$Irrigated Cropping$Erosion_TPerHa.csv\n",
      "E:\\ReefGrains_RC10\\BU\\ProvidedSims\\baseline\\ErosionOnly\\SC #29$Irrigated Cropping$Erosion_TPerHa.csv\n",
      "E:\\ReefGrains_RC10\\BU\\ProvidedSims\\baseline\\ErosionOnly\\SC #291$Irrigated Cropping$Erosion_TPerHa.csv\n",
      "E:\\ReefGrains_RC10\\BU\\ProvidedSims\\baseline\\ErosionOnly\\SC #299$Irrigated Cropping$Erosion_TPerHa.csv\n",
      "E:\\ReefGrains_RC10\\BU\\ProvidedSims\\baseline\\ErosionOnly\\SC #3$Irrigated Cropping$Erosion_TPerHa.csv\n",
      "E:\\ReefGrains_RC10\\BU\\ProvidedSims\\baseline\\ErosionOnly\\SC #301$Dryland Cropping$Erosion_TPerHa.csv\n",
      "E:\\ReefGrains_RC10\\BU\\ProvidedSims\\baseline\\ErosionOnly\\SC #310$Irrigated Cropping$Erosion_TPerHa.csv\n",
      "E:\\ReefGrains_RC10\\BU\\ProvidedSims\\baseline\\ErosionOnly\\SC #311$Irrigated Cropping$Erosion_TPerHa.csv\n",
      "E:\\ReefGrains_RC10\\BU\\ProvidedSims\\baseline\\ErosionOnly\\SC #335$Dryland Cropping$Erosion_TPerHa.csv\n",
      "E:\\ReefGrains_RC10\\BU\\ProvidedSims\\baseline\\ErosionOnly\\SC #363$Dryland Cropping$Erosion_TPerHa.csv\n",
      "E:\\ReefGrains_RC10\\BU\\ProvidedSims\\baseline\\ErosionOnly\\SC #377$Dryland Cropping$Erosion_TPerHa.csv\n",
      "E:\\ReefGrains_RC10\\BU\\ProvidedSims\\baseline\\ErosionOnly\\SC #377$Irrigated Cropping$Erosion_TPerHa.csv\n",
      "E:\\ReefGrains_RC10\\BU\\ProvidedSims\\baseline\\ErosionOnly\\SC #378$Dryland Cropping$Erosion_TPerHa.csv\n",
      "E:\\ReefGrains_RC10\\BU\\ProvidedSims\\baseline\\ErosionOnly\\SC #378$Irrigated Cropping$Erosion_TPerHa.csv\n",
      "E:\\ReefGrains_RC10\\BU\\ProvidedSims\\baseline\\ErosionOnly\\SC #404$Dryland Cropping$Erosion_TPerHa.csv\n",
      "E:\\ReefGrains_RC10\\BU\\ProvidedSims\\baseline\\ErosionOnly\\SC #44$Irrigated Cropping$Erosion_TPerHa.csv\n",
      "E:\\ReefGrains_RC10\\BU\\ProvidedSims\\baseline\\ErosionOnly\\SC #45$Irrigated Cropping$Erosion_TPerHa.csv\n",
      "E:\\ReefGrains_RC10\\BU\\ProvidedSims\\baseline\\ErosionOnly\\SC #46$Irrigated Cropping$Erosion_TPerHa.csv\n",
      "E:\\ReefGrains_RC10\\BU\\ProvidedSims\\baseline\\ErosionOnly\\SC #47$Dryland Cropping$Erosion_TPerHa.csv\n",
      "E:\\ReefGrains_RC10\\BU\\ProvidedSims\\baseline\\ErosionOnly\\SC #47$Irrigated Cropping$Erosion_TPerHa.csv\n",
      "E:\\ReefGrains_RC10\\BU\\ProvidedSims\\baseline\\ErosionOnly\\SC #49$Irrigated Cropping$Erosion_TPerHa.csv\n",
      "E:\\ReefGrains_RC10\\BU\\ProvidedSims\\baseline\\ErosionOnly\\SC #50$Dryland Cropping$Erosion_TPerHa.csv\n",
      "E:\\ReefGrains_RC10\\BU\\ProvidedSims\\baseline\\ErosionOnly\\SC #50$Irrigated Cropping$Erosion_TPerHa.csv\n",
      "E:\\ReefGrains_RC10\\BU\\ProvidedSims\\baseline\\ErosionOnly\\SC #522$Irrigated Cropping$Erosion_TPerHa.csv\n",
      "E:\\ReefGrains_RC10\\BU\\ProvidedSims\\baseline\\ErosionOnly\\SC #53$Irrigated Cropping$Erosion_TPerHa.csv\n",
      "E:\\ReefGrains_RC10\\BU\\ProvidedSims\\baseline\\ErosionOnly\\SC #567$Dryland Cropping$Erosion_TPerHa.csv\n",
      "E:\\ReefGrains_RC10\\BU\\ProvidedSims\\baseline\\ErosionOnly\\SC #577$Irrigated Cropping$Erosion_TPerHa.csv\n",
      "E:\\ReefGrains_RC10\\BU\\ProvidedSims\\baseline\\ErosionOnly\\SC #599$Irrigated Cropping$Erosion_TPerHa.csv\n",
      "E:\\ReefGrains_RC10\\BU\\ProvidedSims\\baseline\\ErosionOnly\\SC #6$Irrigated Cropping$Erosion_TPerHa.csv\n",
      "E:\\ReefGrains_RC10\\BU\\ProvidedSims\\baseline\\ErosionOnly\\SC #606$Dryland Cropping$Erosion_TPerHa.csv\n",
      "E:\\ReefGrains_RC10\\BU\\ProvidedSims\\baseline\\ErosionOnly\\SC #610$Irrigated Cropping$Erosion_TPerHa.csv\n",
      "E:\\ReefGrains_RC10\\BU\\ProvidedSims\\baseline\\ErosionOnly\\SC #615$Irrigated Cropping$Erosion_TPerHa.csv\n",
      "E:\\ReefGrains_RC10\\BU\\ProvidedSims\\baseline\\ErosionOnly\\SC #64$Irrigated Cropping$Erosion_TPerHa.csv\n",
      "E:\\ReefGrains_RC10\\BU\\ProvidedSims\\baseline\\ErosionOnly\\SC #65$Irrigated Cropping$Erosion_TPerHa.csv\n",
      "E:\\ReefGrains_RC10\\BU\\ProvidedSims\\baseline\\ErosionOnly\\SC #655$Irrigated Cropping$Erosion_TPerHa.csv\n",
      "E:\\ReefGrains_RC10\\BU\\ProvidedSims\\baseline\\ErosionOnly\\SC #668$Dryland Cropping$Erosion_TPerHa.csv\n",
      "E:\\ReefGrains_RC10\\BU\\ProvidedSims\\baseline\\ErosionOnly\\SC #70$Irrigated Cropping$Erosion_TPerHa.csv\n",
      "E:\\ReefGrains_RC10\\BU\\ProvidedSims\\baseline\\ErosionOnly\\SC #74$Irrigated Cropping$Erosion_TPerHa.csv\n",
      "E:\\ReefGrains_RC10\\BU\\ProvidedSims\\baseline\\ErosionOnly\\SC #76$Irrigated Cropping$Erosion_TPerHa.csv\n",
      "E:\\ReefGrains_RC10\\BU\\ProvidedSims\\baseline\\ErosionOnly\\SC #789$Irrigated Cropping$Erosion_TPerHa.csv\n",
      "E:\\ReefGrains_RC10\\BU\\ProvidedSims\\baseline\\ErosionOnly\\SC #791$Irrigated Cropping$Erosion_TPerHa.csv\n",
      "E:\\ReefGrains_RC10\\BU\\ProvidedSims\\baseline\\ErosionOnly\\SC #793$Irrigated Cropping$Erosion_TPerHa.csv\n",
      "E:\\ReefGrains_RC10\\BU\\ProvidedSims\\baseline\\ErosionOnly\\SC #854$Dryland Cropping$Erosion_TPerHa.csv\n",
      "E:\\ReefGrains_RC10\\BU\\ProvidedSims\\baseline\\ErosionOnly\\SC #875$Dryland Cropping$Erosion_TPerHa.csv\n",
      "E:\\ReefGrains_RC10\\BU\\ProvidedSims\\baseline\\ErosionOnly\\SC #878$Dryland Cropping$Erosion_TPerHa.csv\n",
      "E:\\ReefGrains_RC10\\BU\\ProvidedSims\\baseline\\ErosionOnly\\SC #879$Dryland Cropping$Erosion_TPerHa.csv\n",
      "E:\\ReefGrains_RC10\\BU\\ProvidedSims\\baseline\\ErosionOnly\\SC #879$Irrigated Cropping$Erosion_TPerHa.csv\n",
      "E:\\ReefGrains_RC10\\BU\\ProvidedSims\\baseline\\ErosionOnly\\SC #880$Dryland Cropping$Erosion_TPerHa.csv\n",
      "E:\\ReefGrains_RC10\\BU\\ProvidedSims\\baseline\\ErosionOnly\\SC #880$Irrigated Cropping$Erosion_TPerHa.csv\n",
      "E:\\ReefGrains_RC10\\BU\\ProvidedSims\\baseline\\ErosionOnly\\SC #881$Dryland Cropping$Erosion_TPerHa.csv\n",
      "E:\\ReefGrains_RC10\\BU\\ProvidedSims\\baseline\\ErosionOnly\\SC #882$Dryland Cropping$Erosion_TPerHa.csv\n",
      "E:\\ReefGrains_RC10\\BU\\ProvidedSims\\baseline\\ErosionOnly\\SC #883$Dryland Cropping$Erosion_TPerHa.csv\n",
      "E:\\ReefGrains_RC10\\BU\\ProvidedSims\\baseline\\ErosionOnly\\SC #884$Dryland Cropping$Erosion_TPerHa.csv\n",
      "E:\\ReefGrains_RC10\\BU\\ProvidedSims\\baseline\\ErosionOnly\\SC #885$Dryland Cropping$Erosion_TPerHa.csv\n",
      "E:\\ReefGrains_RC10\\BU\\ProvidedSims\\baseline\\ErosionOnly\\SC #885$Irrigated Cropping$Erosion_TPerHa.csv\n",
      "E:\\ReefGrains_RC10\\BU\\ProvidedSims\\baseline\\ErosionOnly\\SC #886$Dryland Cropping$Erosion_TPerHa.csv\n",
      "E:\\ReefGrains_RC10\\BU\\ProvidedSims\\baseline\\ErosionOnly\\SC #887$Dryland Cropping$Erosion_TPerHa.csv\n",
      "E:\\ReefGrains_RC10\\BU\\ProvidedSims\\baseline\\ErosionOnly\\SC #888$Dryland Cropping$Erosion_TPerHa.csv\n",
      "E:\\ReefGrains_RC10\\BU\\ProvidedSims\\baseline\\ErosionOnly\\SC #889$Dryland Cropping$Erosion_TPerHa.csv\n",
      "E:\\ReefGrains_RC10\\BU\\ProvidedSims\\baseline\\ErosionOnly\\SC #890$Dryland Cropping$Erosion_TPerHa.csv\n",
      "E:\\ReefGrains_RC10\\BU\\ProvidedSims\\baseline\\ErosionOnly\\SC #891$Dryland Cropping$Erosion_TPerHa.csv\n",
      "E:\\ReefGrains_RC10\\BU\\ProvidedSims\\baseline\\ErosionOnly\\SC #893$Dryland Cropping$Erosion_TPerHa.csv\n",
      "E:\\ReefGrains_RC10\\BU\\ProvidedSims\\baseline\\ErosionOnly\\SC #894$Dryland Cropping$Erosion_TPerHa.csv\n",
      "E:\\ReefGrains_RC10\\BU\\ProvidedSims\\baseline\\ErosionOnly\\SC #895$Dryland Cropping$Erosion_TPerHa.csv\n",
      "E:\\ReefGrains_RC10\\BU\\ProvidedSims\\baseline\\ErosionOnly\\SC #896$Dryland Cropping$Erosion_TPerHa.csv\n",
      "E:\\ReefGrains_RC10\\BU\\ProvidedSims\\baseline\\ErosionOnly\\SC #897$Dryland Cropping$Erosion_TPerHa.csv\n",
      "E:\\ReefGrains_RC10\\BU\\ProvidedSims\\baseline\\ErosionOnly\\SC #898$Dryland Cropping$Erosion_TPerHa.csv\n",
      "E:\\ReefGrains_RC10\\BU\\ProvidedSims\\baseline\\ErosionOnly\\SC #899$Dryland Cropping$Erosion_TPerHa.csv\n",
      "E:\\ReefGrains_RC10\\BU\\ProvidedSims\\baseline\\ErosionOnly\\SC #9$Dryland Cropping$Erosion_TPerHa.csv\n",
      "E:\\ReefGrains_RC10\\BU\\ProvidedSims\\baseline\\ErosionOnly\\SC #900$Dryland Cropping$Erosion_TPerHa.csv\n",
      "E:\\ReefGrains_RC10\\BU\\ProvidedSims\\baseline\\ErosionOnly\\SC #901$Dryland Cropping$Erosion_TPerHa.csv\n",
      "E:\\ReefGrains_RC10\\BU\\ProvidedSims\\baseline\\ErosionOnly\\SC #902$Dryland Cropping$Erosion_TPerHa.csv\n",
      "E:\\ReefGrains_RC10\\BU\\ProvidedSims\\baseline\\ErosionOnly\\SC #903$Dryland Cropping$Erosion_TPerHa.csv\n",
      "E:\\ReefGrains_RC10\\BU\\ProvidedSims\\baseline\\ErosionOnly\\SC #904$Dryland Cropping$Erosion_TPerHa.csv\n",
      "E:\\ReefGrains_RC10\\BU\\ProvidedSims\\baseline\\ErosionOnly\\SC #905$Dryland Cropping$Erosion_TPerHa.csv\n",
      "E:\\ReefGrains_RC10\\BU\\ProvidedSims\\baseline\\ErosionOnly\\SC #906$Dryland Cropping$Erosion_TPerHa.csv\n",
      "E:\\ReefGrains_RC10\\BU\\ProvidedSims\\baseline\\ErosionOnly\\SC #907$Dryland Cropping$Erosion_TPerHa.csv\n",
      "E:\\ReefGrains_RC10\\BU\\ProvidedSims\\baseline\\ErosionOnly\\SC #908$Dryland Cropping$Erosion_TPerHa.csv\n",
      "E:\\ReefGrains_RC10\\BU\\ProvidedSims\\baseline\\ErosionOnly\\SC #909$Dryland Cropping$Erosion_TPerHa.csv\n",
      "E:\\ReefGrains_RC10\\BU\\ProvidedSims\\baseline\\ErosionOnly\\SC #910$Dryland Cropping$Erosion_TPerHa.csv\n",
      "E:\\ReefGrains_RC10\\BU\\ProvidedSims\\baseline\\ErosionOnly\\SC #911$Irrigated Cropping$Erosion_TPerHa.csv\n",
      "E:\\ReefGrains_RC10\\BU\\ProvidedSims\\baseline\\ErosionOnly\\SC #914$Dryland Cropping$Erosion_TPerHa.csv\n",
      "E:\\ReefGrains_RC10\\BU\\ProvidedSims\\baseline\\ErosionOnly\\SC #914$Irrigated Cropping$Erosion_TPerHa.csv\n",
      "E:\\ReefGrains_RC10\\BU\\ProvidedSims\\baseline\\ErosionOnly\\SC #91677$Irrigated Cropping$Erosion_TPerHa.csv\n",
      "E:\\ReefGrains_RC10\\BU\\ProvidedSims\\baseline\\ErosionOnly\\SC #91685$Irrigated Cropping$Erosion_TPerHa.csv\n",
      "E:\\ReefGrains_RC10\\BU\\ProvidedSims\\baseline\\ErosionOnly\\SC #91686$Irrigated Cropping$Erosion_TPerHa.csv\n",
      "E:\\ReefGrains_RC10\\BU\\ProvidedSims\\baseline\\ErosionOnly\\SC #91692$Dryland Cropping$Erosion_TPerHa.csv\n",
      "E:\\ReefGrains_RC10\\BU\\ProvidedSims\\baseline\\ErosionOnly\\SC #91702$Irrigated Cropping$Erosion_TPerHa.csv\n",
      "E:\\ReefGrains_RC10\\BU\\ProvidedSims\\baseline\\ErosionOnly\\SC #91709$Dryland Cropping$Erosion_TPerHa.csv\n",
      "E:\\ReefGrains_RC10\\BU\\ProvidedSims\\baseline\\ErosionOnly\\SC #91710$Irrigated Cropping$Erosion_TPerHa.csv\n",
      "E:\\ReefGrains_RC10\\BU\\ProvidedSims\\baseline\\ErosionOnly\\SC #932$Irrigated Cropping$Erosion_TPerHa.csv\n",
      "E:\\ReefGrains_RC10\\BU\\ProvidedSims\\baseline\\ErosionOnly\\SC #939$Irrigated Cropping$Erosion_TPerHa.csv\n",
      "E:\\ReefGrains_RC10\\BU\\ProvidedSims\\baseline\\ErosionOnly\\SC #941$Irrigated Cropping$Erosion_TPerHa.csv\n",
      "E:\\ReefGrains_RC10\\BU\\ProvidedSims\\baseline\\ErosionOnly\\SC #947$Dryland Cropping$Erosion_TPerHa.csv\n",
      "E:\\ReefGrains_RC10\\BU\\ProvidedSims\\baseline\\ErosionOnly\\SC #948$Dryland Cropping$Erosion_TPerHa.csv\n",
      "E:\\ReefGrains_RC10\\BU\\ProvidedSims\\baseline\\ErosionOnly\\SC #951$Dryland Cropping$Erosion_TPerHa.csv\n",
      "E:\\ReefGrains_RC10\\BU\\ProvidedSims\\baseline\\ErosionOnly\\SC #953$Dryland Cropping$Erosion_TPerHa.csv\n",
      "E:\\ReefGrains_RC10\\BU\\ProvidedSims\\baseline\\ErosionOnly\\SC #954$Dryland Cropping$Erosion_TPerHa.csv\n",
      "E:\\ReefGrains_RC10\\BU\\ProvidedSims\\baseline\\ErosionOnly\\SC #97$Dryland Cropping$Erosion_TPerHa.csv\n"
     ]
    }
   ],
   "source": [
    "#path = 'c:\\\\projects\\\\hc2\\\\'\n",
    "\n",
    "files = []\n",
    "# r=root, d=directories, f = files\n",
    "for r, d, f in os.walk(outpath):\n",
    "    for file in f:\n",
    "        #if '.txt' in file:\n",
    "        files.append(os.path.join(r, file))\n",
    "\n",
    "for f in files:\n",
    "    print(f)"
   ]
  },
  {
   "cell_type": "code",
   "execution_count": null,
   "metadata": {},
   "outputs": [],
   "source": []
  }
 ],
 "metadata": {
  "anaconda-cloud": {},
  "kernelspec": {
   "display_name": "Python 3 (ipykernel)",
   "language": "python",
   "name": "python3"
  },
  "language_info": {
   "codemirror_mode": {
    "name": "ipython",
    "version": 3
   },
   "file_extension": ".py",
   "mimetype": "text/x-python",
   "name": "python",
   "nbconvert_exporter": "python",
   "pygments_lexer": "ipython3",
   "version": "3.7.3"
  }
 },
 "nbformat": 4,
 "nbformat_minor": 1
}
