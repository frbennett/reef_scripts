{
 "cells": [
  {
   "cell_type": "code",
   "execution_count": 4,
   "metadata": {
    "collapsed": true
   },
   "outputs": [],
   "source": [
    "import glob\n",
    "import os\n",
    "import shutil\n",
    "#import fnmatch\n",
    "\n",
    "\n",
    "searchpath = \"R:/ReefSugar_RC7/MW/AdjustedTSforDS/\"\n",
    "outpath = \"D:/Baihua/AdjSedFiles/\"\n",
    "searchString = \"Sediment - Fine\""
   ]
  },
  {
   "cell_type": "code",
   "execution_count": 6,
   "metadata": {
    "collapsed": false
   },
   "outputs": [
    {
     "name": "stdout",
     "output_type": "stream",
     "text": [
      "Done\n"
     ]
    }
   ],
   "source": [
    "#file_list = fnmatch.filter(os.listdir(searchpath), '*' + searchString + '*')\n",
    "\n",
    "#for file in file_list :\n",
    "\n",
    "for name in glob.glob(searchpath + '/*' + searchString + '*'):\n",
    "    #print(name)\n",
    "    shutil.copy(name, outpath)\n",
    "\n",
    "print(\"Done\")"
   ]
  },
  {
   "cell_type": "code",
   "execution_count": null,
   "metadata": {
    "collapsed": true
   },
   "outputs": [],
   "source": []
  }
 ],
 "metadata": {
  "anaconda-cloud": {},
  "kernelspec": {
   "display_name": "Python [default]",
   "language": "python",
   "name": "python3"
  },
  "language_info": {
   "codemirror_mode": {
    "name": "ipython",
    "version": 3
   },
   "file_extension": ".py",
   "mimetype": "text/x-python",
   "name": "python",
   "nbconvert_exporter": "python",
   "pygments_lexer": "ipython3",
   "version": "3.5.2"
  }
 },
 "nbformat": 4,
 "nbformat_minor": 1
}
