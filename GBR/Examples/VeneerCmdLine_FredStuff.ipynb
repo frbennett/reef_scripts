{
 "cells": [
  {
   "cell_type": "markdown",
   "metadata": {},
   "source": [
    "## Just mucking around with veneer\n",
    "\n",
    "First of all set up veneer"
   ]
  },
  {
   "cell_type": "code",
   "execution_count": 1,
   "metadata": {
    "collapsed": false
   },
   "outputs": [],
   "source": [
    "from veneer.manage import start, create_command_line, kill_all_now\n",
    "import veneer"
   ]
  },
  {
   "cell_type": "code",
   "execution_count": 3,
   "metadata": {
    "collapsed": false
   },
   "outputs": [
    {
     "data": {
      "text/plain": [
       "WindowsPath('C:/tempveneer/veneer_cmd/FlowMatters.Source.VeneerCmd.exe')"
      ]
     },
     "execution_count": 3,
     "metadata": {},
     "output_type": "execute_result"
    }
   ],
   "source": [
    "veneer_install = 'D:/PythonScriptingForGBR/VeneerPlugin/v411'\n",
    "#source_version = '4.1.1'\n",
    "#By specifying source_path I can use my local Source compilation/code, using source_version above uses tyhe sinatlled version\n",
    "source_pathstr = 'D:/SourceSource/Output'\n",
    "cmd_directory = 'C:/tempveneer/veneer_cmd'\n",
    "#dest = 'C:\\\\tempveneer\\\\veneer_cmd'\n",
    "#path = create_command_line(veneer_install,source_version,dest=cmd_directory)\n",
    "path = create_command_line(veneer_install,source_version=None,source_path=source_pathstr,dest=cmd_directory)\n",
    "path"
   ]
  },
  {
   "cell_type": "markdown",
   "metadata": {},
   "source": [
    "I'm just going to start one copy of the hydro model by defining the veneer location, the model and the server port"
   ]
  },
  {
   "cell_type": "code",
   "execution_count": 4,
   "metadata": {
    "collapsed": true
   },
   "outputs": [],
   "source": [
    "#path = 'C:\\\\Users\\\\bennettf\\\\Desktop\\\\vcmd\\\\FlowMatters.Source.VeneerCmd.exe'\n",
    "    \n",
    "catchment_project='D:\\\\Beckers\\\\Beckers_GBR_411_Seasonal.rsproj'\n",
    "#catchment_project='C:/Users/bennettf/OneDrive/python_stuff/Jupyter_Notebooks/veneer/doc/training/ExampleProject/CalibrationExample.rsproj'\n",
    "num_copies=1    # Important - set this to be a number ~ the number of CPU cores in your system!\n",
    "first_port=9950"
   ]
  },
  {
   "cell_type": "code",
   "execution_count": 5,
   "metadata": {
    "collapsed": false
   },
   "outputs": [
    {
     "name": "stdout",
     "output_type": "stream",
     "text": [
      "Starting C:\\tempveneer\\veneer_cmd\\FlowMatters.Source.VeneerCmd.exe -p 9950 -s  D:\\Beckers\\Beckers_GBR_411_Seasonal.rsproj\n",
      "[0] Loading plugins\n",
      "\n",
      "[0] Loaded C:\\Program Files\\eWater\\Source 4.1.1.4513\\Plugins\\DERMTools.dll\n",
      "\n",
      "[0] Loaded C:\\Program Files\\eWater\\Source 4.1.1.4513\\Plugins\\Dynamic_SedNet.dll\n",
      "\n",
      "[0] Loaded C:\\Program Files\\eWater\\Source 4.1.1.4513\\Plugins\\GBR_DynSed_Extension.dll\n",
      "\n",
      "[0] Loaded D:\\PythonScriptingForGBR\\VeneerPlugin\\v411\\FlowMatters.Source.Veneer.dll\n",
      "\n",
      "[0] Plugins loaded (4/4)\n",
      "\n",
      "[0] Opening project file: D:\\Beckers\\Beckers_GBR_411_Seasonal.rsproj\n",
      "\n",
      "ERROR[0] log4net:ERROR Failed to find configuration section 'log4net' in the application's .config file. Check your .config file for the <log4net> and <configSections> elements. The configuration section should look like: <section name=\"log4net\" type=\"log4net.Config.Log4NetConfigurationSectionHandler,log4net\" />\n",
      "\n",
      "[0] Loading project\n",
      "\n",
      "[0] Project Loaded\n",
      "\n",
      "[0] New Project\n",
      "\n",
      "[0] Scenario 1\n",
      "\n",
      "[0] [2:38:08 PM] Veneer, by Flow Matters: http://www.flowmatters.com.au\n",
      "\n",
      "[0] [2:38:08 PM] Started Source RESTful Service on port:9950\n",
      "\n",
      "Server 0 on port 9950 is ready\n",
      "[0] Server started. Ctrl-C to exit, or POST /shutdown command\n",
      "\n"
     ]
    }
   ],
   "source": [
    "#Now, ope the project\n",
    "processes,ports = start(catchment_project,\n",
    "                        n_instances=num_copies,\n",
    "                        ports=first_port,\n",
    "                        debug=True,\n",
    "                        veneer_exe=path,\n",
    "                        remote=False )"
   ]
  },
  {
   "cell_type": "markdown",
   "metadata": {},
   "source": [
    "Assign the veneer client"
   ]
  },
  {
   "cell_type": "code",
   "execution_count": 6,
   "metadata": {
    "collapsed": true
   },
   "outputs": [],
   "source": [
    "vs = [veneer.Veneer(port=p) for p in ports]\n",
    "v = vs[0]"
   ]
  },
  {
   "cell_type": "markdown",
   "metadata": {},
   "source": [
    "Have a look to see what models are associated with the model"
   ]
  },
  {
   "cell_type": "code",
   "execution_count": 7,
   "metadata": {
    "collapsed": false,
    "scrolled": true
   },
   "outputs": [],
   "source": [
    "#v.model.find_model_type('')"
   ]
  },
  {
   "cell_type": "markdown",
   "metadata": {},
   "source": [
    "There are many, but we are interested in the Sacramento model **TIME.Models.RainfallRunoff.Sacramento.Sacramento**. Let's find out what parameters belog to this model \n"
   ]
  },
  {
   "cell_type": "code",
   "execution_count": 8,
   "metadata": {
    "collapsed": false
   },
   "outputs": [],
   "source": [
    "#params = v.model.find_parameters('TIME.Models.RainfallRunoff.Sacramento.Sacramento')\n",
    "#params"
   ]
  },
  {
   "cell_type": "markdown",
   "metadata": {},
   "source": [
    "Cool, let's now have a look at the catchments defined in the network"
   ]
  },
  {
   "cell_type": "code",
   "execution_count": 9,
   "metadata": {
    "collapsed": false
   },
   "outputs": [
    {
     "data": {
      "text/plain": [
       "['SC #3', 'SC #2', 'SC #5', 'SC #4', 'SC #1']"
      ]
     },
     "execution_count": 9,
     "metadata": {},
     "output_type": "execute_result"
    }
   ],
   "source": [
    "v.model.catchment.names()"
   ]
  },
  {
   "cell_type": "markdown",
   "metadata": {},
   "source": [
    "Now list the FUs"
   ]
  },
  {
   "cell_type": "code",
   "execution_count": 10,
   "metadata": {
    "collapsed": false,
    "scrolled": true
   },
   "outputs": [],
   "source": [
    "#v.model.catchment.get_functional_unit_types()"
   ]
  },
  {
   "cell_type": "markdown",
   "metadata": {},
   "source": [
    "I want to find the value for a Sac parameter for a particular FU/catchment combination"
   ]
  },
  {
   "cell_type": "code",
   "execution_count": 11,
   "metadata": {
    "collapsed": false
   },
   "outputs": [],
   "source": [
    "#v.model.catchment.runoff.get_param_values('Adimp',fus=['Grazing'], catchments = ['SC #3'])"
   ]
  },
  {
   "cell_type": "markdown",
   "metadata": {},
   "source": [
    "Let's set a new value for that parameter"
   ]
  },
  {
   "cell_type": "code",
   "execution_count": 12,
   "metadata": {
    "collapsed": false
   },
   "outputs": [],
   "source": [
    "#v.model.catchment.runoff.set_param_values('Adimp', 0.05 ,fus=['Water'], catchments = 'SC #158')"
   ]
  },
  {
   "cell_type": "markdown",
   "metadata": {},
   "source": [
    "Thats done, now we will run the model but we will set up some recorders before that."
   ]
  },
  {
   "cell_type": "code",
   "execution_count": 13,
   "metadata": {
    "collapsed": true
   },
   "outputs": [],
   "source": [
    "#v.configure_recording(disable=[{}],enable=[{'RecordingVariable':'Downstream Flow Volume'}])\n",
    "v.configure_recording(disable=[{}],enable=[{'RecordingVariable':'Downstream Flow Volume'}])\n",
    "v.configure_recording(enable=[{'RecordingElement':'Constituents','RecordingVariable':'Constituents@Sediment - Fine@Downstream Flow Mass'}])\n",
    "\n",
    "#v.configure_recording(disable=[{}],enable=[{'RecordingVariable':'Downstream Flow Volume'},{'RecordingElement':'Constituents','RecordingVariable':'Constituents@Sediment - Fine@Downstream Flow Mass'}])"
   ]
  },
  {
   "cell_type": "code",
   "execution_count": 14,
   "metadata": {
    "collapsed": true
   },
   "outputs": [],
   "source": [
    "#v.configure_recording(disable=[{}],enable=[{'RecordingElement':'Constituents','RecordingVariable':'Constituents@Sediment - Fine@Downstream Flow Mass'}])"
   ]
  },
  {
   "cell_type": "code",
   "execution_count": 15,
   "metadata": {
    "collapsed": false
   },
   "outputs": [
    {
     "data": {
      "text/plain": [
       "(302, 'runs/1')"
      ]
     },
     "execution_count": 15,
     "metadata": {},
     "output_type": "execute_result"
    }
   ],
   "source": [
    "# Bombs away\n",
    "v.run_model(params={'NoHardCopyResults':False})"
   ]
  },
  {
   "cell_type": "markdown",
   "metadata": {},
   "source": [
    "Job done, now get some data from the model"
   ]
  },
  {
   "cell_type": "code",
   "execution_count": 17,
   "metadata": {
    "collapsed": false,
    "scrolled": true
   },
   "outputs": [
    {
     "name": "stdout",
     "output_type": "stream",
     "text": [
      "            link for catchment SC #1:Fine@Downstream Flow Mass\n",
      "2000-01-01                                       0.000000e+00 \n",
      "2000-01-02                                       0.000000e+00 \n",
      "2000-01-03                                       0.000000e+00 \n",
      "2000-01-04                                       9.409359e+06 \n",
      "2000-01-05                                       4.478244e+05 \n",
      "2000-01-06                                       8.466559e+05 \n",
      "2000-01-07                                       1.522590e+05 \n",
      "2000-01-08                                       0.000000e+00 \n",
      "2000-01-09                                       7.856505e+05 \n",
      "2000-01-10                                       1.635870e+06 \n",
      "2000-01-11                                       1.324785e+08 \n",
      "2000-01-12                                       1.287140e+07 \n",
      "2000-01-13                                       0.000000e+00 \n",
      "2000-01-14                                       0.000000e+00 \n",
      "2000-01-15                                       0.000000e+00 \n",
      "2000-01-16                                       0.000000e+00 \n",
      "2000-01-17                                       0.000000e+00 \n",
      "2000-01-18                                       0.000000e+00 \n",
      "2000-01-19                                       0.000000e+00 \n",
      "2000-01-20                                       0.000000e+00 \n",
      "2000-01-21                                       0.000000e+00 \n",
      "2000-01-22                                       0.000000e+00 \n",
      "2000-01-23                                       0.000000e+00 \n",
      "2000-01-24                                       0.000000e+00 \n",
      "2000-01-25                                       0.000000e+00 \n",
      "2000-01-26                                       3.485682e+03 \n",
      "2000-01-27                                       0.000000e+00 \n",
      "2000-01-28                                       0.000000e+00 \n",
      "2000-01-29                                       3.874575e+05 \n",
      "2000-01-30                                       0.000000e+00 \n",
      "...                                                       ... \n",
      "2006-12-02                                       0.000000e+00 \n",
      "2006-12-03                                       0.000000e+00 \n",
      "2006-12-04                                       0.000000e+00 \n",
      "2006-12-05                                       1.585178e+05 \n",
      "2006-12-06                                       0.000000e+00 \n",
      "2006-12-07                                       0.000000e+00 \n",
      "2006-12-08                                       0.000000e+00 \n",
      "2006-12-09                                       0.000000e+00 \n",
      "2006-12-10                                       0.000000e+00 \n",
      "2006-12-11                                       0.000000e+00 \n",
      "2006-12-12                                       0.000000e+00 \n",
      "2006-12-13                                       0.000000e+00 \n",
      "2006-12-14                                       0.000000e+00 \n",
      "2006-12-15                                       0.000000e+00 \n",
      "2006-12-16                                       0.000000e+00 \n",
      "2006-12-17                                       4.746904e+03 \n",
      "2006-12-18                                       0.000000e+00 \n",
      "2006-12-19                                       0.000000e+00 \n",
      "2006-12-20                                       0.000000e+00 \n",
      "2006-12-21                                       0.000000e+00 \n",
      "2006-12-22                                       0.000000e+00 \n",
      "2006-12-23                                       0.000000e+00 \n",
      "2006-12-24                                       0.000000e+00 \n",
      "2006-12-25                                       0.000000e+00 \n",
      "2006-12-26                                       0.000000e+00 \n",
      "2006-12-27                                       0.000000e+00 \n",
      "2006-12-28                                       2.372716e+06 \n",
      "2006-12-29                                       2.371380e+07 \n",
      "2006-12-30                                       1.110545e+06 \n",
      "2006-12-31                                       0.000000e+00 \n",
      "\n",
      "[2557 rows x 1 columns]\n"
     ]
    }
   ],
   "source": [
    "#downstream = v.retrieve_multiple_time_series(criteria={'RecordingVariable':'Downstream Flow Volume','NetworkElement':'link for catchment SC #1'})\n",
    "downstream = v.retrieve_multiple_time_series(criteria={'RecordingElement':'Constituents','RecordingVariable':'Constituents@Sediment - Fine@Downstream Flow Mass','NetworkElement':'link for catchment SC #1'})\n",
    "\n",
    "print(downstream)"
   ]
  },
  {
   "cell_type": "markdown",
   "metadata": {},
   "source": [
    "And lets have a look at it"
   ]
  },
  {
   "cell_type": "code",
   "execution_count": 18,
   "metadata": {
    "collapsed": false
   },
   "outputs": [
    {
     "data": {
      "text/plain": [
       "<matplotlib.axes._subplots.AxesSubplot at 0x92e5eb8>"
      ]
     },
     "execution_count": 18,
     "metadata": {},
     "output_type": "execute_result"
    },
    {
     "data": {
      "image/png": "[encoded data removed]",
      "text/plain": [
       "<matplotlib.figure.Figure at 0x8315908>"
      ]
     },
     "metadata": {},
     "output_type": "display_data"
    }
   ],
   "source": [
    "%matplotlib inline\n",
    "#downstream[['link for catchment SC #1:Downstream Flow Volume']].plot(figsize=(10,10))\n",
    "downstream[['link for catchment SC #1:Fine@Downstream Flow Mass']].plot(figsize=(10,10))"
   ]
  },
  {
   "cell_type": "code",
   "execution_count": null,
   "metadata": {
    "collapsed": true
   },
   "outputs": [],
   "source": []
  }
 ],
 "metadata": {
  "anaconda-cloud": {},
  "kernelspec": {
   "display_name": "Python [default]",
   "language": "python",
   "name": "python3"
  },
  "language_info": {
   "codemirror_mode": {
    "name": "ipython",
    "version": 3
   },
   "file_extension": ".py",
   "mimetype": "text/x-python",
   "name": "python",
   "nbconvert_exporter": "python",
   "pygments_lexer": "ipython3",
   "version": "3.5.2"
  }
 },
 "nbformat": 4,
 "nbformat_minor": 2
}
