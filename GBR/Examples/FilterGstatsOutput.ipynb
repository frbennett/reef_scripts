{
 "cells": [
  {
   "cell_type": "code",
   "execution_count": 1,
   "metadata": {},
   "outputs": [],
   "source": [
    "# Filter Gstats output to give just page count per table\n",
    "import pandas as pd\n",
    "#import pandasql as psql\n",
    "#import glob\n",
    "import os\n",
    "\n",
    "\n",
    "#inputFile = 'C:/DDrive/Fitzroy/v450projs/tester.gst'\n",
    "#outputFile = 'C:/DDrive/Fitzroy/v450projs/coutnDataPages.csv'\n",
    "inputFile = 'C:/DDrive/Burdekin/v450projs/BU_RC9_BL.gst'\n",
    "outputFile = 'C:/DDrive/Burdekin/v450projs/BU_RC9_BL_PAGES.csv'\n",
    "\n",
    "BitToLookFor = 'Data pages:'\n"
   ]
  },
  {
   "cell_type": "code",
   "execution_count": 3,
   "metadata": {},
   "outputs": [
    {
     "name": "stdout",
     "output_type": "stream",
     "text": [
      "Done\n"
     ]
    }
   ],
   "source": [
    "#df = pd.read_csv(inputFile)\n",
    "\n",
    "#filtered = df.loc[df[filterColName].isin(reqVals)]\n",
    "\n",
    "#filtered.to_csv(outputFile, index=False)\n",
    "\n",
    "df = pd.DataFrame(columns=['TableName','TableID','PageCount'])\n",
    "\n",
    "valsDict = {}\n",
    "valsDict[0] = \"\"\n",
    "valsDict[1] = \"\"\n",
    "valsDict[2] = \"\"\n",
    "\n",
    "counter = 0\n",
    "rowCount = 0\n",
    "f = open(inputFile, \"r\")\n",
    "for x in f:\n",
    "    counter += 1\n",
    "    #print(x)\n",
    "    \n",
    "    if counter == 1:\n",
    "        valsDict[0] = x.strip()\n",
    "        \n",
    "    if counter == 2:\n",
    "        valsDict[1] = valsDict[0]\n",
    "        valsDict[0] = x.strip()\n",
    "    \n",
    "    if counter >= 3:\n",
    "        valsDict[2] = valsDict[1]\n",
    "        valsDict[1] = valsDict[0]\n",
    "        valsDict[0] = x.strip()\n",
    "    \n",
    "    #Now do checking\n",
    "    if(BitToLookFor in valsDict[0]):\n",
    "        #Grab the data from here & 2 lines ago\n",
    "        tableStuff = valsDict[2].split(' ')\n",
    "        pageStuff = valsDict[0].split(',')\n",
    "        \n",
    "        df.loc[rowCount] = [tableStuff[0], tableStuff[1], pageStuff[0].replace(BitToLookFor + \" \", \"\")]\n",
    "        rowCount += 1\n",
    "        \n",
    "df.to_csv(outputFile, index=False)\n",
    "print(\"Done\")\n"
   ]
  },
  {
   "cell_type": "code",
   "execution_count": null,
   "metadata": {
    "collapsed": true
   },
   "outputs": [],
   "source": []
  }
 ],
 "metadata": {
  "kernelspec": {
   "display_name": "Python 3",
   "language": "python",
   "name": "python3"
  },
  "language_info": {
   "codemirror_mode": {
    "name": "ipython",
    "version": 3
   },
   "file_extension": ".py",
   "mimetype": "text/x-python",
   "name": "python",
   "nbconvert_exporter": "python",
   "pygments_lexer": "ipython3",
   "version": "3.7.1"
  }
 },
 "nbformat": 4,
 "nbformat_minor": 1
}
