{
 "cells": [
  {
   "cell_type": "code",
   "execution_count": 1,
   "metadata": {
    "collapsed": false
   },
   "outputs": [
    {
     "name": "stdout",
     "output_type": "stream",
     "text": [
      "Populating the interactive namespace from numpy and matplotlib\n"
     ]
    }
   ],
   "source": [
    "# Some steps required until these Python modules are properly installed...\n",
    "import sys\n",
    "sys.path.append('../Modules')\n",
    "# Get the GBR module\n",
    "import gbr\n",
    "%pylab inline"
   ]
  },
  {
   "cell_type": "code",
   "execution_count": 2,
   "metadata": {
    "collapsed": false
   },
   "outputs": [
    {
     "data": {
      "text/plain": [
       "['MW_10_4_atrazine',\n",
       " 'MW_15_Rob_5',\n",
       " 'MW_15_Rob_5_old',\n",
       " 'MW_16_baseline',\n",
       " 'MW_16_baseline_3818',\n",
       " 'MW_16_baseline_3818.7z',\n",
       " 'MW_16_baseline_3818_FullPara',\n",
       " 'MW_16_baseline_3818_Para',\n",
       " 'MW_9_Rob',\n",
       " 'MW_9_test',\n",
       " 'MW_baseline_3815_JoelFix',\n",
       " 'MW_baseline_3815_JoelsFix',\n",
       " 'MW_baseline_3815_JoelTest',\n",
       " 'MW_baseline_3815_prev',\n",
       " 'MW_baseline_3815_prev2',\n",
       " 'MW_baseline_3815_prev3',\n",
       " 'MW_baseline_3818',\n",
       " 'MW_baseline_3818_UpdateHydro',\n",
       " 'MW_baseline_3818_UpdateHydro_5YrWarmUp',\n",
       " 'MW_baseline_3818_UpdateHydro_5YrWarmUp2',\n",
       " 'MW_baseline_3818_UpdateHydro_NoIrr',\n",
       " 'MW_baseline_3818_UpdateHydro_NoIrrCrop',\n",
       " 'MW_baseline_3818_UpdateHydro_NoWarmUp',\n",
       " 'MW_baseline_3818_UpdateHydro_NoWarmUp2',\n",
       " 'MW_baseline_3818_UpdateHydro_NullIrrCropping',\n",
       " 'MW_baseline_3818_USLE_BL',\n",
       " 'MW_baseline_3819',\n",
       " 'MW_baseline_3819_2',\n",
       " 'MW_short',\n",
       " 'MW_USLE_Change',\n",
       " 'Rob5Orig']"
      ]
     },
     "execution_count": 2,
     "metadata": {},
     "output_type": "execute_result"
    }
   ],
   "source": [
    "gbr.init('D:/MW/results/MW_DS_2015/')\n",
    "gbr.available()"
   ]
  },
  {
   "cell_type": "code",
   "execution_count": 3,
   "metadata": {
    "collapsed": false
   },
   "outputs": [],
   "source": [
    "results = gbr.Results('Beta3818')"
   ]
  },
  {
   "cell_type": "code",
   "execution_count": 10,
   "metadata": {
    "collapsed": false
   },
   "outputs": [
    {
     "data": {
      "text/html": [
       "<div>\n",
       "<table border=\"1\" class=\"dataframe\">\n",
       "  <thead>\n",
       "    <tr style=\"text-align: right;\">\n",
       "      <th></th>\n",
       "      <th></th>\n",
       "      <th>Ametryn</th>\n",
       "      <th>Atrazine</th>\n",
       "      <th>Flow</th>\n",
       "      <th>N_DIN</th>\n",
       "      <th>N_DON</th>\n",
       "      <th>N_Particulate</th>\n",
       "      <th>P_DOP</th>\n",
       "      <th>P_FRP</th>\n",
       "      <th>P_Particulate</th>\n",
       "      <th>Sediment - Coarse</th>\n",
       "      <th>Sediment - Fine</th>\n",
       "      <th>Tebuthiuron</th>\n",
       "    </tr>\n",
       "    <tr>\n",
       "      <th>ModelElement</th>\n",
       "      <th>ValueType</th>\n",
       "      <th></th>\n",
       "      <th></th>\n",
       "      <th></th>\n",
       "      <th></th>\n",
       "      <th></th>\n",
       "      <th></th>\n",
       "      <th></th>\n",
       "      <th></th>\n",
       "      <th></th>\n",
       "      <th></th>\n",
       "      <th></th>\n",
       "      <th></th>\n",
       "    </tr>\n",
       "  </thead>\n",
       "  <tbody>\n",
       "    <tr>\n",
       "      <th>SC #1</th>\n",
       "      <th>Predicted</th>\n",
       "      <td>0</td>\n",
       "      <td>0</td>\n",
       "      <td>561864.057955</td>\n",
       "      <td>107609.615601</td>\n",
       "      <td>107609.615601</td>\n",
       "      <td>559048.832175</td>\n",
       "      <td>99873.145114</td>\n",
       "      <td>99873.145114</td>\n",
       "      <td>NaN</td>\n",
       "      <td>0</td>\n",
       "      <td>4943.001334</td>\n",
       "      <td>0</td>\n",
       "    </tr>\n",
       "    <tr>\n",
       "      <th>SC #3</th>\n",
       "      <th>Predicted</th>\n",
       "      <td>0</td>\n",
       "      <td>0</td>\n",
       "      <td>113064.519313</td>\n",
       "      <td>21613.596546</td>\n",
       "      <td>21613.596546</td>\n",
       "      <td>187863.703071</td>\n",
       "      <td>20377.664188</td>\n",
       "      <td>20377.664188</td>\n",
       "      <td>51162.920578</td>\n",
       "      <td>0</td>\n",
       "      <td>1543.903259</td>\n",
       "      <td>0</td>\n",
       "    </tr>\n",
       "    <tr>\n",
       "      <th>SC #1</th>\n",
       "      <th>Observed</th>\n",
       "      <td>NaN</td>\n",
       "      <td>0</td>\n",
       "      <td>3421660.439000</td>\n",
       "      <td>655380.875500</td>\n",
       "      <td>655380.875500</td>\n",
       "      <td>2303191.993000</td>\n",
       "      <td>608285.678900</td>\n",
       "      <td>NaN</td>\n",
       "      <td>NaN</td>\n",
       "      <td>0</td>\n",
       "      <td>18817.944890</td>\n",
       "      <td>NaN</td>\n",
       "    </tr>\n",
       "    <tr>\n",
       "      <th>SC #3</th>\n",
       "      <th>Observed</th>\n",
       "      <td>NaN</td>\n",
       "      <td>0</td>\n",
       "      <td>699828.506300</td>\n",
       "      <td>131486.410700</td>\n",
       "      <td>131486.410700</td>\n",
       "      <td>1146624.776000</td>\n",
       "      <td>123967.610700</td>\n",
       "      <td>NaN</td>\n",
       "      <td>NaN</td>\n",
       "      <td>0</td>\n",
       "      <td>8892.342346</td>\n",
       "      <td>NaN</td>\n",
       "    </tr>\n",
       "  </tbody>\n",
       "</table>\n",
       "</div>"
      ],
      "text/plain": [
       "                        Ametryn  Atrazine            Flow          N_DIN  \\\n",
       "ModelElement ValueType                                                     \n",
       "SC #1        Predicted        0         0   561864.057955  107609.615601   \n",
       "SC #3        Predicted        0         0   113064.519313   21613.596546   \n",
       "SC #1        Observed       NaN         0  3421660.439000  655380.875500   \n",
       "SC #3        Observed       NaN         0   699828.506300  131486.410700   \n",
       "\n",
       "                                N_DON   N_Particulate          P_DOP  \\\n",
       "ModelElement ValueType                                                 \n",
       "SC #1        Predicted  107609.615601   559048.832175   99873.145114   \n",
       "SC #3        Predicted   21613.596546   187863.703071   20377.664188   \n",
       "SC #1        Observed   655380.875500  2303191.993000  608285.678900   \n",
       "SC #3        Observed   131486.410700  1146624.776000  123967.610700   \n",
       "\n",
       "                               P_FRP  P_Particulate  Sediment - Coarse  \\\n",
       "ModelElement ValueType                                                   \n",
       "SC #1        Predicted  99873.145114            NaN                  0   \n",
       "SC #3        Predicted  20377.664188   51162.920578                  0   \n",
       "SC #1        Observed            NaN            NaN                  0   \n",
       "SC #3        Observed            NaN            NaN                  0   \n",
       "\n",
       "                        Sediment - Fine  Tebuthiuron  \n",
       "ModelElement ValueType                                \n",
       "SC #1        Predicted      4943.001334            0  \n",
       "SC #3        Predicted      1543.903259            0  \n",
       "SC #1        Observed      18817.944890          NaN  \n",
       "SC #3        Observed       8892.342346          NaN  "
      ]
     },
     "execution_count": 10,
     "metadata": {},
     "output_type": "execute_result"
    }
   ],
   "source": [
    "results.queries.compare_mean_annual_loads('observed_loads.csv', ['SC #1', 'SC #3'])"
   ]
  },
  {
   "cell_type": "code",
   "execution_count": 11,
   "metadata": {
    "collapsed": true
   },
   "outputs": [],
   "source": [
    "comparison = _"
   ]
  },
  {
   "cell_type": "code",
   "execution_count": 12,
   "metadata": {
    "collapsed": false
   },
   "outputs": [
    {
     "data": {
      "text/plain": [
       "<matplotlib.axes._subplots.AxesSubplot at 0x9983470>"
      ]
     },
     "execution_count": 12,
     "metadata": {},
     "output_type": "execute_result"
    },
    {
     "data": {
      "image/png": "[encoded data removed]",
      "text/plain": [
       "<matplotlib.figure.Figure at 0x8ff4be0>"
      ]
     },
     "metadata": {},
     "output_type": "display_data"
    },
    {
     "data": {
      "image/png": "[encoded data removed]",
      "text/plain": [
       "<matplotlib.figure.Figure at 0x9008400>"
      ]
     },
     "metadata": {},
     "output_type": "display_data"
    }
   ],
   "source": [
    "comparison.ix['SC #1'].transpose().plot(kind='bar',title=\"SC #1\",layout=(1,2))\n",
    "comparison.ix['SC #3'].transpose().plot(kind='bar',title=\"SC #3\",layout=(1,2))\n"
   ]
  },
  {
   "cell_type": "code",
   "execution_count": 13,
   "metadata": {
    "collapsed": true
   },
   "outputs": [],
   "source": [
    "comparison.plot?"
   ]
  },
  {
   "cell_type": "code",
   "execution_count": 14,
   "metadata": {
    "collapsed": false
   },
   "outputs": [
    {
     "data": {
      "text/plain": [
       "<matplotlib.axes._subplots.AxesSubplot at 0x99c7a20>"
      ]
     },
     "execution_count": 14,
     "metadata": {},
     "output_type": "execute_result"
    },
    {
     "data": {
      "image/png": "[encoded data removed]",
      "text/plain": [
       "<matplotlib.figure.Figure at 0x8ff4da0>"
      ]
     },
     "metadata": {},
     "output_type": "display_data"
    }
   ],
   "source": [
    "comparison['Sediment - Fine'].plot(kind='bar')"
   ]
  },
  {
   "cell_type": "code",
   "execution_count": null,
   "metadata": {
    "collapsed": true
   },
   "outputs": [],
   "source": []
  }
 ],
 "metadata": {
  "kernelspec": {
   "display_name": "Python 3",
   "language": "python",
   "name": "python3"
  },
  "language_info": {
   "codemirror_mode": {
    "name": "ipython",
    "version": 3
   },
   "file_extension": ".py",
   "mimetype": "text/x-python",
   "name": "python",
   "nbconvert_exporter": "python",
   "pygments_lexer": "ipython3",
   "version": "3.5.1"
  }
 },
 "nbformat": 4,
 "nbformat_minor": 0
}
