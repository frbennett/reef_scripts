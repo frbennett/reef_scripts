{
 "cells": [
  {
   "cell_type": "code",
   "execution_count": 1,
   "metadata": {
    "collapsed": true
   },
   "outputs": [],
   "source": [
    "import glob\n",
    "import os\n",
    "import shutil\n",
    "#import fnmatch\n",
    "\n",
    "\n",
    "searchpath = r\"D:\\Beckers\\DummyHowLeakyInputs\"\n",
    "#outpath = r\"D:\\Beckers\\DummyAPSIMInputs\"\n"
   ]
  },
  {
   "cell_type": "code",
   "execution_count": 3,
   "metadata": {
    "collapsed": false
   },
   "outputs": [
    {
     "name": "stdout",
     "output_type": "stream",
     "text": [
      "Done\n"
     ]
    }
   ],
   "source": [
    "#Louise: Copy and paste this cell as many times as you need to,\n",
    "#change searchString and replacementString accordingly\n",
    "\n",
    "#for file in file_list :\n",
    "searchString = \"NO3RunoffLoad_mm\"\n",
    "replacementString = \"NO3RunoffLoad_kgPerHa\"\n",
    "for fullFileName in glob.glob(searchpath + '/*' + searchString + '*'):\n",
    "    #print(fullFileName)\n",
    "    fName = os.path.basename(fullFileName)\n",
    "    #print(fName)\n",
    "    #outPath = os.path.join(outpath, fName.replace(searchString, replacementString))\n",
    "    #print(outPath)\n",
    "    #shutil.copy(fullFileName, outPath)\n",
    "    \n",
    "    os.rename(os.path.join(searchpath,fName),os.path.join(searchpath,fName.replace(searchString, replacementString)))\n",
    "\n",
    "print(\"Done\")"
   ]
  },
  {
   "cell_type": "code",
   "execution_count": null,
   "metadata": {
    "collapsed": true
   },
   "outputs": [],
   "source": []
  }
 ],
 "metadata": {
  "anaconda-cloud": {},
  "kernelspec": {
   "display_name": "Python [default]",
   "language": "python",
   "name": "python3"
  },
  "language_info": {
   "codemirror_mode": {
    "name": "ipython",
    "version": 3
   },
   "file_extension": ".py",
   "mimetype": "text/x-python",
   "name": "python",
   "nbconvert_exporter": "python",
   "pygments_lexer": "ipython3",
   "version": "3.5.2"
  }
 },
 "nbformat": 4,
 "nbformat_minor": 1
}
