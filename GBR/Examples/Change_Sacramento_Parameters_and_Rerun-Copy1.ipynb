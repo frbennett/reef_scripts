{
 "cells": [
  {
   "cell_type": "markdown",
   "metadata": {},
   "source": [
    "# Example of running Source with changed parameters\n",
    "\n",
    "We're going to change the impervious fraction parameter in Sacramento and run Source with the original and changed values"
   ]
  },
  {
   "cell_type": "code",
   "execution_count": 1,
   "metadata": {
    "collapsed": false
   },
   "outputs": [],
   "source": [
    "# Some steps required until these Python modules are properly installed...\n",
    "import sys\n",
    "sys.path.append('../Modules')\n",
    "sys.path.append('../../../../veneer-py')\n",
    "# Get the Source scripting components (veneer) and GBR specific stuff\n",
    "import gbr"
   ]
  },
  {
   "cell_type": "code",
   "execution_count": 2,
   "metadata": {
    "collapsed": false
   },
   "outputs": [],
   "source": [
    "# Point the system at a particular output directory...\n",
    "gbr.init('D:/Xike\\bu/results/')"
   ]
  },
  {
   "cell_type": "code",
   "execution_count": 3,
   "metadata": {
    "collapsed": true
   },
   "outputs": [],
   "source": [
    "# Initialise the Veneer (Source scripting tool)\n",
    "v = gbr.veneer()"
   ]
  },
  {
   "cell_type": "code",
   "execution_count": 4,
   "metadata": {
    "collapsed": true
   },
   "outputs": [],
   "source": [
    "# A path to the variable of interest... .* means 'give me all'\n",
    "accessor = 'scenario.Network.GetCatchments().*FunctionalUnits.*rainfallRunoffModel.theBaseRRModel.Pctim'"
   ]
  },
  {
   "cell_type": "code",
   "execution_count": 5,
   "metadata": {
    "collapsed": false
   },
   "outputs": [
    {
     "name": "stdout",
     "output_type": "stream",
     "text": [
      "[0.1, 0.1, 0.1, 0.1, 0.1, 0.1, 0.1, 0.1, 0.1, 0.1]\n"
     ]
    }
   ],
   "source": [
    "existingValues = v.model.get('scenario.Network.GetCatchments().*FunctionalUnits.*rainfallRunoffModel.lagUHmodifier')\n",
    "#existingValues = v.model.get('scenario.Network.GetCatchments().*FunctionalUnits.*rainfallRunoffModel.Lztwm')\n",
    "print(existingValues[:10])"
   ]
  },
  {
   "cell_type": "code",
   "execution_count": 67,
   "metadata": {
    "collapsed": false
   },
   "outputs": [
    {
     "name": "stdout",
     "output_type": "stream",
     "text": [
      "[1, 1, 1, 1, 1, 1, 1, 1, 1, 1]\n"
     ]
    }
   ],
   "source": [
    "#existingRoutingValues = v.model.get('scenario.Network.GetILinks().*Name')\n",
    "#existingRoutingValues = v.model.get('scenario.Network.GetILinks().*FlowRouting.ReachLength')\n",
    "existingRoutingValues = v.model.get('scenario.Network.GetILinks().*FlowRouting.RoutingPower')\n",
    "#existingRoutingValues = v.model.get('scenario.Network.GetILinks().*FlowRouting.RoutingConstant')\n",
    "#existingRoutingValues = v.model.get('scenario.Network.GetILinks().*FlowRouting.regionalConstant')\n",
    "print(existingRoutingValues[:10])\n"
   ]
  },
  {
   "cell_type": "code",
   "execution_count": 53,
   "metadata": {
    "collapsed": false,
    "scrolled": true
   },
   "outputs": [
    {
     "name": "stdout",
     "output_type": "stream",
     "text": [
      "1/01/2012 12:00:00 AM\n",
      "31/01/2012 12:00:00 AM\n",
      "Single analysis\n"
     ]
    }
   ],
   "source": [
    "# Run with those original values\n",
    "\n",
    "# Need to find what is accessible in non-DS rsproj\n",
    "# configure dates\n",
    "\n",
    "sDate = v.model.get('scenario.CurrentConfiguration.StartDate')\n",
    "print(sDate)\n",
    "\n",
    "eDate = v.model.get('scenario.CurrentConfiguration.EndDate')\n",
    "print(eDate)\n",
    "# First, set the name of the run\n",
    "#v.model.set('scenario.CurrentConfiguration.runName','RUN_ORIGINAL_PCTIM')\n",
    "\n",
    "#s = v.model.get('scenario')\n",
    "s = v.model.get('scenario.CurrentConfiguration')\n",
    "print(s)\n",
    "\n"
   ]
  },
  {
   "cell_type": "code",
   "execution_count": 59,
   "metadata": {
    "collapsed": false
   },
   "outputs": [
    {
     "data": {
      "text/plain": [
       "<http.client.HTTPConnection at 0x4e98eb8>"
      ]
     },
     "execution_count": 59,
     "metadata": {},
     "output_type": "execute_result"
    }
   ],
   "source": [
    "v.run_model(start='01/01/2012', end='31/12/2012', async='False')"
   ]
  },
  {
   "cell_type": "code",
   "execution_count": 70,
   "metadata": {
    "collapsed": false
   },
   "outputs": [
    {
     "name": "stdout",
     "output_type": "stream",
     "text": [
      "[21146.0129727677, 22758.2164338731, 15991.3116780419, 21845.4242277373, 7159.55410846826, 23886.1558262665, 7774.11254969542, 45565.4068967017, 27451.0086400088, 4066.17315730203]\n",
      "[0.6, 0.6, 0.6, 0.6, 0.6, 0.6, 0.6, 0.6, 0.6, 0.6]\n",
      "[0.1, 0.1, 0.1, 0.1, 0.1, 0.1, 0.1, 0.1, 0.1, 0.1]\n"
     ]
    }
   ],
   "source": [
    "# This has worked to here\n",
    "# try another\n",
    "constaccessor = 'scenario.Network.GetILinks().*FlowRouting.regionalConstant'\n",
    "poweraccessor = 'scenario.Network.GetILinks().*FlowRouting.RoutingPower'\n",
    "lagaccessor = 'scenario.Network.GetCatchments().*FunctionalUnits.*rainfallRunoffModel.lagUHmodifier'\n",
    "#constaccessor\n",
    "v.model.set(constaccessor,2)\n",
    "v.model.set(poweraccessor,0.6)\n",
    "v.model.set(lagaccessor,3.6)\n",
    "#existingRoutingValues = v.model.get('scenario.Network.GetILinks().*FlowRouting.RoutingConstant')\n",
    "#print(existingRoutingValues[:10])\n",
    "\n",
    "v.run_model()\n",
    "\n",
    "existingRoutingValues = v.model.get('scenario.Network.GetILinks().*FlowRouting.RoutingConstant')\n",
    "print(existingRoutingValues[:10])\n",
    "existingPowerValues = v.model.get('scenario.Network.GetILinks().*FlowRouting.RoutingPower')\n",
    "print(existingPowerValues[:10])\n",
    "existingLagValues = v.model.get('scenario.Network.GetCatchments().*FunctionalUnits.*rainfallRunoffModel.lagUHmodifier')\n",
    "print(existingLagValues[:10])\n"
   ]
  },
  {
   "cell_type": "code",
   "execution_count": 7,
   "metadata": {
    "collapsed": false
   },
   "outputs": [
    {
     "data": {
      "text/plain": [
       "{'Exception': None, 'Response': None, 'StandardError': '', 'StandardOut': ''}"
      ]
     },
     "execution_count": 7,
     "metadata": {},
     "output_type": "execute_result"
    }
   ],
   "source": [
    "# Its a good idea to set some options in Dynamic Sednet to prevent the results window appearing\n",
    "# Also, to make it automatically override existing results\n",
    "v.configureOptions({'ShowResultsAfterRun':False,'OverwriteResults':True})"
   ]
  },
  {
   "cell_type": "code",
   "execution_count": 8,
   "metadata": {
    "collapsed": false
   },
   "outputs": [
    {
     "data": {
      "text/plain": [
       "{'Exception': None,\n",
       " 'Response': {'Value': True,\n",
       "  '__type': 'BooleanResponse:#FlowMatters.Source.Veneer.ExchangeObjects'},\n",
       " 'StandardError': '',\n",
       " 'StandardOut': ''}"
      ]
     },
     "execution_count": 8,
     "metadata": {},
     "output_type": "execute_result"
    }
   ],
   "source": [
    "# Also, lets switch on the performance options\n",
    "v.configureOptions({'RunNetworksInParallel':True,'PreRunCatchments':True,'ParallelFlowPhase':True})\n",
    "v.model.sourceScenarioOptions(\"PerformanceConfiguration\",\"ProcessCatchmentsInParallel\",True)\n"
   ]
  },
  {
   "cell_type": "code",
   "execution_count": 9,
   "metadata": {
    "collapsed": false
   },
   "outputs": [
    {
     "data": {
      "text/plain": [
       "(302, 'runs/1')"
      ]
     },
     "execution_count": 9,
     "metadata": {},
     "output_type": "execute_result"
    }
   ],
   "source": [
    "# Now, lets run the model... When this cell executes in Python, the run window should appear in Source...\n",
    "v.run_model()"
   ]
  },
  {
   "cell_type": "code",
   "execution_count": 11,
   "metadata": {
    "collapsed": true
   },
   "outputs": [],
   "source": [
    "# NOTE: The above output (eg runs/1) is a point to retrieving the 'normal' Source results - ie all the time series recorders...\n",
    "# We don't need that for GBR/Dynamic Sednet, because we can get to the summarised results"
   ]
  },
  {
   "cell_type": "code",
   "execution_count": 12,
   "metadata": {
    "collapsed": true
   },
   "outputs": [],
   "source": [
    "# Lets take a quick look at those results...\n",
    "results_original = gbr.Results('RUN_ORIGINAL_PCTIM')\n",
    "results_original.queries.regional_export('t/y')"
   ]
  },
  {
   "cell_type": "code",
   "execution_count": 13,
   "metadata": {
    "collapsed": false
   },
   "outputs": [
    {
     "data": {
      "text/html": [
       "<div>\n",
       "<table border=\"1\" class=\"dataframe\">\n",
       "  <thead>\n",
       "    <tr style=\"text-align: right;\">\n",
       "      <th>SummaryRegion</th>\n",
       "      <th>agbot</th>\n",
       "      <th>agmid</th>\n",
       "      <th>agtop</th>\n",
       "    </tr>\n",
       "    <tr>\n",
       "      <th>Constituent</th>\n",
       "      <th></th>\n",
       "      <th></th>\n",
       "      <th></th>\n",
       "    </tr>\n",
       "  </thead>\n",
       "  <tbody>\n",
       "    <tr>\n",
       "      <th>Ametryn</th>\n",
       "      <td>0.000000e+00</td>\n",
       "      <td>0.000000e+00</td>\n",
       "      <td>0.000000e+00</td>\n",
       "    </tr>\n",
       "    <tr>\n",
       "      <th>Atrazine</th>\n",
       "      <td>0.000000e+00</td>\n",
       "      <td>0.000000e+00</td>\n",
       "      <td>0.000000e+00</td>\n",
       "    </tr>\n",
       "    <tr>\n",
       "      <th>Flow</th>\n",
       "      <td>5.618641e+08</td>\n",
       "      <td>4.826120e+08</td>\n",
       "      <td>2.044276e+08</td>\n",
       "    </tr>\n",
       "    <tr>\n",
       "      <th>N_DIN</th>\n",
       "      <td>1.076096e+05</td>\n",
       "      <td>9.206070e+04</td>\n",
       "      <td>3.776663e+04</td>\n",
       "    </tr>\n",
       "    <tr>\n",
       "      <th>N_DON</th>\n",
       "      <td>1.076096e+05</td>\n",
       "      <td>9.206070e+04</td>\n",
       "      <td>3.776663e+04</td>\n",
       "    </tr>\n",
       "    <tr>\n",
       "      <th>N_Particulate</th>\n",
       "      <td>5.590488e+05</td>\n",
       "      <td>3.949711e+05</td>\n",
       "      <td>2.687237e+05</td>\n",
       "    </tr>\n",
       "    <tr>\n",
       "      <th>P_DOP</th>\n",
       "      <td>9.987315e+04</td>\n",
       "      <td>8.674313e+04</td>\n",
       "      <td>3.633789e+04</td>\n",
       "    </tr>\n",
       "    <tr>\n",
       "      <th>P_FRP</th>\n",
       "      <td>9.987315e+04</td>\n",
       "      <td>8.674313e+04</td>\n",
       "      <td>3.633789e+04</td>\n",
       "    </tr>\n",
       "    <tr>\n",
       "      <th>P_Particulate</th>\n",
       "      <td>NaN</td>\n",
       "      <td>2.748961e+05</td>\n",
       "      <td>1.606461e+05</td>\n",
       "    </tr>\n",
       "    <tr>\n",
       "      <th>Sediment - Coarse</th>\n",
       "      <td>0.000000e+00</td>\n",
       "      <td>0.000000e+00</td>\n",
       "      <td>0.000000e+00</td>\n",
       "    </tr>\n",
       "    <tr>\n",
       "      <th>Sediment - Fine</th>\n",
       "      <td>4.943001e+06</td>\n",
       "      <td>3.917739e+06</td>\n",
       "      <td>2.476492e+06</td>\n",
       "    </tr>\n",
       "    <tr>\n",
       "      <th>Tebuthiuron</th>\n",
       "      <td>0.000000e+00</td>\n",
       "      <td>0.000000e+00</td>\n",
       "      <td>0.000000e+00</td>\n",
       "    </tr>\n",
       "  </tbody>\n",
       "</table>\n",
       "</div>"
      ],
      "text/plain": [
       "SummaryRegion             agbot         agmid         agtop\n",
       "Constituent                                                \n",
       "Ametryn            0.000000e+00  0.000000e+00  0.000000e+00\n",
       "Atrazine           0.000000e+00  0.000000e+00  0.000000e+00\n",
       "Flow               5.618641e+08  4.826120e+08  2.044276e+08\n",
       "N_DIN              1.076096e+05  9.206070e+04  3.776663e+04\n",
       "N_DON              1.076096e+05  9.206070e+04  3.776663e+04\n",
       "N_Particulate      5.590488e+05  3.949711e+05  2.687237e+05\n",
       "P_DOP              9.987315e+04  8.674313e+04  3.633789e+04\n",
       "P_FRP              9.987315e+04  8.674313e+04  3.633789e+04\n",
       "P_Particulate               NaN  2.748961e+05  1.606461e+05\n",
       "Sediment - Coarse  0.000000e+00  0.000000e+00  0.000000e+00\n",
       "Sediment - Fine    4.943001e+06  3.917739e+06  2.476492e+06\n",
       "Tebuthiuron        0.000000e+00  0.000000e+00  0.000000e+00"
      ]
     },
     "execution_count": 13,
     "metadata": {},
     "output_type": "execute_result"
    }
   ],
   "source": []
  },
  {
   "cell_type": "code",
   "execution_count": 14,
   "metadata": {
    "collapsed": false
   },
   "outputs": [
    {
     "data": {
      "text/plain": [
       "'scenario.Network.GetCatchments().*FunctionalUnits.*rainfallRunoffModel.theBaseRRModel.Pctim'"
      ]
     },
     "execution_count": 14,
     "metadata": {},
     "output_type": "execute_result"
    }
   ],
   "source": [
    "# NOW... Lets change the Pctim parameter...\n",
    "# We'll use the same accessor -- but this time we'll use it to set values\n",
    "accessor"
   ]
  },
  {
   "cell_type": "code",
   "execution_count": 16,
   "metadata": {
    "collapsed": false
   },
   "outputs": [],
   "source": [
    "# We can set every 'instance' of Pctim - ie every FU in every subcatchment - to a single value, with\n",
    "#\n",
    "# v.model.set(accessor,0.5)\n",
    "#\n",
    "# or we can pass in a list of values\n",
    "#\n",
    "# v.model.set(accessor,[0.2,0.3,0.5,0.4,1.0],fromList=True)\n",
    "#\n",
    "# Now... If your list of values is shorter than the number of instances... (ie # subcatchments x # FUs),\n",
    "# then the list will be 'recycled'... That is, the list will be reused repeatedly until values have been assigned to all\n",
    "# instances...\n",
    "#\n",
    "# ie... Given that the Becker's model has 5 FUs, [0.2,0.3,0.5,0.4,1.0] is the equivalent of giving those five values to the\n",
    "# five functional units in each subcatchment...\n",
    "v.model.set(accessor,[0.2,0.3,0.5,0.4,1.0],fromList=True)"
   ]
  },
  {
   "cell_type": "code",
   "execution_count": 19,
   "metadata": {
    "collapsed": false
   },
   "outputs": [
    {
     "data": {
      "text/plain": [
       "[0.2,\n",
       " 0.3,\n",
       " 0.5,\n",
       " 0.4,\n",
       " 1,\n",
       " 0.2,\n",
       " 0.3,\n",
       " 0.5,\n",
       " 0.4,\n",
       " 1,\n",
       " 0.2,\n",
       " 0.3,\n",
       " 0.5,\n",
       " 0.4,\n",
       " 1,\n",
       " 0.2,\n",
       " 0.3,\n",
       " 0.5,\n",
       " 0.4,\n",
       " 1,\n",
       " 0.2,\n",
       " 0.3,\n",
       " 0.5,\n",
       " 0.4,\n",
       " 1]"
      ]
     },
     "execution_count": 19,
     "metadata": {},
     "output_type": "execute_result"
    }
   ],
   "source": [
    "# Lets check what happened...\n",
    "v.model.get(accessor)"
   ]
  },
  {
   "cell_type": "code",
   "execution_count": 20,
   "metadata": {
    "collapsed": true
   },
   "outputs": [],
   "source": [
    "v.model.set('scenario.CurrentConfiguration.runName','RUN_CHANGED_PCTIM')"
   ]
  },
  {
   "cell_type": "code",
   "execution_count": 21,
   "metadata": {
    "collapsed": false
   },
   "outputs": [
    {
     "data": {
      "text/plain": [
       "(302, 'runs/2')"
      ]
     },
     "execution_count": 21,
     "metadata": {},
     "output_type": "execute_result"
    }
   ],
   "source": [
    "v.run_model()"
   ]
  },
  {
   "cell_type": "code",
   "execution_count": 22,
   "metadata": {
    "collapsed": false
   },
   "outputs": [
    {
     "data": {
      "text/html": [
       "<div>\n",
       "<table border=\"1\" class=\"dataframe\">\n",
       "  <thead>\n",
       "    <tr style=\"text-align: right;\">\n",
       "      <th>SummaryRegion</th>\n",
       "      <th>agbot</th>\n",
       "      <th>agmid</th>\n",
       "      <th>agtop</th>\n",
       "    </tr>\n",
       "    <tr>\n",
       "      <th>Constituent</th>\n",
       "      <th></th>\n",
       "      <th></th>\n",
       "      <th></th>\n",
       "    </tr>\n",
       "  </thead>\n",
       "  <tbody>\n",
       "    <tr>\n",
       "      <th>Ametryn</th>\n",
       "      <td>0.000000e+00</td>\n",
       "      <td>0.000000e+00</td>\n",
       "      <td>0.000000e+00</td>\n",
       "    </tr>\n",
       "    <tr>\n",
       "      <th>Atrazine</th>\n",
       "      <td>0.000000e+00</td>\n",
       "      <td>0.000000e+00</td>\n",
       "      <td>0.000000e+00</td>\n",
       "    </tr>\n",
       "    <tr>\n",
       "      <th>Flow</th>\n",
       "      <td>5.985996e+09</td>\n",
       "      <td>5.482349e+09</td>\n",
       "      <td>5.046765e+09</td>\n",
       "    </tr>\n",
       "    <tr>\n",
       "      <th>N_DIN</th>\n",
       "      <td>1.318299e+06</td>\n",
       "      <td>1.218539e+06</td>\n",
       "      <td>9.657002e+05</td>\n",
       "    </tr>\n",
       "    <tr>\n",
       "      <th>N_DON</th>\n",
       "      <td>1.318299e+06</td>\n",
       "      <td>1.218539e+06</td>\n",
       "      <td>9.657002e+05</td>\n",
       "    </tr>\n",
       "    <tr>\n",
       "      <th>N_Particulate</th>\n",
       "      <td>2.604056e+07</td>\n",
       "      <td>2.483552e+07</td>\n",
       "      <td>3.695302e+07</td>\n",
       "    </tr>\n",
       "    <tr>\n",
       "      <th>P_DOP</th>\n",
       "      <td>1.265883e+06</td>\n",
       "      <td>1.177535e+06</td>\n",
       "      <td>9.466321e+05</td>\n",
       "    </tr>\n",
       "    <tr>\n",
       "      <th>P_FRP</th>\n",
       "      <td>1.265883e+06</td>\n",
       "      <td>1.177535e+06</td>\n",
       "      <td>9.466321e+05</td>\n",
       "    </tr>\n",
       "    <tr>\n",
       "      <th>P_Particulate</th>\n",
       "      <td>1.114083e+11</td>\n",
       "      <td>1.114078e+11</td>\n",
       "      <td>1.370545e+11</td>\n",
       "    </tr>\n",
       "    <tr>\n",
       "      <th>Sediment - Coarse</th>\n",
       "      <td>0.000000e+00</td>\n",
       "      <td>0.000000e+00</td>\n",
       "      <td>0.000000e+00</td>\n",
       "    </tr>\n",
       "    <tr>\n",
       "      <th>Sediment - Fine</th>\n",
       "      <td>2.457229e+08</td>\n",
       "      <td>2.394227e+08</td>\n",
       "      <td>3.207062e+08</td>\n",
       "    </tr>\n",
       "    <tr>\n",
       "      <th>Tebuthiuron</th>\n",
       "      <td>0.000000e+00</td>\n",
       "      <td>0.000000e+00</td>\n",
       "      <td>0.000000e+00</td>\n",
       "    </tr>\n",
       "  </tbody>\n",
       "</table>\n",
       "</div>"
      ],
      "text/plain": [
       "SummaryRegion             agbot         agmid         agtop\n",
       "Constituent                                                \n",
       "Ametryn            0.000000e+00  0.000000e+00  0.000000e+00\n",
       "Atrazine           0.000000e+00  0.000000e+00  0.000000e+00\n",
       "Flow               5.985996e+09  5.482349e+09  5.046765e+09\n",
       "N_DIN              1.318299e+06  1.218539e+06  9.657002e+05\n",
       "N_DON              1.318299e+06  1.218539e+06  9.657002e+05\n",
       "N_Particulate      2.604056e+07  2.483552e+07  3.695302e+07\n",
       "P_DOP              1.265883e+06  1.177535e+06  9.466321e+05\n",
       "P_FRP              1.265883e+06  1.177535e+06  9.466321e+05\n",
       "P_Particulate      1.114083e+11  1.114078e+11  1.370545e+11\n",
       "Sediment - Coarse  0.000000e+00  0.000000e+00  0.000000e+00\n",
       "Sediment - Fine    2.457229e+08  2.394227e+08  3.207062e+08\n",
       "Tebuthiuron        0.000000e+00  0.000000e+00  0.000000e+00"
      ]
     },
     "execution_count": 22,
     "metadata": {},
     "output_type": "execute_result"
    }
   ],
   "source": [
    "results_changed = gbr.Results('RUN_CHANGED_PCTIM')\n",
    "results_changed.queries.regional_export('t/y')"
   ]
  },
  {
   "cell_type": "code",
   "execution_count": 24,
   "metadata": {
    "collapsed": true
   },
   "outputs": [],
   "source": [
    "# Now that we've done both runs, we probably want to put the parameter back to normal...\n",
    "v.model.set(accessor,existingValues,fromList=True)\n"
   ]
  },
  {
   "cell_type": "code",
   "execution_count": 25,
   "metadata": {
    "collapsed": false
   },
   "outputs": [
    {
     "data": {
      "text/html": [
       "<div>\n",
       "<table border=\"1\" class=\"dataframe\">\n",
       "  <thead>\n",
       "    <tr style=\"text-align: right;\">\n",
       "      <th>SummaryRegion</th>\n",
       "      <th>agbot</th>\n",
       "      <th>agmid</th>\n",
       "      <th>agtop</th>\n",
       "    </tr>\n",
       "    <tr>\n",
       "      <th>Constituent</th>\n",
       "      <th></th>\n",
       "      <th></th>\n",
       "      <th></th>\n",
       "    </tr>\n",
       "  </thead>\n",
       "  <tbody>\n",
       "    <tr>\n",
       "      <th>Ametryn</th>\n",
       "      <td>0.000000e+00</td>\n",
       "      <td>0.000000e+00</td>\n",
       "      <td>0.000000e+00</td>\n",
       "    </tr>\n",
       "    <tr>\n",
       "      <th>Atrazine</th>\n",
       "      <td>0.000000e+00</td>\n",
       "      <td>0.000000e+00</td>\n",
       "      <td>0.000000e+00</td>\n",
       "    </tr>\n",
       "    <tr>\n",
       "      <th>Flow</th>\n",
       "      <td>-5.424132e+09</td>\n",
       "      <td>-4.999737e+09</td>\n",
       "      <td>-4.842337e+09</td>\n",
       "    </tr>\n",
       "    <tr>\n",
       "      <th>N_DIN</th>\n",
       "      <td>-1.210689e+06</td>\n",
       "      <td>-1.126478e+06</td>\n",
       "      <td>-9.279335e+05</td>\n",
       "    </tr>\n",
       "    <tr>\n",
       "      <th>N_DON</th>\n",
       "      <td>-1.210689e+06</td>\n",
       "      <td>-1.126478e+06</td>\n",
       "      <td>-9.279335e+05</td>\n",
       "    </tr>\n",
       "    <tr>\n",
       "      <th>N_Particulate</th>\n",
       "      <td>-2.548151e+07</td>\n",
       "      <td>-2.444055e+07</td>\n",
       "      <td>-3.668429e+07</td>\n",
       "    </tr>\n",
       "    <tr>\n",
       "      <th>P_DOP</th>\n",
       "      <td>-1.166010e+06</td>\n",
       "      <td>-1.090792e+06</td>\n",
       "      <td>-9.102942e+05</td>\n",
       "    </tr>\n",
       "    <tr>\n",
       "      <th>P_FRP</th>\n",
       "      <td>-1.166010e+06</td>\n",
       "      <td>-1.090792e+06</td>\n",
       "      <td>-9.102942e+05</td>\n",
       "    </tr>\n",
       "    <tr>\n",
       "      <th>P_Particulate</th>\n",
       "      <td>NaN</td>\n",
       "      <td>-1.114075e+11</td>\n",
       "      <td>-1.370543e+11</td>\n",
       "    </tr>\n",
       "    <tr>\n",
       "      <th>Sediment - Coarse</th>\n",
       "      <td>0.000000e+00</td>\n",
       "      <td>0.000000e+00</td>\n",
       "      <td>0.000000e+00</td>\n",
       "    </tr>\n",
       "    <tr>\n",
       "      <th>Sediment - Fine</th>\n",
       "      <td>-2.407799e+08</td>\n",
       "      <td>-2.355049e+08</td>\n",
       "      <td>-3.182297e+08</td>\n",
       "    </tr>\n",
       "    <tr>\n",
       "      <th>Tebuthiuron</th>\n",
       "      <td>0.000000e+00</td>\n",
       "      <td>0.000000e+00</td>\n",
       "      <td>0.000000e+00</td>\n",
       "    </tr>\n",
       "  </tbody>\n",
       "</table>\n",
       "</div>"
      ],
      "text/plain": [
       "SummaryRegion             agbot         agmid         agtop\n",
       "Constituent                                                \n",
       "Ametryn            0.000000e+00  0.000000e+00  0.000000e+00\n",
       "Atrazine           0.000000e+00  0.000000e+00  0.000000e+00\n",
       "Flow              -5.424132e+09 -4.999737e+09 -4.842337e+09\n",
       "N_DIN             -1.210689e+06 -1.126478e+06 -9.279335e+05\n",
       "N_DON             -1.210689e+06 -1.126478e+06 -9.279335e+05\n",
       "N_Particulate     -2.548151e+07 -2.444055e+07 -3.668429e+07\n",
       "P_DOP             -1.166010e+06 -1.090792e+06 -9.102942e+05\n",
       "P_FRP             -1.166010e+06 -1.090792e+06 -9.102942e+05\n",
       "P_Particulate               NaN -1.114075e+11 -1.370543e+11\n",
       "Sediment - Coarse  0.000000e+00  0.000000e+00  0.000000e+00\n",
       "Sediment - Fine   -2.407799e+08 -2.355049e+08 -3.182297e+08\n",
       "Tebuthiuron        0.000000e+00  0.000000e+00  0.000000e+00"
      ]
     },
     "execution_count": 25,
     "metadata": {},
     "output_type": "execute_result"
    }
   ],
   "source": [
    "# Now... Lets run a results comparison...\n",
    "differences = gbr.DifferenceResults('RUN_ORIGINAL_PCTIM','RUN_CHANGED_PCTIM')\n",
    "differences.queries.regional_export('t/y')"
   ]
  },
  {
   "cell_type": "code",
   "execution_count": null,
   "metadata": {
    "collapsed": true
   },
   "outputs": [],
   "source": [
    "# As might be expected, increasing the impervious fraction increases flow and consequently the constituents also increase...."
   ]
  },
  {
   "cell_type": "code",
   "execution_count": null,
   "metadata": {
    "collapsed": true
   },
   "outputs": [],
   "source": []
  }
 ],
 "metadata": {
  "anaconda-cloud": {},
  "kernelspec": {
   "display_name": "Python [default]",
   "language": "python",
   "name": "python3"
  },
  "language_info": {
   "codemirror_mode": {
    "name": "ipython",
    "version": 3
   },
   "file_extension": ".py",
   "mimetype": "text/x-python",
   "name": "python",
   "nbconvert_exporter": "python",
   "pygments_lexer": "ipython3",
   "version": "3.5.2"
  }
 },
 "nbformat": 4,
 "nbformat_minor": 0
}
