{
 "cells": [
  {
   "cell_type": "code",
   "execution_count": 1,
   "id": "e26143f1",
   "metadata": {},
   "outputs": [],
   "source": [
    "from veneer.manage import start, create_command_line, kill_all_now\n",
    "import veneer"
   ]
  },
  {
   "cell_type": "code",
   "execution_count": 3,
   "id": "06d56465",
   "metadata": {},
   "outputs": [
    {
     "data": {
      "text/plain": [
       "WindowsPath('C:/tempveneer/veneer_cmd/FlowMatters.Source.VeneerCmd.exe')"
      ]
     },
     "execution_count": 3,
     "metadata": {},
     "output_type": "execute_result"
    }
   ],
   "source": [
    "veneer_install = r'C:\\PythonScriptingForGBR\\Veneer\\FlowMatters.Source.VeneerCmd\\bin\\v450'\n",
    "source_version = '4.5.0'\n",
    "#By specifying source_path I can use my local Source compilation/code, using source_version above uses tyhe sinatlled version\n",
    "#source_pathstr = 'D:/SourceSource/Output'\n",
    "source_pathstr = r'C:\\Program Files\\eWater\\Source 4.5.0.7552'\n",
    "cmd_directory = r'C:\\tempveneer\\veneer_cmd'\n",
    "#dest = 'C:\\\\tempveneer\\\\veneer_cmd'\n",
    "#path = create_command_line(veneer_install,source_version,dest=cmd_directory)\n",
    "path = create_command_line(veneer_install,source_version=None,source_path=source_pathstr,dest=cmd_directory)\n",
    "path"
   ]
  },
  {
   "cell_type": "code",
   "execution_count": 4,
   "id": "a9e2a942",
   "metadata": {},
   "outputs": [],
   "source": [
    "catchment_project=r'E:\\ClimateExtensions\\FI_RC10_BASE_Hydro_extendednetCDF_Oct2019_Unplugged.rsproj'\n",
    "#catchment_project='C:/Users/bennettf/OneDrive/python_stuff/Jupyter_Notebooks/veneer/doc/training/ExampleProject/CalibrationExample.rsproj'\n",
    "num_copies=1    # Important - set this to be a number ~ the number of CPU cores in your system!\n",
    "first_port=9950"
   ]
  },
  {
   "cell_type": "code",
   "execution_count": 5,
   "id": "4e0a9963",
   "metadata": {},
   "outputs": [
    {
     "name": "stdout",
     "output_type": "stream",
     "text": [
      "Starting C:\\tempveneer\\veneer_cmd\\FlowMatters.Source.VeneerCmd.exe -p 9950 -s  \"E:\\ClimateExtensions\\FI_RC10_BASE_Hydro_extendednetCDF_Oct2019_Unplugged.rsproj\"\n",
      "[0] Loading plugins\n",
      "\n",
      "[0] Loaded .\\.\\DERMTools.dll\n",
      "\n",
      "[0] Loaded .\\.\\FlowMatters.Source.Veneer.dll\n",
      "\n",
      "[0] Loaded .\\Plugins\\ImportClimateFilesUsingName.dll\n",
      "\n",
      "[0] Loaded .\\.\\RRModelInputExporter.dll\n",
      "\n",
      "[0] Plugins loaded (4/4)\n",
      "\n",
      "[0] Opening project file: E:\\ClimateExtensions\\FI_RC10_BASE_Hydro_extendednetCDF_Oct2019_Unplugged.rsproj\n",
      "\n",
      "ERROR[0] log4net:ERROR Failed to find configuration section 'log4net' in the application's .config file. Check your .config file for the <log4net> and <configSections> elements. The configuration section should look like: <section name=\"log4net\" type=\"log4net.Config.Log4NetConfigurationSectionHandler,log4net\" />\n",
      "\n",
      "[0] Loading project\n",
      "\n",
      "[0] Project Loaded\n",
      "\n",
      "[0] Fitzroy RC2018\n",
      "\n",
      "[0] FI RC2018\n",
      "\n",
      "[0] [2:35:05 PM] Veneer, by Flow Matters: http://www.flowmatters.com.au\n",
      "\n",
      "[0] [2:35:05 PM] Started Source RESTful Service on port:9950\n",
      "\n",
      "Server 0 on port 9950 is ready\n",
      "[0] Server started. Ctrl-C to exit, or POST /shutdown command\n",
      "\n"
     ]
    }
   ],
   "source": [
    "#Now, open the project\n",
    "processes,ports = start(catchment_project,\n",
    "                        n_instances=num_copies,\n",
    "                        ports=first_port,\n",
    "                        debug=True,\n",
    "                        veneer_exe=path,\n",
    "                        remote=False )"
   ]
  },
  {
   "cell_type": "code",
   "execution_count": 6,
   "id": "3c46aa84",
   "metadata": {},
   "outputs": [],
   "source": [
    "vs = [veneer.Veneer(port=p) for p in ports]\n",
    "v = vs[0]"
   ]
  },
  {
   "cell_type": "code",
   "execution_count": 7,
   "id": "e76e0c9b",
   "metadata": {},
   "outputs": [
    {
     "name": "stdout",
     "output_type": "stream",
     "text": [
      "1/01/1970 12:00:00 AM\n",
      "22/11/2019 12:00:00 AM\n"
     ]
    }
   ],
   "source": [
    "\n",
    "sDate = v.model.get('scenario.CurrentConfiguration.StartDate')\n",
    "print(sDate)\n",
    "\n",
    "eDate = v.model.get('scenario.CurrentConfiguration.EndDate')\n",
    "print(eDate)"
   ]
  },
  {
   "cell_type": "code",
   "execution_count": 10,
   "id": "95b56c7e",
   "metadata": {},
   "outputs": [
    {
     "data": {
      "text/plain": [
       "(200, None)"
      ]
     },
     "execution_count": 10,
     "metadata": {},
     "output_type": "execute_result"
    }
   ],
   "source": [
    "#v.configure_recording(disable=[{}],enable=[{'RecordingVariable':'Downstream Flow Volume'}])\n",
    "\n",
    "g129001Arecorder = {'NetworkElement': 'GS129001A', 'RecordingVariable': 'Downstream Flow Volume'}\n",
    "g132001Arecorder = {'NetworkElement': 'GS132001A', 'RecordingVariable': 'Downstream Flow Volume'}\n",
    "g132002Arecorder = {'NetworkElement': 'GS132002A', 'RecordingVariable': 'Downstream Flow Volume'}\n",
    "g133001ABrecorder = {'NetworkElement': 'GS133001B', 'RecordingVariable': 'Downstream Flow Volume'}\n",
    "g133003Arecorder = {'NetworkElement': 'GS133003A', 'RecordingVariable': 'Downstream Flow Volume'}\n",
    "g133004Arecorder = {'NetworkElement': 'GS133004A', 'RecordingVariable': 'Downstream Flow Volume'}\n",
    "g130003ABrecorder = {'NetworkElement': 'GS130003B', 'RecordingVariable': 'Downstream Flow Volume'}\n",
    "g130004Arecorder = {'NetworkElement': 'GS130004A', 'RecordingVariable': 'Downstream Flow Volume'}\n",
    "g130005Arecorder = {'NetworkElement': 'GS130005A', 'RecordingVariable': 'Downstream Flow Volume'}\n",
    "g130008Arecorder = {'NetworkElement': 'GS130008A', 'RecordingVariable': 'Downstream Flow Volume'}\n",
    "g130009Arecorder = {'NetworkElement': 'GS130009A', 'RecordingVariable': 'Downstream Flow Volume'}\n",
    "g130302Arecorder = {'NetworkElement': 'GS130302A', 'RecordingVariable': 'Downstream Flow Volume'}\n",
    "g130305Arecorder = {'NetworkElement': 'GS130305A', 'RecordingVariable': 'Downstream Flow Volume'}\n",
    "g130306ABrecorder = {'NetworkElement': 'GS130306B', 'RecordingVariable': 'Downstream Flow Volume'}\n",
    "g130313Arecorder = {'NetworkElement': 'GS130313A', 'RecordingVariable': 'Downstream Flow Volume'}\n",
    "g130315ACrecorder = {'NetworkElement': 'GS130315AC', 'RecordingVariable': 'Downstream Flow Volume'}\n",
    "g130316Arecorder = {'NetworkElement': 'GS130316A', 'RecordingVariable': 'Downstream Flow Volume'}\n",
    "g130317ABrecorder = {'NetworkElement': 'GS130317B', 'RecordingVariable': 'Downstream Flow Volume'}\n",
    "g130322Arecorder = {'NetworkElement': 'GS130322A', 'RecordingVariable': 'Downstream Flow Volume'}\n",
    "g130324Arecorder = {'NetworkElement': 'GS130324A', 'RecordingVariable': 'Downstream Flow Volume'}\n",
    "g130327Arecorder = {'NetworkElement': 'GS130327A', 'RecordingVariable': 'Downstream Flow Volume'}\n",
    "g130344Arecorder = {'NetworkElement': 'GS130344A', 'RecordingVariable': 'Downstream Flow Volume'}\n",
    "g130349Arecorder = {'NetworkElement': 'GS130349A', 'RecordingVariable': 'Downstream Flow Volume'}\n",
    "g130103Arecorder = {'NetworkElement': 'GS130103A', 'RecordingVariable': 'Downstream Flow Volume'}\n",
    "g130104Arecorder = {'NetworkElement': 'GS130104A', 'RecordingVariable': 'Downstream Flow Volume'}\n",
    "g130105Arecorder = {'NetworkElement': 'GS130105A', 'RecordingVariable': 'Downstream Flow Volume'}\n",
    "g130106Arecorder = {'NetworkElement': 'GS130106A', 'RecordingVariable': 'Downstream Flow Volume'}\n",
    "g130108ABrecorder = {'NetworkElement': 'GS130108B', 'RecordingVariable': 'Downstream Flow Volume'}\n",
    "g130109Arecorder = {'NetworkElement': 'GS130109A', 'RecordingVariable': 'Downstream Flow Volume'}\n",
    "g130504ABrecorder = {'NetworkElement': 'GS130504B', 'RecordingVariable': 'Downstream Flow Volume'}\n",
    "g130506Arecorder = {'NetworkElement': 'GS130506A', 'RecordingVariable': 'Downstream Flow Volume'}\n",
    "g130507Arecorder = {'NetworkElement': 'GS130507A', 'RecordingVariable': 'Downstream Flow Volume'}\n",
    "g130509Arecorder = {'NetworkElement': 'GS130509A', 'RecordingVariable': 'Downstream Flow Volume'}\n",
    "g130202ABrecorder = {'NetworkElement': 'GS130202B', 'RecordingVariable': 'Downstream Flow Volume'}\n",
    "g130206Arecorder = {'NetworkElement': 'GS130206A', 'RecordingVariable': 'Downstream Flow Volume'}\n",
    "g130207Arecorder = {'NetworkElement': 'GS130207A', 'RecordingVariable': 'Downstream Flow Volume'}\n",
    "g130208Arecorder = {'NetworkElement': 'GS130208A', 'RecordingVariable': 'Downstream Flow Volume'}\n",
    "g130209Arecorder = {'NetworkElement': 'GS130209A', 'RecordingVariable': 'Downstream Flow Volume'}\n",
    "g130210Arecorder = {'NetworkElement': 'GS130210A', 'RecordingVariable': 'Downstream Flow Volume'}\n",
    "g130219Arecorder = {'NetworkElement': 'GS130219A', 'RecordingVariable': 'Downstream Flow Volume'}\n",
    "g130401Arecorder = {'NetworkElement': 'GS130401A', 'RecordingVariable': 'Downstream Flow Volume'}\n",
    "g130403Arecorder = {'NetworkElement': 'GS130403A', 'RecordingVariable': 'Downstream Flow Volume'}\n",
    "g130404Arecorder = {'NetworkElement': 'GS130404A', 'RecordingVariable': 'Downstream Flow Volume'}\n",
    "g130406Arecorder = {'NetworkElement': 'GS130406A', 'RecordingVariable': 'Downstream Flow Volume'}\n",
    "g130407Arecorder = {'NetworkElement': 'GS130407A', 'RecordingVariable': 'Downstream Flow Volume'}\n",
    "g130410Arecorder = {'NetworkElement': 'GS130410A', 'RecordingVariable': 'Downstream Flow Volume'}\n",
    "g130413Arecorder = {'NetworkElement': 'GS130413A', 'RecordingVariable': 'Downstream Flow Volume'}\n",
    "g130414Arecorder = {'NetworkElement': 'GS130414A', 'RecordingVariable': 'Downstream Flow Volume'}\n",
    "\n",
    "## Enables the recorders you've specified above and disables everything else to speed up model run\n",
    "v.configure_recording(disable=[{}], enable=[g129001Arecorder,g132001Arecorder,g132002Arecorder,g133001ABrecorder\n",
    "                                            ,g133003Arecorder,g133004Arecorder,g130003ABrecorder,g130004Arecorder\n",
    "                                            ,g130005Arecorder,g130008Arecorder,g130009Arecorder,g130302Arecorder\n",
    "                                            ,g130305Arecorder,g130306ABrecorder,g130313Arecorder,g130315ACrecorder\n",
    "                                            ,g130316Arecorder,g130317ABrecorder,g130322Arecorder,g130324Arecorder\n",
    "                                            ,g130327Arecorder,g130344Arecorder,g130349Arecorder,g130103Arecorder\n",
    "                                            ,g130104Arecorder,g130105Arecorder,g130106Arecorder,g130108ABrecorder\n",
    "                                            ,g130109Arecorder,g130504ABrecorder,g130506Arecorder,g130507Arecorder\n",
    "                                            ,g130509Arecorder,g130202ABrecorder,g130206Arecorder,g130207Arecorder\n",
    "                                            ,g130208Arecorder,g130209Arecorder,g130210Arecorder,g130219Arecorder\n",
    "                                            ,g130401Arecorder,g130403Arecorder,g130404Arecorder,g130406Arecorder\n",
    "                                            ,g130407Arecorder,g130410Arecorder,g130413Arecorder,g130414Arecorder])\n",
    "\n"
   ]
  },
  {
   "cell_type": "code",
   "execution_count": 11,
   "id": "3982a5f0",
   "metadata": {},
   "outputs": [
    {
     "data": {
      "text/plain": [
       "(302, 'runs/1')"
      ]
     },
     "execution_count": 11,
     "metadata": {},
     "output_type": "execute_result"
    }
   ],
   "source": [
    "## Model run date incl. warm-up period\n",
    "run_start_date = '01/01/1980'\n",
    "run_end_date = '30/06/2019'\n",
    "\n",
    "v.drop_all_runs()\n",
    "\n",
    "v.run_model(start=run_start_date,end=run_end_date)"
   ]
  },
  {
   "cell_type": "code",
   "execution_count": 12,
   "id": "8a0a4e52",
   "metadata": {},
   "outputs": [
    {
     "name": "stderr",
     "output_type": "stream",
     "text": [
      "C:\\ProgramData\\Anaconda3\\lib\\site-packages\\veneer\\general.py:882: FutureWarning: The pandas.datetime class is deprecated and will be removed from pandas in a future version. Import from datetime module instead.\n",
      "  return pd.datetime.strptime(txt, '%m/%d/%Y %H:%M:%S')\n"
     ]
    }
   ],
   "source": [
    "allFlow = v.retrieve_multiple_time_series()\n",
    "allFlow.to_csv(r'E:\\ClimateExtensions\\FIFlowStdStructure.csv', index=True)"
   ]
  },
  {
   "cell_type": "code",
   "execution_count": 13,
   "id": "357ce3f7",
   "metadata": {},
   "outputs": [],
   "source": [
    "kill_all_now(processes)"
   ]
  },
  {
   "cell_type": "code",
   "execution_count": 14,
   "id": "1151cdeb",
   "metadata": {},
   "outputs": [],
   "source": [
    "catchment_project=r'E:\\ClimateExtensions\\FI_RC10_BASE_Hydro_extendednetCDF_Oct2019_Unplugged_MonthlyDemand.rsproj'\n",
    "#catchment_project='C:/Users/bennettf/OneDrive/python_stuff/Jupyter_Notebooks/veneer/doc/training/ExampleProject/CalibrationExample.rsproj'\n",
    "num_copies=1    # Important - set this to be a number ~ the number of CPU cores in your system!\n",
    "first_port=9950"
   ]
  },
  {
   "cell_type": "code",
   "execution_count": 15,
   "id": "7393ce5f",
   "metadata": {},
   "outputs": [
    {
     "name": "stdout",
     "output_type": "stream",
     "text": [
      "Starting C:\\tempveneer\\veneer_cmd\\FlowMatters.Source.VeneerCmd.exe -p 9950 -s  \"E:\\ClimateExtensions\\FI_RC10_BASE_Hydro_extendednetCDF_Oct2019_Unplugged_MonthlyDemand.rsproj\"\n",
      "[0] Loading plugins\n",
      "\n",
      "[0] Loaded .\\.\\DERMTools.dll\n",
      "\n",
      "[0] Loaded .\\.\\FlowMatters.Source.Veneer.dll\n",
      "\n",
      "[0] Loaded .\\Plugins\\ImportClimateFilesUsingName.dll\n",
      "\n",
      "[0] Loaded .\\.\\RRModelInputExporter.dll\n",
      "\n",
      "[0] Plugins loaded (4/4)\n",
      "\n",
      "[0] Opening project file: E:\\ClimateExtensions\\FI_RC10_BASE_Hydro_extendednetCDF_Oct2019_Unplugged_MonthlyDemand.rsproj\n",
      "\n",
      "ERROR[0] log4net:ERROR Failed to find configuration section 'log4net' in the application's .config file. Check your .config file for the <log4net> and <configSections> elements. The configuration section should look like: <section name=\"log4net\" type=\"log4net.Config.Log4NetConfigurationSectionHandler,log4net\" />\n",
      "\n",
      "[0] Loading project\n",
      "\n",
      "[0] Project Loaded\n",
      "\n",
      "[0] Fitzroy RC2018\n",
      "\n",
      "[0] FI RC2018\n",
      "\n",
      "[0] [3:04:41 PM] Veneer, by Flow Matters: http://www.flowmatters.com.au\n",
      "\n",
      "[0] [3:04:41 PM] Started Source RESTful Service on port:9950\n",
      "\n",
      "Server 0 on port 9950 is ready\n",
      "[0] Server started. Ctrl-C to exit, or POST /shutdown command\n",
      "\n"
     ]
    }
   ],
   "source": [
    "#Now, open the project\n",
    "processes,ports = start(catchment_project,\n",
    "                        n_instances=num_copies,\n",
    "                        ports=first_port,\n",
    "                        debug=True,\n",
    "                        veneer_exe=path,\n",
    "                        remote=False )"
   ]
  },
  {
   "cell_type": "code",
   "execution_count": 16,
   "id": "7575adec",
   "metadata": {},
   "outputs": [],
   "source": [
    "vs = [veneer.Veneer(port=p) for p in ports]\n",
    "v = vs[0]"
   ]
  },
  {
   "cell_type": "code",
   "execution_count": 17,
   "id": "60bf52a7",
   "metadata": {},
   "outputs": [
    {
     "data": {
      "text/plain": [
       "(200, None)"
      ]
     },
     "execution_count": 17,
     "metadata": {},
     "output_type": "execute_result"
    }
   ],
   "source": [
    "g129001Arecorder = {'NetworkElement': 'GS129001A', 'RecordingVariable': 'Downstream Flow Volume'}\n",
    "g132001Arecorder = {'NetworkElement': 'GS132001A', 'RecordingVariable': 'Downstream Flow Volume'}\n",
    "g132002Arecorder = {'NetworkElement': 'GS132002A', 'RecordingVariable': 'Downstream Flow Volume'}\n",
    "g133001ABrecorder = {'NetworkElement': 'GS133001B', 'RecordingVariable': 'Downstream Flow Volume'}\n",
    "g133003Arecorder = {'NetworkElement': 'GS133003A', 'RecordingVariable': 'Downstream Flow Volume'}\n",
    "g133004Arecorder = {'NetworkElement': 'GS133004A', 'RecordingVariable': 'Downstream Flow Volume'}\n",
    "g130003ABrecorder = {'NetworkElement': 'GS130003B', 'RecordingVariable': 'Downstream Flow Volume'}\n",
    "g130004Arecorder = {'NetworkElement': 'GS130004A', 'RecordingVariable': 'Downstream Flow Volume'}\n",
    "g130005Arecorder = {'NetworkElement': 'GS130005A', 'RecordingVariable': 'Downstream Flow Volume'}\n",
    "g130008Arecorder = {'NetworkElement': 'GS130008A', 'RecordingVariable': 'Downstream Flow Volume'}\n",
    "g130009Arecorder = {'NetworkElement': 'GS130009A', 'RecordingVariable': 'Downstream Flow Volume'}\n",
    "g130302Arecorder = {'NetworkElement': 'GS130302A', 'RecordingVariable': 'Downstream Flow Volume'}\n",
    "g130305Arecorder = {'NetworkElement': 'GS130305A', 'RecordingVariable': 'Downstream Flow Volume'}\n",
    "g130306ABrecorder = {'NetworkElement': 'GS130306B', 'RecordingVariable': 'Downstream Flow Volume'}\n",
    "g130313Arecorder = {'NetworkElement': 'GS130313A', 'RecordingVariable': 'Downstream Flow Volume'}\n",
    "g130315ACrecorder = {'NetworkElement': 'GS130315AC', 'RecordingVariable': 'Downstream Flow Volume'}\n",
    "g130316Arecorder = {'NetworkElement': 'GS130316A', 'RecordingVariable': 'Downstream Flow Volume'}\n",
    "g130317ABrecorder = {'NetworkElement': 'GS130317B', 'RecordingVariable': 'Downstream Flow Volume'}\n",
    "g130322Arecorder = {'NetworkElement': 'GS130322A', 'RecordingVariable': 'Downstream Flow Volume'}\n",
    "g130324Arecorder = {'NetworkElement': 'GS130324A', 'RecordingVariable': 'Downstream Flow Volume'}\n",
    "g130327Arecorder = {'NetworkElement': 'GS130327A', 'RecordingVariable': 'Downstream Flow Volume'}\n",
    "g130344Arecorder = {'NetworkElement': 'GS130344A', 'RecordingVariable': 'Downstream Flow Volume'}\n",
    "g130349Arecorder = {'NetworkElement': 'GS130349A', 'RecordingVariable': 'Downstream Flow Volume'}\n",
    "g130103Arecorder = {'NetworkElement': 'GS130103A', 'RecordingVariable': 'Downstream Flow Volume'}\n",
    "g130104Arecorder = {'NetworkElement': 'GS130104A', 'RecordingVariable': 'Downstream Flow Volume'}\n",
    "g130105Arecorder = {'NetworkElement': 'GS130105A', 'RecordingVariable': 'Downstream Flow Volume'}\n",
    "g130106Arecorder = {'NetworkElement': 'GS130106A', 'RecordingVariable': 'Downstream Flow Volume'}\n",
    "g130108ABrecorder = {'NetworkElement': 'GS130108B', 'RecordingVariable': 'Downstream Flow Volume'}\n",
    "g130109Arecorder = {'NetworkElement': 'GS130109A', 'RecordingVariable': 'Downstream Flow Volume'}\n",
    "g130504ABrecorder = {'NetworkElement': 'GS130504B', 'RecordingVariable': 'Downstream Flow Volume'}\n",
    "g130506Arecorder = {'NetworkElement': 'GS130506A', 'RecordingVariable': 'Downstream Flow Volume'}\n",
    "g130507Arecorder = {'NetworkElement': 'GS130507A', 'RecordingVariable': 'Downstream Flow Volume'}\n",
    "g130509Arecorder = {'NetworkElement': 'GS130509A', 'RecordingVariable': 'Downstream Flow Volume'}\n",
    "g130202ABrecorder = {'NetworkElement': 'GS130202B', 'RecordingVariable': 'Downstream Flow Volume'}\n",
    "g130206Arecorder = {'NetworkElement': 'GS130206A', 'RecordingVariable': 'Downstream Flow Volume'}\n",
    "g130207Arecorder = {'NetworkElement': 'GS130207A', 'RecordingVariable': 'Downstream Flow Volume'}\n",
    "g130208Arecorder = {'NetworkElement': 'GS130208A', 'RecordingVariable': 'Downstream Flow Volume'}\n",
    "g130209Arecorder = {'NetworkElement': 'GS130209A', 'RecordingVariable': 'Downstream Flow Volume'}\n",
    "g130210Arecorder = {'NetworkElement': 'GS130210A', 'RecordingVariable': 'Downstream Flow Volume'}\n",
    "g130219Arecorder = {'NetworkElement': 'GS130219A', 'RecordingVariable': 'Downstream Flow Volume'}\n",
    "g130401Arecorder = {'NetworkElement': 'GS130401A', 'RecordingVariable': 'Downstream Flow Volume'}\n",
    "g130403Arecorder = {'NetworkElement': 'GS130403A', 'RecordingVariable': 'Downstream Flow Volume'}\n",
    "g130404Arecorder = {'NetworkElement': 'GS130404A', 'RecordingVariable': 'Downstream Flow Volume'}\n",
    "g130406Arecorder = {'NetworkElement': 'GS130406A', 'RecordingVariable': 'Downstream Flow Volume'}\n",
    "g130407Arecorder = {'NetworkElement': 'GS130407A', 'RecordingVariable': 'Downstream Flow Volume'}\n",
    "g130410Arecorder = {'NetworkElement': 'GS130410A', 'RecordingVariable': 'Downstream Flow Volume'}\n",
    "g130413Arecorder = {'NetworkElement': 'GS130413A', 'RecordingVariable': 'Downstream Flow Volume'}\n",
    "g130414Arecorder = {'NetworkElement': 'GS130414A', 'RecordingVariable': 'Downstream Flow Volume'}\n",
    "\n",
    "## Enables the recorders you've specified above and disables everything else to speed up model run\n",
    "v.configure_recording(disable=[{}], enable=[g129001Arecorder,g132001Arecorder,g132002Arecorder,g133001ABrecorder\n",
    "                                            ,g133003Arecorder,g133004Arecorder,g130003ABrecorder,g130004Arecorder\n",
    "                                            ,g130005Arecorder,g130008Arecorder,g130009Arecorder,g130302Arecorder\n",
    "                                            ,g130305Arecorder,g130306ABrecorder,g130313Arecorder,g130315ACrecorder\n",
    "                                            ,g130316Arecorder,g130317ABrecorder,g130322Arecorder,g130324Arecorder\n",
    "                                            ,g130327Arecorder,g130344Arecorder,g130349Arecorder,g130103Arecorder\n",
    "                                            ,g130104Arecorder,g130105Arecorder,g130106Arecorder,g130108ABrecorder\n",
    "                                            ,g130109Arecorder,g130504ABrecorder,g130506Arecorder,g130507Arecorder\n",
    "                                            ,g130509Arecorder,g130202ABrecorder,g130206Arecorder,g130207Arecorder\n",
    "                                            ,g130208Arecorder,g130209Arecorder,g130210Arecorder,g130219Arecorder\n",
    "                                            ,g130401Arecorder,g130403Arecorder,g130404Arecorder,g130406Arecorder\n",
    "                                            ,g130407Arecorder,g130410Arecorder,g130413Arecorder,g130414Arecorder])\n",
    "\n"
   ]
  },
  {
   "cell_type": "code",
   "execution_count": 18,
   "id": "47b00973",
   "metadata": {},
   "outputs": [
    {
     "data": {
      "text/plain": [
       "(302, 'runs/1')"
      ]
     },
     "execution_count": 18,
     "metadata": {},
     "output_type": "execute_result"
    }
   ],
   "source": [
    "## Model run date incl. warm-up period\n",
    "run_start_date = '01/01/1980'\n",
    "run_end_date = '30/06/2019'\n",
    "\n",
    "v.drop_all_runs()\n",
    "\n",
    "v.run_model(start=run_start_date,end=run_end_date)"
   ]
  },
  {
   "cell_type": "code",
   "execution_count": 19,
   "id": "26d8df89",
   "metadata": {},
   "outputs": [],
   "source": [
    "allFlow = v.retrieve_multiple_time_series()\n",
    "allFlow.to_csv(r'E:\\ClimateExtensions\\FIFlowMonthlyStructure.csv', index=True)"
   ]
  },
  {
   "cell_type": "code",
   "execution_count": 20,
   "id": "263d74bc",
   "metadata": {},
   "outputs": [],
   "source": [
    "kill_all_now(processes)"
   ]
  },
  {
   "cell_type": "code",
   "execution_count": null,
   "id": "3585a475",
   "metadata": {},
   "outputs": [],
   "source": []
  }
 ],
 "metadata": {
  "kernelspec": {
   "display_name": "Python 3 (ipykernel)",
   "language": "python",
   "name": "python3"
  },
  "language_info": {
   "codemirror_mode": {
    "name": "ipython",
    "version": 3
   },
   "file_extension": ".py",
   "mimetype": "text/x-python",
   "name": "python",
   "nbconvert_exporter": "python",
   "pygments_lexer": "ipython3",
   "version": "3.7.3"
  }
 },
 "nbformat": 4,
 "nbformat_minor": 5
}
