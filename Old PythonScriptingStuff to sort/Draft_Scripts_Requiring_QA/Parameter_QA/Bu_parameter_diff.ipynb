{
 "cells": [
  {
   "cell_type": "code",
   "execution_count": 12,
   "metadata": {
    "collapsed": false
   },
   "outputs": [
    {
     "name": "stdout",
     "output_type": "stream",
     "text": [
      "Populating the interactive namespace from numpy and matplotlib\n"
     ]
    }
   ],
   "source": [
    "# Some steps required until these Python modules are properly installed...\n",
    "import sys\n",
    "sys.path.append('../../../Modules')\n",
    "sys.path.append('../../../../veneer-py')\n",
    "# Get the Source scripting components (veneer) and GBR specific stuff\n",
    "import gbr\n",
    "import fiona\n",
    "%pylab inline\n",
    "import pandas as pd\n",
    "import geopandas as gpd\n",
    "import numpy as py\n",
    "# display more then one result below cell\n",
    "from IPython.display import display"
   ]
  },
  {
   "cell_type": "code",
   "execution_count": 13,
   "metadata": {
    "collapsed": false
   },
   "outputs": [
    {
     "data": {
      "text/html": [
       "<style>\n",
       "body {\n",
       "    margin: 0;\n",
       "    font-family: Helvetica;\n",
       "}\n",
       "table.dataframe {\n",
       "    border-collapse: collapse;\n",
       "    border: none;\n",
       "}\n",
       "table.dataframe tr {\n",
       "    border: none;\n",
       "}\n",
       "table.dataframe td, table.dataframe th {\n",
       "    margin: 0;\n",
       "    border: 1px solid white;\n",
       "    padding-left: 0.25em;\n",
       "    padding-right: 0.25em;\n",
       "}\n",
       "table.dataframe th:not(:empty) {\n",
       "    background-color: #fec;\n",
       "    text-align: left;\n",
       "    font-weight: normal;\n",
       "}\n",
       "table.dataframe tr:nth-child(2) th:empty {\n",
       "    border-left: none;\n",
       "    border-right: 1px dashed #888;\n",
       "}\n",
       "table.dataframe td {\n",
       "    border: 2px solid #ccf;\n",
       "    background-color: #f4f4ff;\n",
       "}\n",
       "</style>"
      ],
      "text/plain": [
       "<IPython.core.display.HTML object>"
      ]
     },
     "execution_count": 13,
     "metadata": {},
     "output_type": "execute_result"
    }
   ],
   "source": [
    "# makes the tables a bit more readable\n",
    "CSS = \"\"\"\n",
    "body {\n",
    "    margin: 0;\n",
    "    font-family: Helvetica;\n",
    "}\n",
    "table.dataframe {\n",
    "    border-collapse: collapse;\n",
    "    border: none;\n",
    "}\n",
    "table.dataframe tr {\n",
    "    border: none;\n",
    "}\n",
    "table.dataframe td, table.dataframe th {\n",
    "    margin: 0;\n",
    "    border: 1px solid white;\n",
    "    padding-left: 0.25em;\n",
    "    padding-right: 0.25em;\n",
    "}\n",
    "table.dataframe th:not(:empty) {\n",
    "    background-color: #fec;\n",
    "    text-align: left;\n",
    "    font-weight: normal;\n",
    "}\n",
    "table.dataframe tr:nth-child(2) th:empty {\n",
    "    border-left: none;\n",
    "    border-right: 1px dashed #888;\n",
    "}\n",
    "table.dataframe td {\n",
    "    border: 2px solid #ccf;\n",
    "    background-color: #f4f4ff;\n",
    "}\n",
    "\"\"\"\n",
    "from IPython.core.display import HTML\n",
    "HTML('<style>{}</style>'.format(CSS))"
   ]
  },
  {
   "cell_type": "code",
   "execution_count": 14,
   "metadata": {
    "collapsed": false
   },
   "outputs": [
    {
     "name": "stderr",
     "output_type": "stream",
     "text": [
      "b'Skipping line 63642: expected 7 fields, saw 8\\n'\n",
      "b'Skipping line 231401: expected 7 fields, saw 8\\n'\n",
      "b'Skipping line 1475880: expected 7 fields, saw 8\\nSkipping line 1476799: expected 7 fields, saw 8\\nSkipping line 1477718: expected 7 fields, saw 8\\n'\n"
     ]
    },
    {
     "data": {
      "text/html": [
       "<div>\n",
       "<table border=\"1\" class=\"dataframe\">\n",
       "  <thead>\n",
       "    <tr style=\"text-align: right;\">\n",
       "      <th></th>\n",
       "      <th>CATCHMENT</th>\n",
       "      <th>LINK</th>\n",
       "      <th>ELEMENT</th>\n",
       "      <th>CONSTITUENT</th>\n",
       "      <th>MODEL</th>\n",
       "      <th>PARAMETER</th>\n",
       "      <th>VALUE</th>\n",
       "      <th>version</th>\n",
       "    </tr>\n",
       "  </thead>\n",
       "  <tbody>\n",
       "    <tr>\n",
       "      <th>0</th>\n",
       "      <td>SC #1608</td>\n",
       "      <td>link for catchment SC #1608</td>\n",
       "      <td>Water</td>\n",
       "      <td>Sediment - Fine</td>\n",
       "      <td>Sediment Generation (EMC &amp; Gully) - SedNet</td>\n",
       "      <td>fineEMCmodel</td>\n",
       "      <td>RiverSystem.Catchments.Models.ContaminantGener...</td>\n",
       "      <td>cl</td>\n",
       "    </tr>\n",
       "  </tbody>\n",
       "</table>\n",
       "</div>"
      ],
      "text/plain": [
       "  CATCHMENT                         LINK ELEMENT      CONSTITUENT  \\\n",
       "0  SC #1608  link for catchment SC #1608   Water  Sediment - Fine   \n",
       "\n",
       "                                        MODEL     PARAMETER  \\\n",
       "0  Sediment Generation (EMC & Gully) - SedNet  fineEMCmodel   \n",
       "\n",
       "                                               VALUE version  \n",
       "0  RiverSystem.Catchments.Models.ContaminantGener...      cl  "
      ]
     },
     "metadata": {},
     "output_type": "display_data"
    },
    {
     "data": {
      "text/plain": [
       "1477775"
      ]
     },
     "metadata": {},
     "output_type": "display_data"
    },
    {
     "data": {
      "text/html": [
       "<div>\n",
       "<table border=\"1\" class=\"dataframe\">\n",
       "  <thead>\n",
       "    <tr style=\"text-align: right;\">\n",
       "      <th></th>\n",
       "      <th>CATCHMENT</th>\n",
       "      <th>LINK</th>\n",
       "      <th>ELEMENT</th>\n",
       "      <th>CONSTITUENT</th>\n",
       "      <th>MODEL</th>\n",
       "      <th>PARAMETER</th>\n",
       "      <th>VALUE</th>\n",
       "      <th>version</th>\n",
       "    </tr>\n",
       "  </thead>\n",
       "  <tbody>\n",
       "    <tr>\n",
       "      <th>0</th>\n",
       "      <td>SC #1608</td>\n",
       "      <td>link for catchment SC #1608</td>\n",
       "      <td>Water</td>\n",
       "      <td>Sediment - Fine</td>\n",
       "      <td>Sediment Generation (EMC &amp; Gully) - SedNet</td>\n",
       "      <td>fineEMCmodel</td>\n",
       "      <td>RiverSystem.Catchments.Models.ContaminantGener...</td>\n",
       "      <td>ac</td>\n",
       "    </tr>\n",
       "  </tbody>\n",
       "</table>\n",
       "</div>"
      ],
      "text/plain": [
       "  CATCHMENT                         LINK ELEMENT      CONSTITUENT  \\\n",
       "0  SC #1608  link for catchment SC #1608   Water  Sediment - Fine   \n",
       "\n",
       "                                        MODEL     PARAMETER  \\\n",
       "0  Sediment Generation (EMC & Gully) - SedNet  fineEMCmodel   \n",
       "\n",
       "                                               VALUE version  \n",
       "0  RiverSystem.Catchments.Models.ContaminantGener...      ac  "
      ]
     },
     "metadata": {},
     "output_type": "display_data"
    },
    {
     "data": {
      "text/plain": [
       "1477770"
      ]
     },
     "metadata": {},
     "output_type": "display_data"
    }
   ],
   "source": [
    "# Read in the Current load and all change paramters files and create new columns to track version\n",
    "cl = pd.read_csv(\"d:/a_sc_p2r_b_rc7/Model_runs/BD_1/Runs/a_scen_reader/RC7/cc/ParameterTable.csv\", error_bad_lines=False)\n",
    "ac = pd.read_csv(\"d:/a_sc_p2r_b_rc7/Model_runs/BD_1/Runs/a_scen_reader/RC7/all_change/ParameterTable.csv\", error_bad_lines=False)\n",
    "cl['version'] = \"cl\"\n",
    "ac['version'] = \"ac\"\n",
    "# Display\n",
    "display (cl [0:1])\n",
    "display (len (cl))\n",
    "display (ac [0:1])\n",
    "display (len (ac))"
   ]
  },
  {
   "cell_type": "code",
   "execution_count": 15,
   "metadata": {
    "collapsed": false
   },
   "outputs": [
    {
     "data": {
      "text/html": [
       "<div>\n",
       "<table border=\"1\" class=\"dataframe\">\n",
       "  <thead>\n",
       "    <tr style=\"text-align: right;\">\n",
       "      <th></th>\n",
       "      <th>CATCHMENT</th>\n",
       "      <th>LINK</th>\n",
       "      <th>ELEMENT</th>\n",
       "      <th>CONSTITUENT</th>\n",
       "      <th>MODEL</th>\n",
       "      <th>PARAMETER</th>\n",
       "      <th>VALUE</th>\n",
       "      <th>version</th>\n",
       "    </tr>\n",
       "  </thead>\n",
       "  <tbody>\n",
       "    <tr>\n",
       "      <th>0</th>\n",
       "      <td>SC #1608</td>\n",
       "      <td>link for catchment SC #1608</td>\n",
       "      <td>Water</td>\n",
       "      <td>Sediment - Fine</td>\n",
       "      <td>Sediment Generation (EMC &amp; Gully) - SedNet</td>\n",
       "      <td>fineEMCmodel</td>\n",
       "      <td>RiverSystem.Catchments.Models.ContaminantGener...</td>\n",
       "      <td>cl</td>\n",
       "    </tr>\n",
       "  </tbody>\n",
       "</table>\n",
       "</div>"
      ],
      "text/plain": [
       "  CATCHMENT                         LINK ELEMENT      CONSTITUENT  \\\n",
       "0  SC #1608  link for catchment SC #1608   Water  Sediment - Fine   \n",
       "\n",
       "                                        MODEL     PARAMETER  \\\n",
       "0  Sediment Generation (EMC & Gully) - SedNet  fineEMCmodel   \n",
       "\n",
       "                                               VALUE version  \n",
       "0  RiverSystem.Catchments.Models.ContaminantGener...      cl  "
      ]
     },
     "metadata": {},
     "output_type": "display_data"
    },
    {
     "data": {
      "text/plain": [
       "2955545"
      ]
     },
     "metadata": {},
     "output_type": "display_data"
    }
   ],
   "source": [
    "#Join all the data together and ignore indexes so it all gets added\n",
    "full_set = pd.concat([cl,ac],ignore_index=True)\n",
    "display (full_set [0:1])\n",
    "display (len (full_set))"
   ]
  },
  {
   "cell_type": "code",
   "execution_count": 16,
   "metadata": {
    "collapsed": false
   },
   "outputs": [
    {
     "data": {
      "text/html": [
       "<div>\n",
       "<table border=\"1\" class=\"dataframe\">\n",
       "  <thead>\n",
       "    <tr style=\"text-align: right;\">\n",
       "      <th></th>\n",
       "      <th>CATCHMENT</th>\n",
       "      <th>LINK</th>\n",
       "      <th>ELEMENT</th>\n",
       "      <th>CONSTITUENT</th>\n",
       "      <th>MODEL</th>\n",
       "      <th>PARAMETER</th>\n",
       "      <th>VALUE</th>\n",
       "      <th>version</th>\n",
       "    </tr>\n",
       "  </thead>\n",
       "  <tbody>\n",
       "    <tr>\n",
       "      <th>5139</th>\n",
       "      <td>SC #1658</td>\n",
       "      <td>link for catchment SC #1658</td>\n",
       "      <td>link for catchment SC #1658</td>\n",
       "      <td>Sediment - Fine</td>\n",
       "      <td>In Stream Fine Sediment Model - SedNet</td>\n",
       "      <td>Bank Erosion Management Factor</td>\n",
       "      <td>0.908405731</td>\n",
       "      <td>cl</td>\n",
       "    </tr>\n",
       "  </tbody>\n",
       "</table>\n",
       "</div>"
      ],
      "text/plain": [
       "     CATCHMENT                         LINK                      ELEMENT  \\\n",
       "5139  SC #1658  link for catchment SC #1658  link for catchment SC #1658   \n",
       "\n",
       "          CONSTITUENT                                   MODEL  \\\n",
       "5139  Sediment - Fine  In Stream Fine Sediment Model - SedNet   \n",
       "\n",
       "                           PARAMETER        VALUE version  \n",
       "5139  Bank Erosion Management Factor  0.908405731      cl  "
      ]
     },
     "metadata": {},
     "output_type": "display_data"
    },
    {
     "data": {
      "text/plain": [
       "3497"
      ]
     },
     "metadata": {},
     "output_type": "display_data"
    }
   ],
   "source": [
    "# Let's see what changes in the main columns we care about\n",
    "changes = full_set.drop_duplicates(subset=['CATCHMENT','LINK','ELEMENT','CONSTITUENT','MODEL','PARAMETER','VALUE'], keep=False)\n",
    "display (changes [0:1])\n",
    "display (len (changes))"
   ]
  },
  {
   "cell_type": "code",
   "execution_count": 17,
   "metadata": {
    "collapsed": false
   },
   "outputs": [
    {
     "data": {
      "text/html": [
       "<div>\n",
       "<table border=\"1\" class=\"dataframe\">\n",
       "  <thead>\n",
       "    <tr style=\"text-align: right;\">\n",
       "      <th></th>\n",
       "      <th>CATCHMENT</th>\n",
       "      <th>LINK</th>\n",
       "      <th>ELEMENT</th>\n",
       "      <th>CONSTITUENT</th>\n",
       "      <th>MODEL</th>\n",
       "      <th>PARAMETER</th>\n",
       "      <th>VALUE</th>\n",
       "      <th>version</th>\n",
       "    </tr>\n",
       "  </thead>\n",
       "  <tbody>\n",
       "    <tr>\n",
       "      <th>5139</th>\n",
       "      <td>SC #1658</td>\n",
       "      <td>link for catchment SC #1658</td>\n",
       "      <td>link for catchment SC #1658</td>\n",
       "      <td>Sediment - Fine</td>\n",
       "      <td>In Stream Fine Sediment Model - SedNet</td>\n",
       "      <td>Bank Erosion Management Factor</td>\n",
       "      <td>0.908405731</td>\n",
       "      <td>cl</td>\n",
       "    </tr>\n",
       "    <tr>\n",
       "      <th>8579</th>\n",
       "      <td>SC #655</td>\n",
       "      <td>link for catchment SC #655</td>\n",
       "      <td>link for catchment SC #655</td>\n",
       "      <td>Sediment - Fine</td>\n",
       "      <td>In Stream Fine Sediment Model - SedNet</td>\n",
       "      <td>Bank Erosion Management Factor</td>\n",
       "      <td>0.957812755</td>\n",
       "      <td>cl</td>\n",
       "    </tr>\n",
       "  </tbody>\n",
       "</table>\n",
       "</div>"
      ],
      "text/plain": [
       "     CATCHMENT                         LINK                      ELEMENT  \\\n",
       "5139  SC #1658  link for catchment SC #1658  link for catchment SC #1658   \n",
       "8579   SC #655   link for catchment SC #655   link for catchment SC #655   \n",
       "\n",
       "          CONSTITUENT                                   MODEL  \\\n",
       "5139  Sediment - Fine  In Stream Fine Sediment Model - SedNet   \n",
       "8579  Sediment - Fine  In Stream Fine Sediment Model - SedNet   \n",
       "\n",
       "                           PARAMETER        VALUE version  \n",
       "5139  Bank Erosion Management Factor  0.908405731      cl  \n",
       "8579  Bank Erosion Management Factor  0.957812755      cl  "
      ]
     },
     "execution_count": 17,
     "metadata": {},
     "output_type": "execute_result"
    }
   ],
   "source": [
    "changes.sort_values(['CATCHMENT'], ascending=[True])\n",
    "changes [0:2]"
   ]
  },
  {
   "cell_type": "code",
   "execution_count": 18,
   "metadata": {
    "collapsed": false
   },
   "outputs": [
    {
     "data": {
      "text/html": [
       "<div>\n",
       "<table border=\"1\" class=\"dataframe\">\n",
       "  <thead>\n",
       "    <tr style=\"text-align: right;\">\n",
       "      <th></th>\n",
       "      <th>CATCHMENT</th>\n",
       "      <th>LINK</th>\n",
       "      <th>ELEMENT</th>\n",
       "      <th>CONSTITUENT</th>\n",
       "      <th>MODEL</th>\n",
       "      <th>PARAMETER</th>\n",
       "      <th>VALUE</th>\n",
       "      <th>version</th>\n",
       "    </tr>\n",
       "  </thead>\n",
       "  <tbody>\n",
       "    <tr>\n",
       "      <th>5139</th>\n",
       "      <td>SC #1658</td>\n",
       "      <td>link for catchment SC #1658</td>\n",
       "      <td>link for catchment SC #1658</td>\n",
       "      <td>Sediment - Fine</td>\n",
       "      <td>In Stream Fine Sediment Model - SedNet</td>\n",
       "      <td>Bank Erosion Management Factor</td>\n",
       "      <td>0.908405731</td>\n",
       "      <td>cl</td>\n",
       "    </tr>\n",
       "  </tbody>\n",
       "</table>\n",
       "</div>"
      ],
      "text/plain": [
       "     CATCHMENT                         LINK                      ELEMENT  \\\n",
       "5139  SC #1658  link for catchment SC #1658  link for catchment SC #1658   \n",
       "\n",
       "          CONSTITUENT                                   MODEL  \\\n",
       "5139  Sediment - Fine  In Stream Fine Sediment Model - SedNet   \n",
       "\n",
       "                           PARAMETER        VALUE version  \n",
       "5139  Bank Erosion Management Factor  0.908405731      cl  "
      ]
     },
     "metadata": {},
     "output_type": "display_data"
    },
    {
     "data": {
      "text/plain": [
       "1751"
      ]
     },
     "metadata": {},
     "output_type": "display_data"
    },
    {
     "data": {
      "text/html": [
       "<div>\n",
       "<table border=\"1\" class=\"dataframe\">\n",
       "  <thead>\n",
       "    <tr style=\"text-align: right;\">\n",
       "      <th></th>\n",
       "      <th>CATCHMENT</th>\n",
       "      <th>LINK</th>\n",
       "      <th>ELEMENT</th>\n",
       "      <th>CONSTITUENT</th>\n",
       "      <th>MODEL</th>\n",
       "      <th>PARAMETER</th>\n",
       "      <th>VALUE</th>\n",
       "      <th>version</th>\n",
       "    </tr>\n",
       "  </thead>\n",
       "  <tbody>\n",
       "    <tr>\n",
       "      <th>1482914</th>\n",
       "      <td>SC #1658</td>\n",
       "      <td>link for catchment SC #1658</td>\n",
       "      <td>link for catchment SC #1658</td>\n",
       "      <td>Sediment - Fine</td>\n",
       "      <td>In Stream Fine Sediment Model - SedNet</td>\n",
       "      <td>Bank Erosion Management Factor</td>\n",
       "      <td>0.907279812</td>\n",
       "      <td>ac</td>\n",
       "    </tr>\n",
       "  </tbody>\n",
       "</table>\n",
       "</div>"
      ],
      "text/plain": [
       "        CATCHMENT                         LINK                      ELEMENT  \\\n",
       "1482914  SC #1658  link for catchment SC #1658  link for catchment SC #1658   \n",
       "\n",
       "             CONSTITUENT                                   MODEL  \\\n",
       "1482914  Sediment - Fine  In Stream Fine Sediment Model - SedNet   \n",
       "\n",
       "                              PARAMETER        VALUE version  \n",
       "1482914  Bank Erosion Management Factor  0.907279812      ac  "
      ]
     },
     "metadata": {},
     "output_type": "display_data"
    },
    {
     "data": {
      "text/plain": [
       "1746"
      ]
     },
     "metadata": {},
     "output_type": "display_data"
    }
   ],
   "source": [
    "#Pull out the old and new data into separate dataframes\n",
    "change_cl = changes[(changes[\"version\"] == \"cl\")]\n",
    "change_ac = changes[(changes[\"version\"] == \"ac\")]\n",
    "display (change_cl [0:1])\n",
    "display (len (change_cl))\n",
    "display (change_ac [0:1])\n",
    "display (len (change_ac))"
   ]
  },
  {
   "cell_type": "code",
   "execution_count": 19,
   "metadata": {
    "collapsed": false
   },
   "outputs": [
    {
     "data": {
      "text/html": [
       "<div>\n",
       "<table border=\"1\" class=\"dataframe\">\n",
       "  <thead>\n",
       "    <tr style=\"text-align: right;\">\n",
       "      <th></th>\n",
       "      <th></th>\n",
       "      <th></th>\n",
       "      <th></th>\n",
       "      <th></th>\n",
       "      <th></th>\n",
       "      <th>VALUE</th>\n",
       "      <th>version</th>\n",
       "    </tr>\n",
       "    <tr>\n",
       "      <th>CATCHMENT</th>\n",
       "      <th>LINK</th>\n",
       "      <th>ELEMENT</th>\n",
       "      <th>CONSTITUENT</th>\n",
       "      <th>MODEL</th>\n",
       "      <th>PARAMETER</th>\n",
       "      <th></th>\n",
       "      <th></th>\n",
       "    </tr>\n",
       "  </thead>\n",
       "  <tbody>\n",
       "    <tr>\n",
       "      <th>SC #1658</th>\n",
       "      <th>link for catchment SC #1658</th>\n",
       "      <th>link for catchment SC #1658</th>\n",
       "      <th>Sediment - Fine</th>\n",
       "      <th>In Stream Fine Sediment Model - SedNet</th>\n",
       "      <th>Bank Erosion Management Factor</th>\n",
       "      <td>0.908405731</td>\n",
       "      <td>cl</td>\n",
       "    </tr>\n",
       "  </tbody>\n",
       "</table>\n",
       "</div>"
      ],
      "text/plain": [
       "                                                                                                                                                               VALUE  \\\n",
       "CATCHMENT LINK                        ELEMENT                     CONSTITUENT     MODEL                                  PARAMETER                                     \n",
       "SC #1658  link for catchment SC #1658 link for catchment SC #1658 Sediment - Fine In Stream Fine Sediment Model - SedNet Bank Erosion Management Factor  0.908405731   \n",
       "\n",
       "                                                                                                                                                        version  \n",
       "CATCHMENT LINK                        ELEMENT                     CONSTITUENT     MODEL                                  PARAMETER                               \n",
       "SC #1658  link for catchment SC #1658 link for catchment SC #1658 Sediment - Fine In Stream Fine Sediment Model - SedNet Bank Erosion Management Factor      cl  "
      ]
     },
     "metadata": {},
     "output_type": "display_data"
    },
    {
     "data": {
      "text/plain": [
       "1751"
      ]
     },
     "metadata": {},
     "output_type": "display_data"
    },
    {
     "data": {
      "text/html": [
       "<div>\n",
       "<table border=\"1\" class=\"dataframe\">\n",
       "  <thead>\n",
       "    <tr style=\"text-align: right;\">\n",
       "      <th></th>\n",
       "      <th></th>\n",
       "      <th></th>\n",
       "      <th></th>\n",
       "      <th></th>\n",
       "      <th></th>\n",
       "      <th>VALUE</th>\n",
       "      <th>version</th>\n",
       "    </tr>\n",
       "    <tr>\n",
       "      <th>CATCHMENT</th>\n",
       "      <th>LINK</th>\n",
       "      <th>ELEMENT</th>\n",
       "      <th>CONSTITUENT</th>\n",
       "      <th>MODEL</th>\n",
       "      <th>PARAMETER</th>\n",
       "      <th></th>\n",
       "      <th></th>\n",
       "    </tr>\n",
       "  </thead>\n",
       "  <tbody>\n",
       "    <tr>\n",
       "      <th>SC #1658</th>\n",
       "      <th>link for catchment SC #1658</th>\n",
       "      <th>link for catchment SC #1658</th>\n",
       "      <th>Sediment - Fine</th>\n",
       "      <th>In Stream Fine Sediment Model - SedNet</th>\n",
       "      <th>Bank Erosion Management Factor</th>\n",
       "      <td>0.907279812</td>\n",
       "      <td>ac</td>\n",
       "    </tr>\n",
       "  </tbody>\n",
       "</table>\n",
       "</div>"
      ],
      "text/plain": [
       "                                                                                                                                                               VALUE  \\\n",
       "CATCHMENT LINK                        ELEMENT                     CONSTITUENT     MODEL                                  PARAMETER                                     \n",
       "SC #1658  link for catchment SC #1658 link for catchment SC #1658 Sediment - Fine In Stream Fine Sediment Model - SedNet Bank Erosion Management Factor  0.907279812   \n",
       "\n",
       "                                                                                                                                                        version  \n",
       "CATCHMENT LINK                        ELEMENT                     CONSTITUENT     MODEL                                  PARAMETER                               \n",
       "SC #1658  link for catchment SC #1658 link for catchment SC #1658 Sediment - Fine In Stream Fine Sediment Model - SedNet Bank Erosion Management Factor      ac  "
      ]
     },
     "metadata": {},
     "output_type": "display_data"
    },
    {
     "data": {
      "text/plain": [
       "1746"
      ]
     },
     "metadata": {},
     "output_type": "display_data"
    }
   ],
   "source": [
    "#Index on the account numbers\n",
    "change_cl.set_index(['CATCHMENT','LINK','ELEMENT','CONSTITUENT','MODEL','PARAMETER'],inplace=True)\n",
    "change_ac.set_index(['CATCHMENT','LINK','ELEMENT','CONSTITUENT','MODEL','PARAMETER'],inplace=True)\n",
    "display (change_cl [0:1])\n",
    "display (len (change_cl))\n",
    "display (change_ac [0:1])\n",
    "display (len (change_ac))"
   ]
  },
  {
   "cell_type": "code",
   "execution_count": 20,
   "metadata": {
    "collapsed": false
   },
   "outputs": [
    {
     "data": {
      "text/html": [
       "<div>\n",
       "<table border=\"1\" class=\"dataframe\">\n",
       "  <thead>\n",
       "    <tr style=\"text-align: right;\">\n",
       "      <th></th>\n",
       "      <th></th>\n",
       "      <th></th>\n",
       "      <th></th>\n",
       "      <th></th>\n",
       "      <th></th>\n",
       "      <th>VALUE</th>\n",
       "      <th>version</th>\n",
       "      <th>VALUE</th>\n",
       "      <th>version</th>\n",
       "    </tr>\n",
       "    <tr>\n",
       "      <th>CATCHMENT</th>\n",
       "      <th>LINK</th>\n",
       "      <th>ELEMENT</th>\n",
       "      <th>CONSTITUENT</th>\n",
       "      <th>MODEL</th>\n",
       "      <th>PARAMETER</th>\n",
       "      <th></th>\n",
       "      <th></th>\n",
       "      <th></th>\n",
       "      <th></th>\n",
       "    </tr>\n",
       "  </thead>\n",
       "  <tbody>\n",
       "    <tr>\n",
       "      <th>BFD</th>\n",
       "      <th>BFD</th>\n",
       "      <th>BFD</th>\n",
       "      <th>NaN</th>\n",
       "      <th>Storage</th>\n",
       "      <th>Evaporation Volume</th>\n",
       "      <td>Water volume 0;</td>\n",
       "      <td>cl</td>\n",
       "      <td>Water volume 611784.016728089;</td>\n",
       "      <td>ac</td>\n",
       "    </tr>\n",
       "  </tbody>\n",
       "</table>\n",
       "</div>"
      ],
      "text/plain": [
       "                                                                          VALUE  \\\n",
       "CATCHMENT LINK ELEMENT CONSTITUENT MODEL   PARAMETER                              \n",
       "BFD       BFD  BFD     NaN         Storage Evaporation Volume  Water volume 0;    \n",
       "\n",
       "                                                              version  \\\n",
       "CATCHMENT LINK ELEMENT CONSTITUENT MODEL   PARAMETER                    \n",
       "BFD       BFD  BFD     NaN         Storage Evaporation Volume      cl   \n",
       "\n",
       "                                                                                         VALUE  \\\n",
       "CATCHMENT LINK ELEMENT CONSTITUENT MODEL   PARAMETER                                             \n",
       "BFD       BFD  BFD     NaN         Storage Evaporation Volume  Water volume 611784.016728089;    \n",
       "\n",
       "                                                              version  \n",
       "CATCHMENT LINK ELEMENT CONSTITUENT MODEL   PARAMETER                   \n",
       "BFD       BFD  BFD     NaN         Storage Evaporation Volume      ac  "
      ]
     },
     "metadata": {},
     "output_type": "display_data"
    },
    {
     "data": {
      "text/plain": [
       "1751"
      ]
     },
     "metadata": {},
     "output_type": "display_data"
    }
   ],
   "source": [
    "df = pd.concat([change_cl, change_ac], axis=1)\n",
    "display (df [0:1])\n",
    "display (len (df))"
   ]
  },
  {
   "cell_type": "code",
   "execution_count": 22,
   "metadata": {
    "collapsed": false
   },
   "outputs": [],
   "source": [
    "df.to_excel('D:/a_sc_p2r_b_rc7/Model_runs/BD_1/Runs/a_scen_reader/RC7/Parameter_changes_cl_ac.xlsx')"
   ]
  },
  {
   "cell_type": "code",
   "execution_count": null,
   "metadata": {
    "collapsed": true
   },
   "outputs": [],
   "source": []
  }
 ],
 "metadata": {
  "kernelspec": {
   "display_name": "Python 3",
   "language": "python",
   "name": "python3"
  },
  "language_info": {
   "codemirror_mode": {
    "name": "ipython",
    "version": 3
   },
   "file_extension": ".py",
   "mimetype": "text/x-python",
   "name": "python",
   "nbconvert_exporter": "python",
   "pygments_lexer": "ipython3",
   "version": "3.5.1"
  }
 },
 "nbformat": 4,
 "nbformat_minor": 0
}
