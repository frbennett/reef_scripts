{
 "cells": [
  {
   "cell_type": "code",
   "execution_count": 1,
   "metadata": {
    "collapsed": false
   },
   "outputs": [
    {
     "name": "stdout",
     "output_type": "stream",
     "text": [
      "Populating the interactive namespace from numpy and matplotlib\n"
     ]
    }
   ],
   "source": [
    "# Some steps required until these Python modules are properly installed...\n",
    "import sys\n",
    "sys.path.append('../../Modules')\n",
    "sys.path.append('../../../../veneer-py')\n",
    "# Get the Source scripting components (veneer) and GBR specific stuff\n",
    "import gbr\n",
    "import fiona\n",
    "%pylab inline\n",
    "import pandas as pd\n",
    "import geopandas as gpd\n",
    "#\n",
    "# RC7 current load, hillsope load\n",
    "#\n",
    "gbr.init('D:/a_sc_p2r_b_rc7/Model_runs/BD_1/Runs/a_scen_reader/RC7/')\n",
    "gbr.available()\n",
    "    #\n",
    "results = gbr.Results('CC')\n",
    "CC_raw = results.get('RawResults')\n",
    "    # Filter raw results for catchment data (ie not link related)\n",
    "catchmentData = CC_raw[CC_raw.ModelElementType=='Catchment']\n",
    "constituent = 'Sediment - Fine'\n",
    "    # Filter again for a constituent of interest and a process...\n",
    "    # TODO - should be able to do all that follows for all constituents/processes and generate a single output shapefile/dbf\n",
    "constituent = 'Sediment - Fine'\n",
    "process = 'Hillslope surface soil'\n",
    "relevantData = catchmentData[np.logical_and(catchmentData.index==constituent,catchmentData.BudgetElement==process)].copy()\n",
    "    # Convert load to tons/year\n",
    "    # TODO: tons/ha/year - could load the FU areas table from the results, OR rely on the polygon areas\n",
    "conversion = 1000.0*results.runDetails.yearsOfRecording\n",
    "relevantData['Load_t_y'] = relevantData['Total_Load_in_Kg']/conversion\n",
    "del relevantData['Total_Load_in_Kg']\n",
    "    # Reindex the data by subcatchment and FU, drop other columns (all the same value anyway)\n",
    "CL_loadData = relevantData[['ModelElement','FU','Load_t_y']]\n",
    "CL_loadData = CL_loadData.set_index(['ModelElement','FU'])\n",
    "#\n",
    "# RC7 All Change, hillsope load\n",
    "#\n",
    "gbr.init('D:/a_sc_p2r_b_rc7/Model_runs/BD_1/Runs/a_scen_reader/RC7/')\n",
    "gbr.available()\n",
    "    #\n",
    "results = gbr.Results('all_change')\n",
    "all_change_raw = results.get('RawResults')\n",
    "    #\n",
    "    # Filter raw results for catchment data (ie not link related)\n",
    "catchmentData = all_change_raw[all_change_raw.ModelElementType=='Catchment']\n",
    "constituent = 'Sediment - Fine'\n",
    "    # Filter again for a constituent of interest and a process...\n",
    "    # TODO - should be able to do all that follows for all constituents/processes and generate a single output shapefile/dbf\n",
    "constituent = 'Sediment - Fine'\n",
    "process = 'Hillslope surface soil'\n",
    "relevantData = catchmentData[np.logical_and(catchmentData.index==constituent,catchmentData.BudgetElement==process)].copy()\n",
    "    # Convert load to tons/year\n",
    "    # TODO: tons/ha/year - could load the FU areas table from the results, OR rely on the polygon areas\n",
    "conversion = 1000.0*results.runDetails.yearsOfRecording\n",
    "relevantData['Load_t_y'] = relevantData['Total_Load_in_Kg']/conversion\n",
    "del relevantData['Total_Load_in_Kg']\n",
    "    # Reindex the data by subcatchment and FU, drop other columns (all the same value anyway)\n",
    "all_change_loadData = relevantData[['ModelElement','FU','Load_t_y']]\n",
    "all_change_loadData = all_change_loadData.set_index(['ModelElement','FU'])\n",
    "#\n",
    "# RC7 CL_loadData - all_change_loadData\n",
    "#\n",
    "CC_all_Change_Diff = CL_loadData-all_change_loadData\n",
    "#\n",
    "# Read in intsFu shapefile\n",
    "#\n",
    "b_intsFu = gpd.read_file('D:/a_sc_p2r_b_rc7/Model_runs/BD_1/Configuration/bu_intSCFU.shp')\n",
    "b_intsFu.rename(columns={'reef_luse':'FU','IntSCFU':'DROP','Column_0':'ModelElement'},inplace=True)\n",
    "b_intsFu.set_index(['ModelElement','FU'],inplace=True)\n",
    "#\n",
    "# Join with CC_all_Change_Diff\n",
    "#\n",
    "spatialLoads = b_intsFu.join(CC_all_Change_Diff)\n",
    "spatialLoads.geometry = gpd.GeoSeries(spatialLoads.geometry)\n",
    "#\n",
    "# Write shapefile\n",
    "#\n",
    "spatialLoads.to_file('D:/a_sc_p2r_b_rc7/Model_runs/BD_1/Runs/a_scen_reader/RC7/diff_CL_all_Change_hillsope_fs_.shp')"
   ]
  },
  {
   "cell_type": "code",
   "execution_count": null,
   "metadata": {
    "collapsed": true
   },
   "outputs": [],
   "source": []
  }
 ],
 "metadata": {
  "kernelspec": {
   "display_name": "Python 3",
   "language": "python",
   "name": "python3"
  },
  "language_info": {
   "codemirror_mode": {
    "name": "ipython",
    "version": 3
   },
   "file_extension": ".py",
   "mimetype": "text/x-python",
   "name": "python",
   "nbconvert_exporter": "python",
   "pygments_lexer": "ipython3",
   "version": "3.5.1"
  }
 },
 "nbformat": 4,
 "nbformat_minor": 0
}
