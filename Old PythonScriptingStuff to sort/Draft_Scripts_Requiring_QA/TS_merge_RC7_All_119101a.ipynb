{
 "cells": [
  {
   "cell_type": "code",
   "execution_count": 1,
   "metadata": {
    "collapsed": false
   },
   "outputs": [
    {
     "name": "stdout",
     "output_type": "stream",
     "text": [
      "Populating the interactive namespace from numpy and matplotlib\n"
     ]
    }
   ],
   "source": [
    "import sys\n",
    "import os\n",
    "import pandas as pd\n",
    "import glob\n",
    "%pylab inline"
   ]
  },
  {
   "cell_type": "code",
   "execution_count": 2,
   "metadata": {
    "collapsed": false
   },
   "outputs": [
    {
     "data": {
      "text/plain": [
       "'D://a_sc_p2r_b_rc7/Model_runs/BD_1/Runs/a_scen_reader/RC7/BU_RC7_CC_P5_Full_TS/TimeSeries'"
      ]
     },
     "execution_count": 2,
     "metadata": {},
     "output_type": "execute_result"
    }
   ],
   "source": [
    "# Step 1: get a list of all csv files in target directory\n",
    "my_dir = \"D://a_sc_p2r_b_rc7/Model_runs/BD_1/Runs/a_scen_reader/RC7/BU_RC7_CC_P5_Full_TS/TimeSeries\"\n",
    "os.chdir(my_dir)\n",
    "my_dir"
   ]
  },
  {
   "cell_type": "code",
   "execution_count": 3,
   "metadata": {
    "collapsed": false
   },
   "outputs": [
    {
     "data": {
      "text/plain": [
       "['D://a_sc_p2r_b_rc7/Model_runs/BD_1/Runs/a_scen_reader/RC7/BU_RC7_CC_P5_Full_TS/Timeseries\\\\Atrazine\\\\Atrazine_119101a_kilograms',\n",
       " 'D://a_sc_p2r_b_rc7/Model_runs/BD_1/Runs/a_scen_reader/RC7/BU_RC7_CC_P5_Full_TS/Timeseries\\\\Diuron\\\\Diuron_119101a_kilograms',\n",
       " 'D://a_sc_p2r_b_rc7/Model_runs/BD_1/Runs/a_scen_reader/RC7/BU_RC7_CC_P5_Full_TS/Timeseries\\\\Flows\\\\Flow_119101a_cubicmetrespersecond',\n",
       " 'D://a_sc_p2r_b_rc7/Model_runs/BD_1/Runs/a_scen_reader/RC7/BU_RC7_CC_P5_Full_TS/Timeseries\\\\Metribuzin\\\\Metribuzin_119101a_kilograms']"
      ]
     },
     "execution_count": 3,
     "metadata": {},
     "output_type": "execute_result"
    }
   ],
   "source": [
    "filelist = []\n",
    "filesList_ext = []\n",
    "# Step 2: Build up list of files:\n",
    "for files in glob.glob('D://a_sc_p2r_b_rc7/Model_runs/BD_1/Runs/a_scen_reader/RC7/BU_RC7_CC_P5_Full_TS/Timeseries/**/*119101a*.csv', recursive=True):\n",
    "    fileName, fileExtension = os.path.splitext(files)\n",
    "    filelist.append(fileName) #filename without extension\n",
    "    filesList_ext.append(files) #filename with extension\n",
    "filelist[0:4]"
   ]
  },
  {
   "cell_type": "code",
   "execution_count": 4,
   "metadata": {
    "collapsed": false
   },
   "outputs": [
    {
     "data": {
      "text/html": [
       "<div>\n",
       "<table border=\"1\" class=\"dataframe\">\n",
       "  <thead>\n",
       "    <tr style=\"text-align: right;\">\n",
       "      <th></th>\n",
       "      <th>D://a_sc_p2r_b_rc7/Model_runs/BD_1/Runs/a_scen_reader/RC7/BU_RC7_CC_P5_Full_TS/Timeseries\\Atrazine\\Atrazine_119101a_kilograms</th>\n",
       "      <th>D://a_sc_p2r_b_rc7/Model_runs/BD_1/Runs/a_scen_reader/RC7/BU_RC7_CC_P5_Full_TS/Timeseries\\Diuron\\Diuron_119101a_kilograms</th>\n",
       "      <th>D://a_sc_p2r_b_rc7/Model_runs/BD_1/Runs/a_scen_reader/RC7/BU_RC7_CC_P5_Full_TS/Timeseries\\Flows\\Flow_119101a_cubicmetrespersecond</th>\n",
       "      <th>D://a_sc_p2r_b_rc7/Model_runs/BD_1/Runs/a_scen_reader/RC7/BU_RC7_CC_P5_Full_TS/Timeseries\\Metribuzin\\Metribuzin_119101a_kilograms</th>\n",
       "      <th>D://a_sc_p2r_b_rc7/Model_runs/BD_1/Runs/a_scen_reader/RC7/BU_RC7_CC_P5_Full_TS/Timeseries\\N_DIN\\N_DIN_119101a_kilograms</th>\n",
       "      <th>D://a_sc_p2r_b_rc7/Model_runs/BD_1/Runs/a_scen_reader/RC7/BU_RC7_CC_P5_Full_TS/Timeseries\\N_DON\\N_DON_119101a_kilograms</th>\n",
       "      <th>D://a_sc_p2r_b_rc7/Model_runs/BD_1/Runs/a_scen_reader/RC7/BU_RC7_CC_P5_Full_TS/Timeseries\\N_Particulate\\N_Particulate_119101a_kilograms</th>\n",
       "      <th>D://a_sc_p2r_b_rc7/Model_runs/BD_1/Runs/a_scen_reader/RC7/BU_RC7_CC_P5_Full_TS/Timeseries\\P_DOP\\P_DOP_119101a_kilograms</th>\n",
       "      <th>D://a_sc_p2r_b_rc7/Model_runs/BD_1/Runs/a_scen_reader/RC7/BU_RC7_CC_P5_Full_TS/Timeseries\\P_FRP\\P_FRP_119101a_kilograms</th>\n",
       "      <th>D://a_sc_p2r_b_rc7/Model_runs/BD_1/Runs/a_scen_reader/RC7/BU_RC7_CC_P5_Full_TS/Timeseries\\P_Particulate\\P_Particulate_119101a_kilograms</th>\n",
       "      <th>D://a_sc_p2r_b_rc7/Model_runs/BD_1/Runs/a_scen_reader/RC7/BU_RC7_CC_P5_Full_TS/Timeseries\\S-metolachlor\\S-metolachlor_119101a_kilograms</th>\n",
       "      <th>D://a_sc_p2r_b_rc7/Model_runs/BD_1/Runs/a_scen_reader/RC7/BU_RC7_CC_P5_Full_TS/Timeseries\\Sediment - Fine\\Sediment - Fine_119101a_kilograms</th>\n",
       "    </tr>\n",
       "  </thead>\n",
       "  <tbody>\n",
       "    <tr>\n",
       "      <th>Date</th>\n",
       "      <td>Atrazine_119101a_kilograms</td>\n",
       "      <td>Diuron_119101a_kilograms</td>\n",
       "      <td>Flow_119101a_cubicmetrespersecond</td>\n",
       "      <td>Metribuzin_119101a_kilograms</td>\n",
       "      <td>N_DIN_119101a_kilograms</td>\n",
       "      <td>N_DON_119101a_kilograms</td>\n",
       "      <td>N_Particulate_119101a_kilograms</td>\n",
       "      <td>P_DOP_119101a_kilograms</td>\n",
       "      <td>P_FRP_119101a_kilograms</td>\n",
       "      <td>P_Particulate_119101a_kilograms</td>\n",
       "      <td>S-metolachlor_119101a_kilograms</td>\n",
       "      <td>Sediment - Fine_119101a_kilograms</td>\n",
       "    </tr>\n",
       "    <tr>\n",
       "      <th>1986-07-01</th>\n",
       "      <td>0</td>\n",
       "      <td>0</td>\n",
       "      <td>0</td>\n",
       "      <td>0</td>\n",
       "      <td>0</td>\n",
       "      <td>0</td>\n",
       "      <td>0</td>\n",
       "      <td>0</td>\n",
       "      <td>0</td>\n",
       "      <td>0</td>\n",
       "      <td>0</td>\n",
       "      <td>0</td>\n",
       "    </tr>\n",
       "    <tr>\n",
       "      <th>1986-07-02</th>\n",
       "      <td>0</td>\n",
       "      <td>0</td>\n",
       "      <td>0</td>\n",
       "      <td>0</td>\n",
       "      <td>0</td>\n",
       "      <td>0</td>\n",
       "      <td>0</td>\n",
       "      <td>0</td>\n",
       "      <td>0</td>\n",
       "      <td>0</td>\n",
       "      <td>0</td>\n",
       "      <td>0</td>\n",
       "    </tr>\n",
       "    <tr>\n",
       "      <th>1986-07-03</th>\n",
       "      <td>0</td>\n",
       "      <td>0</td>\n",
       "      <td>0</td>\n",
       "      <td>0</td>\n",
       "      <td>0</td>\n",
       "      <td>0</td>\n",
       "      <td>0</td>\n",
       "      <td>0</td>\n",
       "      <td>0</td>\n",
       "      <td>0</td>\n",
       "      <td>0</td>\n",
       "      <td>0</td>\n",
       "    </tr>\n",
       "  </tbody>\n",
       "</table>\n",
       "</div>"
      ],
      "text/plain": [
       "           D://a_sc_p2r_b_rc7/Model_runs/BD_1/Runs/a_scen_reader/RC7/BU_RC7_CC_P5_Full_TS/Timeseries\\Atrazine\\Atrazine_119101a_kilograms  \\\n",
       "Date                               Atrazine_119101a_kilograms                                                                              \n",
       "1986-07-01                                                  0                                                                              \n",
       "1986-07-02                                                  0                                                                              \n",
       "1986-07-03                                                  0                                                                              \n",
       "\n",
       "           D://a_sc_p2r_b_rc7/Model_runs/BD_1/Runs/a_scen_reader/RC7/BU_RC7_CC_P5_Full_TS/Timeseries\\Diuron\\Diuron_119101a_kilograms  \\\n",
       "Date                                 Diuron_119101a_kilograms                                                                          \n",
       "1986-07-01                                                  0                                                                          \n",
       "1986-07-02                                                  0                                                                          \n",
       "1986-07-03                                                  0                                                                          \n",
       "\n",
       "           D://a_sc_p2r_b_rc7/Model_runs/BD_1/Runs/a_scen_reader/RC7/BU_RC7_CC_P5_Full_TS/Timeseries\\Flows\\Flow_119101a_cubicmetrespersecond  \\\n",
       "Date                        Flow_119101a_cubicmetrespersecond                                                                                  \n",
       "1986-07-01                                                  0                                                                                  \n",
       "1986-07-02                                                  0                                                                                  \n",
       "1986-07-03                                                  0                                                                                  \n",
       "\n",
       "           D://a_sc_p2r_b_rc7/Model_runs/BD_1/Runs/a_scen_reader/RC7/BU_RC7_CC_P5_Full_TS/Timeseries\\Metribuzin\\Metribuzin_119101a_kilograms  \\\n",
       "Date                             Metribuzin_119101a_kilograms                                                                                  \n",
       "1986-07-01                                                  0                                                                                  \n",
       "1986-07-02                                                  0                                                                                  \n",
       "1986-07-03                                                  0                                                                                  \n",
       "\n",
       "           D://a_sc_p2r_b_rc7/Model_runs/BD_1/Runs/a_scen_reader/RC7/BU_RC7_CC_P5_Full_TS/Timeseries\\N_DIN\\N_DIN_119101a_kilograms  \\\n",
       "Date                                  N_DIN_119101a_kilograms                                                                        \n",
       "1986-07-01                                                  0                                                                        \n",
       "1986-07-02                                                  0                                                                        \n",
       "1986-07-03                                                  0                                                                        \n",
       "\n",
       "           D://a_sc_p2r_b_rc7/Model_runs/BD_1/Runs/a_scen_reader/RC7/BU_RC7_CC_P5_Full_TS/Timeseries\\N_DON\\N_DON_119101a_kilograms  \\\n",
       "Date                                  N_DON_119101a_kilograms                                                                        \n",
       "1986-07-01                                                  0                                                                        \n",
       "1986-07-02                                                  0                                                                        \n",
       "1986-07-03                                                  0                                                                        \n",
       "\n",
       "           D://a_sc_p2r_b_rc7/Model_runs/BD_1/Runs/a_scen_reader/RC7/BU_RC7_CC_P5_Full_TS/Timeseries\\N_Particulate\\N_Particulate_119101a_kilograms  \\\n",
       "Date                          N_Particulate_119101a_kilograms                                                                                        \n",
       "1986-07-01                                                  0                                                                                        \n",
       "1986-07-02                                                  0                                                                                        \n",
       "1986-07-03                                                  0                                                                                        \n",
       "\n",
       "           D://a_sc_p2r_b_rc7/Model_runs/BD_1/Runs/a_scen_reader/RC7/BU_RC7_CC_P5_Full_TS/Timeseries\\P_DOP\\P_DOP_119101a_kilograms  \\\n",
       "Date                                  P_DOP_119101a_kilograms                                                                        \n",
       "1986-07-01                                                  0                                                                        \n",
       "1986-07-02                                                  0                                                                        \n",
       "1986-07-03                                                  0                                                                        \n",
       "\n",
       "           D://a_sc_p2r_b_rc7/Model_runs/BD_1/Runs/a_scen_reader/RC7/BU_RC7_CC_P5_Full_TS/Timeseries\\P_FRP\\P_FRP_119101a_kilograms  \\\n",
       "Date                                  P_FRP_119101a_kilograms                                                                        \n",
       "1986-07-01                                                  0                                                                        \n",
       "1986-07-02                                                  0                                                                        \n",
       "1986-07-03                                                  0                                                                        \n",
       "\n",
       "           D://a_sc_p2r_b_rc7/Model_runs/BD_1/Runs/a_scen_reader/RC7/BU_RC7_CC_P5_Full_TS/Timeseries\\P_Particulate\\P_Particulate_119101a_kilograms  \\\n",
       "Date                          P_Particulate_119101a_kilograms                                                                                        \n",
       "1986-07-01                                                  0                                                                                        \n",
       "1986-07-02                                                  0                                                                                        \n",
       "1986-07-03                                                  0                                                                                        \n",
       "\n",
       "           D://a_sc_p2r_b_rc7/Model_runs/BD_1/Runs/a_scen_reader/RC7/BU_RC7_CC_P5_Full_TS/Timeseries\\S-metolachlor\\S-metolachlor_119101a_kilograms  \\\n",
       "Date                          S-metolachlor_119101a_kilograms                                                                                        \n",
       "1986-07-01                                                  0                                                                                        \n",
       "1986-07-02                                                  0                                                                                        \n",
       "1986-07-03                                                  0                                                                                        \n",
       "\n",
       "           D://a_sc_p2r_b_rc7/Model_runs/BD_1/Runs/a_scen_reader/RC7/BU_RC7_CC_P5_Full_TS/Timeseries\\Sediment - Fine\\Sediment - Fine_119101a_kilograms  \n",
       "Date                        Sediment - Fine_119101a_kilograms                                                                                           \n",
       "1986-07-01                                                  0                                                                                           \n",
       "1986-07-02                                                  0                                                                                           \n",
       "1986-07-03                                                  0                                                                                           "
      ]
     },
     "execution_count": 4,
     "metadata": {},
     "output_type": "execute_result"
    }
   ],
   "source": [
    "# Step 3: Build up DataFrame:\n",
    "test = pd.concat([pd.read_csv(item, names=[item[:-4]]) for item in filesList_ext], axis=1)\n",
    "test [0:4]"
   ]
  },
  {
   "cell_type": "code",
   "execution_count": 7,
   "metadata": {
    "collapsed": true
   },
   "outputs": [],
   "source": [
    "test.to_csv('RC7_CL_119101a.csv')"
   ]
  },
  {
   "cell_type": "code",
   "execution_count": null,
   "metadata": {
    "collapsed": true
   },
   "outputs": [],
   "source": []
  }
 ],
 "metadata": {
  "kernelspec": {
   "display_name": "Python 3",
   "language": "python",
   "name": "python3"
  },
  "language_info": {
   "codemirror_mode": {
    "name": "ipython",
    "version": 3
   },
   "file_extension": ".py",
   "mimetype": "text/x-python",
   "name": "python",
   "nbconvert_exporter": "python",
   "pygments_lexer": "ipython3",
   "version": "3.5.1"
  }
 },
 "nbformat": 4,
 "nbformat_minor": 0
}
