{
 "cells": [
  {
   "cell_type": "markdown",
   "metadata": {},
   "source": [
    "# Instructions for getting set up with Python scripting for Source/GBR\n",
    "\n",
    "Broadly speaking, we want to do the following:\n",
    "\n",
    "* Install a Scientific Python distribution\n",
    "* Install some extra Python packages (particularly spatial stuff)\n",
    "* Install the Veneer plugin for Source that will allow us to drive the running application from Python\n",
    "* Install some Source and GBR specific Python modules\n",
    "\n",
    "## Steps\n",
    "\n",
    "1. Head over to https://www.continuum.io/downloads and download Anaconda Python - a Scientific Python distribution that is much easier to install than fetching stacks of separate python packages... **Make sure you download the Python 3 version - currently at Python 3.5**\n",
    "2. Install to the default location... You can keep going with steps 3-8 while the install happens...\n",
    "3. From DropBox (https://www.dropbox.com/sh/a3fe6c4j72ngm14/AABWk4JrQW-ZP9i4NiaWmvEpa?dl=0) and download `Veneer_For_Source 3.8.18.3689 Beta.zip`, `setup_veneer.bat` and `python_for_gbr.zip`. Unzip the `.zip` files somewhere and save the `.bat` file.\n",
    "4. Run a Windows Command Prompt **As Administrator**. (Find Command Prompt in the start menu, right click on it and select Run As Administrator).\n",
    "5. In the administrator command prompt, navigate to the directory where you saved the bat file and run it. ie just type `setup_veneer.bat`\n",
    "6. Load Source and go to `Tools|Plugin Manager`. Select Browse to add a plugin and navigate to where you unzipped the `Veneer_For_Source...zip` file previously. Select the file `FlowMatters.Source.Veneer.dll` as the plugin to load. You'll then be prompted to restart Source.\n",
    "7. After restarting, load a basic project (eg Beckers). Once loaded, in the menu, find and start `Tools|Plugins|FlowMatters.Source.Veneer|Web Server Monitory`. A window should pop up with text like the following:\n",
    "```\n",
    "[10:40:01 AM] Started Source RESTful Service on port:9876\n",
    "[10:40:01 AM] Veneer, by Flow Matters: http://www.flowmatters.com.au\n",
    "```\n",
    "\n",
    "8. In the Web Server Monitoring window, check the `Allow Scripts` box. (This allows a remote user - in this case us - to send custom code over to Source at runtime. This allows us to write detailed queries on Source and modify the running model. It's strictly speaking also a security risk, so we'll probably modify it later with a password)\n",
    "9. Back in python land, open `Anaconda Command Prompt` and navigate to the directory where you unzipped `python_for_gbr.zip`.\n",
    "10. Run `post_install.bat` which will install a bunch of spatial packages\n",
    "11. Now, assuming that's all worked, you can start the ipython notebook, from your current directory (ie where you extracted `python_for_gbr.zip`... Run `ipython notebook`\n",
    "12. Open one of the examples (which are configured for Beckers and see if you can run them. Start by highlighting the first cell and pushing `Shift-Enter` (or using the menu `Cell|Run`)\n"
   ]
  },
  {
   "cell_type": "code",
   "execution_count": null,
   "metadata": {
    "collapsed": true
   },
   "outputs": [],
   "source": []
  },
  {
   "cell_type": "code",
   "execution_count": null,
   "metadata": {
    "collapsed": true
   },
   "outputs": [],
   "source": []
  }
 ],
 "metadata": {
  "kernelspec": {
   "display_name": "Python 3",
   "language": "python",
   "name": "python3"
  },
  "language_info": {
   "codemirror_mode": {
    "name": "ipython",
    "version": 3
   },
   "file_extension": ".py",
   "mimetype": "text/x-python",
   "name": "python",
   "nbconvert_exporter": "python",
   "pygments_lexer": "ipython3",
   "version": "3.4.4"
  }
 },
 "nbformat": 4,
 "nbformat_minor": 0
}
