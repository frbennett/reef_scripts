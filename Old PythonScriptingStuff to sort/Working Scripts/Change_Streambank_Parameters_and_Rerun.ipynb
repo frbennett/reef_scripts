{
 "cells": [
  {
   "cell_type": "markdown",
   "metadata": {},
   "source": [
    "# Example of changing Streambank parameters\n",
    "\n",
    "We're going to change the streambank height parameter and run Source with the original and changed values"
   ]
  },
  {
   "cell_type": "code",
   "execution_count": 1,
   "metadata": {
    "collapsed": false
   },
   "outputs": [],
   "source": [
    "# Some steps required until these Python modules are properly installed...\n",
    "import sys\n",
    "sys.path.append('../Modules')\n",
    "sys.path.append('../../../../veneer-py')\n",
    "# Get the Source scripting components (veneer) and GBR specific stuff\n",
    "import gbr"
   ]
  },
  {
   "cell_type": "code",
   "execution_count": 2,
   "metadata": {
    "collapsed": false
   },
   "outputs": [],
   "source": [
    "# Point the system at a particular output directory...\n",
    "gbr.init('D:/Beckers/outputs/Scenario 1/')"
   ]
  },
  {
   "cell_type": "code",
   "execution_count": 3,
   "metadata": {
    "collapsed": true
   },
   "outputs": [],
   "source": [
    "# Initialise the Veneer (Source scripting tool)\n",
    "v = gbr.veneer()"
   ]
  },
  {
   "cell_type": "code",
   "execution_count": 4,
   "metadata": {
    "collapsed": false
   },
   "outputs": [
    {
     "data": {
      "text/plain": [
       "{'Exception': None,\n",
       " 'Response': {'Value': True,\n",
       "  '__type': 'BooleanResponse:#FlowMatters.Source.Veneer.ExchangeObjects'},\n",
       " 'StandardError': '',\n",
       " 'StandardOut': ''}"
      ]
     },
     "execution_count": 4,
     "metadata": {},
     "output_type": "execute_result"
    }
   ],
   "source": [
    "# Also, lets switch on the performance options\n",
    "v.configureOptions({'RunNetworksInParallel':True,'PreRunCatchments':True,'ParallelFlowPhase':True})\n",
    "v.model.sourceScenarioOptions(\"PerformanceConfiguration\",\"ProcessCatchmentsInParallel\",True)\n"
   ]
  },
  {
   "cell_type": "code",
   "execution_count": 5,
   "metadata": {
    "collapsed": false
   },
   "outputs": [
    {
     "data": {
      "text/plain": [
       "{'Exception': None, 'Response': None, 'StandardError': '', 'StandardOut': ''}"
      ]
     },
     "execution_count": 5,
     "metadata": {},
     "output_type": "execute_result"
    }
   ],
   "source": [
    "# Its a good idea to set some options in Dynamic Sednet to prevent the results window appearing\n",
    "# Also, to make it automatically override existing results\n",
    "v.configureOptions({'ShowResultsAfterRun':False,'OverwriteResults':True})"
   ]
  },
  {
   "cell_type": "code",
   "execution_count": 6,
   "metadata": {
    "collapsed": false
   },
   "outputs": [],
   "source": [
    "# Query terms to find the BankHeight_M parameter...\n",
    "# (Not easy!)\n",
    "namespace = 'RiverSystem.Constituents.LinkElementConstituentData as LinkElementConstituentData'\n",
    "accessor = 'scenario.Network.ConstituentsManagement.Elements.OfType[LinkElementConstituentData]().*Data.ProcessingModels.Where(lambda x: x.Constituent.Name==\"Sediment - Fine\").*Model.BankHeight_M'\n",
    "#v.model.sourceHelp(accessor,namespace=namespace)"
   ]
  },
  {
   "cell_type": "code",
   "execution_count": 7,
   "metadata": {
    "collapsed": false
   },
   "outputs": [
    {
     "data": {
      "text/plain": [
       "[12.7890768022743,\n",
       " 11.978887166312,\n",
       " 9.54718912372855,\n",
       " 10.5701815970102,\n",
       " 9.76408136712137,\n",
       " 2]"
      ]
     },
     "execution_count": 7,
     "metadata": {},
     "output_type": "execute_result"
    }
   ],
   "source": [
    "# Now run the query and get the current values\n",
    "orig_bankheight_m = v.model.get(accessor,namespace=namespace)\n",
    "orig_bankheight_m"
   ]
  },
  {
   "cell_type": "code",
   "execution_count": 8,
   "metadata": {
    "collapsed": true
   },
   "outputs": [],
   "source": [
    "# Run with those original values\n",
    "\n",
    "# First, set the name of the run\n",
    "v.model.set('scenario.CurrentConfiguration.runName','RUN_ORIGINAL_BANKHEIGHT')"
   ]
  },
  {
   "cell_type": "code",
   "execution_count": 9,
   "metadata": {
    "collapsed": false
   },
   "outputs": [
    {
     "data": {
      "text/plain": [
       "(302, 'runs/1')"
      ]
     },
     "execution_count": 9,
     "metadata": {},
     "output_type": "execute_result"
    }
   ],
   "source": [
    "# Now, lets run the model... When this cell executes in Python, the run window should appear in Source...\n",
    "v.run_model()"
   ]
  },
  {
   "cell_type": "code",
   "execution_count": 10,
   "metadata": {
    "collapsed": true
   },
   "outputs": [],
   "source": [
    "# NOTE: The above output (eg runs/1) is a point to retrieving the 'normal' Source results - ie all the time series recorders...\n",
    "# We don't need that for GBR/Dynamic Sednet, because we can get to the summarised results"
   ]
  },
  {
   "cell_type": "code",
   "execution_count": 11,
   "metadata": {
    "collapsed": false
   },
   "outputs": [
    {
     "data": {
      "text/html": [
       "<div>\n",
       "<table border=\"1\" class=\"dataframe\">\n",
       "  <thead>\n",
       "    <tr style=\"text-align: right;\">\n",
       "      <th>SummaryRegion</th>\n",
       "      <th>agbot</th>\n",
       "      <th>agmid</th>\n",
       "      <th>agtop</th>\n",
       "    </tr>\n",
       "    <tr>\n",
       "      <th>Constituent</th>\n",
       "      <th></th>\n",
       "      <th></th>\n",
       "      <th></th>\n",
       "    </tr>\n",
       "  </thead>\n",
       "  <tbody>\n",
       "    <tr>\n",
       "      <th>Ametryn</th>\n",
       "      <td>0.000000e+00</td>\n",
       "      <td>0.000000e+00</td>\n",
       "      <td>0.000000e+00</td>\n",
       "    </tr>\n",
       "    <tr>\n",
       "      <th>Atrazine</th>\n",
       "      <td>0.000000e+00</td>\n",
       "      <td>0.000000e+00</td>\n",
       "      <td>0.000000e+00</td>\n",
       "    </tr>\n",
       "    <tr>\n",
       "      <th>Flow</th>\n",
       "      <td>5.618641e+08</td>\n",
       "      <td>4.826120e+08</td>\n",
       "      <td>2.044276e+08</td>\n",
       "    </tr>\n",
       "    <tr>\n",
       "      <th>N_DIN</th>\n",
       "      <td>1.076096e+05</td>\n",
       "      <td>9.206070e+04</td>\n",
       "      <td>3.776663e+04</td>\n",
       "    </tr>\n",
       "    <tr>\n",
       "      <th>N_DON</th>\n",
       "      <td>1.076096e+05</td>\n",
       "      <td>9.206070e+04</td>\n",
       "      <td>3.776663e+04</td>\n",
       "    </tr>\n",
       "    <tr>\n",
       "      <th>N_Particulate</th>\n",
       "      <td>5.590488e+05</td>\n",
       "      <td>3.949711e+05</td>\n",
       "      <td>2.687237e+05</td>\n",
       "    </tr>\n",
       "    <tr>\n",
       "      <th>P_DOP</th>\n",
       "      <td>9.987315e+04</td>\n",
       "      <td>8.674313e+04</td>\n",
       "      <td>3.633789e+04</td>\n",
       "    </tr>\n",
       "    <tr>\n",
       "      <th>P_FRP</th>\n",
       "      <td>9.987315e+04</td>\n",
       "      <td>8.674313e+04</td>\n",
       "      <td>3.633789e+04</td>\n",
       "    </tr>\n",
       "    <tr>\n",
       "      <th>P_Particulate</th>\n",
       "      <td>NaN</td>\n",
       "      <td>2.748961e+05</td>\n",
       "      <td>1.606461e+05</td>\n",
       "    </tr>\n",
       "    <tr>\n",
       "      <th>Sediment - Coarse</th>\n",
       "      <td>0.000000e+00</td>\n",
       "      <td>0.000000e+00</td>\n",
       "      <td>0.000000e+00</td>\n",
       "    </tr>\n",
       "    <tr>\n",
       "      <th>Sediment - Fine</th>\n",
       "      <td>4.943001e+06</td>\n",
       "      <td>3.917739e+06</td>\n",
       "      <td>2.476492e+06</td>\n",
       "    </tr>\n",
       "    <tr>\n",
       "      <th>Tebuthiuron</th>\n",
       "      <td>0.000000e+00</td>\n",
       "      <td>0.000000e+00</td>\n",
       "      <td>0.000000e+00</td>\n",
       "    </tr>\n",
       "  </tbody>\n",
       "</table>\n",
       "</div>"
      ],
      "text/plain": [
       "SummaryRegion             agbot         agmid         agtop\n",
       "Constituent                                                \n",
       "Ametryn            0.000000e+00  0.000000e+00  0.000000e+00\n",
       "Atrazine           0.000000e+00  0.000000e+00  0.000000e+00\n",
       "Flow               5.618641e+08  4.826120e+08  2.044276e+08\n",
       "N_DIN              1.076096e+05  9.206070e+04  3.776663e+04\n",
       "N_DON              1.076096e+05  9.206070e+04  3.776663e+04\n",
       "N_Particulate      5.590488e+05  3.949711e+05  2.687237e+05\n",
       "P_DOP              9.987315e+04  8.674313e+04  3.633789e+04\n",
       "P_FRP              9.987315e+04  8.674313e+04  3.633789e+04\n",
       "P_Particulate               NaN  2.748961e+05  1.606461e+05\n",
       "Sediment - Coarse  0.000000e+00  0.000000e+00  0.000000e+00\n",
       "Sediment - Fine    4.943001e+06  3.917739e+06  2.476492e+06\n",
       "Tebuthiuron        0.000000e+00  0.000000e+00  0.000000e+00"
      ]
     },
     "execution_count": 11,
     "metadata": {},
     "output_type": "execute_result"
    }
   ],
   "source": [
    "# Lets take a quick look at those results...\n",
    "results_original = gbr.Results('RUN_ORIGINAL_BANKHEIGHT')\n",
    "results_original.queries.regional_export('t/y')"
   ]
  },
  {
   "cell_type": "code",
   "execution_count": 12,
   "metadata": {
    "collapsed": false
   },
   "outputs": [],
   "source": [
    "# We can set every 'instance' of BankHeight_M - ie in every link- to a single value, with\n",
    "#\n",
    "# v.model.set(accessor,2.0)\n",
    "#\n",
    "# or we can pass in a list of values\n",
    "#\n",
    "# v.model.set(accessor,[0.2,0.3,0.5,0.4,1.0],fromList=True)\n",
    "#\n",
    "# Now... If your list of values is shorter than the number of instances... (ie # links),\n",
    "# then the list will be 'recycled'... That is, the list will be reused repeatedly until values have been assigned to all\n",
    "# instances...\n",
    "#\n",
    "# ie... Given that the Becker's model has 5 Links, [0.2,0.3] to saying [0.2,0.3,0.2,0.3,0.2]"
   ]
  },
  {
   "cell_type": "code",
   "execution_count": 13,
   "metadata": {
    "collapsed": false
   },
   "outputs": [],
   "source": [
    "# Set to a constant, 2\n",
    "v.model.set(accessor,2,namespace=namespace)"
   ]
  },
  {
   "cell_type": "code",
   "execution_count": 14,
   "metadata": {
    "collapsed": false
   },
   "outputs": [
    {
     "data": {
      "text/plain": [
       "[2, 2, 2, 2, 2, 2]"
      ]
     },
     "execution_count": 14,
     "metadata": {},
     "output_type": "execute_result"
    }
   ],
   "source": [
    "# Check that it took effect\n",
    "v.model.get(accessor,namespace=namespace)"
   ]
  },
  {
   "cell_type": "code",
   "execution_count": 15,
   "metadata": {
    "collapsed": true
   },
   "outputs": [],
   "source": [
    "# Now change the run name\n",
    "v.model.set('scenario.CurrentConfiguration.runName','RUN_CHANGED_BANKHEIGHT')"
   ]
  },
  {
   "cell_type": "code",
   "execution_count": 16,
   "metadata": {
    "collapsed": false
   },
   "outputs": [
    {
     "data": {
      "text/plain": [
       "(302, 'runs/2')"
      ]
     },
     "execution_count": 16,
     "metadata": {},
     "output_type": "execute_result"
    }
   ],
   "source": [
    "v.run_model()"
   ]
  },
  {
   "cell_type": "code",
   "execution_count": 17,
   "metadata": {
    "collapsed": false
   },
   "outputs": [
    {
     "data": {
      "text/html": [
       "<div>\n",
       "<table border=\"1\" class=\"dataframe\">\n",
       "  <thead>\n",
       "    <tr style=\"text-align: right;\">\n",
       "      <th>SummaryRegion</th>\n",
       "      <th>agbot</th>\n",
       "      <th>agmid</th>\n",
       "      <th>agtop</th>\n",
       "    </tr>\n",
       "    <tr>\n",
       "      <th>Constituent</th>\n",
       "      <th></th>\n",
       "      <th></th>\n",
       "      <th></th>\n",
       "    </tr>\n",
       "  </thead>\n",
       "  <tbody>\n",
       "    <tr>\n",
       "      <th>Ametryn</th>\n",
       "      <td>0.000000e+00</td>\n",
       "      <td>0.000000e+00</td>\n",
       "      <td>0.000000e+00</td>\n",
       "    </tr>\n",
       "    <tr>\n",
       "      <th>Atrazine</th>\n",
       "      <td>0.000000e+00</td>\n",
       "      <td>0.000000e+00</td>\n",
       "      <td>0.000000e+00</td>\n",
       "    </tr>\n",
       "    <tr>\n",
       "      <th>Flow</th>\n",
       "      <td>5.618641e+08</td>\n",
       "      <td>4.826120e+08</td>\n",
       "      <td>2.044276e+08</td>\n",
       "    </tr>\n",
       "    <tr>\n",
       "      <th>N_DIN</th>\n",
       "      <td>1.076096e+05</td>\n",
       "      <td>9.206070e+04</td>\n",
       "      <td>3.776663e+04</td>\n",
       "    </tr>\n",
       "    <tr>\n",
       "      <th>N_DON</th>\n",
       "      <td>1.076096e+05</td>\n",
       "      <td>9.206070e+04</td>\n",
       "      <td>3.776663e+04</td>\n",
       "    </tr>\n",
       "    <tr>\n",
       "      <th>N_Particulate</th>\n",
       "      <td>5.110720e+13</td>\n",
       "      <td>5.409729e+05</td>\n",
       "      <td>5.182574e+05</td>\n",
       "    </tr>\n",
       "    <tr>\n",
       "      <th>P_DOP</th>\n",
       "      <td>9.987315e+04</td>\n",
       "      <td>8.674313e+04</td>\n",
       "      <td>3.633789e+04</td>\n",
       "    </tr>\n",
       "    <tr>\n",
       "      <th>P_FRP</th>\n",
       "      <td>9.987315e+04</td>\n",
       "      <td>8.674313e+04</td>\n",
       "      <td>3.633789e+04</td>\n",
       "    </tr>\n",
       "    <tr>\n",
       "      <th>P_Particulate</th>\n",
       "      <td>NaN</td>\n",
       "      <td>4.679476e+05</td>\n",
       "      <td>4.730726e+05</td>\n",
       "    </tr>\n",
       "    <tr>\n",
       "      <th>Sediment - Coarse</th>\n",
       "      <td>0.000000e+00</td>\n",
       "      <td>0.000000e+00</td>\n",
       "      <td>0.000000e+00</td>\n",
       "    </tr>\n",
       "    <tr>\n",
       "      <th>Sediment - Fine</th>\n",
       "      <td>5.633745e+06</td>\n",
       "      <td>5.092652e+06</td>\n",
       "      <td>4.534255e+06</td>\n",
       "    </tr>\n",
       "    <tr>\n",
       "      <th>Tebuthiuron</th>\n",
       "      <td>0.000000e+00</td>\n",
       "      <td>0.000000e+00</td>\n",
       "      <td>0.000000e+00</td>\n",
       "    </tr>\n",
       "  </tbody>\n",
       "</table>\n",
       "</div>"
      ],
      "text/plain": [
       "SummaryRegion             agbot         agmid         agtop\n",
       "Constituent                                                \n",
       "Ametryn            0.000000e+00  0.000000e+00  0.000000e+00\n",
       "Atrazine           0.000000e+00  0.000000e+00  0.000000e+00\n",
       "Flow               5.618641e+08  4.826120e+08  2.044276e+08\n",
       "N_DIN              1.076096e+05  9.206070e+04  3.776663e+04\n",
       "N_DON              1.076096e+05  9.206070e+04  3.776663e+04\n",
       "N_Particulate      5.110720e+13  5.409729e+05  5.182574e+05\n",
       "P_DOP              9.987315e+04  8.674313e+04  3.633789e+04\n",
       "P_FRP              9.987315e+04  8.674313e+04  3.633789e+04\n",
       "P_Particulate               NaN  4.679476e+05  4.730726e+05\n",
       "Sediment - Coarse  0.000000e+00  0.000000e+00  0.000000e+00\n",
       "Sediment - Fine    5.633745e+06  5.092652e+06  4.534255e+06\n",
       "Tebuthiuron        0.000000e+00  0.000000e+00  0.000000e+00"
      ]
     },
     "execution_count": 17,
     "metadata": {},
     "output_type": "execute_result"
    }
   ],
   "source": [
    "results_changed = gbr.Results('RUN_CHANGED_BANKHEIGHT')\n",
    "results_changed.queries.regional_export('t/y')"
   ]
  },
  {
   "cell_type": "code",
   "execution_count": 18,
   "metadata": {
    "collapsed": true
   },
   "outputs": [],
   "source": [
    "# Now that we've done both runs, we probably want to put the parameter back to normal...\n",
    "v.model.set(accessor,orig_bankheight_m,namespace=namespace,fromList=True)"
   ]
  },
  {
   "cell_type": "code",
   "execution_count": 19,
   "metadata": {
    "collapsed": false
   },
   "outputs": [
    {
     "data": {
      "text/plain": [
       "[12.7890768022743,\n",
       " 11.978887166312,\n",
       " 9.54718912372855,\n",
       " 10.5701815970102,\n",
       " 9.76408136712137,\n",
       " 2]"
      ]
     },
     "execution_count": 19,
     "metadata": {},
     "output_type": "execute_result"
    }
   ],
   "source": [
    "v.model.get(accessor,namespace=namespace)"
   ]
  },
  {
   "cell_type": "code",
   "execution_count": 20,
   "metadata": {
    "collapsed": false
   },
   "outputs": [
    {
     "data": {
      "text/html": [
       "<div>\n",
       "<table border=\"1\" class=\"dataframe\">\n",
       "  <thead>\n",
       "    <tr style=\"text-align: right;\">\n",
       "      <th>SummaryRegion</th>\n",
       "      <th>agbot</th>\n",
       "      <th>agmid</th>\n",
       "      <th>agtop</th>\n",
       "    </tr>\n",
       "    <tr>\n",
       "      <th>Constituent</th>\n",
       "      <th></th>\n",
       "      <th></th>\n",
       "      <th></th>\n",
       "    </tr>\n",
       "  </thead>\n",
       "  <tbody>\n",
       "    <tr>\n",
       "      <th>Ametryn</th>\n",
       "      <td>0.000000e+00</td>\n",
       "      <td>0.000000</td>\n",
       "      <td>0.000000</td>\n",
       "    </tr>\n",
       "    <tr>\n",
       "      <th>Atrazine</th>\n",
       "      <td>0.000000e+00</td>\n",
       "      <td>0.000000</td>\n",
       "      <td>0.000000</td>\n",
       "    </tr>\n",
       "    <tr>\n",
       "      <th>Flow</th>\n",
       "      <td>0.000000e+00</td>\n",
       "      <td>0.000000</td>\n",
       "      <td>0.000000</td>\n",
       "    </tr>\n",
       "    <tr>\n",
       "      <th>N_DIN</th>\n",
       "      <td>0.000000e+00</td>\n",
       "      <td>0.000000</td>\n",
       "      <td>0.000000</td>\n",
       "    </tr>\n",
       "    <tr>\n",
       "      <th>N_DON</th>\n",
       "      <td>0.000000e+00</td>\n",
       "      <td>0.000000</td>\n",
       "      <td>0.000000</td>\n",
       "    </tr>\n",
       "    <tr>\n",
       "      <th>N_Particulate</th>\n",
       "      <td>-5.110720e+13</td>\n",
       "      <td>-146001.815865</td>\n",
       "      <td>-249533.745627</td>\n",
       "    </tr>\n",
       "    <tr>\n",
       "      <th>P_DOP</th>\n",
       "      <td>0.000000e+00</td>\n",
       "      <td>0.000000</td>\n",
       "      <td>0.000000</td>\n",
       "    </tr>\n",
       "    <tr>\n",
       "      <th>P_FRP</th>\n",
       "      <td>0.000000e+00</td>\n",
       "      <td>0.000000</td>\n",
       "      <td>0.000000</td>\n",
       "    </tr>\n",
       "    <tr>\n",
       "      <th>P_Particulate</th>\n",
       "      <td>NaN</td>\n",
       "      <td>-193051.529709</td>\n",
       "      <td>-312426.580166</td>\n",
       "    </tr>\n",
       "    <tr>\n",
       "      <th>Sediment - Coarse</th>\n",
       "      <td>0.000000e+00</td>\n",
       "      <td>0.000000</td>\n",
       "      <td>0.000000</td>\n",
       "    </tr>\n",
       "    <tr>\n",
       "      <th>Sediment - Fine</th>\n",
       "      <td>-6.907438e+05</td>\n",
       "      <td>-1174913.672966</td>\n",
       "      <td>-2057763.633692</td>\n",
       "    </tr>\n",
       "    <tr>\n",
       "      <th>Tebuthiuron</th>\n",
       "      <td>0.000000e+00</td>\n",
       "      <td>0.000000</td>\n",
       "      <td>0.000000</td>\n",
       "    </tr>\n",
       "  </tbody>\n",
       "</table>\n",
       "</div>"
      ],
      "text/plain": [
       "SummaryRegion             agbot           agmid           agtop\n",
       "Constituent                                                    \n",
       "Ametryn            0.000000e+00        0.000000        0.000000\n",
       "Atrazine           0.000000e+00        0.000000        0.000000\n",
       "Flow               0.000000e+00        0.000000        0.000000\n",
       "N_DIN              0.000000e+00        0.000000        0.000000\n",
       "N_DON              0.000000e+00        0.000000        0.000000\n",
       "N_Particulate     -5.110720e+13  -146001.815865  -249533.745627\n",
       "P_DOP              0.000000e+00        0.000000        0.000000\n",
       "P_FRP              0.000000e+00        0.000000        0.000000\n",
       "P_Particulate               NaN  -193051.529709  -312426.580166\n",
       "Sediment - Coarse  0.000000e+00        0.000000        0.000000\n",
       "Sediment - Fine   -6.907438e+05 -1174913.672966 -2057763.633692\n",
       "Tebuthiuron        0.000000e+00        0.000000        0.000000"
      ]
     },
     "execution_count": 20,
     "metadata": {},
     "output_type": "execute_result"
    }
   ],
   "source": [
    "# Now... Lets run a results comparison...\n",
    "differences = gbr.DifferenceResults('RUN_ORIGINAL_BANKHEIGHT','RUN_CHANGED_BANKHEIGHT')\n",
    "differences.queries.regional_export('t/y')"
   ]
  },
  {
   "cell_type": "code",
   "execution_count": null,
   "metadata": {
    "collapsed": true
   },
   "outputs": [],
   "source": []
  }
 ],
 "metadata": {
  "kernelspec": {
   "display_name": "Python 3",
   "language": "python",
   "name": "python3"
  },
  "language_info": {
   "codemirror_mode": {
    "name": "ipython",
    "version": 3
   },
   "file_extension": ".py",
   "mimetype": "text/x-python",
   "name": "python",
   "nbconvert_exporter": "python",
   "pygments_lexer": "ipython3",
   "version": "3.4.3"
  }
 },
 "nbformat": 4,
 "nbformat_minor": 0
}
