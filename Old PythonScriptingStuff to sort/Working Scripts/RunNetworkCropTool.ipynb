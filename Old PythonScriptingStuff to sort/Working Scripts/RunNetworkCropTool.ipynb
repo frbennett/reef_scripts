{
 "cells": [
  {
   "cell_type": "code",
   "execution_count": 16,
   "metadata": {
    "collapsed": true
   },
   "outputs": [],
   "source": [
    "# Some steps required until these Python modules are properly installed...\n",
    "import sys\n",
    "sys.path.append('../Modules')\n",
    "sys.path.append('../../../../veneer-py')\n",
    "# Get the Source scripting components (veneer) and GBR specific stuff\n",
    "import gbr"
   ]
  },
  {
   "cell_type": "code",
   "execution_count": 17,
   "metadata": {
    "collapsed": true
   },
   "outputs": [],
   "source": [
    "# Point the system at a particular output directory...\n",
    "gbr.init('D:/Beckers/outputs/Scenario 1/')"
   ]
  },
  {
   "cell_type": "code",
   "execution_count": 18,
   "metadata": {
    "collapsed": true
   },
   "outputs": [],
   "source": [
    "# Initialise the Veneer (Source scripting tool)\n",
    "v = gbr.veneer()"
   ]
  },
  {
   "cell_type": "code",
   "execution_count": 19,
   "metadata": {
    "collapsed": false
   },
   "outputs": [
    {
     "data": {
      "text/plain": [
       "['link for catchment SC #1',\n",
       " 'link for catchment SC #2',\n",
       " 'link for catchment SC #3',\n",
       " 'link for catchment SC #4',\n",
       " 'link for catchment SC #5',\n",
       " 'Link #1']"
      ]
     },
     "execution_count": 19,
     "metadata": {},
     "output_type": "execute_result"
    }
   ],
   "source": [
    "v.model.get('scenario.Network.Links.*Name')"
   ]
  },
  {
   "cell_type": "code",
   "execution_count": null,
   "metadata": {
    "collapsed": true
   },
   "outputs": [],
   "source": []
  },
  {
   "cell_type": "code",
   "execution_count": 20,
   "metadata": {
    "collapsed": true
   },
   "outputs": [],
   "source": [
    "script=\"\"\"\n",
    "from Dynamic_SedNet.Tools.Utilities import TrimNetworkOfLinks_Form\n",
    "form = TrimNetworkOfLinks_Form()\n",
    "form.Scenario = scenario\n",
    "link = scenario.Network.LinkWithName('%s')\n",
    "form.ExtractUpstreamOf(link)\n",
    "\"\"\""
   ]
  },
  {
   "cell_type": "code",
   "execution_count": 21,
   "metadata": {
    "collapsed": false
   },
   "outputs": [
    {
     "data": {
      "text/plain": [
       "{'Exception': {'ExceptionType': 'System.NullReferenceException',\n",
       "  'InnerException': None,\n",
       "  'Message': 'Object reference not set to an instance of an object.',\n",
       "  'StackTrace': '   at Dynamic_SedNet.Tools.Utilities.TrimNetworkOfLinks_Form.removeCatchmentFromScenario(Catchment cat)\\r\\n   at Dynamic_SedNet.Tools.Utilities.TrimNetworkOfLinks_Form.removeEverythingUpstreamOfAndIncludingLink(Link l)\\r\\n   at Dynamic_SedNet.Tools.Utilities.TrimNetworkOfLinks_Form.DoExtraction()\\r\\n   at Dynamic_SedNet.Tools.Utilities.TrimNetworkOfLinks_Form.removeElements(Boolean showBox)\\r\\n   at Dynamic_SedNet.Tools.Utilities.TrimNetworkOfLinks_Form.ExtractUpstreamOf(Link linkToKeep, Boolean showBox)\\r\\n   at Microsoft.Scripting.Interpreter.ActionCallInstruction`3.Run(InterpretedFrame frame)\\r\\n   at Microsoft.Scripting.Interpreter.Interpreter.Run(InterpretedFrame frame)\\r\\n   at Microsoft.Scripting.Interpreter.LightLambda.Run4[T0,T1,T2,T3,TRet](T0 arg0, T1 arg1, T2 arg2, T3 arg3)\\r\\n   at System.Dynamic.UpdateDelegates.UpdateAndExecute3[T0,T1,T2,TRet](CallSite site, T0 arg0, T1 arg1, T2 arg2)\\r\\n   at Microsoft.Scripting.Interpreter.DynamicInstruction`4.Run(InterpretedFrame frame)\\r\\n   at Microsoft.Scripting.Interpreter.Interpreter.Run(InterpretedFrame frame)\\r\\n   at Microsoft.Scripting.Interpreter.LightLambda.Run2[T0,T1,TRet](T0 arg0, T1 arg1)\\r\\n   at IronPython.Compiler.PythonScriptCode.RunWorker(CodeContext ctx)\\r\\n   at Microsoft.Scripting.Hosting.ScriptSource.Execute(ScriptScope scope)\\r\\n   at Microsoft.Scripting.Hosting.ScriptSource.Execute[T](ScriptScope scope)\\r\\n   at FlowMatters.Source.Veneer.RemoteScripting.ScriptRunner.Run(IronPythonScript script) in d:\\\\src\\\\projects\\\\Veneer\\\\RemoteScripting\\\\ScriptRunner.cs:line 47'},\n",
       " 'Response': None,\n",
       " 'StandardError': '',\n",
       " 'StandardOut': ''}"
      ]
     },
     "execution_count": 21,
     "metadata": {},
     "output_type": "execute_result"
    }
   ],
   "source": [
    "v.model.runScript(script%'link for catchment SC #2')"
   ]
  },
  {
   "cell_type": "code",
   "execution_count": null,
   "metadata": {
    "collapsed": true
   },
   "outputs": [],
   "source": []
  },
  {
   "cell_type": "code",
   "execution_count": null,
   "metadata": {
    "collapsed": true
   },
   "outputs": [],
   "source": []
  }
 ],
 "metadata": {
  "kernelspec": {
   "display_name": "Python 3",
   "language": "python",
   "name": "python3"
  },
  "language_info": {
   "codemirror_mode": {
    "name": "ipython",
    "version": 3
   },
   "file_extension": ".py",
   "mimetype": "text/x-python",
   "name": "python",
   "nbconvert_exporter": "python",
   "pygments_lexer": "ipython3",
   "version": "3.4.3"
  }
 },
 "nbformat": 4,
 "nbformat_minor": 0
}
