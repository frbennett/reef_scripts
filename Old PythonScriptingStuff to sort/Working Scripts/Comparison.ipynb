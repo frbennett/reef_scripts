{
 "cells": [
  {
   "cell_type": "code",
   "execution_count": 26,
   "metadata": {
    "collapsed": false
   },
   "outputs": [
    {
     "name": "stdout",
     "output_type": "stream",
     "text": [
      "Populating the interactive namespace from numpy and matplotlib\n"
     ]
    }
   ],
   "source": [
    "# Some steps required until these Python modules are properly installed...\n",
    "import sys\n",
    "sys.path.append('../Modules')\n",
    "sys.path.append('../../../../veneer-py')\n",
    "# Get the Source scripting components (veneer) and GBR specific stuff\n",
    "import veneer\n",
    "import gbr\n",
    "%pylab inline"
   ]
  },
  {
   "cell_type": "code",
   "execution_count": 27,
   "metadata": {
    "collapsed": false
   },
   "outputs": [
    {
     "data": {
      "text/plain": [
       "['Beta3810']"
      ]
     },
     "execution_count": 27,
     "metadata": {},
     "output_type": "execute_result"
    }
   ],
   "source": [
    "gbr.init('E:/Beckers/Output/Scenario 1/')\n",
    "gbr.available()"
   ]
  },
  {
   "cell_type": "code",
   "execution_count": 28,
   "metadata": {
    "collapsed": false
   },
   "outputs": [],
   "source": [
    "results = gbr.Results('Beta3810')"
   ]
  },
  {
   "cell_type": "code",
   "execution_count": 29,
   "metadata": {
    "collapsed": false
   },
   "outputs": [
    {
     "data": {
      "text/html": [
       "<div>\n",
       "<table border=\"1\" class=\"dataframe\">\n",
       "  <thead>\n",
       "    <tr style=\"text-align: right;\">\n",
       "      <th></th>\n",
       "      <th>Constituent</th>\n",
       "      <th>Ametryn</th>\n",
       "      <th>Atrazine</th>\n",
       "      <th>Flow</th>\n",
       "      <th>N_DIN</th>\n",
       "      <th>N_DON</th>\n",
       "      <th>N_Particulate</th>\n",
       "      <th>P_DOP</th>\n",
       "      <th>P_FRP</th>\n",
       "      <th>P_Particulate</th>\n",
       "      <th>Sediment - Coarse</th>\n",
       "      <th>Sediment - Fine</th>\n",
       "      <th>Tebuthiuron</th>\n",
       "    </tr>\n",
       "    <tr>\n",
       "      <th>ModelElement</th>\n",
       "      <th>ValueType</th>\n",
       "      <th></th>\n",
       "      <th></th>\n",
       "      <th></th>\n",
       "      <th></th>\n",
       "      <th></th>\n",
       "      <th></th>\n",
       "      <th></th>\n",
       "      <th></th>\n",
       "      <th></th>\n",
       "      <th></th>\n",
       "      <th></th>\n",
       "      <th></th>\n",
       "    </tr>\n",
       "  </thead>\n",
       "  <tbody>\n",
       "    <tr>\n",
       "      <th>SC #1</th>\n",
       "      <th>Predicted</th>\n",
       "      <td>0</td>\n",
       "      <td>0</td>\n",
       "      <td>562448.908866</td>\n",
       "      <td>107730.812223</td>\n",
       "      <td>107730.812223</td>\n",
       "      <td>378596.253612</td>\n",
       "      <td>99989.353833</td>\n",
       "      <td>99989.353833</td>\n",
       "      <td>349275.258594</td>\n",
       "      <td>0</td>\n",
       "      <td>3224.776944</td>\n",
       "      <td>0</td>\n",
       "    </tr>\n",
       "    <tr>\n",
       "      <th>SC #3</th>\n",
       "      <th>Predicted</th>\n",
       "      <td>0</td>\n",
       "      <td>0</td>\n",
       "      <td>113064.519313</td>\n",
       "      <td>21613.596546</td>\n",
       "      <td>21613.596546</td>\n",
       "      <td>188480.962836</td>\n",
       "      <td>20377.664188</td>\n",
       "      <td>20377.664188</td>\n",
       "      <td>51162.920923</td>\n",
       "      <td>0</td>\n",
       "      <td>1543.903259</td>\n",
       "      <td>0</td>\n",
       "    </tr>\n",
       "    <tr>\n",
       "      <th>SC #1</th>\n",
       "      <th>Observed</th>\n",
       "      <td>0</td>\n",
       "      <td>0</td>\n",
       "      <td>3421660.439428</td>\n",
       "      <td>655380.875456</td>\n",
       "      <td>655380.875456</td>\n",
       "      <td>2303191.993228</td>\n",
       "      <td>608285.678895</td>\n",
       "      <td>608285.678895</td>\n",
       "      <td>2124817.589583</td>\n",
       "      <td>0</td>\n",
       "      <td>19617.944885</td>\n",
       "      <td>0</td>\n",
       "    </tr>\n",
       "    <tr>\n",
       "      <th>SC #3</th>\n",
       "      <th>Observed</th>\n",
       "      <td>0</td>\n",
       "      <td>0</td>\n",
       "      <td>687828.506265</td>\n",
       "      <td>131486.410744</td>\n",
       "      <td>131486.410744</td>\n",
       "      <td>1146624.775964</td>\n",
       "      <td>123967.610746</td>\n",
       "      <td>123967.610746</td>\n",
       "      <td>311249.857057</td>\n",
       "      <td>0</td>\n",
       "      <td>9392.342346</td>\n",
       "      <td>0</td>\n",
       "    </tr>\n",
       "  </tbody>\n",
       "</table>\n",
       "</div>"
      ],
      "text/plain": [
       "Constituent             Ametryn  Atrazine            Flow          N_DIN  \\\n",
       "ModelElement ValueType                                                     \n",
       "SC #1        Predicted        0         0   562448.908866  107730.812223   \n",
       "SC #3        Predicted        0         0   113064.519313   21613.596546   \n",
       "SC #1        Observed         0         0  3421660.439428  655380.875456   \n",
       "SC #3        Observed         0         0   687828.506265  131486.410744   \n",
       "\n",
       "Constituent                     N_DON   N_Particulate          P_DOP  \\\n",
       "ModelElement ValueType                                                 \n",
       "SC #1        Predicted  107730.812223   378596.253612   99989.353833   \n",
       "SC #3        Predicted   21613.596546   188480.962836   20377.664188   \n",
       "SC #1        Observed   655380.875456  2303191.993228  608285.678895   \n",
       "SC #3        Observed   131486.410744  1146624.775964  123967.610746   \n",
       "\n",
       "Constituent                     P_FRP   P_Particulate  Sediment - Coarse  \\\n",
       "ModelElement ValueType                                                     \n",
       "SC #1        Predicted   99989.353833   349275.258594                  0   \n",
       "SC #3        Predicted   20377.664188    51162.920923                  0   \n",
       "SC #1        Observed   608285.678895  2124817.589583                  0   \n",
       "SC #3        Observed   123967.610746   311249.857057                  0   \n",
       "\n",
       "Constituent             Sediment - Fine  Tebuthiuron  \n",
       "ModelElement ValueType                                \n",
       "SC #1        Predicted      3224.776944            0  \n",
       "SC #3        Predicted      1543.903259            0  \n",
       "SC #1        Observed      19617.944885            0  \n",
       "SC #3        Observed       9392.342346            0  "
      ]
     },
     "execution_count": 29,
     "metadata": {},
     "output_type": "execute_result"
    }
   ],
   "source": [
    "results.queries.compare_mean_annual_loads('observed_loads.csv', ['SC #1', 'SC #3'])"
   ]
  },
  {
   "cell_type": "code",
   "execution_count": 30,
   "metadata": {
    "collapsed": true
   },
   "outputs": [],
   "source": [
    "comparison = _"
   ]
  },
  {
   "cell_type": "code",
   "execution_count": 31,
   "metadata": {
    "collapsed": false
   },
   "outputs": [
    {
     "data": {
      "text/plain": [
       "<matplotlib.axes._subplots.AxesSubplot at 0xb20b588>"
      ]
     },
     "execution_count": 31,
     "metadata": {},
     "output_type": "execute_result"
    },
    {
     "data": {
      "image/png": "[encoded data removed]",
      "text/plain": [
       "<matplotlib.figure.Figure at 0xb01ed30>"
      ]
     },
     "metadata": {},
     "output_type": "display_data"
    },
    {
     "data": {
      "image/png": "[encoded data removed]",
      "text/plain": [
       "<matplotlib.figure.Figure at 0xae76c18>"
      ]
     },
     "metadata": {},
     "output_type": "display_data"
    }
   ],
   "source": [
    "comparison.ix['SC #1'].transpose().plot(kind='bar',title=\"SC #1\",layout=(1,2))\n",
    "comparison.ix['SC #3'].transpose().plot(kind='bar',title=\"SC #3\",layout=(1,2))\n"
   ]
  },
  {
   "cell_type": "code",
   "execution_count": 32,
   "metadata": {
    "collapsed": true
   },
   "outputs": [],
   "source": [
    "comparison.plot?"
   ]
  },
  {
   "cell_type": "code",
   "execution_count": 33,
   "metadata": {
    "collapsed": false
   },
   "outputs": [
    {
     "data": {
      "text/plain": [
       "<matplotlib.axes._subplots.AxesSubplot at 0xb2ffe80>"
      ]
     },
     "execution_count": 33,
     "metadata": {},
     "output_type": "execute_result"
    },
    {
     "data": {
      "image/png": "[encoded data removed]",
      "text/plain": [
       "<matplotlib.figure.Figure at 0xb4a31d0>"
      ]
     },
     "metadata": {},
     "output_type": "display_data"
    }
   ],
   "source": [
    "comparison['Sediment - Fine'].plot(kind='bar')"
   ]
  },
  {
   "cell_type": "code",
   "execution_count": null,
   "metadata": {
    "collapsed": true
   },
   "outputs": [],
   "source": []
  }
 ],
 "metadata": {
  "kernelspec": {
   "display_name": "Python 3",
   "language": "python",
   "name": "python3"
  },
  "language_info": {
   "codemirror_mode": {
    "name": "ipython",
    "version": 3
   },
   "file_extension": ".py",
   "mimetype": "text/x-python",
   "name": "python",
   "nbconvert_exporter": "python",
   "pygments_lexer": "ipython3",
   "version": "3.5.1"
  }
 },
 "nbformat": 4,
 "nbformat_minor": 0
}
