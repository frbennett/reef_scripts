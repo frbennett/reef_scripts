{
 "cells": [
  {
   "cell_type": "code",
   "execution_count": 1,
   "metadata": {
    "collapsed": false
   },
   "outputs": [
    {
     "name": "stdout",
     "output_type": "stream",
     "text": [
      "Exception reporting mode: Verbose\n"
     ]
    }
   ],
   "source": [
    "from veneer.manage import start, create_command_line, kill_all_now\n",
    "import veneer\n",
    "import pandas as pd\n",
    "%matplotlib inline\n",
    "%xmode Verbose\n",
    "import gc "
   ]
  },
  {
   "cell_type": "code",
   "execution_count": 2,
   "metadata": {
    "collapsed": false
   },
   "outputs": [],
   "source": [
    "# I will put this here just for reference, this cell can be run to shutdown all of the veneer instatiated source models\n",
    "#kill_all_now(processes)"
   ]
  },
  {
   "cell_type": "markdown",
   "metadata": {},
   "source": [
    "Read in some data sets"
   ]
  },
  {
   "cell_type": "code",
   "execution_count": 3,
   "metadata": {
    "collapsed": true
   },
   "outputs": [],
   "source": [
    "plane_creek = pd.read_csv('Plane_Creek.csv')\n",
    "plane_creek_subcatchments = plane_creek['sub_catchments'].tolist()\n",
    "plane_creek_links = plane_creek['links'].tolist()"
   ]
  },
  {
   "cell_type": "markdown",
   "metadata": {},
   "source": [
    "## Setup veneer"
   ]
  },
  {
   "cell_type": "code",
   "execution_count": 4,
   "metadata": {
    "collapsed": true
   },
   "outputs": [],
   "source": [
    "## define paths to veneer command and the catchment project\n",
    "#path = 'C:\\\\Users\\\\bennettf\\\\Desktop\\\\vcmd\\\\FlowMatters.Source.VeneerCmd.exe'\n",
    "##catchment_project path\n",
    "\n",
    "#Rob\n",
    "veneer_install = 'D:/PythonScriptingForGBR/VeneerPlugin/v411'\n",
    "#source_version = '4.1.1'\n",
    "#By specifying source_path I can use my local Source compilation/code, using source_version above uses tyhe sinatlled version\n",
    "source_pathstr = 'D:/SourceSource/Output'\n",
    "cmd_directory = 'C:/tempveneer/veneer_cmd'\n",
    "#dest = 'C:\\\\tempveneer\\\\veneer_cmd'\n",
    "#path = create_command_line(veneer_install,source_version,dest=cmd_directory)\n",
    "path = create_command_line(veneer_install,source_version=None,source_path=source_pathstr,dest=cmd_directory)\n",
    "path\n",
    "##End Rob\n",
    "\n",
    "\n",
    "\n",
    "#catchment_project='D:/PythonScriptingForGBR/reef_scripts/FredTest/source_model/MW_RC7_Hydro.rsproj'\n",
    "catchment_project='P:/projects/RC8_ResultsSets/MW/MW_BASE_RC8_Rob.rsproj'\n",
    "\n",
    "# Number of instances to open\n",
    "num_copies=1    # Important - set this to be a number ~ the number of CPU cores in your system!\n",
    "first_port=9950"
   ]
  },
  {
   "cell_type": "code",
   "execution_count": 5,
   "metadata": {
    "collapsed": false
   },
   "outputs": [
    {
     "name": "stdout",
     "output_type": "stream",
     "text": [
      "Starting C:\\tempveneer\\veneer_cmd\\FlowMatters.Source.VeneerCmd.exe -p 9950 -s  P:\\projects\\RC8_ResultsSets\\MW\\MW_BASE_RC8_Rob.rsproj\n",
      "[0] Loading plugins\n",
      "\n",
      "[0] Loaded C:\\Program Files\\eWater\\Source 4.1.1.4513\\Plugins\\DERMTools.dll\n",
      "\n",
      "[0] Loaded C:\\Program Files\\eWater\\Source 4.1.1.4513\\Plugins\\Dynamic_SedNet.dll\n",
      "\n",
      "[0] Loaded C:\\Program Files\\eWater\\Source 4.1.1.4513\\Plugins\\GBR_DynSed_Extension.dll\n",
      "\n",
      "[0] Loaded D:\\PythonScriptingForGBR\\VeneerPlugin\\v411\\FlowMatters.Source.Veneer.dll\n",
      "\n",
      "[0] Plugins loaded (4/4)\n",
      "\n",
      "[0] Opening project file: P:\\projects\\RC8_ResultsSets\\MW\\MW_BASE_RC8_Rob.rsproj\n",
      "\n",
      "ERROR[0] log4net:ERROR Failed to find configuration section 'log4net' in the application's .config file. Check your .config file for the <log4net> and <configSections> elements. The configuration section should look like: <section name=\"log4net\" type=\"log4net.Config.Log4NetConfigurationSectionHandler,log4net\" />\n",
      "\n",
      "[0] Loading project\n",
      "\n",
      "[0] Project Loaded\n",
      "\n",
      "[0] MW_DS_2015\n",
      "\n",
      "[0] MW_DS_2015\n",
      "\n",
      "[0] [3:28:05 PM] Veneer, by Flow Matters: http://www.flowmatters.com.au\n",
      "\n",
      "[0] [3:28:05 PM] Started Source RESTful Service on port:9950\n",
      "\n",
      "Server 0 on port 9950 is ready\n",
      "[0] Server started. Ctrl-C to exit, or POST /shutdown command\n",
      "\n"
     ]
    }
   ],
   "source": [
    "#Now, go ahead and start source\n",
    "processes,ports = start(catchment_project,\n",
    "                        n_instances=num_copies,\n",
    "                        ports=first_port,\n",
    "                        debug=True,\n",
    "                        veneer_exe=path,\n",
    "                        remote=False )"
   ]
  },
  {
   "cell_type": "markdown",
   "metadata": {},
   "source": [
    "Assign veneer clients"
   ]
  },
  {
   "cell_type": "code",
   "execution_count": 6,
   "metadata": {
    "collapsed": true
   },
   "outputs": [],
   "source": [
    "vs = [veneer.Veneer(port=p) for p in ports]\n",
    "v = vs[0]"
   ]
  },
  {
   "cell_type": "markdown",
   "metadata": {},
   "source": [
    "Ok, we have the list, now define the ones we want to investigate"
   ]
  },
  {
   "cell_type": "markdown",
   "metadata": {},
   "source": [
    "Setup details to write parameters and read outputs "
   ]
  },
  {
   "cell_type": "code",
   "execution_count": 7,
   "metadata": {
    "collapsed": true
   },
   "outputs": [],
   "source": [
    "current_node = 'gauge_126002A_PlaneCkSarina' \n",
    "parameters = pd.read_csv('parameters.csv')\n",
    "v.configure_recording(disable=[{}],enable=[{'RecordingVariable':'Downstream Flow Volume', 'NetworkElement':current_node}])\n",
    "v.configure_recording(enable=[{'RecordingVariable':'Outflow', 'NetworkElement':'SC #160'}])\n",
    "v.configure_recording(enable=[{'RecordingVariable':'Slow Flow', 'NetworkElement':'SC #160'}])\n"
   ]
  },
  {
   "cell_type": "markdown",
   "metadata": {
    "collapsed": true
   },
   "source": [
    "Ok, that should do it, let's go"
   ]
  },
  {
   "cell_type": "code",
   "execution_count": null,
   "metadata": {
    "collapsed": false,
    "scrolled": true
   },
   "outputs": [
    {
     "name": "stdout",
     "output_type": "stream",
     "text": [
      "Garbage collector: collected 0 objects.\n",
      "current set :  1\n",
      "current set water :  [0.74636955500000002, 221.41435079999999, 22.796852650000002, 1.5439575569999999, 703.68778350000002]\n",
      "current set conservation :  [1.2813660709999999, 101.64008879999999, 92.099758379999997, 4.3867658369999996, 486.78510520000003]\n",
      "==============================================\n",
      "Garbage collector: collected 75 objects.\n",
      "current set :  2\n",
      "current set water :  [1.2292846399999999, 133.141423, 82.142497480000003, 1.5012330040000001, 773.52462329999992]\n",
      "current set conservation :  [0.71524897099999996, 150.84645940000001, 56.709774580000001, 3.0432114549999998, 99.803511510000007]\n",
      "==============================================\n"
     ]
    }
   ],
   "source": [
    "#names = list(parameters.columns.values)\n",
    "names = ['Uzk','Uztwm', 'Uzfwm','Rexp','Lztwm']\n",
    "num_params = len(names)\n",
    "for index, row in parameters.iterrows():\n",
    "    \n",
    "    # Start iteration with a bit of house keeping\n",
    "    collected = gc.collect()\n",
    "    print(\"Garbage collector: collected %d objects.\" % (collected))\n",
    "    \n",
    "    current_set = str(int(row['Set']))\n",
    "    current_params_water = []\n",
    "    current_params_conservation = []\n",
    "    for name in names:\n",
    "        current_params_water.append(row[name+'_1'])\n",
    "        current_params_conservation.append(row[name+'_2'])\n",
    "    print('current set : ', current_set)\n",
    "    print('current set water : ', current_params_water)\n",
    "    print('current set conservation : ', current_params_conservation)\n",
    "    print('==============================================')\n",
    "    \n",
    "    for i in range(0,num_params):\n",
    "        v.model.catchment.runoff.set_param_values(names[i], current_params_water[i] ,catchments = plane_creek_subcatchments, fus = 'Water')\n",
    "        v.model.catchment.runoff.set_param_values(names[i], current_params_conservation[i] ,catchments = plane_creek_subcatchments, fus = 'Conservation')\n",
    "    #run model\n",
    "    v.run_model(params={'NoHardCopyResults':True},start=\"01/07/1986\",end=\"30/06/1988\") \n",
    "    \n",
    "    output_file_name = 'ds_' + current_set + '.csv'\n",
    "    current_time_series = v.retrieve_multiple_time_series(criteria={'RecordingVariable':'Downstream Flow Volume','NetworkElement':current_node})\n",
    "    slow_flow = v.retrieve_multiple_time_series(criteria={'RecordingVariable':'Slow Flow','NetworkElement':'SC #160'})['SC #160:Slow Flow']\n",
    "    outflow = v.retrieve_multiple_time_series(criteria={'RecordingVariable':'Outflow','NetworkElement':'SC #160'})['SC #160:Outflow']\n",
    "    current_time_series = current_time_series.truncate(after='1988-09-30', before='1972-10-19')\n",
    "    current_time_series.to_csv('data_out/' + output_file_name)\n",
    "    slow_flow.to_csv('data_out/slowflow/' + output_file_name)\n",
    "    outflow.to_csv('data_out/outflow/' + output_file_name)\n",
    "\n",
    "\n"
   ]
  },
  {
   "cell_type": "code",
   "execution_count": null,
   "metadata": {
    "collapsed": true
   },
   "outputs": [],
   "source": []
  }
 ],
 "metadata": {
  "anaconda-cloud": {},
  "kernelspec": {
   "display_name": "Python [default]",
   "language": "python",
   "name": "python3"
  },
  "language_info": {
   "codemirror_mode": {
    "name": "ipython",
    "version": 3
   },
   "file_extension": ".py",
   "mimetype": "text/x-python",
   "name": "python",
   "nbconvert_exporter": "python",
   "pygments_lexer": "ipython3",
   "version": "3.5.2"
  }
 },
 "nbformat": 4,
 "nbformat_minor": 2
}
